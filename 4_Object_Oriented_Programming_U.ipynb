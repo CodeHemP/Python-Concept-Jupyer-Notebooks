{
  "nbformat": 4,
  "nbformat_minor": 0,
  "metadata": {
    "colab": {
      "name": "4_Object_Oriented_Programming_U.ipynb",
      "provenance": [],
      "collapsed_sections": [],
      "authorship_tag": "ABX9TyP1AQ4yi/mDgOKanJ4DEz44",
      "include_colab_link": true
    },
    "kernelspec": {
      "name": "python3",
      "display_name": "Python 3"
    }
  },
  "cells": [
    {
      "cell_type": "markdown",
      "metadata": {
        "id": "view-in-github",
        "colab_type": "text"
      },
      "source": [
        "<a href=\"https://colab.research.google.com/github/mohd-faizy/My_Python_Notebooks_Concept/blob/master/4_Object_Oriented_Programming_U.ipynb\" target=\"_parent\"><img src=\"https://colab.research.google.com/assets/colab-badge.svg\" alt=\"Open In Colab\"/></a>"
      ]
    },
    {
      "cell_type": "markdown",
      "metadata": {
        "id": "7lf_rPHtwiE1",
        "colab_type": "text"
      },
      "source": [
        "# $\\color{green}{\\textbf{Object Oriented Programming}}$ :\n",
        "\n"
      ]
    },
    {
      "cell_type": "markdown",
      "metadata": {
        "id": "0LUi2SaUJuF3",
        "colab_type": "text"
      },
      "source": [
        "$\\color{green}{\\textbf{Objects}}$:\n",
        "\n",
        "In Python, *everything is an object*.\n",
        "\n",
        "we can use `type() `to check the type of object something is:"
      ]
    },
    {
      "cell_type": "code",
      "metadata": {
        "id": "gj8YODAXKBvE",
        "colab_type": "code",
        "colab": {
          "base_uri": "https://localhost:8080/",
          "height": 87
        },
        "outputId": "718d95f0-7f68-4450-cf8c-95be0d642300"
      },
      "source": [
        "print(type(1))\n",
        "print(type([]))\n",
        "print(type(()))\n",
        "print(type({}))"
      ],
      "execution_count": 1,
      "outputs": [
        {
          "output_type": "stream",
          "text": [
            "<class 'int'>\n",
            "<class 'list'>\n",
            "<class 'tuple'>\n",
            "<class 'dict'>\n"
          ],
          "name": "stdout"
        }
      ]
    },
    {
      "cell_type": "markdown",
      "metadata": {
        "id": "68ubUaDwhOzO",
        "colab_type": "text"
      },
      "source": [
        "\n",
        "- It allows the programmer to create their own __Objects__ that have $\\rightarrow$ __Methods__ and $\\rightarrow$  __Attributs__.\n",
        "\n",
        "\n",
        "- __OOP's__ combine __data__ and __functionality__ and wrap it inside something called an **object**.\n",
        "\n",
        "- Objects can store data using ordinary variables that belong to the object.\n",
        "\n",
        "\n",
        "- An **object** has two characteristics:\n",
        "\n",
        " - **Attributes**\n",
        " - **Behavior**\n",
        "\n",
        " > *A parrot is can be an __object__,as it has the following properties:*\n",
        " - name, age, color as **attributes**\n",
        " - singing, dancing as **behavior**\n",
        "\n",
        "\n",
        "\n"
      ]
    },
    {
      "cell_type": "markdown",
      "metadata": {
        "id": "dHmJIXm0HZmy",
        "colab_type": "text"
      },
      "source": [
        "<center><img src = 'https://media.geeksforgeeks.org/wp-content/uploads/Blank-Diagram-Page-1-3.png'></center>"
      ]
    },
    {
      "cell_type": "markdown",
      "metadata": {
        "id": "nN4BKutZ8fKr",
        "colab_type": "text"
      },
      "source": [
        "$\\color{green}{\\textbf{Method}}$:\n",
        "\n",
        "- ***Method is a Function inside the class***\n",
        "\n",
        "- These __method__ acts as __functions__ that uses information about the object. __Methods__ is basically the actions we perform on the objects we created. So __Methods__ are functions essentially defined inside the body of the class & they perform the operations that sometimes utilize the actul attribute of the __object__ we created.\n",
        "\n",
        "- So __Method__ can be think of as functions acting on an object that take the object itself into account, through the use of `self `argument.\n",
        "\n",
        "- OPPs allows us to write a code that is repetable and organised.\n",
        "\n",
        "- For __larger scripts__ of python code, __functions__ by themselves aren't enough for oragnization and repeatability.\n",
        "\n",
        "- Commonly repeated tasks and objects can be defined with OOP's to create code that is more usable.\n"
      ]
    },
    {
      "cell_type": "markdown",
      "metadata": {
        "id": "NQIypks0Nvgk",
        "colab_type": "text"
      },
      "source": [
        "$\\color{green}{\\textbf{Class}}$ :"
      ]
    },
    {
      "cell_type": "markdown",
      "metadata": {
        "id": "pwJkN30LNzi9",
        "colab_type": "text"
      },
      "source": [
        "Classes are used to create new **user-defined data structures** called __Object__ that contain arbitrary information about something.\n",
        "\n",
        "> We can think of class as a sketch of a parrot with labels. It contains all the details about the **name, colors, size** etc. Based on these descriptions, we can study about the parrot. Here, a parrot is an object.\n",
        "\n"
      ]
    },
    {
      "cell_type": "markdown",
      "metadata": {
        "id": "AwYt56NSPGWB",
        "colab_type": "text"
      },
      "source": [
        "```\n",
        "class Parrot:\n",
        "    pass\n",
        "```\n",
        "Here, we use the `class `keyword to define an empty `class` Parrot. From `class`, we construct **instances**.\n",
        "\n",
        "\n",
        "__INSTANCE__\n",
        "\n",
        "> An **instance** is a specific object created from a particular `class.`\n"
      ]
    },
    {
      "cell_type": "markdown",
      "metadata": {
        "id": "18ueScWTLtos",
        "colab_type": "text"
      },
      "source": [
        "User defined objects are created using the <code>class</code> keyword. The class is a blueprint that defines the nature of a future object. From classes we can construct instances. An instance is a specific object created from a particular class. For example, above we created the object <code>lst</code> which was an instance of a list object. \n",
        "\n",
        "Let see how we can use <code>class</code>:"
      ]
    },
    {
      "cell_type": "code",
      "metadata": {
        "id": "h_RFXmFzL8mb",
        "colab_type": "code",
        "colab": {}
      },
      "source": [
        "# Create a new object type called Sample\n",
        "class Sample:\n",
        "    pass\n",
        "\n",
        "# Instance of Sample\n",
        "x = Sample()\n",
        "\n",
        "print(type(x))"
      ],
      "execution_count": null,
      "outputs": []
    },
    {
      "cell_type": "markdown",
      "metadata": {
        "id": "T10XStmNNhxU",
        "colab_type": "text"
      },
      "source": [
        "Inside of the class we currently just have pass. But we can define class attributes and methods.\n",
        "\n",
        "An **attribute** is a characteristic of an object.\n",
        "\n",
        "A **method** is an operation we can perform with the object.\n",
        "\n",
        "For example, we can create a class called Dog. An attribute of a dog may be its breed or its name, while a method of a dog may be defined by a .bark() method which returns a sound.\n",
        "\n",
        "Let's get a better understanding of attributes through an example.\n",
        "\n",
        "## Attributes\n",
        "\n",
        "> $\\color{red}{\\textbf{NOTE}}$ : Attribute never have open & close pranthesis becoz attribute aren't something that we really execute, insted it is the characteristic of the of the __object__ that we call back.\n",
        "\n",
        "The syntax for creating an attribute is:\n",
        "    \n",
        "    self.attribute = something\n",
        "    \n",
        "There is a special method called:\n",
        "\n",
        "    __init__()\n",
        "\n",
        "This method is used to initialize the attributes of an object. For example:"
      ]
    },
    {
      "cell_type": "markdown",
      "metadata": {
        "id": "Y3X-UbWASjJb",
        "colab_type": "text"
      },
      "source": [
        "> $\\color{red}{\\textbf{NOTE}}$ : By Convention: classes follows the camel Casing.\n",
        "\n"
      ]
    },
    {
      "cell_type": "code",
      "metadata": {
        "id": "fayUAiKaeQk1",
        "colab_type": "code",
        "colab": {}
      },
      "source": [
        "class Dog():\n",
        "\n",
        "    def __init__(self, mybreed):\n",
        "\n",
        "        # Attributes\n",
        "        # We take in the arguments\n",
        "        # Assign it usin vg self.attribute_name\n",
        "\n",
        "        self.my_attribute = mybreed\n"
      ],
      "execution_count": null,
      "outputs": []
    },
    {
      "cell_type": "code",
      "metadata": {
        "id": "8mi47QdBoTTI",
        "colab_type": "code",
        "colab": {}
      },
      "source": [
        "my_dog = Dog(mybreed = 'Huskie')"
      ],
      "execution_count": null,
      "outputs": []
    },
    {
      "cell_type": "code",
      "metadata": {
        "id": "tRaY49n5o0Ie",
        "colab_type": "code",
        "colab": {
          "base_uri": "https://localhost:8080/",
          "height": 34
        },
        "outputId": "9b51d01b-7f17-46d7-abf5-b8abee3eac7d"
      },
      "source": [
        "type(my_dog)"
      ],
      "execution_count": null,
      "outputs": [
        {
          "output_type": "execute_result",
          "data": {
            "text/plain": [
              "__main__.Dog"
            ]
          },
          "metadata": {
            "tags": []
          },
          "execution_count": 10
        }
      ]
    },
    {
      "cell_type": "code",
      "metadata": {
        "id": "bHrA1wsko5oW",
        "colab_type": "code",
        "colab": {
          "base_uri": "https://localhost:8080/",
          "height": 34
        },
        "outputId": "1dd08501-dba6-41ce-9151-c53acbbb088a"
      },
      "source": [
        "# Calling the attribute\n",
        "my_dog.my_attribute"
      ],
      "execution_count": null,
      "outputs": [
        {
          "output_type": "execute_result",
          "data": {
            "text/plain": [
              "'Huskie'"
            ]
          },
          "metadata": {
            "tags": []
          },
          "execution_count": 11
        }
      ]
    },
    {
      "cell_type": "code",
      "metadata": {
        "id": "gR-YiFGwpTcs",
        "colab_type": "code",
        "colab": {
          "base_uri": "https://localhost:8080/",
          "height": 105
        },
        "outputId": "9239b8d9-3fb3-462d-8721-3a4f7d5999ae"
      },
      "source": [
        "# Cleaner code\n",
        "\n",
        "class Dog():\n",
        "\n",
        "    # Class Object Attribute\n",
        "    # This is Same - Regardless of  instance of the class\n",
        "    species = 'mammal' \n",
        "\n",
        "    def __init__(self, breed, name, spots): # __init__ Method for User defined attribute\n",
        "                            \n",
        "        # Here both breed & name is String\n",
        "        # But spots is boolean\n",
        "        self.breed = breed\n",
        "        self.name  = name\n",
        "        # Expect the Boolean True/False\n",
        "        self.spots = spots\n",
        "    \n",
        "    # Operations/Actions---> Methods\n",
        "    def bark(self, number): # Here the \"Self\" is used to connect it to the actual object\n",
        "                    # Method can also take some outside arguments\n",
        "        print('WOOF! My name is {} & the number is {}'.format(self.name, number))\n",
        "\n",
        "\n",
        "my_dog = Dog(breed = 'Labra', name = 'Tommy', spots = False )\n",
        "\n",
        "# TYPE \n",
        "print(type(my_dog))\n",
        "\n",
        "# Calling the ATTRIBUTE doesn't require pranthesis\n",
        "print(my_dog.breed)  \n",
        "print(my_dog.name)\n",
        "print(my_dog.spots)\n",
        "print(my_dog.species)\n"
      ],
      "execution_count": 13,
      "outputs": [
        {
          "output_type": "stream",
          "text": [
            "<class '__main__.Dog'>\n",
            "Labra\n",
            "Tommy\n",
            "False\n",
            "mammal\n"
          ],
          "name": "stdout"
        }
      ]
    },
    {
      "cell_type": "code",
      "metadata": {
        "id": "yiDJFghSEJKm",
        "colab_type": "code",
        "colab": {
          "base_uri": "https://localhost:8080/",
          "height": 34
        },
        "outputId": "d4c40139-c348-4c7a-c59d-185639948978"
      },
      "source": [
        "# Calling the METHOD requires --> pranthesis \n",
        "'''\n",
        "METHOD: it is the action that the actual object can take\n",
        "'''\n",
        "my_dog.bark(10)\n"
      ],
      "execution_count": 15,
      "outputs": [
        {
          "output_type": "stream",
          "text": [
            "WOOF! My name is Tommy & the number is 10\n"
          ],
          "name": "stdout"
        }
      ]
    },
    {
      "cell_type": "markdown",
      "metadata": {
        "id": "oxnx17K_fxJv",
        "colab_type": "text"
      },
      "source": [
        "$\\color{green}{\\textbf{Instance Attributes}}$ :\n",
        "\n",
        "- **Attributes** are defined inside the `__init__` method of the `class`. It is the **initializer method** that is *first run* as soon as the **object** is created.\n",
        "\n",
        "- All classes create **objects**, and all **objects** contain characteristics called **attributes** \n",
        "\n",
        "- it uses the `__init__()` **method** to initialize (e.g. specify) an object’s initial attributes by giving them their default value (or state).\n",
        "\n",
        "- This **method** must have at least one argument as well as the `self` variable, which refers to the object itself (e.g., Dog).\n",
        "\n",
        "\n",
        "\n"
      ]
    },
    {
      "cell_type": "markdown",
      "metadata": {
        "id": "HjZfRZy8sKHW",
        "colab_type": "text"
      },
      "source": [
        "The difference between a class and an object.\n",
        "\n",
        "-  `__init__` doesn't initialize a class, *it initializes an **instance** of a class or an object*.\n",
        "\n",
        " - Each dog has colour, but dogs as a class don't.\n",
        " \n",
        " - Each dog has four or fewer feet, but the class of dogs doesn't.\n"
      ]
    },
    {
      "cell_type": "markdown",
      "metadata": {
        "id": "UnFKsMGis9p5",
        "colab_type": "text"
      },
      "source": [
        "[Why do we use `__init__` in Python classes?](https://stackoverflow.com/questions/8609153/why-do-we-use-init-in-python-classes)\n",
        "\n",
        "\n",
        "\n",
        "```\n",
        "class Dog:\n",
        "    def __init__(self, legs, colour):\n",
        "        self.legs = legs\n",
        "        self.colour = colour\n",
        "\n",
        "fido = Dog(4, \"brown\")\n",
        "spot = Dog(3, \"mostly yellow\")\n",
        "```\n",
        "\n",
        "\n",
        "- The `__init__` function is called a $\\color{red}{\\textbf{constructor}}$, or $\\color{green}{\\textbf{initializer}}$ , and is automatically called when you create a new **instance** of a class.\n",
        "\n",
        "- Within that function, the newly created object is assigned to the parameter `self`.\n",
        "\n",
        " - The notation `self.legs` is an attribute called legs of the object in the variable self. \n",
        " - Attributes are kind of like variables, but they describe the state of an object, or particular actions (functions) available to the object"
      ]
    },
    {
      "cell_type": "markdown",
      "metadata": {
        "id": "5F5MnUiHhb-v",
        "colab_type": "text"
      },
      "source": [
        "$\\color{green}{\\textbf{self}}$ :\n",
        "\n",
        "- `Class` methods have only one specific difference from ordinary function\n",
        "\n",
        " - they must have an extra first name that has to be added to the beginning of the parameter list.\n",
        " -  __Note__ : we do not give a **value** for this parameter when we call the method, Python will provide it. This particular variable refers to the object itself, and by convention, it is given the name `self`.\n"
      ]
    },
    {
      "cell_type": "code",
      "metadata": {
        "id": "nZySIQz35eiN",
        "colab_type": "code",
        "colab": {}
      },
      "source": [
        "class Circle():\n",
        "\n",
        "    # Class Object attribute\n",
        "    pi = 22/7\n",
        "\n",
        "    def __init__(self, radius = 1):\n",
        "\n",
        "        self.radius = radius\n",
        "        self.area   = self.pi * radius * radius\n",
        "\n",
        "    # Method\n",
        "    def circumference(self):\n",
        "\n",
        "        return 2 * self.pi * self.radius\n"
      ],
      "execution_count": 35,
      "outputs": []
    },
    {
      "cell_type": "code",
      "metadata": {
        "id": "oM_K2iOCT63Z",
        "colab_type": "code",
        "colab": {}
      },
      "source": [
        "my_circle = Circle(7)"
      ],
      "execution_count": 36,
      "outputs": []
    },
    {
      "cell_type": "code",
      "metadata": {
        "id": "-iDaITFOdPgk",
        "colab_type": "code",
        "colab": {
          "base_uri": "https://localhost:8080/",
          "height": 34
        },
        "outputId": "09a4f7b9-e345-454c-c9f1-8c873c13a301"
      },
      "source": [
        "my_circle.radius"
      ],
      "execution_count": 37,
      "outputs": [
        {
          "output_type": "execute_result",
          "data": {
            "text/plain": [
              "7"
            ]
          },
          "metadata": {
            "tags": []
          },
          "execution_count": 37
        }
      ]
    },
    {
      "cell_type": "code",
      "metadata": {
        "id": "8zPtEpY4UCrp",
        "colab_type": "code",
        "colab": {
          "base_uri": "https://localhost:8080/",
          "height": 34
        },
        "outputId": "be29d45c-2604-4351-da9e-9b2b4c1e6688"
      },
      "source": [
        "my_circle.pi"
      ],
      "execution_count": 38,
      "outputs": [
        {
          "output_type": "execute_result",
          "data": {
            "text/plain": [
              "3.142857142857143"
            ]
          },
          "metadata": {
            "tags": []
          },
          "execution_count": 38
        }
      ]
    },
    {
      "cell_type": "code",
      "metadata": {
        "id": "vWJLqji5cvF2",
        "colab_type": "code",
        "colab": {
          "base_uri": "https://localhost:8080/",
          "height": 34
        },
        "outputId": "d6e1a1c1-a520-464c-a8ff-d5feb2fc13e8"
      },
      "source": [
        "my_circle.area # Calling an Attribute"
      ],
      "execution_count": 39,
      "outputs": [
        {
          "output_type": "execute_result",
          "data": {
            "text/plain": [
              "154.0"
            ]
          },
          "metadata": {
            "tags": []
          },
          "execution_count": 39
        }
      ]
    },
    {
      "cell_type": "code",
      "metadata": {
        "id": "NVfQNNDGc8j5",
        "colab_type": "code",
        "colab": {
          "base_uri": "https://localhost:8080/",
          "height": 34
        },
        "outputId": "1ff32772-ae87-48af-a634-0e2547038561"
      },
      "source": [
        "my_circle.circumference() # Calling an Method"
      ],
      "execution_count": 41,
      "outputs": [
        {
          "output_type": "execute_result",
          "data": {
            "text/plain": [
              "44.0"
            ]
          },
          "metadata": {
            "tags": []
          },
          "execution_count": 41
        }
      ]
    },
    {
      "cell_type": "markdown",
      "metadata": {
        "id": "RZ3_8JvreAOZ",
        "colab_type": "text"
      },
      "source": [
        "$\\color{orange}{\\textbf{Another Method of calling the class object Attribute}}$\n",
        "\n",
        "```\n",
        "class Circle():\n",
        "\n",
        "    # Class Object attribute\n",
        "    pi = 22/7\n",
        "\n",
        "    def __init__(self, radius = 1):\n",
        "\n",
        "        self.radius = radius\n",
        "        self.area   = Circle.pi * radius * radius\n",
        "\n",
        "    # Method\n",
        "    def circumference(self):\n",
        "\n",
        "        return 2 * Circle.pi * self.radius\n",
        "\n",
        "```\n",
        "\n"
      ]
    },
    {
      "cell_type": "code",
      "metadata": {
        "id": "ADNhZVygdqxP",
        "colab_type": "code",
        "colab": {}
      },
      "source": [
        ""
      ],
      "execution_count": null,
      "outputs": []
    }
  ]
}