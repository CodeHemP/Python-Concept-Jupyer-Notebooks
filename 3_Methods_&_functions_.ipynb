{
  "nbformat": 4,
  "nbformat_minor": 0,
  "metadata": {
    "colab": {
      "name": "3_Methods_&_functions .ipynb",
      "provenance": [],
      "authorship_tag": "ABX9TyOHLqR7RUlEKiIA/ru37Wjb",
      "include_colab_link": true
    },
    "kernelspec": {
      "name": "python3",
      "display_name": "Python 3"
    }
  },
  "cells": [
    {
      "cell_type": "markdown",
      "metadata": {
        "id": "view-in-github",
        "colab_type": "text"
      },
      "source": [
        "<a href=\"https://colab.research.google.com/github/mohd-faizy/My_Python_Notebooks_Concept/blob/master/3_Methods_%26_functions_.ipynb\" target=\"_parent\"><img src=\"https://colab.research.google.com/assets/colab-badge.svg\" alt=\"Open In Colab\"/></a>"
      ]
    },
    {
      "cell_type": "markdown",
      "metadata": {
        "id": "maCFb9Cz-cBq",
        "colab_type": "text"
      },
      "source": [
        "# __Methods__\n",
        "\n",
        "We've already seen a few example of methods when learning about Object and Data Structure Types in Python. Methods are essentially functions built into objects. Later on in the course we will learn about how to create our own objects and methods using Object Oriented Programming (OOP) and classes.\n",
        "\n",
        "Methods perform specific actions on an object and can also take arguments, just like a function. This lecture will serve as just a brief introduction to methods and get you thinking about overall design methods that we will touch back upon when we reach OOP in the course.\n",
        "\n",
        "Methods are in the form:\n",
        "\n",
        "    object.method(arg1,arg2,etc...)\n",
        "    \n",
        "You'll later see that we can think of methods as having an argument 'self' referring to the object itself. You can't see this argument but we will be using it later on in the course during the OOP lectures.\n",
        "\n",
        "Let's take a quick look at what an example of the various methods a list has:"
      ]
    },
    {
      "cell_type": "code",
      "metadata": {
        "id": "gLarrWhq-cBs",
        "colab_type": "code",
        "colab": {}
      },
      "source": [
        "# Create a simple list\n",
        "lst = [1,2,3,4,5]"
      ],
      "execution_count": 0,
      "outputs": []
    },
    {
      "cell_type": "markdown",
      "metadata": {
        "id": "zjcQYawW-cBx",
        "colab_type": "text"
      },
      "source": [
        "Fortunately, with iPython and the Jupyter Notebook we can quickly see all the possible methods using the tab key. The methods for a list are:\n",
        "\n",
        "* append\n",
        "* count\n",
        "* extend\n",
        "* insert\n",
        "* pop\n",
        "* remove\n",
        "* reverse\n",
        "* sort\n",
        "\n",
        "Let's try out a few of them:"
      ]
    },
    {
      "cell_type": "markdown",
      "metadata": {
        "id": "Hc4iXyPX-cBy",
        "colab_type": "text"
      },
      "source": [
        "`append()` allows us to add elements to the end of a list:"
      ]
    },
    {
      "cell_type": "code",
      "metadata": {
        "id": "wbhwOWOx-cBz",
        "colab_type": "code",
        "colab": {}
      },
      "source": [
        "lst.append(6)"
      ],
      "execution_count": 0,
      "outputs": []
    },
    {
      "cell_type": "code",
      "metadata": {
        "id": "4yXlHpGA-cB3",
        "colab_type": "code",
        "outputId": "99802106-6719-4c3b-d44b-7ea29ba9a8d6",
        "colab": {}
      },
      "source": [
        "lst"
      ],
      "execution_count": 0,
      "outputs": [
        {
          "output_type": "execute_result",
          "data": {
            "text/plain": [
              "[1, 2, 3, 4, 5, 6]"
            ]
          },
          "metadata": {
            "tags": []
          },
          "execution_count": 3
        }
      ]
    },
    {
      "cell_type": "markdown",
      "metadata": {
        "id": "OCV0ImGf-cB9",
        "colab_type": "text"
      },
      "source": [
        "Great! Now how about count()? The count() method will count the number of occurrences of an element in a list."
      ]
    },
    {
      "cell_type": "code",
      "metadata": {
        "id": "paZvld0Z-cB-",
        "colab_type": "code",
        "outputId": "582694cb-f46f-4d4b-85db-06dd815dc2f1",
        "colab": {}
      },
      "source": [
        "# Check how many times 2 shows up in the list\n",
        "lst.count(2)"
      ],
      "execution_count": 0,
      "outputs": [
        {
          "output_type": "execute_result",
          "data": {
            "text/plain": [
              "1"
            ]
          },
          "metadata": {
            "tags": []
          },
          "execution_count": 4
        }
      ]
    },
    {
      "cell_type": "markdown",
      "metadata": {
        "id": "YV8vXBTl-cCC",
        "colab_type": "text"
      },
      "source": [
        "You can always use Shift+Tab in the Jupyter Notebook to get more help about the method. In general Python you can use the help() function: "
      ]
    },
    {
      "cell_type": "code",
      "metadata": {
        "id": "kyzAxmQ9-cCD",
        "colab_type": "code",
        "outputId": "3287d092-ebe5-49fa-8a3c-3db31649ec4d",
        "colab": {}
      },
      "source": [
        "help(lst.count)"
      ],
      "execution_count": 0,
      "outputs": [
        {
          "output_type": "stream",
          "text": [
            "Help on built-in function count:\n",
            "\n",
            "count(...) method of builtins.list instance\n",
            "    L.count(value) -> integer -- return number of occurrences of value\n",
            "\n"
          ],
          "name": "stdout"
        }
      ]
    },
    {
      "cell_type": "markdown",
      "metadata": {
        "id": "qJmLy3ft1LQm",
        "colab_type": "text"
      },
      "source": [
        "# __functions__\n",
        "\n",
        "functions allows us to create blocks of codes that can be easily executed many times, without needing to constantly rewrite the entire block of code.\n",
        "\n",
        "- You can pass data, known as __parameters__, into a function.\n",
        "\n",
        "- A function can __return__ data as a __result__."
      ]
    },
    {
      "cell_type": "markdown",
      "metadata": {
        "id": "kz4DftEp0hQ7",
        "colab_type": "text"
      },
      "source": [
        "**Arguments**\n",
        "\n",
        "- Information can be passed into functions as **arguments**.\n",
        "\n",
        "- Arguments are specified after the function name, inside the parentheses. we can add as many arguments as you want, just separate them with a comma."
      ]
    },
    {
      "cell_type": "markdown",
      "metadata": {
        "id": "gS98u4oO2cno",
        "colab_type": "text"
      },
      "source": [
        "__`return`__ keyword:\n",
        "\n",
        "- typically we use the __`return`__ keyword to send back the result of the function, insted of just printing it out.\n",
        "\n",
        "- __`return`__ allows us to assign the output of a function to new varible,\n"
      ]
    },
    {
      "cell_type": "code",
      "metadata": {
        "id": "WaLWmvKL2cEm",
        "colab_type": "code",
        "colab": {}
      },
      "source": [
        "def name_function():\n",
        "    '''\n",
        "    DOCSTRING: Infomation about the function\n",
        "    INPUT: \n",
        "    OUTPUT:\n",
        "    '''\n",
        "    print('Hello')"
      ],
      "execution_count": 0,
      "outputs": []
    },
    {
      "cell_type": "code",
      "metadata": {
        "id": "Bgsm_k0QMISk",
        "colab_type": "code",
        "outputId": "1196735c-2d75-4cad-f53e-aceefe305d0d",
        "colab": {
          "base_uri": "https://localhost:8080/",
          "height": 141
        }
      },
      "source": [
        "help(name_function)"
      ],
      "execution_count": 0,
      "outputs": [
        {
          "output_type": "stream",
          "text": [
            "Help on function name_function in module __main__:\n",
            "\n",
            "name_function()\n",
            "    DOCSTRING: Infomation about the function\n",
            "    INPUT: \n",
            "    OUTPUT:\n",
            "\n"
          ],
          "name": "stdout"
        }
      ]
    },
    {
      "cell_type": "code",
      "metadata": {
        "id": "A-NptYx2Mb4D",
        "colab_type": "code",
        "colab": {}
      },
      "source": [
        "def say_hello(name):\n",
        "    #print('hello ' + name)\n",
        "    return 'hello ' + name\n"
      ],
      "execution_count": 0,
      "outputs": []
    },
    {
      "cell_type": "code",
      "metadata": {
        "id": "M7MNk9dINpXd",
        "colab_type": "code",
        "colab": {}
      },
      "source": [
        "result = say_hello('faizy')"
      ],
      "execution_count": 0,
      "outputs": []
    },
    {
      "cell_type": "code",
      "metadata": {
        "id": "uZZBdb-9Ofdm",
        "colab_type": "code",
        "outputId": "043e5b28-6fcf-4fc4-db1a-a3386fc7d22c",
        "colab": {
          "base_uri": "https://localhost:8080/",
          "height": 34
        }
      },
      "source": [
        "result # We do not get any thing for the result"
      ],
      "execution_count": 0,
      "outputs": [
        {
          "output_type": "execute_result",
          "data": {
            "text/plain": [
              "'hello faizy'"
            ]
          },
          "metadata": {
            "tags": []
          },
          "execution_count": 22
        }
      ]
    },
    {
      "cell_type": "markdown",
      "metadata": {
        "id": "Mo1pFMzoUO0_",
        "colab_type": "text"
      },
      "source": [
        "when we uses the __print__ function insted of __return__ then the type it return is  __NoneType__ because the function isn't  returning something\n",
        "hence we need to use the __return__ keyword is used."
      ]
    },
    {
      "cell_type": "code",
      "metadata": {
        "id": "FZ-WYS30N2jc",
        "colab_type": "code",
        "outputId": "560bc5e7-faff-4d79-b4e5-7f571ca2ea03",
        "colab": {
          "base_uri": "https://localhost:8080/",
          "height": 54
        }
      },
      "source": [
        "type(result)"
      ],
      "execution_count": 0,
      "outputs": [
        {
          "output_type": "execute_result",
          "data": {
            "text/plain": [
              "\"\\nThe type is NoneType because the function isn't  returning something\\nhence we need to use the return keyword\\n\""
            ]
          },
          "metadata": {
            "tags": []
          },
          "execution_count": 23
        }
      ]
    },
    {
      "cell_type": "code",
      "metadata": {
        "id": "-eFwY7qNVCHP",
        "colab_type": "code",
        "outputId": "7703df84-f9b5-4ff4-8cdb-52162cace3c4",
        "colab": {
          "base_uri": "https://localhost:8080/",
          "height": 34
        }
      },
      "source": [
        "# Add Function \n",
        "def add(n1,n2):\n",
        "    return n1+n2\n",
        "\n",
        "result = add(50,60)\n",
        "print(result)"
      ],
      "execution_count": 0,
      "outputs": [
        {
          "output_type": "stream",
          "text": [
            "110\n"
          ],
          "name": "stdout"
        }
      ]
    },
    {
      "cell_type": "markdown",
      "metadata": {
        "id": "G84nCcoJVy8b",
        "colab_type": "text"
      },
      "source": [
        "Typically when using the function we have to use the __return__ keyword as we can assign the result to a varible and can use it later."
      ]
    },
    {
      "cell_type": "markdown",
      "metadata": {
        "id": "b9cymFrtaywm",
        "colab_type": "text"
      },
      "source": [
        "> __find out if the word dog is in the string__"
      ]
    },
    {
      "cell_type": "code",
      "metadata": {
        "id": "8k2Q8g-QbDpz",
        "colab_type": "code",
        "colab": {}
      },
      "source": [
        "# beginner approch\n",
        "\n",
        "def dog_check(mystring):\n",
        "    if 'dog' in mystring.lower():\n",
        "    # No needs if statement as the statement is iteslf a boolean \n",
        "        return True\n",
        "    else:\n",
        "        return False"
      ],
      "execution_count": 0,
      "outputs": []
    },
    {
      "cell_type": "code",
      "metadata": {
        "id": "yUqzNhFSbxPD",
        "colab_type": "code",
        "outputId": "37914630-4f1c-406d-deba-f3587ef842f5",
        "colab": {
          "base_uri": "https://localhost:8080/",
          "height": 34
        }
      },
      "source": [
        "dog_check('My dog ran away')"
      ],
      "execution_count": 0,
      "outputs": [
        {
          "output_type": "execute_result",
          "data": {
            "text/plain": [
              "True"
            ]
          },
          "metadata": {
            "tags": []
          },
          "execution_count": 41
        }
      ]
    },
    {
      "cell_type": "code",
      "metadata": {
        "id": "u2eGSDYUddvZ",
        "colab_type": "code",
        "colab": {}
      },
      "source": [
        "# Pro Approch\n",
        "\n",
        "def dog_check(mystring):\n",
        "    return 'dog' in mystring.lower()"
      ],
      "execution_count": 0,
      "outputs": []
    },
    {
      "cell_type": "code",
      "metadata": {
        "colab_type": "code",
        "outputId": "54324d42-d035-41a4-dfb7-09016590d3c5",
        "id": "GN91XRUQd4BI",
        "colab": {
          "base_uri": "https://localhost:8080/",
          "height": 34
        }
      },
      "source": [
        "dog_check('My dog ran away')"
      ],
      "execution_count": 0,
      "outputs": [
        {
          "output_type": "execute_result",
          "data": {
            "text/plain": [
              "True"
            ]
          },
          "metadata": {
            "tags": []
          },
          "execution_count": 46
        }
      ]
    },
    {
      "cell_type": "code",
      "metadata": {
        "id": "urXjkHF8Zfv0",
        "colab_type": "code",
        "colab": {
          "base_uri": "https://localhost:8080/",
          "height": 68
        },
        "outputId": "d7b4c112-3008-43a8-ef5e-f6cb32a7af7e"
      },
      "source": [
        "fruits = [\"apple\", \"banana\", \"cherry\"]\n",
        "\n",
        "def my_function(food):\n",
        "  for x in food:\n",
        "    print(x)\n",
        "\n",
        "my_function(fruits)"
      ],
      "execution_count": 11,
      "outputs": [
        {
          "output_type": "stream",
          "text": [
            "apple\n",
            "banana\n",
            "cherry\n"
          ],
          "name": "stdout"
        }
      ]
    },
    {
      "cell_type": "markdown",
      "metadata": {
        "id": "PeFvqrzjdd_H",
        "colab_type": "text"
      },
      "source": [
        "## __Recursion__"
      ]
    },
    {
      "cell_type": "markdown",
      "metadata": {
        "id": "WedY9OgwdYbh",
        "colab_type": "text"
      },
      "source": [
        "Python also accepts function **recursion**, which means a defined function can call itself.\n",
        "\n",
        "**Recursion** is a common mathematical and programming concept. It means that a **function calls itself**. This has the benefit of meaning that you can loop through data to reach a result.\n",
        "\n",
        "The developer should be very careful with **recursion** as it can be quite easy to slip into writing a function which never terminates, or one that uses excess amounts of memory or processor power. However, when written correctly recursion can be a very efficient and mathematically-elegant approach to programming."
      ]
    },
    {
      "cell_type": "code",
      "metadata": {
        "id": "GLIy0z-jeyt-",
        "colab_type": "code",
        "colab": {}
      },
      "source": [
        "def tri_recursion(k):\n",
        "  if k > 0:\n",
        "    result = k + tri_recursion(k - 1)\n",
        "    print(result)\n",
        "  else:\n",
        "    result = 0\n",
        "  return result"
      ],
      "execution_count": 0,
      "outputs": []
    },
    {
      "cell_type": "markdown",
      "metadata": {
        "id": "P8eyJbaggZCM",
        "colab_type": "text"
      },
      "source": [
        "In this example, `tri_recursion()` is a function that we have defined to call itself (\"recurse\"). We use the `k` variable as the data, which decrements (`-1`) every time we recurse. The recursion ends when the condition is not greater than 0 (i.e. when it is 0)."
      ]
    },
    {
      "cell_type": "code",
      "metadata": {
        "id": "mdRa8cfzgVQM",
        "colab_type": "code",
        "colab": {
          "base_uri": "https://localhost:8080/",
          "height": 136
        },
        "outputId": "882a9306-9759-4fd2-b472-c3e1599b1db9"
      },
      "source": [
        "#print(\"\\n\\nRecursion Example Results\")\n",
        "tri_recursion(6)"
      ],
      "execution_count": 20,
      "outputs": [
        {
          "output_type": "stream",
          "text": [
            "1\n",
            "3\n",
            "6\n",
            "10\n",
            "15\n",
            "21\n"
          ],
          "name": "stdout"
        },
        {
          "output_type": "execute_result",
          "data": {
            "text/plain": [
              "21"
            ]
          },
          "metadata": {
            "tags": []
          },
          "execution_count": 20
        }
      ]
    },
    {
      "cell_type": "markdown",
      "metadata": {
        "id": "Cvt1FtdFxrkz",
        "colab_type": "text"
      },
      "source": [
        "## __PIG LATIN Translater__ \n",
        "\n",
        "- if word start with a vowel, add 'ay' to end.\n",
        "- if word does not start with a vowel, put first letter at the end,then add 'ay'\n",
        "- word --> ordway\n",
        "- apple --> appleay"
      ]
    },
    {
      "cell_type": "code",
      "metadata": {
        "id": "Ap9nophNy1uy",
        "colab_type": "code",
        "colab": {}
      },
      "source": [
        "def pig_latin(word):\n",
        "    first_letter = word[0]\n",
        "    # check if vowel\n",
        "    if first_letter in 'aieou':\n",
        "        pig_word = word + 'ay'\n",
        "    else:\n",
        "        pig_word = word[1:] + first_letter + 'ay'\n",
        "    return pig_word"
      ],
      "execution_count": 0,
      "outputs": []
    },
    {
      "cell_type": "code",
      "metadata": {
        "id": "1yEUiJ0R9xXt",
        "colab_type": "code",
        "outputId": "5c553e04-1533-443f-dd04-1ee16a4fec02",
        "colab": {
          "base_uri": "https://localhost:8080/",
          "height": 34
        }
      },
      "source": [
        "pig_latin('apple')"
      ],
      "execution_count": 0,
      "outputs": [
        {
          "output_type": "execute_result",
          "data": {
            "text/plain": [
              "'appleay'"
            ]
          },
          "metadata": {
            "tags": []
          },
          "execution_count": 4
        }
      ]
    },
    {
      "cell_type": "code",
      "metadata": {
        "id": "UkEYAKXE97ES",
        "colab_type": "code",
        "outputId": "b11ba27c-8cae-4637-ef86-627496d37794",
        "colab": {
          "base_uri": "https://localhost:8080/",
          "height": 34
        }
      },
      "source": [
        "pig_latin('word')"
      ],
      "execution_count": 0,
      "outputs": [
        {
          "output_type": "execute_result",
          "data": {
            "text/plain": [
              "'ordway'"
            ]
          },
          "metadata": {
            "tags": []
          },
          "execution_count": 5
        }
      ]
    },
    {
      "cell_type": "markdown",
      "metadata": {
        "id": "Y2D0MwAodikS",
        "colab_type": "text"
      },
      "source": [
        "# __*args__ & __**kwargs__ [arguments & Keywords arguments]"
      ]
    },
    {
      "cell_type": "markdown",
      "metadata": {
        "id": "yz5V9eXWmeMH",
        "colab_type": "text"
      },
      "source": [
        "In Python, we can pass a variable number of arguments to a function using special symbols. There are two special symbols:\n",
        "\n",
        "- __*args__ (Non Keyword Arguments)\n",
        "- __**kwargs__ (Keyword Arguments)"
      ]
    },
    {
      "cell_type": "code",
      "metadata": {
        "id": "Zc8uN_mydw6A",
        "colab_type": "code",
        "colab": {}
      },
      "source": [
        "# Return the 5% sum of a and b\n",
        "\n",
        "def myfunc(a,b):                # a, b are the example of positional arguments\n",
        "    return sum((a,b)) * 0.05    # passing the arguments as a tuple() or list[]"
      ],
      "execution_count": 0,
      "outputs": []
    },
    {
      "cell_type": "markdown",
      "metadata": {
        "id": "5w12YJCGg1P6",
        "colab_type": "text"
      },
      "source": [
        "While working with multiple positional arguments. In the sum functional we have to pass them as a __tuple()__ or __list[  ]__"
      ]
    },
    {
      "cell_type": "code",
      "metadata": {
        "id": "92DvlkoXfK5P",
        "colab_type": "code",
        "colab": {
          "base_uri": "https://localhost:8080/",
          "height": 34
        },
        "outputId": "3b51800c-3e81-4a20-ccbe-c02d1e9878d9"
      },
      "source": [
        "myfunc(40,60)"
      ],
      "execution_count": 12,
      "outputs": [
        {
          "output_type": "execute_result",
          "data": {
            "text/plain": [
              "5.0"
            ]
          },
          "metadata": {
            "tags": []
          },
          "execution_count": 12
        }
      ]
    },
    {
      "cell_type": "markdown",
      "metadata": {
        "id": "48827om_iex8",
        "colab_type": "text"
      },
      "source": [
        "__Working with the multiple arguments:__\n"
      ]
    },
    {
      "cell_type": "code",
      "metadata": {
        "id": "0VicuXU9isK1",
        "colab_type": "code",
        "colab": {}
      },
      "source": [
        "def myfunc(a,b,c=0,d=0,e=0):\n",
        "    return sum((a,b,c,d,e)) * 0.05"
      ],
      "execution_count": 0,
      "outputs": []
    },
    {
      "cell_type": "code",
      "metadata": {
        "id": "F2IVZcyYjBo_",
        "colab_type": "code",
        "colab": {
          "base_uri": "https://localhost:8080/",
          "height": 34
        },
        "outputId": "ed29f8a5-8084-4a76-86a0-27e5615ab48a"
      },
      "source": [
        "myfunc(40,60,70,30,100)"
      ],
      "execution_count": 31,
      "outputs": [
        {
          "output_type": "execute_result",
          "data": {
            "text/plain": [
              "15.0"
            ]
          },
          "metadata": {
            "tags": []
          },
          "execution_count": 31
        }
      ]
    },
    {
      "cell_type": "markdown",
      "metadata": {
        "id": "ZxwqA2HXzMZJ",
        "colab_type": "text"
      },
      "source": [
        "### __*args__"
      ]
    },
    {
      "cell_type": "markdown",
      "metadata": {
        "id": "36Yx4Dbg1NMt",
        "colab_type": "text"
      },
      "source": [
        "If the number of arguments is **unknown**, add a * before the parameter name:"
      ]
    },
    {
      "cell_type": "markdown",
      "metadata": {
        "id": "z-3cMjVKovlb",
        "colab_type": "text"
      },
      "source": [
        "Python has __*args__ which allow us to pass the variable number of non keyword arguments to function.\n",
        "\n",
        "In the function, we should use an asterisk * before the parameter name to pass variable length arguments.The arguments are passed as a __tuple__ "
      ]
    },
    {
      "cell_type": "code",
      "metadata": {
        "id": "JZYxiPoamzOV",
        "colab_type": "code",
        "colab": {}
      },
      "source": [
        "def myfunc_1(*args): \n",
        "# This allow us treat this as a tuple of the arguments that are comming in\n",
        "    return sum(args) * 0.05"
      ],
      "execution_count": 0,
      "outputs": []
    },
    {
      "cell_type": "code",
      "metadata": {
        "id": "YOaHd-tKn9tu",
        "colab_type": "code",
        "colab": {
          "base_uri": "https://localhost:8080/",
          "height": 34
        },
        "outputId": "ec40b444-9210-424a-e89f-01637d943334"
      },
      "source": [
        "myfunc_1(40,60,70,30,100,500,100)"
      ],
      "execution_count": 35,
      "outputs": [
        {
          "output_type": "execute_result",
          "data": {
            "text/plain": [
              "45.0"
            ]
          },
          "metadata": {
            "tags": []
          },
          "execution_count": 35
        }
      ]
    },
    {
      "cell_type": "code",
      "metadata": {
        "id": "RDy4bTcho5ld",
        "colab_type": "code",
        "colab": {}
      },
      "source": [
        "def myfunc_2(*args):\n",
        "    print(args)     # its just a tuple\n",
        "    for items in args:\n",
        "        print(items)"
      ],
      "execution_count": 0,
      "outputs": []
    },
    {
      "cell_type": "code",
      "metadata": {
        "id": "5Lju21pCpI_q",
        "colab_type": "code",
        "colab": {
          "base_uri": "https://localhost:8080/",
          "height": 119
        },
        "outputId": "9da9bdbc-a6a5-4527-a0a9-240de573fc9a"
      },
      "source": [
        "myfunc_2(40,60,70,30,100)"
      ],
      "execution_count": 56,
      "outputs": [
        {
          "output_type": "stream",
          "text": [
            "(40, 60, 70, 30, 100)\n",
            "40\n",
            "60\n",
            "70\n",
            "30\n",
            "100\n"
          ],
          "name": "stdout"
        }
      ]
    },
    {
      "cell_type": "code",
      "metadata": {
        "id": "cbHHAae2Pwsi",
        "colab_type": "code",
        "colab": {
          "base_uri": "https://localhost:8080/",
          "height": 34
        },
        "outputId": "f66cafc2-30ba-485d-dc4b-fb4770363ab3"
      },
      "source": [
        "def my_function(*args):\n",
        "  print(\"The youngest child is \" + args[2])\n",
        "\n",
        "my_function(\"Emlie\",\"Tobias\" ,\"Linus\")"
      ],
      "execution_count": 8,
      "outputs": [
        {
          "output_type": "stream",
          "text": [
            "The youngest child is Linus\n"
          ],
          "name": "stdout"
        }
      ]
    },
    {
      "cell_type": "markdown",
      "metadata": {
        "id": "LYPiHZ-UzWbJ",
        "colab_type": "text"
      },
      "source": [
        "### __**kwargs__"
      ]
    },
    {
      "cell_type": "markdown",
      "metadata": {
        "id": "SiyK5u0Jpp3V",
        "colab_type": "text"
      },
      "source": [
        "__**kwargs__ allows us to pass the variable length of keyword arguments to the function.\n",
        "\n",
        "In the function, we use the double asterisk ** before the parameter name to denote this type of argument. The arguments are passed as a **dictionary** "
      ]
    },
    {
      "cell_type": "code",
      "metadata": {
        "id": "gV1dbh11Qh01",
        "colab_type": "code",
        "colab": {
          "base_uri": "https://localhost:8080/",
          "height": 34
        },
        "outputId": "fe9d76ae-baac-4c4a-a9bc-13febfbd0b5d"
      },
      "source": [
        "def my_function(child3, child2, child1):\n",
        "  print(\"The youngest child is \" + child3)\n",
        "\n",
        "my_function(child1 = \"Emil\", child2 = \"Tobias\", child3 = \"Linus\")"
      ],
      "execution_count": 6,
      "outputs": [
        {
          "output_type": "stream",
          "text": [
            "The youngest child is Linus\n"
          ],
          "name": "stdout"
        }
      ]
    },
    {
      "cell_type": "code",
      "metadata": {
        "id": "g8UEPSioWWwe",
        "colab_type": "code",
        "colab": {
          "base_uri": "https://localhost:8080/",
          "height": 34
        },
        "outputId": "8b9f80ee-5ab4-424c-8a3a-27f1c9f51f8b"
      },
      "source": [
        "def my_function(**kwargs):\n",
        "  print(\"His last name is \" + kwargs[\"lname\"])\n",
        "\n",
        "my_function(fname = \"Mohd\", lname = \"Faizy\")"
      ],
      "execution_count": 10,
      "outputs": [
        {
          "output_type": "stream",
          "text": [
            "His last name is Faizy\n"
          ],
          "name": "stdout"
        }
      ]
    },
    {
      "cell_type": "code",
      "metadata": {
        "id": "EI_qIhyjptvB",
        "colab_type": "code",
        "colab": {}
      },
      "source": [
        "def myfunc_3(**kwargs):\n",
        "    print(kwargs)      # its just a dictionay\n",
        "    if 'fruit' in kwargs:\n",
        "        print('My fruit of choice is {}'.format(kwargs['fruit']))\n",
        "    else:\n",
        "        print('I did not find any fruit here')"
      ],
      "execution_count": 0,
      "outputs": []
    },
    {
      "cell_type": "code",
      "metadata": {
        "id": "tQ1tj75esLny",
        "colab_type": "code",
        "colab": {
          "base_uri": "https://localhost:8080/",
          "height": 51
        },
        "outputId": "f44e2b1d-1d78-4fa1-9f6b-f4e4202ff2a2"
      },
      "source": [
        "myfunc_3(fruit = 'apple', veggie = 'lattuce')"
      ],
      "execution_count": 54,
      "outputs": [
        {
          "output_type": "stream",
          "text": [
            "{'fruit': 'apple', 'veggie': 'lattuce'}\n",
            "My fruit of choice is apple\n"
          ],
          "name": "stdout"
        }
      ]
    },
    {
      "cell_type": "code",
      "metadata": {
        "id": "Vfk20XNOwfmR",
        "colab_type": "code",
        "colab": {}
      },
      "source": [
        "def myfunc_4(*args, **kwargs):\n",
        "    print(args)\n",
        "    print(kwargs)\n",
        "    print('I would to have {} {}'.format(args[1], kwargs['food']))"
      ],
      "execution_count": 0,
      "outputs": []
    },
    {
      "cell_type": "markdown",
      "metadata": {
        "id": "xR8z3Y25zLqB",
        "colab_type": "text"
      },
      "source": [
        "In the __myfunc_4__ the positional argument is follwed by the keyword arguments.\n",
        "\n",
        "if we use the reverse order to genrate the output, this will produce the syntaz error."
      ]
    },
    {
      "cell_type": "code",
      "metadata": {
        "id": "KLqvpVwXxmii",
        "colab_type": "code",
        "colab": {
          "base_uri": "https://localhost:8080/",
          "height": 68
        },
        "outputId": "788e75dc-b8a4-4011-f651-6b45b89b5c6f"
      },
      "source": [
        "myfunc_4(5,10,15, fruit = 'orange', food = 'eggs' , animal = 'goat')"
      ],
      "execution_count": 58,
      "outputs": [
        {
          "output_type": "stream",
          "text": [
            "(5, 10, 15)\n",
            "{'fruit': 'orange', 'food': 'eggs', 'animal': 'goat'}\n",
            "I would to have 10 eggs\n"
          ],
          "name": "stdout"
        }
      ]
    },
    {
      "cell_type": "markdown",
      "metadata": {
        "id": "55ndXc3jyVV_",
        "colab_type": "text"
      },
      "source": [
        "**Things to Remember:**\n",
        "\n",
        "- __*args__ and __*kwargs__ are special keyword which allows function to take variable length argument.\n",
        "\n",
        "- __*args__ passes variable number of non-keyworded arguments list and on which operation of the list can be performed.\n",
        "\n",
        "- __**kwargs__ passes variable number of keyword arguments dictionary to function on which operation of a dictionary can be performed.\n",
        "\n",
        "- __*args__ and __**kwargs__ make the function *flexible*."
      ]
    },
    {
      "cell_type": "markdown",
      "metadata": {
        "id": "z-RmSu86Biv-",
        "colab_type": "text"
      },
      "source": [
        "__Que__ -- Define a function called __myfunc__ that takes in arbitary number of arguments, and returns a __list__ containing only those arguments that are even."
      ]
    },
    {
      "cell_type": "code",
      "metadata": {
        "id": "WbWOAjnNAmf8",
        "colab_type": "code",
        "colab": {}
      },
      "source": [
        "list=[]\n",
        "def myfunc(*args):\n",
        "    for num in args:\n",
        "        if num% 2== 0:\n",
        "            list.append(num)\n",
        "    return list"
      ],
      "execution_count": 0,
      "outputs": []
    },
    {
      "cell_type": "code",
      "metadata": {
        "id": "GR3I49Y9A1oA",
        "colab_type": "code",
        "colab": {
          "base_uri": "https://localhost:8080/",
          "height": 34
        },
        "outputId": "9bf8ffa8-db36-4ce8-e62f-9fa686908da9"
      },
      "source": [
        "myfunc(1,2,3,4,5,6,7,8,9,10)"
      ],
      "execution_count": 87,
      "outputs": [
        {
          "output_type": "execute_result",
          "data": {
            "text/plain": [
              "[2, 4, 6, 8, 10]"
            ]
          },
          "metadata": {
            "tags": []
          },
          "execution_count": 87
        }
      ]
    },
    {
      "cell_type": "markdown",
      "metadata": {
        "id": "7kJLaKTSCZBL",
        "colab_type": "text"
      },
      "source": [
        "__Que__ -- Define a function called __myfunc__ that takes in a string, and returns a matching string where every even letter is uppercase and every odd letter is lowercase."
      ]
    },
    {
      "cell_type": "code",
      "metadata": {
        "id": "7eP4d6daELNC",
        "colab_type": "code",
        "colab": {}
      },
      "source": [
        "def my_func(st):\n",
        "\n",
        "    res = []\n",
        "    #Iterate over the character\n",
        "    for index in range(len(st)):\n",
        "        if index % 2 == 0:\n",
        "            #Refer to each character via index and append modified character to list\n",
        "            res.append(st[index].lower())\n",
        "        else:\n",
        "            res.append(st[index].upper())\n",
        "\n",
        "    #Join the list into a string and return\n",
        "    return ''.join(res)"
      ],
      "execution_count": 0,
      "outputs": []
    },
    {
      "cell_type": "code",
      "metadata": {
        "id": "yzi05Ie3OgS3",
        "colab_type": "code",
        "colab": {
          "base_uri": "https://localhost:8080/",
          "height": 34
        },
        "outputId": "34b72b67-c2cd-4fde-cd7f-04ed067c107c"
      },
      "source": [
        "my_func('abcdefghi')"
      ],
      "execution_count": 135,
      "outputs": [
        {
          "output_type": "execute_result",
          "data": {
            "text/plain": [
              "'aBcDeFgHi'"
            ]
          },
          "metadata": {
            "tags": []
          },
          "execution_count": 135
        }
      ]
    },
    {
      "cell_type": "code",
      "metadata": {
        "id": "oSnFUOfxi9n-",
        "colab_type": "code",
        "colab": {}
      },
      "source": [
        "def myfunc(x):\n",
        "    out = []\n",
        "    for i in range(len(x)):\n",
        "        if i%2==0:\n",
        "            out.append(x[i].lower())\n",
        "        else:\n",
        "            out.append(x[i].upper())\n",
        "    return ''.join(out)"
      ],
      "execution_count": 0,
      "outputs": []
    },
    {
      "cell_type": "code",
      "metadata": {
        "id": "TPnVsFsHjHNx",
        "colab_type": "code",
        "colab": {
          "base_uri": "https://localhost:8080/",
          "height": 34
        },
        "outputId": "05043111-5a1d-43ac-8ce0-78b144214e08"
      },
      "source": [
        "my_func('abcdefghi')"
      ],
      "execution_count": 133,
      "outputs": [
        {
          "output_type": "execute_result",
          "data": {
            "text/plain": [
              "'aBcDeFgHi'"
            ]
          },
          "metadata": {
            "tags": []
          },
          "execution_count": 133
        }
      ]
    },
    {
      "cell_type": "code",
      "metadata": {
        "id": "3EaCh7eRkAw_",
        "colab_type": "code",
        "colab": {
          "base_uri": "https://localhost:8080/",
          "height": 34
        },
        "outputId": "40c1ae0b-ab70-427c-e7c9-2b263c2c47ad"
      },
      "source": [
        "def my_func(st):\n",
        "\n",
        "    res = []\n",
        "    #Iterate over the characters\n",
        "    for index, c in enumerate(st):\n",
        "        if index % 2 == 0:\n",
        "            #Refer to each character via index and append modified character to list\n",
        "            res.append(c.lower())\n",
        "        else:\n",
        "            res.append(c.upper())\n",
        "\n",
        "    #Join the list into a string and return\n",
        "    return ''.join(res)\n",
        "print(my_func('helloworld'))"
      ],
      "execution_count": 137,
      "outputs": [
        {
          "output_type": "stream",
          "text": [
            "hElLoWoRlD\n"
          ],
          "name": "stdout"
        }
      ]
    }
  ]
}