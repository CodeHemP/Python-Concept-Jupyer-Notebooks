{
  "nbformat": 4,
  "nbformat_minor": 0,
  "metadata": {
    "colab": {
      "name": "3_Methods_&_functions .ipynb",
      "provenance": [],
      "authorship_tag": "ABX9TyOcIyIeQqXQy8AkqHi4I4zV",
      "include_colab_link": true
    },
    "kernelspec": {
      "name": "python3",
      "display_name": "Python 3"
    }
  },
  "cells": [
    {
      "cell_type": "markdown",
      "metadata": {
        "id": "view-in-github",
        "colab_type": "text"
      },
      "source": [
        "<a href=\"https://colab.research.google.com/github/mohd-faizy/My_Python_Notebooks_Concept/blob/master/3_Methods_%26_functions_.ipynb\" target=\"_parent\"><img src=\"https://colab.research.google.com/assets/colab-badge.svg\" alt=\"Open In Colab\"/></a>"
      ]
    },
    {
      "cell_type": "markdown",
      "metadata": {
        "id": "maCFb9Cz-cBq",
        "colab_type": "text"
      },
      "source": [
        "# Methods\n",
        "\n",
        "We've already seen a few example of methods when learning about Object and Data Structure Types in Python. Methods are essentially functions built into objects. Later on in the course we will learn about how to create our own objects and methods using Object Oriented Programming (OOP) and classes.\n",
        "\n",
        "Methods perform specific actions on an object and can also take arguments, just like a function. This lecture will serve as just a brief introduction to methods and get you thinking about overall design methods that we will touch back upon when we reach OOP in the course.\n",
        "\n",
        "Methods are in the form:\n",
        "\n",
        "    object.method(arg1,arg2,etc...)\n",
        "    \n",
        "You'll later see that we can think of methods as having an argument 'self' referring to the object itself. You can't see this argument but we will be using it later on in the course during the OOP lectures.\n",
        "\n",
        "Let's take a quick look at what an example of the various methods a list has:"
      ]
    },
    {
      "cell_type": "code",
      "metadata": {
        "id": "gLarrWhq-cBs",
        "colab_type": "code",
        "colab": {}
      },
      "source": [
        "# Create a simple list\n",
        "lst = [1,2,3,4,5]"
      ],
      "execution_count": 0,
      "outputs": []
    },
    {
      "cell_type": "markdown",
      "metadata": {
        "id": "zjcQYawW-cBx",
        "colab_type": "text"
      },
      "source": [
        "Fortunately, with iPython and the Jupyter Notebook we can quickly see all the possible methods using the tab key. The methods for a list are:\n",
        "\n",
        "* append\n",
        "* count\n",
        "* extend\n",
        "* insert\n",
        "* pop\n",
        "* remove\n",
        "* reverse\n",
        "* sort\n",
        "\n",
        "Let's try out a few of them:"
      ]
    },
    {
      "cell_type": "markdown",
      "metadata": {
        "id": "Hc4iXyPX-cBy",
        "colab_type": "text"
      },
      "source": [
        "append() allows us to add elements to the end of a list:"
      ]
    },
    {
      "cell_type": "code",
      "metadata": {
        "id": "wbhwOWOx-cBz",
        "colab_type": "code",
        "colab": {}
      },
      "source": [
        "lst.append(6)"
      ],
      "execution_count": 0,
      "outputs": []
    },
    {
      "cell_type": "code",
      "metadata": {
        "id": "4yXlHpGA-cB3",
        "colab_type": "code",
        "outputId": "99802106-6719-4c3b-d44b-7ea29ba9a8d6",
        "colab": {}
      },
      "source": [
        "lst"
      ],
      "execution_count": 0,
      "outputs": [
        {
          "output_type": "execute_result",
          "data": {
            "text/plain": [
              "[1, 2, 3, 4, 5, 6]"
            ]
          },
          "metadata": {
            "tags": []
          },
          "execution_count": 3
        }
      ]
    },
    {
      "cell_type": "markdown",
      "metadata": {
        "id": "OCV0ImGf-cB9",
        "colab_type": "text"
      },
      "source": [
        "Great! Now how about count()? The count() method will count the number of occurrences of an element in a list."
      ]
    },
    {
      "cell_type": "code",
      "metadata": {
        "id": "paZvld0Z-cB-",
        "colab_type": "code",
        "outputId": "582694cb-f46f-4d4b-85db-06dd815dc2f1",
        "colab": {}
      },
      "source": [
        "# Check how many times 2 shows up in the list\n",
        "lst.count(2)"
      ],
      "execution_count": 0,
      "outputs": [
        {
          "output_type": "execute_result",
          "data": {
            "text/plain": [
              "1"
            ]
          },
          "metadata": {
            "tags": []
          },
          "execution_count": 4
        }
      ]
    },
    {
      "cell_type": "markdown",
      "metadata": {
        "id": "YV8vXBTl-cCC",
        "colab_type": "text"
      },
      "source": [
        "You can always use Shift+Tab in the Jupyter Notebook to get more help about the method. In general Python you can use the help() function: "
      ]
    },
    {
      "cell_type": "code",
      "metadata": {
        "id": "kyzAxmQ9-cCD",
        "colab_type": "code",
        "outputId": "3287d092-ebe5-49fa-8a3c-3db31649ec4d",
        "colab": {}
      },
      "source": [
        "help(lst.count)"
      ],
      "execution_count": 0,
      "outputs": [
        {
          "output_type": "stream",
          "text": [
            "Help on built-in function count:\n",
            "\n",
            "count(...) method of builtins.list instance\n",
            "    L.count(value) -> integer -- return number of occurrences of value\n",
            "\n"
          ],
          "name": "stdout"
        }
      ]
    },
    {
      "cell_type": "markdown",
      "metadata": {
        "id": "qJmLy3ft1LQm",
        "colab_type": "text"
      },
      "source": [
        "# __functions__\n",
        "\n",
        "functions allows us to create blocks of codes that can be easily executed many times, without needing to constantly rewrite the entire block of code."
      ]
    },
    {
      "cell_type": "markdown",
      "metadata": {
        "id": "gS98u4oO2cno",
        "colab_type": "text"
      },
      "source": [
        "__return__ keyword:\n",
        "\n",
        "- typically we use the __return__ keyword to send back the result of the function, insted of just printing it out.\n",
        "\n",
        "- __return__ allows us to assign the output of a function to new varible,\n"
      ]
    },
    {
      "cell_type": "code",
      "metadata": {
        "id": "WaLWmvKL2cEm",
        "colab_type": "code",
        "colab": {}
      },
      "source": [
        "def name_function():\n",
        "    '''\n",
        "    DOCSTRING: Infomation about the function\n",
        "    INPUT: \n",
        "    OUTPUT:\n",
        "    '''\n",
        "    print('Hello')"
      ],
      "execution_count": 0,
      "outputs": []
    },
    {
      "cell_type": "code",
      "metadata": {
        "id": "Bgsm_k0QMISk",
        "colab_type": "code",
        "outputId": "1196735c-2d75-4cad-f53e-aceefe305d0d",
        "colab": {
          "base_uri": "https://localhost:8080/",
          "height": 141
        }
      },
      "source": [
        "help(name_function)"
      ],
      "execution_count": 0,
      "outputs": [
        {
          "output_type": "stream",
          "text": [
            "Help on function name_function in module __main__:\n",
            "\n",
            "name_function()\n",
            "    DOCSTRING: Infomation about the function\n",
            "    INPUT: \n",
            "    OUTPUT:\n",
            "\n"
          ],
          "name": "stdout"
        }
      ]
    },
    {
      "cell_type": "code",
      "metadata": {
        "id": "A-NptYx2Mb4D",
        "colab_type": "code",
        "colab": {}
      },
      "source": [
        "def say_hello(name):\n",
        "    #print('hello ' + name)\n",
        "    return 'hello ' + name\n"
      ],
      "execution_count": 0,
      "outputs": []
    },
    {
      "cell_type": "code",
      "metadata": {
        "id": "M7MNk9dINpXd",
        "colab_type": "code",
        "colab": {}
      },
      "source": [
        "result = say_hello('faizy')"
      ],
      "execution_count": 0,
      "outputs": []
    },
    {
      "cell_type": "code",
      "metadata": {
        "id": "uZZBdb-9Ofdm",
        "colab_type": "code",
        "outputId": "043e5b28-6fcf-4fc4-db1a-a3386fc7d22c",
        "colab": {
          "base_uri": "https://localhost:8080/",
          "height": 34
        }
      },
      "source": [
        "result # We do not get any thing for the result"
      ],
      "execution_count": 0,
      "outputs": [
        {
          "output_type": "execute_result",
          "data": {
            "text/plain": [
              "'hello faizy'"
            ]
          },
          "metadata": {
            "tags": []
          },
          "execution_count": 22
        }
      ]
    },
    {
      "cell_type": "markdown",
      "metadata": {
        "id": "Mo1pFMzoUO0_",
        "colab_type": "text"
      },
      "source": [
        "when we uses the __print__ function insted of __return__ then the type it return is  __NoneType__ because the function isn't  returning something\n",
        "hence we need to use the __return__ keyword is used."
      ]
    },
    {
      "cell_type": "code",
      "metadata": {
        "id": "FZ-WYS30N2jc",
        "colab_type": "code",
        "outputId": "560bc5e7-faff-4d79-b4e5-7f571ca2ea03",
        "colab": {
          "base_uri": "https://localhost:8080/",
          "height": 54
        }
      },
      "source": [
        "type(result)"
      ],
      "execution_count": 0,
      "outputs": [
        {
          "output_type": "execute_result",
          "data": {
            "text/plain": [
              "\"\\nThe type is NoneType because the function isn't  returning something\\nhence we need to use the return keyword\\n\""
            ]
          },
          "metadata": {
            "tags": []
          },
          "execution_count": 23
        }
      ]
    },
    {
      "cell_type": "code",
      "metadata": {
        "id": "-eFwY7qNVCHP",
        "colab_type": "code",
        "outputId": "7703df84-f9b5-4ff4-8cdb-52162cace3c4",
        "colab": {
          "base_uri": "https://localhost:8080/",
          "height": 34
        }
      },
      "source": [
        "# Add Function \n",
        "def add(n1,n2):\n",
        "    return n1+n2\n",
        "\n",
        "result = add(50,60)\n",
        "print(result)"
      ],
      "execution_count": 0,
      "outputs": [
        {
          "output_type": "stream",
          "text": [
            "110\n"
          ],
          "name": "stdout"
        }
      ]
    },
    {
      "cell_type": "markdown",
      "metadata": {
        "id": "G84nCcoJVy8b",
        "colab_type": "text"
      },
      "source": [
        "Typically when using the function we have to use the __return__ keyword as we can assign the result to a varible and can use it later."
      ]
    },
    {
      "cell_type": "markdown",
      "metadata": {
        "id": "b9cymFrtaywm",
        "colab_type": "text"
      },
      "source": [
        "> __find out if the word dog is in the string__"
      ]
    },
    {
      "cell_type": "code",
      "metadata": {
        "id": "8k2Q8g-QbDpz",
        "colab_type": "code",
        "colab": {}
      },
      "source": [
        "# beginner approch\n",
        "\n",
        "def dog_check(mystring):\n",
        "    if 'dog' in mystring.lower():\n",
        "    # No needs if statement as the statement is iteslf a boolean \n",
        "        return True\n",
        "    else:\n",
        "        return False"
      ],
      "execution_count": 0,
      "outputs": []
    },
    {
      "cell_type": "code",
      "metadata": {
        "id": "yUqzNhFSbxPD",
        "colab_type": "code",
        "outputId": "37914630-4f1c-406d-deba-f3587ef842f5",
        "colab": {
          "base_uri": "https://localhost:8080/",
          "height": 34
        }
      },
      "source": [
        "dog_check('My dog ran away')"
      ],
      "execution_count": 0,
      "outputs": [
        {
          "output_type": "execute_result",
          "data": {
            "text/plain": [
              "True"
            ]
          },
          "metadata": {
            "tags": []
          },
          "execution_count": 41
        }
      ]
    },
    {
      "cell_type": "code",
      "metadata": {
        "id": "u2eGSDYUddvZ",
        "colab_type": "code",
        "colab": {}
      },
      "source": [
        "# Pro Approch\n",
        "\n",
        "def dog_check(mystring):\n",
        "    return 'dog' in mystring.lower()"
      ],
      "execution_count": 0,
      "outputs": []
    },
    {
      "cell_type": "code",
      "metadata": {
        "colab_type": "code",
        "outputId": "54324d42-d035-41a4-dfb7-09016590d3c5",
        "id": "GN91XRUQd4BI",
        "colab": {
          "base_uri": "https://localhost:8080/",
          "height": 34
        }
      },
      "source": [
        "dog_check('My dog ran away')"
      ],
      "execution_count": 0,
      "outputs": [
        {
          "output_type": "execute_result",
          "data": {
            "text/plain": [
              "True"
            ]
          },
          "metadata": {
            "tags": []
          },
          "execution_count": 46
        }
      ]
    },
    {
      "cell_type": "markdown",
      "metadata": {
        "id": "Cvt1FtdFxrkz",
        "colab_type": "text"
      },
      "source": [
        "## PIG LATIN\n",
        "\n",
        "- if word start with a vowel, add 'ay' to end.\n",
        "- if word does not start with a vowel, put first letter at the end,then add 'ay'\n",
        "- word --> ordway\n",
        "- apple --> appleay"
      ]
    },
    {
      "cell_type": "code",
      "metadata": {
        "id": "Ap9nophNy1uy",
        "colab_type": "code",
        "colab": {}
      },
      "source": [
        "def pig_latin(word):\n",
        "    first_letter = word[0]\n",
        "    # check if vowel\n",
        "    if first_letter in 'aieou':\n",
        "        pig_word = word + 'ay'\n",
        "    else:\n",
        "        pig_word = word[1:] + first_letter + 'ay'\n",
        "    return pig_word"
      ],
      "execution_count": 0,
      "outputs": []
    },
    {
      "cell_type": "code",
      "metadata": {
        "id": "1yEUiJ0R9xXt",
        "colab_type": "code",
        "outputId": "5c553e04-1533-443f-dd04-1ee16a4fec02",
        "colab": {
          "base_uri": "https://localhost:8080/",
          "height": 34
        }
      },
      "source": [
        "pig_latin('apple')"
      ],
      "execution_count": 0,
      "outputs": [
        {
          "output_type": "execute_result",
          "data": {
            "text/plain": [
              "'appleay'"
            ]
          },
          "metadata": {
            "tags": []
          },
          "execution_count": 4
        }
      ]
    },
    {
      "cell_type": "code",
      "metadata": {
        "id": "UkEYAKXE97ES",
        "colab_type": "code",
        "outputId": "b11ba27c-8cae-4637-ef86-627496d37794",
        "colab": {
          "base_uri": "https://localhost:8080/",
          "height": 34
        }
      },
      "source": [
        "pig_latin('word')"
      ],
      "execution_count": 0,
      "outputs": [
        {
          "output_type": "execute_result",
          "data": {
            "text/plain": [
              "'ordway'"
            ]
          },
          "metadata": {
            "tags": []
          },
          "execution_count": 5
        }
      ]
    }
  ]
}