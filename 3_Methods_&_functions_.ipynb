{
  "nbformat": 4,
  "nbformat_minor": 0,
  "metadata": {
    "colab": {
      "name": "3_Methods_&_functions .ipynb",
      "provenance": [],
      "authorship_tag": "ABX9TyO1/5BLPlJE19akOWyfHBEm",
      "include_colab_link": true
    },
    "kernelspec": {
      "name": "python3",
      "display_name": "Python 3"
    }
  },
  "cells": [
    {
      "cell_type": "markdown",
      "metadata": {
        "id": "view-in-github",
        "colab_type": "text"
      },
      "source": [
        "<a href=\"https://colab.research.google.com/github/mohd-faizy/My_Python_Notebooks_Concept/blob/master/3_Methods_%26_functions_.ipynb\" target=\"_parent\"><img src=\"https://colab.research.google.com/assets/colab-badge.svg\" alt=\"Open In Colab\"/></a>"
      ]
    },
    {
      "cell_type": "markdown",
      "metadata": {
        "id": "sfFeGlFxAAho",
        "colab_type": "text"
      },
      "source": [
        "# __Methods__\n"
      ]
    },
    {
      "cell_type": "markdown",
      "metadata": {
        "id": "maCFb9Cz-cBq",
        "colab_type": "text"
      },
      "source": [
        "We've already seen a few example of methods when learning about Object and Data Structure Types in Python. Methods are essentially functions built into objects. Later on in the course we will learn about how to create our own objects and methods using Object Oriented Programming (OOP) and classes.\n",
        "\n",
        "Methods perform specific actions on an object and can also take arguments, just like a function. This lecture will serve as just a brief introduction to methods and get you thinking about overall design methods that we will touch back upon when we reach OOP in the course.\n",
        "\n",
        "Methods are in the form:\n",
        "\n",
        "    object.method(arg1,arg2,etc...)\n",
        "    \n",
        "You'll later see that we can think of methods as having an argument 'self' referring to the object itself. You can't see this argument but we will be using it later on in the course during the OOP lectures.\n",
        "\n",
        "Let's take a quick look at what an example of the various methods a list has:"
      ]
    },
    {
      "cell_type": "code",
      "metadata": {
        "id": "gLarrWhq-cBs",
        "colab_type": "code",
        "colab": {}
      },
      "source": [
        "# Create a simple list\n",
        "lst = [1,2,3,4,5]"
      ],
      "execution_count": 0,
      "outputs": []
    },
    {
      "cell_type": "markdown",
      "metadata": {
        "id": "zjcQYawW-cBx",
        "colab_type": "text"
      },
      "source": [
        "Fortunately, with iPython and the Jupyter Notebook we can quickly see all the possible methods using the tab key. The methods for a list are:\n",
        "\n",
        "* append\n",
        "* count\n",
        "* extend\n",
        "* insert\n",
        "* pop\n",
        "* remove\n",
        "* reverse\n",
        "* sort\n",
        "\n",
        "Let's try out a few of them:"
      ]
    },
    {
      "cell_type": "markdown",
      "metadata": {
        "id": "Hc4iXyPX-cBy",
        "colab_type": "text"
      },
      "source": [
        "`append()` allows us to add elements to the end of a list:"
      ]
    },
    {
      "cell_type": "code",
      "metadata": {
        "id": "wbhwOWOx-cBz",
        "colab_type": "code",
        "colab": {}
      },
      "source": [
        "lst.append(6)"
      ],
      "execution_count": 0,
      "outputs": []
    },
    {
      "cell_type": "code",
      "metadata": {
        "id": "4yXlHpGA-cB3",
        "colab_type": "code",
        "outputId": "99802106-6719-4c3b-d44b-7ea29ba9a8d6",
        "colab": {}
      },
      "source": [
        "lst"
      ],
      "execution_count": 0,
      "outputs": [
        {
          "output_type": "execute_result",
          "data": {
            "text/plain": [
              "[1, 2, 3, 4, 5, 6]"
            ]
          },
          "metadata": {
            "tags": []
          },
          "execution_count": 3
        }
      ]
    },
    {
      "cell_type": "markdown",
      "metadata": {
        "id": "OCV0ImGf-cB9",
        "colab_type": "text"
      },
      "source": [
        "Great! Now how about count()? The count() method will count the number of occurrences of an element in a list."
      ]
    },
    {
      "cell_type": "code",
      "metadata": {
        "id": "paZvld0Z-cB-",
        "colab_type": "code",
        "outputId": "582694cb-f46f-4d4b-85db-06dd815dc2f1",
        "colab": {}
      },
      "source": [
        "# Check how many times 2 shows up in the list\n",
        "lst.count(2)"
      ],
      "execution_count": 0,
      "outputs": [
        {
          "output_type": "execute_result",
          "data": {
            "text/plain": [
              "1"
            ]
          },
          "metadata": {
            "tags": []
          },
          "execution_count": 4
        }
      ]
    },
    {
      "cell_type": "markdown",
      "metadata": {
        "id": "YV8vXBTl-cCC",
        "colab_type": "text"
      },
      "source": [
        "You can always use Shift+Tab in the Jupyter Notebook to get more help about the method. In general Python you can use the help() function: "
      ]
    },
    {
      "cell_type": "code",
      "metadata": {
        "id": "kyzAxmQ9-cCD",
        "colab_type": "code",
        "outputId": "3287d092-ebe5-49fa-8a3c-3db31649ec4d",
        "colab": {}
      },
      "source": [
        "help(lst.count)"
      ],
      "execution_count": 0,
      "outputs": [
        {
          "output_type": "stream",
          "text": [
            "Help on built-in function count:\n",
            "\n",
            "count(...) method of builtins.list instance\n",
            "    L.count(value) -> integer -- return number of occurrences of value\n",
            "\n"
          ],
          "name": "stdout"
        }
      ]
    },
    {
      "cell_type": "markdown",
      "metadata": {
        "id": "nu_F3uTI_72U",
        "colab_type": "text"
      },
      "source": [
        "# __functions__"
      ]
    },
    {
      "cell_type": "markdown",
      "metadata": {
        "id": "qJmLy3ft1LQm",
        "colab_type": "text"
      },
      "source": [
        "functions allows us to create blocks of codes that can be easily executed many times, without needing to constantly rewrite the entire block of code.\n",
        "\n",
        "- You can pass data, known as __parameters__, into a function.\n",
        "\n",
        "- A function can __return__ data as a __result__."
      ]
    },
    {
      "cell_type": "markdown",
      "metadata": {
        "id": "kz4DftEp0hQ7",
        "colab_type": "text"
      },
      "source": [
        "**Arguments**\n",
        "\n",
        "- Information can be passed into functions as **arguments**.\n",
        "\n",
        "- Arguments are specified after the function name, inside the parentheses. we can add as many arguments as you want, just separate them with a comma."
      ]
    },
    {
      "cell_type": "markdown",
      "metadata": {
        "id": "gS98u4oO2cno",
        "colab_type": "text"
      },
      "source": [
        "__`return`__ keyword:\n",
        "\n",
        "- typically we use the __`return`__ keyword to send back the result of the function, insted of just printing it out.\n",
        "\n",
        "- __`return`__ allows us to assign the output of a function to new varible,\n"
      ]
    },
    {
      "cell_type": "code",
      "metadata": {
        "id": "WaLWmvKL2cEm",
        "colab_type": "code",
        "colab": {}
      },
      "source": [
        "def name_function():\n",
        "    '''\n",
        "    DOCSTRING: Infomation about the function\n",
        "    INPUT: \n",
        "    OUTPUT:\n",
        "    '''\n",
        "    print('Hello')"
      ],
      "execution_count": 0,
      "outputs": []
    },
    {
      "cell_type": "code",
      "metadata": {
        "id": "Bgsm_k0QMISk",
        "colab_type": "code",
        "outputId": "1196735c-2d75-4cad-f53e-aceefe305d0d",
        "colab": {
          "base_uri": "https://localhost:8080/",
          "height": 141
        }
      },
      "source": [
        "help(name_function)"
      ],
      "execution_count": 0,
      "outputs": [
        {
          "output_type": "stream",
          "text": [
            "Help on function name_function in module __main__:\n",
            "\n",
            "name_function()\n",
            "    DOCSTRING: Infomation about the function\n",
            "    INPUT: \n",
            "    OUTPUT:\n",
            "\n"
          ],
          "name": "stdout"
        }
      ]
    },
    {
      "cell_type": "code",
      "metadata": {
        "id": "A-NptYx2Mb4D",
        "colab_type": "code",
        "colab": {}
      },
      "source": [
        "def say_hello(name):\n",
        "    #print('hello ' + name)\n",
        "    return 'hello ' + name\n"
      ],
      "execution_count": 0,
      "outputs": []
    },
    {
      "cell_type": "code",
      "metadata": {
        "id": "M7MNk9dINpXd",
        "colab_type": "code",
        "colab": {}
      },
      "source": [
        "result = say_hello('faizy')"
      ],
      "execution_count": 0,
      "outputs": []
    },
    {
      "cell_type": "code",
      "metadata": {
        "id": "uZZBdb-9Ofdm",
        "colab_type": "code",
        "outputId": "043e5b28-6fcf-4fc4-db1a-a3386fc7d22c",
        "colab": {
          "base_uri": "https://localhost:8080/",
          "height": 34
        }
      },
      "source": [
        "result # We do not get any thing for the result"
      ],
      "execution_count": 0,
      "outputs": [
        {
          "output_type": "execute_result",
          "data": {
            "text/plain": [
              "'hello faizy'"
            ]
          },
          "metadata": {
            "tags": []
          },
          "execution_count": 22
        }
      ]
    },
    {
      "cell_type": "markdown",
      "metadata": {
        "id": "Mo1pFMzoUO0_",
        "colab_type": "text"
      },
      "source": [
        "when we uses the __print__ function insted of __return__ then the type it return is  __NoneType__ because the function isn't  returning something\n",
        "hence we need to use the __return__ keyword is used."
      ]
    },
    {
      "cell_type": "code",
      "metadata": {
        "id": "FZ-WYS30N2jc",
        "colab_type": "code",
        "outputId": "560bc5e7-faff-4d79-b4e5-7f571ca2ea03",
        "colab": {
          "base_uri": "https://localhost:8080/",
          "height": 54
        }
      },
      "source": [
        "type(result)"
      ],
      "execution_count": 0,
      "outputs": [
        {
          "output_type": "execute_result",
          "data": {
            "text/plain": [
              "\"\\nThe type is NoneType because the function isn't  returning something\\nhence we need to use the return keyword\\n\""
            ]
          },
          "metadata": {
            "tags": []
          },
          "execution_count": 23
        }
      ]
    },
    {
      "cell_type": "code",
      "metadata": {
        "id": "-eFwY7qNVCHP",
        "colab_type": "code",
        "outputId": "7703df84-f9b5-4ff4-8cdb-52162cace3c4",
        "colab": {
          "base_uri": "https://localhost:8080/",
          "height": 34
        }
      },
      "source": [
        "# Add Function \n",
        "def add(n1,n2):\n",
        "    return n1+n2\n",
        "\n",
        "result = add(50,60)\n",
        "print(result)"
      ],
      "execution_count": 0,
      "outputs": [
        {
          "output_type": "stream",
          "text": [
            "110\n"
          ],
          "name": "stdout"
        }
      ]
    },
    {
      "cell_type": "markdown",
      "metadata": {
        "id": "G84nCcoJVy8b",
        "colab_type": "text"
      },
      "source": [
        "Typically when using the function we have to use the __return__ keyword as we can assign the result to a varible and can use it later."
      ]
    },
    {
      "cell_type": "markdown",
      "metadata": {
        "id": "b9cymFrtaywm",
        "colab_type": "text"
      },
      "source": [
        "> __find out if the word dog is in the string__"
      ]
    },
    {
      "cell_type": "code",
      "metadata": {
        "id": "8k2Q8g-QbDpz",
        "colab_type": "code",
        "colab": {}
      },
      "source": [
        "# beginner approch\n",
        "\n",
        "def dog_check(mystring):\n",
        "    if 'dog' in mystring.lower():\n",
        "    # No needs if statement as the statement is iteslf a boolean \n",
        "        return True\n",
        "    else:\n",
        "        return False"
      ],
      "execution_count": 0,
      "outputs": []
    },
    {
      "cell_type": "code",
      "metadata": {
        "id": "yUqzNhFSbxPD",
        "colab_type": "code",
        "outputId": "37914630-4f1c-406d-deba-f3587ef842f5",
        "colab": {
          "base_uri": "https://localhost:8080/",
          "height": 34
        }
      },
      "source": [
        "dog_check('My dog ran away')"
      ],
      "execution_count": 0,
      "outputs": [
        {
          "output_type": "execute_result",
          "data": {
            "text/plain": [
              "True"
            ]
          },
          "metadata": {
            "tags": []
          },
          "execution_count": 41
        }
      ]
    },
    {
      "cell_type": "code",
      "metadata": {
        "id": "u2eGSDYUddvZ",
        "colab_type": "code",
        "colab": {}
      },
      "source": [
        "# Pro Approch\n",
        "\n",
        "def dog_check(mystring):\n",
        "    return 'dog' in mystring.lower()"
      ],
      "execution_count": 0,
      "outputs": []
    },
    {
      "cell_type": "code",
      "metadata": {
        "colab_type": "code",
        "outputId": "54324d42-d035-41a4-dfb7-09016590d3c5",
        "id": "GN91XRUQd4BI",
        "colab": {
          "base_uri": "https://localhost:8080/",
          "height": 34
        }
      },
      "source": [
        "dog_check('My dog ran away')"
      ],
      "execution_count": 0,
      "outputs": [
        {
          "output_type": "execute_result",
          "data": {
            "text/plain": [
              "True"
            ]
          },
          "metadata": {
            "tags": []
          },
          "execution_count": 46
        }
      ]
    },
    {
      "cell_type": "code",
      "metadata": {
        "id": "urXjkHF8Zfv0",
        "colab_type": "code",
        "outputId": "d7b4c112-3008-43a8-ef5e-f6cb32a7af7e",
        "colab": {
          "base_uri": "https://localhost:8080/",
          "height": 68
        }
      },
      "source": [
        "fruits = [\"apple\", \"banana\", \"cherry\"]\n",
        "\n",
        "def my_function(food):\n",
        "  for x in food:\n",
        "    print(x)\n",
        "\n",
        "my_function(fruits)"
      ],
      "execution_count": 0,
      "outputs": [
        {
          "output_type": "stream",
          "text": [
            "apple\n",
            "banana\n",
            "cherry\n"
          ],
          "name": "stdout"
        }
      ]
    },
    {
      "cell_type": "markdown",
      "metadata": {
        "id": "PeFvqrzjdd_H",
        "colab_type": "text"
      },
      "source": [
        "## __Recursion__"
      ]
    },
    {
      "cell_type": "markdown",
      "metadata": {
        "id": "WedY9OgwdYbh",
        "colab_type": "text"
      },
      "source": [
        "Python also accepts function **recursion**, which means a defined function can call itself.\n",
        "\n",
        "**Recursion** is a common mathematical and programming concept. It means that a **function calls itself**. This has the benefit of meaning that you can loop through data to reach a result.\n",
        "\n",
        "The developer should be very careful with **recursion** as it can be quite easy to slip into writing a function which never terminates, or one that uses excess amounts of memory or processor power. However, when written correctly recursion can be a very efficient and mathematically-elegant approach to programming."
      ]
    },
    {
      "cell_type": "code",
      "metadata": {
        "id": "GLIy0z-jeyt-",
        "colab_type": "code",
        "colab": {}
      },
      "source": [
        "def tri_recursion(k):\n",
        "  if k > 0:\n",
        "    result = k + tri_recursion(k - 1)\n",
        "    print(result)\n",
        "  else:\n",
        "    result = 0\n",
        "  return result"
      ],
      "execution_count": 0,
      "outputs": []
    },
    {
      "cell_type": "markdown",
      "metadata": {
        "id": "P8eyJbaggZCM",
        "colab_type": "text"
      },
      "source": [
        "In this example, `tri_recursion()` is a function that we have defined to call itself (\"recurse\"). We use the `k` variable as the data, which decrements (`-1`) every time we recurse. The recursion ends when the condition is not greater than 0 (i.e. when it is 0)."
      ]
    },
    {
      "cell_type": "code",
      "metadata": {
        "id": "mdRa8cfzgVQM",
        "colab_type": "code",
        "outputId": "87721ee3-c293-4da8-c45c-74f5e0824b53",
        "colab": {
          "base_uri": "https://localhost:8080/",
          "height": 136
        }
      },
      "source": [
        "#print(\"\\n\\nRecursion Example Results\")\n",
        "tri_recursion(6)"
      ],
      "execution_count": 0,
      "outputs": [
        {
          "output_type": "stream",
          "text": [
            "1\n",
            "3\n",
            "6\n",
            "10\n",
            "15\n",
            "21\n"
          ],
          "name": "stdout"
        },
        {
          "output_type": "execute_result",
          "data": {
            "text/plain": [
              "21"
            ]
          },
          "metadata": {
            "tags": []
          },
          "execution_count": 23
        }
      ]
    },
    {
      "cell_type": "markdown",
      "metadata": {
        "id": "Cvt1FtdFxrkz",
        "colab_type": "text"
      },
      "source": [
        "## __PIG LATIN Translater__ \n",
        "\n",
        "- if word start with a vowel, add 'ay' to end.\n",
        "- if word does not start with a vowel, put first letter at the end,then add 'ay'\n",
        "- word --> ordway\n",
        "- apple --> appleay"
      ]
    },
    {
      "cell_type": "code",
      "metadata": {
        "id": "Ap9nophNy1uy",
        "colab_type": "code",
        "colab": {}
      },
      "source": [
        "def pig_latin(word):\n",
        "    first_letter = word[0]\n",
        "    # check if vowel\n",
        "    if first_letter in 'aieou':\n",
        "        pig_word = word + 'ay'\n",
        "    else:\n",
        "        pig_word = word[1:] + first_letter + 'ay'\n",
        "    return pig_word"
      ],
      "execution_count": 0,
      "outputs": []
    },
    {
      "cell_type": "code",
      "metadata": {
        "id": "1yEUiJ0R9xXt",
        "colab_type": "code",
        "outputId": "5c553e04-1533-443f-dd04-1ee16a4fec02",
        "colab": {
          "base_uri": "https://localhost:8080/",
          "height": 34
        }
      },
      "source": [
        "pig_latin('apple')"
      ],
      "execution_count": 0,
      "outputs": [
        {
          "output_type": "execute_result",
          "data": {
            "text/plain": [
              "'appleay'"
            ]
          },
          "metadata": {
            "tags": []
          },
          "execution_count": 4
        }
      ]
    },
    {
      "cell_type": "code",
      "metadata": {
        "id": "UkEYAKXE97ES",
        "colab_type": "code",
        "outputId": "b11ba27c-8cae-4637-ef86-627496d37794",
        "colab": {
          "base_uri": "https://localhost:8080/",
          "height": 34
        }
      },
      "source": [
        "pig_latin('word')"
      ],
      "execution_count": 0,
      "outputs": [
        {
          "output_type": "execute_result",
          "data": {
            "text/plain": [
              "'ordway'"
            ]
          },
          "metadata": {
            "tags": []
          },
          "execution_count": 5
        }
      ]
    },
    {
      "cell_type": "markdown",
      "metadata": {
        "id": "Y2D0MwAodikS",
        "colab_type": "text"
      },
      "source": [
        "# __*args__ & __**kwargs__ [arguments & Keywords arguments]"
      ]
    },
    {
      "cell_type": "markdown",
      "metadata": {
        "id": "yz5V9eXWmeMH",
        "colab_type": "text"
      },
      "source": [
        "In Python, we can pass a variable number of arguments to a function using special symbols. There are two special symbols:\n",
        "\n",
        "- __*args__ (Non Keyword Arguments)\n",
        "- __**kwargs__ (Keyword Arguments)"
      ]
    },
    {
      "cell_type": "code",
      "metadata": {
        "id": "Zc8uN_mydw6A",
        "colab_type": "code",
        "colab": {}
      },
      "source": [
        "# Return the 5% sum of a and b\n",
        "\n",
        "def myfunc(a,b):                # a, b are the example of positional arguments\n",
        "    return sum((a,b)) * 0.05    # passing the arguments as a tuple() or list[]"
      ],
      "execution_count": 0,
      "outputs": []
    },
    {
      "cell_type": "markdown",
      "metadata": {
        "id": "5w12YJCGg1P6",
        "colab_type": "text"
      },
      "source": [
        "While working with multiple positional arguments. In the sum functional we have to pass them as a __tuple()__ or __list[  ]__"
      ]
    },
    {
      "cell_type": "code",
      "metadata": {
        "id": "92DvlkoXfK5P",
        "colab_type": "code",
        "outputId": "3b51800c-3e81-4a20-ccbe-c02d1e9878d9",
        "colab": {
          "base_uri": "https://localhost:8080/",
          "height": 34
        }
      },
      "source": [
        "myfunc(40,60)"
      ],
      "execution_count": 0,
      "outputs": [
        {
          "output_type": "execute_result",
          "data": {
            "text/plain": [
              "5.0"
            ]
          },
          "metadata": {
            "tags": []
          },
          "execution_count": 12
        }
      ]
    },
    {
      "cell_type": "markdown",
      "metadata": {
        "id": "48827om_iex8",
        "colab_type": "text"
      },
      "source": [
        "__Working with the multiple arguments:__\n"
      ]
    },
    {
      "cell_type": "code",
      "metadata": {
        "id": "0VicuXU9isK1",
        "colab_type": "code",
        "colab": {}
      },
      "source": [
        "def myfunc(a,b,c=0,d=0,e=0):\n",
        "    return sum((a,b,c,d,e)) * 0.05"
      ],
      "execution_count": 0,
      "outputs": []
    },
    {
      "cell_type": "code",
      "metadata": {
        "id": "F2IVZcyYjBo_",
        "colab_type": "code",
        "outputId": "ed29f8a5-8084-4a76-86a0-27e5615ab48a",
        "colab": {
          "base_uri": "https://localhost:8080/",
          "height": 34
        }
      },
      "source": [
        "myfunc(40,60,70,30,100)"
      ],
      "execution_count": 0,
      "outputs": [
        {
          "output_type": "execute_result",
          "data": {
            "text/plain": [
              "15.0"
            ]
          },
          "metadata": {
            "tags": []
          },
          "execution_count": 31
        }
      ]
    },
    {
      "cell_type": "markdown",
      "metadata": {
        "id": "ZxwqA2HXzMZJ",
        "colab_type": "text"
      },
      "source": [
        "### __*args__"
      ]
    },
    {
      "cell_type": "markdown",
      "metadata": {
        "id": "36Yx4Dbg1NMt",
        "colab_type": "text"
      },
      "source": [
        "If the number of arguments is **unknown**, add a * before the parameter name:"
      ]
    },
    {
      "cell_type": "markdown",
      "metadata": {
        "id": "z-3cMjVKovlb",
        "colab_type": "text"
      },
      "source": [
        "Python has __*args__ which allow us to pass the variable number of non keyword arguments to function.\n",
        "\n",
        "In the function, we should use an asterisk * before the parameter name to pass variable length arguments.The arguments are passed as a __tuple__ "
      ]
    },
    {
      "cell_type": "code",
      "metadata": {
        "id": "JZYxiPoamzOV",
        "colab_type": "code",
        "colab": {}
      },
      "source": [
        "def myfunc_1(*args): \n",
        "# This allow us treat this as a tuple of the arguments that are comming in\n",
        "    return sum(args) * 0.05"
      ],
      "execution_count": 0,
      "outputs": []
    },
    {
      "cell_type": "code",
      "metadata": {
        "id": "YOaHd-tKn9tu",
        "colab_type": "code",
        "outputId": "ec40b444-9210-424a-e89f-01637d943334",
        "colab": {
          "base_uri": "https://localhost:8080/",
          "height": 34
        }
      },
      "source": [
        "myfunc_1(40,60,70,30,100,500,100)"
      ],
      "execution_count": 0,
      "outputs": [
        {
          "output_type": "execute_result",
          "data": {
            "text/plain": [
              "45.0"
            ]
          },
          "metadata": {
            "tags": []
          },
          "execution_count": 35
        }
      ]
    },
    {
      "cell_type": "code",
      "metadata": {
        "id": "RDy4bTcho5ld",
        "colab_type": "code",
        "colab": {}
      },
      "source": [
        "def myfunc_2(*args):\n",
        "    print(args)     # its just a tuple\n",
        "    for items in args:\n",
        "        print(items)"
      ],
      "execution_count": 0,
      "outputs": []
    },
    {
      "cell_type": "code",
      "metadata": {
        "id": "5Lju21pCpI_q",
        "colab_type": "code",
        "outputId": "9da9bdbc-a6a5-4527-a0a9-240de573fc9a",
        "colab": {
          "base_uri": "https://localhost:8080/",
          "height": 119
        }
      },
      "source": [
        "myfunc_2(40,60,70,30,100)"
      ],
      "execution_count": 0,
      "outputs": [
        {
          "output_type": "stream",
          "text": [
            "(40, 60, 70, 30, 100)\n",
            "40\n",
            "60\n",
            "70\n",
            "30\n",
            "100\n"
          ],
          "name": "stdout"
        }
      ]
    },
    {
      "cell_type": "code",
      "metadata": {
        "id": "cbHHAae2Pwsi",
        "colab_type": "code",
        "outputId": "f66cafc2-30ba-485d-dc4b-fb4770363ab3",
        "colab": {
          "base_uri": "https://localhost:8080/",
          "height": 34
        }
      },
      "source": [
        "def my_function(*args):\n",
        "  print(\"The youngest child is \" + args[2])\n",
        "\n",
        "my_function(\"Emlie\",\"Tobias\" ,\"Linus\")"
      ],
      "execution_count": 0,
      "outputs": [
        {
          "output_type": "stream",
          "text": [
            "The youngest child is Linus\n"
          ],
          "name": "stdout"
        }
      ]
    },
    {
      "cell_type": "markdown",
      "metadata": {
        "id": "LYPiHZ-UzWbJ",
        "colab_type": "text"
      },
      "source": [
        "### __**kwargs__"
      ]
    },
    {
      "cell_type": "markdown",
      "metadata": {
        "id": "SiyK5u0Jpp3V",
        "colab_type": "text"
      },
      "source": [
        "__**kwargs__ allows us to pass the variable length of keyword arguments to the function.\n",
        "\n",
        "In the function, we use the double asterisk ** before the parameter name to denote this type of argument. The arguments are passed as a **dictionary** "
      ]
    },
    {
      "cell_type": "code",
      "metadata": {
        "id": "gV1dbh11Qh01",
        "colab_type": "code",
        "outputId": "fe9d76ae-baac-4c4a-a9bc-13febfbd0b5d",
        "colab": {
          "base_uri": "https://localhost:8080/",
          "height": 34
        }
      },
      "source": [
        "def my_function(child3, child2, child1):\n",
        "  print(\"The youngest child is \" + child3)\n",
        "\n",
        "my_function(child1 = \"Emil\", child2 = \"Tobias\", child3 = \"Linus\")"
      ],
      "execution_count": 0,
      "outputs": [
        {
          "output_type": "stream",
          "text": [
            "The youngest child is Linus\n"
          ],
          "name": "stdout"
        }
      ]
    },
    {
      "cell_type": "code",
      "metadata": {
        "id": "g8UEPSioWWwe",
        "colab_type": "code",
        "outputId": "8b9f80ee-5ab4-424c-8a3a-27f1c9f51f8b",
        "colab": {
          "base_uri": "https://localhost:8080/",
          "height": 34
        }
      },
      "source": [
        "def my_function(**kwargs):\n",
        "  print(\"His last name is \" + kwargs[\"lname\"])\n",
        "\n",
        "my_function(fname = \"Mohd\", lname = \"Faizy\")"
      ],
      "execution_count": 0,
      "outputs": [
        {
          "output_type": "stream",
          "text": [
            "His last name is Faizy\n"
          ],
          "name": "stdout"
        }
      ]
    },
    {
      "cell_type": "code",
      "metadata": {
        "id": "EI_qIhyjptvB",
        "colab_type": "code",
        "colab": {}
      },
      "source": [
        "def myfunc_3(**kwargs):\n",
        "    print(kwargs)      # its just a dictionay\n",
        "    if 'fruit' in kwargs:\n",
        "        print('My fruit of choice is {}'.format(kwargs['fruit']))\n",
        "    else:\n",
        "        print('I did not find any fruit here')"
      ],
      "execution_count": 0,
      "outputs": []
    },
    {
      "cell_type": "code",
      "metadata": {
        "id": "tQ1tj75esLny",
        "colab_type": "code",
        "outputId": "f44e2b1d-1d78-4fa1-9f6b-f4e4202ff2a2",
        "colab": {
          "base_uri": "https://localhost:8080/",
          "height": 51
        }
      },
      "source": [
        "myfunc_3(fruit = 'apple', veggie = 'lattuce')"
      ],
      "execution_count": 0,
      "outputs": [
        {
          "output_type": "stream",
          "text": [
            "{'fruit': 'apple', 'veggie': 'lattuce'}\n",
            "My fruit of choice is apple\n"
          ],
          "name": "stdout"
        }
      ]
    },
    {
      "cell_type": "code",
      "metadata": {
        "id": "Vfk20XNOwfmR",
        "colab_type": "code",
        "colab": {}
      },
      "source": [
        "def myfunc_4(*args, **kwargs):\n",
        "    print(args)\n",
        "    print(kwargs)\n",
        "    print('I would to have {} {}'.format(args[1], kwargs['food']))"
      ],
      "execution_count": 0,
      "outputs": []
    },
    {
      "cell_type": "markdown",
      "metadata": {
        "id": "xR8z3Y25zLqB",
        "colab_type": "text"
      },
      "source": [
        "In the __myfunc_4__ the positional argument is follwed by the keyword arguments.\n",
        "\n",
        "if we use the reverse order to genrate the output, this will produce the syntaz error."
      ]
    },
    {
      "cell_type": "code",
      "metadata": {
        "id": "KLqvpVwXxmii",
        "colab_type": "code",
        "outputId": "788e75dc-b8a4-4011-f651-6b45b89b5c6f",
        "colab": {
          "base_uri": "https://localhost:8080/",
          "height": 68
        }
      },
      "source": [
        "myfunc_4(5,10,15, fruit = 'orange', food = 'eggs' , animal = 'goat')"
      ],
      "execution_count": 0,
      "outputs": [
        {
          "output_type": "stream",
          "text": [
            "(5, 10, 15)\n",
            "{'fruit': 'orange', 'food': 'eggs', 'animal': 'goat'}\n",
            "I would to have 10 eggs\n"
          ],
          "name": "stdout"
        }
      ]
    },
    {
      "cell_type": "markdown",
      "metadata": {
        "id": "55ndXc3jyVV_",
        "colab_type": "text"
      },
      "source": [
        "**Things to Remember:**\n",
        "\n",
        "- __*args__ and __*kwargs__ are special keyword which allows function to take variable length argument.\n",
        "\n",
        "- __*args__ passes variable number of non-keyworded arguments list and on which operation of the list can be performed.\n",
        "\n",
        "- __**kwargs__ passes variable number of keyword arguments dictionary to function on which operation of a dictionary can be performed.\n",
        "\n",
        "- __*args__ and __**kwargs__ make the function *flexible*."
      ]
    },
    {
      "cell_type": "markdown",
      "metadata": {
        "id": "z-RmSu86Biv-",
        "colab_type": "text"
      },
      "source": [
        "__Que__ -- Define a function called __myfunc__ that takes in arbitary number of arguments, and returns a __list__ containing only those arguments that are even."
      ]
    },
    {
      "cell_type": "code",
      "metadata": {
        "id": "WbWOAjnNAmf8",
        "colab_type": "code",
        "colab": {}
      },
      "source": [
        "list=[]\n",
        "def myfunc(*args):\n",
        "    for num in args:\n",
        "        if num% 2== 0:\n",
        "            list.append(num)\n",
        "    return list"
      ],
      "execution_count": 0,
      "outputs": []
    },
    {
      "cell_type": "code",
      "metadata": {
        "id": "GR3I49Y9A1oA",
        "colab_type": "code",
        "outputId": "9bf8ffa8-db36-4ce8-e62f-9fa686908da9",
        "colab": {
          "base_uri": "https://localhost:8080/",
          "height": 34
        }
      },
      "source": [
        "myfunc(1,2,3,4,5,6,7,8,9,10)"
      ],
      "execution_count": 0,
      "outputs": [
        {
          "output_type": "execute_result",
          "data": {
            "text/plain": [
              "[2, 4, 6, 8, 10]"
            ]
          },
          "metadata": {
            "tags": []
          },
          "execution_count": 87
        }
      ]
    },
    {
      "cell_type": "markdown",
      "metadata": {
        "id": "7kJLaKTSCZBL",
        "colab_type": "text"
      },
      "source": [
        "__Que__ -- Define a function called __myfunc__ that takes in a string, and returns a matching string where every even letter is uppercase and every odd letter is lowercase."
      ]
    },
    {
      "cell_type": "code",
      "metadata": {
        "id": "7eP4d6daELNC",
        "colab_type": "code",
        "colab": {}
      },
      "source": [
        "def my_func(st):\n",
        "\n",
        "    res = []\n",
        "    #Iterate over the character\n",
        "    for index in range(len(st)):\n",
        "        if index % 2 == 0:\n",
        "            #Refer to each character via index and append modified character to list\n",
        "            res.append(st[index].lower())\n",
        "        else:\n",
        "            res.append(st[index].upper())\n",
        "\n",
        "    #Join the list into a string and return\n",
        "    return ''.join(res)"
      ],
      "execution_count": 0,
      "outputs": []
    },
    {
      "cell_type": "code",
      "metadata": {
        "id": "yzi05Ie3OgS3",
        "colab_type": "code",
        "outputId": "34b72b67-c2cd-4fde-cd7f-04ed067c107c",
        "colab": {
          "base_uri": "https://localhost:8080/",
          "height": 34
        }
      },
      "source": [
        "my_func('abcdefghi')"
      ],
      "execution_count": 0,
      "outputs": [
        {
          "output_type": "execute_result",
          "data": {
            "text/plain": [
              "'aBcDeFgHi'"
            ]
          },
          "metadata": {
            "tags": []
          },
          "execution_count": 135
        }
      ]
    },
    {
      "cell_type": "code",
      "metadata": {
        "id": "oSnFUOfxi9n-",
        "colab_type": "code",
        "colab": {}
      },
      "source": [
        "def myfunc(x):\n",
        "    out = []\n",
        "    for i in range(len(x)):\n",
        "        if i%2==0:\n",
        "            out.append(x[i].lower())\n",
        "        else:\n",
        "            out.append(x[i].upper())\n",
        "    return ''.join(out)"
      ],
      "execution_count": 0,
      "outputs": []
    },
    {
      "cell_type": "code",
      "metadata": {
        "id": "TPnVsFsHjHNx",
        "colab_type": "code",
        "outputId": "05043111-5a1d-43ac-8ce0-78b144214e08",
        "colab": {
          "base_uri": "https://localhost:8080/",
          "height": 34
        }
      },
      "source": [
        "my_func('abcdefghi')"
      ],
      "execution_count": 0,
      "outputs": [
        {
          "output_type": "execute_result",
          "data": {
            "text/plain": [
              "'aBcDeFgHi'"
            ]
          },
          "metadata": {
            "tags": []
          },
          "execution_count": 133
        }
      ]
    },
    {
      "cell_type": "code",
      "metadata": {
        "id": "3EaCh7eRkAw_",
        "colab_type": "code",
        "outputId": "40c1ae0b-ab70-427c-e7c9-2b263c2c47ad",
        "colab": {
          "base_uri": "https://localhost:8080/",
          "height": 34
        }
      },
      "source": [
        "def my_func(st):\n",
        "\n",
        "    res = []\n",
        "    #Iterate over the characters\n",
        "    for index, c in enumerate(st):\n",
        "        if index % 2 == 0:\n",
        "            #Refer to each character via index and append modified character to list\n",
        "            res.append(c.lower())\n",
        "        else:\n",
        "            res.append(c.upper())\n",
        "\n",
        "    #Join the list into a string and return\n",
        "    return ''.join(res)\n",
        "print(my_func('helloworld'))"
      ],
      "execution_count": 0,
      "outputs": [
        {
          "output_type": "stream",
          "text": [
            "hElLoWoRlD\n"
          ],
          "name": "stdout"
        }
      ]
    },
    {
      "cell_type": "markdown",
      "metadata": {
        "id": "4E9KJPAD_nTq",
        "colab_type": "text"
      },
      "source": [
        "# __Lambda Expressions, Map, and Filter Functions__"
      ]
    },
    {
      "cell_type": "markdown",
      "metadata": {
        "id": "mtyktcIEUyIU",
        "colab_type": "text"
      },
      "source": [
        "## __MAP__ function"
      ]
    },
    {
      "cell_type": "markdown",
      "metadata": {
        "id": "_dFWano7psYJ",
        "colab_type": "text"
      },
      "source": [
        "**map()** function returns a map object(which is an **iterator**) of the results after applying the given function to **each item** of a given iterable (**list**, **tuple** etc.)"
      ]
    },
    {
      "cell_type": "code",
      "metadata": {
        "id": "RL56tjd3WCUG",
        "colab_type": "code",
        "outputId": "a58d2a59-45c5-4b16-ab43-fada953acd08",
        "colab": {
          "base_uri": "https://localhost:8080/",
          "height": 34
        }
      },
      "source": [
        "def square(num):\n",
        "    return num**2\n",
        "\n",
        "my_list = [1,2,4,8,16,32,64]\n",
        "\n",
        "for item in map(square,my_list):\n",
        "    print(item, end= ' ')"
      ],
      "execution_count": 0,
      "outputs": [
        {
          "output_type": "stream",
          "text": [
            "1 4 16 64 256 1024 4096 "
          ],
          "name": "stdout"
        }
      ]
    },
    {
      "cell_type": "code",
      "metadata": {
        "id": "I68tbbIsW9h4",
        "colab_type": "code",
        "outputId": "11852a76-4463-48d6-9dcc-081292e71c2b",
        "colab": {
          "base_uri": "https://localhost:8080/",
          "height": 34
        }
      },
      "source": [
        "# Map applies square function to every element in that my_list\n",
        "list(map(square, my_list)) "
      ],
      "execution_count": 0,
      "outputs": [
        {
          "output_type": "execute_result",
          "data": {
            "text/plain": [
              "[1, 4, 16, 64, 256, 1024, 4096]"
            ]
          },
          "metadata": {
            "tags": []
          },
          "execution_count": 17
        }
      ]
    },
    {
      "cell_type": "code",
      "metadata": {
        "id": "_mgNc0jqa72R",
        "colab_type": "code",
        "colab": {}
      },
      "source": [
        "def splicer(mystring):\n",
        "    if len(mystring)%2 == 0:\n",
        "        return 'EVEN'\n",
        "    else:\n",
        "        return mystring[0]\n",
        "\n",
        "my_names = ['faizy', 'atul', 'siddharth']\n",
        "\n",
        "# here Map function applies splicer function to every element in that my_names\n",
        "list(map(splicer, my_names))\n"
      ],
      "execution_count": 0,
      "outputs": []
    },
    {
      "cell_type": "markdown",
      "metadata": {
        "id": "ZD8UbRbHd9wj",
        "colab_type": "text"
      },
      "source": [
        "__Note__: \n",
        "\n",
        "- *we* are not using the open and close pranthesis in the function __square__ and __splicer__ because __map__ itself latter execute them.so inside an __map__ function we are passing our function as an argument."
      ]
    },
    {
      "cell_type": "markdown",
      "metadata": {
        "id": "FK7va-dSkEpc",
        "colab_type": "text"
      },
      "source": [
        "## __Filter__ function"
      ]
    },
    {
      "cell_type": "markdown",
      "metadata": {
        "id": "aUjDpDYnnbK-",
        "colab_type": "text"
      },
      "source": [
        "The `filter()` method constructs an iterator from elements of an iterable for which a function returns __True__.\n",
        "\n",
        "In simple words, the `filter()` method filters the given iterable with the help of a function that tests each element in the iterable to be __True__ true or not"
      ]
    },
    {
      "cell_type": "code",
      "metadata": {
        "id": "uYIEoWMkkTfl",
        "colab_type": "code",
        "outputId": "791ea6ad-7ca7-4518-94b5-9475f9977d7a",
        "colab": {
          "base_uri": "https://localhost:8080/",
          "height": 34
        }
      },
      "source": [
        "def check_even(num):\n",
        "    return num%2 == 0\n",
        "\n",
        "num_list = [1,2,3,4,5,6,7,8,9,10]\n",
        "\n",
        "# Lets say we only wanty to grab the even number from this list\n",
        "\n",
        "list(filter(check_even, num_list))"
      ],
      "execution_count": 0,
      "outputs": [
        {
          "output_type": "execute_result",
          "data": {
            "text/plain": [
              "[2, 4, 6, 8, 10]"
            ]
          },
          "metadata": {
            "tags": []
          },
          "execution_count": 25
        }
      ]
    },
    {
      "cell_type": "code",
      "metadata": {
        "id": "PwlX1GePpGd8",
        "colab_type": "code",
        "outputId": "97722d7d-5ce1-4233-a11a-90ae272701da",
        "colab": {
          "base_uri": "https://localhost:8080/",
          "height": 34
        }
      },
      "source": [
        "for n in filter(check_even,num_list):\n",
        "    print(n, end= ' ')"
      ],
      "execution_count": 0,
      "outputs": [
        {
          "output_type": "stream",
          "text": [
            "2 4 6 8 10 "
          ],
          "name": "stdout"
        }
      ]
    },
    {
      "cell_type": "markdown",
      "metadata": {
        "id": "RI0NDd91kUOz",
        "colab_type": "text"
      },
      "source": [
        "## __Lamda__ Function "
      ]
    },
    {
      "cell_type": "markdown",
      "metadata": {
        "id": "VjC0FV0rTtoj",
        "colab_type": "text"
      },
      "source": [
        "- Lamda function can be used to creat what is known as **anonymous function**.\n",
        "\n",
        "- This is a **one time function** that doesn't requre the naming like other function\n",
        "\n",
        "- we use them one time in our program and never refernce them again.\n",
        "\n",
        "- A lambda function can take any number of arguments, but can only have one expression.\n",
        "\n",
        "\n",
        "__Syntax__\n",
        "```\n",
        "lambda arguments : expression\n",
        "```\n",
        "\n"
      ]
    },
    {
      "cell_type": "code",
      "metadata": {
        "id": "VZ8M86nysXso",
        "colab_type": "code",
        "outputId": "aad06502-f9e7-4f13-ec5f-7c9c9544b261",
        "colab": {
          "base_uri": "https://localhost:8080/",
          "height": 34
        }
      },
      "source": [
        "def square_(num):\n",
        "    return num**2\n",
        "square_(2)"
      ],
      "execution_count": 0,
      "outputs": [
        {
          "output_type": "execute_result",
          "data": {
            "text/plain": [
              "4"
            ]
          },
          "metadata": {
            "tags": []
          },
          "execution_count": 33
        }
      ]
    },
    {
      "cell_type": "code",
      "metadata": {
        "id": "92YdZw0xqTmz",
        "colab_type": "code",
        "outputId": "51d4db9a-ada2-41a0-92c2-5cb7a440d880",
        "colab": {
          "base_uri": "https://localhost:8080/",
          "height": 34
        }
      },
      "source": [
        "'''\n",
        "-->> Although its a bad Convenction but python will allow this one liner\n",
        "-->> we can easily convert this into the lamda expression\n",
        "'''\n",
        "\n",
        "def square_(num): return num**2\n",
        "square_(2)"
      ],
      "execution_count": 0,
      "outputs": [
        {
          "output_type": "execute_result",
          "data": {
            "text/plain": [
              "4"
            ]
          },
          "metadata": {
            "tags": []
          },
          "execution_count": 32
        }
      ]
    },
    {
      "cell_type": "markdown",
      "metadata": {
        "id": "gvkCe2BEtoGp",
        "colab_type": "text"
      },
      "source": [
        "since lamda is a one time function so it doesn't requre the naming.\n",
        "\n",
        "*conveting the above code to the **lambda** function* "
      ]
    },
    {
      "cell_type": "code",
      "metadata": {
        "id": "km4Be9VMt9Ou",
        "colab_type": "code",
        "outputId": "7d8ee69e-74ec-478c-adbc-0773a51cc7f3",
        "colab": {
          "base_uri": "https://localhost:8080/",
          "height": 34
        }
      },
      "source": [
        "square_l = lambda num:num**2 # lambda arguments : expression\n",
        "square_l(25)"
      ],
      "execution_count": 0,
      "outputs": [
        {
          "output_type": "execute_result",
          "data": {
            "text/plain": [
              "625"
            ]
          },
          "metadata": {
            "tags": []
          },
          "execution_count": 34
        }
      ]
    },
    {
      "cell_type": "markdown",
      "metadata": {
        "id": "XAmUs6IkuxWp",
        "colab_type": "text"
      },
      "source": [
        "Lambda function is used in conjection with the other function.\n",
        "\n",
        "- Earlier when we are using the **map** function we are  defining the square function seprately--> thats using some extra space in the memory  hence to avoide this what we could do is to call the lambda function insted.\n"
      ]
    },
    {
      "cell_type": "code",
      "metadata": {
        "id": "GnbvrnHfwJVT",
        "colab_type": "code",
        "outputId": "b7ec7601-80b2-4474-ac35-1d8c5f4e2194",
        "colab": {
          "base_uri": "https://localhost:8080/",
          "height": 0
        }
      },
      "source": [
        "num_lis = [1,2,3,4,5,6,7,8,9,10]\n",
        "'''\n",
        "here we are genrating the square list by mapping\n",
        "the lambda expression to the num_lis\n",
        "'''\n",
        "list(map(lambda num:num**2, num_lis))"
      ],
      "execution_count": 5,
      "outputs": [
        {
          "output_type": "execute_result",
          "data": {
            "text/plain": [
              "[1, 4, 9, 16, 25, 36, 49, 64, 81, 100]"
            ]
          },
          "metadata": {
            "tags": []
          },
          "execution_count": 5
        }
      ]
    },
    {
      "cell_type": "markdown",
      "metadata": {
        "id": "goCZcLZH8xhX",
        "colab_type": "text"
      },
      "source": [
        "Using lambda function with filter"
      ]
    },
    {
      "cell_type": "code",
      "metadata": {
        "id": "nVVXsFDc9A0J",
        "colab_type": "code",
        "colab": {
          "base_uri": "https://localhost:8080/",
          "height": 0
        },
        "outputId": "bbc275ee-0c1a-46b9-ef6a-5f927d892510"
      },
      "source": [
        "num_list = [1,2,3,4,5,6,7,8,9,10]\n",
        "\n",
        "list(filter(lambda num:num%2 == 0, num_list))"
      ],
      "execution_count": 4,
      "outputs": [
        {
          "output_type": "execute_result",
          "data": {
            "text/plain": [
              "[2, 4, 6, 8, 10]"
            ]
          },
          "metadata": {
            "tags": []
          },
          "execution_count": 4
        }
      ]
    },
    {
      "cell_type": "markdown",
      "metadata": {
        "id": "DbKVn0l-9vMJ",
        "colab_type": "text"
      },
      "source": [
        "Grabing the first letter of the name using lamda function"
      ]
    },
    {
      "cell_type": "code",
      "metadata": {
        "id": "Zh2vAHm89_gk",
        "colab_type": "code",
        "colab": {
          "base_uri": "https://localhost:8080/",
          "height": 0
        },
        "outputId": "9cc852b8-46b5-4f39-8581-ac58331726f3"
      },
      "source": [
        "name_list = ['Captin', 'Aston', 'Timberlake']\n",
        "list(map(lambda name:name[0], name_list))"
      ],
      "execution_count": 8,
      "outputs": [
        {
          "output_type": "stream",
          "text": [
            "['C', 'A', 'T']\n"
          ],
          "name": "stdout"
        }
      ]
    },
    {
      "cell_type": "code",
      "metadata": {
        "id": "rlrPyHXC_AP8",
        "colab_type": "code",
        "colab": {
          "base_uri": "https://localhost:8080/",
          "height": 0
        },
        "outputId": "ef64e023-24e2-4d47-e793-e64eafb68a17"
      },
      "source": [
        "list(map(lambda name:name[::-1], name_list))"
      ],
      "execution_count": 17,
      "outputs": [
        {
          "output_type": "execute_result",
          "data": {
            "text/plain": [
              "['nitpaC', 'notsA', 'ekalrebmiT']"
            ]
          },
          "metadata": {
            "tags": []
          },
          "execution_count": 17
        }
      ]
    },
    {
      "cell_type": "code",
      "metadata": {
        "id": "4AgjFyoQ_S7r",
        "colab_type": "code",
        "colab": {}
      },
      "source": [
        ""
      ],
      "execution_count": 0,
      "outputs": []
    },
    {
      "cell_type": "markdown",
      "metadata": {
        "id": "LW-8vv42CYQR",
        "colab_type": "text"
      },
      "source": [
        "#  __Nested Statements and Scope__"
      ]
    },
    {
      "cell_type": "markdown",
      "metadata": {
        "id": "UNGtI6gUCYMl",
        "colab_type": "text"
      },
      "source": [
        "Now that we have gone over writing our own functions, it's important to understand how Python deals with the variable names you assign. When you create a variable name in Python the name is stored in a *name-space*. Variable names also have a *scope*, the scope determines the visibility of that variable name to other parts of your code.\n",
        "\n",
        "Let's start with a quick thought experiment; imagine the following code:"
      ]
    },
    {
      "cell_type": "code",
      "metadata": {
        "id": "PZ0FzWpgLD01",
        "colab_type": "code",
        "colab": {}
      },
      "source": [
        "x = 25\n",
        "\n",
        "def printer():\n",
        "    x = 50\n",
        "    return x"
      ],
      "execution_count": 0,
      "outputs": []
    },
    {
      "cell_type": "markdown",
      "metadata": {
        "id": "smgxjabdKzn6",
        "colab_type": "text"
      },
      "source": [
        "What do you imagine the output of printer() is? 25 or 50? What is the output of print x? 25 or 50?"
      ]
    },
    {
      "cell_type": "code",
      "metadata": {
        "id": "FaKKn9sQKzn9",
        "colab_type": "code",
        "outputId": "ad30daaa-8de4-46a2-d5a4-92612ce458e8",
        "colab": {}
      },
      "source": [
        "print(x) # Printing the Global"
      ],
      "execution_count": 0,
      "outputs": [
        {
          "output_type": "stream",
          "text": [
            "25\n"
          ],
          "name": "stdout"
        }
      ]
    },
    {
      "cell_type": "code",
      "metadata": {
        "id": "t-70qJE0KzoW",
        "colab_type": "code",
        "outputId": "30d94c32-146d-44bf-ff96-dbed9b6c2a52",
        "colab": {}
      },
      "source": [
        "print(printer()) # Printing the Local"
      ],
      "execution_count": 0,
      "outputs": [
        {
          "output_type": "stream",
          "text": [
            "50\n"
          ],
          "name": "stdout"
        }
      ]
    },
    {
      "cell_type": "markdown",
      "metadata": {
        "id": "WLhpBe_XKzou",
        "colab_type": "text"
      },
      "source": [
        "Interesting! But how does Python know which **x** you're referring to in your code? This is where the idea of **scope** comes in.\n",
        "\n",
        "Python has a set of rules it follows to decide what variables (such as **x** in this case) you are referencing in your code. Lets break down the rules:"
      ]
    },
    {
      "cell_type": "markdown",
      "metadata": {
        "collapsed": true,
        "id": "ipdewaDHKzov",
        "colab_type": "text"
      },
      "source": [
        "This idea of scope in your code is very important to understand in order to properly assign and **call variable names**. \n",
        "\n",
        "In simple terms, the idea of scope can be described by **3 general rules**:\n",
        "\n",
        "1. Name assignments will create or change local names by default.\n",
        "2. Name references search (at most) four scopes, these are:\n",
        "    * local\n",
        "    * enclosing functions\n",
        "    * global\n",
        "    * built-in\n",
        "3. Names declared in global and nonlocal statements map assigned names to enclosing module and function scopes.\n",
        "\n",
        "\n",
        "The statement in #2 above can be defined by the __LEGB rule__.\n",
        "\n",
        "**LEGB Rule:**\n",
        "\n",
        "- __L: Local__ — Names assigned in any way within a function (def or lambda), and not declared global in that function.\n",
        "\n",
        "- __E: Enclosing function locals__ — Names in the local scope of any and all enclosing functions (def or lambda), from inner to outer.\n",
        "\n",
        "- __G: Global (module)__ — Names assigned at the top-level of a module file, or declared global in a def within the file.\n",
        "\n",
        "- __B: Built-in (Python)__ — Names preassigned in the built-in names module : open, range, SyntaxError,..."
      ]
    },
    {
      "cell_type": "markdown",
      "metadata": {
        "id": "kEXBOg-DKzo2",
        "colab_type": "text"
      },
      "source": [
        "## Quick examples of LEGB\n",
        "\n"
      ]
    },
    {
      "cell_type": "markdown",
      "metadata": {
        "id": "LM9ehcsBhVlm",
        "colab_type": "text"
      },
      "source": [
        "### Local"
      ]
    },
    {
      "cell_type": "code",
      "metadata": {
        "id": "moNMtZ4vKzo8",
        "colab_type": "code",
        "colab": {}
      },
      "source": [
        "# x is local here:\n",
        "f = lambda x:x**2"
      ],
      "execution_count": 0,
      "outputs": []
    },
    {
      "cell_type": "markdown",
      "metadata": {
        "id": "-zKVSR3GKzpM",
        "colab_type": "text"
      },
      "source": [
        "### Enclosing function locals\n",
        "This occurs when we have a function inside a function (nested functions)\n"
      ]
    },
    {
      "cell_type": "code",
      "metadata": {
        "id": "bykCYs2PZEvE",
        "colab_type": "code",
        "colab": {}
      },
      "source": [
        "'''LEGB Rule:'''\n",
        "\n",
        "# Global\n",
        "name = 'This is a global name' # This has qa Global Scope\n",
        "\n",
        "def greet():\n",
        "    # Enclosing function\n",
        "    name = 'This is Enclosing'\n",
        "    \n",
        "    def hello():\n",
        "        # local\n",
        "        name ='This is local'  # This has the SCOPE local to this function.\n",
        "        print('Hello '+name)\n",
        "    hello()"
      ],
      "execution_count": 0,
      "outputs": []
    },
    {
      "cell_type": "markdown",
      "metadata": {
        "id": "Key4a8Qecc50",
        "colab_type": "text"
      },
      "source": [
        "__Note__: when we execute `hello()` this will immeditaly execute the function below $\\downarrow$\n",
        "\n",
        "\n",
        "```\n",
        "def hello():\n",
        "        # local\n",
        "        name ='This is local'\n",
        "        print('Hello '+name)\n",
        "```\n",
        "which ask the python to figure out $\\Rightarrow$ what dose this name varible assigned to?\n",
        "\n",
        "This will immediately finds this in local.\n",
        "\n",
        "$\\Rightarrow$ if we comment that out this will then look for the name space in the Enclosing function.\n",
        "\n",
        "$\\Rightarrow$ and if trha also commented out that also then it will look for the name space in the Global. \n",
        "\n",
        "\n",
        "\n",
        "\n",
        "\n",
        "\n",
        "\n"
      ]
    },
    {
      "cell_type": "code",
      "metadata": {
        "id": "O863tH1Ob47A",
        "colab_type": "code",
        "colab": {
          "base_uri": "https://localhost:8080/",
          "height": 34
        },
        "outputId": "93a2bbee-67a4-48a1-e4a3-79f088d124a5"
      },
      "source": [
        "greet()"
      ],
      "execution_count": 14,
      "outputs": [
        {
          "output_type": "stream",
          "text": [
            "Hello This is local\n"
          ],
          "name": "stdout"
        }
      ]
    },
    {
      "cell_type": "markdown",
      "metadata": {
        "id": "b16JnvKTKzpn",
        "colab_type": "text"
      },
      "source": [
        "Note how Sammy was used, because the hello() function was enclosed inside of the greet function!"
      ]
    },
    {
      "cell_type": "markdown",
      "metadata": {
        "id": "QqHmBUWgKzpo",
        "colab_type": "text"
      },
      "source": [
        "### Global\n",
        "Luckily in Jupyter a quick way to test for global variables is to see if another cell recognizes the variable!"
      ]
    },
    {
      "cell_type": "code",
      "metadata": {
        "id": "wvdF0lTYKzpv",
        "colab_type": "code",
        "outputId": "c3bcdf4c-5cf5-490e-8c03-c8060cc79ee2",
        "colab": {}
      },
      "source": [
        "print(name)"
      ],
      "execution_count": 0,
      "outputs": [
        {
          "output_type": "stream",
          "text": [
            "This is a global name\n"
          ],
          "name": "stdout"
        }
      ]
    },
    {
      "cell_type": "markdown",
      "metadata": {
        "id": "cYEFnIPyKzqJ",
        "colab_type": "text"
      },
      "source": [
        "### Built-in\n",
        "These are the built-in function names in Python (don't overwrite these!)"
      ]
    },
    {
      "cell_type": "code",
      "metadata": {
        "id": "sL4reC6YKzqK",
        "colab_type": "code",
        "outputId": "444d01d1-644d-4f34-b831-c242ca1a3def",
        "colab": {}
      },
      "source": [
        "len"
      ],
      "execution_count": 0,
      "outputs": [
        {
          "output_type": "execute_result",
          "data": {
            "text/plain": [
              "<function len>"
            ]
          },
          "metadata": {
            "tags": []
          },
          "execution_count": 7
        }
      ]
    },
    {
      "cell_type": "markdown",
      "metadata": {
        "id": "TKc1_YodKzqf",
        "colab_type": "text"
      },
      "source": [
        "## Local Variables\n",
        "When you declare variables inside a function definition, they are not related in any way to other variables with the same names used outside the function - i.e. variable names are local to the function. This is called the **scope** of the variable.\n",
        "\n",
        " All variables have the scope of the block they are declared in starting from the point of definition of the name.\n",
        "\n",
        "Example:"
      ]
    },
    {
      "cell_type": "code",
      "metadata": {
        "id": "codlcVadKzqh",
        "colab_type": "code",
        "outputId": "91aaf130-0860-45d7-e299-197635b842b6",
        "colab": {}
      },
      "source": [
        "x = 50         # This has a Global Scope \n",
        "\n",
        "def func(x):\n",
        "    print('x is', x)\n",
        "    x = 2      # This has a local scope\n",
        "    print('Changed local x to', x)\n",
        "\n",
        "func(x)\n",
        "print('x is still', x)"
      ],
      "execution_count": 0,
      "outputs": [
        {
          "output_type": "stream",
          "text": [
            "x is 50\n",
            "Changed local x to 2\n",
            "x is still 50\n"
          ],
          "name": "stdout"
        }
      ]
    },
    {
      "cell_type": "markdown",
      "metadata": {
        "id": "JfwB-a41Kzq4",
        "colab_type": "text"
      },
      "source": [
        "The first time that we print the value of the name **x** with the first line in the function’s body, Python uses the value of the parameter declared in the main block, above the function definition.\n",
        "\n",
        "Next, we assign the value 2 to **x**. The name **x** is local to our function. So, when we change the value of **x** in the function, the **x** defined in the main block remains unaffected.\n",
        "\n",
        "With the last print statement, we display the value of **x** as defined in the main block, thereby confirming that it is actually unaffected by the local assignment within the previously called function.\n",
        "\n",
        "## The <code>global</code> statement\n",
        "If you want to assign a value to a name defined at the top level of the program (i.e. not inside any kind of scope such as functions or classes), then you have to tell Python that the name is not local, but it is global. We do this using the <code>global</code> statement. It is impossible to assign a value to a variable defined outside a function without the global statement.\n",
        "\n",
        "You can use the values of such variables defined outside the function (assuming there is no variable with the same name within the function). However, this is not encouraged and should be avoided since it becomes unclear to the reader of the program as to where that variable’s definition is. Using the <code>global</code> statement makes it amply clear that the variable is defined in an outermost block.\n",
        "\n",
        "Example:"
      ]
    },
    {
      "cell_type": "code",
      "metadata": {
        "id": "x0oeRs-MKzq5",
        "colab_type": "code",
        "outputId": "2994bff5-9a96-4485-95d7-3d1fc4880c83",
        "colab": {}
      },
      "source": [
        "x = 50\n",
        "\n",
        "def func():\n",
        "    global x\n",
        "    print('This function is now using the global x!')\n",
        "    print('Because of global x is: ', x)\n",
        "    x = 2\n",
        "    print('Ran func(), changed global x to', x)\n",
        "\n",
        "print('Before calling func(), x is: ', x)\n",
        "func()\n",
        "print('Value of x (outside of func()) is: ', x)"
      ],
      "execution_count": 0,
      "outputs": [
        {
          "output_type": "stream",
          "text": [
            "Before calling func(), x is:  50\n",
            "This function is now using the global x!\n",
            "Because of global x is:  50\n",
            "Ran func(), changed global x to 2\n",
            "Value of x (outside of func()) is:  2\n"
          ],
          "name": "stdout"
        }
      ]
    },
    {
      "cell_type": "markdown",
      "metadata": {
        "collapsed": true,
        "id": "fykmt-z2KzrJ",
        "colab_type": "text"
      },
      "source": [
        "The <code>global</code> statement is used to declare that **x** is a global variable - hence, when we assign a value to **x** inside the function, that change is reflected when we use the value of **x** in the main block.\n",
        "\n",
        "You can specify more than one global variable using the same global statement e.g. <code>global x, y, z</code>."
      ]
    },
    {
      "cell_type": "code",
      "metadata": {
        "id": "y66cVylrunNK",
        "colab_type": "code",
        "colab": {}
      },
      "source": [
        "'''This is the much genral path  to  take  rather  then  using  the \n",
        "GLOBAL  VARIBLE   because  with  the  larger  scripts  there  is  a\n",
        "possibility that you may write the GLOBAL keyword inside a function\n",
        "without ever knowing it, & this will make the debugging of the code \n",
        "much harder '''\n",
        "\n",
        "x = 50\n",
        "\n",
        "def func(x):\n",
        "    print(f'X is {x}')\n",
        "\n",
        "    # LOCAL REASSIGNMENT ON A GLOBAL VARIBLE!!!]\n",
        "    x = 'NEW VALUE'\n",
        "    print(f'I JUST LOCALLY CHANGED GLOBAL X TO {x}')\n",
        "    return x"
      ],
      "execution_count": 0,
      "outputs": []
    },
    {
      "cell_type": "code",
      "metadata": {
        "id": "nvGGQkWmv9Nw",
        "colab_type": "code",
        "colab": {
          "base_uri": "https://localhost:8080/",
          "height": 34
        },
        "outputId": "ec971f20-1a66-431a-8825-cf0eb40feeb3"
      },
      "source": [
        "print(x)"
      ],
      "execution_count": 42,
      "outputs": [
        {
          "output_type": "stream",
          "text": [
            "50\n"
          ],
          "name": "stdout"
        }
      ]
    },
    {
      "cell_type": "code",
      "metadata": {
        "id": "hSVMQD3RwCB-",
        "colab_type": "code",
        "colab": {
          "base_uri": "https://localhost:8080/",
          "height": 52
        },
        "outputId": "dba60e54-1d2d-4f4a-ed4e-cd06980e6c06"
      },
      "source": [
        "# This is much easier to debug because clear re-assignment is happening here\n",
        "x = func(x)"
      ],
      "execution_count": 43,
      "outputs": [
        {
          "output_type": "stream",
          "text": [
            "X is 50\n",
            "I JUST LOCALLY CHANGED GLOBAL X TO NEW VALUE\n"
          ],
          "name": "stdout"
        }
      ]
    },
    {
      "cell_type": "code",
      "metadata": {
        "id": "tpzgaSNpxnaa",
        "colab_type": "code",
        "colab": {
          "base_uri": "https://localhost:8080/",
          "height": 34
        },
        "outputId": "08fd81cc-cfb9-4323-abb2-2ad52540585a"
      },
      "source": [
        "print(x)"
      ],
      "execution_count": 46,
      "outputs": [
        {
          "output_type": "stream",
          "text": [
            "NEW VALUE\n"
          ],
          "name": "stdout"
        }
      ]
    },
    {
      "cell_type": "markdown",
      "metadata": {
        "collapsed": true,
        "id": "VQKGFrhgKzrP",
        "colab_type": "text"
      },
      "source": [
        "## Conclusion\n",
        "You should now have a good understanding of Scope (you may have already intuitively felt right about Scope which is great!) One last mention is that you can use the **globals()** and **locals()** functions to check what are your current local and global variables.\n",
        "\n",
        "Another thing to keep in mind is that everything in Python is an object! I can assign variables to functions just like I can with numbers! We will go over this again in the decorator section of the course!"
      ]
    }
  ]
}