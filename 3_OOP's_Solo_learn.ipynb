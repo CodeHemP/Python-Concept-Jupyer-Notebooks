{
  "nbformat": 4,
  "nbformat_minor": 0,
  "metadata": {
    "colab": {
      "name": "3.OOP's_Solo_learn.ipynb",
      "provenance": [],
      "collapsed_sections": [],
      "toc_visible": true,
      "include_colab_link": true
    },
    "kernelspec": {
      "name": "python3",
      "display_name": "Python 3"
    }
  },
  "cells": [
    {
      "cell_type": "markdown",
      "metadata": {
        "id": "view-in-github",
        "colab_type": "text"
      },
      "source": [
        "<a href=\"https://colab.research.google.com/github/mohd-faizy/My_Python_Notebooks_Concept/blob/master/3_OOP's_Solo_learn.ipynb\" target=\"_parent\"><img src=\"https://colab.research.google.com/assets/colab-badge.svg\" alt=\"Open In Colab\"/></a>"
      ]
    },
    {
      "cell_type": "markdown",
      "metadata": {
        "id": "2nZkll8ANDYg",
        "colab_type": "text"
      },
      "source": [
        "# SoloLearn Object Oriented Programming"
      ]
    },
    {
      "cell_type": "markdown",
      "metadata": {
        "id": "J7RP4csmXUbE",
        "colab_type": "text"
      },
      "source": [
        "**OOPs**\n",
        "\n",
        "\n",
        "1.   **Encapsulation**\n",
        "2.   **Inheritance**\n",
        "3.   **Polymorphism**\n",
        "4.   **Abstracrion**\n",
        "\n",
        "\n",
        "\n"
      ]
    },
    {
      "cell_type": "markdown",
      "metadata": {
        "id": "bTxLJc8MNLwZ",
        "colab_type": "text"
      },
      "source": [
        "- We have previously looked at two paradigms of programming - **imperative** (using statements, loops, and functions as subroutines), and **functional**  (using pure functions, higher-order functions, and recursion).\n",
        "\n",
        "- Another very popular paradigm is **object-oriented programming (OOP)**.\n",
        "Objects are created using classes, which are actually the focal point of OOP.\n",
        "The class describes what the object will be, but is separate from the object itself. In other words, a class can be described as an object's blueprint, description, or definition.\n",
        "- You can use the same class as a blueprint for creating multiple different objects.\n",
        "\n",
        "- Classes are created using the keyword class and an indented block, which contains class methods (which are functions).\n",
        "Below is an example of a simple class and its objects."
      ]
    },
    {
      "cell_type": "code",
      "metadata": {
        "id": "-bkDffM1MT4K",
        "colab_type": "code",
        "colab": {}
      },
      "source": [
        "class Cat:\n",
        "    def __init__(self, color, legs):\n",
        "        self.color = color\n",
        "        self .legs = legs \n",
        "\n",
        "fleix  = Cat(\"Ginger\", 4)\n",
        "rover  = Cat(\"Dog-colored\", 4)\n",
        "stumpy = Cat(\"Brown\", 3)"
      ],
      "execution_count": 0,
      "outputs": []
    },
    {
      "cell_type": "markdown",
      "metadata": {
        "id": "6j5inl3fQZmR",
        "colab_type": "text"
      },
      "source": [
        "This code defines a class named Cat, which has two attributes: color and legs.\n",
        "Then the class is used to create 3 separate objects of that class.\n"
      ]
    },
    {
      "cell_type": "markdown",
      "metadata": {
        "id": "D7JliCRVQyVM",
        "colab_type": "text"
      },
      "source": [
        "What type of object is a method?\n",
        "- Ans) function"
      ]
    },
    {
      "cell_type": "markdown",
      "metadata": {
        "id": "2CtG7IvLRUJP",
        "colab_type": "text"
      },
      "source": [
        "`__init__ `\n",
        "\n",
        "- The __init__ method is the most important method in a class.\n",
        "This is called when an instance (object) of the class is created, using the class name as a function.\n",
        "\n",
        "- All methods must have **self** as their first parameter, although it isn't explicitly passed, Python adds the **self** argument to the list for you; you do not need to include it when you call the methods. Within a method definition, **self** refers to the instance calling the method.\n",
        "\n",
        "- Instances of a class have attributes, which are pieces of data associated with them.\n",
        "In this example, Cat instances have attributes color and legs. These can be accessed by putting a dot, and the attribute name after an instance.\n",
        "In an __init__ method, self.attribute can therefore be used to set the initial value of an instance's attributes.\n"
      ]
    },
    {
      "cell_type": "code",
      "metadata": {
        "id": "qShfTZ-AQtO4",
        "colab_type": "code",
        "outputId": "5f0acea3-951e-47d5-d7d7-f104399e8364",
        "colab": {
          "base_uri": "https://localhost:8080/",
          "height": 34
        }
      },
      "source": [
        "class Cat:\n",
        "    def __init__(self, color, legs):\n",
        "        self.color = color\n",
        "        self.legs  = legs\n",
        "\n",
        "felix = Cat(\"ginger\", 4)\n",
        "print(felix.color)"
      ],
      "execution_count": 0,
      "outputs": [
        {
          "output_type": "stream",
          "text": [
            "ginger\n"
          ],
          "name": "stdout"
        }
      ]
    },
    {
      "cell_type": "markdown",
      "metadata": {
        "id": "XtH2iBytX6tz",
        "colab_type": "text"
      },
      "source": [
        "\n",
        "In the example above, the `__init__ `method takes two arguments and assigns them to the object's attributes. The `__init__`  method is called the class constructor."
      ]
    },
    {
      "cell_type": "markdown",
      "metadata": {
        "id": "qJbewG0EY9pR",
        "colab_type": "text"
      },
      "source": [
        "**QUE-** create a class and its constructor, taking one argument and assigning it to the \"name\" attribute. Then create an object of the class."
      ]
    },
    {
      "cell_type": "code",
      "metadata": {
        "id": "n3LU27RbQKkt",
        "colab_type": "code",
        "outputId": "c6483adf-b6b3-42f3-aebc-ff530d6949d1",
        "colab": {
          "base_uri": "https://localhost:8080/",
          "height": 34
        }
      },
      "source": [
        "class Student:\n",
        "    def __init__(self, name):\n",
        "        self.name = name\n",
        "\n",
        "test = Student(\"Bob\")\n",
        "print(test.name)"
      ],
      "execution_count": 0,
      "outputs": [
        {
          "output_type": "stream",
          "text": [
            "Bob\n"
          ],
          "name": "stdout"
        }
      ]
    },
    {
      "cell_type": "markdown",
      "metadata": {
        "id": "kVdrp_bzaKSV",
        "colab_type": "text"
      },
      "source": [
        "# **Methods**\n",
        "\n",
        "Classes can have other **methods** defined to add functionality to them.\n",
        "Remember, that all methods must have **self** as their first parameter.\n",
        "These methods are accessed using the same **dot** syntax as attributes\n",
        "\n"
      ]
    },
    {
      "cell_type": "code",
      "metadata": {
        "id": "kzAZRf0FaJBF",
        "colab_type": "code",
        "outputId": "e3245550-3764-424c-96d6-d0b9e592e928",
        "colab": {
          "base_uri": "https://localhost:8080/",
          "height": 51
        }
      },
      "source": [
        "class Dog:\n",
        "    def __init__(self, name, color):\n",
        "        self.name  = name \n",
        "        self.color = color \n",
        "\n",
        "    def bark(self):\n",
        "        print(\"Woof!\")\n",
        "\n",
        "fido = Dog(\"Fido\", \"brown\")\n",
        "print(fido.name) \n",
        "fido.bark()"
      ],
      "execution_count": 0,
      "outputs": [
        {
          "output_type": "stream",
          "text": [
            "Fido\n",
            "Woof!\n"
          ],
          "name": "stdout"
        }
      ]
    },
    {
      "cell_type": "markdown",
      "metadata": {
        "id": "slSbnDx_glcS",
        "colab_type": "text"
      },
      "source": [
        "\n",
        "Classes can also have **class attributes**, created by assigning variables within the body of the class. These can be accessed either from instances of the class, or the class itself.\n",
        "**Example:**"
      ]
    },
    {
      "cell_type": "code",
      "metadata": {
        "id": "1hIS9YxZZXvD",
        "colab_type": "code",
        "outputId": "5de1c70c-74e1-462e-a111-7069b18b4c04",
        "colab": {
          "base_uri": "https://localhost:8080/",
          "height": 51
        }
      },
      "source": [
        "class dog:\n",
        "    legs = 4\n",
        "    def __init__(self, name, color):\n",
        "        self.name  = name\n",
        "        self.color = color \n",
        "    \n",
        "fido = dog(\"fido\", \"brown\")\n",
        "print(fido.legs)\n",
        "print(dog.legs)\n"
      ],
      "execution_count": 0,
      "outputs": [
        {
          "output_type": "stream",
          "text": [
            "4\n",
            "4\n"
          ],
          "name": "stdout"
        }
      ]
    },
    {
      "cell_type": "markdown",
      "metadata": {
        "id": "r12UEZCQiJqr",
        "colab_type": "text"
      },
      "source": [
        "Class attributes are shared by all instances of the class."
      ]
    },
    {
      "cell_type": "code",
      "metadata": {
        "id": "AxpFNHt7h4wW",
        "colab_type": "code",
        "outputId": "81eeda56-6622-4aa7-ecc7-c1db62ce67c8",
        "colab": {
          "base_uri": "https://localhost:8080/",
          "height": 34
        }
      },
      "source": [
        "# create a class with a method sayHi().\n",
        "class student:\n",
        "    def __init__(self, name):\n",
        "        self.name = name\n",
        "\n",
        "    def sayHi(self): \n",
        "        print(\"Hi from\" +  self.name)\n",
        "\n",
        "s1 = student(\" Amy\")\n",
        "s1.sayHi()"
      ],
      "execution_count": 0,
      "outputs": [
        {
          "output_type": "stream",
          "text": [
            "Hi from Amy\n"
          ],
          "name": "stdout"
        }
      ]
    },
    {
      "cell_type": "markdown",
      "metadata": {
        "id": "zU3AfiBDkakb",
        "colab_type": "text"
      },
      "source": [
        "# **Class**\n",
        "\n",
        "Trying to access an attribute of an instance that isn't defined causes an **AttributeError**. This also applies when you call an undefined method.\n"
      ]
    },
    {
      "cell_type": "code",
      "metadata": {
        "id": "yqoGhkGukjd7",
        "colab_type": "code",
        "colab": {}
      },
      "source": [
        "class rectangle:\n",
        "    def __init__(self, width, height):\n",
        "        self.width   = width \n",
        "        self.height = height\n",
        "rect = rectangle(7, 8)\n",
        "print(rect.color)      # This code wil genrate an error \n",
        "                       # trying to access an unknown attribute will cause an error   \n"
      ],
      "execution_count": 0,
      "outputs": []
    },
    {
      "cell_type": "markdown",
      "metadata": {
        "id": "8iKWjYHCmgAh",
        "colab_type": "text"
      },
      "source": [
        "# 2. Inheritance"
      ]
    },
    {
      "cell_type": "markdown",
      "metadata": {
        "id": "nlXGHAwgmrJb",
        "colab_type": "text"
      },
      "source": [
        "- **Inheritance** provides a way to share functionality between classes.\n",
        "Imagine several classes, **Cat, Dog, Rabbit** and so on. Although they may differ in some ways (only **Dog** might have the method **bark**), they are likely to be similar in others (all having the attributes color and name).\n",
        "\n",
        "- This similarity can be expressed by making them all inherit from a **superclass Animal**, which contains the shared functionality.\n",
        "\n",
        "- To inherit a class from another class, put the superclass name in parentheses after the class name."
      ]
    },
    {
      "cell_type": "code",
      "metadata": {
        "id": "Om_JnaU1lPcY",
        "colab_type": "code",
        "outputId": "c0d3cdd4-3ca1-4cfc-8104-f2276c3e8b59",
        "colab": {
          "base_uri": "https://localhost:8080/",
          "height": 85
        }
      },
      "source": [
        "class Animal():\n",
        "    def __init__(self, name, color):\n",
        "        self.name  = name \n",
        "        self.color = color\n",
        "\n",
        "class Cat(Animal):\n",
        "    def purr(self):\n",
        "        print(\"purr...\")\n",
        "\n",
        "class Dog(Animal):\n",
        "     def bark(slef):\n",
        "         print(\"woof!\")\n",
        "\n",
        "fido = Dog(\"fido\", \"brown\")\n",
        "print(fido.color)\n",
        "fido.bark()\n",
        "\n",
        "kat = Cat(\"kitti\", \"white\")\n",
        "print(kat.name)\n",
        "kat.purr()"
      ],
      "execution_count": 0,
      "outputs": [
        {
          "output_type": "stream",
          "text": [
            "brown\n",
            "woof!\n",
            "kitti\n",
            "purr...\n"
          ],
          "name": "stdout"
        }
      ]
    },
    {
      "cell_type": "markdown",
      "metadata": {
        "id": "IDMSCghJq_8z",
        "colab_type": "text"
      },
      "source": [
        "**Que-** Which piece of code shows a new class Spam inheriting from Egg?\n",
        "\n",
        "\n",
        "\n",
        "```\n",
        "class spam(egg):\n",
        "```\n",
        "\n",
        "\n",
        "\n"
      ]
    },
    {
      "cell_type": "markdown",
      "metadata": {
        "id": "McBHv-VyrhwB",
        "colab_type": "text"
      },
      "source": [
        "- A class that inherits from another class is called a **subclass**.\n",
        "\n",
        "- A class that is inherited from is called a **superclass**.\n",
        "\n",
        "If a class inherits from another with the same attributes or methods, it overrides them.\n"
      ]
    },
    {
      "cell_type": "code",
      "metadata": {
        "id": "Y1xRb_9votNR",
        "colab_type": "code",
        "outputId": "2a234323-d390-4a61-a5e8-5eb359ab3153",
        "colab": {
          "base_uri": "https://localhost:8080/",
          "height": 34
        }
      },
      "source": [
        "class Wolf:\n",
        "    def __init__(self, name, color):\n",
        "        self.name  = name \n",
        "        self.color = color\n",
        "    \n",
        "    def bark(self):\n",
        "        print(\"gurr..\")\n",
        "    \n",
        "class dog(Wolf):\n",
        "        def bark(self):\n",
        "            print(\"woof!\")\n",
        "    \n",
        "husky = dog(\"max\", \"grey\")\n",
        "husky.bark()"
      ],
      "execution_count": 0,
      "outputs": [
        {
          "output_type": "stream",
          "text": [
            "woof!\n"
          ],
          "name": "stdout"
        }
      ]
    },
    {
      "cell_type": "markdown",
      "metadata": {
        "id": "csg1sH777BLV",
        "colab_type": "text"
      },
      "source": [
        "In the example above,**Wolf** is the superclass, **Dog** is the subclass."
      ]
    },
    {
      "cell_type": "code",
      "metadata": {
        "id": "K-R5-Rcr67l4",
        "colab_type": "code",
        "outputId": "3784c18c-e9fa-4d52-c2a8-ca1434ea6665",
        "colab": {
          "base_uri": "https://localhost:8080/",
          "height": 34
        }
      },
      "source": [
        "class A:\n",
        "    def method(self):\n",
        "        print(1)\n",
        "    \n",
        "class B:\n",
        "    def method(self):\n",
        "        print(2)\n",
        "\n",
        "B().method()"
      ],
      "execution_count": 0,
      "outputs": [
        {
          "output_type": "stream",
          "text": [
            "2\n"
          ],
          "name": "stdout"
        }
      ]
    },
    {
      "cell_type": "markdown",
      "metadata": {
        "id": "kjrccCo78aZu",
        "colab_type": "text"
      },
      "source": [
        "Inheritance can also be indirect. One class can inherit from another, and that class can inherit from a third class."
      ]
    },
    {
      "cell_type": "code",
      "metadata": {
        "id": "34RN4mAY8WVm",
        "colab_type": "code",
        "outputId": "6dd1f8fd-c76b-488c-968e-ada6ff133d95",
        "colab": {
          "base_uri": "https://localhost:8080/",
          "height": 68
        }
      },
      "source": [
        "class A:\n",
        "    def method_1(self):\n",
        "        print(\"A method\")\n",
        "\n",
        "class B(A):\n",
        "    def method_2(self):\n",
        "        print(\"B method\")\n",
        "\n",
        "class C(B):\n",
        "    def method_3(slef):\n",
        "        print(\"C method\")\n",
        "\n",
        "c = C()\n",
        "c.method_1()\n",
        "c.method_2()\n",
        "c.method_3()\n",
        "\n"
      ],
      "execution_count": 0,
      "outputs": [
        {
          "output_type": "stream",
          "text": [
            "A method\n",
            "B method\n",
            "C method\n"
          ],
          "name": "stdout"
        }
      ]
    },
    {
      "cell_type": "code",
      "metadata": {
        "id": "m7kvKcyn9GBu",
        "colab_type": "code",
        "outputId": "9df386c0-9ba9-4fed-c1b2-43edc23bfd53",
        "colab": {
          "base_uri": "https://localhost:8080/",
          "height": 51
        }
      },
      "source": [
        "# What is the output of this code\n",
        "class A:\n",
        "    def a(self):\n",
        "        print(1)\n",
        "\n",
        "class B(A):\n",
        "    def a(self):\n",
        "        print(2)\n",
        "\n",
        "class C(B):\n",
        "    def c(self):\n",
        "        print(3)\n",
        "\n",
        "c = A()\n",
        "c1 = A()\n",
        "print(c)\n",
        "print(c1)\n",
        "#c.a()\n"
      ],
      "execution_count": 0,
      "outputs": [
        {
          "output_type": "stream",
          "text": [
            "<__main__.A object at 0x7f1c11a5a860>\n",
            "<__main__.A object at 0x7f1c11a5a828>\n"
          ],
          "name": "stdout"
        }
      ]
    },
    {
      "cell_type": "markdown",
      "metadata": {
        "id": "BQ1kLaP1bYL0",
        "colab_type": "text"
      },
      "source": [
        "**Inheritance**\n",
        "\n",
        "The function super is a useful inheritance-related function that refers to the parent class. It can be used to find the method with a certain name in an object's superclass."
      ]
    },
    {
      "cell_type": "code",
      "metadata": {
        "id": "XZoN4lMRE9J7",
        "colab_type": "code",
        "outputId": "d5d3ea08-eaa5-4a23-8a9f-8fda1abc8d0d",
        "colab": {
          "base_uri": "https://localhost:8080/",
          "height": 51
        }
      },
      "source": [
        "class A:\n",
        "    def spam(self):\n",
        "        print(1)\n",
        "    \n",
        "class B(A):\n",
        "    def spam(slef):\n",
        "        print(2)\n",
        "        super().spam()\n",
        "\n",
        "B().spam()"
      ],
      "execution_count": 0,
      "outputs": [
        {
          "output_type": "stream",
          "text": [
            "2\n",
            "1\n"
          ],
          "name": "stdout"
        }
      ]
    },
    {
      "cell_type": "markdown",
      "metadata": {
        "id": "9lWkDXTCivg_",
        "colab_type": "text"
      },
      "source": [
        "`super().spam() ` calls the `spam ` method of the superclass.\n",
        " hence the superclass is the class it inherits from"
      ]
    },
    {
      "cell_type": "markdown",
      "metadata": {
        "id": "4DRFPAe_kPJZ",
        "colab_type": "text"
      },
      "source": [
        "# 3. Magic Methods & Operater Overloding"
      ]
    },
    {
      "cell_type": "markdown",
      "metadata": {
        "id": "f9THAkmu-8wO",
        "colab_type": "text"
      },
      "source": [
        "$Magic$ $methods$ are special methods which have **double underscores** at the beginning and end of their names.\n",
        "\n",
        "- They are also known as **dunders**.\n",
        "So far, the only one we have encountered is `__init__` , but there are several others.\n",
        "They are used to create functionality that can't be represented as a normal method.\n",
        "\n",
        "One common use of them is **operator overloading**.\n",
        "\n",
        "This means defining operators for custom classes that allow operators such as + and * to be used on them.\n",
        "An example magic method is `__add__` for +."
      ]
    },
    {
      "cell_type": "code",
      "metadata": {
        "id": "hu2v_Yih_gAd",
        "colab_type": "code",
        "outputId": "1f600d38-ee0b-4c3a-c6f2-b21e4aa77bd6",
        "colab": {
          "base_uri": "https://localhost:8080/",
          "height": 51
        }
      },
      "source": [
        "class Vector2D:\n",
        "    def __init__(self, x, y):\n",
        "        self.x = x\n",
        "        self.y = y\n",
        "    def __add__(self, other):\n",
        "        return Vector2D(self.x + other.x, self.y + other.y)\n",
        "\n",
        "first  = Vector2D(5, 7)\n",
        "second = Vector2D(3, 9)\n",
        "result = first + second\n",
        "print(result.x)\n",
        "print(result.y)"
      ],
      "execution_count": 0,
      "outputs": [
        {
          "output_type": "stream",
          "text": [
            "8\n",
            "16\n"
          ],
          "name": "stdout"
        }
      ]
    },
    {
      "cell_type": "markdown",
      "metadata": {
        "id": "McVBDwevEwGK",
        "colab_type": "text"
      },
      "source": [
        "The `__add__` method allows for the definition of a custom behavior for the + operator in our class.\n",
        "\n",
        "- As you can see, it adds the corresponding attributes of the objects and returns a new object, containing the result.\n",
        "\n",
        "- Once it's defined, we can add two objects of the class together."
      ]
    },
    {
      "cell_type": "markdown",
      "metadata": {
        "id": "kxSjBuisG23h",
        "colab_type": "text"
      },
      "source": [
        "**Magic Methods**\n",
        "\n",
        "` __add__ ` for +\n",
        "\n",
        "`__sub__` for -\n",
        "\n",
        "`__mul__ `for *\n",
        "\n",
        "`__truediv__` for /\n",
        "\n",
        "`__floordiv__` for //\n",
        "\n",
        "\n",
        "`__mod__` for %\n",
        "\n",
        "\n",
        "`__pow__` for **\n",
        "\n",
        "`__and__` for &\n",
        "\n",
        "`__xor__` for ^\n",
        "\n",
        "`__or__` for |"
      ]
    },
    {
      "cell_type": "markdown",
      "metadata": {
        "id": "yUvoZJfWHd3w",
        "colab_type": "text"
      },
      "source": [
        "The expression ` x + y` is translated into `x.__add__(y)`.\n",
        "However, if x hasn't implemented `__add__`, and x and y are of different types, then `y.__radd__(x)` is called.\n",
        "\n",
        "There are equivalent r methods for all magic methods just mentioned."
      ]
    },
    {
      "cell_type": "code",
      "metadata": {
        "id": "j25UI9FYBVjN",
        "colab_type": "code",
        "outputId": "055afa17-9968-4152-8c27-0389ab137fa0",
        "colab": {
          "base_uri": "https://localhost:8080/",
          "height": 68
        }
      },
      "source": [
        "class SpecialString:\n",
        "    def __init__(self, cont):\n",
        "        self.cont = cont\n",
        "    \n",
        "    def __truediv__(self, other):\n",
        "        line = \"=\" * len(other.cont)\n",
        "        return \"\\n\".join([self.cont, line, other.cont])\n",
        "\n",
        "spam  = SpecialString(\"spam\")\n",
        "hello = SpecialString(\"Hello World!\")\n",
        "print(spam/hello)"
      ],
      "execution_count": 0,
      "outputs": [
        {
          "output_type": "stream",
          "text": [
            "spam\n",
            "============\n",
            "Hello World!\n"
          ],
          "name": "stdout"
        }
      ]
    },
    {
      "cell_type": "markdown",
      "metadata": {
        "id": "Us_b0EzwJpGJ",
        "colab_type": "text"
      },
      "source": [
        "**Que--** What is A() ^ B() evaluated as, if A doesn't implement any magic methods?\n",
        "\n",
        "\n",
        "```\n",
        "B().__rxor__(A())\n",
        "\n",
        "\n"
      ]
    },
    {
      "cell_type": "markdown",
      "metadata": {
        "id": "oFVTwR39K7Ie",
        "colab_type": "text"
      },
      "source": [
        "Python also provides magic methods for comparisons.\n",
        "\n",
        "\n",
        "```\n",
        "__lt__ for <\n",
        "__le__ for <=\n",
        "__eq__ for ==\n",
        "__ne__ for !=\n",
        "__gt__ for >\n",
        "__ge__ for >=\n",
        "```\n",
        "If `__ne__ `is not implemented, it returns the opposite of `__eq__`.\n",
        "There are no other relationships between the other operators.\n",
        "\n"
      ]
    },
    {
      "cell_type": "code",
      "metadata": {
        "id": "jfanXBwxJQYN",
        "colab_type": "code",
        "outputId": "6cf96c56-d2a2-424a-fea7-2f6f9da34128",
        "colab": {
          "base_uri": "https://localhost:8080/",
          "height": 141
        }
      },
      "source": [
        "class SpecialString:\n",
        "    def __init__(self, cont):\n",
        "        self.cont = cont\n",
        "    \n",
        "    def __gt__(self, other):\n",
        "        for index in range (len(other.cont)+1):\n",
        "            result  =  other.cont[index:] + \">\" + self.cont\n",
        "            result  += \">\" + other.cont[:index]\n",
        "            print(result)\n",
        "            \n",
        "spam = SpecialString(\"apple\")\n",
        "eggs = SpecialString(\"banana\")\n",
        "eggs = SpecialString(\"orange\")\n",
        "spam > eggs"
      ],
      "execution_count": 0,
      "outputs": [
        {
          "output_type": "stream",
          "text": [
            "orange>apple>\n",
            "range>apple>o\n",
            "ange>apple>or\n",
            "nge>apple>ora\n",
            "ge>apple>oran\n",
            "e>apple>orang\n",
            ">apple>orange\n"
          ],
          "name": "stdout"
        }
      ]
    },
    {
      "cell_type": "code",
      "metadata": {
        "id": "6QsNf-vKBCY1",
        "colab_type": "code",
        "outputId": "c5f0c4a9-2cde-4013-bebb-b872ced8d849",
        "colab": {
          "base_uri": "https://localhost:8080/",
          "height": 105
        }
      },
      "source": [
        "class SpecialString:\n",
        "    def __init__(self, cont):\n",
        "        self.cont = cont\n",
        "    \n",
        "    def __gt__(self, other):\n",
        "        for index in range (len(other.cont)+1):\n",
        "            result  =  other.cont[:index] + \">\" + self.cont\n",
        "            result  += \">\" + other.cont[index:]\n",
        "            print(result)\n",
        "            \n",
        "spam = SpecialString(\"spam\")\n",
        "eggs = SpecialString(\"eggs\")\n",
        "spam > eggs"
      ],
      "execution_count": 0,
      "outputs": [
        {
          "output_type": "stream",
          "text": [
            ">spam>eggs\n",
            "e>spam>ggs\n",
            "eg>spam>gs\n",
            "egg>spam>s\n",
            "eggs>spam>\n"
          ],
          "name": "stdout"
        }
      ]
    },
    {
      "cell_type": "markdown",
      "metadata": {
        "id": "GqYVUEn3V92e",
        "colab_type": "text"
      },
      "source": [
        "There are several magic methods for making classes act like containers.\n",
        "\n",
        "\n",
        "```\n",
        "__len__ for len()\n",
        "__getitem__ for indexing\n",
        "__setitem__ for assigning to indexed values\n",
        "__delitem__ for deleting indexed values\n",
        "__iter__ for iteration over objects (e.g., in for loops)\n",
        "__contains__ for in\n",
        "```\n",
        "\n",
        "\n",
        "\n",
        "There are many other magic methods that we won't cover here, such as `__call__` for calling objects as functions, and `__int__, __str__,` and the like, for converting objects to built-in types"
      ]
    },
    {
      "cell_type": "code",
      "metadata": {
        "id": "iPaUz48GV9Pq",
        "colab_type": "code",
        "outputId": "8855f326-a7fb-46e8-b8f7-3b0193ed78fd",
        "colab": {
          "base_uri": "https://localhost:8080/",
          "height": 87
        }
      },
      "source": [
        "import random\n",
        "\n",
        "class VagueList:\n",
        "\n",
        "  def __init__(self, cont):\n",
        "    self.cont = cont\n",
        "\n",
        "  def __getitem__(self, index):\n",
        "    return self.cont[index + random.randint(-1, 1)]\n",
        "\n",
        "  def __len__(self):\n",
        "    return random.randint(0, len(self.cont)*2)\n",
        "\n",
        "vague_list = VagueList([\"A\", \"B\", \"C\", \"D\", \"E\"])\n",
        "\n",
        "print(len(vague_list))\n",
        "print(len(vague_list))\n",
        "\n",
        "print(vague_list[2])\n",
        "print(vague_list[2])"
      ],
      "execution_count": 0,
      "outputs": [
        {
          "output_type": "stream",
          "text": [
            "9\n",
            "3\n",
            "C\n",
            "D\n"
          ],
          "name": "stdout"
        }
      ]
    },
    {
      "cell_type": "markdown",
      "metadata": {
        "id": "rzoula1XU5CP",
        "colab_type": "text"
      },
      "source": [
        "- We have overridden the len() function for the class VagueList to return a random number.\n",
        "\n",
        "- The indexing function also returns a random item in a range from the list, based on the expression."
      ]
    },
    {
      "cell_type": "code",
      "metadata": {
        "id": "pM6dhR-sZzj6",
        "colab_type": "code",
        "colab": {}
      },
      "source": [
        ""
      ],
      "execution_count": 0,
      "outputs": []
    }
  ]
}