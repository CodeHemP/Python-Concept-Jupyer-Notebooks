{
  "nbformat": 4,
  "nbformat_minor": 0,
  "metadata": {
    "kernelspec": {
      "display_name": "Python 3",
      "language": "python",
      "name": "python3"
    },
    "language_info": {
      "codemirror_mode": {
        "name": "ipython",
        "version": 3
      },
      "file_extension": ".py",
      "mimetype": "text/x-python",
      "name": "python",
      "nbconvert_exporter": "python",
      "pygments_lexer": "ipython3",
      "version": "3.6.2"
    },
    "colab": {
      "name": "3_ATU.ipynb",
      "provenance": [],
      "collapsed_sections": [],
      "include_colab_link": true
    }
  },
  "cells": [
    {
      "cell_type": "markdown",
      "metadata": {
        "id": "view-in-github",
        "colab_type": "text"
      },
      "source": [
        "<a href=\"https://colab.research.google.com/github/mohd-faizy/My_Python_Notebooks_Concept/blob/master/3_ATU.ipynb\" target=\"_parent\"><img src=\"https://colab.research.google.com/assets/colab-badge.svg\" alt=\"Open In Colab\"/></a>"
      ]
    },
    {
      "cell_type": "markdown",
      "metadata": {
        "id": "TwB2Qwc3ikIW",
        "colab_type": "text"
      },
      "source": [
        "# Function Practice Exercises\n",
        "\n",
        "Problems are arranged in increasing difficulty:\n",
        "* Warmup - these can be solved using basic comparisons and methods\n",
        "* Level 1 - these may involve if/then conditional statements and simple methods\n",
        "* Level 2 - these may require iterating over sequences, usually with some kind of loop\n",
        "* Challenging - these will take some creativity to solve"
      ]
    },
    {
      "cell_type": "markdown",
      "metadata": {
        "id": "1U0hypA5ikIZ",
        "colab_type": "text"
      },
      "source": [
        "## WARMUP SECTION:"
      ]
    },
    {
      "cell_type": "markdown",
      "metadata": {
        "id": "Dv5Q952-ikIc",
        "colab_type": "text"
      },
      "source": [
        "#### LESSER OF TWO EVENS: Write a function that returns the lesser of two given numbers *if* both numbers are even, but returns the greater if one or both numbers are odd\n",
        "    lesser_of_two_evens(2,4) --> 2\n",
        "    lesser_of_two_evens(2,5) --> 5"
      ]
    },
    {
      "cell_type": "code",
      "metadata": {
        "id": "9W-zjVCuL1Uo",
        "colab_type": "code",
        "colab": {}
      },
      "source": [
        "def lesser_of_two_evens(a,b):\n",
        "    if a%2 == 0 and b%2 == 0:\n",
        "        # BOTH NUMBER ARE EVEN!\n",
        "        if a < b:\n",
        "            result = a\n",
        "        else:\n",
        "            result = b\n",
        "    else:\n",
        "        # ONE OR BOTH NUMBER ARE ODD!\n",
        "        if a > b:\n",
        "            result = a\n",
        "        else:\n",
        "            result = b\n",
        "    return result"
      ],
      "execution_count": 0,
      "outputs": []
    },
    {
      "cell_type": "code",
      "metadata": {
        "id": "KfPEfQnqikIe",
        "colab_type": "code",
        "colab": {}
      },
      "source": [
        "# cleaner code\n",
        "\n",
        "def lesser_of_two_evens(a,b):\n",
        "    if a%2 == 0 and b%2 == 0:\n",
        "        return min(a,b)\n",
        "    else:\n",
        "        return max(a,b)\n",
        "           "
      ],
      "execution_count": 0,
      "outputs": []
    },
    {
      "cell_type": "code",
      "metadata": {
        "id": "kgGr-NIVikIn",
        "colab_type": "code",
        "outputId": "9bccc147-a273-4c73-acc2-159613c44fb4",
        "colab": {
          "base_uri": "https://localhost:8080/",
          "height": 50
        }
      },
      "source": [
        "# Check_1\n",
        "print(lesser_of_two_evens(2,4))\n",
        "# Check_2\n",
        "print(lesser_of_two_evens(2,5))"
      ],
      "execution_count": 0,
      "outputs": [
        {
          "output_type": "stream",
          "text": [
            "2\n",
            "5\n"
          ],
          "name": "stdout"
        }
      ]
    },
    {
      "cell_type": "markdown",
      "metadata": {
        "id": "Xx0dTxMhikI5",
        "colab_type": "text"
      },
      "source": [
        "#### ANIMAL CRACKERS: Write a function takes a two-word string and returns True if both words begin with same letter\n",
        "    animal_crackers('Levelheaded Llama') --> True\n",
        "    animal_crackers('Crazy Kangaroo') --> False"
      ]
    },
    {
      "cell_type": "code",
      "metadata": {
        "id": "E1znuBK3ikI7",
        "colab_type": "code",
        "colab": {}
      },
      "source": [
        "def animal_crackers(text):\n",
        "    # Grabing the two words\n",
        "    wordlist = text.split()\n",
        "    return wordlist[0][0] == wordlist[1][0]"
      ],
      "execution_count": 0,
      "outputs": []
    },
    {
      "cell_type": "code",
      "metadata": {
        "id": "MZIxeNoCikJD",
        "colab_type": "code",
        "outputId": "1188df62-199b-46b8-c5c4-04f200d9692f",
        "colab": {
          "base_uri": "https://localhost:8080/",
          "height": 67
        }
      },
      "source": [
        "# Check_1\n",
        "print(animal_crackers('Levelheaded Llama'))\n",
        "\n",
        "# check_2\n",
        "# This will return False, hence to fix this we add .lower()\n",
        "print(animal_crackers('Crazy cat'))\n",
        "\n",
        "# Check_3\n",
        "print(animal_crackers('Crazy Kangaroo'))"
      ],
      "execution_count": 0,
      "outputs": [
        {
          "output_type": "stream",
          "text": [
            "True\n",
            "False\n",
            "False\n"
          ],
          "name": "stdout"
        }
      ]
    },
    {
      "cell_type": "markdown",
      "metadata": {
        "id": "fhxqcDg8ikJY",
        "colab_type": "text"
      },
      "source": [
        "#### MAKES TWENTY: Given two integers, return True if the sum of the integers is 20 *or* if one of the integers is 20. If not, return False\n",
        "\n",
        "    makes_twenty(20,10) --> True\n",
        "    makes_twenty(12,8) --> True\n",
        "    makes_twenty(2,3) --> False"
      ]
    },
    {
      "cell_type": "markdown",
      "metadata": {
        "id": "iVXqD2vO2WY-",
        "colab_type": "text"
      },
      "source": [
        "![Boolean refrece for using the __or__](https://frankcomputerscience.files.wordpress.com/2016/08/logic-gates.jpg?w=900)"
      ]
    },
    {
      "cell_type": "code",
      "metadata": {
        "id": "XN6ErBeKikJZ",
        "colab_type": "code",
        "colab": {}
      },
      "source": [
        "'''\n",
        "Problem with the code:\n",
        "We checking  some boolean statement\n",
        "returning boolean\n",
        "'''\n",
        "\n",
        "def makes_twenty(n1,n2):\n",
        "    if n1 == 20 or n2 == 20:\n",
        "        return True\n",
        "    elif sum((n1,n2)) == 20:\n",
        "        return True\n",
        "    else:\n",
        "        return False"
      ],
      "execution_count": 0,
      "outputs": []
    },
    {
      "cell_type": "code",
      "metadata": {
        "id": "atwa-oKiikJp",
        "colab_type": "code",
        "outputId": "bfb70253-dea6-4b8c-f84b-7867e5c38a8a",
        "colab": {
          "base_uri": "https://localhost:8080/",
          "height": 67
        }
      },
      "source": [
        "# Check_1\n",
        "print(makes_twenty(20,10))\n",
        "# Check_2\n",
        "print(makes_twenty(10,10))\n",
        "# Check_3\n",
        "print(makes_twenty(2,3))"
      ],
      "execution_count": 0,
      "outputs": [
        {
          "output_type": "stream",
          "text": [
            "True\n",
            "True\n",
            "False\n"
          ],
          "name": "stdout"
        }
      ]
    },
    {
      "cell_type": "code",
      "metadata": {
        "id": "ztR7Ags_4N5y",
        "colab_type": "code",
        "colab": {}
      },
      "source": [
        "# Cleaner code \n",
        "def makes_twenty_c(n1,n2):\n",
        "    return n1+n2 == 20 or n1 == 20 or n2 == 20"
      ],
      "execution_count": 0,
      "outputs": []
    },
    {
      "cell_type": "code",
      "metadata": {
        "id": "nINILft10Fsw",
        "colab_type": "code",
        "outputId": "510002d7-63e1-4e35-8b04-90a47f7012b4",
        "colab": {
          "base_uri": "https://localhost:8080/",
          "height": 67
        }
      },
      "source": [
        "# Check_1\n",
        "print(makes_twenty_c(20,10))\n",
        "# Check_2\n",
        "print(makes_twenty_c(10,10))\n",
        "# Check_3\n",
        "print(makes_twenty_c(2,3))"
      ],
      "execution_count": 0,
      "outputs": [
        {
          "output_type": "stream",
          "text": [
            "True\n",
            "True\n",
            "False\n"
          ],
          "name": "stdout"
        }
      ]
    },
    {
      "cell_type": "markdown",
      "metadata": {
        "id": "aBu1q7daikJ5",
        "colab_type": "text"
      },
      "source": [
        "# LEVEL 1 PROBLEMS"
      ]
    },
    {
      "cell_type": "markdown",
      "metadata": {
        "id": "P0SdK0msikJ6",
        "colab_type": "text"
      },
      "source": [
        "#### OLD MACDONALD: Write a function that capitalizes the first and fourth letters of a name\n",
        "     \n",
        "    old_macdonald('macdonald') --> MacDonald\n",
        "    \n",
        "Note: `'macdonald'.capitalize()` returns `'Macdonald'`"
      ]
    },
    {
      "cell_type": "code",
      "metadata": {
        "id": "DhRltQfUikJ7",
        "colab_type": "code",
        "colab": {}
      },
      "source": [
        "def old_macdonald(name):\n",
        "    first_letter = name[0]\n",
        "    inbetween = name [1:3]\n",
        "    fourth_letter = name[3]\n",
        "    rest = name[3:]\n",
        "\n",
        "    return first_letter.upper() + inbetween + fourth_letter.upper() + rest"
      ],
      "execution_count": 0,
      "outputs": []
    },
    {
      "cell_type": "code",
      "metadata": {
        "id": "FYkUu0MbikKF",
        "colab_type": "code",
        "outputId": "fbb3f58a-42f8-4b20-c4b0-13ff67f321ec",
        "colab": {
          "base_uri": "https://localhost:8080/",
          "height": 34
        }
      },
      "source": [
        "# Check\n",
        "old_macdonald('macdonald')"
      ],
      "execution_count": 0,
      "outputs": [
        {
          "output_type": "execute_result",
          "data": {
            "text/plain": [
              "'MacDdonald'"
            ]
          },
          "metadata": {
            "tags": []
          },
          "execution_count": 11
        }
      ]
    },
    {
      "cell_type": "code",
      "metadata": {
        "id": "x2REZFVm_sZp",
        "colab_type": "code",
        "colab": {}
      },
      "source": [
        "# cleaner code_c \n",
        "def old_macdonald_c(name):\n",
        "    if len(name) > 3:\n",
        "        return name[:3].capitalize() + name[3:].capitalize()\n",
        "    else:\n",
        "        return 'Name is too short!'"
      ],
      "execution_count": 0,
      "outputs": []
    },
    {
      "cell_type": "code",
      "metadata": {
        "id": "OTUec5m0GFZD",
        "colab_type": "code",
        "outputId": "1162abe9-9217-4d69-a31b-29751ba63077",
        "colab": {
          "base_uri": "https://localhost:8080/",
          "height": 34
        }
      },
      "source": [
        "# Check\n",
        "old_macdonald_c('macdonald')"
      ],
      "execution_count": 0,
      "outputs": [
        {
          "output_type": "execute_result",
          "data": {
            "text/plain": [
              "'MacDonald'"
            ]
          },
          "metadata": {
            "tags": []
          },
          "execution_count": 13
        }
      ]
    },
    {
      "cell_type": "code",
      "metadata": {
        "id": "VUMVAjRaIcdm",
        "colab_type": "code",
        "colab": {}
      },
      "source": [
        "def old_macdonald_c2(name):\n",
        "    first_half = name[:3]\n",
        "    second_half = name[3:]\n",
        "\n",
        "    return first_half.capitalize()  + second_half.capitalize()"
      ],
      "execution_count": 0,
      "outputs": []
    },
    {
      "cell_type": "code",
      "metadata": {
        "id": "z-FCJ9rxLK7j",
        "colab_type": "code",
        "outputId": "227ac23b-8db6-4fb9-d4cd-99eb8f84e0f9",
        "colab": {
          "base_uri": "https://localhost:8080/",
          "height": 34
        }
      },
      "source": [
        "# Check\n",
        "old_macdonald_c2('macdonald')"
      ],
      "execution_count": 0,
      "outputs": [
        {
          "output_type": "execute_result",
          "data": {
            "text/plain": [
              "'MacDonald'"
            ]
          },
          "metadata": {
            "tags": []
          },
          "execution_count": 15
        }
      ]
    },
    {
      "cell_type": "markdown",
      "metadata": {
        "id": "KZT_Ub_tikKL",
        "colab_type": "text"
      },
      "source": [
        "#### MASTER YODA: Given a sentence, return a sentence with the words reversed\n",
        "\n",
        "    master_yoda('I am home') --> 'home am I'\n",
        "    master_yoda('We are ready') --> 'ready are We'\n",
        "    \n",
        "Note: The .join() method may be useful here. The .join() method allows you to join together strings in a list with some connector string. For example, some uses of the .join() method:\n",
        "\n",
        "    >>> \"--\".join(['a','b','c'])\n",
        "    >>> 'a--b--c'\n",
        "\n",
        "This means if you had a list of words you wanted to turn back into a sentence, you could just join them with a single space string:\n",
        "\n",
        "    >>> \" \".join(['Hello','world'])\n",
        "    >>> \"Hello world\""
      ]
    },
    {
      "cell_type": "code",
      "metadata": {
        "id": "6oEdzMJAtIsm",
        "colab_type": "code",
        "outputId": "6108a059-c7cb-44e8-bcd8-33ec0fa60e2d",
        "colab": {
          "base_uri": "https://localhost:8080/",
          "height": 34
        }
      },
      "source": [
        "# Joining the two strings\n",
        "mylist = ['a', 'b', 'c']\n",
        "' '.join(mylist) "
      ],
      "execution_count": 0,
      "outputs": [
        {
          "output_type": "execute_result",
          "data": {
            "text/plain": [
              "'a b c'"
            ]
          },
          "metadata": {
            "tags": []
          },
          "execution_count": 16
        }
      ]
    },
    {
      "cell_type": "code",
      "metadata": {
        "id": "v9kOiPeHikKM",
        "colab_type": "code",
        "colab": {}
      },
      "source": [
        "def master_yoda(text):\n",
        "    wordlist = text.split()\n",
        "    rev_wordlist = wordlist[::-1]\n",
        "    return ' '.join(rev_wordlist)"
      ],
      "execution_count": 0,
      "outputs": []
    },
    {
      "cell_type": "code",
      "metadata": {
        "id": "MBBRXeLSikKT",
        "colab_type": "code",
        "outputId": "7f5a6eb8-8860-4efe-fc82-153ed7ffaaff",
        "colab": {
          "base_uri": "https://localhost:8080/",
          "height": 50
        }
      },
      "source": [
        "# Check_1\n",
        "print(master_yoda('I am home'))\n",
        "# Check_2\n",
        "print(master_yoda('We are ready'))"
      ],
      "execution_count": 0,
      "outputs": [
        {
          "output_type": "stream",
          "text": [
            "home am I\n",
            "ready are We\n"
          ],
          "name": "stdout"
        }
      ]
    },
    {
      "cell_type": "markdown",
      "metadata": {
        "id": "bzErxSDXikKf",
        "colab_type": "text"
      },
      "source": [
        "#### ALMOST THERE: Given an integer n, return True if n is within 10 of either 100 or 200\n",
        "\n",
        "    almost_there(90) --> True\n",
        "    almost_there(104) --> True\n",
        "    almost_there(150) --> False\n",
        "    almost_there(209) --> True\n",
        "    \n",
        "NOTE: `abs(num)` returns the absolute value of a number"
      ]
    },
    {
      "cell_type": "code",
      "metadata": {
        "id": "EPJJyEq4ikKf",
        "colab_type": "code",
        "colab": {}
      },
      "source": [
        "def almost_there(n):\n",
        "    return (abs(100 - n) <= 10 or abs(200 - n) <= 10)\n",
        "   "
      ],
      "execution_count": 0,
      "outputs": []
    },
    {
      "cell_type": "markdown",
      "metadata": {
        "id": "A5WpcRkIwrob",
        "colab_type": "text"
      },
      "source": [
        "**Absolute value** describes the distance of a number on the number line from **0** without considering which direction from zero the number lies. The **absolute value** of a number is never negative. The **absolute value** of 5 is 5."
      ]
    },
    {
      "cell_type": "code",
      "metadata": {
        "id": "tOs2xo44ikKl",
        "colab_type": "code",
        "outputId": "bf268ee9-c4a0-496f-db5b-f8ebe967dd98",
        "colab": {
          "base_uri": "https://localhost:8080/",
          "height": 67
        }
      },
      "source": [
        "# Check_1\n",
        "print(almost_there(104))\n",
        "'''\n",
        "4 <= 10 {True} or 96 <= 10 {False}\n",
        "hence output is True\n",
        "'''\n",
        "\n",
        "# Check_2\n",
        "print(almost_there(150))\n",
        "'''\n",
        "50 <= 10 {False} or 50 <= 10 {False}\n",
        "hence output is True\n",
        "'''\n",
        "# Check_3\n",
        "print(almost_there(209))\n"
      ],
      "execution_count": 0,
      "outputs": [
        {
          "output_type": "stream",
          "text": [
            "True\n",
            "False\n",
            "True\n"
          ],
          "name": "stdout"
        }
      ]
    },
    {
      "cell_type": "markdown",
      "metadata": {
        "id": "_TeXzjbIyh83",
        "colab_type": "text"
      },
      "source": [
        "The `abs()` takes only one argument, a number whose absolute value is to be returned. The argument can be an integer, a floating point number or a complex number.\n",
        "\n",
        "- If the argument is an **integer** or **floating point** number, `abs()` returns the absolute value in integer or float.\n",
        "\n",
        "- In case of **complex numbe**r, `abs()` returns only the **magnitude part** and that can also be a floating point number."
      ]
    },
    {
      "cell_type": "code",
      "metadata": {
        "id": "C_undZNoy5y-",
        "colab_type": "code",
        "outputId": "ceb055e2-0d30-4151-cfb1-ddf3fe4c0b83",
        "colab": {
          "base_uri": "https://localhost:8080/",
          "height": 67
        }
      },
      "source": [
        "# Python code to illustrate  \n",
        "# abs() built-in function \n",
        "  \n",
        "# floating point number \n",
        "float = -54.26\n",
        "print('Absolute value of float is:', abs(float)) \n",
        "  \n",
        "# An integer \n",
        "int = -94\n",
        "print('Absolute value of integer is:', abs(int)) \n",
        "  \n",
        "# A complex number \n",
        "complex = (3 - 4j) \n",
        "print('Absolute value or Magnitude of complex is:', abs(complex)) "
      ],
      "execution_count": 0,
      "outputs": [
        {
          "output_type": "stream",
          "text": [
            "Absolute value of float is: 54.26\n",
            "Absolute value of integer is: 94\n",
            "Absolute value or Magnitude of complex is: 5.0\n"
          ],
          "name": "stdout"
        }
      ]
    },
    {
      "cell_type": "markdown",
      "metadata": {
        "id": "ILV9_isGikKw",
        "colab_type": "text"
      },
      "source": [
        "# LEVEL 2 PROBLEMS"
      ]
    },
    {
      "cell_type": "markdown",
      "metadata": {
        "id": "7AY9dk3MikKw",
        "colab_type": "text"
      },
      "source": [
        "#### FIND 33: \n",
        "\n",
        "Given a list of ints, return True if the array contains a 3 next to a 3 somewhere.\n",
        "\n",
        "    has_33([1, 3, 3]) → True\n",
        "    has_33([1, 3, 1, 3]) → False\n",
        "    has_33([3, 1, 3]) → False"
      ]
    },
    {
      "cell_type": "code",
      "metadata": {
        "id": "d2sWabm6ikKx",
        "colab_type": "code",
        "colab": {}
      },
      "source": [
        "'''\n",
        "here we are using the for loop that goes through every index position in this list\n",
        "upto the second to the last one --> then we check the number and number next to it\n",
        "& if they both are '3' then it return TRUE else False\n",
        "'''\n",
        "\n",
        "def has_33(nums):\n",
        "    for i in range(0,len(nums)-1): #Becoz if we went up to the last digit there is no next digit to check\n",
        "        if nums[i] == 3 and nums[i+1] == 3: # 'and' becoz we need both expression to be true\n",
        "            return True\n",
        "    return False\n"
      ],
      "execution_count": 0,
      "outputs": []
    },
    {
      "cell_type": "code",
      "metadata": {
        "id": "yuugbewOikK1",
        "colab_type": "code",
        "outputId": "71526fb5-d725-4da6-e277-a6b11cc4abf8",
        "colab": {
          "base_uri": "https://localhost:8080/",
          "height": 67
        }
      },
      "source": [
        "# Check_1\n",
        "print(has_33([1, 3, 3]))\n",
        "# Check_2\n",
        "print(has_33([1, 3, 1, 3]))\n",
        "# Check_3\n",
        "print(has_33([3, 1, 3]))"
      ],
      "execution_count": 0,
      "outputs": [
        {
          "output_type": "stream",
          "text": [
            "True\n",
            "False\n",
            "False\n"
          ],
          "name": "stdout"
        }
      ]
    },
    {
      "cell_type": "code",
      "metadata": {
        "id": "KZAwsvzQ1Ln1",
        "colab_type": "code",
        "colab": {}
      },
      "source": [
        "def has_3_3(num):\n",
        "    for i in range(0,len(num)-1):\n",
        "        if num[i:i+2] ==[3, 3]:\n",
        "            return True\n",
        "    return False"
      ],
      "execution_count": 0,
      "outputs": []
    },
    {
      "cell_type": "code",
      "metadata": {
        "id": "xb_sibF01zt2",
        "colab_type": "code",
        "outputId": "24056d8e-92c8-4125-eb54-97a41af67951",
        "colab": {
          "base_uri": "https://localhost:8080/",
          "height": 67
        }
      },
      "source": [
        "# Check_1\n",
        "print(has_3_3([1, 3, 3]))\n",
        "# Check_2\n",
        "print(has_3_3([1, 3, 1, 3]))\n",
        "# Check_3\n",
        "print(has_3_3([3, 1, 3]))"
      ],
      "execution_count": 0,
      "outputs": [
        {
          "output_type": "stream",
          "text": [
            "True\n",
            "False\n",
            "False\n"
          ],
          "name": "stdout"
        }
      ]
    },
    {
      "cell_type": "code",
      "metadata": {
        "id": "-T0mdInL2Io2",
        "colab_type": "code",
        "outputId": "2b1ae1de-3cb0-40d3-df5d-374cb1a2eb52",
        "colab": {
          "base_uri": "https://localhost:8080/",
          "height": 34
        }
      },
      "source": [
        "num = [1,2,3,4,5,6,7]\n",
        "i = 1\n",
        "num[i:i+2] # thar is -- num[1:3]\n"
      ],
      "execution_count": 0,
      "outputs": [
        {
          "output_type": "execute_result",
          "data": {
            "text/plain": [
              "[2, 3]"
            ]
          },
          "metadata": {
            "tags": []
          },
          "execution_count": 26
        }
      ]
    },
    {
      "cell_type": "markdown",
      "metadata": {
        "id": "mt3fRcroikLC",
        "colab_type": "text"
      },
      "source": [
        "#### PAPER DOLL: Given a string, return a string where for every character in the original there are three characters\n",
        "    paper_doll('Hello') --> 'HHHeeellllllooo'\n",
        "    paper_doll('Mississippi') --> 'MMMiiissssssiiippppppiii'"
      ]
    },
    {
      "cell_type": "code",
      "metadata": {
        "id": "TS0jBhfKA6Mt",
        "colab_type": "code",
        "colab": {}
      },
      "source": [
        "def paper_doll(text):\n",
        "    result = ''\n",
        "    for char in text:\n",
        "        result += char*3\n",
        "    return result"
      ],
      "execution_count": 0,
      "outputs": []
    },
    {
      "cell_type": "code",
      "metadata": {
        "id": "2EFW7ntQikLJ",
        "colab_type": "code",
        "outputId": "b997029e-c2c4-46b9-b106-e1eb424fe6e0",
        "colab": {
          "base_uri": "https://localhost:8080/",
          "height": 50
        }
      },
      "source": [
        "# Check_1\n",
        "print(paper_doll('Hello'))\n",
        "# Check_2\n",
        "print(paper_doll('Mississippi'))"
      ],
      "execution_count": 0,
      "outputs": [
        {
          "output_type": "stream",
          "text": [
            "HHHeeellllllooo\n",
            "MMMiiissssssiiissssssiiippppppiii\n"
          ],
          "name": "stdout"
        }
      ]
    },
    {
      "cell_type": "code",
      "metadata": {
        "id": "nB7FLENcIiGt",
        "colab_type": "code",
        "outputId": "8e87b120-15e3-4f08-cce2-23d73edf11f5",
        "colab": {
          "base_uri": "https://localhost:8080/",
          "height": 34
        }
      },
      "source": [
        "def triple(str):\n",
        "    return ''.join([c+c+c for c in str])\n",
        "\n",
        "triple('Hello')"
      ],
      "execution_count": 0,
      "outputs": [
        {
          "output_type": "execute_result",
          "data": {
            "text/plain": [
              "'HHHeeellllllooo'"
            ]
          },
          "metadata": {
            "tags": []
          },
          "execution_count": 29
        }
      ]
    },
    {
      "cell_type": "code",
      "metadata": {
        "id": "A2jm8NAlI8T5",
        "colab_type": "code",
        "colab": {}
      },
      "source": [
        "# Clean code\n",
        "def paper_doll_c(text):\n",
        "    return ''.join([index*3 for index in text])"
      ],
      "execution_count": 0,
      "outputs": []
    },
    {
      "cell_type": "code",
      "metadata": {
        "id": "5ZoOF0WQikLM",
        "colab_type": "code",
        "outputId": "6dc6ab93-d3e8-4949-b3f6-18fb0bbb18e8",
        "colab": {
          "base_uri": "https://localhost:8080/",
          "height": 51
        }
      },
      "source": [
        "# Check_1\n",
        "print(paper_doll_c('Hello'))\n",
        "# Check_2\n",
        "print(paper_doll_c('Mississippi'))"
      ],
      "execution_count": 0,
      "outputs": [
        {
          "output_type": "stream",
          "text": [
            "HHHeeellllllooo\n",
            "MMMiiissssssiiissssssiiippppppiii\n"
          ],
          "name": "stdout"
        }
      ]
    },
    {
      "cell_type": "code",
      "metadata": {
        "id": "t9Ik0nglLJHb",
        "colab_type": "code",
        "colab": {}
      },
      "source": [
        "def paper_doll_n(text):\n",
        "    length = len(text)  \n",
        "    index=0\n",
        "    out=[]\n",
        "    while index < length:\n",
        "        out.append(text[index]*3)\n",
        "        index += 1\n",
        "    result =\"\".join(out)\n",
        "    return result"
      ],
      "execution_count": 0,
      "outputs": []
    },
    {
      "cell_type": "code",
      "metadata": {
        "id": "JZwR5_TuMOu2",
        "colab_type": "code",
        "outputId": "54b6e097-65f2-4ccf-adc4-38e4b9f987f7",
        "colab": {
          "base_uri": "https://localhost:8080/",
          "height": 51
        }
      },
      "source": [
        "# Check_1\n",
        "print(paper_doll_n('Hello'))\n",
        "# Check_2\n",
        "print(paper_doll_n('Mississippi'))"
      ],
      "execution_count": 0,
      "outputs": [
        {
          "output_type": "stream",
          "text": [
            "HHHeeellllllooo\n",
            "MMMiiissssssiiissssssiiippppppiii\n"
          ],
          "name": "stdout"
        }
      ]
    },
    {
      "cell_type": "markdown",
      "metadata": {
        "id": "BH8-Dh_lQawc",
        "colab_type": "text"
      },
      "source": [
        "[**How do I fix TypeError: 'int' object is not iterable?**\n",
        "](https://stackoverflow.com/questions/14941288/how-do-i-fix-typeerror-int-object-is-not-iterable)"
      ]
    },
    {
      "cell_type": "code",
      "metadata": {
        "id": "rkouWikHPID-",
        "colab_type": "code",
        "outputId": "60d9e020-598d-4a93-fb49-4e3aaeabede9",
        "colab": {
          "base_uri": "https://localhost:8080/",
          "height": 51
        }
      },
      "source": [
        "def paper_doll_f(text):\n",
        "    out=[]\n",
        "    index=0\n",
        "    for index in range(len(text)):\n",
        "        if index < len(text):\n",
        "            out.append(text[index]*3)\n",
        "            index += 1\n",
        "    result =\"\".join(out)\n",
        "    return result\n",
        "\n",
        "# Check_1\n",
        "print(paper_doll_f('Hello'))\n",
        "# Check_2\n",
        "print(paper_doll_f('Mississippi'))"
      ],
      "execution_count": 0,
      "outputs": [
        {
          "output_type": "stream",
          "text": [
            "HHHeeellllllooo\n",
            "MMMiiissssssiiissssssiiippppppiii\n"
          ],
          "name": "stdout"
        }
      ]
    },
    {
      "cell_type": "markdown",
      "metadata": {
        "id": "Sih9FPGZikLP",
        "colab_type": "text"
      },
      "source": [
        "#### BLACKJACK: Given three integers between 1 and 11, if their sum is less than or equal to 21, return their sum. If their sum exceeds 21 *and* there's an eleven, reduce the total sum by 10. Finally, if the sum (even after adjustment) exceeds 21, return 'BUST'\n",
        "    blackjack(5,6,7) --> 18\n",
        "    blackjack(9,9,9) --> 'BUST'\n",
        "    blackjack(9,9,11) --> 19"
      ]
    },
    {
      "cell_type": "code",
      "metadata": {
        "id": "I8apdeR8ikLQ",
        "colab_type": "code",
        "colab": {}
      },
      "source": [
        "def blackjack(a,b,c):\n",
        "    if sum([a,b,c]) <= 21:\n",
        "        return sum([a,b,c])\n",
        "    elif sum([a,b,c]) - 10 >= 21 or 11 in (a,b,c):\n",
        "        return sum([a,b,c]) - 10\n",
        "    else:\n",
        "        return 'BUST'\n",
        "    "
      ],
      "execution_count": 0,
      "outputs": []
    },
    {
      "cell_type": "code",
      "metadata": {
        "id": "WiWY7vswikLU",
        "colab_type": "code",
        "outputId": "413c3205-44ae-40be-d1d9-049c5056338b",
        "colab": {
          "base_uri": "https://localhost:8080/",
          "height": 68
        }
      },
      "source": [
        "# Check_1\n",
        "print(blackjack(5,6,7))\n",
        "\n",
        "# Check_2\n",
        "print(blackjack(9,9,9))\n",
        "\n",
        "# Check_3\n",
        "print(blackjack(9,9,11))"
      ],
      "execution_count": 0,
      "outputs": [
        {
          "output_type": "stream",
          "text": [
            "18\n",
            "BUST\n",
            "19\n"
          ],
          "name": "stdout"
        }
      ]
    },
    {
      "cell_type": "markdown",
      "metadata": {
        "id": "6b6Oj37fikLe",
        "colab_type": "text"
      },
      "source": [
        "#### SUMMER OF '69: Return the sum of the numbers in the array, except ignore sections of numbers starting with a 6 and extending to the next 9 (every 6 will be followed by at least one 9). Return 0 for no numbers.\n",
        " \n",
        "    summer_69([1, 3, 5]) --> 9\n",
        "    summer_69([4, 5, 6, 7, 8, 9]) --> 9\n",
        "    summer_69([2, 1, 6, 9, 11]) --> 14"
      ]
    },
    {
      "cell_type": "code",
      "metadata": {
        "id": "XgXtxyIyikLf",
        "colab_type": "code",
        "colab": {}
      },
      "source": [
        "def summer_69(arr):\n",
        "\n",
        "    total = 0  \n",
        "    # Adding the boolean & Set it to 'True' \n",
        "    # i.e by default we keep adding the number in the list array\n",
        "    add = True \n",
        "\n",
        "    for num in arr:           # arr is list of number\n",
        "        while add:            # i.e. if add = TRUE, then check the folowing condition\n",
        "            if num != 6:      # if not 6\n",
        "                total += num  # then add the number to total\n",
        "                break\n",
        "            else:             # when number is 6\n",
        "                add = False   # i.e. stop adding the number \n",
        "                              # Now we are waiting for the nummber 9\n",
        "        while not add:        # i.e. when add == FALSE, num is not added to the total\n",
        "            if num != 9:\n",
        "                break         # we will break from while not add & start adding\n",
        "            else:\n",
        "                add = True    # i.e adding the num to the total continues\n",
        "    return total"
      ],
      "execution_count": 0,
      "outputs": []
    },
    {
      "cell_type": "code",
      "metadata": {
        "id": "WbXvEMezikLj",
        "colab_type": "code",
        "outputId": "cb3fdb80-524c-4399-e603-627f35772b0e",
        "colab": {
          "base_uri": "https://localhost:8080/",
          "height": 68
        }
      },
      "source": [
        "# Check_1\n",
        "print(summer_69([1, 3, 5]))\n",
        "\n",
        "# Check_2\n",
        "print(summer_69([4, 5, 6, 7, 8, 9]))\n",
        "\n",
        "# Check_3\n",
        "print (summer_69([2, 1, 6, 9, 11]))"
      ],
      "execution_count": 0,
      "outputs": [
        {
          "output_type": "stream",
          "text": [
            "9\n",
            "9\n",
            "14\n"
          ],
          "name": "stdout"
        }
      ]
    },
    {
      "cell_type": "code",
      "metadata": {
        "id": "6w2A7mbISewb",
        "colab_type": "code",
        "outputId": "69935dcb-58fa-4771-9c4a-68b8902aeb60",
        "colab": {
          "base_uri": "https://localhost:8080/",
          "height": 34
        }
      },
      "source": [
        "def getsum(l):\n",
        "    sum = 0\n",
        "    skip = False\n",
        "    for i in l:\n",
        "         if i == 13:\n",
        "             skip = True\n",
        "             continue\n",
        "         if skip:\n",
        "             skip = False\n",
        "             continue\n",
        "         sum += i\n",
        "    return sum\n",
        "\n",
        "    \n",
        "getsum([1, 13, 13, 2, 3])"
      ],
      "execution_count": 0,
      "outputs": [
        {
          "output_type": "execute_result",
          "data": {
            "text/plain": [
              "4"
            ]
          },
          "metadata": {
            "tags": []
          },
          "execution_count": 78
        }
      ]
    },
    {
      "cell_type": "markdown",
      "metadata": {
        "id": "k25KMKA8TH8j",
        "colab_type": "text"
      },
      "source": [
        "**Explanation:**\n",
        "\n",
        "You go through the items in the list one by one\n",
        "\n",
        "Each time you\n",
        "\n",
        "**First check** if it's 13, if it is, then you mark `skip` as `True`, so that you can also skip next item.\n",
        "\n",
        "**Second**, you check if `skip` is `True`, if it is, which means it's a item right after 13, so you need to `skip` this one too, and you also need to set `skip` back to `False` so that you don't `skip` next item.\n",
        "\n",
        "\n",
        "**Finally**, if it's not either case above, you add the value up to `sum`"
      ]
    },
    {
      "cell_type": "markdown",
      "metadata": {
        "id": "uKvVg6_TikLu",
        "colab_type": "text"
      },
      "source": [
        "# CHALLENGING PROBLEMS"
      ]
    },
    {
      "cell_type": "markdown",
      "metadata": {
        "id": "GB9n1rC2ikLu",
        "colab_type": "text"
      },
      "source": [
        "#### SPY GAME: Write a function that takes in a list of integers and returns True if it contains 007 in order\n",
        "\n",
        "     spy_game([1,2,4,0,0,7,5]) --> True\n",
        "     spy_game([1,0,2,4,0,5,7]) --> True\n",
        "     spy_game([1,7,2,0,4,5,0]) --> False\n"
      ]
    },
    {
      "cell_type": "code",
      "metadata": {
        "id": "mfWvZh6iikLv",
        "colab_type": "code",
        "outputId": "046e970f-10aa-4ec4-ff48-b002c6723555",
        "colab": {
          "base_uri": "https://localhost:8080/",
          "height": 68
        }
      },
      "source": [
        "def spy_game(nums):\n",
        "\n",
        "    code_list = []               # Creat an empty list\n",
        "                        \n",
        "    for num in nums:             # search for the desired number in the list\n",
        "        if num == 0:             # if the number is 0 or 7 append the number to list\n",
        "            code_list.append(num)\n",
        "        elif num == 7:\n",
        "            code_list.append(num)\n",
        "\n",
        "    if code_list == [0, 0, 7]:    # Check for the desired sequence in list\n",
        "        return True\n",
        "    else:\n",
        "        return False                \n",
        "\n",
        "\n",
        "# Check_1\n",
        "print(spy_game([1,2,4,0,0,7,5]))\n",
        "\n",
        "# Check_2\n",
        "print(spy_game([1,0,2,4,0,5,7]))\n",
        "\n",
        "# Check_3\n",
        "print(spy_game([1,7,2,0,4,5,0]))"
      ],
      "execution_count": 0,
      "outputs": [
        {
          "output_type": "stream",
          "text": [
            "True\n",
            "True\n",
            "False\n"
          ],
          "name": "stdout"
        }
      ]
    },
    {
      "cell_type": "code",
      "metadata": {
        "id": "DaXC-yldTLCn",
        "colab_type": "code",
        "outputId": "ad7736fb-669b-444c-9626-1c4882955eb3",
        "colab": {
          "base_uri": "https://localhost:8080/",
          "height": 68
        }
      },
      "source": [
        "def spy_game_n(nums):\n",
        "\n",
        "    out_list = []               \n",
        "                        \n",
        "    for num in nums:      \n",
        "        if num == 0 or num == 7:     \n",
        "            out_list.append(num) \n",
        "    if out_list == [0, 0, 7]:   \n",
        "        return True\n",
        "    else:\n",
        "        return False   \n",
        "\n",
        "# Check_1\n",
        "print(spy_game_n([1,2,4,0,0,7,5]))\n",
        "\n",
        "# Check_2\n",
        "print(spy_game_n([1,0,2,4,0,5,7]))\n",
        "\n",
        "# Check_3\n",
        "print(spy_game_n([1,7,2,0,4,5,0]))             "
      ],
      "execution_count": 0,
      "outputs": [
        {
          "output_type": "stream",
          "text": [
            "True\n",
            "True\n",
            "False\n"
          ],
          "name": "stdout"
        }
      ]
    },
    {
      "cell_type": "markdown",
      "metadata": {
        "id": "cM01fAAphz7L",
        "colab_type": "text"
      },
      "source": [
        "Solving the above problem using `pop()` method"
      ]
    },
    {
      "cell_type": "code",
      "metadata": {
        "id": "_KwhZaFAV5f1",
        "colab_type": "code",
        "outputId": "349aa6b4-baf4-41b2-e438-70d6cd72036f",
        "colab": {
          "base_uri": "https://localhost:8080/",
          "height": 68
        }
      },
      "source": [
        "def spy_game_c(nums):#  pop() method removes the element at the specified position\n",
        "\n",
        "    code = [0, 0, 7, 'x'] # we have added 'x' for our Convenience\n",
        "     # if 007 is present in the code list then\n",
        "     # code list = [0, 7, 'x'] after 1st pop operation \n",
        "     # code list = [7, 'x'] after 2st pop operation\n",
        "     # len(list['x']) = 1 after 3rd pop operation\n",
        "     # i.e. if the len(code) == 1 then code 007 is present in code list in order\n",
        "\n",
        "    for num in nums:        # Iteration through the list of number\n",
        "        if num == code[0]:\n",
        "            code.pop(0)     # pop() method removes the element at the specified position\n",
        "\n",
        "    return len(code) == 1\n",
        "\n",
        "# Check_1\n",
        "print(spy_game_c([1,2,4,0,0,7,5]))\n",
        "\n",
        "# Check_2\n",
        "print(spy_game_c([1,0,2,4,0,5,7]))\n",
        "\n",
        "# Check_3\n",
        "print(spy_game_c([1,7,2,0,4,5,0]))"
      ],
      "execution_count": 0,
      "outputs": [
        {
          "output_type": "stream",
          "text": [
            "True\n",
            "True\n",
            "False\n"
          ],
          "name": "stdout"
        }
      ]
    },
    {
      "cell_type": "markdown",
      "metadata": {
        "id": "zouLn_RYikMC",
        "colab_type": "text"
      },
      "source": [
        "#### COUNT PRIMES: Write a function that returns the *number* of prime numbers that exist up to and including a given number\n",
        "    count_primes(100) --> 25\n",
        "\n",
        "By convention, 0 and 1 are not prime."
      ]
    },
    {
      "cell_type": "markdown",
      "metadata": {
        "id": "QDaQeejl7f8B",
        "colab_type": "text"
      },
      "source": [
        "**Defination**: A **prime** is narural number that is greater than '1' that has no positive divisors other than '1' or **itself**\n"
      ]
    },
    {
      "cell_type": "code",
      "metadata": {
        "id": "Lhb6pTxEikME",
        "colab_type": "code",
        "colab": {}
      },
      "source": [
        "def count_primes(num):\n",
        "\n",
        "    # Check for 0 and 1\n",
        "    if num < 2:\n",
        "        return 0 \n",
        "    ################\n",
        "    # 2 or greater #\n",
        "    ################\n",
        "    # List to store the prime number\n",
        "    primes = [2]\n",
        "    # Counter going Up to num \n",
        "    x = 3\n",
        "    # x is going through every number upto input num\n",
        "    while x <= num:\n",
        "        # This for loop check if the number is prime\n",
        "        for y in range(3,x,2):  # test all odd factors up to x-1\n",
        "            if x%y == 0:\n",
        "                x += 2\n",
        "                break\n",
        "        else:\n",
        "            primes.append(x)\n",
        "            x += 2\n",
        "    print(primes)\n",
        "    return len(primes)"
      ],
      "execution_count": 0,
      "outputs": []
    },
    {
      "cell_type": "code",
      "metadata": {
        "id": "t_oaeAdsikMK",
        "colab_type": "code",
        "outputId": "6202a32f-b633-478b-ff8e-b324866696e3",
        "colab": {
          "base_uri": "https://localhost:8080/",
          "height": 51
        }
      },
      "source": [
        "# Check\n",
        "count_primes(100)"
      ],
      "execution_count": 0,
      "outputs": [
        {
          "output_type": "stream",
          "text": [
            "[2, 3, 5, 7, 11, 13, 17, 19, 23, 29, 31, 37, 41, 43, 47, 53, 59, 61, 67, 71, 73, 79, 83, 89, 97]\n"
          ],
          "name": "stdout"
        },
        {
          "output_type": "execute_result",
          "data": {
            "text/plain": [
              "25"
            ]
          },
          "metadata": {
            "tags": []
          },
          "execution_count": 2
        }
      ]
    },
    {
      "cell_type": "code",
      "metadata": {
        "id": "1tJ4h5w7ZN8X",
        "colab_type": "code",
        "outputId": "c1dc57f5-6d19-47ec-e3dc-8227bd6c8a02",
        "colab": {
          "base_uri": "https://localhost:8080/",
          "height": 51
        }
      },
      "source": [
        "def count_primes_c(num):\n",
        "\n",
        "    if num < 2:\n",
        "        return 0 \n",
        "   \n",
        "    primes = [2]\n",
        "    x = 3\n",
        "\n",
        "    while x <= num:\n",
        "     \n",
        "        for y in primes: \n",
        "            if x%y == 0:\n",
        "                x += 2\n",
        "                break\n",
        "        else:\n",
        "            primes.append(x)\n",
        "            x += 2\n",
        "    print(primes)\n",
        "    return len(primes)\n",
        "\n",
        "# Check\n",
        "count_primes_c(100)"
      ],
      "execution_count": 0,
      "outputs": [
        {
          "output_type": "stream",
          "text": [
            "[2, 3, 5, 7, 11, 13, 17, 19, 23, 29, 31, 37, 41, 43, 47, 53, 59, 61, 67, 71, 73, 79, 83, 89, 97]\n"
          ],
          "name": "stdout"
        },
        {
          "output_type": "execute_result",
          "data": {
            "text/plain": [
              "25"
            ]
          },
          "metadata": {
            "tags": []
          },
          "execution_count": 51
        }
      ]
    },
    {
      "cell_type": "code",
      "metadata": {
        "id": "qZ20hLJo5-bP",
        "colab_type": "code",
        "outputId": "c9d5aee6-0937-497d-9d26-b002dc6cfc7e",
        "colab": {
          "base_uri": "https://localhost:8080/",
          "height": 34
        }
      },
      "source": [
        "# Prime or not \n",
        "  \n",
        "num = 11\n",
        "  \n",
        "# If given number is greater than 1 \n",
        "if num > 1: \n",
        "      \n",
        "   # Iterate from 2 to n / 2  \n",
        "   for i in range(2, num): \n",
        "         \n",
        "       # If num is divisible by any number between  \n",
        "       # 2 and n / 2, it is not prime  \n",
        "       if (num % i) == 0: \n",
        "           print(num, \"is not a prime number\") \n",
        "           break\n",
        "   else: \n",
        "       print(num, \"is a prime number\") \n",
        "  \n",
        "else: \n",
        "   print(num, \"is not a prime number\") "
      ],
      "execution_count": 0,
      "outputs": [
        {
          "output_type": "stream",
          "text": [
            "11 is a prime number\n"
          ],
          "name": "stdout"
        }
      ]
    },
    {
      "cell_type": "markdown",
      "metadata": {
        "id": "LP-jzcfm6KIf",
        "colab_type": "text"
      },
      "source": [
        "**Optimized Method**\n",
        "\n",
        "We can do following optimizations:\n",
        "\n",
        "1. Instead of checking till n, we can check till √n because a larger factor of n must be a multiple of smaller factor that has been already checked.\n",
        "\n",
        "2. The algorithm can be improved further by observing that all primes are of the form 6k ± 1, with the exception of 2 and 3. This is because all integers can be expressed as (6k + i) for some integer k and for i = ?1, 0, 1, 2, 3, or 4; 2 divides (6k + 0), (6k + 2), (6k + 4); and 3 divides (6k + 3). So a more efficient method is to test if n is divisible by 2 or 3, then to check through all the numbers of form 6k ± 1. (Source: [wikipedia](https://en.wikipedia.org/wiki/Primality_test))"
      ]
    },
    {
      "cell_type": "code",
      "metadata": {
        "id": "9rYNirac5_ku",
        "colab_type": "code",
        "outputId": "cfb671b0-5d9b-420f-bd45-7a43b8c0563c",
        "colab": {
          "base_uri": "https://localhost:8080/",
          "height": 51
        }
      },
      "source": [
        "# A optimized school method based  \n",
        "# Python3 program to check \n",
        "# if a number is prime \n",
        "  \n",
        "  \n",
        "def isPrime(n) : \n",
        "  \n",
        "    # Corner cases \n",
        "    if (n <= 1) : \n",
        "        return False\n",
        "    if (n <= 3) : \n",
        "        return True\n",
        "  \n",
        "    # This is checked so that we can skip  \n",
        "    # middle five numbers in below loop \n",
        "    if (n % 2 == 0 or n % 3 == 0) : \n",
        "        return False\n",
        "  \n",
        "    i = 5\n",
        "    while(i * i <= n) : \n",
        "        if (n % i == 0 or n % (i + 2) == 0) : \n",
        "            return False\n",
        "        i = i + 6\n",
        "  \n",
        "    return True\n",
        "  \n",
        "  \n",
        "# Driver Program  \n",
        "if (isPrime(11)) : \n",
        "    print(\" true\") \n",
        "else : \n",
        "    print(\" false\") \n",
        "      \n",
        "if(isPrime(15)) : \n",
        "    print(\" true\") \n",
        "else :  \n",
        "    print(\" false\") "
      ],
      "execution_count": 0,
      "outputs": [
        {
          "output_type": "stream",
          "text": [
            " true\n",
            " false\n"
          ],
          "name": "stdout"
        }
      ]
    },
    {
      "cell_type": "markdown",
      "metadata": {
        "id": "dWTFcW0IikMO",
        "colab_type": "text"
      },
      "source": [
        "### Just for fun:\n",
        "#### PRINT BIG: Write a function that takes in a single letter, and returns a 5x5 representation of that letter\n",
        "    print_big('a')\n",
        "    \n",
        "    out:   *  \n",
        "          * *\n",
        "         *****\n",
        "         *   *\n",
        "         *   *\n",
        "HINT: Consider making a dictionary of possible patterns, and mapping the alphabet to specific 5-line combinations of patterns. <br>For purposes of this exercise, it's ok if your dictionary stops at \"E\"."
      ]
    },
    {
      "cell_type": "code",
      "metadata": {
        "id": "4pdoRZLMikMQ",
        "colab_type": "code",
        "colab": {}
      },
      "source": [
        "def print_big(letter):\n",
        "    patterns = {1:'  *  ',2:' * * ',3:'*   *',4:'*****',5:'**** ',6:'   * ',7:' *   ',8:'*   * ',9:'*    '} # Creating Dict{} keys:value\n",
        "    alphabet = {'A':[1,2,4,3,3],'B':[5,3,5,3,5],'C':[4,9,9,9,4],'D':[5,3,3,3,5],'E':[4,9,4,9,4], '8':[4,3,4,3,4]}\n",
        "    for pattern in alphabet[letter.upper()]:\n",
        "        print(patterns[pattern])"
      ],
      "execution_count": 0,
      "outputs": []
    },
    {
      "cell_type": "code",
      "metadata": {
        "id": "4up0GYz4ikMT",
        "colab_type": "code",
        "outputId": "521317e4-93e3-46bf-97e6-7599c68e9821",
        "colab": {
          "base_uri": "https://localhost:8080/",
          "height": 102
        }
      },
      "source": [
        "print_big('8')"
      ],
      "execution_count": 0,
      "outputs": [
        {
          "output_type": "stream",
          "text": [
            "*****\n",
            "*   *\n",
            "*****\n",
            "*   *\n",
            "*****\n"
          ],
          "name": "stdout"
        }
      ]
    },
    {
      "cell_type": "code",
      "metadata": {
        "id": "IaqnJ-e6gpIw",
        "colab_type": "code",
        "outputId": "6119de36-2e62-42eb-9eba-1204329f198b",
        "colab": {
          "base_uri": "https://localhost:8080/",
          "height": 102
        }
      },
      "source": [
        "def draw(letter):\n",
        "    patterns = {'a':'  *  ',\n",
        "                'b':' * * ',\n",
        "                'c':'*   *',\n",
        "                'd':'*****',\n",
        "                'e':'**** ',\n",
        "                'f':' ****',\n",
        "                'g':'*    ',\n",
        "                'h':'    *',\n",
        "                'i':'   * ',\n",
        "                'j':'  *  ',\n",
        "                'k':' *   ',\n",
        "                'l':' **  ',\n",
        "                'm':'  ** ',\n",
        "                'o':' *** '}\n",
        "            \n",
        "\n",
        "    alphabet = {'A':['a','b','c','d','c','c'],\n",
        "                'B':['e','c','d','c','e'],\n",
        "                'C':['f','g','g','g','f'],\n",
        "                'D':['e','c','c','c','e'],\n",
        "                'E':['d','g','e','g','d'],\n",
        "                'F':['d','g','e','g','g'],\n",
        "                'I':['d','j','j','j','d']}\n",
        "\n",
        "    for i in alphabet[letter.upper()]: # .upper() to avoide the upper case problem during the print\n",
        "        print(patterns[i])\n",
        "draw('I')"
      ],
      "execution_count": 0,
      "outputs": [
        {
          "output_type": "stream",
          "text": [
            "*****\n",
            "  *  \n",
            "  *  \n",
            "  *  \n",
            "*****\n"
          ],
          "name": "stdout"
        }
      ]
    }
  ]
}