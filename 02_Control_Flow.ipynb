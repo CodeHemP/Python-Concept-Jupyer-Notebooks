{
  "nbformat": 4,
  "nbformat_minor": 0,
  "metadata": {
    "colab": {
      "name": "02_Control_Flow.ipynb",
      "provenance": [],
      "collapsed_sections": [
        "EzWKi_PpwGSn",
        "j24R_yC6p1fJ"
      ],
      "toc_visible": true,
      "authorship_tag": "ABX9TyM+NIm4tA9ts2VH2FNjvGK1",
      "include_colab_link": true
    },
    "kernelspec": {
      "name": "python3",
      "display_name": "Python 3"
    }
  },
  "cells": [
    {
      "cell_type": "markdown",
      "metadata": {
        "id": "view-in-github",
        "colab_type": "text"
      },
      "source": [
        "<a href=\"https://colab.research.google.com/github/mohd-faizy/Python_Notebooks_Concept/blob/master/02_Control_Flow.ipynb\" target=\"_parent\"><img src=\"https://colab.research.google.com/assets/colab-badge.svg\" alt=\"Open In Colab\"/></a>"
      ]
    },
    {
      "cell_type": "markdown",
      "metadata": {
        "id": "r2_x6WHnwfmi"
      },
      "source": [
        "# **Control Flow - Python Statement** "
      ]
    },
    {
      "cell_type": "markdown",
      "metadata": {
        "id": "EzWKi_PpwGSn"
      },
      "source": [
        "## **`if elif` & `else`**\n"
      ]
    },
    {
      "cell_type": "code",
      "metadata": {
        "id": "aukRatazeP8r",
        "outputId": "19dfa18d-b614-4132-86c7-79c48582af06",
        "colab": {
          "base_uri": "https://localhost:8080/"
        }
      },
      "source": [
        "hungry = True \n",
        "\n",
        "if hungry:\n",
        "    print('Feed Me!')\n",
        "else:\n",
        "    print('I m not hungry')"
      ],
      "execution_count": 1,
      "outputs": [
        {
          "output_type": "stream",
          "text": [
            "Feed Me!\n"
          ],
          "name": "stdout"
        }
      ]
    },
    {
      "cell_type": "code",
      "metadata": {
        "id": "FnXmMawinvcg",
        "outputId": "71712d3e-2e7a-4d44-cf4f-24fe64b7a45f",
        "colab": {
          "base_uri": "https://localhost:8080/"
        }
      },
      "source": [
        "loc = 'Auto shop'\n",
        "\n",
        "if loc == 'Auto shop':\n",
        "    print('Cars are cool!')\n",
        "elif loc == 'Bank':\n",
        "    print('Monry is cool!')\n",
        "elif loc == 'Store':\n",
        "    print('Welcome to the Store!')\n",
        "else:\n",
        "    print('I do not know the much')"
      ],
      "execution_count": 2,
      "outputs": [
        {
          "output_type": "stream",
          "text": [
            "Cars are cool!\n"
          ],
          "name": "stdout"
        }
      ]
    },
    {
      "cell_type": "markdown",
      "metadata": {
        "id": "j24R_yC6p1fJ"
      },
      "source": [
        "## **`for` Loop**"
      ]
    },
    {
      "cell_type": "code",
      "metadata": {
        "id": "Yhf2y96NpfqO",
        "outputId": "fd257931-457c-40b7-cc1b-9ee7906dc776",
        "colab": {
          "base_uri": "https://localhost:8080/"
        }
      },
      "source": [
        "# Iterating through the list\n",
        "mylist = [1,2,3,4,5]\n",
        "\n",
        "for num in mylist:\n",
        "    print(num, end='  ')"
      ],
      "execution_count": 3,
      "outputs": [
        {
          "output_type": "stream",
          "text": [
            "1  2  3  4  5  "
          ],
          "name": "stdout"
        }
      ]
    },
    {
      "cell_type": "code",
      "metadata": {
        "id": "yZZ__UzjsF6U",
        "outputId": "dd82bed7-f270-460a-c539-8f97ad5d2e1a",
        "colab": {
          "base_uri": "https://localhost:8080/"
        }
      },
      "source": [
        "mylist = [1,2,3,4,5]\n",
        "\n",
        "for num in mylist:\n",
        "    print('Hello!')"
      ],
      "execution_count": 4,
      "outputs": [
        {
          "output_type": "stream",
          "text": [
            "Hello!\n",
            "Hello!\n",
            "Hello!\n",
            "Hello!\n",
            "Hello!\n"
          ],
          "name": "stdout"
        }
      ]
    },
    {
      "cell_type": "code",
      "metadata": {
        "id": "IHdVdUGZsYP8",
        "outputId": "08c274d0-c223-44b1-d960-ea76f6558cd5",
        "colab": {
          "base_uri": "https://localhost:8080/"
        }
      },
      "source": [
        "# Printing odd and even number of a list\n",
        "\n",
        "my_list = [1,2,3,4,5,6,7,8,9,10]\n",
        "\n",
        "for num in my_list:\n",
        "    if num % 2 == 0:\n",
        "        print(f'even Number:{num}')\n",
        "    else:\n",
        "        print(f'odd Number: {num}')"
      ],
      "execution_count": 5,
      "outputs": [
        {
          "output_type": "stream",
          "text": [
            "odd Number: 1\n",
            "even Number:2\n",
            "odd Number: 3\n",
            "even Number:4\n",
            "odd Number: 5\n",
            "even Number:6\n",
            "odd Number: 7\n",
            "even Number:8\n",
            "odd Number: 9\n",
            "even Number:10\n"
          ],
          "name": "stdout"
        }
      ]
    },
    {
      "cell_type": "code",
      "metadata": {
        "id": "TxUAhX13-wFB",
        "outputId": "cd6c1297-bd65-4625-9e15-71531d083c2b",
        "colab": {
          "base_uri": "https://localhost:8080/"
        }
      },
      "source": [
        "list_sum = 0\n",
        "\n",
        "for num in my_list:\n",
        "    list_sum = list_sum + num\n",
        "    print(list_sum, end = ', ')\n"
      ],
      "execution_count": 6,
      "outputs": [
        {
          "output_type": "stream",
          "text": [
            "1, 3, 6, 10, 15, 21, 28, 36, 45, 55, "
          ],
          "name": "stdout"
        }
      ]
    },
    {
      "cell_type": "markdown",
      "metadata": {
        "id": "HKQcWm_6BiUk"
      },
      "source": [
        "[**How to remove last comma from print(string, end=“, ” ?**](https://stackoverflow.com/questions/52230513/python-how-to-remove-last-comma-from-printstring-end)"
      ]
    },
    {
      "cell_type": "code",
      "metadata": {
        "id": "D0E0cAuNC_2X",
        "outputId": "5cab0be2-5980-4bb0-b043-32b435422efc",
        "colab": {
          "base_uri": "https://localhost:8080/"
        }
      },
      "source": [
        "# Iterating through the string\n",
        "\n",
        "mystring = 'FAIZY'\n",
        "for letter in mystring:\n",
        "     print(letter)"
      ],
      "execution_count": 7,
      "outputs": [
        {
          "output_type": "stream",
          "text": [
            "F\n",
            "A\n",
            "I\n",
            "Z\n",
            "Y\n"
          ],
          "name": "stdout"
        }
      ]
    },
    {
      "cell_type": "code",
      "metadata": {
        "id": "VKO-9T_iDe2p",
        "outputId": "1298c126-623e-458f-b576-3584279e2a13",
        "colab": {
          "base_uri": "https://localhost:8080/"
        }
      },
      "source": [
        "for _ in 'ICE':\n",
        "    print('Cool!')"
      ],
      "execution_count": 8,
      "outputs": [
        {
          "output_type": "stream",
          "text": [
            "Cool!\n",
            "Cool!\n",
            "Cool!\n"
          ],
          "name": "stdout"
        }
      ]
    },
    {
      "cell_type": "code",
      "metadata": {
        "id": "raFSgj4pE2cM",
        "outputId": "6fe7397b-e342-420a-f4d3-746b382606af",
        "colab": {
          "base_uri": "https://localhost:8080/"
        }
      },
      "source": [
        "# iteration through Tuple\n",
        "\n",
        "tup = (1,2,3)\n",
        "for item in tup:\n",
        "    print(item)"
      ],
      "execution_count": 9,
      "outputs": [
        {
          "output_type": "stream",
          "text": [
            "1\n",
            "2\n",
            "3\n"
          ],
          "name": "stdout"
        }
      ]
    },
    {
      "cell_type": "code",
      "metadata": {
        "id": "F3k-QqclFUxd",
        "outputId": "ae8f5aed-9354-4d0a-c880-44ed216173a6",
        "colab": {
          "base_uri": "https://localhost:8080/"
        }
      },
      "source": [
        "# Tuple Un-packing\n",
        "\n",
        "mylist_1 = [(1,2), (3,4), (5,6), (7,8)]\n",
        "\n",
        "for (a,b) in mylist_1:\n",
        "    print(a)\n",
        "    \n"
      ],
      "execution_count": 10,
      "outputs": [
        {
          "output_type": "stream",
          "text": [
            "1\n",
            "3\n",
            "5\n",
            "7\n"
          ],
          "name": "stdout"
        }
      ]
    },
    {
      "cell_type": "code",
      "metadata": {
        "id": "I4PUYNtOJ6JN",
        "outputId": "ddb85944-9883-4ac0-ffa8-cf79e83be5df",
        "colab": {
          "base_uri": "https://localhost:8080/"
        }
      },
      "source": [
        "my_list_1 = [(1,2,3), (4,5,6), (7,8,9)]\n",
        "\n",
        "for (a,b,c) in my_list_1:\n",
        "    print(b)"
      ],
      "execution_count": 11,
      "outputs": [
        {
          "output_type": "stream",
          "text": [
            "2\n",
            "5\n",
            "8\n"
          ],
          "name": "stdout"
        }
      ]
    },
    {
      "cell_type": "code",
      "metadata": {
        "id": "hkCQk0xCKXEZ",
        "outputId": "9af0b472-54f8-4374-d258-081bcb536ae3",
        "colab": {
          "base_uri": "https://localhost:8080/"
        }
      },
      "source": [
        "# Iteration through a dictionary\n",
        "# By default we iterate through Keys\n",
        "\n",
        "dict_1 = {'k1': 1, 'k2': 2, 'k3': 3}\n",
        "\n",
        "for (key, value) in dict_1.items():\n",
        "    print(value)"
      ],
      "execution_count": 12,
      "outputs": [
        {
          "output_type": "stream",
          "text": [
            "1\n",
            "2\n",
            "3\n"
          ],
          "name": "stdout"
        }
      ]
    },
    {
      "cell_type": "markdown",
      "metadata": {
        "id": "ubPvHVApBr5W"
      },
      "source": [
        "## **`while` loop**"
      ]
    },
    {
      "cell_type": "code",
      "metadata": {
        "id": "6A1BVs60CPZ_",
        "outputId": "e9d0ee53-23c4-4d34-b264-a9660c866800",
        "colab": {
          "base_uri": "https://localhost:8080/"
        }
      },
      "source": [
        "x = 0\n",
        "\n",
        "while x < 5:\n",
        "    print(f'The current value of x is {x} ')\n",
        "    x += 1\n",
        "else:\n",
        "    print('x is Not less then 5')"
      ],
      "execution_count": 13,
      "outputs": [
        {
          "output_type": "stream",
          "text": [
            "The current value of x is 0 \n",
            "The current value of x is 1 \n",
            "The current value of x is 2 \n",
            "The current value of x is 3 \n",
            "The current value of x is 4 \n",
            "x is Not less then 5\n"
          ],
          "name": "stdout"
        }
      ]
    },
    {
      "cell_type": "markdown",
      "metadata": {
        "id": "DEqlGaMZVWKj"
      },
      "source": [
        "## **`break, continue, pass`**\n",
        "\n"
      ]
    },
    {
      "cell_type": "markdown",
      "metadata": {
        "id": "orUORl2HWmdP"
      },
      "source": [
        "__`pass`__-- Do nothing at all.\n",
        "\n",
        "\n",
        "Programer sometimes keep it as a placeholder to avoide errors to fill it later when working on the larger codes.\n"
      ]
    },
    {
      "cell_type": "code",
      "metadata": {
        "id": "9t4i68LlVVCw"
      },
      "source": [
        "x = [1,2,3]\n",
        " \n",
        "for items in x:\n",
        "    pass"
      ],
      "execution_count": 14,
      "outputs": []
    },
    {
      "cell_type": "markdown",
      "metadata": {
        "id": "Is9gU9BYYQu-"
      },
      "source": [
        "__`continue`__"
      ]
    },
    {
      "cell_type": "code",
      "metadata": {
        "id": "GU1tgpf0Xs3l",
        "outputId": "1e5aef0e-c098-446b-92a6-273983f90774",
        "colab": {
          "base_uri": "https://localhost:8080/"
        }
      },
      "source": [
        "mystring = 'faizy'\n",
        "for letter in mystring:\n",
        "    if letter == 'a':\n",
        "        continue\n",
        "    print(letter)"
      ],
      "execution_count": 15,
      "outputs": [
        {
          "output_type": "stream",
          "text": [
            "f\n",
            "i\n",
            "z\n",
            "y\n"
          ],
          "name": "stdout"
        }
      ]
    },
    {
      "cell_type": "markdown",
      "metadata": {
        "id": "oYjp5MaFqfOW"
      },
      "source": [
        "**`break`**"
      ]
    },
    {
      "cell_type": "code",
      "metadata": {
        "id": "NEYu-gdAqt-7",
        "outputId": "97f07f45-4f7d-4292-edeb-d0f6e213c1b1",
        "colab": {
          "base_uri": "https://localhost:8080/"
        }
      },
      "source": [
        "x = 0\n",
        "while x < 5:\n",
        "    if x == 3:\n",
        "        break\n",
        "    print(x)\n",
        "    x += 1 "
      ],
      "execution_count": 16,
      "outputs": [
        {
          "output_type": "stream",
          "text": [
            "0\n",
            "1\n",
            "2\n"
          ],
          "name": "stdout"
        }
      ]
    },
    {
      "cell_type": "markdown",
      "metadata": {
        "id": "1FJzpEwKxra2"
      },
      "source": [
        "## **Useful Operators in Python**"
      ]
    },
    {
      "cell_type": "markdown",
      "metadata": {
        "id": "xoJ4cN7A8VZx"
      },
      "source": [
        "**`range`** **operater**"
      ]
    },
    {
      "cell_type": "code",
      "metadata": {
        "id": "g-KtN3rgx0f-",
        "outputId": "10c6c557-97d4-41e7-f83f-2b2eff834106",
        "colab": {
          "base_uri": "https://localhost:8080/"
        }
      },
      "source": [
        "for num in range(0,10,2):\n",
        "    print(num)"
      ],
      "execution_count": 17,
      "outputs": [
        {
          "output_type": "stream",
          "text": [
            "0\n",
            "2\n",
            "4\n",
            "6\n",
            "8\n"
          ],
          "name": "stdout"
        }
      ]
    },
    {
      "cell_type": "markdown",
      "metadata": {
        "id": "yOdD2i8c97yu"
      },
      "source": [
        "**Genrating the list of number**"
      ]
    },
    {
      "cell_type": "code",
      "metadata": {
        "id": "yYsBr7GV9S6s",
        "outputId": "022b3523-9259-436c-cf0e-0dcc75e1be0c",
        "colab": {
          "base_uri": "https://localhost:8080/"
        }
      },
      "source": [
        "list(range(0,20,3))"
      ],
      "execution_count": 18,
      "outputs": [
        {
          "output_type": "execute_result",
          "data": {
            "text/plain": [
              "[0, 3, 6, 9, 12, 15, 18]"
            ]
          },
          "metadata": {
            "tags": []
          },
          "execution_count": 18
        }
      ]
    },
    {
      "cell_type": "markdown",
      "metadata": {
        "id": "QzJnQJKj93zF"
      },
      "source": [
        "**Enumertate**\n"
      ]
    },
    {
      "cell_type": "code",
      "metadata": {
        "id": "Z6DYFxMW927E",
        "outputId": "218b2e41-193d-4b73-9ea4-e014a8c35192",
        "colab": {
          "base_uri": "https://localhost:8080/"
        }
      },
      "source": [
        "index_count = 0\n",
        "\n",
        "for letter in 'abcde':\n",
        "    print('At index {} the letter is {}'.format(index_count, letter))\n",
        "    index_count += 1"
      ],
      "execution_count": 19,
      "outputs": [
        {
          "output_type": "stream",
          "text": [
            "At index 0 the letter is a\n",
            "At index 1 the letter is b\n",
            "At index 2 the letter is c\n",
            "At index 3 the letter is d\n",
            "At index 4 the letter is e\n"
          ],
          "name": "stdout"
        }
      ]
    },
    {
      "cell_type": "code",
      "metadata": {
        "id": "76fr_0UwHYPy",
        "outputId": "3ab0b7af-7627-4507-ac26-b5cdac4bf3fb",
        "colab": {
          "base_uri": "https://localhost:8080/"
        }
      },
      "source": [
        "index_counts = 0\n",
        "word = 'abcde'\n",
        "\n",
        "for letter in word:\n",
        "\n",
        "    print(word[index_counts])\n",
        "    index_counts += 1"
      ],
      "execution_count": 20,
      "outputs": [
        {
          "output_type": "stream",
          "text": [
            "a\n",
            "b\n",
            "c\n",
            "d\n",
            "e\n"
          ],
          "name": "stdout"
        }
      ]
    },
    {
      "cell_type": "markdown",
      "metadata": {
        "id": "OFUwbIpvKj6M"
      },
      "source": [
        "**Enumerate function** will the **index counter** and the **function itself**."
      ]
    },
    {
      "cell_type": "code",
      "metadata": {
        "id": "ZXqJv7YWJW-v",
        "outputId": "d31c8abc-c94f-42fd-9547-0b81f87eb021",
        "colab": {
          "base_uri": "https://localhost:8080/"
        }
      },
      "source": [
        "word = 'abcde'\n",
        "for items in enumerate(word):\n",
        "    print(items)             # Return the tuples              "
      ],
      "execution_count": 21,
      "outputs": [
        {
          "output_type": "stream",
          "text": [
            "(0, 'a')\n",
            "(1, 'b')\n",
            "(2, 'c')\n",
            "(3, 'd')\n",
            "(4, 'e')\n"
          ],
          "name": "stdout"
        }
      ]
    },
    {
      "cell_type": "code",
      "metadata": {
        "id": "-llKUdbUIkhD",
        "outputId": "ad195b9a-c322-4d45-f450-74fb8af20fb4",
        "colab": {
          "base_uri": "https://localhost:8080/"
        }
      },
      "source": [
        "word = 'CAT'\n",
        "for (index,letter) in enumerate(word):\n",
        "    print(index)\n",
        "    print(letter)\n",
        "    print('\\n')"
      ],
      "execution_count": 22,
      "outputs": [
        {
          "output_type": "stream",
          "text": [
            "0\n",
            "C\n",
            "\n",
            "\n",
            "1\n",
            "A\n",
            "\n",
            "\n",
            "2\n",
            "T\n",
            "\n",
            "\n"
          ],
          "name": "stdout"
        }
      ]
    },
    {
      "cell_type": "markdown",
      "metadata": {
        "id": "-nFI6UGGLNdR"
      },
      "source": [
        "**Zip function** - zips the two list together"
      ]
    },
    {
      "cell_type": "code",
      "metadata": {
        "id": "HW3gACwrLMig",
        "outputId": "87f40aa8-4559-4a9f-fbf8-2bcf46e86f8b",
        "colab": {
          "base_uri": "https://localhost:8080/"
        }
      },
      "source": [
        "mylist1 = [1,2,3,4]       \n",
        "mylist2 = ['a', 'b', 'c']\n",
        "\n",
        "for items in zip(mylist1, mylist2):\n",
        "\n",
        "#the output will ignore everything that is extra & zip the shortest\n",
        "    print(items)                   \n"
      ],
      "execution_count": 23,
      "outputs": [
        {
          "output_type": "stream",
          "text": [
            "(1, 'a')\n",
            "(2, 'b')\n",
            "(3, 'c')\n"
          ],
          "name": "stdout"
        }
      ]
    },
    {
      "cell_type": "code",
      "metadata": {
        "id": "jcqsoC5Bk9-Y",
        "outputId": "b3a19e22-77f9-4c85-875b-3e4a3c7c3ce6",
        "colab": {
          "base_uri": "https://localhost:8080/"
        }
      },
      "source": [
        "# To check wether the object is presrnt in the list/dict\n",
        "\n",
        "'a' in ['a', 'b', 'c']\n",
        "'k1' in {\"k1\":11, 'k2':22, 'k3':33} "
      ],
      "execution_count": 24,
      "outputs": [
        {
          "output_type": "execute_result",
          "data": {
            "text/plain": [
              "True"
            ]
          },
          "metadata": {
            "tags": []
          },
          "execution_count": 24
        }
      ]
    },
    {
      "cell_type": "code",
      "metadata": {
        "id": "9ZkFjHW0ltdi",
        "outputId": "76701b25-8766-4e4a-c3ba-aeb1bd882c13",
        "colab": {
          "base_uri": "https://localhost:8080/"
        }
      },
      "source": [
        "d = {\"k1\":11, 'k2':22, 'k3':33}\n",
        "11 in d.values()"
      ],
      "execution_count": 25,
      "outputs": [
        {
          "output_type": "execute_result",
          "data": {
            "text/plain": [
              "True"
            ]
          },
          "metadata": {
            "tags": []
          },
          "execution_count": 25
        }
      ]
    },
    {
      "cell_type": "code",
      "metadata": {
        "id": "5ccEf69Gl47-",
        "outputId": "63d17a15-233c-4f3d-89fe-631e96665747",
        "colab": {
          "base_uri": "https://localhost:8080/"
        }
      },
      "source": [
        "list_x = [10,20,30,40,50,100,101]\n",
        "print(min(list_x))\n",
        "print(max(list_x))"
      ],
      "execution_count": 26,
      "outputs": [
        {
          "output_type": "stream",
          "text": [
            "10\n",
            "101\n"
          ],
          "name": "stdout"
        }
      ]
    },
    {
      "cell_type": "markdown",
      "metadata": {
        "id": "EbYMRNGPmhPO"
      },
      "source": [
        "__`Random`__ library"
      ]
    },
    {
      "cell_type": "code",
      "metadata": {
        "id": "UykQMktcm2HM",
        "outputId": "cd9fd8d7-e550-441e-af17-ef04bb341573",
        "colab": {
          "base_uri": "https://localhost:8080/"
        }
      },
      "source": [
        "from random import shuffle\n",
        "mylist_x = [1,2,3,4,5,6,7,8,9,10]\n",
        "shuffle(mylist_x)\n",
        "print(mylist_x)"
      ],
      "execution_count": 27,
      "outputs": [
        {
          "output_type": "stream",
          "text": [
            "[6, 3, 1, 9, 2, 10, 7, 4, 8, 5]\n"
          ],
          "name": "stdout"
        }
      ]
    },
    {
      "cell_type": "code",
      "metadata": {
        "id": "O6csP_FJns4L",
        "outputId": "e3e57610-c160-45c3-d1dc-1b69c32ef985",
        "colab": {
          "base_uri": "https://localhost:8080/"
        }
      },
      "source": [
        "from random import randint\n",
        "\n",
        "mynum = randint(0,100)\n",
        "print(mynum)"
      ],
      "execution_count": 28,
      "outputs": [
        {
          "output_type": "stream",
          "text": [
            "60\n"
          ],
          "name": "stdout"
        }
      ]
    },
    {
      "cell_type": "code",
      "metadata": {
        "id": "t0_O1IuEoxd-",
        "outputId": "4671cf8d-b434-4c14-a323-0948e012e049",
        "colab": {
          "base_uri": "https://localhost:8080/"
        }
      },
      "source": [
        "# input function \n",
        "result = input('Favorite Number:')\n",
        "type(result)\n",
        "print(int(result))"
      ],
      "execution_count": 29,
      "outputs": [
        {
          "output_type": "stream",
          "text": [
            "Favorite Number:7\n",
            "7\n"
          ],
          "name": "stdout"
        }
      ]
    },
    {
      "cell_type": "markdown",
      "metadata": {
        "id": "pdWoUqtvuV1M"
      },
      "source": [
        "## **List Comprehensions**"
      ]
    },
    {
      "cell_type": "code",
      "metadata": {
        "id": "oN819GIC3h4D",
        "outputId": "45991bb2-9f15-41ab-9ea7-085ae41db2d4",
        "colab": {
          "base_uri": "https://localhost:8080/"
        }
      },
      "source": [
        "# Appending the item to the list\n",
        "  \n",
        "mystring = 'Hello'\n",
        "mylist = []\n",
        "\n",
        "for letter in mystring:\n",
        "    mylist.append(letter)\n",
        "print(mylist)"
      ],
      "execution_count": 30,
      "outputs": [
        {
          "output_type": "stream",
          "text": [
            "['H', 'e', 'l', 'l', 'o']\n"
          ],
          "name": "stdout"
        }
      ]
    },
    {
      "cell_type": "code",
      "metadata": {
        "id": "BMqECtZ022DM",
        "outputId": "9b298ea7-a66b-4ae7-f720-4f8645875367",
        "colab": {
          "base_uri": "https://localhost:8080/"
        }
      },
      "source": [
        "# List Comprehensions -- flatning the for loop \n",
        "string_n ='FAIZY'\n",
        "mylist_n = [letter for letter in string_n]\n",
        "print(mylist_n)"
      ],
      "execution_count": 31,
      "outputs": [
        {
          "output_type": "stream",
          "text": [
            "['F', 'A', 'I', 'Z', 'Y']\n"
          ],
          "name": "stdout"
        }
      ]
    },
    {
      "cell_type": "code",
      "metadata": {
        "id": "xa11iT-D3pjx",
        "outputId": "d947d482-70cf-497f-9ab9-885e74896c93",
        "colab": {
          "base_uri": "https://localhost:8080/"
        }
      },
      "source": [
        "list_n = [x for x in 'word']\n",
        "print(list_n)"
      ],
      "execution_count": 32,
      "outputs": [
        {
          "output_type": "stream",
          "text": [
            "['w', 'o', 'r', 'd']\n"
          ],
          "name": "stdout"
        }
      ]
    },
    {
      "cell_type": "code",
      "metadata": {
        "id": "Jg23xccD4EgI",
        "outputId": "e9e5a63f-8459-4b43-9664-dfcbe63794e6",
        "colab": {
          "base_uri": "https://localhost:8080/"
        }
      },
      "source": [
        "mylist = [num**2 for num in range(0,11)]\n",
        "print(mylist)"
      ],
      "execution_count": 33,
      "outputs": [
        {
          "output_type": "stream",
          "text": [
            "[0, 1, 4, 9, 16, 25, 36, 49, 64, 81, 100]\n"
          ],
          "name": "stdout"
        }
      ]
    },
    {
      "cell_type": "code",
      "metadata": {
        "id": "Y5EwMQy34uhV",
        "outputId": "82b852cd-d440-4b4f-8032-5d5e726e8d26",
        "colab": {
          "base_uri": "https://localhost:8080/"
        }
      },
      "source": [
        "# printing the even number in the flaten for loop\n",
        "\n",
        "mylist = [x**2 for x in range(0,11) if x%2 == 0]\n",
        "print(mylist)"
      ],
      "execution_count": 34,
      "outputs": [
        {
          "output_type": "stream",
          "text": [
            "[0, 4, 16, 36, 64, 100]\n"
          ],
          "name": "stdout"
        }
      ]
    },
    {
      "cell_type": "code",
      "metadata": {
        "id": "wypWKuBv5RIQ",
        "outputId": "1e368b34-bcc0-4a60-c5e5-14118b61bce5",
        "colab": {
          "base_uri": "https://localhost:8080/"
        }
      },
      "source": [
        "# fahrenheit to celcius\n",
        "celcius = [0, 10, 20, 34.5, 100]\n",
        "fahrenheit = [((9/5)*temp +32) for temp in celcius]\n",
        "print(fahrenheit)"
      ],
      "execution_count": 35,
      "outputs": [
        {
          "output_type": "stream",
          "text": [
            "[32.0, 50.0, 68.0, 94.1, 212.0]\n"
          ],
          "name": "stdout"
        }
      ]
    },
    {
      "cell_type": "code",
      "metadata": {
        "id": "gmU8-3UI63pp",
        "outputId": "47d9024b-8602-4e76-9cf7-3fec83f68719",
        "colab": {
          "base_uri": "https://localhost:8080/"
        }
      },
      "source": [
        "celcius = [0, 10, 20, 34.5, 100]\n",
        "fahrenheit = []\n",
        "\n",
        "for temp in celcius:\n",
        "    fahrenheit.append((9/5)*temp +32)\n",
        "print(fahrenheit)"
      ],
      "execution_count": 36,
      "outputs": [
        {
          "output_type": "stream",
          "text": [
            "[32.0, 50.0, 68.0, 94.1, 212.0]\n"
          ],
          "name": "stdout"
        }
      ]
    },
    {
      "cell_type": "code",
      "metadata": {
        "id": "2GJGTUIT8KE0",
        "outputId": "21bd4b4c-0168-4aa0-91f5-ddc0fd023f78",
        "colab": {
          "base_uri": "https://localhost:8080/"
        }
      },
      "source": [
        "mylist = []\n",
        "\n",
        "for x in [1, 2, 3]:\n",
        "    for y in [2, 3, 4]:\n",
        "        mylist.append(x**y)\n",
        "print(mylist)"
      ],
      "execution_count": 37,
      "outputs": [
        {
          "output_type": "stream",
          "text": [
            "[1, 1, 1, 4, 8, 16, 9, 27, 81]\n"
          ],
          "name": "stdout"
        }
      ]
    }
  ]
}