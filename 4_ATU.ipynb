{
  "nbformat": 4,
  "nbformat_minor": 0,
  "metadata": {
    "kernelspec": {
      "display_name": "Python 3",
      "language": "python",
      "name": "python3"
    },
    "language_info": {
      "codemirror_mode": {
        "name": "ipython",
        "version": 3
      },
      "file_extension": ".py",
      "mimetype": "text/x-python",
      "name": "python",
      "nbconvert_exporter": "python",
      "pygments_lexer": "ipython3",
      "version": "3.6.2"
    },
    "colab": {
      "name": "4_ATU.ipynb",
      "provenance": [],
      "include_colab_link": true
    }
  },
  "cells": [
    {
      "cell_type": "markdown",
      "metadata": {
        "id": "view-in-github",
        "colab_type": "text"
      },
      "source": [
        "<a href=\"https://colab.research.google.com/github/mohd-faizy/My_Python_Notebooks_Concept/blob/master/4_ATU.ipynb\" target=\"_parent\"><img src=\"https://colab.research.google.com/assets/colab-badge.svg\" alt=\"Open In Colab\"/></a>"
      ]
    },
    {
      "cell_type": "markdown",
      "metadata": {
        "id": "T47fi33B0Xb5",
        "colab_type": "text"
      },
      "source": [
        "##__Hints and Tips for Functions and Methods Assignment__\n",
        "\n",
        "\n",
        "Here are some hints for helping you complete the assignment!\n",
        "\n",
        "1. __Volume of a sphere__\n",
        "\n",
        "Write out your solution by hand as an equation with an input radius, then try to convert your logic to code.\n",
        "\n",
        "2. __Range check function__\n",
        "\n",
        "Keep in mind how to use the in operator and the range() function. How can you use in to check if something is in a list?\n",
        "\n",
        "3. __Upper Case and Lower Case strings__\n",
        "\n",
        "Whats a goo way to iterate through the string? A for loop perhaps? How can you keep track of you counts? A variable or maybe even a dictionary with a key for upper and a key for lower, then add counts to the value corresponding to the correct key.\n",
        "\n",
        "4. __Unique numbers in list.__\n",
        "\n",
        "Try using set() or even just using a for loop with a list and append numbers that you haven't already seen\n",
        "\n",
        "5. __Multiply all numbers in a list__\n",
        "\n",
        "Use a for loop to go through the list and take advantage of *= which operate similarly to +=.\n",
        "\n",
        "6. __Palindrome check__\n",
        "\n",
        "Remember what s[::-1] does if s is a string, or find a built-in way to reverse a string (function or method)\n",
        "\n",
        "7. __Pangram check__\n",
        "\n",
        "This is really tricky, but try using set() and feel free to check the answer for this one!\n",
        "\n"
      ]
    },
    {
      "cell_type": "markdown",
      "metadata": {
        "id": "00so2Eab0UZ4",
        "colab_type": "text"
      },
      "source": [
        "# Functions and Methods Homework \n",
        "\n",
        "Complete the following questions:\n",
        "____\n",
        "**Write a function that computes the volume of a sphere given its radius.**\n",
        "<p>The volume of a sphere is given as $$\\frac{4}{3} πr^3$$</p>"
      ]
    },
    {
      "cell_type": "code",
      "metadata": {
        "id": "PCqC3oZC0UZ7",
        "colab_type": "code",
        "colab": {}
      },
      "source": [
        "def vol(rad):\n",
        "    return (4/3)*(3.14)*(rad**3)"
      ],
      "execution_count": 0,
      "outputs": []
    },
    {
      "cell_type": "code",
      "metadata": {
        "id": "z418ER6_0UaF",
        "colab_type": "code",
        "outputId": "72de8d88-ec96-4c66-e015-6cef15a6b864",
        "colab": {
          "base_uri": "https://localhost:8080/",
          "height": 34
        }
      },
      "source": [
        "# Check\n",
        "vol(2)"
      ],
      "execution_count": 29,
      "outputs": [
        {
          "output_type": "execute_result",
          "data": {
            "text/plain": [
              "33.49333333333333"
            ]
          },
          "metadata": {
            "tags": []
          },
          "execution_count": 29
        }
      ]
    },
    {
      "cell_type": "markdown",
      "metadata": {
        "id": "pyRscqRM0UaQ",
        "colab_type": "text"
      },
      "source": [
        "___\n",
        "**Write a function that checks whether a number is in a given range (inclusive of high and low)**"
      ]
    },
    {
      "cell_type": "code",
      "metadata": {
        "id": "ULney85f0UaR",
        "colab_type": "code",
        "colab": {}
      },
      "source": [
        "def ran_check(num,low,high):\n",
        "    #Check if num is between low and high (including low and high) hence (high+1)\n",
        "    if num in range(low,high+1):\n",
        "        print(\" The {} number in the ranage of {} and {}\".format(num,low,high))\n",
        "    else:\n",
        "        print('The Number is out of range')"
      ],
      "execution_count": 0,
      "outputs": []
    },
    {
      "cell_type": "code",
      "metadata": {
        "id": "_pAro7BR0UaZ",
        "colab_type": "code",
        "outputId": "8297d81e-c401-4eb7-dd69-6db4ff14c5f1",
        "colab": {
          "base_uri": "https://localhost:8080/",
          "height": 34
        }
      },
      "source": [
        "# Check_1\n",
        "ran_check(5,2,7)"
      ],
      "execution_count": 31,
      "outputs": [
        {
          "output_type": "stream",
          "text": [
            " The 5 number in the ranage of 2 and 7\n"
          ],
          "name": "stdout"
        }
      ]
    },
    {
      "cell_type": "code",
      "metadata": {
        "id": "GSCTkl4caha5",
        "colab_type": "code",
        "colab": {
          "base_uri": "https://localhost:8080/",
          "height": 34
        },
        "outputId": "25492385-352f-404a-dc61-c0420d7c00e6"
      },
      "source": [
        "# Check_2\n",
        "ran_check(7,2,7)"
      ],
      "execution_count": 32,
      "outputs": [
        {
          "output_type": "stream",
          "text": [
            " The 7 number in the ranage of 2 and 7\n"
          ],
          "name": "stdout"
        }
      ]
    },
    {
      "cell_type": "code",
      "metadata": {
        "id": "bRW1zlA6bQlw",
        "colab_type": "code",
        "colab": {
          "base_uri": "https://localhost:8080/",
          "height": 34
        },
        "outputId": "1621ce20-4a1f-4512-9a02-f226f3fd7de3"
      },
      "source": [
        "# Check_3\n",
        "ran_check(8,2,7)"
      ],
      "execution_count": 33,
      "outputs": [
        {
          "output_type": "stream",
          "text": [
            "The Number is out of range\n"
          ],
          "name": "stdout"
        }
      ]
    },
    {
      "cell_type": "code",
      "metadata": {
        "id": "4r041QVGbQJH",
        "colab_type": "code",
        "colab": {
          "base_uri": "https://localhost:8080/",
          "height": 34
        },
        "outputId": "5284c899-a012-4303-dfaa-0675962a608f"
      },
      "source": [
        "# Check_4\n",
        "ran_check(1,2,7)"
      ],
      "execution_count": 34,
      "outputs": [
        {
          "output_type": "stream",
          "text": [
            "The Number is out of range\n"
          ],
          "name": "stdout"
        }
      ]
    },
    {
      "cell_type": "code",
      "metadata": {
        "id": "EcJLfolvbZjq",
        "colab_type": "code",
        "colab": {
          "base_uri": "https://localhost:8080/",
          "height": 34
        },
        "outputId": "f8ca4dc9-78b1-4481-d104-4c8ee1e82cdc"
      },
      "source": [
        "# Check_5\n",
        "ran_check(2,2,7)"
      ],
      "execution_count": 35,
      "outputs": [
        {
          "output_type": "stream",
          "text": [
            " The 2 number in the ranage of 2 and 7\n"
          ],
          "name": "stdout"
        }
      ]
    },
    {
      "cell_type": "markdown",
      "metadata": {
        "id": "6tBQjiYv0Uar",
        "colab_type": "text"
      },
      "source": [
        "If you only wanted to return a boolean:"
      ]
    },
    {
      "cell_type": "code",
      "metadata": {
        "id": "41CpgA4B0Uat",
        "colab_type": "code",
        "colab": {}
      },
      "source": [
        "def ran_bool(num,low,high):\n",
        "    if num in range(low,high+1):\n",
        "        return True\n",
        "    else:\n",
        "        return False\n",
        "            "
      ],
      "execution_count": 0,
      "outputs": []
    },
    {
      "cell_type": "code",
      "metadata": {
        "id": "96ndWrSq0Ua0",
        "colab_type": "code",
        "outputId": "a3519194-a602-4303-c7b3-286342ba4dc0",
        "colab": {
          "base_uri": "https://localhost:8080/",
          "height": 34
        }
      },
      "source": [
        "ran_bool(3,1,10)"
      ],
      "execution_count": 37,
      "outputs": [
        {
          "output_type": "execute_result",
          "data": {
            "text/plain": [
              "True"
            ]
          },
          "metadata": {
            "tags": []
          },
          "execution_count": 37
        }
      ]
    },
    {
      "cell_type": "code",
      "metadata": {
        "id": "7_RfiAxFhw4s",
        "colab_type": "code",
        "colab": {
          "base_uri": "https://localhost:8080/",
          "height": 34
        },
        "outputId": "fae4a4b9-91be-4a35-d630-a38d78b5ce06"
      },
      "source": [
        "ran_bool(1,2,7)"
      ],
      "execution_count": 38,
      "outputs": [
        {
          "output_type": "execute_result",
          "data": {
            "text/plain": [
              "False"
            ]
          },
          "metadata": {
            "tags": []
          },
          "execution_count": 38
        }
      ]
    },
    {
      "cell_type": "code",
      "metadata": {
        "id": "9RYsGin3ibRx",
        "colab_type": "code",
        "colab": {}
      },
      "source": [
        "def ran_bool_c(num,low, high):\n",
        "    return num in range(low,high+1)"
      ],
      "execution_count": 0,
      "outputs": []
    },
    {
      "cell_type": "code",
      "metadata": {
        "id": "LofXGBF_ix7-",
        "colab_type": "code",
        "colab": {
          "base_uri": "https://localhost:8080/",
          "height": 34
        },
        "outputId": "bba73be6-ebd6-4319-8780-fe91010b02a6"
      },
      "source": [
        "ran_bool_c(2,3,7)"
      ],
      "execution_count": 41,
      "outputs": [
        {
          "output_type": "execute_result",
          "data": {
            "text/plain": [
              "False"
            ]
          },
          "metadata": {
            "tags": []
          },
          "execution_count": 41
        }
      ]
    },
    {
      "cell_type": "markdown",
      "metadata": {
        "id": "BfRpEqqV0Ua7",
        "colab_type": "text"
      },
      "source": [
        "____\n",
        "**Write a Python function that accepts a string and calculates the number of upper case letters and lower case letters.**\n",
        "\n",
        "    Sample String : 'Hello Mr. Rogers, how are you this fine Tuesday?'\n",
        "    Expected Output : \n",
        "    No. of Upper case characters : 4\n",
        "    No. of Lower case Characters : 33\n",
        "\n",
        "HINT: Two string methods that might prove useful: **.isupper()** and **.islower()**\n",
        "\n",
        "If you feel ambitious, explore the Collections module to solve this problem!"
      ]
    },
    {
      "cell_type": "code",
      "metadata": {
        "id": "dBsrtU3L79Nq",
        "colab_type": "code",
        "colab": {}
      },
      "source": [
        "def up_low(s_u):\n",
        "    d={\"upper\":0, \"lower\":0}\n",
        "    for c in s_u:\n",
        "        if c.isupper():\n",
        "            d[\"upper\"]+=1\n",
        "        elif c.islower():\n",
        "            d[\"lower\"]+=1\n",
        "        else:\n",
        "            pass\n",
        "    print(\"Original String : \", s_u)\n",
        "    print(\"No. of Upper case characters : \", d[\"upper\"])\n",
        "    print(\"No. of Lower case Characters : \", d[\"lower\"])"
      ],
      "execution_count": 0,
      "outputs": []
    },
    {
      "cell_type": "code",
      "metadata": {
        "id": "MnHhab9V8JgP",
        "colab_type": "code",
        "colab": {
          "base_uri": "https://localhost:8080/",
          "height": 68
        },
        "outputId": "3e8bdfc1-f002-4954-88c7-7294815f10c7"
      },
      "source": [
        "s_u = 'Hello Mr. Rogers, how are you this fine Tuesday?'\n",
        "up_low(s_u)"
      ],
      "execution_count": 156,
      "outputs": [
        {
          "output_type": "stream",
          "text": [
            "Original String :  Hello Mr. Rogers, how are you this fine Tuesday?\n",
            "No. of Upper case characters :  4\n",
            "No. of Lower case Characters :  33\n"
          ],
          "name": "stdout"
        }
      ]
    },
    {
      "cell_type": "code",
      "metadata": {
        "id": "StWnMSuJ0Ua-",
        "colab_type": "code",
        "colab": {}
      },
      "source": [
        "def up_low(str_):\n",
        "    up_list = []\n",
        "    low_list = []               \n",
        "                        \n",
        "    for letter in list(str_):\n",
        "        if letter.isupper():\n",
        "            up_list.append(letter)\n",
        "        elif letter.islower():\n",
        "            low_list.append(letter)\n",
        "        else:\n",
        "            pass\n",
        "    print(\"Original String : \", str_)\n",
        "    print('No. of Upper case characters: {}'.format(len(up_list)))\n",
        "    print('No. of Lower case Characters: {}'.format(len(low_list))) "
      ],
      "execution_count": 0,
      "outputs": []
    },
    {
      "cell_type": "code",
      "metadata": {
        "id": "Mf6ZITDJ0UbE",
        "colab_type": "code",
        "outputId": "1f4b9390-84c3-4057-9b2e-da26ef51d82c",
        "colab": {
          "base_uri": "https://localhost:8080/",
          "height": 68
        }
      },
      "source": [
        "str_ = 'Hello Mr. Rogers, how are you this fine Tuesday?'\n",
        "up_low(str_)"
      ],
      "execution_count": 158,
      "outputs": [
        {
          "output_type": "stream",
          "text": [
            "Original String :  Hello Mr. Rogers, how are you this fine Tuesday?\n",
            "No. of Upper case characters: 4\n",
            "No. of Lower case Characters: 33\n"
          ],
          "name": "stdout"
        }
      ]
    },
    {
      "cell_type": "code",
      "metadata": {
        "id": "lU4WwhgvyS98",
        "colab_type": "code",
        "colab": {
          "base_uri": "https://localhost:8080/",
          "height": 34
        },
        "outputId": "f8763730-dc2e-4c98-9b57-572095643caf"
      },
      "source": [
        "def up_low(string):\n",
        "  uppers = 0\n",
        "  lowers = 0\n",
        "  for char in string:\n",
        "    if char.islower():\n",
        "      lowers += 1\n",
        "    elif char.isupper():\n",
        "      uppers +=1\n",
        "    else: #for the rest of the chars that aren't lower non upper-@#$%^&*\n",
        "      pass\n",
        "  return(uppers, lowers)\n",
        "\n",
        "print(up_low('Hello Mr. Rogers, how are you this fine Tuesday?'))"
      ],
      "execution_count": 153,
      "outputs": [
        {
          "output_type": "stream",
          "text": [
            "(4, 33)\n"
          ],
          "name": "stdout"
        }
      ]
    },
    {
      "cell_type": "code",
      "metadata": {
        "id": "aK4JRbBuwcJy",
        "colab_type": "code",
        "colab": {
          "base_uri": "https://localhost:8080/",
          "height": 51
        },
        "outputId": "85345bef-6955-4089-8fb0-7958ef2c4f90"
      },
      "source": [
        "str_n = 'Hello Mr. Rogers, how are you this fine Tuesday?'\n",
        "\n",
        "def up_low(str_n ):\n",
        "    a=list(str_n )       \n",
        "    u=[]\n",
        "    l=[]\n",
        "    for x in a:\n",
        "        if x.isupper():\n",
        "            u.append(x)\n",
        "        elif x.islower():\n",
        "            l.append(x)\n",
        "        else:\n",
        "            pass  \n",
        "    return u, l\n",
        "\n",
        "u, l = up_low(str_n)        \n",
        "print(f'No. of Upper case characters: {len(u)}')\n",
        "print(f'No. of Lower case Characters: {len(l)}')"
      ],
      "execution_count": 154,
      "outputs": [
        {
          "output_type": "stream",
          "text": [
            "No. of Upper case characters: 4\n",
            "No. of Lower case Characters: 33\n"
          ],
          "name": "stdout"
        }
      ]
    },
    {
      "cell_type": "markdown",
      "metadata": {
        "id": "2dtypFvF0UbP",
        "colab_type": "text"
      },
      "source": [
        "____\n",
        "**Write a Python function that takes a list and returns a new list with unique elements of the first list.**\n",
        "\n",
        "    Sample List : [1,1,1,1,2,2,3,3,3,3,4,5]\n",
        "    Unique List : [1, 2, 3, 4, 5]"
      ]
    },
    {
      "cell_type": "code",
      "metadata": {
        "id": "7BpJ5rJE0UbR",
        "colab_type": "code",
        "colab": {}
      },
      "source": [
        "def unique_list(lst):\n",
        "    new_list = []\n",
        "    i = 0\n",
        "\n",
        "    for num in lst:\n",
        "        if num[i] == num[i+1]: \n",
        "            new_list.append(num)\n",
        "        return new_list"
      ],
      "execution_count": 0,
      "outputs": []
    },
    {
      "cell_type": "markdown",
      "metadata": {
        "id": "O1u58liLDZz0",
        "colab_type": "text"
      },
      "source": [
        "__Error__ : 'int' object is not subscriptable\n",
        "\n",
        "It means you can't do `i[1]` if `i` is an integer\n",
        "\n",
        "-  Another reason if we are trying to access lists, but we have assigned integers to your variables instead of lists of integers.\n",
        "\n",
        "\n",
        "[What does the message \"'int' object not subscriptable\" mean in Python?](https://www.quora.com/What-does-the-message-int-object-not-subscriptable-mean-in-Python)"
      ]
    },
    {
      "cell_type": "code",
      "metadata": {
        "id": "B3Mi29180UbW",
        "colab_type": "code",
        "outputId": "84dcf844-2a0b-4b83-ef33-1d0f28f8f9d3",
        "colab": {
          "base_uri": "https://localhost:8080/",
          "height": 282
        }
      },
      "source": [
        "unique_list([1,1,1,1,2,2,3,3,3,3,4,5])"
      ],
      "execution_count": 217,
      "outputs": [
        {
          "output_type": "error",
          "ename": "TypeError",
          "evalue": "ignored",
          "traceback": [
            "\u001b[0;31m---------------------------------------------------------------------------\u001b[0m",
            "\u001b[0;31mTypeError\u001b[0m                                 Traceback (most recent call last)",
            "\u001b[0;32m<ipython-input-217-1b38d36a638e>\u001b[0m in \u001b[0;36m<module>\u001b[0;34m()\u001b[0m\n\u001b[0;32m----> 1\u001b[0;31m \u001b[0munique_list\u001b[0m\u001b[0;34m(\u001b[0m\u001b[0;34m[\u001b[0m\u001b[0;36m1\u001b[0m\u001b[0;34m,\u001b[0m\u001b[0;36m1\u001b[0m\u001b[0;34m,\u001b[0m\u001b[0;36m1\u001b[0m\u001b[0;34m,\u001b[0m\u001b[0;36m1\u001b[0m\u001b[0;34m,\u001b[0m\u001b[0;36m2\u001b[0m\u001b[0;34m,\u001b[0m\u001b[0;36m2\u001b[0m\u001b[0;34m,\u001b[0m\u001b[0;36m3\u001b[0m\u001b[0;34m,\u001b[0m\u001b[0;36m3\u001b[0m\u001b[0;34m,\u001b[0m\u001b[0;36m3\u001b[0m\u001b[0;34m,\u001b[0m\u001b[0;36m3\u001b[0m\u001b[0;34m,\u001b[0m\u001b[0;36m4\u001b[0m\u001b[0;34m,\u001b[0m\u001b[0;36m5\u001b[0m\u001b[0;34m]\u001b[0m\u001b[0;34m)\u001b[0m\u001b[0;34m\u001b[0m\u001b[0;34m\u001b[0m\u001b[0m\n\u001b[0m",
            "\u001b[0;32m<ipython-input-216-be064196b18b>\u001b[0m in \u001b[0;36munique_list\u001b[0;34m(lst)\u001b[0m\n\u001b[1;32m      4\u001b[0m \u001b[0;34m\u001b[0m\u001b[0m\n\u001b[1;32m      5\u001b[0m     \u001b[0;32mfor\u001b[0m \u001b[0mnum\u001b[0m \u001b[0;32min\u001b[0m \u001b[0mlst\u001b[0m\u001b[0;34m:\u001b[0m\u001b[0;34m\u001b[0m\u001b[0;34m\u001b[0m\u001b[0m\n\u001b[0;32m----> 6\u001b[0;31m         \u001b[0;32mif\u001b[0m \u001b[0mnum\u001b[0m\u001b[0;34m[\u001b[0m\u001b[0mi\u001b[0m\u001b[0;34m]\u001b[0m \u001b[0;34m==\u001b[0m \u001b[0mnum\u001b[0m\u001b[0;34m[\u001b[0m\u001b[0mi\u001b[0m\u001b[0;34m+\u001b[0m\u001b[0;36m1\u001b[0m\u001b[0;34m]\u001b[0m\u001b[0;34m:\u001b[0m\u001b[0;34m\u001b[0m\u001b[0;34m\u001b[0m\u001b[0m\n\u001b[0m\u001b[1;32m      7\u001b[0m             \u001b[0mnew_list\u001b[0m\u001b[0;34m.\u001b[0m\u001b[0mappend\u001b[0m\u001b[0;34m(\u001b[0m\u001b[0mnum\u001b[0m\u001b[0;34m)\u001b[0m\u001b[0;34m\u001b[0m\u001b[0;34m\u001b[0m\u001b[0m\n\u001b[1;32m      8\u001b[0m         \u001b[0;32mreturn\u001b[0m \u001b[0mnew_list\u001b[0m\u001b[0;34m\u001b[0m\u001b[0;34m\u001b[0m\u001b[0m\n",
            "\u001b[0;31mTypeError\u001b[0m: 'int' object is not subscriptable"
          ]
        }
      ]
    },
    {
      "cell_type": "code",
      "metadata": {
        "id": "sKLiVI0DlbIX",
        "colab_type": "code",
        "colab": {}
      },
      "source": [
        "def unique_list_gen(lst):\n",
        "    unique_list = []\n",
        "\n",
        "    for item in lst:\n",
        "        if item not in unique_list:\n",
        "            unique_list.append(item)\n",
        "    return unique_list\n",
        "    "
      ],
      "execution_count": 0,
      "outputs": []
    },
    {
      "cell_type": "code",
      "metadata": {
        "id": "VFvD9mMgldF9",
        "colab_type": "code",
        "colab": {
          "base_uri": "https://localhost:8080/",
          "height": 34
        },
        "outputId": "d50645cb-578f-4796-98ca-4830fc808a4a"
      },
      "source": [
        "unique_list_gen([1,1,1,1,2,2,3,3,3,3,4,5])"
      ],
      "execution_count": 225,
      "outputs": [
        {
          "output_type": "execute_result",
          "data": {
            "text/plain": [
              "[1, 2, 3, 4, 5]"
            ]
          },
          "metadata": {
            "tags": []
          },
          "execution_count": 225
        }
      ]
    },
    {
      "cell_type": "markdown",
      "metadata": {
        "id": "3milPbZO0Ubd",
        "colab_type": "text"
      },
      "source": [
        "____\n",
        "**Write a Python function to multiply all the numbers in a list.**\n",
        "\n",
        "    Sample List : [1, 2, 3, -4]\n",
        "    Expected Output : -24"
      ]
    },
    {
      "cell_type": "code",
      "metadata": {
        "id": "F4XUhu4kFChX",
        "colab_type": "code",
        "colab": {}
      },
      "source": [
        "def multiply(numbers):\n",
        "    total = numbers[0]\n",
        "    for x in numbers:\n",
        "        total *= x\n",
        "    return total"
      ],
      "execution_count": 0,
      "outputs": []
    },
    {
      "cell_type": "code",
      "metadata": {
        "id": "x5mJkQNc0Ubm",
        "colab_type": "code",
        "outputId": "4cdee657-5944-4749-91df-1a3e510c153b",
        "colab": {
          "base_uri": "https://localhost:8080/",
          "height": 34
        }
      },
      "source": [
        "multiply([1,2,3,-4])"
      ],
      "execution_count": 239,
      "outputs": [
        {
          "output_type": "execute_result",
          "data": {
            "text/plain": [
              "-24"
            ]
          },
          "metadata": {
            "tags": []
          },
          "execution_count": 239
        }
      ]
    },
    {
      "cell_type": "code",
      "metadata": {
        "id": "OpvCHtDL0Ube",
        "colab_type": "code",
        "colab": {
          "base_uri": "https://localhost:8080/",
          "height": 51
        },
        "outputId": "165a12ac-791b-4dfd-c241-e1e796fa3820"
      },
      "source": [
        "# Python program to multiply all values in the \n",
        "# list using traversal \n",
        "  \n",
        "def multiplyList(myList) : \n",
        "      \n",
        "    # Multiply elements one by one \n",
        "    result = 1\n",
        "    for x in myList: \n",
        "         result = result * x  # result *= x \n",
        "    return result  \n",
        "      \n",
        "# Driver code \n",
        "list1 = [1, 2, 3]  \n",
        "list2 = [3, 2, 4] \n",
        "print(multiplyList(list1)) \n",
        "print(multiplyList(list2))"
      ],
      "execution_count": 237,
      "outputs": [
        {
          "output_type": "stream",
          "text": [
            "6\n",
            "24\n"
          ],
          "name": "stdout"
        }
      ]
    },
    {
      "cell_type": "markdown",
      "metadata": {
        "id": "Vw9_NdN60Ubs",
        "colab_type": "text"
      },
      "source": [
        "____\n",
        "**Write a Python function that checks whether a passed in string is palindrome or not.**\n",
        "\n",
        "Note: A palindrome is word, phrase, or sequence that reads the same backward as forward, e.g., madam or nurses run."
      ]
    },
    {
      "cell_type": "code",
      "metadata": {
        "id": "bCMZKYiU0Ubt",
        "colab_type": "code",
        "colab": {}
      },
      "source": [
        "def palindrome(s):\n",
        "    return s == s[::-1] # Check if the string 's' is equal to the string reverse"
      ],
      "execution_count": 0,
      "outputs": []
    },
    {
      "cell_type": "code",
      "metadata": {
        "id": "CqdYOc890Ub2",
        "colab_type": "code",
        "outputId": "809a0a10-9658-48da-ef6a-043b7ac61ae0",
        "colab": {
          "base_uri": "https://localhost:8080/",
          "height": 34
        }
      },
      "source": [
        "palindrome('helleh')"
      ],
      "execution_count": 244,
      "outputs": [
        {
          "output_type": "execute_result",
          "data": {
            "text/plain": [
              "False"
            ]
          },
          "metadata": {
            "tags": []
          },
          "execution_count": 244
        }
      ]
    },
    {
      "cell_type": "markdown",
      "metadata": {
        "id": "70b5FspS0Ub9",
        "colab_type": "text"
      },
      "source": [
        "____\n",
        "#### Hard:\n",
        "\n",
        "**Write a Python function to check whether a string is pangram or not.**\n",
        "\n",
        "    Note : Pangrams are words or sentences containing every letter of the alphabet at least once.\n",
        "    For example : \"The quick brown fox jumps over the lazy dog\"\n",
        "\n",
        "Hint: Look at the string module"
      ]
    },
    {
      "cell_type": "code",
      "metadata": {
        "id": "_88pEJXq0Ub-",
        "colab_type": "code",
        "colab": {}
      },
      "source": [
        "import string\n",
        "\n",
        "def ispangram(str_s, alphabet=string.ascii_lowercase):  \n",
        "    alphaset = set(alphabet)  \n",
        "    return alphaset <= set(str_s.lower())  "
      ],
      "execution_count": 0,
      "outputs": []
    },
    {
      "cell_type": "code",
      "metadata": {
        "id": "sqhNzouK0UcE",
        "colab_type": "code",
        "outputId": "1f238da8-9e29-444d-ca58-060814dbb7fb",
        "colab": {
          "base_uri": "https://localhost:8080/",
          "height": 34
        }
      },
      "source": [
        "ispangram(\"The quick brown fox jumps over the lazy dog\")"
      ],
      "execution_count": 261,
      "outputs": [
        {
          "output_type": "execute_result",
          "data": {
            "text/plain": [
              "True"
            ]
          },
          "metadata": {
            "tags": []
          },
          "execution_count": 261
        }
      ]
    },
    {
      "cell_type": "code",
      "metadata": {
        "id": "VVJ-cUPp0UcK",
        "colab_type": "code",
        "outputId": "53442972-a8d1-4758-93c9-541ddcf51687",
        "colab": {
          "base_uri": "https://localhost:8080/",
          "height": 34
        }
      },
      "source": [
        "lowercase = string.ascii_lowercase\n",
        "print(lowercase)"
      ],
      "execution_count": 253,
      "outputs": [
        {
          "output_type": "stream",
          "text": [
            "abcdefghijklmnopqrstuvwxyz\n"
          ],
          "name": "stdout"
        }
      ]
    },
    {
      "cell_type": "code",
      "metadata": {
        "id": "FfA6P7EKZXiA",
        "colab_type": "code",
        "colab": {
          "base_uri": "https://localhost:8080/",
          "height": 34
        },
        "outputId": "97c4b3d4-c990-41f0-ec28-ab27ee58fef0"
      },
      "source": [
        "letter = string.ascii_letters\n",
        "print(letter)"
      ],
      "execution_count": 254,
      "outputs": [
        {
          "output_type": "stream",
          "text": [
            "abcdefghijklmnopqrstuvwxyzABCDEFGHIJKLMNOPQRSTUVWXYZ\n"
          ],
          "name": "stdout"
        }
      ]
    },
    {
      "cell_type": "code",
      "metadata": {
        "id": "4C34NQ5aZeeT",
        "colab_type": "code",
        "colab": {
          "base_uri": "https://localhost:8080/",
          "height": 34
        },
        "outputId": "67e0ae1d-9ade-4b1e-dacd-39dd537d2db0"
      },
      "source": [
        "uppercase = string.ascii_uppercase\n",
        "print(uppercase)"
      ],
      "execution_count": 255,
      "outputs": [
        {
          "output_type": "stream",
          "text": [
            "ABCDEFGHIJKLMNOPQRSTUVWXYZ\n"
          ],
          "name": "stdout"
        }
      ]
    },
    {
      "cell_type": "markdown",
      "metadata": {
        "id": "UtrBx51GcDZ2",
        "colab_type": "text"
      },
      "source": [
        ""
      ]
    },
    {
      "cell_type": "code",
      "metadata": {
        "id": "EvQCH-cIbp1T",
        "colab_type": "code",
        "colab": {
          "base_uri": "https://localhost:8080/",
          "height": 442
        },
        "outputId": "8afcd184-20b8-4e41-8385-82a418f3d183"
      },
      "source": [
        "dir(string)"
      ],
      "execution_count": 258,
      "outputs": [
        {
          "output_type": "execute_result",
          "data": {
            "text/plain": [
              "['Formatter',\n",
              " 'Template',\n",
              " '_ChainMap',\n",
              " '_TemplateMetaclass',\n",
              " '__all__',\n",
              " '__builtins__',\n",
              " '__cached__',\n",
              " '__doc__',\n",
              " '__file__',\n",
              " '__loader__',\n",
              " '__name__',\n",
              " '__package__',\n",
              " '__spec__',\n",
              " '_re',\n",
              " '_string',\n",
              " 'ascii_letters',\n",
              " 'ascii_lowercase',\n",
              " 'ascii_uppercase',\n",
              " 'capwords',\n",
              " 'digits',\n",
              " 'hexdigits',\n",
              " 'octdigits',\n",
              " 'printable',\n",
              " 'punctuation',\n",
              " 'whitespace']"
            ]
          },
          "metadata": {
            "tags": []
          },
          "execution_count": 258
        }
      ]
    },
    {
      "cell_type": "code",
      "metadata": {
        "id": "Yt9n69Ops4uV",
        "colab_type": "code",
        "colab": {
          "base_uri": "https://localhost:8080/",
          "height": 34
        },
        "outputId": "4211096b-65df-4edf-b96f-4ea626c2b9a6"
      },
      "source": [
        "from string import ascii_lowercase as lower\n",
        "\n",
        "abc = ''\n",
        "\n",
        "for i in lower:\n",
        "    abc += i + '*'\n",
        "print(abc) "
      ],
      "execution_count": 270,
      "outputs": [
        {
          "output_type": "stream",
          "text": [
            "a*b*c*d*e*f*g*h*i*j*k*l*m*n*o*p*q*r*s*t*u*v*w*x*y*z*\n"
          ],
          "name": "stdout"
        }
      ]
    }
  ]
}