{
  "nbformat": 4,
  "nbformat_minor": 0,
  "metadata": {
    "colab": {
      "name": "2.OOP's_Concept_P2.ipynb",
      "provenance": [],
      "collapsed_sections": [],
      "include_colab_link": true
    },
    "kernelspec": {
      "name": "python3",
      "display_name": "Python 3"
    }
  },
  "cells": [
    {
      "cell_type": "markdown",
      "metadata": {
        "id": "view-in-github",
        "colab_type": "text"
      },
      "source": [
        "<a href=\"https://colab.research.google.com/github/mohd-faizy/My_Python_Notebooks_Concept/blob/master/2_OOP's_Concept_P2.ipynb\" target=\"_parent\"><img src=\"https://colab.research.google.com/assets/colab-badge.svg\" alt=\"Open In Colab\"/></a>"
      ]
    },
    {
      "cell_type": "markdown",
      "metadata": {
        "id": "jbZdOcvdcCB5",
        "colab_type": "text"
      },
      "source": [
        "# **Object-Oriented Programming**\n"
      ]
    },
    {
      "cell_type": "code",
      "metadata": {
        "id": "N5K8HChsnXow",
        "colab_type": "code",
        "outputId": "6f1a0b8a-0d38-4933-ede5-97e1707e28c8",
        "colab": {
          "base_uri": "https://localhost:8080/",
          "height": 54
        }
      },
      "source": [
        "class Computer:\n",
        "     \n",
        "    def __init__(self, cpu, ram):\n",
        "        self.cpu = cpu\n",
        "        self.ram = ram  \n",
        "\n",
        "    def config(self):\n",
        "        print(\"config is\", self.cpu, self.ram)\n",
        "\n",
        "com1 = Computer(\"i5\", \"16GB\")\n",
        "com2 = Computer(\"Ryzen-3\", \"8GB\")\n",
        "\n",
        "com1.config()\n",
        "com2.config()"
      ],
      "execution_count": 0,
      "outputs": [
        {
          "output_type": "stream",
          "text": [
            "config is i5 16GB\n",
            "config is Ryzen-3 8GB\n"
          ],
          "name": "stdout"
        }
      ]
    },
    {
      "cell_type": "code",
      "metadata": {
        "id": "9WQY30PToXs3",
        "colab_type": "code",
        "outputId": "3b2fcba9-8fdd-40bf-d6fc-d4b8e6752b0e",
        "colab": {
          "base_uri": "https://localhost:8080/",
          "height": 54
        }
      },
      "source": [
        "class Computer:\n",
        "    pass\n",
        "\n",
        "c1 = Computer()\n",
        "c2 = Computer()\n",
        "\n",
        "print(id(c1))\n",
        "print(id(c2))"
      ],
      "execution_count": 0,
      "outputs": [
        {
          "output_type": "stream",
          "text": [
            "139874984837920\n",
            "139874984837864\n"
          ],
          "name": "stdout"
        }
      ]
    },
    {
      "cell_type": "code",
      "metadata": {
        "id": "X-YxgmPVtLcV",
        "colab_type": "code",
        "outputId": "ee9846b3-89f1-4ae5-c4b1-2ea047b9db8f",
        "colab": {
          "base_uri": "https://localhost:8080/",
          "height": 54
        }
      },
      "source": [
        "class Computer:\n",
        "    \n",
        "    def __init__(self):\n",
        "        self.name = \"Faizy\"\n",
        "        self.age = 29\n",
        "\n",
        "    \n",
        "c1 = Computer()\n",
        "c2 = Computer()\n",
        "\n",
        "c1.name = \"Mohd\"\n",
        "\n",
        "print(c1.name)\n",
        "print(c2.name)"
      ],
      "execution_count": 0,
      "outputs": [
        {
          "output_type": "stream",
          "text": [
            "Mohd\n",
            "Faizy\n"
          ],
          "name": "stdout"
        }
      ]
    },
    {
      "cell_type": "code",
      "metadata": {
        "id": "pVRVf6QsuQKC",
        "colab_type": "code",
        "outputId": "0c25728b-149d-4674-b75b-26b1dc695ea2",
        "colab": {
          "base_uri": "https://localhost:8080/",
          "height": 52
        }
      },
      "source": [
        "class Person:\n",
        "    \n",
        "    def __init__(self):\n",
        "        self.name = \"Faizy\"\n",
        "        self.age = 29\n",
        "\n",
        "    def update(self):\n",
        "        self.age = 30\n",
        "    \n",
        "c1 = Computer()\n",
        "c2 = Computer()\n",
        "\n",
        "c1.name = \"mohd\"\n",
        "c1.age  = 12\n",
        "\n",
        "c1.update()\n",
        "\n",
        "print(c1.name)   \n",
        "print(c2.age)"
      ],
      "execution_count": 0,
      "outputs": [
        {
          "output_type": "stream",
          "text": [
            "mohd\n",
            "29\n"
          ],
          "name": "stdout"
        }
      ]
    },
    {
      "cell_type": "markdown",
      "metadata": {
        "id": "3f-wth8GyKCb",
        "colab_type": "text"
      },
      "source": [
        "**self** is the** pointer** which will **direct toward either c1 or c2**\n",
        "\n",
        "\n"
      ]
    },
    {
      "cell_type": "code",
      "metadata": {
        "id": "85brjmHawVHe",
        "colab_type": "code",
        "outputId": "6f7dbc48-f62f-4aa0-e3f7-2b0329db8451",
        "colab": {
          "base_uri": "https://localhost:8080/",
          "height": 73
        }
      },
      "source": [
        "    Computer:\n",
        "    \n",
        "    def __init__(self):\n",
        "        self.name = \"Faizy\"\n",
        "        self.age = 28\n",
        "\n",
        "#compare takes two parameter (Who is calling, whome to compare)\n",
        " \n",
        "    def compare(self, c2): \n",
        "        if self.age == c2.age:\n",
        "            return True\n",
        "        else:\n",
        "            return False\n",
        "    \n",
        "c1 = Computer() #object1\n",
        "c1.age = 30\n",
        "c2 = Computer() #ibject2\n",
        "\n",
        "if c1.compare(c2):\n",
        "    print(\"They are same\")\n",
        "else:\n",
        "    print(\"They are different\")\n",
        "\n",
        "print(c1.age)\n",
        "print(c2.age)  "
      ],
      "execution_count": 0,
      "outputs": [
        {
          "output_type": "stream",
          "text": [
            "They are different\n",
            "30\n",
            "28\n"
          ],
          "name": "stdout"
        }
      ]
    },
    {
      "cell_type": "markdown",
      "metadata": {
        "id": "_UzprRb0F57j",
        "colab_type": "text"
      },
      "source": [
        "# **Variable**\n",
        " \n",
        "Two type:\n",
        "\n",
        " - **Instance Variable**\n",
        " - **Class(static) variable**"
      ]
    },
    {
      "cell_type": "code",
      "metadata": {
        "id": "TEY_s8cr-0-d",
        "colab_type": "code",
        "outputId": "b4fba012-ba2c-4057-a6be-719068f81fcc",
        "colab": {
          "base_uri": "https://localhost:8080/",
          "height": 54
        }
      },
      "source": [
        "class Car:\n",
        "    def __init__(self):\n",
        "        self.mil  = 10\n",
        "        self.com = \"BMW\"\n",
        "\n",
        "c1 = Car() # object1\n",
        "c2 = Car() # object1\n",
        "\n",
        "c1.mil = 8\n",
        "\n",
        "\n",
        "print(c1.com, c1.mil)\n",
        "print(c2.com, c2.mil)"
      ],
      "execution_count": 0,
      "outputs": [
        {
          "output_type": "stream",
          "text": [
            "BMW 8\n",
            "BMW 10\n"
          ],
          "name": "stdout"
        }
      ]
    },
    {
      "cell_type": "code",
      "metadata": {
        "id": "ncyi7LfZKFwy",
        "colab_type": "code",
        "outputId": "673fbe8b-07f3-446c-aaa2-1428ae497ea6",
        "colab": {
          "base_uri": "https://localhost:8080/",
          "height": 54
        }
      },
      "source": [
        "# what if we have the varible which is common for all the varible\n",
        "class Car:\n",
        "\n",
        "    wheels = 4  # class Varible [as it is inside the class]\n",
        "                # here wheels belong to the class namespace\n",
        "    def __init__(self):\n",
        "        self.mil  = 10     #instance namespace\n",
        "        self.com = \"BMW\"   #instance namespace\n",
        "\n",
        "c1 = Car() # object1\n",
        "c2 = Car() # object1\n",
        "\n",
        "c1.mil = 8\n",
        "c1.com = \"Audi \"\n",
        "\n",
        "\n",
        "print(c1.com, c1.mil, c1.wheels)\n",
        "print(c2.com, c2.mil, c2.wheels)"
      ],
      "execution_count": 0,
      "outputs": [
        {
          "output_type": "stream",
          "text": [
            "Audi 8 4\n",
            "BMW 10 4\n"
          ],
          "name": "stdout"
        }
      ]
    },
    {
      "cell_type": "markdown",
      "metadata": {
        "id": "k0jW-gPMLvfX",
        "colab_type": "text"
      },
      "source": [
        "**Namespace** is an area where you create and store **object/varible**.\n",
        "\n",
        "- class namespace\n",
        "- Object/Instance namespace"
      ]
    },
    {
      "cell_type": "markdown",
      "metadata": {
        "id": "uZBJd0CZQ7aY",
        "colab_type": "text"
      },
      "source": [
        "**Type of Methods in python**\n",
        "\n",
        "**Objects** will have two things\n",
        "\n",
        "1. varibles [ to store the data]\n",
        "\n",
        "2. methods [ for Behaviour]"
      ]
    },
    {
      "cell_type": "markdown",
      "metadata": {
        "id": "E6d34kHHR0jK",
        "colab_type": "text"
      },
      "source": [
        "We basically have three type of **Methods**.\n",
        "\n",
        "1. Instance Method \n",
        "2. class Method\n",
        "3. Static Method\n"
      ]
    },
    {
      "cell_type": "code",
      "metadata": {
        "id": "oe-5mTrjMLs0",
        "colab_type": "code",
        "outputId": "acd1534d-b392-4925-b128-92ed9fffe477",
        "colab": {
          "base_uri": "https://localhost:8080/",
          "height": 54
        }
      },
      "source": [
        "class Student:\n",
        "# creating Static/class varible \n",
        "    school = \"Jamia Millia Islamia\"\n",
        "    # Function\n",
        "    def __init__(self, m1, m2, m3):  \n",
        "        # Declearing the Varibles\n",
        "        self.m1 = m1                 \n",
        "        self.m2 = m2                 \n",
        "        self.m3 = m3     \n",
        "\n",
        "    # creating the Method\n",
        "    # This is an instance method Becoz we are passing the self\n",
        "    # This belong to a particular Object\n",
        "    def avg(self):\n",
        "        return(self.m1 + self.m2 + self.m3)/3         \n",
        "\n",
        "# Creating the Objects\n",
        "s1 = Student(3, 6, 9)\n",
        "s2 = Student(9, 15, 3)\n",
        "\n",
        "print(s1.avg())\n",
        "print(s2.avg())\n"
      ],
      "execution_count": 0,
      "outputs": [
        {
          "output_type": "stream",
          "text": [
            "6.0\n",
            "9.0\n"
          ],
          "name": "stdout"
        }
      ]
    },
    {
      "cell_type": "markdown",
      "metadata": {
        "id": "v6lJ9HSrW11g",
        "colab_type": "text"
      },
      "source": [
        "This is an Instance Method because it works with the objects\n",
        "\n",
        "we have two different type of instances\n",
        "1. Accessors Methods [when we just want to fetch the values of the instances varible]\n",
        "\n",
        "\n",
        "\n",
        "```\n",
        "def get_m1(self):\n",
        "        return self.m1\n",
        "```\n",
        "\n",
        "\n",
        "\n",
        "2. Mutators Methods [when we want to change the value we use mutators]\n",
        "\n",
        "\n",
        "\n",
        "```\n",
        "def set_m1(self, value):\n",
        "        self.value = value\n",
        "```\n",
        "\n"
      ]
    },
    {
      "cell_type": "code",
      "metadata": {
        "id": "oqN34L8NV-PV",
        "colab_type": "code",
        "outputId": "5c1861c7-b208-444c-abdf-158be0c9393c",
        "colab": {
          "base_uri": "https://localhost:8080/",
          "height": 54
        }
      },
      "source": [
        "class Student:\n",
        "# creating Static/class varible \n",
        "    school = \"Jamia Millia Islamia\"\n",
        "    # Function\n",
        "    def __init__(self, m1, m2, m3):  \n",
        "        # Declearing the Varibles\n",
        "        self.m1 = m1                 \n",
        "        self.m2 = m2                 \n",
        "        self.m3 = m3     \n",
        "\n",
        "    # creating the Method\n",
        "    # This is an instance method Becoz we are passing the self\n",
        "    # This belong to a particular Object\n",
        "    def avg(self):\n",
        "        return(self.m1 + self.m2 + self.m3)/3    \n",
        "\n",
        "    def get_m1(self):\n",
        "        return self.m1     # when we wnat the value of the m1\n",
        "\n",
        "    def set_m1(self, value):\n",
        "        self.value = value\n",
        "\n",
        "# Creating the Objects\n",
        "s1 = Student(3, 6, 9)\n",
        "s2 = Student(9, 15, 3)\n",
        "\n",
        "print(s1.avg())\n",
        "print(s2.avg())"
      ],
      "execution_count": 0,
      "outputs": [
        {
          "output_type": "stream",
          "text": [
            "6.0\n",
            "9.0\n"
          ],
          "name": "stdout"
        }
      ]
    },
    {
      "cell_type": "code",
      "metadata": {
        "id": "h-H0S0DSZLrY",
        "colab_type": "code",
        "outputId": "75e84a40-b457-4006-9ee2-93bdf59fe179",
        "colab": {
          "base_uri": "https://localhost:8080/",
          "height": 54
        }
      },
      "source": [
        "class Student:\n",
        "# creating Static/class varible \n",
        "    school = \"Jamia Millia Islamia\"\n",
        "    # Function\n",
        "    def __init__(self, m1, m2, m3):  \n",
        "        # Declearing the Varibles\n",
        "        self.m1 = m1                 \n",
        "        self.m2 = m2                 \n",
        "        self.m3 = m3     \n",
        "\n",
        "    # creating the Method\n",
        "    # This is an instance method Becoz we are passing the self\n",
        "    # This belong to a particular Object\n",
        "    def avg(self):\n",
        "        return(self.m1 + self.m2 + self.m3)/3    \n",
        "\n",
        "    @classmethod   #without this error will occur, called as Decorators\n",
        "                   #Decorators are used to create the class methods\n",
        "                          \n",
        "    def info(cls): #working with the class varble\n",
        "        return cls.school\n",
        "\n",
        "        \n",
        "# Creating the Objects\n",
        "s1 = Student(3, 6, 9)\n",
        "s2 = Student(9, 15, 3)\n",
        "\n",
        "print(s1.avg())\n",
        "print(Student.info())"
      ],
      "execution_count": 0,
      "outputs": [
        {
          "output_type": "stream",
          "text": [
            "6.0\n",
            "Jamia Millia Islamia\n"
          ],
          "name": "stdout"
        }
      ]
    },
    {
      "cell_type": "code",
      "metadata": {
        "id": "lftoDre4pBbW",
        "colab_type": "code",
        "colab": {}
      },
      "source": [
        ""
      ],
      "execution_count": 0,
      "outputs": []
    },
    {
      "cell_type": "markdown",
      "metadata": {
        "id": "212cUTsnpDP_",
        "colab_type": "text"
      },
      "source": [
        "## static method"
      ]
    },
    {
      "cell_type": "code",
      "metadata": {
        "colab_type": "code",
        "outputId": "c6140cdc-017a-40a3-bbe8-e11b1cdcfac5",
        "id": "G5jDn4j3pB_M",
        "colab": {
          "base_uri": "https://localhost:8080/",
          "height": 73
        }
      },
      "source": [
        "class Student:\n",
        "# creating Static/class varible \n",
        "    school = \"Jamia Millia Islamia\"\n",
        "    # Function\n",
        "    def __init__(self, m1, m2, m3):  \n",
        "        # Declearing the Varibles\n",
        "        self.m1 = m1                 \n",
        "        self.m2 = m2                 \n",
        "        self.m3 = m3     \n",
        "\n",
        "    # creating the Method\n",
        "    # This is an instance method Becoz we are passing the self\n",
        "    # This belong to a particular Object\n",
        "    def avg(self):\n",
        "        return(self.m1 + self.m2 + self.m3)/3    \n",
        "\n",
        "    @classmethod   #without this error will occur, called as Decorators\n",
        "                   #Decorators are used to create the class methods\n",
        "                          \n",
        "    def get_school(cls): #working with the class varble\n",
        "        return cls.school\n",
        "\n",
        "    def info():\n",
        "        print(\"This is a student class.. in abc Module\")\n",
        "\n",
        "        \n",
        "# Creating the Objects\n",
        "s1 = Student(3, 6, 9)\n",
        "s2 = Student(9, 15, 3)\n",
        "\n",
        "print(s1.avg())\n",
        "print(Student.get_school())\n",
        "\n",
        "Student.info()"
      ],
      "execution_count": 0,
      "outputs": [
        {
          "output_type": "stream",
          "text": [
            "6.0\n",
            "Jamia Millia Islamia\n",
            "This is a student class.. in abc Module\n"
          ],
          "name": "stdout"
        }
      ]
    },
    {
      "cell_type": "markdown",
      "metadata": {
        "id": "jz_2P5l7qOhp",
        "colab_type": "text"
      },
      "source": [
        "# **Inner Class in Python**\n",
        "\n",
        "Previouly code\n",
        "\n",
        "```\n",
        "Class:\n",
        "  varible\n",
        "  Method/Function\n",
        "```\n",
        "\n",
        "\n",
        "Now can we have the \n",
        "\n",
        "```\n",
        "class \n",
        "  inside class\n",
        "```\n",
        "\n",
        "\n"
      ]
    },
    {
      "cell_type": "code",
      "metadata": {
        "id": "uRZh8eSOqMw5",
        "colab_type": "code",
        "outputId": "197de438-383c-4b96-96e7-1800f5395daa",
        "colab": {
          "base_uri": "https://localhost:8080/",
          "height": 91
        }
      },
      "source": [
        "class Student:\n",
        "\n",
        "    def __init__(self, name, rollno):\n",
        "        self.name   = name \n",
        "        self.rollno = rollno\n",
        "        self.lap    = self.Laptop()\n",
        "\n",
        "\n",
        "    def show(self):\n",
        "        print(self.name, self.rollno)\n",
        "        self.lap.show()\n",
        "    \n",
        "\n",
        "    class Laptop:\n",
        "        def __init__(self):\n",
        "            self.brand = \"Lenovo\"\n",
        "            self.cpu   = \"Core-i5\"\n",
        "            self.ram   = \"8GB\"\n",
        "\n",
        "         \n",
        "        def show(self):\n",
        "            print(self.brand, self.cpu, self.ram)\n",
        "\n",
        "s1 = Student(\"Mohd faizy\",  \"17-MEL-010\")\n",
        "s2 = Student(\"Azeemuddien\", \"17-MBA-010\")\n",
        " \n",
        " \n",
        "s1.show()\n",
        "s2.show()\n",
        "\n",
        "lap1 = Student.Laptop()\n",
        "lap2 = Student.Laptop()"
      ],
      "execution_count": 0,
      "outputs": [
        {
          "output_type": "stream",
          "text": [
            "Mohd faizy 17-MEL-010\n",
            "Lenovo Core-i5 8GB\n",
            "Azeemuddien 17-MBA-010\n",
            "Lenovo Core-i5 8GB\n"
          ],
          "name": "stdout"
        }
      ]
    },
    {
      "cell_type": "markdown",
      "metadata": {
        "id": "XKKlcYqv2EFH",
        "colab_type": "text"
      },
      "source": [
        "# **Inheritance**"
      ]
    },
    {
      "cell_type": "markdown",
      "metadata": {
        "id": "isAASahJ3dW4",
        "colab_type": "text"
      },
      "source": [
        "![image.png](data:image/png;base64,iVBORw0KGgoAAAANSUhEUgAAAQsAAAEzCAYAAAAmfCaSAAAgAElEQVR4nOy9d3wdxb3/ze++nue5N8nNzf3lppEADjX0EnoNsSEQCBcTQgglQIAE01wAg20wxWDABowL7nKRm2y5d8u9N8myrF4sWVY/OnXb2Trzfv7Yc1SMbCyQEQbN6/Wxjs/O7s5OeZ/vzHxn9hS6QlfoCl3hOMIpnZ2Aky7ITlJX6AqdHL67sOisRt8Fmq5wkobvDiw6u8GejOqM0NnPfDLm2dcUvr2w6OxK06UuSb5V4dsBi86uEF3q0hfpWxBOflh0diXoUpe+jE7CcPLCorMLu0td6iidJOGkhIVl2l3q0rdS3+Rw0sFC1/Qudek7oW9aOGlgoalal7r0ndU3IZwUsOjsgupSl75p6ozwjYZFZxdIl7p0MulEh28kLDo707vUpZNZJyp842DR2RndpS59W9TR4RsFi87O3C516dumjgzfCFh0doZ2qUvfVnVk6HRYdHZmdqlL32Z1ZOhUWHR2RnapS992dWToNFhUH67uUjtVVVnF4eNUZ6e1S98cdVT42mGhKmqXvqSUqHLcUmOdn94ufQnFTow6InytsOhsX/uTXe0xPzs7rV365umrhq8FFp3db/u2qD2/JJ2d1i598/RVwwmFRWdnzrdNXbDo0pFS2hn/q4QTBovOzsRvo9rV91W1NqVoXfo2ST2ZYdHZDapLvpQjFNN8RXSNsNGlk10R3deXqRtfNnQoLDq7gXTJl6FoWFFfdqS1kt936eSWGdOIx/yyPqlg0dmNo0utpWoaYVUhGteJmnEicaNZZpdOdoUNjYihEdXb3w3pNFh0dqPoUtuKahphz6Es1siBQBX76yvJaThMTsNhcuu7dDIrP1BNYbCW8mgjVWqEmOoPZh/P1GmnwKJrBL6DpRznTIeiHjWuojb/yjRqCnMr9jFk03w+3rOSsXmbGJe7ifEJTTzQpZNZn+1bx6i9axizaxXVVTWomg+LuHpi/S3aDYsvrMxHaRBH0u141R4InSjvt3al4Rh5cKLSG1NUwppKTPMHM8eHCui/OIWdwUoEfGu2ov9OBwkIwAXX8agJBpi8cC6DDqwkasUx9DiO4v/VDV+G3lpfFRjtgkUsqrQpJaqgxFp8bul2rDT/IrZsKErsONyXY8rxxWuK3z6X6BOiZBpixxf/aHnaHkViCkFVIawoRKIxXstfxdKybMJC4HoSXIlwBV5C0mkWrkR60q+IXfpmygMhQCY+I8CVksOhRp7dMpuaaAhN07GjOrqqo2q+dLVZmuJbsEpMRfmS7t/HDYuG+sAXKtDQ2EqNDY0EA8EmhRpDhBpDBANBGhPHjzznu6bjyddjqb4+QG0gQFVjgKr6ekrLDvLsjjTKjDCKY4PdXMFaVr4mdfYLdrp0XBKAkIArmwBvCY++uxeQf+ggdXX1RKrrqa+rp67eV31ds+pq66irraO2upba6lq+TDgqLA7k5LZbuQfyWin5fc7+nCYdyDmQiPv5+N9FfZl8bqUDuWTn5pKZd4D9+XmUlpXxzy0zqYuEkKYHcYknEtZDS0gkwfENaAhdOraSHwXggA8MR2LbHr13zmPHgWzy8vIp3Z9Pfl4+eQnlH6G8A3lN+jKhTVgkTZb2SteMVtJUHU3Vj/AuTMbVPxe/bemJ/tbxxz0+Ge2I23xOq/vpzTI0g7hmYKh6U1qOb3Rabxrk/DJSFY2Y6jvoKIaObsR5Zmcah7UIjifAkThSIhIVLPnL1GVZnGQSICV4CQlXYjseL2UtoiRQi6briEiiXum+jjYbklR7w+dg8WVH9NtsDIlR2mSj6OxVdydCyYIxNB1D1ROwaOc1vuJsiqJqhDWVsKIQjsZ4PnMBNXEVR/oWRUtYyC5YnJxKWIEiUXRSgOV6PL9jLsWNtWhGHCJx4nrzIOexBji/zCBnK1h81bX4n6vI2pEQabYAOqKRfGuktHPdRzK/Y75iikpIVQgpMUKxGM9lLqDeUPGE3wVpCQvhdcHiZJYk8dnzYfHcjjQKg7WoRhzCcUzt6JZxx8LiBEwvJhPW0uz/NsDCUFpLVZvXYbTnOl8pvxNSY75VEYr5sOiVtYC6FrDwhA+JpLpg8S2QAMvzeHZHGnmhWmJGHEInMSyS1kQSFHHDJG6YTWMQTf31k0QtM9pUdOyYjhPVsKMaiq4RjRtE40ZTf7ELFt9hceLvYYnjh0XSoj+y/rUnNMGiIx2XkonSNaMJEHHD7NB++tepZBer2UryHWC8mIEIa7gR30+/KtzIoWA9kWjMH/g8weMVutK8kCiqNgOjCxadL+EliHECZ5zaB4uvPsh5CnTsGo+WidI1g8aGRupr62mobyDY6PtahEMR9FgMQ1HQFQVN/WIpWrM0VUHVWn+nasd3HTOmEG+6p79yz4z6y7c1tXV3Qlc0DFX3Z3CanlGnprqWhsM1KDVBaNSxIwahuM7CLesYOH446zLWoSsacfUoo9ItRquPlZeGoqEnPrfVvdFbdIO+EBZCIls69nQWLJAde70jHZi+Sro6OG1SyMTfE5OXXwYWX6UrckqHACJRYeOqiqmqqKZBEIcxNbu5Z9skrlr6PpdOH0D3BR/wTvZydosARixCXIlixaK4kSiaGkXRfLmRKBEjSkxv/i6m+4oYUeJKFFVrPh4x/PPdiH+9ltciGIVgDII+VLywghtRMBLAcCIKblghYCrEYwqqqhDRfZmqiqUbBIwYS61D9M1fyh2bxnHV1IHcvOB9HtkwmY9LNxJu1GjwLD7dtJBfpv6LsWvmEzBVbEVF01VERIWwCiH/b1xVUQyVaFxFUxUihkKDpVBnKcSOgF4SijFdabU/hRvxIRdPLFU+FiyE54OiIxpVXRl8+GoxL90DfR+I0vd+k773Qd+e0PdeeP5/w3wyMIoSBIQHuC3ul/AUOFqj90j8E0tI9R0LpIXnacQ1D9eBcKOBa0kcy8N1HYRwkNIFKkAqIBP3xPI/e/jOadJIXLceXD9pOIl7Y7c4z0moZdolTYSVEqQNBJACPAc8x0PVq/EMSc5WeO8Fg9TxezCNREvrZFh0xLjFKfDVN9JNThv6sFCo18OkH9hKj3lDuSH1De5Z/DFPLB7N7VMG88dRr/HepnmYsQimEiGekKpFUHRfcSVCvRUhGI8Q1SMoWoSoESFiRAjF/TjJ/8d0/7uoEUFTI2iaHz8pMxbBikZxIjEULYYIxXDDMQwlhhWL4YViuKEYdZZ/PKrHCBsxIoaCpSrEDZ39DRX8bdlorp38Gr9PH8pj6SP46/yPuWPC6zw8azjFhZVUO3E+2ryAX8x8is/WpNNgKjiKgmIoWIqCE1Pwov5fXVeIGf4xXY2hJu4b02KoagxN9f/qyc9ajJiuNO92pTbvZ3AkLILRKL2y5reCRZvu3F+yguZsh5svmsT53yvj/t8v5P5bl3L/rSu5/5YN3H/TTv7yu/W82XsXDTVWwkfZ8yEh7UQDc9r+tU1wxW/VUUBBStNvidJGSgfpQbjW5a3+aWQsrkeIOJ5QEVL348pGEHH/vh7+BaXnX9dzkcJCirgPlOT9mmBh+ukT+JBLpjuZTiGRQiROskDGQaqJZxK4tsDQVLYshr/+fg+n/z+r6PvPqRiqRAjxjYFFW/paYZFUXFWJazHK1XoGLkuh29S+vJ+7iu3xakrVBpZHixmbt44F4TzsaBgrFsZQw0SMMIoeJtZCFSJMrRMmHPePReJhQmaYgOWr0QwTNP1zk98FLD9+tMV1gmaYqB5psjZEYxQvFMVQo8hwFBqjuMEo1U6UgBml0YwSjEeJWgqeoRNWwwxfPYvzJ/blL8s+ZULDHrLDh8g0a5lbvpuUgztpDOhUexYfbJrHqTMfZ0zGXBqsGG4sRjQeQzFiaHoMU42h6/7/o3H/O0ONYipR7KifHkOJoibSGlei6KpvKcV05XPdJEP5PCwCoRDPZKY3wUIkf7U7qIJW5sJVvx7L786sIVxnEG7QCQc0wvU6oWqTUJVJrMHxG0jSWpAuoAIa4Pm/xm6iBiauK10QNkAciCKljueClGqSIjgWlGa63H7VZKYOc/Cow5W1SBlEJCwK6YlmqwEJUjZdV3gC4bbIDy8BCw/A8CGQ5EGiiyY9f/xBuD63/BNiILXEeQpg43mSpen7uPYXOfz63/bzi1NKeelfs4hrHQ+JlrDotX3O1wuLgvyCz6kwv5DCgiKKCoooLiz+QhUWFFJcUEBR/gFW79vKP6d+yNkzXuGTrQvIqiykurCIvPwccgoPsDs3k+0lWWSU7Gb4xjQeXT2G2dnryDmYS17Bflbu3cA/537MB6tT2ViylwMF2UzZtIgBc0Yyau9Sxm2cz3NLx/DwshEM3D6b9UW7KawsoiI/l6LcbNZmb2VB7mb6b53B35ePpPfKCQzbtoCM0kzKigo4kL+fTxdMo9+qyUwv3srInUt4Zu1k3tgwk2WFu8jKyaIwM5PsvGwWZG/mlvQh3DJjMJ/tWU5WZQE1eQUcKiygoKyQnVVFHCyoYtuhEt5YPZ1uqU/wzuxx5BblUrJtF2sL9zA6fx2v70rnyZXj+Nuaz3hlYyoTc9eRVZRD9vbt5BTlsix7K6/snsv9y0bwwOrRPLNrJmv2bWN/XjZ5+7KYkbWB5zfP4sFlY/lbxkQ+Wr+ArVl7yM/JI2+/7/K9PzeX4oMHeWrXHOrjR8Cig4BRmgVXnDGW7udU45rg2jauq+GKAK6r4bk2ngPCBSEkruvguRag48laoBrhgmPJVlaFFBqCgA+NhFnveXF/oFDGE40Zti51uPLXn5L6keOPw0iQ0sX1YiDBcVRsO4xES1gwJp5sxDYFtq3ieioQx/NcHCeC69UDGkrYw3MkruMhpOqDA9u/BiE8T8e1wDQVBGU4bjnCBuF5mFHJnEkHuf6MDdx/axpDX4xw7g+28ewjqcRjnLCxIUt49Noxh+0VheQVFlGbVUhRXiGF+YUUtFKiXecVkJ+b/zm1CxYtV6c1KWkx6McpTUfXNHQ1Rp0WYtqWZVw37mVunjGYXntmM71hH3u0aqqVIJHGADV6gAPRQ7y7bgZXprzMnMwMAnojMS3MkgNbuHHkizybPoId4VLKtDqG71nEPSmvc/vMwfxpdH96Tn2THuP7c/mkfvRK+5idwRIMI0Z5rJpR+5dz54RXuWHSS/xr4hDumTCQqz7rw/vb5lMerqEgUsWriybw28/68Fj6J9w3ZiCPzxrG2Ix5HFTqiaoR9GCERi3CpF0rOHN2f/otHk+RXk9YC9OohgirIYJamHo9gtEYp0BpZOimeZw94x+M3phOtRJAr6xiUf5W7pr5Fn9MeZ0nJ7zD3dPf4ndj+vHI3OGsq9xPNBRgd30x/1w4kvNnvMwtM17nlukDuWJSP4anTSArUE5G5T6uXvIeNw/vyz1T3+XGSa/T8+OBLNqQQSQUQdd0oppGRFUJxWI8m7XghMGiJBMuP2003c+pwY2Da7m4joVrOriWl2jkDp5nIkQcTY2xZ50k9UPB+Hcspn1kU1JUjmN7Tb/y0gNb8yg94LBgLIwZCFM+tNm5xkWPgPB0TENnzXyFNx73OO8Ha3jqdosRr0gmDDtEUbZE1yPMGy9YOjNMuNpLjJf4q2wL8ov5bEiYDauL0RUbsFmV6jJ/aiOxBpO6Mo/F42HCe2H2bNSxLRfP9fAcQUUezPjIZcZwwYxhsGWljhpVsOIqwgLPldRWmjzz+HB6P7aGsgKTdfPh9B8uodeDC31YnCDLwpaCF/fMJ7u+kupAALMmQiwcJRaJEk0oFokRi8ZQYv5SC1XRPtfW2wWLstKyz+lg2UEOlpVTXlZOxcGKY6usgorScirKyqgoKaaovIg1+7bxz/RPuWxcX84b9wLXTR/IqxtSmb9vI+VV5RQeKmTrof30ThvBuWN6MWF9OiVVJTQEqpm7by2XjnyOB6e/w7qGPPZVFdJ/43RuGvcSv09/h8HrU5lWsY1hmYu5ZfG73DKqDx9vmktRRSHLcjdz79TXuTnlFZ7bPZ1FBVsZlruCa6e+yr2TBrMieytbqvN5as5HXDD6ef46/V0Gr5rG9PxNbCzYS2F1GSVlRdTlF1FWe4jhGXP40aRnGLxwIrvKcykoyefAwQJyywrIKyskr7SIw7mHORCq472NaXRLeZQPVk2npLqEqqx9LM7ZxKOLPuatvfNZVLqDt7MXcvv017ly5HNMyFxBRVUpMzNXc9e0N7hi8Zv0z1vI0LLV/GtLCrM2LGJPqIyxWxfyq9kv8UDq+3xcvJHhFVt5a80clm/dSEV5BQeLSykuK6OkvJyKw4d5bGsqtXrshMCiKBMuO20Et51bg2eBZ3t4roNngmeDcD08T8N149QcDjH6o/ncdsU0bvz1Jq46fTlXnbaQnnf2ZfO6AkRivCCuCxbNKuOB26dzfbcMrj19LRf9MpWbzp/E4pkHMVSNYDDE3++dzoU/2smv/m0lN55ewDXdNnD9BcNYPreKxkAN3c/fxr03z6amCJ9AeEghWLViC5f+z2LeeGkusbCLEBZvPm1w+2/T2bpM8tzf1nL+f67krB+NZ9S7edimh6lJdmys5d5bZnL5z9O5+Zw1XN9tJTdfNJJRw5ajRyXS8Zlk6lBepFB3UOJakh1r4LwfrqTXg0vQox2X923BovfeBew8XEJhSQmB/SWUFZVSVlJKaUsVl1JSVEJRQREF+YUUFrRWu2ARCoY7SEEiwQChUICGSIC6SICFlVn02zCd3y59l7NSX6LHtMG8uXE2Sm0t+eFDvLlqKpdM7suc3asJhOqIButZkbeNc6b24ZHlI9milBGrruL1XWncNPU1nsqcQV1DFbHGehprK3k6cyYXpr7MwJ1zKAtUMLVgHd2nvsaflw1nWvlmtlRms6hhH0+vGsuNKf1ZXLiNLKOGfy0exbVTBzAtK4OqUAOBoK/GYAONjQ1E6hoIRkKM2JDOL2b2Y+jCFErDtdSFG4gGGwlGGglHQkTCYZR6hYO6xojdy7hgxlN8tHE2VZFa9KoqQo3V5MUq2NVYyLLibbyzeSa3zH+TM6e9yJDMdA6rtWxoyOeRhcO4PuUl3lg1mSWl2zkQKCEYqqUmdJgd+bu4ffFQ7pryNu9uX8Sykn1k1lVQE2ok0BgkHAjREAzSEAxSHwzy1M45TbBI1i0h6RBwFO2Dy84Ywm3nVidmwxS0xECsFrMxdBVPVhLXHD58tZTz/yuNAU+UkLO7hpLsMOsWNPCHi3K56/opVOT6bbqmIs6LD2XT7/4Qm1fUciCzitXp1dx1+Q7uuDCbvKxGPM+l6lCAIf+0OPc/pzPy9QjlZVXUVDYQC+uEgnV0P93m3pvWUFMs8cdIfOtix5ZiLvuBwpv9thILSoSIM+gRk0v/O5Oneqg81r2UlPcrmfh+OVnrTcBlx2qb7pfM5Z5Ly1gyp5CS3Eayd1cy6Ok8Lv/FdOaOi+BYAscS2JaLbdq4tovreOzMEJz3w+X0enABejQxX32CYNE3axG5oRpqGhvRDwcJN4YIB0OEWigc8ttnOKlQhHAoQjTsWx+RSOT4YXHM0J5NOpBNBdTyqcy4RunhMl7ZNpvfzhzI2UsGs7++hALCvLB4DOePf4Gl+zcTNw2E5bCvsoDTxj3Do6tGs8etw/FsXs9M5/oJL/Hy/nRwTNA0HMvkrYLl/PqTJxm4cw41rsK0rJVcP+5Frpral2vHvUD3z/py5/hXuH10X343sg/rCndRTowXVo7n4jEvsqBkJ3biUZMpTgYHj/n7NnLdrDcYuGwyFfFGTNsAwyRCHE1aOK4NKlR7DiOyVnBG2lOM3pBG0ImCrlGi1jFg2wzunTyIBycM4rFZ7/G79Dc547OnGb1rEXgmUaGzuWIfLy4bw50jetP94+d5cOlHzA1mUSMjeI7K1pydPDV/FHenvMPN4wfx7JZZ5Ch1OH6nHSklrpQYlsVTu+ZQo0ZOCCwO7odLfzmBS7/n8PTdh3j6jhBP32b5ujPI28/XEg3FKdoX4ZYL5/HQLSUEGsKJjPUAg1VzD3PRj1eR+qHEsS0iSj71dbXEVXBsC8cLoUQijBm2gfN/WMSyObW4joPjxBkxwOH8/zuBtJFOq2nNULCB7qc53HvT2gQs4k2Jbg0LgZAx3nrc4tT/M5t7r9lNaUEYWxTjimqQEGqweO3vOmf/361sXVkLSKQUSCk5VNLIH84v5e+3lxKNRnFsB8dycJ1E18UV7MgQnPfDxQlYyBNqWby0fymHHQ3dFWBIpPDrwueU8PmgRR1o8rtpWemPEU5p1UqOpi+ARKK+IpEIBCYOhYFKKrQApnTxkHjSY7F1kBsXvsvP0l9hV1U+FRi8uiaF81P6MDF7NQFXxfZcMir2cdrYf/HEyjHkuUHirsHg3fO4/rO+9Mmag+7FMR0d1TMYtH8hl3zyDO/vSCfmxplckMGt0/rztw2jmFGzg/W1OayqymJNbQ4Z9bmE4lEOC4VnV43j6pRXmVewDR0XV7o4tJB0EUgK6yt4YOoQbhrfnznVmRwScQzPIYZDQMSpEQbEoc6zGb1nBefM78XIrXOpd8N4psLIrXO5ZnJfem+fyvaGfHZqFTyzdxpnT3iGUZmLEJhERJRqouywKllTl80nu9K5JeVlHpr5DllqOVFHoUqolBhBVlTl8fKmOVww5TX6r55BrhVGOgJb+DJdl16Z86nRoq1g0QTCr1hBS7Ph0l+N4tqfqLz09Ar6PLGel57YRb8ndtHvH+v5+O2tRENRFqZWc+GPF/Hw9R4zR5nMHe8xd6LGvJQGPn0zk/P+O50P+iq4bhhNr0Ni48TBiEhiDQ6xWocZY2q48N+rmZdSjWt7eJ7OpKE2l/58EjM/dkE6SGEjPJtwqDFhWaykpkTi+1NYgNsmLF7/e5xzfjSTxZP8WQ5BFZZTg5SSkvwgd1yWzcU/KmLkG3WkpwRJnxImbWKIGZ/G+d/LD3HrpcuprfE3kUn6sSQ9ZL9OWPTJWkSFFUO1HIg5eJbrjxsdIeEJWrZ1KUB6/rS6FO2BxdFCe2BB0q4Q1MUjfDg/hcFzxrKj7AANegjH0BiVv5Yr57zBTxe/Rk74MIfQeW9nOuek9Ob5lePIt+oojFQyeNlkTvvsXzy1YgzFbhDdM3hr1zyuG/Uif10xgqyaQmrjQbbm7+bu1De57uPnSDu4HVPGWRzN5+6FQ7h91kBmF6yjUW8g6MXICZZSGCjHs+LUSpVnjoRFAhI2LlZC0nOJGjHGbF7IuZP6cN/8YcwJ5lDrKlRZEZYc2MaQFTM4XFRNWHik7Mvg7Ln/5KNtc6iw6lDVBl5e8RkXz+rHkEMrCTiNZFTs4uFVn3DGqCcYsW8h4FLYUMyktbPZGsyjTkbZrR+k59L36TGmN6vq97G1MovROxbQeLiaGj1CeqCAC1d+wJ8Xj2KLDEHClcAWAtNxeHp3GjVa5ITAojgLLv3Vx/Q4O4itgaX638djvkzNRUqLCcPK6fYfq7n1l4KHbw7x0E1BHvpdJY/2yOOxu1fz8K0lzPzUxJGV6LoCAnZty+ejtzbz4B8ncPtVY7jyjHGc/+/1pE9pwHMEnogxcajFRT/9jNThDv4MiYGUJuFQkO5nWNx707IELEKADtjs2FLM5T9QW8HijcfiXPCTqexdje+KIetwRRApBUUHQtx+SQ4Xfe8QD/2uhIe75/Dobbk83D2Xh29p4IkeGu/1jhCLxhLTwKKVO30SFs89tOjEwkJ49N67gMqkZaGJZlf+tu55ZLtu69gxQofAoime6xdfpt7AYyvGccHU/nRPfZue8z/i7mUjuCF1ML+b+gZvF2cQFjaNeMxs2MeZSwdz5pS+/HHRMP68+GPuWDKM/5nYiydWjqXcDRN3Td7eNZ8rR/fhkrRB9Ex5i0dnD+Ou0a9yUcpLDNiWxn6nEWwLw9YZU7iG26YO4Jop/blt/lDuWDqMK6b3p//qKWiGTr0w6L18AlenDGBewQ50BEIKLFpLCoEQkpLaSv61OZXLxvbj+rR3+NPKkfx1/ifcOnEQt815j/yyQ+hSsipvF9fN6scdqa8zq2wzMSzeyUznnMnPc13aIB6Z/wF3TB/EhQsG8oPJT/JO3hICxJhTsZ3fpw7kgnmvct/SYfxv+rtcObkvrywcw95oGQt2ruSWya9ybfoQumeM4uqlH3LR5FcZsWMFtY4Bwu9iuFJiuCcWFkWZSVg04pgJ34ikg5ML0hNIKZgxsp5Lfj6eCUMkWsxKrK8JoxsBXMfFcUNYdgDHjlNVpjLon8X87tfF3HFBIc/9dQd9H93KX25ZzQX/UcL86ZUgPTwRImWow4U/ns60oS5JWEACFqdbLSyLKEmPqyZY9N1FrNFDyAhvPKFzwU/Hs3e1P83rjzl4SA/ys6J0v7iS7t0MDh0M4DgWjm1jmQ6WDp5rJTxGQQrZ1P2QR8Di+YcXn1BYWMLjhd3pVDpq+2DxJUMzLDroAaQEVwqCqsLabVt4bf5knpg2nF5TP2H80nnsLSsiYhpIx2+gjaZKetYm+k/7lMFTRzNv5zoONFbyeuoYxiyZTY0ZxXJthuxYyK2j+tNv51wWrV/FsClj+XjWJObvXEe9EyeKiyo9pOOhmToFh8v4dEkqz018n9enjWLutjVU1VQhNAPVNpm1dhn/mjWKlaX7ieFnbtLJNymZsJosKahVo2zKz2bYrBR6Tx/J83M/Y+S6ReyvKEV3PCwpqQk1Mn3JXF4YPYS1+7dheiaHw7WMWz+fPuPfZ8CUT5i8ZQlpuZvoPelD0rLWY0mboB0jp/4g7y2bxnNThzEgbQxzd6ymTKunURpUW2G2lO/nrWXT6TPtE96eN5lNB/YSUWMI4eEiwBM4UqAKi6d3z6ZGi+B6ouNhsTcJi3qsuJ3wobCa6lDTr+vW/VzRbRL9/gKmCp5swLZjmIbAMUG6grhuY1kqk99XuOJXExkx0CBYL1C1OmxDYe60PVz4/X0sSD0M0kPIAKnDHM78/jjSRzu4XgRFbQQ8wo0Qpo8AACAASURBVOEgd51rc9cNywhWioRPh4V0JYXZBjf8vJ43e+8l1uAhZCgBi7HsXeOXsyeiCGEgHKgsi/L324u55Mfbyd6WHLNwMIwwRjyIlHrimX0z3nUcXMdGSgsIsXu9xpn/NYsXHp2PocaQUkfKOM0boiYby1cri3bD4ljqDFi0lBCCKmFSKBTKhYaOhy39RU04/s+h4wkirkmDMAg4GlHPRHctAq5OwFSJOXFsx+HtnQu5ceTLDMpZjuFYBJQoDUoE1bWIS5GQBFsgXIHjuQRslUNWhGo9jCJt/56WP38etnQKvCgNWBiJgZ6EG07zyoDE1KODDw3NtamNRiiLRymWKvXCxvY8LCGxpcQFFNOgwgwTdQ1cz0Z4LgEMqtwodZ5Kg9RpEBqV8RD1roblWljCwZA2Na7CQTfCQTNITJjoOOg4qFhEhUGdtKiwowREHAsXT3gIKZpgYUsPRVo81QIWLce1OgQWe+DSU8fT46wgtqUjRJwmWCSu77kQqA/xtzs3c8mPd7J2QQA7ruJaBoZqUlcKezaHCNV5GJrOi3+p5ppu89iS7k+/mvEoVaU6b/bZzkXfK2Lh9EYQLoI6FoxzuOgnk0kf5RJXbOKqwDYFQlg83cPg6rPS2LpMooQjRBpV6islYz/M5rz/r4i3emehBDyEDPLGEwYX/HQCmRnJjImB1JGuQIlajHpD44KfzmfwC/kEah0s3cW1HSIBnf27VCqKDITngjQRno1tmVhGHMsMsWm5xoU/WsqLjy5BC1u4topt6fgerHZzZnbBorVcx21erpu8T1tdGdNFWK7/sJZMuAr7D+44Dq/vXsxVY17hlbwVCE80bw/Xcrn1EZvRSkcktpLzf2ExJcQFwvT8huQJpCuadpAykJj4Db+lHNmcHukIsP21B67t4rgupudD0AE8KTERuJ4HjgeWgyUFXrJEpMRzndallDBhpOv5/QnP3/tdJo5LJKJpjYVAeB6O9LBpFq6HJT2iWDy5ZzbVJwoWO+DSny2kx69VbCeIkBqJbWSbguf4/fgV0yyuObWAq3+xlU+HrmDujPXMmD6Lv1yXw1VnjWDbKhspYNLbBuf8aB6PdS9jybz9TBu3jSfvW8SfLq3g4v8IsWiqnfC1PsyqOTbn/2w0912TS8onRQzsM4vtG8pxPY1pQ+Nc+JMl/PHSXXz0xh4mjdhD78dWcN9Nq7jo+/UMfnE/asDDk43+mMVPU9i3LpkxiYVr+A5lxVkWvf6yg0v+ay8vPJ7O3Cl5LJ13gFeezuC60zN454VqDF0D6hGeRl1NPRtXVpGxLI+Rbx3k3O+t5IFbV7JodiGbMvIoyq8EAkha+H+ftLDogIp0XAlq+f+EmZ90x5eSxM7FzceTsBiZuYY/fDqAD3LWEDfMzy+OOhIYCZ/+lqZ40z2TfXx8zpskgODI1pvaHqnEdZMrOT1X4Dpu0/s3muIgmxq2FImXPojETR3RLDfxDMn/e8kMEa0lpX8sCSrLB4SBh4HATDyUiUcIi8cyTxwsivfBjRd9xP03bcO2FYSwmgs3EUe4/l/PjbNu7Vr+cU8Gvz11Db89dQW/PXUx/+i5kGULdqEpGq44THWFyUv/2MR1Z6zh8p+v50/XLeKTwdns2x7mT1dnsHhWrZ/HaMQaBSPfKubK09Zx7Wkb6Pm7yWxZXYvtNqKELEYMzqfHRWu47BcZ3HzuMgb12s32dbU8/MfFjHhvI6biWy8fvFxD9yuHk78nmXADf7rVAQc8R1JR1siQVzZxy7mruepX67nyZzv4w2WLGTZ4HYX7Q4nuiIYwXbasUrjx/Llc/JNNXPw/mVz84xIu/p8sLv7JCq48YyYTP92BY4nW62W6YHF0tWzLTTCQzR8FCV8AL5Gfic/SFWTVHSJlw3I2Vxbixe3WmXGklZK8iSt9R7424krhl1eSTZ7EX5HsNTMjyQ1P0irxycVFnidxXc+ftkxYIK6kCRSfh4UA9wiJBAiETDxwAjRHAsNrcY7j4YmEpMCVPkgc4aF6rccsOhQWAkzNozgvQuE+F8cxEUk3zJbXThaedHAclXBDlNIcKM4xKc4NEar1geLYcTzXwDEhEoDCfZCzy6OmQqJFXGwzTvGBOJGAxI1LhOsvN1eCHmV5UJoD4XpwDb/wXMdEj7oUZIfJ2w2leQbBeg0zHiNvX4zDhwJIz1/9WndQkrs3hBoGvwaY+N0pf5Ur2HiuSTTcSFmeSX6WSd5em8piQVzDt2yFh/BcpCPRolC03yJvL+Ttgbzd+J8zNQqyIwTrTX+K1RM0r2r9auXx3YJFsm20ro8gEs/bopEqnk29HkPx3OYxoiPTfTQr48iMS8ZzadotWSRg4Qnf2kiqaVFiG1ZL0nIxpcBCYiMTix1Fax3Z6FtKHiWz2oJFq/OajwnpWxye52G4Fs/smk2NemIsCyk8hPD3efBc14fhkbAQiTzAAyw8AvjMNBAEcC3wXN8/Aje5HwRNIPYv5+H/0vtBOImZFwFNS98TW04gwbYtPM/AdqIgdaSTrCD+rIm/+Y+TuKbp/xKIZJzkIK1N0xJ0TEBHEkA0Tfn4DVy2TKfnb4YsXdlkUbVufIlFcC3zpalL+dXK4lsNi6MBIvn/o8Zvq7Efz32OI16rdIj2XdsfRW9jv4hjwaLl922WVovvjgTG57onLeQIXOGhexb/OqGwSGzNJ3zroM1doFrmQ2JJenLznaTzUut44FsiCXPvc7X9iLiJ9tYq6yS+lZM435/abKuQk5mQnO/1gdZqw5sWZeFbhsfKExcpXaRwE/tdtHHPo6k9cdtQ58KiRfq79AUSx9CRsDia2iytFt8d53XE1wiLo/rYtBXnWHn1uXjJ520DFkfGTRotn7t38twj9gz8XMOQtIZFSxO0ZTgWLJLXdpvVquw6IK+/QF2wONn0ZWFxzFJKVrhvICyOfOZjHW9XZU1+aKPveNzXOLL/eZTzm+7zVWDR8jpH3K89af4K6oLFt0Ff8w2/dlh87nmP+H8XLL6Wou+CxbdBX/MNu2CRvEZ7YNEyoUez9CSt9uH8orL+mutZFyy+DWpP5A647tcKi7a/PCJ8iWfriLw8GiyOfYNjl0d7G93XqFawcGQnwOKIvOvSl1B7InfAdTsHFl80cNHOZ+uIvPxSsDgBaf6a1AWLb4PaE7kDrts5sGjDZfbIhvp152UXLLpgcdKpPZE74LqdCovkdGXT9GEXLL4udcGiM3Q8vgMt61Jb57Q8tz03b1eBtn2g02HR5JiUeDNY0uegI8oGSfNWbC0HPY8sKME3AhZt+Zh0RD60oZMbFm0lsKkBnbhM65DCTda1Y3XBJa32spQeCNd39211Lv72gg4e8nN7ln2FynmUA18/LFpkmvQQwmmlDoeFkC08Qv09JZsW2DWl5yhdofbqK6RVColIrvdJ1hG3rbgdkzffDFjQzhsly+pI57uWDfDLPMAJlgDfbdj13baxpf8MbVkYyWUDyWOWhLgAQ4Ke+GzLhEuzoFALsCRSTESN4oljVNx2FWjbB75eWFggtaYXCUmRfA7bty6+aKqxPc+WuFZyLUZSriVwDXAtEvyQfGk4fJnyaPWfxEI6T+J5cTzZiOdquBbYlodjeUf44CXXnrSz7NvQyQkLCa4nKDIj7HQCbHUDbPAaWE0D260Gcu0wmvB8q1V+hUrbluX5Zc+VNL+20gLb3+KrzcyW0LyeQYIpJXXSpNhT2YtCHiq1Xhw18WLdUqWBNzJm8vtpb7EoeyuG8DCTK56ONJ+PVXjHrKTN+jphoUVh9LAM+j0g6H2foHdPSe+e0Pte6H0PPH9PlFefKKfhEEinHddu60spWm2EKxIGgxqRxKPg77HZ8n2EHaDjjioBJ7GQzUYKl+oimPQ2vNvLz4/U96FiP8TDIpFWi6bVplh8VQvj5IWFlMwt38cd09/lrhlDuXvKELqnvMU9U97libSRDN+ymJJgHYZwj7rQ8qjll/jbssE2pfGL0p3INH9j1cQuxy2POeBYHtm1h8g+VEbUjDctCmw6F5C2wBWgeQ7b6soYvmEhz6d9xoPTPuRv0z5k+Jp0tlYVo1gWta5J3zXTuGBcXxYV7vJXpYq2Wg6ff57k87b1LEc0pM5w99YjcNet73LqKTu4+8Z07uu+hD/3WMqfb93C/b/P4c89tvLk/YspLw74y7GPu7K2VfAJWAgXIRwc28NzPT4YvIyJw6rwbfymTRA7RscVTeBTwgQRR9pxsnbU80CPZVxz1jjuu2kl9920luvPSuOeG1ayfIaH4yT2y2j1hvfjvV/bOmlh4UjJyEO7+en0l7ly+TAe3jGD+7ZN5c7147hx0TCuTRvCpxuXUGXEmh4m+Ytx1JWLtAZEcsOZVt0c6UMAaPVuBOlJPMdLdAtI3OeI9ycAeJKYqtFv2iienTCMEiWI67Th4qs5KI7D7opi/jrtQ64a0Ze7Zn3Ak+un8adlo7hpWF/6LZxIUayBKs+h16bpnDHtJdIKd2BJD9dJbKd25MO29ewtyqB1etvO/K8TFmYUenafTrdTDPKywhwui1NVrlNV6FBTKKgv9agrd4hEK5HCPv5K22bDTcIijpA6niuwNIc/95jKoMedRFYmlpy3WYm+hI4rrcmuhAo0cqjQ5PqLhnDN6bvIWBilLMekPN9kTVojN5y+j9vO38PBkipAB+kkrvEdhoUnJUvydnPF6Jfpt2o6pVoI1bEIezYZB3O5O20Yt018k+2BikQ98DDjcXRNQ1VixA09MRgoQUocBKqho8SieK6LY9tomoZlmkjhJV6c4mHGDVRVRdc03Bbb1QnhoWsqsWjEf3GNbaOpCkosimnGcYWHBURdh7JYkD/P/oie6Z+wXa2hoT6AElObMlxIUIXHVq2GXiuncP2EgYzZsZIDDVXIuEeZFWN5URZbqkswXZca1+a5DdM5Y0o/0vN3YFseUrNwEw3AjBsosRhKLIZl2s1Lm2WygXjEDaMpX1z3yF9O0HUNXdeIGwYS6cPCO/GwsDToecdQup1yiKC6DcdtwLXAjYNnQdKAcu02Nh5qq4IeDyykhpAxpBBEGmx+f/k4Bv3dRWIBYZCJsjpao+9oWEho3pkJZn0Cp/6/m5jw0R5s03+FoWm4mKbO60+G6Pafs1iYesDfVSy5j0Xi3O8kLISQrDiwk9+M78eLGVNptDWk7eDZDof0MP+79FOuGf8qaw7n4ag6c0IHeKlwKfevHsPds97lyQ0prK06QNjRkIaBIh0+3byAhxZ/wlKtmEHZC3hy6Ug+2T4f29Gpw2BxxS7eWTudx+YN55kVY3i/cAV71WriwkazdVJ2r+Kvi0Ywvn4Pww+s4sn5n/L35WN4bftcNmtVhKXHwuJMHp8yjPOnD+Dy9CF0n/cBf0n7mI1leTgJq8cFop7D2IodXJryKs9lTCWgKViu5+996TnEpYcp/Z02q12LZ9dP4/QkLGwPV7eo1SJMrs/iH2sn8+clI7l/xWjeOrCStdEyVOmAZlHhmcw6tJuXMqby4OwPeWLJaF7dMZfC4GHicYM6EWd0wUYeWTWORzMm8NS6KUwo3kqdEkEXDrpn8fC+2VSdoG31LBV63j6abqcYRKK1eK6F8PxNkv1FV34fTggTQ/Vffly4029QE96BmR9B7jZ/cBIJ0sPfRMeWBKth5UyXTwcKxr8D25eAEgSkgeOobFoW5eM+Hhf91wHuu0gwcnCYYa+VsmGpgXAFS6dafDokl+oSvy22rMxTh8Ki1Br/PSdAwS6bUUN3EqqCWD0sngjj3hKsSpW4cbANP211B2H7csnEoSYpQ2HzImis89/YTmJwN3tnlPEfZ1JeUofjhnAdDduQRGPVjBlkc8a/L2TM0H2+xYqHvxtXe8B0lLJoBQvRibBoZ8USQrIqZydnTurL02snU6TWE3YMGk2FzZV59Eh7jztnDGFX6BDVxaU8OHcYV896ne6LP+APae/y2+mv8eKMjzkQKAcpiEibV9dM4bezB/BUxjhuT3+bu+e9w4jsJRhCY0bBenpOfYM7R/fjnplv8ofUQVwzvjevrJ1KnRkmYikMXT+HX497nltmvckfUl7n3hlDuGHWG1wzsT8vb51No2Mxv3gvD09+nzNTX+PMqf25ZeEwei4eyZaKQh8Wnt8jDjlxXtmWxlmT+vL+/pU4rkjsUJ4Y4GiSpMo1eGbtFH6Z0seHheNhagZrMrfzu4kDuXH6YG6dP5QrZw/mvHF96LN2KocdBVSDJfW5PDBzKNeO7cef0t7jT3Pe44ZRfViyLQNLeqwszeK2Ge9w5ew36b54GNdOGcQfxg5kS9ZudM8m7lr8LfsEwkKBnrePo9spDuFQOPHaPhfPbeFjIT2EiKMGPdKnHeTG30zlql/N46ozF3HVL1dwy4WzSE/NJ655OLaJZcZZtaiCnj3G85uffsAVZ6Vz4a9mc+b3JzFy6Aa0mE5ci/Nar7Vcd2oJZ/5bIRd+L8p1Z0/j6rPGMGZoHrYd59XHGrjkl++zbxOtJkfC4SC3ndtAz+6TCNWAEB7pE2Oc99P+ZK6Dd17aw29+OIezvz+D5+47hGsK8KC0MMpDf5zHhT/7hCvPmMY1Zy3gkp9N4tXnZ1GWH/GHTPAHXh3DH/tyZT2uG8MxJYYeYvBTcX79g2XMSylItKnkqHoHlEWnLyRrGdoJi3X7dvLLqX24eeF7vLxpBi9tmcmLG6fzl/ThXD9lAMM2zqXKiuJFY8zM20DG4Wzyw9UUBMp5fu1EHvikP2nZ6xFWnKA0eTkjhctmD+CRFSNIq9/LJrWUg06AbOUg968czrkLXmFsyXq2RYtYGTxAn9XjuXzuINYeziboKny4ZgZnp/XnviXDmVO7l/2Rw4ys2cpN0wdx5dzBNIaDVMcVVpTncMXMwfSY9yHzY+XkqxEs29/yTbh+77RGj/L0inFcOnsgI4rW4wgBpol07dbybB8WGSmcOql3Myx0g73VJUzKXseGwEH2RwPMCeRzztwB3DxtIGu1UoQb57O8NXQf+zKPrh/HukgR28MlzNuTQU1RMY2ewYidS7lwSn9e3LeQNWoVS+vzmF6xm/qaGvAExC3+sffEbdhrKdDztvF0O8X0YeGaeJ6O5+kJM9vfkFA4sGRKnCt+voh/3Z/BgX1lFOcEydsepvf9RVz884lsXWZhu7XEDZW3+hzgidurWL2gnMqSMLvXhXjij3u45Gez2ZJRjfSgvlJhwyyX3/znOl64yyU/q5GDBQEaqkNoRjXP9qzh0tM/Yv9mWsFCVaL0OLeeu27+DCUgEcImfVKM8/97Ii/2DPLgjWWMeKOYz94rJn1SANtWqTno8fCfpnHDaQdZlHqQvL0NlBTU8elrVVz8wx30f7QGQ/HHH1wLDAVs08MVjbiugmsLyosb6X7hXq4/fR/F+xPve5WJrf26YOHD4orUAdw1biB/GPsat33Wn0fShjMhcw0xLeqPS8RNopbCtmgpaQd3MDxzMbcsHcp1E1/mrayFOI6BIkxeWZPCBXMHML1wI3Gpg/TfPjW/MZPrpr/ErRs/ZEHVTjbXZbNSzWfQweWcnz6AafszqJYx3lmXys9m9WbogWUoWGA7bBO13DXrHc5LH0RtXS2O8CgK1HD5rDd5cO4I9puh5rdrJfLdAOpMhaeWj+XcKf34tHA9rusiNQ3pWp9TW7AQahzXcSgxI+wIljMrZzODtqdzxpz+XD37deaYhbhYbKjNpefEQVywegh9Mucwu3Ef2XYQKT3itsmC7K38ftwA7lw0nLcObWRuvJwKRwPdxk3swfm/+bM5rJ/AbsgfPqXbKfDIzSGeuFXjqd9bPHGzzd9/X8fzD2ZzuLyecL3On2/ax29/ksfBkjr8wUD//SLFOfXc0G0jfR4MoCoxXAsC1S6OBkJG0I1KLCvE5nV5dPs/tYx4sxhTFYBGzhabi382kTf/4WK5ZXjU4dGAJyP0vj/CZaeN58Dm5MPGgDi6rviwuOkzQjUSKV3SJ0c54/uzuewH1ZTkhfBEDRAANExTYfw7Jmd/byETRq3BiYNjxXHcEHHDpd+DClednUZZYZW/72Zim3jhgkc9QigYmslbT1Xx6+99RsqHKraeSFNbPjzfRVis2b+TbpP78NCqMaw7nMe2mkJ2NR4kV68jIE3/hTi2hR4K88HeRTyV8i4vTPuQN9LGcPuq4Vw55RX675+P7RiowuSVjBTOnzeA5QXbsTwDpL+x6rKGfdw45WUunv0yj095i16jBvHU1CHclfo6d8x+mwU5mwigM3hDKr9K7c1H2cuwhAWOw05Ry59nDOHqmYM41FhLXHoUNNZw/rw3uT99BFl2CERiI22a930Ouwav713AOSl9GbB1DraqJiyLz8Oi1o3Ta81kTpvYDIu4ZrCrooAXV0zmmbRRPJc2mmfnjebqJe9yzeT+zFXzEJZBWBisPpRFr1XjuH1UP26f+BpPrBnLlrpCPE9Sr8eYX7SLlxZN5K+pH/BQ2se8kpFKScVBLOFhuhYP7p9N1YmCRVM3ROX5R7bS9/FtvPzkVvo+kUnvx9YyqM8iqqsqKdrXyM3nbeDO3wRJm9jIwumVLJweYOFUjZmf1XPVr3bS88a9RJWDOLaD66h4TghNMVEbTBrKHbauVDnrlHI+HJiHrUvAIWeLzSU/n+TDwqnH8zQ8z8DzLPr+Jcplv5rYAhZhQEfXYnQ/J8BdN40jVA1SChZNidLteyMZ+qz/6kJcDTwDIWxiYYOn7mzkvO/nM/zVauaMizFnfJQ5E8LMmxDn2bs1Ljk1ldzsYlwbv+eV/OvFiTaafPpODhf+zzyGDsgkcJjPu4PQjmnlbyMsVhzYydkT+/DMygnErDh4zTu6utLF9SyEa7Fl3VouGP8CgzamkkMQFcFrtWu5atZAeh+Yh20baAlY/GbeADL2bcGyNBA2SIs1DTncMull/rhhBAtjuRwQdWxzK1lOOWu9SqpFBBWHQRtn0G1ab0ZmLkN6FrgOe7xa/jb9XW6dMojySD0GgvxwHWcteJN7F4xgjxtC0rzXc/K9Irp0GV25jXMm9+GphSOJ1dUhPQ/p+s/kuSaeYyJciwbXotfKSXSb0Jt5+TuwXY+6YCMDZn7GjdPeYHwwm81E2S1C3L1uNNePfYn5kVxENEZYDRL2VA6aAVabZfTNSeeymf15ZfUULNPFMUxiXpzDrsaKSCkDt83jpqlvMG7hLAJGDMuxePwEvjfEikHPHpPpdkoAIwSu7s+AuIZvdViajRAaO1Y3cMkvlvLH34R4uMduHvvjTh69PZtHe5Tx2J1ZPHd3nBGvKGhWHrZl4LiN1AWySBmbwfMPbeJPN8zjunOmcO6/FTHklSyE6VfJnC02l/wihTef8LAsBc+ReIl3EPV7IMqlv5zQAhZBQENRInQ/p5G7bppAqNo/Nnt0jG4/eIuJ7yVesOzIxPtCBFrI4r4bQ/zm3xUe79HAP+6s4B93VPGPO+p5rMdhHr1F4/n7yzlYVN3sWZ5w5LQNGDU0m27/MYkXH8gn3HCUttTRsyEnEyxcKZlQvpNuKX14evUEwlYc3BbbPwsXIWxc22TyhHFckPoyo/YsZUfkEGuqc7ljzcdcNeklBmbOQxoGwjN5faXfDVlQsIW4pYNjg21THKviicWfcnlqf97cnc72wwfIDxxic3Emmw///+ydZ3hUVcKA1VWx97Wuu2tby2KnrIqooK697n67ytpQUDrSLVhAd22AhU7oHaQjvUgNhBYgBBJIQvpMJpPpc8sp7/fjzkyGHpWg7s7J8z6ZmVvm3nPveee0e85WPCKIW4fpsWwMF45rz2dbZmPjyCJdlvLk+N5cNfVtSt3laKUp9LhpNPEj6g/qztCCDFaVFuAOBaoH5waUVuywKug4fSC3Du/K87O/YmzJBjZUFDCpZAtdNk6l7YrRbA+58Qib1nOHctXA9ry17Tt8wQDZvjLuH9eLBhPeZ0ruejILcpi4ZhG3juzO3QM7M8WzhbAIMW3vej5dPpGVeVvZWbaHwTnLuGtEd+5e9AWZKszQ3av5MHshcyvzyHKVMGPjCq5P68K/xw/BFQ1gW7U7I5kjizT+cFyISNSDsKuH6wecvixas2lDFnV/P4QXG4cJVWnCIR+RQJSoD4xoBNP2YgsfUpoEKm369cyl8ZUZPPinAl56aCXt/7GB1k9v45rjy+nVZQvKdBJA5iqLGy8eynsvSUzDRlKJ1JVIGaXjc6Vcf8mHZK4EiPeVkfgDZTS52nWALH5/6r8Z9AFAIDFBjBQmkSp48f4ot55fxuaMbAx7B4a1F8PwYkRDmHYJtihHyigIsG0/plVJ0B+mX7cybr9sLl2eL2D3Do/T6zQe78mPrRyFFpFfliziJ1lDWYzJXcttX3eg46zBeM2Ik7NIdIN0zsCMhFixbDE3TOrBTcM68pexb3Hb8M5cO64rtw3swDsZU7BidRbd56dx84QezM1ag2FFHFlETcIiwozsNbQY8xkN+rTlprTO3DHxfeoO6UiP0X3IC3lwx3IW16S15+uM2UhlghRss8v514jeNBz9NjvK92ILjT8UpeOsNK79tBV3jXyPRmM/ZFR2OuFYO79Th6EISoMNBVm0mT2Q+oM6cfeod7l7bE/qDXiThl+2543ZA8guz6dEWfROn0Hdvm14aEhP1u/aRmG4kp7T07h6cEeajHiPpl93p/HnHag/qSf107qQFtlKvgzwSeZs7h7UmbojOvHYt/+m8ai3uXNYV75cOoWsiJsvlkzlscE9eWDSxzw+qjcPfNOdewZ0Z+qy+fjNCLZVi5MMxWTxdNPh/OG48EFlEZ+hoKjAxQO3ruTOizwU77KxIhrLMBEiGOuDEduhhhXTg1x/fhqtnqxkb14RVf58IpFKsrcXcPVxBr26ZlbLYrnNjRdN4L0XJGZEI5VTDNFS0/l5D9eeP5BNi4glSAO0TZUnRJOriw8qi8EfQkIWFqiIRlg2PZrv5aoz/QxfkgAAIABJREFUvmXu2AKqH3yKTxUQfx9F6wjCtLBCkgEf7eCSOl/Qo9VyfN5IrCdu/MEocOptkuY6pToO/qdkIbVmUUkWbWYOZMCa2QRsA71Pr5zqJ4LCQR+f5S+h9cLBvDr7az7aNocB5WvosWgEo3cswzbCRJTJoNUz+Nfcr1idtxVDRFG2CYaJLQ08doS1ZTl8umYary4YzGsLBtN1zUTWF+/AJXxUqBBjNi3klen9mL71e4QdASXIFx7+PW8Ur83qT3ZFEZZQCFuzxlNIt7Xf8vyUL2mzaDTLSnIwpEo8vGRKiakEYW2yLlBIv+0LaT9/GM1nf0PHecP4esdiVpjFBEQYjzJZUpHDu0sn8O6M4WTvziEsBevL82i/YQqt5w3jnSXjGZO1kqEFq2k/vT/LQgW4zSAbjGImFK+nbfoYWi8YRPdVY+lf8D3lkQB+NFnRCoZsWUznhaPpOnMY78wZybiCDHxmBEtJLNukRS3Kwg46srjiuMhBZREPRtjgnRYu/njK94z5Kp9Kl8YIWYT8Idx7NRvXuCktEEhLM/bLKq44ZTCjeoNlGBjRSirKgkwZtZ0/HufmvU7pSANQmm2rLG6+dAwdnjAIV0IkaGJGTLRS9HvLzVVnDiLtYwsZAWyLQIVkxcJy6l+UzyN3pVFZrAGbb4cE+ONp/2Fob0iWBQZIFWTJFJtbLppKy8d34yrS2FGJbZpE/CbZGzVb14eRIoLWJqFKQdqXWdx06WRa/30r2eugssymyq2pcil8FQphgCaAU8Dd78Gj/yVZaA1SQ6WKstuooMj0EsVGItDJOQslUFogtU3IDuKzQhSHXARkFNMOU+Fz4Q1UQMQEaeMKuskM7KXCDmAoA1sYYBpgmWBaaMPCG/WxJ+ImP+SmOODGMAJo4WxvmmEqqsoxjRBamaAFIR2mOFpBftSHTwmnL4VwHiTL0lE2hsopFGFMy0LbzjKlwYPCUNLJLUmJT0UoCLvJjTrfW2j5qNAR5zFt6cxF6okGCPp86LBEW2Cj2aaCbDMr2CtDCMNAh8L4ysuwjSD4ImAYGMIgT/nYGSgmx3BRTASkxkQTQeEWYcpCXtxBLxWhKrwyCpZEKoVRyzOSOd29h3PNcdZhZYGCnPWa/2u8lWvPmkSXtl8xYuAihvRbziuPL+TqCzsyuv8ulA0rZwa54YKJPFOvkKEDxzN5ZCYt/m8qf2+0ietPKaDT6zNjD2wJPIU2jW8dR90z0+n3wUbe7jCZyaPXIkSUtQuquO2KidxxeTpff7yC+VMqeKf19zxx57fceZGPB+sNp7JYEomWM22on8tO7sXX70BCFrHMg2QvZlWEfm/5uPq0Mh66qxdf/mcu0yetoleXxdx5xWyeumcWVVU+lFSM/Go3l536GVfXyea1ZxfQ/OkpNHt0NM2eGECzR8fwwhNjGT1wM0J6kTKEUxv606/Fr1IW1WhQGqUUNrEHnBL70aCU07VZa2zlPKkXrxiQ2sYWBko7NUUWijASHwIThaUltrDQlgW2xFSKMIr4dH5SKcx4lk9LtBIoaTszmcen2NOS+LPVtmUB1b38la6etC6Krn6QTMU66sUnLk6aStCZMV2CKbGFjdBJ54PTZT0+qbGWCoVGKomtBEJLkBKEwJKCADbYAjs2G7sFENFoK97py4nbxJynyRMsW85/qRSmtGidPqHWZBGsgBeemki9c02i0SqkMA956ygdJWv7Vjq8sIhGV35H/d+t4u7Lc/n7XwfRp/csinINpK0JBSw+67mSu68bz63n5fLArRPo0Wo+u7aEef6eXXz6/jy0VkhhYlkWI77M5p6rv+fmi8fxSINpjB2YhVQFVFWGmTJ8N4/+ZQq3/HYzja6ewytPfcvGNcW8/WoR/3jka7ylEq2jLP82yI0X92dcHyAm43jpQmoPtqwgEqli2Jdruf+6Ndzy23QaX57LX29eyFtt5vD9vHyUAJ/b4F8PbaD+RZtodHEZd1yyjesvWMOt523j9vN2cfu5bm49L583m+VhGxCfpe1oNJ/+ymXhoLVG6tggJTp5P9V3rkYnEhZotJZoFPGciEIjcKQj0SgdewhMaRAapZzviI9Go7WOTV2Z3JvSSdxaxod5q+5lGT8uTWysEpXYVbwXb9L5UL0g/p06vm319+vEiE7aWRZfKUkW8YfZqtd19hGf6z3+p9DODRyvBFBJD8JJfdBZ3rXSWELwRvqkWpOFtCBvV4DMlRIpTCduD7m+8+MQqID8HZC1QbFrE7hKBHaUuNdBQ9gHe3YItqXD7h0mYR9oG/KyFKVFIef6SomwBUZQk5cF2zdEKchRRPwSdNTpQBeGwlzJjgzYk6XxloMWULJHsju7EmkptLYIeRVbM/xUFIFT2Ujix0ErK4ZAGFCWB1kZsHMj7M2BYFWsYU6BFVXkbrfJ3ghZ62HHBmdi5G3pMdbAtnRNUa5CWDJ+M/3k6xCXRZv0qey1QoQFzrgqhxqP5Zcqi3ga2edADli+/wcqkVCSP49/UuOhyuKp+2DPeev9DrCW2T9x7v/+gOM+ws4SE63H68z2Q2tnXJFW66bUWp3FvjfXsYnHo4vmgGbL/d+r/f4fLg5+yHfH93eU4i0ui4KELPiZZfFDIyRFrfGLkkX8BvsFxMv/KilZpDgkiet6mOXHVBYpflZSskhxSBLX9WDLY1UxtlK0Tsnif4KULFIcksR1PdjymCwspWizbgqlKVn815OSRYpDkriuB1suY82/KVn8z5CSRYpDkriuB1suYsNZaEW79CmUBquQSqdk8V/MUZNFDUPNZMHPHzEpkq7twZbHZBFRkrZrJ1MeDhwgikNum+JXidMpaxp50cAvKGfBzx8xKZKu68GW22BLhaEVHdZ/izsarO5HxhG2TfGrxFSSdusdWYSETskiRTWJ63qw5bFZ1QTw1vZ57Kkod2SxX1Hk5z6HFEcPQwrarptGibTwmXZKFilqiAQhnd6uY7PXMnz1AvbKCH6tEbHu91I5j4Yng3KEUhuH9LPHyS+IHxRvhwkaZ7BAF4KFuzN5J2MOIVtiCeUM75k8kf0Pmfq1BqHmsogfaYpfJrEenArIjwT4z6IpDN2whG3hCirNCF4jQpURoSp6IJXRUO0QCeFNQWUkREX0yHiMMB4zgs+I4jOiBEzDwXDwGwZey2BLtIJJO9LpPmUo0315SEsnnm2Kjx97UFKy+N8lcZ2TLrjWTovIGn8xI3as5rPNC+i2YQZdNsyg88YZdNo0gzeT6LhxOm3WT+WN9ElHnVZrU8Rpue7IvL5+Mm+sn0zbdVNou24K7dZPpd36qbTJmEq7jKm0Xz+Vjuum0jtjDv2zV/BdZT5+KdCWM3KCCb8gWSTfmCl+UcSfnHUGcdHoiEZHNcpW2FIhbYWyfkYMibJjExzbykHE3ivtvLYkUX8YpTRBj4/S/CJExMb0RzADEUTEPHCfPwdW0rHbGmU6n9kRExWxqolaqKjtLBexbVQNEIfB1ihLJ8ZawSbx9K6C6kG8UrJIcVDis9Mr0DFZqBjEE2h8XlnxMxBLUH6fn9XLVzJy6HB6vfs+/T79gmGDhrBm9Rr8Pr9zf0lN0Z4Cnn3iaRrf0YgdW7Y5Eywnz3GrOeTDdDUhMRfSYcr3yevsw37rmYbJ5ozNLJ2/iIz09ciohTJsB9NGmQJtK1RsKJSkUQwOSaKC8mDsJwOZPMeVPnD5zysLjvClKY4tCmeknP1uqNj4s0kDusQqyvWxQ0qVkFTurlxefull/vD7P3Daqadx8kknU+fkOtQ5uQ5XX3U1XTt3JT8vHykku3N3U/fPdbnk4ktYuyadaMQ4+D0YH38iVlEb/0zF3x8CKVSCA1oN4sOHSH1YpFBopcnbk0fT+5py1plnccdf7iASjmBbdgJhC6RUifR6OA/E2f8a6/0/S5ZV/OP454qULFIcGU2skmv/X6Ij3J21JQtbSISQpK9bz2231+OEE37Dby+8iCZN7+f5Zv/i9Tfe4IEH/8r5F1zAaaefwUsvv4LL5WZXTi51697IxZdcQvq69YQjUWfwG6UAR0JAbPA1fcC4RM4gSE6whXDWpXq5VBohFVJpDNNEKY0tpNNapJ2igJAqgVT6AGwhMS2bAQMHcc4553Lcccdz+hlnMHbceGzbRkjn3KWUiZ60B+sk92M40j1wyGt92J0eOaRk8d9GTX66jhFaa0qKS3n8sSc44YQTuPWW2xg1chQul5twOEI0GqW8vJwJEyby8EMPMzxtBAF/gNycXG6seyOXXHIJGesziESccT611vh9fjK3bGX5suUsX7ac9eszqHBXJMY1is88oRXk78ln0cJFzJoxi8wtmVR5q7CtankYhkFJUQnLli5jwfyFrF+XQXlZOWj2yUHESbyXGiEkFe4KmtzXlHPOPocb697E6aedTv169dlbsJfEl8TDj+n7cLTvgcNtU4OQkkWKWkNJRdqwNM468yx+d9nlTJ442SmaJP/0a1BKUVlRCTjbJGRx8SVs2rAJI2oipSR9TTrP/fN5/vD7P3LWmWdx1hlncd6559O2TVtyduWCBq0gFAjR54s+/OmaP3HB+b/lpJNO4vLfXc4rL7/CmlVrMKIGtm0zdsxYGtRrwNlnns3ZZ53DRRdexD2N72HpkqXYljhkEQQFlmkxbuw4zj3nXBrUb8B3c76j7p/r8psTTmTs6LEIW1SPGnmsJBHnFyULjtFJp/hVE41Eeb3l65x04kk0e64ZFe4KVKweA82BQQOKfWSRuSUT07CIRCK82eFNLv/d5Tz/z+fp80UfevfqTd0/16VOnTq0ad0WaUss02Lm9Jmcd855XHftdXTt0pWPen/Mc/98jscfe4LMzZlIqdi+bTvXX3s9F154IR07vMnXX33Nq81fpUH9Bsz7bp7TaS1WH5IsCaUUWmvcLjePPvIYJ514Ep07dcY0TDq068BvTvgNzZ5vhqfCs892x1QYKVmk+LXh9Xi57577OO644/js08+QwhlwV0kNxNaLh/h2+8li+7YsbNMGoCB/L5s2bnbexxLAd3Pncfppp1OvXj1cZS6kkLzz1juc+JsTGdB/AJZlobXGMi3y9uQ7gxobFhPHT+T000/nqSefJhQIoZXGNm1KS0qRQiaO5YCilXTqNVZ8v4ILLriAiy68mFUrV6G1ZvnS5Zx/3gVcfvnvyVi/YV9ZHMu4T8kixa8Nb6WX+vXqc9xxxzFs6DBsSyBsWZ2ziN/AJG23nyyys7KRQiYS/I7tO5g7Zy6TJk5i8qTJDBk8hN9e8FuuuvIqCvIKEEIyeNBgzj7rbP58w5/p9GZnZkyf4UhAKmzLxjRM0tek8/vf/54LLriAli1eZ/TI0Wzbug0RqxBNHN8hWlLe6vEWderU4eWXXqGqsgolFX5fgH/+45+cfurptG/bPlGUOeay+DHUIKRkkaLWkEJyf9P7Of20M2jTug3hUNj5dY43C8TL9CRtt78sdmSjlSYUDPHuO+9y8UWXUKdOHU488UROPPFETjrxJE495VSuvOJKsrOy0VqTtzuP15q/xil1TuHkk07m1FNO5Zabb2HwoCEo6TR5RiNR+n8zgHPPPpcTTjiB4487nmuuvoZuXbvh9wX2OZ59chZKs/L7lVx37fWcdurpdO7UhQXzFzB/3nzmz5tP+3btOeuss7nm6mvYmrkNJdTPfh1qRA3Cj5cFv4ATTPGLxogYdO7UhVNPOZXrr7uB9LXpiboANDWSReaWTIQtGDViFOefez5/afgXRgwfkUicUydP5ZKLL+H6a6+ncG8hWmvMqEl5WTnz5s6je7ceNL67MWedeRbnn3c+48aOQwiBbQnC4TBr16ylb59+PPbIY1x44UUcf9zxdO7UhXAwfNCcRTAQpHOnztSpU4c6J9XhnLPP5Zyzz+WsM8/mrDPP5pyzz+HUOqdySp1TeKvHW4SCoX3P75dKDcJPkwU/48ml+MUT/5W/9k/XctKJJ/P0U8+Quyv3gOLHyhUr+eD9D9izew/SlvvIYkfWDkzD4uWXXuH4446n57s9UTJuGNi0cRO/u+xyrvjjFYkmyz278/BWetFKI4TAXe6mXZt2nHnGmbR4tQXhUJhIOEo4HEZLjWXa+Kv8fP3l15xx+hk0uqsRnorKg8piZ/ZOrr/2ek4+qQ633Xobjz3yGE3ubZLggfsfpPHdjTnppJOof3t9iouKE+f5i6YGISWLFLWGFIpwKMyItBFcdOFFnHTSydSvV583O77JmNFjGDJ4CK1bteaaq6/htFNP46PeHxGJRPeRRda2LIQl6Ne3H3Xq1KHRnY1Y8f0KdmbvZN5383n4oUc47rjjuPKKKynIL6DK6+P1Fq/z5BNPMWP6DDLWZbBxw0aefeZZTqlzCm92fBPbsvni8y+4p/E9DE8bzvp168nansV7Pd/j7DPP5rl/PkfAF9i3UjP2ekD/AZx/3vnUu70eW7dsxVflp8LtSRAORViXvp769epz1plnMXTwUKR9uFnbfiHUIKRkkaLW0FKjhMLv8zNl8hSuv/Z6Tjj+BE488UTOOOMMTjvtNH5zwm8456xzeOWlV9ibvxfLssjZlZOQxdbMrSipyNqexe233c7xxx/PHy7/A1dfeTW/Pf+3NKzfkEsvvpSLL7qY3bl7KC4q5tXmr3Haqadx1plncdmll3HxRZdw8skn85eGf2HVylVIoejetTvnnXMe5517Phf+9iKuuvIqzjj9DC679DImTZzs1DXEBCFsGZs6E5rc24RTTzmVrl26EglHUULFWnlkopXHNEx6vtuTU+qcQtMm9+P1eH/2a3FEahBSskhRuyinN6Rt2uTtzuPT/3xKs+ea8fBDD9O0SVNea/4as2bOch4kiyXOgC9Au7btePmlV9iZvRPLshC2IH3tOjq92Zn7mz5Aw/oNef+999myeQvv9XyfVq+3orioBNsSVHl9TJk8hVavt+KhBx+iaZP7ad2qDSu+X0HAH3B6YypFxvoMWr3RmkcefpTGdzemXZt2LF64mKA/WP3ciALbslFSkbcnj/btOtChXQfS16RjmRZSKIQtnGdAhErMmlle5qLlay154/VWZG3P+vmvw5GoQfjpsuAYnlCKXxdJ2XglNcKWGFETf5WfCncF5WUu/FX+ffo16FiLg6/KR9AfTCREB0k0YlDhrsDj8RCNRJFC4qvyEw6FnQ5fSjuVl6EwwUCIkuISykvLCQVDiToMI2rGmmOdXICvykdlZSXhUDhxLDqpM1U8ZxEKhAiHIkTCEaSQSV3BZeJ9coezaCRKJBJB2OLnvxZHogYhJYsUtUeiuZF9ukvrg/XgjG2jpXae1rREInsf78yVyOqrA7c1oybhYBgRqx+IV4LGE/8+3590XEd8xkUn/dc4xRGqP9//+ZH9hfGzX4OaUoNwdGRBLZ5Eil8vNU2MSevHE188Ucf/79/tep+EfATiz2gkiyJ52cHWPags4kEfuP7+HPMu3j+VGoSULFLUHj9EFjVZ91C/+rWJTvofDz/ke3/ua1BTahBSskiRIkWNQkoWKVKkqFFIySJFihQ1CilZpEiRokYhJYsUKVLUKKRkkSJFihqFlCxSpEhRo5CSRYoUKWoUUrJIkSJFjUJKFilSpKhROHqy4CgeeIoUKY4tNQgpWaRIkaJGISWLFClS1CikZJEiRYoahZQsUqRIUaOQkkWKFClqFFKy+G8Ffl2Dr6SoPWoyEE8NQkoW/60AptK4kWy0fMwLFTEtlOcQrGZ6KJ+ZoXxmhQpS/AqZcRCWePLICJSRa4XxaoUhAPPI98uRQkoW/8X4lc3yynz6rJjF58tnMHjjYoZtWMLQjGqGbVzK8A1LGbFxWYpfIWmbDmTy5pWMWDmfwesWsrg8l0plo02VkkWKg6MlFIf9fLpyJqN2rCZXGRSjKENQjJWgFJsybMoRKX6FlB2EIhWlQEeZmreZ9xdPIstTAlZKFikOgVfZTNy6mg92LSbHCBBCI+Dgg8rKFL9aDnE9pYIg0DdzMXO2rXd8cKT75gghJYv/UnJVkI+WTOGTkrWEAVuD0tSuLJRyvuTnTCg15ZgcnzpI/KgDP6+FONAKbGCMexvDNy+nECMlixQHZ6cI8O6C8Xzl3YqlQWrQmsPPcfGT0KBlLDEAykp6DSiRxE/8rnhCEdSsxae2pws42LEpQItqgSr2jfRaPg4d89HEql2kbVpGgY6mZJHi4ORg0G3eWPp6t+1zEyl9ID/puxIvJM5vWWyqPvyg7aT1wkAEqMFNeyRiiVJbOGlP1/AQjzYH+zAhCnCaIEQsbuJxlGS3Q+3nh8bFIVAapgbyGLZhOfkyUoPzOXxIyeK/lLgs+tSyLLSK3/z7y2IP6OCBN/V+6eXHfSdOJkaCIoAihEIfMt0cbDdHJZ4T551M/CDBEWQZ4Ip9bgJWLJ5i6+jkfaikz2vIISQRZ0oon6EblpEvUrJIcQiOlSykkAwfPpwuzbx0bb6Drs230/WVHLq+kknXF8vo+i8/XZtnUpATAmmA9qJ/ojDixSmnesQiYpgYoUP/yB5sN0clntEcKAsbRwoGSgmkZeIpsRj6cZh/v70Id3EsK4ROOsLalcWwjctTskhxaGpfFhq0M8P422+9Q70LsvnnvRtp+VQmLZ/aSssns2n5qJuWj/hp+fRGivYItIoClTUQhT7sch1DAbaSjB27hD69Nx+QedlXFnqf3RyVeEZzgCy0BUSBAEbUJne7SY/Wc2hwyWqeuncYe3fFzg/NvqJIyeKoc9Dr9Utgv5+xn/sYa1cWGidhgG1p3u7xAbf9djVLZrsxQiaG4cKICIyI7RAWSAukTXX9njjIxUxEmEQ7ZYzEZ1IoZwbzpPhVgG1C13az6PSiO3GatlL7+kiDRqLRCdHEQ2JG9xgq+f2hrl2iTiIWD4mELpEC0CGgiB1bS3n5iQXcccW3/OXSjTzTZDhFu+OCOEwE/5j7LiWLo4PCqWbaJ3L3X0/8xO85Ur73GFNrskicrNN/2Dbh7W7/puGFu1izpBznl9WTFBGADXYYpIyitN9p1hMewIuiwlknvroNShtIaSFMEMqNUgaRcBBLlDtpKbZbpTXhSmj2+CK6vuBHKIktBFHLRlIJOOvaNigkQqnEOTtnYSEJY8kQUjkztAsbpI71jdY4jTcKtJZoTDQep3ihBEKHUAqidgXoKvyVGssKEgmFKMoP8vSdK7nrxg8Y/uV2Xn1qNg/cPoTCHBsn56H3i9Mkfux9l5LFoeO0xtsn3SCHba/+MWXpwwmiJoXnWqL2ZeHc8I4sPqXBhdtYs8SFUyERYZ+iRKJCUqCkoHAnzBkfZvRXLsYP9LJxVZSg18mpaGkgpA/bMnCVGCydGWJsfxeDPytg8Qw3ET9Oi6SEjevLGda3iL/WX8T/3V3KoL75DO63i1lTyrFVhHXfw6ihGeTnRQhbAQzLRiqQCuZOMpg0OpMqr4UQgqI8yei0tezZGSYSlCyaLhj1VZDJwxwhaKXQSuIujvD9d5LxQ1x880kmcya7qSi1AQPTjCKlRTggmDRuHi8+MZU1S4upKhW89swcHrgtjcIcy4mfQ2VDfyg1reD8RbWG1OKNf8C9+hP2g8Cpg4ojqM5VJLdyHS5Ck9/bGvbPUquk/zXIdf76ZCFxavo1tgFvd/2CBhdtYs2SChI9v5K2UbaziZKwbs1WHmo4lAaXLeaOyzbS8JIMGlzzKQP7LCQSjuL0OwyyIWMj/3iqK38+dwpNr8ug8ZWrufuaebzfbSzlRQIt4T8fLuKOayfS4I+Luf2STBpesZjb/ziJ1s22YAoY+DHcV78f69Z4sEQUUwiEAqGg3T9c/OPhcbgKQSvIWA533fw2Iwfu4JvP1nL772by57NX8dx9exDx3IWEN1vM57bLx3Pn1fNp9Kf5NK47lubPDaW4QKKxEQZEAiBNjQxqUCGqKr20eHYuD9w2kqIcKxZ3+7Wc/FiOIItvwwUMyVjKXvVL6pR1LBIBTtYzqehas+1ildQaQICtNAEl8FkmQmq0HSumxG7qmuxTKo1QCktKLKWQsSxu/AKGtcRlG1RKgZI4vaKOYe7iWMvivqtyWDUvTNivCYckkZCFEVLYYYUtK8GCDUsl91yzkFbPbGD9ynwCVRZ7corp/14J9986nKnDKlDKQlqaKaN20uFfK1k+fzelhV5cJRE+7ZZN3TNXMTnNhcKDZUH+dnjojil0fMFFMAxh0yAqAphsYuDHmqYNB5Gx2odUClNoLKGwlEnbJ2yeaTKRqgpQeMlYrmhyy3haPVXK35ssIu2rTXw7LpPlC/OIGhJPqaLFc+P5681rGTNiMcUlJRSV5LJ0Thl/u3c5bzxdTmWlH6EqsGUFUlchBShl4veaP58sInsZtG4xRdr6H5GFqcFWSFsSVhY+bOyDrRirZdZoVOy/jn+uqv/vriylx7xRfLJsKmWhqtimKl44rd5XMknfo5QEwNCKCm3hx0YIG2wBhkTbNmv2ZtNuVF8+WTKZiGWA3r8+/tDHf8Br9jumw20fayY4JrLQxGTRh4bnmjx6+1peeHArLzQp5cX7vLz+RDH/enAl6auyQcM7rTN44PrN5O4sxraiCBFBK5NAVZSWz6bz4n0W0YgiKguIGpVEgiAFSB1CKB9ZWyq4+fwVvN95NVKFUdqgYJfmr3el0bGZG0uArSwEBqZtMbA3NG0wnA2r/UilMW2NKRSmitD2GR/PPDAMvxc0ATKWae69cTRP37GVHVsrkLbz3ZYJwobvv7O5+ZLxfPPvLZgRjcYCLKTQpPX1Uv+PU1i3NgthGwgRQaoAUgiUsvF7RZIs4nUW8uikjSPIYrpRyID0RRQnd5D7b5aFbUl2hz3M27WB3rNG0mXiN/RbMoVZOespiVahtYQ4KGQMHScughjbXAU8M6IXzSf1Ja+qzDl+JbG0RCrpFGrVgWjtKKhSWawuy2F4+nzenpnGO9OHMSp9AasLd+APBVG2xfy8zdx4bue1AAAgAElEQVT7WQdenzGAoOWU4RXxpoAkkq+y3u918nfjXH2lNXZcgkqD1CiddI5SgdDk6NqWRSRJFv2460IvXV7ewXttdvBeq2Lee8PDh+3zebtVOtlb9yIj8PemU3nspr3MmbqLZfP3sHjuLhbO3sl303bzxv9t4KGbsykqcSMoROJGKzCj4PVGcJWHydxg8Ne6hXR9YyW2MFBYFORoHrxrKB2auRFKYWsLienIohc0rT8mJgtispCYKkrbp4I8c/+omCxCZCzV3HPjCHq19Tm3s9ZorRESbFMztG8h9S6fx7+7ZzF32i4WzdvBgu8yWLagkAEf7eWGCwcz89u1SbIIIqWNUhZ+r50ki9jgElr9sHj/AbKI/zZWy2LhL0wWBznoo4KGvMoSXls4iFuHvsnVg9tw44hO3Dj5LS7s/yrdpg3AtqOgLNAWGokdQ8e0kZCJEKAF68tyaDykO8/M+IJsf4kTu8LGi01E2BAVzroyCVsipU3YjjAoezl3jO/JzWlduG1EN64b1YW6Y7pz34QPWLgzAylNphRv4tpv2vD0om/w2SG0lghi+7IEmMLJiSTa5+OyS3pvSbAdBBqkwtIaP8oRhKnQhsKMv5cKbIdakUXi7hTEu23bBrzd5Wsa/X4Lm9Z6UUKjpERJjZIq9loQrIAn75rOUzdF6dPVS5/uHvr0qKBPdw9fdKviy/ddpH3pwRv24zG2IpSH4tIwn/97Oc3/NZq/PZbGQ40mUe/SQt5ssRlbSCSa/Fx44K5htH/eg61tBBYKC1NVMvBDaHr7ZDasDMRkITGFjSkN2j4meOa+afg9oImSsVTT+MZhDOzlJd7EGnevbcDQPm7qXfY9777u5tOuFXzSrZhP393G5z0q+OItN5/3KGHH1jKkDCNlCKVDKGWjtIG/yqTF3+bwwG2jKcqJVWL91Na3w5D8dh9ZHKpi/5jL4mg9RbcPzhUbkL+K6we14a9Te/HtnjX4wpWszdtMr7H9mLBsOlEVxiKKiUEUmzA2IUy0kyHFwsbCBsvE1CbLPNnUHdOFVyd8RlagCIHEh4mBiY2JwgLbAhFDWYRkmFIiTN+bwT1Du/HgpA/5cOM0NoeK2W5XMGHb9/SZOZKK3FxsGWFySQbXftOKpxd/hc8OoGJHEcEiHMPEQmGj47WtMeE5FSw2Zuy4LWwQEqRwmgBjf1rHRWaDlYQpj7Es+nPX5Zv3kwVJstCEK+AfTZbzfH2J1iZayUQLg9J+LGHhC0JQFREMKWZO9vHoHTt56M7lvNpsNj26zOPjj7+jUd1ldGqzFDMmi4Ld8Ne7R9Dh+UpsothKogHThoE9oemtcx1ZSDClxpQ2pgrR5jGbZ5pMJ+gFjenI4qbBDPy4wvmRidWNKQ22jDD0y53Uu/w71q8qRSsDW1ViSxOhvChtopRCE8tRqBBKR536F2kS8Apa/m02D9w2ksJdSRVox1wW6kDiRe/kzieHCEdRFoe4E38SErTNZ1lzuWl4O5qvHcpmqxSpDaIySJVRSSDiwtABIgTZuHsj784bxrfbluEmiMCiTHgZsmE2XZeNINu1G6EipJdn0XB4Jx6d+TETKjcyZtcy3l47nn7Z81hl5FNG2OltaEfRIorUUYIqyCZZRqv5/Wk4pAPfbJ5Fjq7AkBEiZoiAHcQb9YDPh7KCTCtK54avW/L3Rf3wWz6kjCB0hM2ijElVW/hg63TeXTuesVsXkh0tIUAYoSIEdYhi7WV68Xp6rxjPf5aOZdLO5eSFXGhhYCDZY1UwMn8V/1kxka/WTmd6Xjo5lpuAiqCkAYZFjo7Qbd6YYyaLO3+36SA5C4lSTrndDEKbZgu598osCgv2YttBokYFpijG1uXYOoilLAwibN+ueei+4XR8uYicXVDmCeLx+9lbaHHHdavp3HbVPrJ4+J5RdGzmRVKGIQOA0+Ix8jNocts0VswLYdsaw3YqpJUWvPGwI4twVZIsbhzKwN4etNb7Pk0uJTMnuLjp0tEM/2oLwrIQMogtTKJ2OYYVxrIkUgcR0u/IQplIWyFMibdM0/r/lvPgLZMo3CmRwnA6gyXlnmtfFpaTW94fGWuHjtXDHS4cRVkIkPIHIGqABdJgYO4iGox5k0ajO/H5mvEUhQuJ2D6E5QcZxCRIEB9zN8znnm/a8smSURThw8Zkj11G61n9qDfyTVYUbESoEBll27gzrSM3TezMA8O70vjzltw04HWu/+Y1ms/6gqX+LGwVQFshtB3GJESYIPP8WdyT1olHpn3I1kg+ARVCiyCEA1imD8v0oQN+sALMKFpL3a9b8I+FffCbXoQIUeYpoMPsr7i5Xwv+1L8FDYe0455PXuONkb3YHswjrPwUChdTdi7jiTHv0vDL17n3izf4v8Hd+WDS1wS9ZZQaHj5bPIbGwzpzd5/WPPhlB5p+1orec4eRb5QhdRQMkxwdrmVZGDWUhY1SBiAY3X8P9S6dR59PRuH3+YiEy5GyFDNaxe6CXEo9FYSlxaoVijtu7UvaF34sAVEZojLsYcHCndT7YzqdWq/FtB1ZlBbCo/eOpmOzSmyRj22HMC3nWGePgVv+OJh+H3jxBzRRUxKKSNLX7uHBa708c9/+shjGwN6VThEkln6cZ1Ake7YrHvnLZF77+2JKi0II20ArjW0GcZX72b6tkFC0EiF9MVnYSAvsKIQq4fVnVnDPdZMozFYEAz6neuqY5SwWUKxjNbXC2hdpg4pxhHD0ZCHCIIwfQLDGeEIu3tsygbtGdaDBxE40mfkuPRcNYsmu77EjboT2UaUrGb91LrcMa02v5SPIpxKFQZZdzGvf9eGWMR1Ynb8eiwArPJncMK49V07uQMvv+jJix3y+KFhE/UUfcuPAlvRYkUaF4UKJEFqGMHUAy6xkRlk6dw5qw3MzPibsLcG2qgjiA7MKv/JSiZeIqkLaVUwrXs2N37zGvxb2IRCuQNgh9gb38sHaMby1egSDchfzXdYy7lvQm0ZD2/NJ+ngKcLPU2MVL0/5NvQmd+Wj7NCYUrqF/xlT6b56JpUKkV+zgwVHdeWxaLyZvW8TSrNV8vXYqkzbNwyM8aBkEM1x7stAQ7+6tZLyCs29CFtKOScLG6f0oNVIFUeThKnLTrcVy7r5iPV2br2LcgO2MHbyWHi3X8+jd4xjWrwrL1uzNs/hro0H87a5CBvZdxfD+GXzY/Xu6tMjm4boeOr22DcOUSBSBCmjx3GIeb5DLoK9X8PnHS+j7yXIUIbzl8K/HVnLf1eV82nsRE0an827XGTR/dhX/vCPCM02mEvaDRpOxlKScBYlhKJxTL0OpIN/N2sKDN27hucfGM+CzdUwdsZPPu+fwZKM5vPDoSvbm+VAqhFJRlLJZ/X0m0yas5NvRmfz9ri00unIJw/ttZ/b0xSxbvAbbFMdWFnYU7GA1IggyBDIMKnrEJH4UZVEFsqLmiKojI6tA+9H40ATZXL6ZTvP7ce2E1lw+riUXj25O9w3DCYhywlY5K1bO4oaRb/DBijTycQMRKv17aT/zc24c1470/HQi+Fjh2UyDkW15Ke0t9lTuQoXdSNvLNH8GjQa1ov60buzx5KB0AHQACKB1gEn5S6n31as8O7knUV8xhunBgxdbVOLVHjy6Asv2YMpKvi1ZyU0DXuPFxX0IhMrBDAAhfLqKClVJnl3E3OhW3tk6noZDW/P4yi8wwm5c0kWP6X24cloH3t40hg1GLuWiDJ/0ECXA6opMHhvdg3pTu9G3fAnLdAEh7fQKVLYPbB/SCtaOLPYTh7AgHLTo9X4fGl73AWuXliMtC0UlSgedXIXUCGEgLBUTCUwbv5mnH+zNrde8zp03vcnTD3dhwtjFVHktlIJwEObM2sGTj3bhzlt60fTubrzVbQR5eVX0ei+NN9v2xQxJVKyScN2aPP7xTHf+cktrnn38Hfp/OQdbCGztYefOXbRu2Yv6131Io5s/of2rM8jdWUnaVwU8cn9nQn7n9t2wAh64sxcD+2SgNUhloTCdimNMNAaKEFs3FfP6i8O4+7ae3H7NhzzYqBcf9ZxCRnoRhqGcugpho0xo9vgIrrvoPW687N/c+Lv3qHtJb2649C2uv7QTzz8yiaD/WMliPsU6JooD0pgPlA905RGT+NGThe0GUV5zbHeN0MKNod0IXUEULzliL98G0mm/aSj1x7bhzhGt2FSwliq7mKXrZnHdqJZ8tHwoxbocVIjyUD5tZ33KjePasD5vDVG8rPRsosHI1jw/sju5ldnosAstvMwUW2k05A3umNqFPM9OFD7QPtBVSFHBQk8G9/Z/nX98+z7uYAGGrCQkK5BRNyHbRVC4kFE3lvIwpeR76g5qzotLvyAQLkWYHryRQsbumc870z7n1f6deHVIN/42rSd1+7/M42u/IBQsxC1dLC5J5+XvPuHOr1/lieGd6Lq0P3M9GwhFy/EINxP3LOHZyT15pF8rXhr5Dh+sGcmWyu34bBeYlaionxwdotu80bX61KmwnEtfvNfFzk0Q8YOyJUpFUMKMVXCClCJRsnRyIxpXIeRuMynYqahygbSdFgjTkNims27x3gj5O6G0EKwoRCIKd5lBfo4POwrCdrLOSmrc5Sb5ORblxQppgy0sbBXAssMEfJLC3YqCXRp/hUQKgb8C8nJDRMNgGJpwFeRm2bhLnbK71hKl7VhFp0BpE6FCCDtKsMokb5dJ7nZFcR6E/U4uyqkntFFSgJCU7JbszpTkZipyt0JuJuRuVezcbFGWR+yhNf0j4//QHFIWlg/syn0RXpCVoMqPmMSPoixKao0gZQhZhpblIF1IXUGm2E2bJZ9z04Q3mLpmIuViL4u2zOZPo1/jk2WDKVclIHzsNfbQas5/uGlcKzbuWYWBh1WeDBqMfIO/je3KLk8WhF0gvIw11nHXkJbcM7kTBZ4daLyAF7QXaZWTYezgsUGteSitHesL1xIQpQizDAJlCKMM2yyDYDmCCiaXLuPPQ17hxRVfEIgUETFLmbNpFrcNeJm/je/O4D2z2RzJZnB0FbcOb8mj6z4jENlLOWW4tYdSq4gBgeU8veYzbpjWjiZTu1GYuwErWoZblLDZzGf6nsW8v+Abbh7ThhfTurGlIhNtuiHoJUcFalkWDipWDEY7N78S2imCGLGisNwfjWlYmFGBMJ1qKWe0PZ2o50huSdbx4oxwvseOghFytjPNIEqaaK1BOInetkEIjZAmQpqYdoRAqAqpbISykNpCYzqJKoaSsUav+PFqVY2KfaYkCguh3diqEqECSG0n+vrt219OkXieQFsYRggjamNEBKYRxrJ8mIZFou3ymMnCC7ZnX0QlSA/okiMm8aMoi6Kjji2LiFDEpC1T+M/cPiwpXk65WYAUxazxbuCVGe9y3ciXmJ85A7fK5/usefxh7Cu8MPt9FoQ3stvKZ2T+HB6d2Imbxr9ORt4KDFysqlxHg1EtaTj6DSbnLWK3mUdWMIeXtw6gXv8Xab/wM0L+PaDdaO1G4UaJMiooYdyGSdz3zSs8PqETM0qWYVulWJFCVpauZnDGWJa51gIeJhUs4La05jz5/Ue4rL1U6mL6LRjAVcNeoPf2MWTYu/C5dtI1dwzXpb3E3Svfx2cWstvMY9KGKWzJW40ZKSTP2E2vRV9xxajmTM1byIboTkZtm86O8s0Y0TL2lGzm0cW9ePiL5iwpWUWAcqLSwy6OgSxULBHHihfxejIlNQp/rBiynyycri5IWyCF7fRylNppStUCrS00IXSs+KnIQ+NxijWxnIkUOjaMZRWKKrQOI4VCahOhTKS2ncp+qbCFhdQGUvuR+JAEUERQWCicTnhKK6S2ne2UhZAqUQ+vtEJhOEUSLBQitr8oQkWQOuCcKz4UTlHTaSmKj4glHOtJYmOGatDK6VJzsNRd67JIyrkLd6xawH2MZWEWH3WUVYwtimkz+T0a9mtG0wkdeHzx+/x9dk8afduRS75+hhfmfkheRSYhu5Cy8q3cMLcj141rwYPz36XZ3A95cmR77h7dKiGLKC5WxmRxzfCXaJD2Kn+b/S6PTO/OlSNf4smZbzPdtwptlYJ0gXKhtQukiygu9hq5vLHgE/7w1d9pOPp1/jn7PVpN7smzae1p+sWL9F83GnQFs1zfc93Xz3FV2gtMXTORgC7huxUTaZD2GneOb8NfZ/Xg8YldaDS5A1eNeImGq9/HG85naf4ynu3bgvoTWvPosg95Yn5PGgx6mSfS2rOjaB3fZs6g8ZcvccPkVjw0522emvc+1w99keZje7CucgMRVYppe9ila1kWsb5FCQloP0qoRIKurrOIyUPqhCyUwOm0pP0OMpazsGM5E2WgdMRZB4/zXsb2rcPV+9VO5yetDUcilnawdVLDm0IqgZSOGKSKJ3YbqUXsM4lUyvmvbUcSEqeiFi8KG6UlKtaD1qnLsFBKxZAJqttctWNFHWtSictCVsfdsZNFrILzv1kW2ipB2SVkGDv4ctcUnp3QhbtGtKTxgOY0HdeOfy7+iFmVq4jqUky7BMsoomf5dJpO7Uzj0W14YXpP+m0ZT6eVX/PopM5sLFhNCBfrvBt4alwnXlvdl9Yr+vLE6I40HfYGLyz/hK92TyNL5jv1Ksmy0G5s7SaMi9XWTt7PmcD/zXyXh9Ja8+yXLWg+qit9141kQzATbZexTebSZvHn3D20Bf2n9iEgiyku30qPVf15ZGRbmg5vxb/mfsjHuZN5aubbNFvXl6AoJl/mMXbnTJ6c9x5/Gd+Gxmmv87eJ3Zi4cw7hSAGF5m4+3ziae7/rwZ3j23D/xI68NK83U/PnU6qLiKpSLLuSHO2n27xRzoC9Sb31DtKL/cfflMmyIJCoo3ASctjpY5HonKVixZSYLFTEEYoOVksknjNRFkqZMWEEnUfbk7dLyCLioMyYLEgMslMtC+1IQOrYaycHIrWdJAmFVPFloloWSsVyL07uw/lOYvIQB8Zlcq9IRbUoYt3ynU6G2llZHiJ1H2tZiJgs1DEthpSBVQvYZWCWoiLF+NzZ5O/NIHfPWsrc2wiFC5B2KUqVI0UZKBchs5h87062lGawJ5BNIFpIaSCXne5MyowCfLgoMwvYXrKBvb4sXJHd5Lm3sKskg/KqbKJ2CUI5lbBalqNVOUqVg3JVI1wo5cbryyG/aAP5xRvxendhRYuc4xFlSOUiGM4nvzCDIs82IqoUS5TiC+ymuGwLxaVb8PhzCNkl5JdlUlbpvPZRjk+X4w7uIa8skz2lW3AFdqPMcrDKwSiDSClF/myyK7aytWIjFcFcIrIEQ5VhqjJsUcVuXcVb343gS++26sfwk3qXH2yM2R96Ix6qL52T8GS1IKSMkSQTsR9JdRrxLuLx1pR9cibJORVlxxD7raeT1lNJ/T2qqRbIft1/lPNZcgbhh3DoxxZUDIEzLHlyNuMwkXxUZBEvhlSC7UqgbJcjDNsFsviISfyXLwurDIxyMMtRZhlSuJDagxAutKpACzdaVoPtRqtKlHQDlU5Nr/CAXQGWG0wXOlqGtlxo6UZapWjlQkkXtlGckEMyWrscccQQVolzvqJaKrYqQ+JKrOu0+JTFsngVzusYOv5aukB5UMKF1j5su9w5J+1BSTda+1DSjVJulHAh7VK0XeYUkcwyEK5EHCmRhOWvdVko9t1tMrbWsZGn9k+osjoxH1YWR5ODyELKhBQOxY8RxT6yOCCXERdFEod6UCMli5+CCywX2ipH2uVOApL7SiKOJd3YohwpXCjpxlZuhF0ek4oHZbvQtgtsN8osBbscaRSj7TKUWYIWZShZhpRl+wpDlqNEWUIYSKceIyEM5XLWU64DliXEERdEfJld7kjLcqFiaBHvh1KBtt1o2+0sM8tRZik6FifaLHVEJF1gx/Zll6GtMrThZ88xkMX+u0nJgpQsahRqWxaxRK6OQBQ3QroTsojiCENJN1pVOJ+LWCRZZc4vtBH7pTadX24lHFkkk5yz0LGEnowW1ctr3tekHMz/Z++s4+yqrsUf6q+vr/oejyptqUJxK7RYhQIVoFClbj+KW9DgTtGECE1IQjwkBOLuRgTinsxkMj5z5+qxbev7+2OfOzNJJiE8ItDm5LM+M7n3zrG71/esvfaSBi+p1YNq3FlaX69Pz7Nup+Oj6tvej/YPLHaUdwYszEFYlGFhDhAsxLSZ2Xtf2mCAbgDVhOgmnG7C6cx2IjoHUQuEXsS0gO5Y/N80p/tpE2t2EJ1BTPMuBd0MqhmSZlD+mM5mcLZ5tyKm2X+BKuPPqfyzQ8mlPzPbH7e9qCZImiDOs1ny3Da+3z6EhW/qY9ybgIXVfrlU0/aetdsr904A2TUIRBS43YHC4qz2DlBXDhKTPYSFpLEWtPokWx2cuxLM2xoWfry36ZI1DYhpBNOAuP0JC1v2ru59saYJY325Mm2b0CaDsRmMbcHYXCp5jC0gNr+zmByunViTflYXcGYPRJfYbf6Kbv//YBf7zafHb3tNdA4xuwcaOgsm/8bHVwUvSR7igM1S5Lbx/fetgxOIYrjxxsc4/X/g2E9O5LhPj+aET03npE/N4uRDV3PKf2/ilM+MY93rgotdKyysDf2KiQTbWxYqlXK8hqYtOY1cupTpBQogjlIOmremn3fWg4GtKSSidNUlSpd2NY6mtpWXctCXM+mSbQmn8W0HnAMF7Toa+YumPpViO9NKgAKlkk8zgCL1mzWP32i44Btb+OFR9Vx5USNjBwa+9g0lWldLdneT9yIs2o83/0BLozdtM0jdG+r4XoGF2BbEtvjQ0X0g1mQxJou2qZjcDpDIt4PFzuIVtU3aYFHE6SLO7EZ0MYXFbmS79wPEFJEO91fY7v+i88guc2NyYHP+pym88fFVEVQRSQpIHLJZStw2/oV9CAtvWYQhXHXVQ3z+3Vv5w0VLufnyVdzy9/Xc/vd13PH/qrjjb9XcceViGqosogVrbKqcqSK7aDtLwrbCIrVMjPOwMC5dNg1wLl1yJQfO0fXhmdz6tyVt70uAdZm2pVfJphCwaTh6EWdjnGmX8OZ8VStn47SHqg8U80VqjAdH68M/j08DiFNdtyAa30BJ44xi/uwVfP/4wZx7/FBu/N0abvvrBs4/cSLHHt6Lrne2UCqWaLUk9jksJlEtMWIKiMm3irM+axtbYL/lhogNEBvgM0/3vhhTwphSWoWoLKW00Mj2ggt2ErElxBZbxdn0syZATNB6/rsTbLTnIhG4qOP9uPbvFcHmOxZXBNJr6Oj4O9wj0aU2UTGbJeC28QP2ESw8KhwQBHDVlY/x+Q9MZubkEqW8EIaOOLIksSGJNUkc44xgjLTFZqR1LqxNfM5Iem4mIQ3xFqwxWKtwVvzUJbU4yrUtHVkwlqsum8yfz2vAUY+VBpy0+PBt8ghZHI1ADrTBpVHWjoy3JNLjelAYb1UoECtYo9PGRsoDoWxFIJRrnTqLf58QqMXFwtaNIT8++wHO+Mwals0tpPcgYsOimL9e0MxX3l/NzClL2WU91X0Ci2SnsWhtgNhygafgDfV870xDWier+0ascX7glMUqrI2xNsK6cDspK+P2EiJ2e7EupJwuL3sg2GSPxf9NlEr572M/2sWPRrExYsMO4Yak3caJQaI2ENvI76d8LBPj047bRFSIKOUtiwn7yrLYGRZffN8q5k7XxLFGk8VK5KcO5Sm6gE39EyL16DhpzfXQbhvOFUFcWg+iQKnUjDUGkRijLEkIRhkMm3CSQURhNeS2wcVnvMRfzq8nCixGOVSiMK4eozUmsf74hIhx/vanksQRTiKMbUYrjYp1ygFNVLIUs97S8RZF6nNIQWFMkj7AihitfER3AhAyaUTAl/9zJo/fN4E4FF/RDIAsY/pHfK7TYv5x92SM3l+wKFfK2t4x42zqhLEpEO3u1XzvwGLHtbO9LNsH9rT3bJeVrk2QZGdxSapkXsTFviBLa8jfnkhHXjDLdkV/jAGtyLc0kYRFnI4RkyAmAas9xZ1GbILY7c9px3N2NkLHRawKcDpAVISoCHSCL/mn/fGMBq39a2VRls0Scdv4gfsUFiIQluCaKx7jiPcvZf7MHEmSYKjHSjlkO8C5BBUbrLY4I8wZHfPg1YqrL8lwwy/zjOgTULfJm/xiDDbxn23YCj3vctz2+5AbL2tiYLcWMg0RJvFdyMcP28aVF2Y46X828O3/jfnbhWv5y4WLeKpLLdYoxg2w/PWXQ1i5uITRBqsd1jic1dx3bRWdLx9FqcX7UdYsddx81VCWzStSbHT0uD/PFZeu4anbcmBTThihZr3Q7wnFlT9fzp9/tIpnH1zHljUOHQtax2AtmaaEGRO2sHFNA1aJN4doAkKmvmj4TKdxPHjzNIzaz7DoMIIODwun9xMsoONBuJfEOdkhBt+0mrE7KXX7R0dZWr1mXsQpnGtNd6Qt1njH9bx2sqv6hT7sz/9u/O8NtdUExRxWRVgdY3WMGIWOQ6JSgbBUIA6K6LjkoeF2PG+FmBgVl1BRkSQsYKIAl0S4JEaURlS5TJrdWbSwRWJuGz+QpzIr9gksaAeLa694jCPev4iFs1vQSnkHolNpwlYJKyHWKaLA8fKLi/n6J57jzC/N5scnruU7X1/C0f/7PJ3/No98LZjYERZgxsRKLjn/H5z06WlcfOp6fnj8Yr7xycf5/aX/pK7KWyo9H1vFJadWcPgHFnHKx2MuOGEOF502nTuv2IIzQve74KhPPsjiGVlULBhj04rbCb88cwtnH/8MuXpwzrJqIRxz+E30eqiO2/4+l+M+2Zcvf+IFfnjKNJ9rkkBtRYkff2s4p3x+ID86aRYXnvIa3/zq4/zg9PuZN60hzQ0RrHEY68PdcUISKazbiriE5x/Pc2inUQzssQRn90Db9yos2LWUq43vZntHtALY+W5IenHlCXAq8mYptMNS1i5lF0kVIogxiGm1s1vNVaNjjI59fwwdY21CkgTkss1kMg1kW5ooFrIYEyPlll1l8WmZWBWjosvKyIkAACAASURBVIA4KGKSCKcSnFI4pRCt247XISwUt08YvNdh4cXDAgdREa77+2N85QMLmDm+nkxjSKY5Q6be0NRoqK4tkYubiFwdI4at4Ysf6811v69g+fJmipGmrqmF7vc3cvwRL9D90WZCrTEORg7fTJerN7B48RaaMy1kc0WeemARn3/3Uvo9XUQpSFRIxRrHt7/Rkz//oJkgUAQlQ1DyD5Rn74CvfLwHs8fliSJBuxAjAVY0vzhFcdZxw8jWgZU8S2YJX/7E41x4fA2/vmA0owdWsGh6LcuXVhBFlm2bhQvO6M45X1rFhJGVtDQ4ctmIuVNrOO+4xVx8YjMN9VkcCdYlKKPQ0ti6XJzYLWxZX+Cis2Zx0mFNbNy4Zdc3eK/CojJdDUl2/t478q/uZjtwsHhzH0bw696tTYN2AwvZhZQxuqv3HQaH2eH19I52pGRGUGGCjhQYafcFeCvIOou2GmN91iI4tIlbxdjEW0cdrbmLh5mYBKsiMAbRGmcMthzcUL49O0LMwhb2Lyw+3QmO+fhCjvnYDI75yAKO+dBajvzYTL7+vy8ye/ZGjIM//XYlhx5SZHP9BpqKYWtuVSnK8/MfzeGcIzT5oEQpgiAxOHF48z3AScKKZfUc8f6lXP37hVjrq3hXroXTv/Ecf/xBM1ok7YQgWNF07QJHfLwbs8blCSKHciFKArRofnaq4ozjh5GpByN5Fs8WvvDxe/nWlxaxYWMdTrz9FGtNYgyjXoj52Hun0r3bWLSGMA7RbCa29XR7MMdnPjia2bNfI6ERLYHv4EALiWRRrkimOeT6S0scdVhPRg2sx9j0IbQ/YdGhRbGTqu1yewfAorz7cpCM6xgW0vGdcBiMTVJYSLqn3cBCPDB2uqO7gIVNDE7ZHWjtYRElEdoojDW+CRBuJyDt1qKxqU/CtPlMxLoOvmTZXtz+h8WX3lvJvdduYkC3Ggb1qGFg1zx9n63k+V6r2VxVT10TnPPNlzjyvwrcdftc7r51Fffevp57b1/PPV3m850Tp3Dy55ZRWVODdeJbpjgwOqS5VrFppWXyyxFHfmgzv71wBloZtJUUFs/zxx9kSKzyHceMYCWh651wxMe77jEsPv+x+7n5tzmMgSCOSayiFGqUczx4y1YOP2Qdl//uRR6+ez6P3L2Qh+56lfvvnMxfLlnKpz8wnGFDZhO5GhRZnFhKUQthFJFp0jxyx2sc8dHuPP3wcnQc4bBt39dBWLyBvAlYSLt/rnVKkE4j2lcDF698kip9okKMTWu/7YFVYWzS+sS3oluVepewSIHRalWUYUG5VeH2N0iwrUVWytDYCRBlH4nscG2pf0TSKMTyl+1Ls+38PexvWHz1P+Yxf1oGHVsfAKVBuxhFkZiImjr45tED+N7XLN0eELrdK3S7J5UHhF4PC0O7O5ryOUoxhIll+epKrv5//fnWMc/wlUOf4FMfeJhDOy3jNxfNxmiDNqSw6M8fz21BucT3nrWClSiFxTN7DouPPsB9l+dxDmITkdiQMAZlHffcUMXnDqnizmu20fU+Q9e7ha63C13vcTx9hzCiu6Nyo0FRjSaT9p+xRCWhf69NHPWJkTx25zKKLSFGsthWH8JBWOwZLMr5/bu9cofVmpqaajZu2ki+kKetVvuOTkhDS0sj26orKYUFrLOUkpC1m9ayacsGSipA2itjGRRisM4QhCU2V2ykumar92xL2a/hw36lHMYr7BIekkYRhmHA2nVr2Lh5I8VSAW21b62XwqIsranLru2nOI+S7R2qHgxi2+CUBLGfBik/NWlt6epg8/6GxfsrmD+zAq0zONalsLAoNLGDYgHOPGEkPzlRExpDaGyrRMagpIilGS2KMHE8cv88jv/cVH7x/XncdfMYenabwCP3TuLw94/jTz+biNEWZaBqA5x25PP88dwWNBFGfIsAKzFd74IjPv40s8bliRJQLtoeFicMIdMAhgyLZwuHf+wO7ru62cNCG2KdENsshUDx6J3r+d93jWX82GVoazEoDCHagrIxVkKUK2IooWlGsZUg1HR7oJojDxvI3VeuQrlGH4xmwNJIa/zGW4TD7mDxUlTBswsmsE3iPYPFboBxwGChoK3dXmR4VTcwOa5iwLYlTMxuZJFrpg5DhMNow2UTenH6wHvp2bAi1VVvE4BstxTUedZATn36Wq6e0gcthuqohd8OeoRjXriZzXVbEaMRqzEYihjf5lAMGMPIppWc1+M2fjfjnygVIunypLMWl+qoEiFRmhjYZEtMDKoYUdzEzOI2Vqss2nrzckGxhgv63MulQ/5BbTaDcw4tlhBLgCOgXdvBcp+8FBxO/HvtYVGuE+GspOAAGxpMSWNCTWKcz9MQP2PZvJ8dnF/9j4XMn7kFnSic8UVvtDh8m+IYEfjLZfM56qM1LF+1DSWOUGIiyRM6TWD8VDG0RRbPdhz1hW5c/5etFAtQiJso6ToqKxRffO9GfnPxHIy2xBqqNsEpX+/FH87NIQQEOo/DoUTT40H4/EeeZuzAAtpZjBO0czgcPztFc8bxg8g0giHL4lnC4R+9n/uuasaJECsh1oqYjTgnjHmxyKHv7cbd1y5FRVAs+r6psVHEsUEpR5jEGDSxDkmU5akujXz10J7cc+M6ilEeTQFHgBARJDkc5fbdOz9HD8KinWjnn8KBSlhasZY/je7OBT27cPpDV/KDR2/gd/0f5eXNS2m0EcZYLhrXjW/0uZWnaxb5B76AbZ2jt8kzi8fyi9738sSSsUQYquIWLhnwAJ/tey3raytwWiPGwyIUgxGDOI1RMX3rFnPq09dy8fTuaBUhWiNaYZxNlRW0QHVUYMCy2fx1wFN8t/sdnPLMTfy01710fqk3C7duAGBOqZoze3fhvEEPUZvz/TOtWBJnicURi0M7359UjAPlrQpfDzKFRTunZRkUYvGBahZfXl85jBbidBflBZH9YVmIbQ+LRcyfUYVODOUSeG2wKGFQDO6X5+v/PY+//20UVZWOQhgTxAEN22DC+AqWvl7CEjN9vPDlTz3L/Te0oBJQOqAp28Kg/iv56ge38YeLF3lYGKF2K5x+bG9+eUaBllyefN7QkjUU44BJI+DzH+vKVb/I0lCfUCxYss0w9uW1HP+JOr59bD+aG8FIjsUzhcM/8gj3XZVpBwtD7GoxIlSuh/NOG8ZpX5rE3CmGMOdnh/kmWDQnZsSgOrK5BO0suazj+R4rOOWzi7jiF+vY/JqwbYuiarOmplJTXZnQVK+wznWsq3sRFiPCLXSbP54qid65sCDxyr2kfgvnvnAvX+h9Pb+Y2J37Vk/k9nkv8uM+93DDqOdYnN+GspZLx3TjpF630nvTAshrb5q0L1WWgiOMArZUV1BQATk0lXELP01hsbbOw8LpBOXSevPO4KwmHxXoUbuQ45+80sNCx96q0JoYDwunLcY47pv2Iqf2u5NTBtzNbxYN5oZt07lk7LN86+mbeGbVDADmFNtgUZdtAQRn/YpGOR4D7SBxEFkILChNIn62m9BmaSCpnyJVeFHe6x8LRAIBUARCAZWCeH/AwhqISiksPrCa+dMb0LHzprYG7cqwyJLQzLbaHNddvoAv/Nc0vn9GH27tPJYbrhvCd06YxNc/05vuj2kMAdUVwmnHj+KY/6nk+qv7cnvnYVz28x5c9cfFnPaZAr+/yMMicY6mevj1heM57hPVXP2X8fz+V3340++7E2pNcy1ccOZMPvvezfzuFz15+O5pXHp+Ly797jx+fHyRM07oSaYZbNpF/fAPP819V2ZwgDJtYnEobZg8NsNpn1/JMZ96ib/+fCr33DGU3/1kMsd9dig/O2c5lRtDEgW9u63h2E+9zNf+cxXfPXom3/zKQL59dF9OP6oP3zqqN6d+rSdX/mYeQbCzVfG2gMUugHHgYBE6Xk8a+dPAx/lGt2vpO2kUlcUmMjakhGZFczV1pRxYS8FZfv5KN07udSs9KxeRc4blhUbm5WrZqPJEJsGlV5gv5Kis3UpdrrFjWBiDiUKUTciqImtatrGkeQtbgwwDtr7KaU9c3Q4WFmcMcZp6HDnHvPUrOXrAHVzQ7wGGVrxGNok9sJSjrmIbxUIJZGdYGGuJdExGYja7EotKdUxrqWJxvpZaE2DEgnIk4ojFUiwU2NpcR1WmgcZCjpLRPpfROQrOsTUqsjrTwLL6ajYVWsgp5Y0T66Pk9z0sLFb7iPOnHhnO948bwrJF9QTFckq4RotBYYlJSKgnJkPBtDB00FZ+9/NXOPuUPpx+4jNcceWzjBo7l6rGZhRVFHSJyTMX86tfPcA3vzaIn/+kL3feNoqauohHulRy2w0TiGNLZBVWhIUL6/jtxRM4/dgn+fUlz9Gn13xil6AcbN5c4PabhvH9b/bi3NN7cNOVL7N2bR3D+zXws4u7kM37VZVVS+H8cx6lxz82YNEYcX4Z1oCjiG9+DCtWbuGma/px7pkPcuZx3bj4/Md56K6pvLbQEEeQbYE7b5rBt74yhtOPHMDpR3fnW8d041tHPc+3j+7LGcf047gjuvLHi2dQKr5NLYt9Dos3e5Gh0G3bQk7v3plfTe5FPiyRaIW2vhJzxsaEaeXVovOWxbF9buOmNRO5Z94oLh75BCf3vZ2/ju7B+kwNiXVIYum6dAIXdr+dZ5ZNJEphcfFAD4t1tRU4Z1BBkdqGGm5eNoqzh9zDaQPu4K+vPMtNr4/kpJ43eFgYH7rrjB/w1gm1EnP78N58qU9nXp42mYxJvIETa0wxxoUaY7wzcnaxmjN6d+EHgz0sLEJJLFPr13HdzIF8b/iDHPvi3Zw35EFumzaQTToHxqKwrMxs4/ZXR/C9wfdx7rAH+N7g+3ho7VRqTUgTjnmNlfx5Qh/OfOFezh7yEJeOeIpuCyaxPswSi58qbSLZh7AAcK1JWNmGiJpNEOSlrX2h0xjn0FZInCOR2AsRhSJkMpbqGkVNbUCpBIlJiF2ElgglDmUdTS2aqkpLcxMEJUHZmHwLNNYJSluUNQhFElWkod5QU5OQaYmwJkJj0M77eZIImuuF+pqIlmwLkcqRy+VpqC8SJ0KiLCoWKreEtDSVV9PKS/UlpLzULQ7roFDMU13TTG1NSFOmgXwuJijiA8W0UFcXUrUporYyoWaro6ZSqK7QVFeoVCyNNb4nyb8vLN7EhZrmgN/PeJ5jul/PrSvGQKxAG8RYxFiyEqPTvIuSs/x0bDe+3OMGTux/Jxc8dzfnjniUU168l2Ofvobek0fRGJUgcdyxfDRHd72K6xYORYmhImnhooEP8Ol+3mehghJBWKDvqMEcM/QOvj70Ns6Y9A8uGHAvJ/S6gW90v4aLp3cnMTGSwiIRTeIci1q28ZPHb+WYYfeQ2bINF1tU+45SqWO7DItv9+nCuUMeoi7XgkGoKrXQ+cWenPjE1RzX/zaOnfAwJw27m+Mfu4LH54/CBCVySZGBiyZxZJ/rOWrobXx73COc8uI9nDnoHl6r2UKljej8Um++1usGjh5yF6eP/Qen9OvCL//5MDOqNxLjpyGbiFNY7N3ckPYj2hnKvauRNByk3N/UOYOxDmNAeaMJJRZFTBAJiTHe9SkZ8lGOyJbQhIRKMOIDq7S0N9MdiiJhCQp5i9YO4xyJNGAlixMhsTFWAoQSFutneVpTLOURAWVzGMlgyWLIYiUB8NmwAtZKGoxlERFEHEI+Pb5/3RjBuSKGFpQrodmGtgGqnKIjgpYEIcBPEMs3OE4lIjE5wOzu1u41WHgH50S27enS6dsRFgWJuHRaD47vfh3d1k4Da7FOo8VLLAlGfHRjYC0/Ht+NLz13I7+b1JvG+gbCMGTx+pWc0P92ftvtbjYmLQDctHYcX+92DTctfQmxlg1JjvOGPshHB6cOToRXGzdy8nM3cWb/Oxi9ZSmNrsSWfD2/n/08R3e/hgtndCewsU9ZNgrlEgI0cwpVnNejC18ZejsNhSzGWowtexbFSxqUNTOo4rTnb+e7Qx+gOteE4Eh0xITqFczZvIJtxUZypSxdamdw7MBbOHpkF1xYYpsUuX3i83ypzzUMmD2aTNBCtq6WuVtXYPNFNiQtfG/gPRzd9yYm16ymSYUsq61g6uaV1KvAJ+qKsIGI2yYO4cnMyu3B8GYGzO6kfaiL8v8vdxFrjZNL70n76lWkju1dDXAnbWN1l4eW3Uv7z5QXbsoxe76hEdvFqpSlXOPGWxTyxvve4TiSDoP2l7f91u4mtbvofQqLcCvPLpjENlFvQ1iwZxcU2YifTu/BUb2u5eGK6RA7nxjlfF4EViNGISYhsJbzJ3bjS/1u5tHqBSBCpBO25ps4ru+t/PS5u1lpPCw6rxvHkd2v5cYlI0Fb1iU5Lhr0IJ9//lo21VSgsby4YQFfHXgz14zqTq0qQJyANoxsWc23nrmen8zoTkFiX1VJJSTWOzvnFao4r2cXDh9+G9VBFmUNThlEt4OF8ebrjHAr3+x3K+cMu49t+XofPxGErCFhmq7muYp53PRKL3459GGO7XU1nxt8HcVMHUVX5OW1szjqn1dx1oDbuGHBAP5ZM5cFroGsK9Jgc/xz6ot857mbOe75m/jr8uFMbdnANnE0i2ktBbeWiFsmDeaJzL5rMtS+PD9pDEo5NKU1lCXN1twueG13g3RP4NVOudv7gTtUhr0t7c5xR3AIbbDYURe9Xth2sn9g8YaJZLvb1w7bAYOFiiOuWTCYE7tfx98XDSZSCc7odLT5ppNOx1gVtcLiK/1v5fGaRehIkRhNswo4ts/N28HiprUdwGLgAxzR7wbWV23E4Bi2bi5fHtCZq8b0pF4iTFAChCHNyzn1mWu3h4X2lgXasqxYy2/7PMThg29hes1amm2MUz7cW8eqQ1h8Z/j9VOXqMc6SLWZ5ePk4fv38ffyp70PcN6Qndy4azlmD7uCLg6+npaaSWAKqVBMD6xZx3ZTnuLBvF7715BX8fvzTbGqqJBvlqAsyDFk9k8tHPsP3u3bmgmdvpfOUAaxJMhhxiNs/sNjuQbm3YPEmjn1ApQMl7+jU2gAgB2Gxy+2NLiqMGFS7lO/0vIUT+93C7NWL0eXRJo5SPku2uZEkLL1pWBzV4zpuWNwGi1+MeJwTX76PLTVbUVhGb32NT/a4nF8PeZTKJAv4OfZTm2Zw4tPXbAcLMX5aRGKp0UV6zR/HV17swg2je7M8aGj7gkRIgpi4FCJIKyzOfelhKlpqSZxm7qrFnN79Rn7zwkMsULWEOmKcreC7g+/ka8M6k6+pInEBRVekhRKVLmSi2sr1rw3hqD7XMHjCixSTAq5UIElKNJqQRWE1v57xHCc/cQ3D17+aBnPBun0Ni4404+0Ki7eofHuilAdh8Va2N/qyi5p6XeCxWSM4osdV/GrYY3RfM41RNcsZWrmI28b04cpBTzAj2oq2lgtSWDxZsxgbKbRWZJOdYdF53Xi+0fMGblg0AoxlU9LCD4c/zH8Pv5Epy+ejdcxrmQrOHnQ3X+xzLbfPGsyYra/Rd8kkTh39IJ979u/8ZEZ3ss6nhJP4YjNOfARmbb6Z77zyGF9/6kqunTOEwVuWMGrbavqumc8VA5/hkVmjAJgZbuW0vrdy5sA7WbJuOSWnGbZyLl/oex0/Gf04Pbe9yrRlC7ls5j85uvcNnDDyHkp1jWxJMjw07gWumNybia/PZfKWZTwwYQBffOFGBkweyfzsRi4ZdD+dlwxnUuUyplev5qypT3LE45czcMMCDwsN62QfwaK8HwRDObHPgfPmt3E+YGw7WOi0mrYvgf1/d6q2P4fW3BzaHLdvE1iUFd4IbdMjCw7jo4V9vPfbHxY7AOOAwEIA5ywJhtpiM8+NGcrld1zPdx+/jm/2vJEznr6Oix+6jkcnDeL1sAZjDNeM6Ml3n+hM36qluFijEkUhjvjuUzdz4bN3stJkAbhv3sv84P5reWbuGEpWUxcVufmVPhz/1DX8uc/DbA6ayemIia/P53t97+KMJ6/n+11v4XtPd+aHgx7k/Kdu5pbBz9JsQ6zWoDSiNQpHgpCThKm1a7l5UDe+e/cVnNP1Vs7odTtnPHodP/zHLbyweDoJsM5kuWboM5z28N+5rOfdLAyqWV9q4BcDHuSkJ6/mtF6dOf3xazmzbxe+1aMzJz/6d1bmaqlSOZ4YP4izu3fmlHv/ynefvpHvPduZi156jNfyVSzKVXHFkCc55cmrOPmZa/lm1+s468GruGl4D1YX6j0szL6Ehf8jDwvrU+/F54BoMmiXR2swzvnVBQsoQaOw5SJC5UIrbwUWOw14of3T+kCJAyStbaJJvD+rXDtUFGItGKEo7eIJd9jNvx8s2P2FOCwGixJNSynLa2uW8dickdwyfyh3zR7KK2sXsDFu8ZH0Uczz8ybxwLjBTGva4iMplSFbLHDfhCE8OW8sW2wR4yyDVs/n7mG9mbhhGYE4SlYzv6mC26cM5B8zRrI1zlHEEItheMNK7p45jFsm9qdfxatMiLbSdc5ohsydRGNS2g4WWhxKhJIoWtBsilt4cd1C7pw9glvmjaDbsmnMzG+l1iUERpOxmmmVK7h3ykCemD2SDZKn6AyzChXcv/AlLh/fi4deH88U6nn41VfoMr4/m+MWAmupsnmG1Czl7hlD6TzueR5eMIpxxU00Y8jg2ESJflWvcuuCYVw1qTcDls9kddBIRhL0foJFOVe3nAWsJUJLC9oVSQwoSTDOYlNYKDTGGW967CWl9nxI4cPe2+9bOye/5IpVGHKIMpCksHAxzvoyi0UrB2Gx3bYHsDD4p1IoMYlolLMoZ3z5MymniENkNIFKSJzDxf7CRVuKVhMhxNaQi0OabEyTjclahWgfqBWphIIkFMUSiyHGUjIxoUlIjCa0mkgMJRwtLqY6yhLgazOKThfQ25XRszgCNAVR5ETTjCF0FqWND90uaIgUomKKEhHbCGUiTBKRiKEgMXmJibEoY4gThUoUEmn/JNKCaB/ibZTBGZfWSWn7lo04IqvI65DYGQzSNiXYlz4LJ4jzYUoCfqqRAK4F4yyJ+OiCmAyJJGjn3w/x8RZo3vLUoD0THAohrap7oGHhoLWwrwlAtkASI3G6wGcjjLRgqIOQ1q5nB2HRftsFLHwVCQ8MaxPEap+v0bqEmhZ/UQKhTWNaxEcdleetsZ+jk9CWGFF2pGlJ3xdI0sigHWtothMnXgk1jhhD4hTKKqzRKSicfzIqB8riEo3RphxxhCQ+Q5bEYtJVlIgEp2O0jilIhHM+65VyjogWiA0kDmush0U5RiFxXpT4z7Uv+iOpc8C2nY93GPh7s89gkf4iABFIlaXvtc+x4ZD5rOs0l3WdFrKq06sseu9clr9rDSsP2cSUD0+meVkJFccUyL4lWAjeV6KwRCRIIASrA4IRwYEFRVlMgBJFAwkto0vkLsmy7uOLef0983j9sHk0X16PGWfJkoblHIRFB9tOF2Rb/xl88V1pX8ymXY0KygxJMyrbRyKqVMwOzi5JGWEsGCeYNMPzjWBhUzHiMM5gnMGVS6C1B4ZxiLHbJXih08Aj5SM/jfOJYZLWYYxQSApDMd4aSZygrBffvs/XrBDT9rpy6TFaa396KQcPGSe49IlfXuRfR8TNEwfzZGbV3oVFuwFJCFQK/a7uw+x3LaDmskoab2tk3YONbL1/MzX3VlF7bzWVD6yn2ODQ2pJYtbMzsqN97wYWFofGEqOQzcKMG+ax4LwVuz7f3SlFR+fwRkrUkdKVxRpczlIxs4GF35jOi1/ry6bLV7LxkWrmX7iAEUe8Qs3ZzTQvy/vAtQ52v7dggcBL/yqwcO1gsV2VKNvupzVgUuMAL2VQiPXjNcQ/fNtHKYrzhoj/G2mtHfFGsGgvNq2j6WxKH5E2YFjXVrWqXYSkswLapv00LVqsDxt3Pu+jfc+GPJYQIUSI2LlXZ0Sb+Osqw8LfRIufDijaWFK+fg+LQfseFhXwwlX9mPnelYQvJiTroSEjUGuRWo3UKqjxbQ5tGm/n2xHSVjZ1B0VsjeJ0pG0EaV09cGVYiCFBIcuEF38wlrXfrE0viLZCQOX929Zb1oHCyHb/Fwtuh9fan59zrhXqVreNNXHplxCDXSf0+kl/qj66GHrHyJY0dHyZpfjHkMWdlrH0oQW+60MHt3dvwmJkXEW3BZP+77BoB4z9Bwt2PonW76/8JXaUt1BW/vY3od2Fti7bCztdfNuv7V9sLzuf047n9YYKtYun0q7Od7sB+xYHxU77a3e/1hNz0/iBPNm8arsoyx0jDt/M4NzxkESksHiB1w9ZTcucDMUgYSNFCKBohIwTyAABxIkQCMSEJEnaOCgB49dK/IOgEcLQ4sC/Vgyx2yy2AvIKstZn/yYqIYibcNMML50wkswxGYJcM1EmRmchj4aiRgoaSo4W8Ult3gIEHYKLYyTJo20IkZBkIZuDgpRQkfinTRZfCyAWSKDZNmGLMS6nSAoG5SAnQrMIJgYJHPH0IoOO7M3avyyHOlBJSAuVFFmNGpRhRqfBLPz1a8guZk57bVxYGJ5U8eS88VTtEhZ78GWn2/6FRXnbWzfjDa6x7VrfxIffidLBIFhPxE3jBvBE88q9CovyIQy0wmLAlQNY1WkTanJI3KKpJUvscoQ2IrAKIzly5IiICbIK08XR8NUGNv7XWrb9TwX6SoimxwDkRRMqQTWCjAX17ZCKj09n9YdGUvhxPbIEaADRUPnkWpZ+eRHz3/8qK95VyZzDFjLhU7NZdu5mKFm4Mqb3V/9B4aV1SAz4wGACgeVnrGLAWQNws4yfwk7R/PMHPajtk4OJUP+zkCmHLWH9iWtJsGmNEYGHwV4SsOYLS3jtsLnUn96M7g9SKTiVJ7SCRKCrLa5OCAIPuQbnsJFG+lvGdhrItCvm48JdjNe9NS4sDE228sS8cQdhsaf6/6Y+/E6UDgbBOiJuGj9wP8FiIMs6rSEZVULXWbI6pGiLRPmEJKPR0khe5Yi3JMy+fS4jNXrd8AAAIABJREFUPjKGmWfPZtNvN7HkoqVM+PQMRp43BrdESKygQljcfw3/PGUQ006dzupLF7Lh0gVM/dwrTDxzJm66BhOytt8all+wjMkfmcmWj1Sx7k8bWPrnVVQ/kkHHedxlCf0Oe5qWPpv8lMlarLUUBCq/XMXIk1+GGYLSIIMjun+hK9V/zbP4/NcZ+cVJDP3sOFb+cAkGh84LdVNzTP3CDF4+ahDLfrqIhX9YwbzjFzPytJnku0a4fIgxYJVvt6kDjVJCti6ktBHsXMOKy5Yw5qPDWflSpe+r2tF43VvjwsKQdzwsYO/dkD3Q/zf14Xei7AIWnfcjLF5/9wqaHt1EsiShqSpgc6aB0poYWWpI7FbEOWp7VzPsfYNp/HGO4pIIWxDijKL0/0JGf2oK1ZdlvFK3QN2wHPVX5AlfTUiaLXGdo+qWehYeMo/6W9cgxUpMHhgFrxwxjdKXmpC8IM2CNDtKbIULhVEf60+hWxYKgE0wLvIrER82zDxuAUz2HSHlORj14ZdY/sECa87aRPh4RKlPgBoVUDIQzYPhJ05g3WHrCQc1k6w1tGghHqRYcPxS5nz6VTKrMlACYzQRAaGUsCXFpvFrmP7DqQw6bAATvz6B8M6QRuv22WrIvx4s4CAs9pbsR1iUF50U0uazuHII9YfEzHvfaGa9dyiLD3mFxe8Zyvp3LaXyQxXUjNwCDTD90ilU/Mcamja1YJIIpfJYG5OvKjHrJwtZ9dkKTIMhkDyxLUIcEbuYegrUmjyF5RE176tlza+W4Iqxr106HkZ+bQylL5bI4Jcsq6Xk/SS/gkEfHUDh6SKU8DVTwghC2PoZzfBTpsA8iDVID+j/kTFM+mQNzasyNOkmKmQzJVcNzdD8TIbh7xvBmjteJ8nHxDqLytbhWsDdEPLaf0yhulctSeSd8aH4Vf5ECyvHrGfW5+ay4oPLWPKJ2RT+kqEm34BN0+B3Gq97a1z8S8ECDryi/SvILqche9dn4UO8ffnTmDTupRL6XjmMjZ02UvfQNlrGNNA8s5n8zBqK07NEM0LiyhBeEyaeOJj6d7/G/HNmsfA7M1l4ziwWnTWH+d+exZjDxjDjsNlkKnKIVGMKdVBlsMsdaoohGWrQdyXUvS9h2aXLsU0BVluYCMOPHE7hK83opEiYJJSMRYUWfgWDP9qfwtMFJIHIxgQmxAXQdFjCKydPgbmQOIU8LfT/8BDqvlvAKEccJRTjEpFTSB1su3Ybi989g5lffJXpZy5m1ncWMf/M6Uw/ZybzvjidMe9/gdUPLaJFCwG+KI4QUSIiGxYJ1uUxs7NsuGI5Yw59iZXXrUf2g8/iXwsW5e1AK9w7WXYFi73s4HRIGv8mRFhIQCrh+auGs/Fda4jHJ7gMxCJYFNZprDHYEFjoGHfUC9gP1cNdwN0gdwjSBeRukAcFeVwwBQuqDrelgaZ/bmTmuSN47ohudP/ks7z0kWG83qmOJZcsxzZFWGNhMgw9cgj5rzYicQ6VKGIFKvawGPLR/hSeKuC0oygReRtiSkL20ISxJ0+DOZAQIY8Lff/zBbIX5NBYbOyQ0AfkSq2j5soq1h6ygPg3BncXyL3APcBDBu4SeNBhFhbJWaFkCiTRZgwBAQFFSkSSx+kCMk4x4r+Hs/SEZUi241t9EBZ7sh1opXunSgeDYAMxN47tzxN7cenUISiEGEeI9jkPW6HPVSNZe8gKwjEhplEoOUeJkAItFMiQd8BKmPjtiQT/1YKL/f4ik5Cg8Y0ZFMZFaAKiDcLsy5fy+oemU3HO61RcvZ7KRzdTffM25nbaxKxL5mObIkRbmAqDjhpM5usNKKlPe3aIn3b8CoZ/ZCDFJwskNiFPTNEm6JIh/9+GcSfNhpmQECOPCn0/MIDs+TmfIBc7JIDIgCslVFy/hrWHLKJmWDXFyAcN+1SEZiDGaEWg63GFmHB9iRXPrSbrLJYiSBEMRISYpYbxx0xiw2FLcI37pmDvQVgclP8TLPZmnMXuYLGm03KC0QGmSQhESIgwlLAUvJOjGhb9dS5zO01iy9xGsklMgYRKaihiUHkHdeCMhSdh6CdGkzunSH1coMZtpjnZgkwqsrLTBBZfMr4NFjPhuS88R8tJGbbgXRV551snupsj+n6yB4W78uiSQhtLYsFlHLn/sUw5aQXMhEgc8gj0/sAgWn7YgiLCJgkSGULnIAtJj4gJ7xnHmssWk9R7TGQAqxQuAR0LlVYh1VDdpYY5757Klsc2Y/IFQsn4gLmi4AYapn9wKiuOOmhZ7J3tQCvfO032Eyx8XkYZGD6b0lbBc1eXYRFim4UAQTuFMwrRyjcjihy1/Rp4+dARLPzRGvQICBcqcsuKJOMtm7pUorolPmHiGRjxiZconZLHbYJkU4nSvCZq/lTJ6k5Tef3SqdimCGcMzIPhxw2n6vAt5Jca9FpBrQgITR26j+L5z/am8eQmzByHWmVJljpWPLyBDZ0ixhy/1FsWIsjD8Pz7h9JyQRZDjE0UEloSIyQFYBG8fOpoVnx6Ks09MrhlEC8HO1GTfaaO1Tctp745QJUi3ISYaZ99ibnHLiT3QgtqaYTeBPKSo+lXVYzrNJIlt6xEwn08Lv4tYAEHXgHfSbIfYeETR1NYKDBV0POaHWHhMFYjSiD2x85hCTdaNv5pC+s+0MiLHxrHzFMX8Mo5Y+nzH4N54T2DML9WfhlhBCz4xhyWd5pLz5+MZPAlQ3jyqEdY9431ZN+7ntcuneYtC6thCUw5awqvfXARY340hG6nPMBTZ91FYLbAIljxw9Ws6LSRYaePZ8Kli7n/cz0ZcvQ4gkNh2okbYarP1ZOH4Pn3Dyd7fhZDgos1Ejq09o2GaIRktJD74GoGfLIfE8+ZxtTvz2fSp0cx9r19mfO/wyluC4gpYKsT+EeR2Z0W89THuvLSBWN47g8jePnQ3ox9zyA4OyaodW+9CNBBWLTbDrQSvlNkP8Fix2OYosHkFNOGjmPmeZMIXy1hspYCvkGTiK96gYCTcl9PYeuQzSz5wxJmf28OM8+dxay7JlM5s5I4o8mRRQpCZlaJV/+yivmnvcqiixaw7q5VFDItVNxXwZyHF2AyDisJ0igU5wQs/v0ypp89gbl/m031gGrIASGoVSErbp/H7O/PZeols3n9rtcJ1mWo/mctU6+fAkvAiBDO0Iz90xRqnqjzJTdMCVQ+zWaG0HnvRO3rGZbd9Dozzp/G7DPnM/u381nfZxPhqqQtPLwIRFA7NstrV65g+vdmMvOMmcz+7Rw2Pr8FvRlE89ZaMexPWKTAOAiLfwXZn7AoD3ADEotPnEoM0mJQUUiiQxSxTwW2xmuFlH/3f+yU9UUvcuAy+BT9tER/IprAhsRaYQLQLaAy4GJHS9Li/ybvQEC7POIsiUogAFNwmAgi7Sg5X63AaguR9g6GIkgx7URfAJe32GLim1mXBBcIBGkFMG18AEYIxDFOJxinUK6ERAoKIaaQYMIAp0o4WwRX8lWxjO8/orTCRUKQj4gLxpe4UBBGBqvlICz2+nagFfGdIAcCFmkirtOCSwQbG7RSOGuwTvt6HL55CG0lwP1JaBujlMKKwYpBRPtMX4cvfOwUsdE+29454kjQSnxtEeuzSh3gJMKIQjuNtj7DN3SKSCwxvuaFEYWzATaJcUrjjEGcoA0YYzFaY5XzvXeVIMZhrMVphyiHSyyiQkTHvnizjdAuQElIJDGJhFgXIi4EG/qm0NY3sg51hLYabQ2J0yTOYpwljhIPzHLdlYOw2IvbgVbGt7vsL1jsAAznfGkPnYpEtNYFMOIVv3XUtivr7VAkBMSU0g7rMRaDQ/xHFH5t0uJ3Zp3/f5w+6NmxVIFgfFWUNPtYQBQJMYoATZ6YehR5jISgfPR3Ce9foeSPKWk3NWJvHRhr0UQ4KSImaW0qFokmFJ9xai1+SqH8SSk0ttxwtq1Ggv+/Jm2GnTpCjNv5yzgIi72wHWiFfDvL/oZF2WchpK0GwTpBTIKzCi3i5/1u578XUg64tGyJhRK+OJ4gJBRJKGCI/IfLneMthNi2SmgOTFrcT5zfaQs+M9TXLTG+YoqUiwbjS6SkgadoCzoGXcIa50PXY3+sgAQtBmNNa00T67y1YFOgiHW+ipvR/pxSwDnn/7a1zgoJWhIPlfbtI1uVdR/KQVgclN0p8D6HRXksSVqUTFJx4jXRuFSZ6FAZBEnHqGsVr9b+w+XKrK6t2k16PEkbKPmKYCK+wnjreHc+X8XioYO41iqElGdDqWjnLQdrHdZa/4DXXsQK1lqsMzhnsM6lUwvv6ygXJhIrbSaVllbLwTlvWfi3BJNOPcoVEFvrLqX3sKOyKnttXPzbwqK8HWjFfDvKgYAFbbBw4qckHTcTaq8R5fUQ2MkBklJh+/Ep251guTWjP3/Z7uFM+lrrEcrHTA/j2gEjLVa23RSq/JovkyhpdTODdSkcdujbKkZSSEi7KQY4Z3wX+XRf5X4p1rZjS8qXjr6L/+v30aH828MCDrxyvt1kP8JilwO7rPvtYVHuNuTaOTl3KdLh/t+ypOdWvgfO7hks2q6B7SHYXvQOkr4uZucSidZJ2mG9TcqlW3eckey1iz8Ii3bbgVbSt4scaFiU/RM7KlNb0c09gIZ0uP+3LOn5vSlYtDd42stBWLzDtwOtqG8HeZvCQowGq7YHhuwKGNLh/t/SbRHSgr+yW1ikxdq9L6E9LNJ76Zw/xb0LC7dLX+deuwEHYbGL7UAr7IGUAwCL1i093q5gISZpBwsNoiCN7CzLjo2Ct68+3nFm5q6lzbdh0xYJiNtuRrQjLJwlXcFJV0520ODWyullQJR/Kt4CLMxBn8UB3w604h4I2V+wcDv8DlAhvPjn4ax6z2tMfs/LTH/3eFZ1Ws76Tquo6FRBZaetLDlkKvnpBcgLVhd8dW2RtJeYeCV26S7LtrkiXc5MvYG2/bmmj3oHFIX6SVXUPNPkP58IoixFMj6WIa2OVZ5qOKeAatCCdRGaPJgiIYqSTyhv729F8NHbiZO0CU1CJJrYmbYYihAfkVqEApZYOyj5axQFoqAu08LGIxt58cOj4UEwLqC1DcG+GhcHYbEH24FW3n9lWLQXgC0eFlvf9zrZuzIUhpdonpxQmtxMMiGLGZ8jnlhHLtuEsQEiJVAJiSsRUqREAVTiFTtxPnxcObR1RM4QSEIsliS1Foz4hYcIoQi4dTDnz+PYdnY1JRcTSELoFC6yBJKgbAgqRyQaYwWnHUQRBXFEzqGshcgRihA7waWdEMvLrQZoRijiSMSCEpwSJJHWoCsp98JyDiUWbR1OQTNNGKOhQVj155UsfNdCRnx4KDwOiRTaeqIchMUB3g60Av+bwWLtu+cRDQywmyEsCLQYJGOQZgvNmoQALUWszYOOiHVAJCUCV0R0gk00Tgk6toTaUrKGPIbAxiTWkkQWSUCJQYsjNJbAgVsGU340ivqj6gl0QmQ0kVZIZImMQqsYwiKxNWjrfABWaClpIU67SOpE+/eNhcQvc0oMEnpjIm+FwAlKHMY4TGJSWHhySXpfFRZjDdoalDE0SgM6q8hNyDDxs+No/kwDoz82Ap6AxB2ExdtnO9AK/G8Gi2XvmUfDyxniRqEWDZHFxhYdWyj6QCslRZyNcSYklwkJAyEMfE5IYoUEKDhLLZpGoAGwocHWGdgE1ENEwediqBCdsbgZwuhvjqDmhBzUA40g/7+9M4+Pqrr7PwlrBYSgQhKgUBdc6o5UcasL+DwutbVW61Kfttr+fr+n2lq1LqVqXdqn1p+tay2KoIBEIGzKJomQsBO2sMawhCUkmWyTWe9+znk/f9yZyUJAUMJMwv3w+rxmJszcuXPP+b7vueee8z0BheVE3cWHaxSqEiwddOFgSse9XKkFxy+wI5IQIexgPVptNdI03ZHbFQJVASIMREGZ7jEMKo2QGUY3NJywgYxYOIYTg4UNponlaAQJEVZRZL5k1shP2Hb5NuxHLOYMmAqvgS28y5DUU7IDuaPCIlaBKIPpD31CUZdSIlMCqHIbaTVARCfsGNQrC/TYGrCGwtjbQN3vGtg9ZCebuqxjR8Y2yn5QTmB2A8qSEJXg0zDLg+xcuIrqa6vZ3Gcr63psYPt1mwh9Xg1+BWGLvX8oozR7FWvSPmdbp/Vs67SLVd2KKP/eAQibiAdsPrlgFqE5OiIMUWEQJEo9YXyXlzH/qimwTLqXHbMVOdeOJfBOLZGFJmXXbWRN3zmUfW8XQcCMLU0YfMdP/fUb2ZpVwPL0rawYvoWad4IuWBzArsFUDTQQwN7tUDGynFWDVrF/aRWRd6OMy/wQXgJ0EynbSXbvEwYWkPxg7iiwaPpd8ddlMP2hHJadtBL/5GrYK1G2BbrAbhCYIQcp6tzkuutsVt+ax/TsWRT8YiFlr2xh7XMFzB+Wx9QRnyFmOEQ1gSq3WfXact688FWm3z6Lbc/tp/xvVXx64QSWXpCPmu+ALdj3RTkV/13Gkuw5VGdXUvbuPnb+awcNM+sxpAX3w6RTc6h9K4xjgiEEhnIwpU7gzFpmD8+FpQolAzDW4ZNTcwjc6Cf/mk/Ju/RTCi9fyKYH1hMCrAqoH6ezYGgun90wjeInNlH0yl7m/WcBMy7KxRoTxKoXKNOd6WJiU/2wn1kDc4m+EMYJhNBe1Pg4awL8BZQVTSxs3fKfB4tkK9kB3ZFgIZoc0zKY/qsprM5YxoG3dhNZ7CeyJYhWHMRYoWMs1whGS9Bq6tj3Sgmfd5lO5a99sEdHaRGsgB99jMHUAQsovc6P7oCqlmhzbdSrCrldoRoUyqeo+8tuCjoVsvWxrUQjYTdT91SH+WdPJXBOABMT09EwzSgRTLgTZmTMIvKPKLbLFxwpQZiYg3TmXDoPCkFSCa8L8k4qYH1aGXvvWoeaKFELQRYqgo5Cz1fMPDePrRethS/AOeAm9ZJfQMl1xWwYuJiKTZUo28a2HIqLilnVs4St9xQjl1lIUYc+RmNq5nj4K0gRQirRLCmQB4tUUrKDuqPBQgK7YfqvJmN08lPcbSGrOn/K+k6FrO+0lcKuq5jZcy67cndDHRTcuYg9fZYR3mOgGRp+x09ABjDKbUru2EyoewVWtcSw9iNVAEsIdCeCZmgYYRNnlc7KtGUs+tkiDM2dfC6nSeaf/QmBcxqIqCiW0LEsjTBGM1hoykImpsia6IOizLlkLhSAUBXwumDBSdOoHrQBdgSJRG38lkENYagE8+UqitKns+MvOxFBiDpQIYFqEE8ZrO+Rz7aPi9GVJLI6xNILp1D03Wk0bDuA367AUTUYT+vMOuVjeAFs5cPBwVZuHo6myPBgkSpKdmB3UFgs77UcLVdD7pRIf8w1AsdnExV1sA0+H7EAf1oJOT1ymNcjj0U9CljUo5CcHjl82PlN5g0YR8MeDcspR9kNyGoQ6xRiFjBOEXq0ms0nh1hw9xrCIQ0NGzVNJWARVmE0K4Jl6V8LFnNOmkH4+0GksjGViaEsHAFaRFH3VAW+TpuY3nMe0/rOYUH/hSzpPYfczKnM7TWDaT0+YuObG2EfbH5wJ6vSSgi+GcHeCY5fQoOO9o8oOcP+DX8zwJJYjoVumxiO6cEiZZXs4D4OsNiJyR/mTuT1um2NiaokrU6LPtoK6M4eV81gsb7bGqJzDOQBdxwUYYkdtTE0E1s0IPIh//xF2L3qcT42UOMdGCdgnER+bCKnRhC5Iewo2GE/ZnGE9U9uYuY1c/n3heN576LxzDh3Mos7fUn+PUVoQR0NgZpOY8uCCLodjcHCag4Labmp7Jw4LDTmXDIPCsBRFag3BDNPyiV0XRCFgyMtbGG7Qz80ReVTVezqtBHfH6uxJpqIqQ7OJAemKNRkBznFxthhEsmJMnXIDHaeVInvV/Xser6WLS/u48BL+wneUkde/8+oun4Pu54r5cviUgzLIGpoHixSWskO8DaGxS4snpw7iTfqth08E/yb3K6zATue55tYn8VkdnXaQniOhVUJ9QpoEIQtDb8KuYlvC2HleSuoSa8kgA/DCmKZESwzgo0fHT8GYXRA7YeZ981nXo989JtD1P1ZIzJRJ/SPEIs7bWThXQWYAR0NicqFecOm0HCOnyhRDDuK7RiEceBOyO07k/BrETRp4ZiyCSx0Pr1kPhSCTQXqTcH0nrkErw+6ZLUcpOWO6LQiUPZUDWs7FVE0cSUhswGNCAYGSgPT1tAJEsWEN6Bo4AoqO1WzOn0LBT1KmNOpiOWdt1Le6QA7O+1iZ6ddrOmyjbycfJRyc3N4fRaprmQHeRu6DIun507i7brtjUOom8Ki5W3QI4WSBdJUaFjuIdwFM38+n5K0FQTm61g1ipBycGwLZVoo08RSBtRB8f9byuYu09mWcwA9omhQBnuowAQCJgRssOU+1IeCd099g/ofHqBcVrOfCDuUn70lFRT0+4y8u+YhfMIdav0p5J6RQ+DMGhTlCNMPwsFUwP2S6T0mEH3cT42jcEKAYWMGywn31Zh/8UJYBpYN6i34uE8ONTe7HaU6AgNBlDAiCtGxgi+6rKX4mg3YVREsDMJAgAD1mklVjcKUbno/S9mYysLGiVngKNBe0Bif/R68CIYtkUKgpOSglGIeLFJUKRDYbQMLm2fmTXZh0VrL4hvAQpiKIDoAcg9M+fV01nZeQ3CugV2taMBBUzaWsHCEjZA2tga1c+uYdOGHbL6oCHucRBRI9DUG6m2TnQ9uxXwhSiQaRU1SfJKdi3ZhBHuNg7lUEp1msfWhHZR2a6D4R2WIA+7kMNbAtCums6//LphlQb5A5TtEATkJJg/JoWJYHU6uRM0FOc9hzW8Wc6BrDYtGzoXVJro0UO8oJmbkUHFrACltpCORtkKYAmXbiFJJzr3z+bTPcmofq0LNlYhicKY57HukgWX/UUr9piDKcIeCK6uJHYVQoD2vMSFzIvwZTCcOC+HBol0pBYK7/cHCQAJOueTD305mYc8lNMzXsGshgLu8oalsBDZSOthSYvsUW97cydqBhbw/ZBw510xn7NXvk5P9b3LPmkz0qRCOo2A1FN1eTNG3lvLBNR8w/qpxvHvpv9j93+VUZYdYfOd2nAMSoUDtgxW/KWJJz0UsuHw6E0e8z4y7cgnYArFDseH/lrDolDVMOmssuVfPYtzwD/ni/s8Jnq+Rc9kHsD6MpjTMcTbvZo5nz121TaakKne0p3QQDRYN62wKrtnOhH7vMeOCKUy4eRIfnDOTT4bOZ90Npeg7zMYkvVYT226ncugvUf49eDzWXx1sqZBSerBol0qBAE95WMQqoBSKKMIdFh2yKZy1hOLHdqFtMXGCbrJsgyi20pCYsSS4OhEsIkBwqsm+3+9l10+L2fnAJr78ezk1a8IYIUDaYENoZZTyh0spfWAT21/czt6cvVi6Q+V7dWyetB/HUBjCwVEK/3aDHU+WUPrzUnY/vZv63HoiCsJYBPbpbHhvL7t/UULpw1upfLuSqM8gMlZj7d8LUOV+gqoObb3BF2NWUv9+0F1RSDhIYcVmsjrucuoG1JYHKX+tjL2/2s7eH+1i6wvbqf7Mh1NqutnNmyblbXLMHamIfmZS8HQR+iIbJzZ1/pBZjT1YpLhSIMhTGRYK9wwplHvydABHOQgr6k6oMupRIuwO7bZMN8gsCQJszJgNdGni5p3AbUkANhYGOuh2YgJqVEIAHYcQDvXsZRU2IImNvY46lAsdn9RBSkKY2DigFE5sJqhmS6Lx7MKmg2kZ7EUjopsoW4JmEUTDj0ITQNgBG8LKjnW5hhHKJKIi1NKAEBa2qkCzDxA2w0QcDRFbLgBltAoKYrk0HNPNBaQUOLbwYNHulQKBnqqwQDUOs3CXyVDY0sEydKQpkUbUbRkIBY4Ty/8gY7MyLaSyEcqdlSmlbFZPJRKBA467jICj3Ot6TZgIpSFVhKiqBgVCSKRwFzIKCAtDKXAktpTuKuyWg7RA2e5umNKdmq5sgRAOAWniOAIVy4JjumuoYQmZyJ1hShtdWZjSQkkLW5ro0oztdxSpNGwpsKSDLU2ktJDSQQmJimX/ViKWiTxxrJXbD2IphN2YqbzNJpR5sDgOSoFgT1VYxOogNmASC1ChEI5AGrE1NBwRy1HnWkpAWSglkOor9iGWtUooEI47pVy18n4paBxgFieYoPHOT2zhH2W7l01KCqRwz+Zu9m2BiqX5c7AT4xxcsuG+XzqxNHt2rB+Dg9LzOULixFYgczOBi8TSAU0da4YlsoQLp3F5gRYJzj1YtDulQMCnKiwkTe7GxlLlC0eiLNGYYu6rvvMQdpNgKfd5PJhae99XwkIlUt0p6d6ijN+mdF83uQyIASLRbIp9d/NAb24VA0dLWLR04zYOYw8WHUApEPSpCIumwIi3FKRoDM5Wr9vbwIeFRYJmqjkUDuWvCYtDQcKDxYmmFAj6VINFvB4l4iqJsEgMXfdgcUhYfOLB4jgqBQI/1WCRAEY8UJMEi2ZOdVi0PCatuQ1gMdXcxz89WBxHpUDwH9atVII2g4VssZ0jCYLjCY+vsz9HsW9NOzhbdmI2W64wDgvFoTt1D3H8j6QYDlf2TWExyyjn9aVzqVDON6tjeLA4ciUbCEcJiz1tDYs2DMhUdmuAOBJYtLYA8jeK3dbKvpXjO0vfzxuFc6lUwoPFcVWyoXAUsNiL4LlFU3m73oNFSsDiGBf5QWV/iOM7Ry/nnRWfU/1NaYUHi6NTsqFwFLDYjyDXV8Jkq9KDRUeHRYv+mkT+EgGFIkxebRk1fNMv9GBx9Eo2GI4QFiUyynN503g3UNo8UNvguw5lFQuURKd//DXNLVWscjvucxvXDhwbOB0rS7Biyxw27bw8nL8WkL8uvGMHNJEZTcACu5op29dQqgc8WCRFyYbDEQTwfgTPLszhrdrN7khG4Qbi8YJFfOGd1u4axmGQgEIcFrGR4jru3BPRMhiS4Ra5QEyl0JRClwrRAgxN1zhV8dGabdWaipVH/BgLSWK8HI//AAAQcklEQVSB5/hiz9gwX6/gX8sXst8xPVgkTckGxFcEcBk2L+ZN558H1rpLAorYmfo4weJIQRG3dADTfU+E2MzwFISFATQAQeUe06Z3R+JnddXyc21xCRYrj/iysO5cHdcGYCn3j3ODe/n38s/ZIzQPFklTsgHxFQFcgeTvK+byzJ4CdNyKjRU748crd5NWQFtc37e8DInDIl6hm1rYQNQ9K2rEKnvTeR6tjHU4ro4Fu6Uaz9wJmMXLIb6vJu40d02CrmI/UoGpDspzcUwd366ukLb7tW+Vr2XshiVUozxYJFXJhsRhYGEASw7s5NHCqRSEKilXihrlBqImZTPrSmFwpD440FuzSSywYsGlgLBmELWcg+LEwl2DIyhhn7KowKbWsqmsqSOim9hCudO61fFnhBV/rtyWknJA2SQSIDctB4n7ew0FIdsm5DhEbIeoLdAdiSGaWLoLxJvq67kptGKTZxMOCkGDUqzyV/JM3ics9e0hdAzqqweLb6pkg+IQsLAVHBAGk8o38fLKz5hetZ3lkVo2NlQ1sY+NDT6KA1UUB6rYFKhiU8B3SBcHfBQHqtnY4GNDQxUb/Id2cX0Vm+ur2FJfxfY6HyX+arbWVrB2/y7m5eczduJEXn3nHcbn5JC3fDnrdu9gU0M1SwNVFDdU8+z7bzP82qt5/PVXWFO9n7U15ayvq2CDv/K4en3ssbi+kk31VZTW+dhWtZ/l69azdtU6ila7XrNmHSvXrGPtzi/ZXlnO2v1lbKutYmudj631Prb4WxzPBh+bv4G3NPjYGvO2Jt5a52NNTTmf7dzEX/NnMG7TUnZZESLHoK56sDgWSjFYxOdK6EKxX1h82FDK01/m8bvt83lmwzyeXj834afWfcaTa+fw5NrZ/KFo5ld7zWyeWDObx1fP4rFVMw/pP6yYyTPLZzJm2UyeXTaLp76YytUv/Y7Tbr+SjNP6c1KfvnTr1YueGRn0y8wk69rLuOe9/+H3hdN4aelsLv6vH9GpZ1eyHr+bR9fN4XdrZ/NI0czj7odjj79bM5Pfr57Jy0Xz+fmE1+h75UVknppF/9MafVrWQAYMP5ez7xjNI+Pf4NX8WbyyZDZ/LZzNsyvn8FRRo/+wehZPrJrJ4ytm8Njy3K/nFbk82sKPLc9lzOpP+Z/iPHIqt7LXiNLgONjHoJ56sDhWSjYwWgFIW/VFHE0nnHQkoWCY1159jb59+tK1S1eGDB3KqNGj+c+bb2H4ZSMYOGgwvXufzBmnn8mqlasAeP7Z5+nerTtPPfkUhm4k7jI4toNjOW7+DKESuSMM3WheHE0GIcU/A7h5JKTEMiyklCBjfxMS4Qgc28EyLGzTXYZQOCKRVyPuzZs2kzkgky5dunDeuedx1cirGH7JcIZfMpyBWQPp0b0HV1w+kr179iZS/TfdV/fxWPjIbt8mbuN6sEghJRsQh2ltJMNKgmVZTM2ZSp+T+9K7V28e/OVD5Od9gc/no97vx1ddzbJly7n7rp9y10/uZvu27SilErAY88cxGLqBbdlIIXFsB1+Vj+LiYhZ/sZgvt39JZUWlm6auSRlYpkVNdQ0l27+kYEkh69etp+JABaZhohSYhoVlWEQjGps3bSEvL58Vy1ewY8cOlFQIIQ+CREtYDB40mCWLl7B79252lO5gR+kOPpzwIWeecRZ9Tu7LxI8mxiDkZs864rJJdt3xYHGclAKFmiqwcCyHcCjMqBtHkZaWxr333EcoGHLvkggFuGd9gMoDlQQDocRhbAkLx3bQohrvv/c+1193A717nUxGnwz6n9qfm0bfxKLP8xKtCSkl69eu5/bbbqdfRj86p3fmlIxTGHn5SD54/wN0zV3GYNfOXYx5ZgyDsgfRtUtXsjOzOf+75/Paq6/R4A8cFhbZWQMZOuQ7bN2yDSlkYr+llFx/3fV069KN///qa0TD0eb1IsktPQ8WqaZkgyLZlTJm4Qg2rt/IkG8PYUD/ASyYvwDHdtzgOlzlpXVYFBYspV9GPy6+8GJ++Ytf8ttHfsuoG0fRt09fLr7oEr4s+RIlFfV1fn54+49IS0vj1ltu5dHfPsr9997PiMtG8PJLL2MaFqZp8sjDv6VH9x5cOfJKHn/sCR568CGuHHklD9z/ADXVtV/RsshiyLeHsLRwGTXVtfiqqvFVVTN71hwGDRxEv4x+5C3Kw3Gc5mWS7HrhwSIFlezCTQFYSKGY+sk0Tu59MpkDMtm7Zy/BQKhxGPRRwEI4Ai2qMW/uPPz1fkzdxLEdTN3ktltvo3ev3rzx+hsA7Nyxk2FnDuPsYeewp2xPok+itqaWal81WlTHV+Xj8u9dTlZmFiuXr0QphWVa+Ov91NXVJy4fDncZ0qN7Dy6+6BJGjxrNqBtHMerGUZzS7xT6ZfTjlb/9nVAwjKmbjb+3ldut7ckeLNpSyS7gJMNCScV7Y9+nR7ceDDtrWGOfQXxm1aE+S2uwcPsrqip9bFi/kWVLl7Nk8RJWrljJvT+9l/S0dP78/AtEw1EqDlQy4rIRdO3alV/8/Bd8PHkK27ZtIxAIxPo9BFWVVfzgth+QlpbGfffexwfjPmDtmrU0+BtA0Tgx7DCwSE9LZ/DAwWRlZiV88sl9yM7K5uGHH2FP2R5M3UQ48phdCniw6MhKgUJOlpVUzJ45m4y+GXTr2o1NxZtwbPcOw9G2LGzLYW3ROm684UYyB2TSu3dv+vTpy8DsgWT0zSAtLY2XXnwZ27LRozpTJk8hOyub9PR0Tu13KmefdTa/f/T37N61GyUVtmXz+YLPuWz4ZXTv1p3u3buTlZnFj+/4MYUFhVimffiWRWYW/U8bwITxE8jP+yLhD97/gKuuvJpu3brx4C8fJBAINMtlkewy8WCR6kqBgk6WKysqOe/c8+jetTsvvfASuqZjmVaig/NQagmLal81t95yGz179uTXD/2ad995l9zpuUybOp3bbrmN9PR0XvjzC9iWjW3ZWKbNhnUbePHPL3LHj35Mv4x+pKel87P7fkZdbR0AQgiqfdW8/o/XufWW2xg0aBCd0ztz0+ibKNu9B2EL5CFgkZWZzelDT6ekpOSgfZ8/bz79Mvpx5ulnsnXzVheOKVAWHizai1KgsJPhaCTKQw8+RFpaOoMHD2bc++MwdAPLdBcfRkEwEOS9se8xa8YsIrG7By1hsW/PPoYOGcp3hp7O9u3b3cuEWAvhvx74Oenp6Tz7p+fQNR1hC2prahFCYOgGlRVVfDThI0479TSGDhnqdoQqRV1tPcFAENu2CTQEKCgo5IrLr6BfRj9mz5oTG2PR+jiLrMxshgwewpbNWxLjHuKLixUWLiVrQBaDBw2meENxhyl/DxbHUylQ4MfTSiocy2Hd2nVuc797d7IGZPHwbx5h4keTyf88n48mTOSmUTfRq1cvLr3kUkq2fwk0hcWfMHSD/fvKOXvYOWT0zWDKxzkcKK9g7559TJo4mTNOP4MunbvypzHPIoVk9crV3PwfN/PWm+9QWlJK+f4DzJ+3gOysbM4797vsLN3F3j37uOfue/jj02NYW7SO/fvL+SJ/MZcNH0HmgEwW5y+O/YaD+y82b9pC5oAsTju1P/947Z/kL8pPeOJHE7nxhlF07tyZUTeOxufzdZiy92BxvJUChX68LIXCNEwM3WDN6iLu/PGddOnShS6du3JKvwH0yziFU0/pT3paZ846Yxiv//MtwqEIAM8/+wLdu32LMc88i6HbBPwhnnjsSU76Vi8G9M/k0ktGcP53L+Q7Q8/g24OH0r3bSbz84l+xDIvpU2cwKPvb9OzZi3POPo8Lzr+QM04fRp+TM3jmqTFEwhr5eUs495zv0qN7D4YOPZ3zzjufId8eSq+eJ3PvT++n2leTKK/ECmQOCFuxuXgrmQOy6dQpnVNPGUBWZnbCPbp/i7S0dM4edi6TPvoY07SSXg4eLNqzUqDgj4eVbMwW5dgONb5acj6eyk9+fA8jLh3JZZeM5KorrudPz7zM0oJVBBoiieMzYdwkrvje1Yx9dzxaxMQ2FVUVtbz1+liu+N73OX3ouYy+4Vam5sxi4oQcvn/1aMa+O4FQQMOxBatXbOD/PPQoF19wOeefeymjb7iVt994D19lHYZmoySU7SznqSee5ftXj+aC80Zw9cgbeHbM85Tt3ocdGx6OInYb2IWFlFCybQd3/PBurrlqVMLXXjWKa68ezU/uuI/nxrzMlk2laBG71XWP26s9WCRLKVD4bQ+L2GOsCe/YAttyCDSEqDzg48A+H76KevSIkzh7K+F+Jho2qK1uIBrW3RXIY7k4hK2orw1QecBHMBBBOArbEgQbIuiaiRRgGRJhSfSoxf49VZTvq6Kuxo8etXFMdzvScXNoOKbCXxfEV1FHbY2fcCjcuGRiDBSqSYIbpdzXwUAYf32gmRv8QYJ+DdOwEU7yj78Hi46kFKgAxwUaiWt+5Qac4warpSuE7eaqsA2FY8WS4MRAowTYpkTEYdE0AGP/TwwwhuaghPv5OAiEHWsNOGCbCtskkcRGOu42ZCzBLRKUo7BN0SwxULxVEZ+Up2TsciS2XcdqtIwnySG2X00zZaVAOXiwaO9KgUrQ5k50EjaerqU0sO0olhXBtqM4ThTHiSCVTjyFjlQ6UmoIEUVKDRX/P2WCspDSPKSFMFr5m37I9ylloZSBVFGkisQem1upKKChVBSltNhnmxsVS+2jLJSKES7eXEp2OXiw6ABKgYpwPGChYusdKuUghIEQesxRFwxKRykN0FBozQLVDdL43w4O+lbBoHSkikFD6QihJb6ndWutQqKlIeLui3ShdXh7sPB0rJUClaEtYREf/o2SSGkjRJOzcLPElLG0s8pESgOl3Ncq9roRCIdvWbiAaPrcOLybffbgFkNTK+Xul4q1Hg5nDxae2kYpUCHaFhiNsJDSRCXOzE4Ty4OspECKuJX7GNvG4W03gYp9eAvRJKGM+ArH9+Hw3+/+Pg8WntpKKVAp2g4WNOm/iK2vcSQT0lqk3D/aDFFH5VjH5RH5K7aVuKvSQW6ferBIRaVAxWhLt2w8tAaH5rNXj5PFUforttfsd6XAcfdg0VGVApWjzdxGU+KPiY9mAaKj2W6yj7kHiw6uFKggHiwOYw8WnlJKKVBJTiifYAA4GnuwaA9KgYri2bMHi/aiFKgsnk9se7Bob0qBSuP5xLQHi/aoFKg4nk88e7Bor0qByuP5xLIHi/asFKhAnk8ce7DoCEqBiuS549uDRUdVClQuzx3LHiw8NSoFKqTn1LUHC0+HVgpUUM8pYjxYePo6SnbF9ezBwlM7V7IrtGcPFp7asZJdyT17sPDUQZTsIPB8RKAADxaeUl3JDhTPCXmw8NS+lOzAOREdkwcLT+1byQ6kju4m8mDhqWMp2cHV0dxEHiw8dWwlO9jau5vIg4WnE0vJDr725BbyYOHpxFayAzJV3Yo8WHjy1FTJDtJU8CHkwcKTp8Mp2YGbIqAADxaePB25kh3ISYJEXB4sPHn6Okp2cB9HSMTlwcKTp2+qZAd8G0MiLg8WnjwdSyUbAm0ECvBg4clT2ynZUDiGoAAPFp48tb2SDYhvCIm4PFh48nS81A4B0VQeLDx5SobaESTi8mDhyVOylcKAaCoPFp48eToi/S85WtoYja7chQAAAABJRU5ErkJggg==)"
      ]
    },
    {
      "cell_type": "markdown",
      "metadata": {
        "id": "Lak9rkyO3zjx",
        "colab_type": "text"
      },
      "source": [
        "## Single Level Inheritance"
      ]
    },
    {
      "cell_type": "code",
      "metadata": {
        "id": "U7FPcUZx3Sju",
        "colab_type": "code",
        "outputId": "dde7b961-9608-46c3-dd9d-dd61e5e82bbd",
        "colab": {
          "base_uri": "https://localhost:8080/",
          "height": 185
        }
      },
      "source": [
        " class A:\n",
        "\n",
        "     def feature_1(self):\n",
        "         print(\"Feature 1 is Working\")\n",
        "\n",
        "\n",
        "     def feature_2(self):\n",
        "         print(\"Feature 2 is Working\")\n",
        "\n",
        "\n",
        " class B:\n",
        "\n",
        "     def feature_3(self):\n",
        "         print(\"Feature 3 is Working\")\n",
        "\n",
        "     def feature_4(self):\n",
        "         print(\"Feature 4 is Working\")\n",
        "\n",
        "\n",
        "\n",
        " class C(A, B):\n",
        "\n",
        "     def feature_5(self):\n",
        "         print(\"Feature 5 is Working\")\n",
        "\n",
        "a1 = A()\n",
        "a1.feature_1()\n",
        "a1.feature_2()\n",
        "\n",
        "b1 =B()\n",
        "b1.feature_3()\n",
        "b1.feature_4()\n",
        "\n",
        "\n",
        "c1 =C()\n",
        "c1.feature_1()\n",
        "c1.feature_2()\n",
        "c1.feature_3()\n",
        "c1.feature_4()\n",
        "c1.feature_5()\n",
        "\n"
      ],
      "execution_count": 0,
      "outputs": [
        {
          "output_type": "stream",
          "text": [
            "Feature 1 is Working\n",
            "Feature 2 is Working\n",
            "Feature 3 is Working\n",
            "Feature 4 is Working\n",
            "Feature 1 is Working\n",
            "Feature 2 is Working\n",
            "Feature 3 is Working\n",
            "Feature 4 is Working\n",
            "Feature 5 is Working\n"
          ],
          "name": "stdout"
        }
      ]
    },
    {
      "cell_type": "markdown",
      "metadata": {
        "id": "GioY8U2su8O1",
        "colab_type": "text"
      },
      "source": [
        "## Constructer in inheritance"
      ]
    },
    {
      "cell_type": "code",
      "metadata": {
        "id": "ay1JOHkx53l5",
        "colab_type": "code",
        "outputId": "87c71881-d7a7-46ba-b5ad-facde10429f2",
        "colab": {
          "base_uri": "https://localhost:8080/",
          "height": 33
        }
      },
      "source": [
        " class A:\n",
        "\n",
        "     def __init__(self):\n",
        "        print(\"in A init\")\n",
        "\n",
        "     def feature_1(self):\n",
        "         print(\"Feature 1 is Working\")\n",
        "\n",
        "\n",
        "     def feature_2(self):\n",
        "         print(\"Feature 2 is Working\")\n",
        "\n",
        "\n",
        " class B(A):\n",
        "\n",
        "     def feature_3(self):\n",
        "         print(\"Feature 3 is Working\")\n",
        "\n",
        "     def feature_4(self):\n",
        "         print(\"Feature 4 is Working\")\n",
        "\n",
        "\n",
        "a1 = B()"
      ],
      "execution_count": 0,
      "outputs": [
        {
          "output_type": "stream",
          "text": [
            "in A init\n"
          ],
          "name": "stdout"
        }
      ]
    },
    {
      "cell_type": "markdown",
      "metadata": {
        "id": "vNfOgapuwZdK",
        "colab_type": "text"
      },
      "source": [
        "In the code above **class B** is inheriting the constructer from A\n",
        "\n",
        "- Science we don't have the `__init__`  in class B hence it is to the **class A**"
      ]
    },
    {
      "cell_type": "code",
      "metadata": {
        "id": "N6BSXlZswNti",
        "colab_type": "code",
        "outputId": "16746eb5-f5d1-4055-fe8a-695073ef9480",
        "colab": {
          "base_uri": "https://localhost:8080/",
          "height": 50
        }
      },
      "source": [
        " class A:\n",
        "\n",
        "     def __init__(self):\n",
        "        print(\"in A init\")\n",
        "\n",
        "     def feature_1(self):\n",
        "         print(\"Feature 1 is Working\")\n",
        "\n",
        "\n",
        "     def feature_2(self):\n",
        "         print(\"Feature 2 is Working\")\n",
        "\n",
        "\n",
        " class B(A):\n",
        "\n",
        "     \n",
        "     def __init__(self):\n",
        "        super().__init__()\n",
        "        print(\"in B init\")\n",
        "\n",
        "     def feature_3(self):\n",
        "         print(\"Feature 3 is Working\")\n",
        "\n",
        "     def feature_4(self):\n",
        "         print(\"Feature 4 is Working\")\n",
        "\n",
        "\n",
        "a1 = B()"
      ],
      "execution_count": 0,
      "outputs": [
        {
          "output_type": "stream",
          "text": [
            "in A init\n",
            "in B init\n"
          ],
          "name": "stdout"
        }
      ]
    },
    {
      "cell_type": "markdown",
      "metadata": {
        "id": "yrfy2Lmv0oLe",
        "colab_type": "text"
      },
      "source": [
        "By default the above funcion will call the `__init__` from the  **Class B** only.\n",
        "\n",
        "But What if want to the call the `__init__` from class A also.\n",
        "\n",
        "\n",
        "\n",
        "```\n",
        "     def __init__(self):\n",
        "        super().__init__()\n",
        "        print(\"in B init\")\n",
        "```\n",
        "\n",
        "So when we creae an object of Sub class first & if we have call the super then it will first call init of Super class then call init of sub class"
      ]
    },
    {
      "cell_type": "markdown",
      "metadata": {
        "id": "1u4vImx31ic-",
        "colab_type": "text"
      },
      "source": [
        ""
      ]
    },
    {
      "cell_type": "code",
      "metadata": {
        "id": "oh2Y74ON1EHR",
        "colab_type": "code",
        "outputId": "3a573903-16e4-4b88-b551-c864f36984bd",
        "colab": {
          "base_uri": "https://localhost:8080/",
          "height": 50
        }
      },
      "source": [
        " # case-2\n",
        " class A:\n",
        "\n",
        "     def __init__(self):\n",
        "        print(\"in A init\")\n",
        "\n",
        "     def feature_1(self):\n",
        "         print(\"Feature 1 is Working\")\n",
        "\n",
        "\n",
        "     def feature_2(self):\n",
        "         print(\"Feature 2 is Working\")\n",
        "\n",
        "\n",
        " class B:\n",
        "    def __init__(self):\n",
        "        super().__init__()\n",
        "        print(\"In B init\")\n",
        "\n",
        "    def feature_3(self):\n",
        "         print(\"Feature 3 is Working\")\n",
        "\n",
        "    def feature_4(self):\n",
        "         print(\"Feature 4 is Working\")\n",
        "\n",
        "class C(A, B):\n",
        "\n",
        "    def __init__(self):\n",
        "        super().__init__()\n",
        "        print(\"In C init\")\n",
        "\n",
        "    def feature_5(self):\n",
        "         print(\"Feature 3 is Working\")\n",
        "\n",
        "a1 = C()"
      ],
      "execution_count": 0,
      "outputs": [
        {
          "output_type": "stream",
          "text": [
            "in A init\n",
            "In C init\n"
          ],
          "name": "stdout"
        }
      ]
    },
    {
      "cell_type": "markdown",
      "metadata": {
        "id": "1AXItlZg3OcB",
        "colab_type": "text"
      },
      "source": [
        "Here the code is bais toward the A Hence we use the Concept of **Method Resolution Order(MRO)**"
      ]
    },
    {
      "cell_type": "code",
      "metadata": {
        "id": "HDOHq4rj3OB1",
        "colab_type": "code",
        "outputId": "8d5ee1ae-b4bf-4826-8ffa-7b00448754d6",
        "colab": {
          "base_uri": "https://localhost:8080/",
          "height": 66
        }
      },
      "source": [
        "# case-3\n",
        " class A:\n",
        "\n",
        "     def __init__(self):\n",
        "        print(\"in A init\")\n",
        "\n",
        "     def feature_1(self):\n",
        "         print(\"Feature 1-A is Working\")\n",
        "\n",
        "\n",
        " class B:\n",
        "\n",
        "     def __init__(self):\n",
        "        super().__init__()\n",
        "        print(\"In B init\")\n",
        "\n",
        "     def feature_2(self):\n",
        "         print(\"Feature 1-B is Working\")\n",
        "\n",
        "class C(A, B):\n",
        "\n",
        "    def __init__(self):\n",
        "        super().__init__()\n",
        "        print(\"In C init\")\n",
        "\n",
        "    def feat(self):\n",
        "         super().feature_1()\n",
        "\n",
        "a1 = C()\n",
        "a1.feat()"
      ],
      "execution_count": 0,
      "outputs": [
        {
          "output_type": "stream",
          "text": [
            "in A init\n",
            "In C init\n",
            "Feature 1-A is Working\n"
          ],
          "name": "stdout"
        }
      ]
    },
    {
      "cell_type": "markdown",
      "metadata": {
        "id": "XOaQDW8j6mOk",
        "colab_type": "text"
      },
      "source": [
        "So we can use the Super to call ther other Method not just `__init__`"
      ]
    },
    {
      "cell_type": "markdown",
      "metadata": {
        "id": "2wYwRxeh63W-",
        "colab_type": "text"
      },
      "source": [
        "# **Polymorphism**\n",
        "\n",
        "\n",
        "\n",
        "- poly[**Many**] morph[**forms**] i.e. that one object can take the multiple forms.\n",
        "\n"
      ]
    },
    {
      "cell_type": "markdown",
      "metadata": {
        "id": "W2xBu0HC_0tz",
        "colab_type": "text"
      },
      "source": [
        "There are 4 ways of doing the polymorphism\n",
        "\n",
        "1. **Duck Typing**\n",
        "2. **Operater Overloadning**\n",
        "3. **Method Overloading**\n",
        "4. **Method Overriding**\n"
      ]
    },
    {
      "cell_type": "markdown",
      "metadata": {
        "id": "7pvJ40ikFpEk",
        "colab_type": "text"
      },
      "source": [
        "## **1. Duck Typing**"
      ]
    },
    {
      "cell_type": "code",
      "metadata": {
        "id": "R10QtNmv2tOe",
        "colab_type": "code",
        "outputId": "4f38e7cb-5961-4148-9365-96b59d5aa0f1",
        "colab": {
          "base_uri": "https://localhost:8080/",
          "height": 87
        }
      },
      "source": [
        "class PyCharm:\n",
        "\n",
        "    def execute(self):\n",
        "        print(\"Compiling\")\n",
        "        print(\"Running\")\n",
        "\n",
        "\n",
        "\n",
        "class MyEditor:\n",
        "\n",
        "    def execute(self):\n",
        "        print(\"Spell Check\")\n",
        "        print(\"Convention Check\")\n",
        "        print(\"Compiling\")\n",
        "        print(\"Running\")\n",
        "\n",
        "    \n",
        "class Laptop:\n",
        "\n",
        "    def code(self, ide):\n",
        "        # execute() there is something which is not in the exixting class \n",
        "        # hence the ide is something which user is defining\n",
        "        ide.execute() \n",
        "\n",
        "\n",
        "ide = MyEditor()\n",
        "\n",
        "lap1 = Laptop()\n",
        "lap1.code(ide)\n",
        "\n"
      ],
      "execution_count": 0,
      "outputs": [
        {
          "output_type": "stream",
          "text": [
            "Spell Check\n",
            "Convention Check\n",
            "Compiling\n",
            "Running\n"
          ],
          "name": "stdout"
        }
      ]
    },
    {
      "cell_type": "markdown",
      "metadata": {
        "id": "cGKi4U_jKzjS",
        "colab_type": "text"
      },
      "source": [
        "## **2.Operater Overloding** "
      ]
    },
    {
      "cell_type": "code",
      "metadata": {
        "id": "S1feWmyUIxLs",
        "colab_type": "code",
        "outputId": "59ab645d-5507-4382-c3a3-af00826cc9e3",
        "colab": {
          "base_uri": "https://localhost:8080/",
          "height": 52
        }
      },
      "source": [
        " #case-1\n",
        "\n",
        "  a = 5\n",
        "  b = 6\n",
        "  print(a + b)\n",
        "\n",
        "  print(int.__add__(a, b ))"
      ],
      "execution_count": 0,
      "outputs": [
        {
          "output_type": "stream",
          "text": [
            "11\n",
            "11\n"
          ],
          "name": "stdout"
        }
      ]
    },
    {
      "cell_type": "code",
      "metadata": {
        "id": "z2a1DfzRbL92",
        "colab_type": "code",
        "outputId": "c564b1db-c921-4075-9875-973cf09cc1aa",
        "colab": {
          "base_uri": "https://localhost:8080/",
          "height": 34
        }
      },
      "source": [
        " #case-2 [Concatinaion]\n",
        "a = \"5\"\n",
        "b = \"6\"\n",
        "\n",
        "print(str.__add__(a, b ))"
      ],
      "execution_count": 0,
      "outputs": [
        {
          "output_type": "stream",
          "text": [
            "56\n"
          ],
          "name": "stdout"
        }
      ]
    },
    {
      "cell_type": "code",
      "metadata": {
        "id": "6D3jvR64i_Cp",
        "colab_type": "code",
        "outputId": "96d98605-0f37-4417-d651-5dea3c866fa1",
        "colab": {
          "base_uri": "https://localhost:8080/",
          "height": 34
        }
      },
      "source": [
        "'''\n",
        "Case-1\n",
        "'''\n",
        "class Student:\n",
        "    \n",
        "    def __init__(self, m1, m2):\n",
        "        self.m1 = m1\n",
        "        self.m2 = m2\n",
        "\n",
        "    def __add__(self, other):\n",
        "        m1 = self.m1 + other.m1\n",
        "        m2 = self.m2 + other.m1\n",
        "        s3 = Student(m1, m2)\n",
        "        return s3\n",
        "\n",
        "\n",
        "s1 = Student(58, 69)\n",
        "s2 = Student(60, 65)\n",
        "\n",
        "s3 = s1 + s2  # this code is converting like <Student.__add__(s1,s2)>\n",
        "print(s3.m1)"
      ],
      "execution_count": 0,
      "outputs": [
        {
          "output_type": "stream",
          "text": [
            "118\n"
          ],
          "name": "stdout"
        }
      ]
    },
    {
      "cell_type": "markdown",
      "metadata": {
        "id": "jaxTjyzEmlD9",
        "colab_type": "text"
      },
      "source": [
        "So in the above code if we want to he the student add the two student we have to overlode the operater of \"+\" \n",
        "\n",
        "- Becoz the **integer** knows  the **string** what the \"+\" what the plus operater is,but our student class dont knows what  the plus operater is?\n",
        "  \n",
        "hence we have to define our own method"
      ]
    },
    {
      "cell_type": "code",
      "metadata": {
        "id": "yi_ceDhcnZKC",
        "colab_type": "code",
        "outputId": "6d8c6dfc-23cf-4b55-a350-2f1ea6a41048",
        "colab": {
          "base_uri": "https://localhost:8080/",
          "height": 52
        }
      },
      "source": [
        "'''\n",
        "Case-2\n",
        "'''\n",
        "class Student:\n",
        "    \n",
        "    def __init__(self, m1, m2):\n",
        "        self.m1 = m1\n",
        "        self.m2 = m2\n",
        "\n",
        "\n",
        "    def __add__(self, other):\n",
        "        m1 = self.m1 + other.m1\n",
        "        m2 = self.m2 + other.m1\n",
        "        s3 = Student(m1, m2)\n",
        "        return s3\n",
        "\n",
        "    def __gt__(self, other):\n",
        "        r1 = self.m1 + self.m2\n",
        "        r2 = other.m1 + other.m2\n",
        "        if r1 > r2:\n",
        "            return True\n",
        "        else:\n",
        "            return False \n",
        "    \n",
        "    def __str__(self):\n",
        "        return self.m1, self.m2\n",
        "        \n",
        "\n",
        "s1 = Student(58, 69)\n",
        "s2 = Student(60, 85)\n",
        "\n",
        "s3 = s1 + s2 \n",
        "\n",
        "if s1 > s2:  # here if we wnat that our \">\" work we have to define it\n",
        "    print(\"s1 Wins\")\n",
        "else:\n",
        "    print(\"s2 wins\")\n",
        "\n",
        "print(s1.__str__())\n",
        "\n"
      ],
      "execution_count": 0,
      "outputs": [
        {
          "output_type": "stream",
          "text": [
            "s2 wins\n",
            "(58, 69)\n"
          ],
          "name": "stdout"
        }
      ]
    },
    {
      "cell_type": "code",
      "metadata": {
        "id": "s2cMaVA0edEN",
        "colab_type": "code",
        "outputId": "1c793341-a511-43ee-8519-0977fe5f96b3",
        "colab": {
          "base_uri": "https://localhost:8080/",
          "height": 87
        }
      },
      "source": [
        "'''\n",
        "Case-2\n",
        "'''\n",
        "class Student:\n",
        "    \n",
        "    def __init__(self, m1, m2):\n",
        "        self.m1 = m1\n",
        "        self.m2 = m2\n",
        "\n",
        "\n",
        "    def __add__(self, other):\n",
        "        m1 = self.m1 + other.m1\n",
        "        m2 = self.m2 + other.m1\n",
        "        s3 = Student(m1, m2)\n",
        "        return s3\n",
        "\n",
        "    def __gt__(self, other):\n",
        "        r1 = self.m1 + self.m2\n",
        "        r2 = other.m1 + other.m2\n",
        "        if r1 > r2:\n",
        "            return True\n",
        "        else:\n",
        "            return False \n",
        "    \n",
        "    def __str__(self):\n",
        "        return '{} {}'.format(self.m1, self.m2) \n",
        "       \n",
        "\n",
        "s1 = Student(58, 69)\n",
        "s2 = Student(60, 85)\n",
        "\n",
        "s3 = s1 + s2 \n",
        "\n",
        "if s1 > s2:  # here if we wnat that our \">\" work we have to define it\n",
        "    print(\"s1 Wins\")\n",
        "else:\n",
        "    print(\"s2 wins\")\n",
        "\n",
        "print(s1.__str__())\n",
        "\n",
        "print(s1)\n",
        "print(s2)"
      ],
      "execution_count": 0,
      "outputs": [
        {
          "output_type": "stream",
          "text": [
            "s2 wins\n",
            "58 69\n",
            "58 69\n",
            "60 85\n"
          ],
          "name": "stdout"
        }
      ]
    },
    {
      "cell_type": "markdown",
      "metadata": {
        "id": "4SkLYOGBuQns",
        "colab_type": "text"
      },
      "source": [
        "This how we work with operater overloading"
      ]
    },
    {
      "cell_type": "markdown",
      "metadata": {
        "id": "eHd3lULhvtyl",
        "colab_type": "text"
      },
      "source": [
        "## **3.Method Overloading**\n",
        "\n"
      ]
    },
    {
      "cell_type": "markdown",
      "metadata": {
        "id": "Y09FIATTefny",
        "colab_type": "text"
      },
      "source": [
        "```\n",
        "def average(a ,b)\n",
        "\n",
        "def average(a, b, c)\n",
        "```\n",
        "\n",
        "In python we cannot create the two method with the same name."
      ]
    },
    {
      "cell_type": "code",
      "metadata": {
        "id": "QyT5PaFQvg5w",
        "colab_type": "code",
        "outputId": "5c62dbc9-6e65-47a6-e9d5-4985819ec932",
        "colab": {
          "base_uri": "https://localhost:8080/",
          "height": 34
        }
      },
      "source": [
        "class Student:\n",
        "    \n",
        "    def __init__(self, m1, m2):\n",
        "        self.m1 = m1\n",
        "        self.m2 = m2\n",
        "\n",
        "\n",
        "    def __sum__(self, a, b, c):\n",
        "        s = a + b + c\n",
        "        return s\n",
        "       \n",
        "s1 = Student(58, 69)\n",
        "\n",
        "print(s1.__sum__(5, 9, 6))\n"
      ],
      "execution_count": 0,
      "outputs": [
        {
          "output_type": "stream",
          "text": [
            "20\n"
          ],
          "name": "stdout"
        }
      ]
    },
    {
      "cell_type": "code",
      "metadata": {
        "id": "-VSuUTEM5YM6",
        "colab_type": "code",
        "outputId": "c7b754bb-3d05-46c0-b463-1b4c80d4dd20",
        "colab": {
          "base_uri": "https://localhost:8080/",
          "height": 34
        }
      },
      "source": [
        "class Student:\n",
        "    \n",
        "    def __init__(self, m1, m2):\n",
        "        self.m1 = m1\n",
        "        self.m2 = m2\n",
        "\n",
        "\n",
        "    def sum(self, a, b, c):\n",
        "        s = a + b + c\n",
        "        return s\n",
        "       \n",
        "s1 = Student(58, 69)\n",
        "\n",
        "print(s1.sum(5, 9, 3))"
      ],
      "execution_count": 0,
      "outputs": [
        {
          "output_type": "stream",
          "text": [
            "17\n"
          ],
          "name": "stdout"
        }
      ]
    },
    {
      "cell_type": "markdown",
      "metadata": {
        "id": "VQRlEVvk5ufQ",
        "colab_type": "text"
      },
      "source": [
        "\n",
        "```\n",
        "print(s1.sum(5, 9, 3))\n",
        "```\n",
        "In this code if we pass only two arguments \n",
        "\n",
        "```\n",
        "print(s1.sum(5, 9))\n",
        "```\n",
        "\n",
        "the above code will return an error\n",
        "\n",
        "so how to fix this -:\n",
        "\n",
        "line: 8\n",
        "```\n",
        "def sum(self, a = None, b = None , c = None):\n",
        "```\n",
        "\n",
        "\n"
      ]
    },
    {
      "cell_type": "code",
      "metadata": {
        "id": "5Mbi95s65tc8",
        "colab_type": "code",
        "outputId": "e84599c2-2ade-428d-b7b1-a4011a0a29cb",
        "colab": {
          "base_uri": "https://localhost:8080/",
          "height": 70
        }
      },
      "source": [
        "class Student:\n",
        "    \n",
        "    def __init__(self, m1, m2):\n",
        "        self.m1 = m1\n",
        "        self.m2 = m2\n",
        "\n",
        "\n",
        "    def sum(self, a = None, b = None , c = None): # fix\n",
        "\n",
        "        s = 0\n",
        "\n",
        "        if a != None and b != None and c != None:\n",
        "            s = a + b + c\n",
        "        elif  a != None and b != None:\n",
        "            s = a + b\n",
        "        else:\n",
        "            s = a\n",
        "        return s\n",
        "       \n",
        "s1 = Student(58, 69)\n",
        "\n",
        "print(s1.sum(5, 9, 3))\n",
        "print(s1.sum(5, 9))\n",
        "print(s1.sum(5))"
      ],
      "execution_count": 0,
      "outputs": [
        {
          "output_type": "stream",
          "text": [
            "17\n",
            "14\n",
            "5\n"
          ],
          "name": "stdout"
        }
      ]
    },
    {
      "cell_type": "markdown",
      "metadata": {
        "id": "HHNu32Le95_A",
        "colab_type": "text"
      },
      "source": [
        "## **4.Method overriding**\n"
      ]
    },
    {
      "cell_type": "code",
      "metadata": {
        "id": "ZdQ3DwKa9z7_",
        "colab_type": "code",
        "outputId": "e1f6954c-3bb5-4027-fbe2-d0bce878dd1f",
        "colab": {
          "base_uri": "https://localhost:8080/",
          "height": 34
        }
      },
      "source": [
        "class A:\n",
        "\n",
        "    def show(self):\n",
        "        print(\"In A Show\")\n",
        "\n",
        "class B(A):\n",
        "    pass\n",
        "\n",
        "a1 = B()\n",
        "a1.show()"
      ],
      "execution_count": 0,
      "outputs": [
        {
          "output_type": "stream",
          "text": [
            "in A show\n"
          ],
          "name": "stdout"
        }
      ]
    },
    {
      "cell_type": "markdown",
      "metadata": {
        "id": "Hv-qv7xh-7ve",
        "colab_type": "text"
      },
      "source": [
        "The code above will search for **show** in **class B** but since we dont have the show in the **class B** it will go to the **class A** using the property Inheritence"
      ]
    },
    {
      "cell_type": "code",
      "metadata": {
        "id": "gGqmeDpH-qLX",
        "colab_type": "code",
        "outputId": "18831584-895c-4c95-c2cb-7260fd993af6",
        "colab": {
          "base_uri": "https://localhost:8080/",
          "height": 34
        }
      },
      "source": [
        "class A:\n",
        "\n",
        "    def show(self):\n",
        "        print(\"In A Show\")\n",
        "\n",
        "class B(A):\n",
        "    def show(self):\n",
        "        print(\"In B Show\")\n",
        "\n",
        "a1 = B()\n",
        "a1.show()"
      ],
      "execution_count": 0,
      "outputs": [
        {
          "output_type": "stream",
          "text": [
            "In B Show\n"
          ],
          "name": "stdout"
        }
      ]
    },
    {
      "cell_type": "markdown",
      "metadata": {
        "id": "Wl5itKC3hNAN",
        "colab_type": "text"
      },
      "source": [
        "<center><img src='https://qph.fs.quoracdn.net/main-qimg-2dbff592e8f3698ebb6a59021a326961.webp'></center>"
      ]
    }
  ]
}