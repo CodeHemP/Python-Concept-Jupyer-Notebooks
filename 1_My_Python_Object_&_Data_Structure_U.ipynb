{
  "nbformat": 4,
  "nbformat_minor": 0,
  "metadata": {
    "colab": {
      "name": "1.My_Python_Object_&_Data_Structure_U.ipynb",
      "provenance": [],
      "collapsed_sections": [
        "2VSzQMfbAhbt",
        "1v76EYrFC0ur",
        "rZdVj53AptGE"
      ],
      "authorship_tag": "ABX9TyP5/Sru2QGFm1N8ulKERXka",
      "include_colab_link": true
    },
    "kernelspec": {
      "name": "python3",
      "display_name": "Python 3"
    }
  },
  "cells": [
    {
      "cell_type": "markdown",
      "metadata": {
        "id": "view-in-github",
        "colab_type": "text"
      },
      "source": [
        "<a href=\"https://colab.research.google.com/github/mohd-faizy/My_Python_Notebooks_Concept/blob/master/1_My_Python_Object_%26_Data_Structure_U.ipynb\" target=\"_parent\"><img src=\"https://colab.research.google.com/assets/colab-badge.svg\" alt=\"Open In Colab\"/></a>"
      ]
    },
    {
      "cell_type": "markdown",
      "metadata": {
        "id": "6isT6AIzSFxn",
        "colab_type": "text"
      },
      "source": [
        "# <strong><font color='green'>Python Object and Data Structure Basics</font></strong>"
      ]
    },
    {
      "cell_type": "markdown",
      "metadata": {
        "id": "90st8bt9Tz-z",
        "colab_type": "text"
      },
      "source": [
        "<center><img src = 'https://d1jnx9ba8s6j9r.cloudfront.net/blog/wp-content/uploads/2019/10/TreeStructure-Data-Structures-in-Python-Edureka1.png'><center>"
      ]
    },
    {
      "cell_type": "markdown",
      "metadata": {
        "id": "2VSzQMfbAhbt",
        "colab_type": "text"
      },
      "source": [
        "# **Numbers in Python!**"
      ]
    },
    {
      "cell_type": "code",
      "metadata": {
        "id": "RNGSy8Xa_vng",
        "colab_type": "code",
        "outputId": "33c4e7ca-ed50-4ce6-f90c-971394c957d9",
        "colab": {
          "base_uri": "https://localhost:8080/"
        }
      },
      "source": [
        "# Basic Arithmetic\n",
        "\n",
        "a = 2+1  # Addition\n",
        "b = 2-1  # Subtraction\n",
        "c = 2*2  # Multiplication\n",
        "d = 3/2  # Division\n",
        "e = 7//4 # Floor Division\n",
        "f = 7%4  # modulo Divison\n",
        "g = 2**3 # Powers\n",
        "\n",
        "print(a)\n",
        "print(b)\n",
        "print(c)\n",
        "print(d)\n",
        "print(e)\n",
        "print(f)\n",
        "print(g)"
      ],
      "execution_count": 0,
      "outputs": [
        {
          "output_type": "stream",
          "text": [
            "3\n",
            "1\n",
            "4\n",
            "1.5\n",
            "1\n",
            "3\n",
            "8\n"
          ],
          "name": "stdout"
        }
      ]
    },
    {
      "cell_type": "code",
      "metadata": {
        "id": "Be6vWSib_vof",
        "colab_type": "code",
        "outputId": "f5e963ec-e019-4f4f-a01a-d24f7ab44d27",
        "colab": {
          "base_uri": "https://localhost:8080/"
        }
      },
      "source": [
        "# Order of Operations followed in Python\n",
        "a_1 = 2 + 10 * 10 + 3\n",
        "b_1 = (2+10) * (10+3)\n",
        "\n",
        "print(a_1)\n",
        "print(b_1)"
      ],
      "execution_count": 0,
      "outputs": [
        {
          "output_type": "stream",
          "text": [
            "105\n",
            "156\n"
          ],
          "name": "stdout"
        }
      ]
    },
    {
      "cell_type": "markdown",
      "metadata": {
        "id": "1v76EYrFC0ur",
        "colab_type": "text"
      },
      "source": [
        "# **Varibles**"
      ]
    },
    {
      "cell_type": "code",
      "metadata": {
        "id": "xfg7xPlR_von",
        "colab_type": "code",
        "outputId": "b28bb2b0-6a60-46cd-b1a2-db53ea186c6c",
        "colab": {
          "base_uri": "https://localhost:8080/",
          "height": 34
        }
      },
      "source": [
        "# Let's create an object called \"a\" and assign it the number 5\n",
        "b1 = 5\n",
        "t = b1 + b1 # Adding the objects\n",
        "print(t)"
      ],
      "execution_count": 0,
      "outputs": [
        {
          "output_type": "stream",
          "text": [
            "10\n"
          ],
          "name": "stdout"
        }
      ]
    },
    {
      "cell_type": "code",
      "metadata": {
        "id": "GRaSPJyjKKw0",
        "colab_type": "code",
        "outputId": "b5185833-b499-48f2-d482-8ebc30977915",
        "colab": {
          "base_uri": "https://localhost:8080/",
          "height": 34
        }
      },
      "source": [
        "b1 = 6\n",
        "new_t = b1 + b1\n",
        "print(new_t)"
      ],
      "execution_count": 0,
      "outputs": [
        {
          "output_type": "stream",
          "text": [
            "12\n"
          ],
          "name": "stdout"
        }
      ]
    },
    {
      "cell_type": "markdown",
      "metadata": {
        "id": "VneWcYLG_vpP",
        "colab_type": "text"
      },
      "source": [
        "**The names you use when creating these labels need to follow a few rules:**\n",
        "\n",
        "    1. Names can not start with a number.\n",
        "    2. There can be no spaces in the name, use _ instead.\n",
        "    3. Can't use any of these symbols :'\",<>/?|\\()!@#$%^&*~-+\n",
        "    4. It's considered best practice (PEP8) that names are lowercase.\n",
        "    5. Avoid using the characters 'l' (lowercase letter el), 'O' (uppercase letter oh), \n",
        "       or 'I' (uppercase letter eye) as single character variable names.\n",
        "    6. Avoid using words that have special meaning in Python like \"list\" and \"str\"\n",
        "\n",
        "\n",
        "__Using variable names can be a very useful way to keep track of different variables in Python.__"
      ]
    },
    {
      "cell_type": "code",
      "metadata": {
        "id": "oJ-wTghr_vpQ",
        "colab_type": "code",
        "outputId": "4c466718-f2a1-4106-b0ff-d0505f3c6048",
        "colab": {
          "base_uri": "https://localhost:8080/",
          "height": 34
        }
      },
      "source": [
        "# Use object names to keep better track of what's going on in your code!\n",
        "my_income = 100\n",
        "tax_rate = 0.1\n",
        "my_taxes = my_income*tax_rate\n",
        "print(my_taxes)"
      ],
      "execution_count": 0,
      "outputs": [
        {
          "output_type": "stream",
          "text": [
            "10.0\n"
          ],
          "name": "stdout"
        }
      ]
    },
    {
      "cell_type": "markdown",
      "metadata": {
        "id": "mr_9P-YuBzdC",
        "colab_type": "text"
      },
      "source": [
        "**Rules for variable names**\n",
        "\n",
        "* names can not start with a number\n",
        "* names **can not contain spaces**, **use _ intead**\n",
        "* names **can not contain** any of these symbols:\n",
        "\n",
        "      :'\",<>/?|\\!@#%^&*~-+\n",
        "       \n",
        "* it's considered best practice ([PEP8](https://www.python.org/dev/peps/pep-0008/#function-and-variable-names)) that names are lowercase with underscores\n",
        "* avoid using Python built-in keywords like `list` and `str`\n",
        "* avoid using the single characters `l` (lowercase letter el), `O` (uppercase letter oh) and `I` (uppercase letter eye) as they can be confused with `1` and `0`"
      ]
    },
    {
      "cell_type": "markdown",
      "metadata": {
        "id": "saVdEf9mBzdD",
        "colab_type": "text"
      },
      "source": [
        "**Dynamic Typing**\n",
        "\n",
        "Python uses *dynamic typing*, meaning you can reassign variables to different data types. This makes Python very flexible in assigning data types; it differs from other languages that are *statically typed*."
      ]
    },
    {
      "cell_type": "code",
      "metadata": {
        "id": "FWyFt8lsBzdF",
        "colab_type": "code",
        "colab": {}
      },
      "source": [
        "my_dogs = 2"
      ],
      "execution_count": 0,
      "outputs": []
    },
    {
      "cell_type": "code",
      "metadata": {
        "id": "svFApYWvBzdL",
        "colab_type": "code",
        "outputId": "3f1b8997-8804-45e3-b5a2-0f7cd33366f5",
        "colab": {
          "base_uri": "https://localhost:8080/",
          "height": 34
        }
      },
      "source": [
        "my_dogs"
      ],
      "execution_count": 0,
      "outputs": [
        {
          "output_type": "execute_result",
          "data": {
            "text/plain": [
              "2"
            ]
          },
          "metadata": {
            "tags": []
          },
          "execution_count": 9
        }
      ]
    },
    {
      "cell_type": "code",
      "metadata": {
        "id": "DMk7vqZFBzdR",
        "colab_type": "code",
        "colab": {}
      },
      "source": [
        "my_dogs = ['Sammy', 'Frankie']"
      ],
      "execution_count": 0,
      "outputs": []
    },
    {
      "cell_type": "code",
      "metadata": {
        "id": "WuhWWO-fBzdV",
        "colab_type": "code",
        "outputId": "43a9978b-aa81-45fa-b0ac-06b781a9a8e4",
        "colab": {
          "base_uri": "https://localhost:8080/",
          "height": 34
        }
      },
      "source": [
        "my_dogs"
      ],
      "execution_count": 0,
      "outputs": [
        {
          "output_type": "execute_result",
          "data": {
            "text/plain": [
              "['Sammy', 'Frankie']"
            ]
          },
          "metadata": {
            "tags": []
          },
          "execution_count": 11
        }
      ]
    },
    {
      "cell_type": "markdown",
      "metadata": {
        "id": "3a0Rz1MUBzdb",
        "colab_type": "text"
      },
      "source": [
        "|**Pros and Cons of Dynamic Typing**| **Cons of Dynamic Typing**      |\n",
        "|-----------------------------------|---------------------------------|\n",
        "| Pros of Dynamic Typing            | may result in unexpected bugs!  |\n",
        "| very easy to work with            | you need to be aware of `type()`|\n",
        "| faster development time           |                                 |\n",
        "\n",
        "\n",
        "\n"
      ]
    },
    {
      "cell_type": "markdown",
      "metadata": {
        "id": "lT97pbnbBzdb",
        "colab_type": "text"
      },
      "source": [
        "**Assigning Variables**\n",
        "\n",
        "Variable assignment follows `name = object`, where a single equals sign `=` is an *assignment operator*"
      ]
    },
    {
      "cell_type": "code",
      "metadata": {
        "id": "n6Yl4i3CBzdc",
        "colab_type": "code",
        "outputId": "0aa61a46-ba47-4465-899f-ea9ae3c9bd52",
        "colab": {
          "base_uri": "https://localhost:8080/",
          "height": 34
        }
      },
      "source": [
        "y = 5\n",
        "print(y)"
      ],
      "execution_count": 0,
      "outputs": [
        {
          "output_type": "stream",
          "text": [
            "5\n"
          ],
          "name": "stdout"
        }
      ]
    },
    {
      "cell_type": "markdown",
      "metadata": {
        "id": "n8hHhDLjBzdm",
        "colab_type": "text"
      },
      "source": [
        "Here we assigned the integer object `5` to the variable name `y`.<br>Let's assign `y` to something else:"
      ]
    },
    {
      "cell_type": "markdown",
      "metadata": {
        "id": "NZ1wEPDmBzd2",
        "colab_type": "text"
      },
      "source": [
        "**Reassigning Variables**\n",
        "Python lets you reassign variables with a reference to the same object."
      ]
    },
    {
      "cell_type": "code",
      "metadata": {
        "id": "vkgrJ0TeBzd3",
        "colab_type": "code",
        "colab": {}
      },
      "source": [
        "a = a + 10"
      ],
      "execution_count": 0,
      "outputs": []
    },
    {
      "cell_type": "code",
      "metadata": {
        "id": "zcK9sjd3Bzd8",
        "colab_type": "code",
        "outputId": "a2e28189-0f2a-4138-849f-500d2e17477d",
        "colab": {
          "base_uri": "https://localhost:8080/",
          "height": 34
        }
      },
      "source": [
        "a"
      ],
      "execution_count": 0,
      "outputs": [
        {
          "output_type": "execute_result",
          "data": {
            "text/plain": [
              "13"
            ]
          },
          "metadata": {
            "tags": []
          },
          "execution_count": 14
        }
      ]
    },
    {
      "cell_type": "markdown",
      "metadata": {
        "id": "KqZZix28BzeA",
        "colab_type": "text"
      },
      "source": [
        "There's actually a shortcut for this. Python lets you add, subtract, multiply and divide numbers with reassignment using `+=`, `-=`, `*=`, and `/=`."
      ]
    },
    {
      "cell_type": "code",
      "metadata": {
        "id": "cGnWB0BrBzeB",
        "colab_type": "code",
        "outputId": "adc438ee-3cfc-4ff2-97c7-3648ea16fa5f",
        "colab": {
          "base_uri": "https://localhost:8080/",
          "height": 34
        }
      },
      "source": [
        "a += 10\n",
        "print(a)"
      ],
      "execution_count": 0,
      "outputs": [
        {
          "output_type": "stream",
          "text": [
            "23\n"
          ],
          "name": "stdout"
        }
      ]
    },
    {
      "cell_type": "code",
      "metadata": {
        "id": "wpnYbG4xBzeI",
        "colab_type": "code",
        "colab": {}
      },
      "source": [
        "a *= 2"
      ],
      "execution_count": 0,
      "outputs": []
    },
    {
      "cell_type": "code",
      "metadata": {
        "id": "B0RQaMnjBzeM",
        "colab_type": "code",
        "outputId": "1b642176-cb42-4c3e-ddce-83cd627dc6c1",
        "colab": {
          "base_uri": "https://localhost:8080/",
          "height": 34
        }
      },
      "source": [
        "a"
      ],
      "execution_count": 0,
      "outputs": [
        {
          "output_type": "execute_result",
          "data": {
            "text/plain": [
              "46"
            ]
          },
          "metadata": {
            "tags": []
          },
          "execution_count": 17
        }
      ]
    },
    {
      "cell_type": "markdown",
      "metadata": {
        "id": "VyYbRp2cBzeQ",
        "colab_type": "text"
      },
      "source": [
        "**Determining variable type** with `type()`\n",
        "You can check what type of object is assigned to a variable using Python's built-in `type()` function. \n",
        "\n",
        "Common data types include:\n",
        "\n",
        "\n",
        "* **int** (for integer)\n",
        "* **float**\n",
        "* **str** (for string)\n",
        "* **list**\n",
        "* **tuple**\n",
        "* **dict** (for dictionary)\n",
        "* **set**\n",
        "* **bool** (for Boolean True/False)"
      ]
    },
    {
      "cell_type": "code",
      "metadata": {
        "id": "4D8HKKrPBzeR",
        "colab_type": "code",
        "outputId": "bc10cfd6-68d8-40d3-8666-bc5d75b9f64a",
        "colab": {
          "base_uri": "https://localhost:8080/",
          "height": 34
        }
      },
      "source": [
        "type(a)"
      ],
      "execution_count": 0,
      "outputs": [
        {
          "output_type": "execute_result",
          "data": {
            "text/plain": [
              "int"
            ]
          },
          "metadata": {
            "tags": []
          },
          "execution_count": 18
        }
      ]
    },
    {
      "cell_type": "code",
      "metadata": {
        "id": "V7qqn04EBzeX",
        "colab_type": "code",
        "colab": {}
      },
      "source": [
        "a = (1,2)"
      ],
      "execution_count": 0,
      "outputs": []
    },
    {
      "cell_type": "code",
      "metadata": {
        "id": "IxK3h7_2Bzea",
        "colab_type": "code",
        "outputId": "756d1b7e-b4d4-4018-d101-01f34731e4f7",
        "colab": {
          "base_uri": "https://localhost:8080/",
          "height": 34
        }
      },
      "source": [
        "type(a)"
      ],
      "execution_count": 0,
      "outputs": [
        {
          "output_type": "execute_result",
          "data": {
            "text/plain": [
              "tuple"
            ]
          },
          "metadata": {
            "tags": []
          },
          "execution_count": 20
        }
      ]
    },
    {
      "cell_type": "markdown",
      "metadata": {
        "id": "rZdVj53AptGE",
        "colab_type": "text"
      },
      "source": [
        "# **String Format**\n"
      ]
    },
    {
      "cell_type": "markdown",
      "metadata": {
        "id": "upfkSGhczDXj",
        "colab_type": "text"
      },
      "source": [
        "**String**\n",
        "\n",
        "- A string is a sequence of charactes\n",
        "- It is immutable.\n",
        "- It is created by enclosing text with single/double/triple quotes"
      ]
    },
    {
      "cell_type": "code",
      "metadata": {
        "id": "o8_KH5xaa49j",
        "colab_type": "code",
        "outputId": "cccf5f09-a525-453f-f533-c396bd7058f6",
        "colab": {
          "base_uri": "https://localhost:8080/"
        }
      },
      "source": [
        "#Method-1\n",
        "\n",
        "age = 36\n",
        "txt = \"My name is John, and I am {}\"\n",
        "print(txt.format(age))"
      ],
      "execution_count": 0,
      "outputs": [
        {
          "output_type": "stream",
          "text": [
            "My name is John, and I am 36\n"
          ],
          "name": "stdout"
        }
      ]
    },
    {
      "cell_type": "code",
      "metadata": {
        "id": "ABKN-yGAp2sI",
        "colab_type": "code",
        "outputId": "7acc6628-b568-489e-c86f-91ba4c493ec1",
        "colab": {
          "base_uri": "https://localhost:8080/"
        }
      },
      "source": [
        "print('this is a string {}'.format('inserted'))"
      ],
      "execution_count": 0,
      "outputs": [
        {
          "output_type": "stream",
          "text": [
            "this is a string inserted\n"
          ],
          "name": "stdout"
        }
      ]
    },
    {
      "cell_type": "code",
      "metadata": {
        "id": "QqszugqOq0q9",
        "colab_type": "code",
        "outputId": "1ef619fe-6f02-49fa-e9b4-c6ca44d79c1e",
        "colab": {
          "base_uri": "https://localhost:8080/"
        }
      },
      "source": [
        "print(\"the {} {} {}\".format(\"big\", \"brown\", \"bear\"))"
      ],
      "execution_count": 0,
      "outputs": [
        {
          "output_type": "stream",
          "text": [
            "the big brown bear\n"
          ],
          "name": "stdout"
        }
      ]
    },
    {
      "cell_type": "code",
      "metadata": {
        "id": "ffC_7ZD8rb4T",
        "colab_type": "code",
        "outputId": "d5fe7d2a-46e9-43e6-aef0-186401d3a3a6",
        "colab": {
          "base_uri": "https://localhost:8080/"
        }
      },
      "source": [
        "print(\"the {1} {0} {2}\".format(\"big\", \"brown\", \"bear\"))"
      ],
      "execution_count": 0,
      "outputs": [
        {
          "output_type": "stream",
          "text": [
            "the brown big bear\n"
          ],
          "name": "stdout"
        }
      ]
    },
    {
      "cell_type": "code",
      "metadata": {
        "id": "_10DyDrsrq1Y",
        "colab_type": "code",
        "outputId": "df83c67f-bc80-4ee6-e524-cf8ff27d283f",
        "colab": {
          "base_uri": "https://localhost:8080/"
        }
      },
      "source": [
        "print(\"the {0} {0} {0}\".format(\"big\", \"brown\", \"bear\"))"
      ],
      "execution_count": 0,
      "outputs": [
        {
          "output_type": "stream",
          "text": [
            "the big big big\n"
          ],
          "name": "stdout"
        }
      ]
    },
    {
      "cell_type": "code",
      "metadata": {
        "id": "lQeYTdGpr6zc",
        "colab_type": "code",
        "outputId": "b9ae8681-4fe2-4269-d2df-7c31950b1763",
        "colab": {
          "base_uri": "https://localhost:8080/"
        }
      },
      "source": [
        "print(\"the {f} {s} {d}\".format(f=\"big\", s = \"brown\", d = \"bear\"))"
      ],
      "execution_count": 0,
      "outputs": [
        {
          "output_type": "stream",
          "text": [
            "the big brown bear\n"
          ],
          "name": "stdout"
        }
      ]
    },
    {
      "cell_type": "markdown",
      "metadata": {
        "id": "BkWY34D8AYg5",
        "colab_type": "text"
      },
      "source": [
        "# **Float formatting**\n"
      ]
    },
    {
      "cell_type": "markdown",
      "metadata": {
        "id": "4Um0fnpLdaWW",
        "colab_type": "text"
      },
      "source": [
        "**syntax**\n",
        "`{value:width.precison f}`\n"
      ]
    },
    {
      "cell_type": "code",
      "metadata": {
        "id": "FD_rLrw6_ilI",
        "colab_type": "code",
        "outputId": "dd78e1c1-c2f3-4512-af67-51ae9194f44b",
        "colab": {
          "base_uri": "https://localhost:8080/"
        }
      },
      "source": [
        "result = 22/7\n",
        "print(\"the result is {r}\".format(r = result))"
      ],
      "execution_count": 0,
      "outputs": [
        {
          "output_type": "stream",
          "text": [
            "the result is 3.142857142857143\n"
          ],
          "name": "stdout"
        }
      ]
    },
    {
      "cell_type": "code",
      "metadata": {
        "id": "VqcdXQAqAzOc",
        "colab_type": "code",
        "outputId": "791ad83f-a2bb-4831-d875-49c78a888a3e",
        "colab": {
          "base_uri": "https://localhost:8080/"
        }
      },
      "source": [
        "result = 22/7\n",
        "print(\"the result is {r:10.5f}\".format(r = result))"
      ],
      "execution_count": 0,
      "outputs": [
        {
          "output_type": "stream",
          "text": [
            "the result is    3.14286\n"
          ],
          "name": "stdout"
        }
      ]
    },
    {
      "cell_type": "code",
      "metadata": {
        "id": "Psszq0y6BaOt",
        "colab_type": "code",
        "outputId": "8e1a6505-34fd-460e-d88b-4583b913ee6e",
        "colab": {
          "base_uri": "https://localhost:8080/"
        }
      },
      "source": [
        "name = \"faizy\"\n",
        "print(\"hello my name is {}\".format(name))"
      ],
      "execution_count": 0,
      "outputs": [
        {
          "output_type": "stream",
          "text": [
            "hello my name is faizy\n"
          ],
          "name": "stdout"
        }
      ]
    },
    {
      "cell_type": "code",
      "metadata": {
        "colab_type": "code",
        "outputId": "5fa71c23-8b0e-4172-b744-c4e62a295509",
        "id": "89QCE2_7B_2k",
        "colab": {
          "base_uri": "https://localhost:8080/"
        }
      },
      "source": [
        "name = \"faizy\"\n",
        "print(f\"hello! my name is {name}\")"
      ],
      "execution_count": 0,
      "outputs": [
        {
          "output_type": "stream",
          "text": [
            "hello! my name is faizy\n"
          ],
          "name": "stdout"
        }
      ]
    },
    {
      "cell_type": "code",
      "metadata": {
        "id": "5bBVond-CTeR",
        "colab_type": "code",
        "outputId": "442c7e4a-6cf6-46cf-e82c-ab3e9386147c",
        "colab": {
          "base_uri": "https://localhost:8080/"
        }
      },
      "source": [
        "name = \"faizy\"\n",
        "collage = \"Jamia Millia Islamia\"\n",
        "print(f\"hello my name is {name} and i studied in {collage}\")\n"
      ],
      "execution_count": 0,
      "outputs": [
        {
          "output_type": "stream",
          "text": [
            "hello my name is faizy and i studied in Jamia Millia Islamia\n"
          ],
          "name": "stdout"
        }
      ]
    },
    {
      "cell_type": "markdown",
      "metadata": {
        "id": "VvsdWHLwPc9K",
        "colab_type": "text"
      },
      "source": [
        "# **Mutable vs Immutable**"
      ]
    },
    {
      "cell_type": "markdown",
      "metadata": {
        "id": "gL0rAhOEPMKO",
        "colab_type": "text"
      },
      "source": [
        "<img src = 'https://miro.medium.com/max/1400/1*oErPCXv1PFcuuizXqGEEbw.png'>\n",
        "\n"
      ]
    },
    {
      "cell_type": "markdown",
      "metadata": {
        "id": "mKjrzZ0CPaha",
        "colab_type": "text"
      },
      "source": [
        "<center><img src = 'https://miro.medium.com/max/1316/1*uFlTNY4W3czywyU18zxl8w.png'></center>\n"
      ]
    },
    {
      "cell_type": "markdown",
      "metadata": {
        "id": "rKm0-IteUNG-",
        "colab_type": "text"
      },
      "source": [
        "# **Strings** `'Hello Wolrd'` `im_mutable`"
      ]
    },
    {
      "cell_type": "markdown",
      "metadata": {
        "id": "4XVnMex2UXIG",
        "colab_type": "text"
      },
      "source": [
        "- Strings are the sequence of characters using the syntax of either single quotes or double.\n",
        "\n",
        "\n",
        "```\n",
        "\"hello World\"\n",
        "'hello'\n",
        "```\n",
        "\n",
        "- A string is a **sequence** of charactes.\n",
        "\n",
        "- It is **immutable**.\n",
        "\n",
        "- It is created by enclosing text with single/double/triple quotes"
      ]
    },
    {
      "cell_type": "markdown",
      "metadata": {
        "id": "z7bvZExqE2yN",
        "colab_type": "text"
      },
      "source": [
        "# **List** `[]` `mutable`, `ordered`, `Allows duplicate`\n",
        "\n"
      ]
    },
    {
      "cell_type": "markdown",
      "metadata": {
        "id": "mNFaq-OlODqS",
        "colab_type": "text"
      },
      "source": [
        "\n",
        "- List is an **ordered** collection of data.\n",
        "\n",
        "- It is **mutable** and **allow duplicates**.\n",
        "\n",
        "-It list is created by enclosing the data items with in **square brackets** delimited by \",\"\n",
        "\n"
      ]
    },
    {
      "cell_type": "code",
      "metadata": {
        "id": "bqAITq6UF6IF",
        "colab_type": "code",
        "outputId": "d5a25949-150b-40f7-91c4-de22dbd043ca",
        "colab": {
          "base_uri": "https://localhost:8080/"
        }
      },
      "source": [
        "my_list = ['string', 100, 23.4,6,'monkey',7,8,10]\n",
        "\n",
        "'''\n",
        "syntax[start:stop:step]\n",
        "\n",
        "'''\n",
        "print(type(my_list))\n",
        "print(len(my_list))\n",
        "print(my_list[0])\n",
        "print(my_list[2:])\n",
        "print(my_list[:2])\n",
        "print(my_list[0:6:2])\n",
        "print(my_list[0::2])\n",
        "print(my_list[0:6:])\n",
        "print(my_list[:6:2])"
      ],
      "execution_count": 0,
      "outputs": [
        {
          "output_type": "stream",
          "text": [
            "<class 'list'>\n",
            "8\n",
            "string\n",
            "[23.4, 6, 'monkey', 7, 8, 10]\n",
            "['string', 100]\n",
            "['string', 23.4, 'monkey']\n",
            "['string', 23.4, 'monkey', 8]\n",
            "['string', 100, 23.4, 6, 'monkey', 7]\n",
            "['string', 23.4, 'monkey']\n"
          ],
          "name": "stdout"
        }
      ]
    },
    {
      "cell_type": "code",
      "metadata": {
        "id": "Z_4T1_kXwlo3",
        "colab_type": "code",
        "outputId": "da63ba6f-1f84-45cf-f9ad-7355aacb9361",
        "colab": {
          "base_uri": "https://localhost:8080/"
        }
      },
      "source": [
        "#list Concatination\n",
        "my_list_1 = ['bear', 100, 23.4,6,'monkey',7,'cat',10]\n",
        "my_list_2 = ['home',78, 23.4,6,'key',7,'room',10]\n",
        "my_list_3 = my_list_1 + my_list_2\n",
        "print(my_list_3)"
      ],
      "execution_count": 0,
      "outputs": [
        {
          "output_type": "stream",
          "text": [
            "['bear', 100, 23.4, 6, 'monkey', 7, 'cat', 10, 'home', 78, 23.4, 6, 'key', 7, 'room', 10]\n"
          ],
          "name": "stdout"
        }
      ]
    },
    {
      "cell_type": "code",
      "metadata": {
        "id": "08d8rVKRyHcm",
        "colab_type": "code",
        "outputId": "42c7e6ac-574b-460c-8ecf-19bac7753793",
        "colab": {
          "base_uri": "https://localhost:8080/"
        }
      },
      "source": [
        "my_list_1"
      ],
      "execution_count": 0,
      "outputs": [
        {
          "output_type": "execute_result",
          "data": {
            "text/plain": [
              "['bear', 100, 23.4, 6, 'monkey', 7, 'cat', 10]"
            ]
          },
          "metadata": {
            "tags": []
          },
          "execution_count": 34
        }
      ]
    },
    {
      "cell_type": "code",
      "metadata": {
        "id": "EW8vTwIcytkF",
        "colab_type": "code",
        "outputId": "6e0a6c90-fbed-4c2b-afc9-f4dc4d154e0b",
        "colab": {
          "base_uri": "https://localhost:8080/"
        }
      },
      "source": [
        "#List are mutable\n",
        "my_list_1[0] = 'lion'\n",
        "print(my_list_1)"
      ],
      "execution_count": 0,
      "outputs": [
        {
          "output_type": "stream",
          "text": [
            "['lion', 100, 23.4, 6, 'monkey', 7, 'cat', 10]\n"
          ],
          "name": "stdout"
        }
      ]
    },
    {
      "cell_type": "code",
      "metadata": {
        "id": "aYtcHbMwz9x6",
        "colab_type": "code",
        "outputId": "95593c59-f4f0-45f9-bb09-a51ce8318893",
        "colab": {
          "base_uri": "https://localhost:8080/"
        }
      },
      "source": [
        "#adding item to the list\n",
        "my_list_1.append('tiger')\n",
        "print(my_list_1)"
      ],
      "execution_count": 0,
      "outputs": [
        {
          "output_type": "stream",
          "text": [
            "['lion', 100, 23.4, 6, 'monkey', 7, 'cat', 10, 'tiger']\n"
          ],
          "name": "stdout"
        }
      ]
    },
    {
      "cell_type": "markdown",
      "metadata": {
        "id": "3BZdpK1x1j_K",
        "colab_type": "text"
      },
      "source": [
        "**pop()** is an inbuilt function in Python that *removes and returns* **last value** from the list or the given **index value**\n",
        "\n",
        "- by default index location is [-1]\n"
      ]
    },
    {
      "cell_type": "code",
      "metadata": {
        "id": "iRs6zkMq0Xzj",
        "colab_type": "code",
        "outputId": "e0f957b1-605f-49cd-d442-9de85be8fefb",
        "colab": {
          "base_uri": "https://localhost:8080/"
        }
      },
      "source": [
        "#removing the item form the list\n",
        "my_list_1.pop()\n",
        "print(my_list_1)"
      ],
      "execution_count": 0,
      "outputs": [
        {
          "output_type": "stream",
          "text": [
            "['lion', 100, 23.4, 6, 'monkey', 7, 'cat', 10]\n"
          ],
          "name": "stdout"
        }
      ]
    },
    {
      "cell_type": "markdown",
      "metadata": {
        "id": "wyeUkcxY2cK8",
        "colab_type": "text"
      },
      "source": [
        "**Sorting the list**"
      ]
    },
    {
      "cell_type": "code",
      "metadata": {
        "id": "p4qFNT3w2jHJ",
        "colab_type": "code",
        "outputId": "5beb4081-3350-46f6-ba46-06f4d356dec8",
        "colab": {
          "base_uri": "https://localhost:8080/"
        }
      },
      "source": [
        "new_list_1 = ['b', 'd', 'f', 'a', 'c', 'e']\n",
        "new_list_2 = [2, 4, 6, 8, 1, 3, 5, 7, 9]\n",
        "\n",
        "new_list_1.sort()\n",
        "new_list_2.sort()\n",
        "\n",
        "print(new_list_1)\n",
        "print(new_list_2)"
      ],
      "execution_count": 0,
      "outputs": [
        {
          "output_type": "stream",
          "text": [
            "['a', 'b', 'c', 'd', 'e', 'f']\n",
            "[1, 2, 3, 4, 5, 6, 7, 8, 9]\n"
          ],
          "name": "stdout"
        }
      ]
    },
    {
      "cell_type": "markdown",
      "metadata": {
        "id": "19M0qXG63veW",
        "colab_type": "text"
      },
      "source": [
        "- In Python, **None** keyword is an object, and it is a **data type** of the class **NoneType**.\n",
        "\n",
        "- We can assign None to any variable, but you can not create other NoneType objects. \n",
        "\n",
        "- New instances of None are not created."
      ]
    },
    {
      "cell_type": "code",
      "metadata": {
        "id": "aIawg_0s4K4Y",
        "colab_type": "code",
        "outputId": "0695f193-8351-4b91-f415-cd2f8499cc5b",
        "colab": {
          "base_uri": "https://localhost:8080/"
        }
      },
      "source": [
        "new_list_3 = [1, 2, 3, 4, 5, 6, 7, 8, 9]\n",
        "new_list_3.reverse()\n",
        "print(new_list_3)"
      ],
      "execution_count": 0,
      "outputs": [
        {
          "output_type": "stream",
          "text": [
            "[9, 8, 7, 6, 5, 4, 3, 2, 1]\n"
          ],
          "name": "stdout"
        }
      ]
    },
    {
      "cell_type": "markdown",
      "metadata": {
        "id": "z-7qjmvR4w3C",
        "colab_type": "text"
      },
      "source": [
        "# **Dictionary** `{key:value}` `mutable`, `unordered`\n",
        "\n"
      ]
    },
    {
      "cell_type": "markdown",
      "metadata": {
        "id": "xejmR-ct457J",
        "colab_type": "text"
      },
      "source": [
        "- **Dictionary** is an **unordered collection** of key-values pairs.\n",
        "\n",
        "- It is **mutable**.\n",
        "\n",
        "- It is created by enclosing the **key-value parirs (key:value)** with in **curly brackets** delimited by `\",\"`"
      ]
    },
    {
      "cell_type": "code",
      "metadata": {
        "id": "7uwHY9CZ4vTb",
        "colab_type": "code",
        "outputId": "206dc6d8-a038-44c0-85cf-33c0bf9b5d71",
        "colab": {
          "base_uri": "https://localhost:8080/"
        }
      },
      "source": [
        "price_lookup = {'apple':100, 'banana':40, 'milk':29}\n",
        "price_lookup['apple']"
      ],
      "execution_count": 0,
      "outputs": [
        {
          "output_type": "execute_result",
          "data": {
            "text/plain": [
              "100"
            ]
          },
          "metadata": {
            "tags": []
          },
          "execution_count": 40
        }
      ]
    },
    {
      "cell_type": "code",
      "metadata": {
        "id": "ixSZieUXABSv",
        "colab_type": "code",
        "outputId": "8db13e46-511f-4e5c-96fc-3ae2945160bc",
        "colab": {
          "base_uri": "https://localhost:8080/"
        }
      },
      "source": [
        "d = {'k1':123, 'k2':[0, 1, 2], 'k3':{'inside_key':100}, 'k4':['apple', 'ball', 'cat']}\n",
        "print(d['k1'])\n",
        "print(d['k2'])\n",
        "print(d['k2'][2])\n",
        "print(d['k3']['inside_key'])\n",
        "\n",
        "d2 = d['k4'][1]\n",
        "print(d2.upper())\n",
        "\n",
        "print(d['k4'][2].upper())"
      ],
      "execution_count": 0,
      "outputs": [
        {
          "output_type": "stream",
          "text": [
            "123\n",
            "[0, 1, 2]\n",
            "2\n",
            "100\n",
            "BALL\n",
            "CAT\n"
          ],
          "name": "stdout"
        }
      ]
    },
    {
      "cell_type": "code",
      "metadata": {
        "id": "bu01fsPeGt1M",
        "colab_type": "code",
        "outputId": "687d690d-d940-4cbf-9416-e4047a021f9d",
        "colab": {
          "base_uri": "https://localhost:8080/"
        }
      },
      "source": [
        "#adding new key:value pairs\n",
        "my_dic = {'k1':100, 'k2':200, 'k3':300}\n",
        "my_dic['k4'] = 400\n",
        "print(my_dic)"
      ],
      "execution_count": 0,
      "outputs": [
        {
          "output_type": "stream",
          "text": [
            "{'k1': 100, 'k2': 200, 'k3': 300, 'k4': 400}\n"
          ],
          "name": "stdout"
        }
      ]
    },
    {
      "cell_type": "code",
      "metadata": {
        "colab_type": "code",
        "outputId": "d191d313-6a7a-457d-8a16-6896b94b9f39",
        "id": "_yHE4LuBHp35",
        "colab": {
          "base_uri": "https://localhost:8080/"
        }
      },
      "source": [
        "#Overwriting key:value pairs\n",
        "my_dic = {'k1':100, 'k2':200, 'k3':300}\n",
        "my_dic['k2'] = 'New Value'\n",
        "print(my_dic)"
      ],
      "execution_count": 0,
      "outputs": [
        {
          "output_type": "stream",
          "text": [
            "{'k1': 100, 'k2': 'New Value', 'k3': 300}\n"
          ],
          "name": "stdout"
        }
      ]
    },
    {
      "cell_type": "code",
      "metadata": {
        "id": "LJeJ1R3lH-GT",
        "colab_type": "code",
        "outputId": "7b789a64-5e61-4f22-f8a3-c1f0779709d2",
        "colab": {
          "base_uri": "https://localhost:8080/"
        }
      },
      "source": [
        "my_dic = {'k1':100, 'k2':200, 'k3':300}\n",
        "my_dic.keys()"
      ],
      "execution_count": 0,
      "outputs": [
        {
          "output_type": "execute_result",
          "data": {
            "text/plain": [
              "dict_keys(['k1', 'k2', 'k3'])"
            ]
          },
          "metadata": {
            "tags": []
          },
          "execution_count": 44
        }
      ]
    },
    {
      "cell_type": "code",
      "metadata": {
        "id": "H72rN3dqILHM",
        "colab_type": "code",
        "outputId": "272583da-504b-45ef-ff82-ce14b5811591",
        "colab": {
          "base_uri": "https://localhost:8080/"
        }
      },
      "source": [
        "my_dic = {'k1':100, 'k2':200, 'k3':300}\n",
        "my_dic.values()"
      ],
      "execution_count": 0,
      "outputs": [
        {
          "output_type": "execute_result",
          "data": {
            "text/plain": [
              "dict_values([100, 200, 300])"
            ]
          },
          "metadata": {
            "tags": []
          },
          "execution_count": 45
        }
      ]
    },
    {
      "cell_type": "code",
      "metadata": {
        "id": "ocHfbvxKIno1",
        "colab_type": "code",
        "outputId": "173e49dd-8cbd-4c52-c425-464b5689d961",
        "colab": {
          "base_uri": "https://localhost:8080/"
        }
      },
      "source": [
        "'''\n",
        "return Tuple\n",
        "\n",
        "'''\n",
        "my_dic = {'k1':100, 'k2':200, 'k3':300}\n",
        "my_dic.items()"
      ],
      "execution_count": 0,
      "outputs": [
        {
          "output_type": "execute_result",
          "data": {
            "text/plain": [
              "dict_items([('k1', 100), ('k2', 200), ('k3', 300)])"
            ]
          },
          "metadata": {
            "tags": []
          },
          "execution_count": 46
        }
      ]
    },
    {
      "cell_type": "markdown",
      "metadata": {
        "id": "k5CMWes7Nyvk",
        "colab_type": "text"
      },
      "source": [
        "# **Tuples** `()`,`im_mutable`, `ordered`, `Duplicates allowed`\n",
        "\n"
      ]
    },
    {
      "cell_type": "markdown",
      "metadata": {
        "id": "mJrvVBCPN5L9",
        "colab_type": "text"
      },
      "source": [
        "- They are very similar to the lists.key difference is **immutability**.\n",
        "\n",
        "- Once an element inside a tuple it cannot be reassigned to something else.\n",
        "\n",
        "- Tuples uses paranthesis:**(1, 2, 3)**\n",
        "\n",
        "- Tuple is an **ordered collection** of data.\n",
        "\n",
        "- It is **immutable** and **allow duplicates**.\n",
        "\n",
        "- It list is created by enclosing the data items with in round brackets delimited by \",\""
      ]
    },
    {
      "cell_type": "code",
      "metadata": {
        "id": "ZF1dHQJXb3Li",
        "colab_type": "code",
        "outputId": "8dd27573-41d9-4656-9cef-c97d4c345e1f",
        "colab": {
          "base_uri": "https://localhost:8080/",
          "height": 52
        }
      },
      "source": [
        "t = ('a','a', 'b', 'e', 'f', 'c', 'c', 'c')\n",
        "print(t.count('c'))\n",
        "print(t.index('c')) #this return the very first time 'c' appers \n"
      ],
      "execution_count": 0,
      "outputs": [
        {
          "output_type": "stream",
          "text": [
            "3\n",
            "5\n"
          ],
          "name": "stdout"
        }
      ]
    },
    {
      "cell_type": "code",
      "metadata": {
        "id": "2hppnTbXc-r7",
        "colab_type": "code",
        "outputId": "4966ff3c-0957-4063-8979-563975cff007",
        "colab": {
          "base_uri": "https://localhost:8080/",
          "height": 176
        }
      },
      "source": [
        "# simple Slicing Tuples\n",
        "\n",
        "t = (0, 1, 2, 3, 4, 5, 6, 7, 8, 9, 10, 11, 12, 13)\n",
        "print(type(t))\n",
        "print(len(t))\n",
        "\n",
        "print(t[0])\n",
        "print(t[2:])\n",
        "print(t[:2])\n",
        "print(t[0:6:2])\n",
        "print(t[0::2])\n",
        "print(t[0:6:])\n",
        "print(t[:6:2])"
      ],
      "execution_count": 0,
      "outputs": [
        {
          "output_type": "stream",
          "text": [
            "<class 'tuple'>\n",
            "14\n",
            "0\n",
            "(2, 3, 4, 5, 6, 7, 8, 9, 10, 11, 12, 13)\n",
            "(0, 1)\n",
            "(0, 2, 4)\n",
            "(0, 2, 4, 6, 8, 10, 12)\n",
            "(0, 1, 2, 3, 4, 5)\n",
            "(0, 2, 4)\n"
          ],
          "name": "stdout"
        }
      ]
    },
    {
      "cell_type": "code",
      "metadata": {
        "id": "0newOSpvQ3Oi",
        "colab_type": "code",
        "outputId": "7e175a40-d15d-4f1c-978d-ff739e0615c4",
        "colab": {
          "base_uri": "https://localhost:8080/",
          "height": 176
        }
      },
      "source": [
        "# Slicing Tuples\n",
        "\n",
        "t = (['a', 2, 'c', 4], {'k1': 100}, {'k2':['apple', 'ball', 'cat']})\n",
        "\n",
        "print(type(t))\n",
        "print(len(t))\n",
        "\n",
        "print(t[0])\n",
        "print(t[2:])\n",
        "print(t[:2])\n",
        "print(t[0:1:2])\n",
        "print(t[0::2])\n",
        "print(t[0:1:])\n",
        "print(t[:1:2])\n",
        "\n"
      ],
      "execution_count": 0,
      "outputs": [
        {
          "output_type": "stream",
          "text": [
            "<class 'tuple'>\n",
            "3\n",
            "['a', 2, 'c', 4]\n",
            "({'k2': ['apple', 'ball', 'cat']},)\n",
            "(['a', 2, 'c', 4], {'k1': 100})\n",
            "(['a', 2, 'c', 4],)\n",
            "(['a', 2, 'c', 4], {'k2': ['apple', 'ball', 'cat']})\n",
            "(['a', 2, 'c', 4],)\n",
            "(['a', 2, 'c', 4],)\n"
          ],
          "name": "stdout"
        }
      ]
    },
    {
      "cell_type": "code",
      "metadata": {
        "id": "GKFhBsZ7Zv3G",
        "colab_type": "code",
        "colab": {}
      },
      "source": [
        "t = (['a', 2, 'c', 4], {'k1': 100}, {'k2':['apple', 'ball', 'cat']})"
      ],
      "execution_count": 0,
      "outputs": []
    },
    {
      "cell_type": "markdown",
      "metadata": {
        "id": "USOEx0qgJnim",
        "colab_type": "text"
      },
      "source": [
        "Tuple provides us the convenient source of whats is known as **data integratity**\n",
        "\n",
        "- Main use of tuples is when we are passing the **objects** in our program, we need to make sure that theyacciedntly get changed\n",
        "\n",
        "```\n",
        "TypeError: 'tuple' object does not support item assignment\n",
        "```\n",
        "\n"
      ]
    },
    {
      "cell_type": "code",
      "metadata": {
        "id": "5YDCAdp_eICP",
        "colab_type": "code",
        "outputId": "5857a01a-88d7-47d1-edc0-244fe3969090",
        "colab": {
          "base_uri": "https://localhost:8080/",
          "height": 185
        }
      },
      "source": [
        "t = ('a', 1, 4, 'ONE', 'apple')\n",
        "t[0] = 'New'"
      ],
      "execution_count": 0,
      "outputs": [
        {
          "output_type": "error",
          "ename": "TypeError",
          "evalue": "ignored",
          "traceback": [
            "\u001b[0;31m---------------------------------------------------------------------------\u001b[0m",
            "\u001b[0;31mTypeError\u001b[0m                                 Traceback (most recent call last)",
            "\u001b[0;32m<ipython-input-51-5371bb59b9a0>\u001b[0m in \u001b[0;36m<module>\u001b[0;34m()\u001b[0m\n\u001b[1;32m      1\u001b[0m \u001b[0mt\u001b[0m \u001b[0;34m=\u001b[0m \u001b[0;34m(\u001b[0m\u001b[0;34m'a'\u001b[0m\u001b[0;34m,\u001b[0m \u001b[0;36m1\u001b[0m\u001b[0;34m,\u001b[0m \u001b[0;36m4\u001b[0m\u001b[0;34m,\u001b[0m \u001b[0;34m'ONE'\u001b[0m\u001b[0;34m,\u001b[0m \u001b[0;34m'apple'\u001b[0m\u001b[0;34m)\u001b[0m\u001b[0;34m\u001b[0m\u001b[0;34m\u001b[0m\u001b[0m\n\u001b[0;32m----> 2\u001b[0;31m \u001b[0mt\u001b[0m\u001b[0;34m[\u001b[0m\u001b[0;36m0\u001b[0m\u001b[0;34m]\u001b[0m \u001b[0;34m=\u001b[0m \u001b[0;34m'New'\u001b[0m\u001b[0;34m\u001b[0m\u001b[0;34m\u001b[0m\u001b[0m\n\u001b[0m",
            "\u001b[0;31mTypeError\u001b[0m: 'tuple' object does not support item assignment"
          ]
        }
      ]
    },
    {
      "cell_type": "markdown",
      "metadata": {
        "id": "V6d0EImNK-zZ",
        "colab_type": "text"
      },
      "source": [
        "- Tuples are faster than lists.\n",
        "\n",
        "- It makes your code safer if you “write-protect” data that does not need to be changed.\n",
        "\n",
        "- Some tuples can be used as **dictionary keys** (specifically, tuples that contain **immutable value**s like strings, numbers, and other tuples)."
      ]
    },
    {
      "cell_type": "markdown",
      "metadata": {
        "id": "LPkW_EZCNBnR",
        "colab_type": "text"
      },
      "source": [
        "# **Sets** {}, `mutable`, `unordered`, `No duplicate`"
      ]
    },
    {
      "cell_type": "markdown",
      "metadata": {
        "id": "xXw-x8OfNJ0-",
        "colab_type": "text"
      },
      "source": [
        "- Set is an **unordered** collection of data, e.g- we can have say 2 in the set **more then one time**.\n",
        "\n",
        "- It is mutable and **does not allow duplicates**.\n",
        "\n",
        "- It is created by enclosing the data items with in curly brackets delimited by \","
      ]
    },
    {
      "cell_type": "code",
      "metadata": {
        "id": "c9AJdnLkZzx9",
        "colab_type": "code",
        "colab": {}
      },
      "source": [
        "myset = set()\n",
        "\n",
        "myset.add(1)\n",
        "print(myset)\n",
        "\n",
        "myset.add(2)\n",
        "print(myset)\n",
        "\n",
        "\n",
        "myset.add(2)\n",
        "print(myset) #it has to be unique to get added to the set\n",
        "\n",
        "myset.add(5)\n",
        "print(myset)"
      ],
      "execution_count": 0,
      "outputs": []
    },
    {
      "cell_type": "code",
      "metadata": {
        "id": "rr_ArHBSbSfy",
        "colab_type": "code",
        "colab": {}
      },
      "source": [
        "mylist = [1, 1, 1, 1, 2, 2, 3, 3, 3, 4, 5, 6, 6, 6, 7, 7, 8, 8, 9, 9]\n",
        "print(set(mylist)) "
      ],
      "execution_count": 0,
      "outputs": []
    },
    {
      "cell_type": "code",
      "metadata": {
        "id": "d3Hob6lndtrj",
        "colab_type": "code",
        "colab": {}
      },
      "source": [
        "set('Mississippi')"
      ],
      "execution_count": 0,
      "outputs": []
    },
    {
      "cell_type": "markdown",
      "metadata": {
        "id": "B9CaBrb6eAIh",
        "colab_type": "text"
      },
      "source": [
        "# **Booleans** **True/False**"
      ]
    },
    {
      "cell_type": "markdown",
      "metadata": {
        "id": "o-loBw5fgvOX",
        "colab_type": "text"
      },
      "source": [
        "- **Booleans** are the operaters that allow you to convey **True** or **false** statements.\n",
        "\n",
        "- These are important where we have to deal with control flow and logic!"
      ]
    },
    {
      "cell_type": "code",
      "metadata": {
        "id": "G7x2mhTlht6G",
        "colab_type": "code",
        "colab": {}
      },
      "source": [
        " print(type(True))\n",
        " print(type(False))"
      ],
      "execution_count": 0,
      "outputs": []
    },
    {
      "cell_type": "code",
      "metadata": {
        "id": "Tyouukrjh-Si",
        "colab_type": "code",
        "colab": {}
      },
      "source": [
        "1 > 2"
      ],
      "execution_count": 0,
      "outputs": []
    },
    {
      "cell_type": "code",
      "metadata": {
        "id": "mREtcBSNiN_u",
        "colab_type": "code",
        "colab": {}
      },
      "source": [
        "1 == 1"
      ],
      "execution_count": 0,
      "outputs": []
    },
    {
      "cell_type": "code",
      "metadata": {
        "id": "fvytpaShiVq3",
        "colab_type": "code",
        "colab": {}
      },
      "source": [
        "b = None #used as a placeholder\n",
        "print(b)"
      ],
      "execution_count": 0,
      "outputs": []
    },
    {
      "cell_type": "markdown",
      "metadata": {
        "id": "2uh8xHGqqXxj",
        "colab_type": "text"
      },
      "source": [
        "# **I/O with Basic Files in Python**"
      ]
    },
    {
      "cell_type": "code",
      "metadata": {
        "id": "Ip8ueqQ48r2t",
        "colab_type": "code",
        "colab": {}
      },
      "source": [
        "# writing my file\n",
        "\n",
        "%%writefile myfile.txt\n",
        "Hello my name is mohd faizy\n",
        "i have completed my masters form JMI\n",
        "& i am a Machine learning enthusiastic"
      ],
      "execution_count": 0,
      "outputs": []
    },
    {
      "cell_type": "code",
      "metadata": {
        "id": "WOB7s-JhAkjI",
        "colab_type": "code",
        "colab": {}
      },
      "source": [
        "ls"
      ],
      "execution_count": 0,
      "outputs": []
    },
    {
      "cell_type": "code",
      "metadata": {
        "id": "M6OgXYDoAnWB",
        "colab_type": "code",
        "colab": {}
      },
      "source": [
        "pwd"
      ],
      "execution_count": 0,
      "outputs": []
    },
    {
      "cell_type": "code",
      "metadata": {
        "id": "SiXvUxwu_8uz",
        "colab_type": "code",
        "colab": {}
      },
      "source": [
        "myfile = open('/content/myfile.txt')"
      ],
      "execution_count": 0,
      "outputs": []
    },
    {
      "cell_type": "code",
      "metadata": {
        "id": "qXBHwfvgHYBC",
        "colab_type": "code",
        "colab": {}
      },
      "source": [
        "#this will output everything as a single string\n",
        "myfile.read()"
      ],
      "execution_count": 0,
      "outputs": []
    },
    {
      "cell_type": "markdown",
      "metadata": {
        "id": "KT8PpY1cH5ID",
        "colab_type": "text"
      },
      "source": [
        "- if we run this again we recive an empty string this happen because there a cursor at the begining of a file and when you read it the cursor goes all the way to the end.\n",
        "        \n"
      ]
    },
    {
      "cell_type": "code",
      "metadata": {
        "id": "U7h07PZAHpc8",
        "colab_type": "code",
        "colab": {}
      },
      "source": [
        "myfile.read() "
      ],
      "execution_count": 0,
      "outputs": []
    },
    {
      "cell_type": "markdown",
      "metadata": {
        "id": "Bcs3vf27Ix7r",
        "colab_type": "text"
      },
      "source": [
        "- in order to read this file again we have to reset the cursor"
      ]
    },
    {
      "cell_type": "code",
      "metadata": {
        "id": "vxEHfaB_JAEr",
        "colab_type": "code",
        "colab": {}
      },
      "source": [
        "# reseting he cursor\n",
        "myfile.seek(0)"
      ],
      "execution_count": 0,
      "outputs": []
    },
    {
      "cell_type": "code",
      "metadata": {
        "id": "g3D97zHvJJMC",
        "colab_type": "code",
        "colab": {}
      },
      "source": [
        "myfile.read()"
      ],
      "execution_count": 0,
      "outputs": []
    },
    {
      "cell_type": "code",
      "metadata": {
        "id": "6oKwrumRRJdz",
        "colab_type": "code",
        "colab": {}
      },
      "source": [
        "myfile.seek(0)\n",
        "myfile.readlines()"
      ],
      "execution_count": 0,
      "outputs": []
    },
    {
      "cell_type": "code",
      "metadata": {
        "id": "BWMV_0n5Rgs1",
        "colab_type": "code",
        "colab": {}
      },
      "source": [
        "#closing the file\n",
        "myfile.close()"
      ],
      "execution_count": 0,
      "outputs": []
    },
    {
      "cell_type": "markdown",
      "metadata": {
        "id": "Lyna7NhXeq2a",
        "colab_type": "text"
      },
      "source": [
        "> __So any code within the indented code of block will use myfile as a varible of this text file$\\downarrow$__\n",
        "\n"
      ]
    },
    {
      "cell_type": "code",
      "metadata": {
        "id": "vpNFqK6jdSJl",
        "colab_type": "code",
        "colab": {}
      },
      "source": [
        "with open('/content/myfile.txt') as my_new_file:\n",
        "    content = my_new_file.read() \n",
        "print(content)                                          "
      ],
      "execution_count": 0,
      "outputs": []
    },
    {
      "cell_type": "code",
      "metadata": {
        "id": "JhRa6q8Gzhvb",
        "colab_type": "code",
        "colab": {}
      },
      "source": [
        "with open('/content/myfile.txt', mode = 'r') as myfile:\n",
        "    content = myfile.read()\n",
        "print(content)"
      ],
      "execution_count": 0,
      "outputs": []
    },
    {
      "cell_type": "code",
      "metadata": {
        "id": "gw3b2HKO0cXz",
        "colab_type": "code",
        "colab": {}
      },
      "source": [
        "with open('/content/myfile.txt', mode = 'w') as myfile:\n",
        "    content = myfile.read()\n",
        "print(content)"
      ],
      "execution_count": 0,
      "outputs": []
    },
    {
      "cell_type": "code",
      "metadata": {
        "id": "ekUZMMSo01fe",
        "colab_type": "code",
        "colab": {}
      },
      "source": [
        "#overwriting the files\n",
        "\n",
        "%%writefile myfile.txt\n",
        "One On first\n",
        "Two On second\n",
        "Three On Third"
      ],
      "execution_count": 0,
      "outputs": []
    },
    {
      "cell_type": "code",
      "metadata": {
        "id": "CYLeDowy1OFi",
        "colab_type": "code",
        "colab": {}
      },
      "source": [
        "with open('/content/myfile.txt', mode = 'r') as f:\n",
        "    print(f.read())"
      ],
      "execution_count": 0,
      "outputs": []
    },
    {
      "cell_type": "code",
      "metadata": {
        "id": "Il7hhHap2UEx",
        "colab_type": "code",
        "colab": {}
      },
      "source": [
        "# Adding the new line to this \n",
        "\n",
        "with open('/content/myfile', mode = 'a') as f:\n",
        "    f.write('\\nFour On Forth')\n"
      ],
      "execution_count": 0,
      "outputs": []
    },
    {
      "cell_type": "code",
      "metadata": {
        "id": "CnHcdh0q6OzB",
        "colab_type": "code",
        "colab": {}
      },
      "source": [
        "with open('/content/myfile.txt', mode = 'r') as f:\n",
        "    print(f.read())"
      ],
      "execution_count": 0,
      "outputs": []
    },
    {
      "cell_type": "code",
      "metadata": {
        "id": "u-XToBr-6s4T",
        "colab_type": "code",
        "colab": {}
      },
      "source": [
        "with open('/content/xyz.txt', mode = 'w') as f:\n",
        "    f.write('I created a new file')"
      ],
      "execution_count": 0,
      "outputs": []
    },
    {
      "cell_type": "code",
      "metadata": {
        "id": "SBXuLCCl7Qma",
        "colab_type": "code",
        "colab": {}
      },
      "source": [
        "with open('/content/xyz.txt', mode = 'r') as f:\n",
        "    print(f.read())"
      ],
      "execution_count": 0,
      "outputs": []
    },
    {
      "cell_type": "markdown",
      "metadata": {
        "id": "_QzwharE9aEc",
        "colab_type": "text"
      },
      "source": [
        "# __Resources for More Basic Practice__\n",
        "\n",
        "__Basic Practice:__\n",
        "\n",
        "http://codingbat.com/python\n",
        "\n",
        "__More Mathematical (and Harder) Practice:__\n",
        "\n",
        "https://projecteuler.net/archives\n",
        "\n",
        "__List of Practice Problems:__\n",
        "\n",
        "http://www.codeabbey.com/index/task_list\n",
        "\n",
        "__A SubReddit Devoted to Daily Practice Problems:__\n",
        "\n",
        "https://www.reddit.com/r/dailyprogrammer\n",
        "\n",
        "__A very tricky website with very few hints and touch problems (Not for beginners but still interesting)__\n",
        "\n",
        "http://www.pythonchallenge.com/"
      ]
    }
  ]
}