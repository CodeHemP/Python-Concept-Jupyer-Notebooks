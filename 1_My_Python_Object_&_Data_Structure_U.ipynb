{
  "nbformat": 4,
  "nbformat_minor": 0,
  "metadata": {
    "colab": {
      "name": "1.My_Python_Object_&_Data_Structure_U.ipynb",
      "provenance": [],
      "collapsed_sections": [
        "6isT6AIzSFxn",
        "2VSzQMfbAhbt",
        "1v76EYrFC0ur",
        "rZdVj53AptGE",
        "BkWY34D8AYg5",
        "VvsdWHLwPc9K",
        "rKm0-IteUNG-",
        "z7bvZExqE2yN",
        "z-7qjmvR4w3C",
        "k5CMWes7Nyvk",
        "LPkW_EZCNBnR",
        "B9CaBrb6eAIh",
        "2uh8xHGqqXxj",
        "9MH3wrztyJFw",
        "8egu6RqjhDad"
      ],
      "authorship_tag": "ABX9TyMyep8ZMT3+a49qGt3erltd",
      "include_colab_link": true
    },
    "kernelspec": {
      "name": "python3",
      "display_name": "Python 3"
    }
  },
  "cells": [
    {
      "cell_type": "markdown",
      "metadata": {
        "id": "view-in-github",
        "colab_type": "text"
      },
      "source": [
        "<a href=\"https://colab.research.google.com/github/mohd-faizy/My_Python_Notebooks_Concept/blob/master/1_My_Python_Object_%26_Data_Structure_U.ipynb\" target=\"_parent\"><img src=\"https://colab.research.google.com/assets/colab-badge.svg\" alt=\"Open In Colab\"/></a>"
      ]
    },
    {
      "cell_type": "markdown",
      "metadata": {
        "id": "6isT6AIzSFxn",
        "colab_type": "text"
      },
      "source": [
        "# <strong><font color='green'>Python Object and Data Structure Basics</font></strong>"
      ]
    },
    {
      "cell_type": "markdown",
      "metadata": {
        "id": "90st8bt9Tz-z",
        "colab_type": "text"
      },
      "source": [
        "<center><img src = 'https://d1jnx9ba8s6j9r.cloudfront.net/blog/wp-content/uploads/2019/10/TreeStructure-Data-Structures-in-Python-Edureka1.png'><center>"
      ]
    },
    {
      "cell_type": "markdown",
      "metadata": {
        "id": "2VSzQMfbAhbt",
        "colab_type": "text"
      },
      "source": [
        "\n",
        "# **Numbers in Python!**\n",
        "[Numbers w3schools](https://www.w3schools.com/python/python_numbers.asp)"
      ]
    },
    {
      "cell_type": "code",
      "metadata": {
        "id": "RNGSy8Xa_vng",
        "colab_type": "code",
        "outputId": "33c4e7ca-ed50-4ce6-f90c-971394c957d9",
        "colab": {
          "base_uri": "https://localhost:8080/"
        }
      },
      "source": [
        "# Basic Arithmetic\n",
        "\n",
        "a = 2+1  # Addition\n",
        "b = 2-1  # Subtraction\n",
        "c = 2*2  # Multiplication\n",
        "d = 3/2  # Division\n",
        "e = 7//4 # Floor Division\n",
        "f = 7%4  # modulo Divison\n",
        "g = 2**3 # Powers\n",
        "\n",
        "print(a)\n",
        "print(b)\n",
        "print(c)\n",
        "print(d)\n",
        "print(e)\n",
        "print(f)\n",
        "print(g)"
      ],
      "execution_count": 0,
      "outputs": [
        {
          "output_type": "stream",
          "text": [
            "3\n",
            "1\n",
            "4\n",
            "1.5\n",
            "1\n",
            "3\n",
            "8\n"
          ],
          "name": "stdout"
        }
      ]
    },
    {
      "cell_type": "code",
      "metadata": {
        "id": "Be6vWSib_vof",
        "colab_type": "code",
        "outputId": "f5e963ec-e019-4f4f-a01a-d24f7ab44d27",
        "colab": {
          "base_uri": "https://localhost:8080/"
        }
      },
      "source": [
        "# Order of Operations followed in Python\n",
        "a_1 = 2 + 10 * 10 + 3\n",
        "b_1 = (2+10) * (10+3)\n",
        "\n",
        "print(a_1)\n",
        "print(b_1)"
      ],
      "execution_count": 0,
      "outputs": [
        {
          "output_type": "stream",
          "text": [
            "105\n",
            "156\n"
          ],
          "name": "stdout"
        }
      ]
    },
    {
      "cell_type": "markdown",
      "metadata": {
        "id": "1v76EYrFC0ur",
        "colab_type": "text"
      },
      "source": [
        "# **Variable**\n",
        "[Python Variables w3schools](https://www.w3schools.com/python/python_variables.asp)"
      ]
    },
    {
      "cell_type": "code",
      "metadata": {
        "id": "xfg7xPlR_von",
        "colab_type": "code",
        "outputId": "b28bb2b0-6a60-46cd-b1a2-db53ea186c6c",
        "colab": {
          "base_uri": "https://localhost:8080/",
          "height": 34
        }
      },
      "source": [
        "# Let's create an object called \"a\" and assign it the number 5\n",
        "b1 = 5\n",
        "t = b1 + b1 # Adding the objects\n",
        "print(t)"
      ],
      "execution_count": 0,
      "outputs": [
        {
          "output_type": "stream",
          "text": [
            "10\n"
          ],
          "name": "stdout"
        }
      ]
    },
    {
      "cell_type": "code",
      "metadata": {
        "id": "GRaSPJyjKKw0",
        "colab_type": "code",
        "outputId": "b5185833-b499-48f2-d482-8ebc30977915",
        "colab": {
          "base_uri": "https://localhost:8080/",
          "height": 34
        }
      },
      "source": [
        "b1 = 6\n",
        "new_t = b1 + b1\n",
        "print(new_t)"
      ],
      "execution_count": 0,
      "outputs": [
        {
          "output_type": "stream",
          "text": [
            "12\n"
          ],
          "name": "stdout"
        }
      ]
    },
    {
      "cell_type": "markdown",
      "metadata": {
        "id": "VneWcYLG_vpP",
        "colab_type": "text"
      },
      "source": [
        "**The names you use when creating these labels need to follow a few rules:**\n",
        "\n",
        "    1. Names can not start with a number.\n",
        "    2. There can be no spaces in the name, use _ instead.\n",
        "    3. Can't use any of these symbols :'\",<>/?|\\()!@#$%^&*~-+\n",
        "    4. It's considered best practice (PEP8) that names are lowercase.\n",
        "    5. Avoid using the characters 'l' (lowercase letter el), 'O' (uppercase letter oh), \n",
        "       or 'I' (uppercase letter eye) as single character variable names.\n",
        "    6. Avoid using words that have special meaning in Python like \"list\" and \"str\"\n",
        "\n",
        "\n",
        "__Using variable names can be a very useful way to keep track of different variables in Python.__"
      ]
    },
    {
      "cell_type": "code",
      "metadata": {
        "id": "oJ-wTghr_vpQ",
        "colab_type": "code",
        "outputId": "4c466718-f2a1-4106-b0ff-d0505f3c6048",
        "colab": {
          "base_uri": "https://localhost:8080/",
          "height": 34
        }
      },
      "source": [
        "# Use object names to keep better track of what's going on in your code!\n",
        "my_income = 100\n",
        "tax_rate = 0.1\n",
        "my_taxes = my_income*tax_rate\n",
        "print(my_taxes)"
      ],
      "execution_count": 0,
      "outputs": [
        {
          "output_type": "stream",
          "text": [
            "10.0\n"
          ],
          "name": "stdout"
        }
      ]
    },
    {
      "cell_type": "markdown",
      "metadata": {
        "id": "mr_9P-YuBzdC",
        "colab_type": "text"
      },
      "source": [
        "**Rules for variable names**\n",
        "\n",
        "* names can not start with a number\n",
        "* names **can not contain spaces**, **use _ intead**\n",
        "* names **can not contain** any of these symbols:\n",
        "\n",
        "      :'\",<>/?|\\!@#%^&*~-+\n",
        "       \n",
        "* it's considered best practice ([PEP8](https://www.python.org/dev/peps/pep-0008/#function-and-variable-names)) that names are lowercase with underscores\n",
        "* avoid using Python built-in keywords like `list` and `str`\n",
        "* avoid using the single characters `l` (lowercase letter el), `O` (uppercase letter oh) and `I` (uppercase letter eye) as they can be confused with `1` and `0`"
      ]
    },
    {
      "cell_type": "markdown",
      "metadata": {
        "id": "saVdEf9mBzdD",
        "colab_type": "text"
      },
      "source": [
        "**Dynamic Typing**\n",
        "\n",
        "Python uses *dynamic typing*, meaning you can reassign variables to different data types. This makes Python very flexible in assigning data types; it differs from other languages that are *statically typed*."
      ]
    },
    {
      "cell_type": "code",
      "metadata": {
        "id": "FWyFt8lsBzdF",
        "colab_type": "code",
        "colab": {}
      },
      "source": [
        "my_dogs = 2"
      ],
      "execution_count": 0,
      "outputs": []
    },
    {
      "cell_type": "code",
      "metadata": {
        "id": "svFApYWvBzdL",
        "colab_type": "code",
        "outputId": "3f1b8997-8804-45e3-b5a2-0f7cd33366f5",
        "colab": {
          "base_uri": "https://localhost:8080/",
          "height": 34
        }
      },
      "source": [
        "my_dogs"
      ],
      "execution_count": 0,
      "outputs": [
        {
          "output_type": "execute_result",
          "data": {
            "text/plain": [
              "2"
            ]
          },
          "metadata": {
            "tags": []
          },
          "execution_count": 9
        }
      ]
    },
    {
      "cell_type": "code",
      "metadata": {
        "id": "DMk7vqZFBzdR",
        "colab_type": "code",
        "colab": {}
      },
      "source": [
        "my_dogs = ['Sammy', 'Frankie']"
      ],
      "execution_count": 0,
      "outputs": []
    },
    {
      "cell_type": "code",
      "metadata": {
        "id": "WuhWWO-fBzdV",
        "colab_type": "code",
        "outputId": "43a9978b-aa81-45fa-b0ac-06b781a9a8e4",
        "colab": {
          "base_uri": "https://localhost:8080/",
          "height": 34
        }
      },
      "source": [
        "my_dogs"
      ],
      "execution_count": 0,
      "outputs": [
        {
          "output_type": "execute_result",
          "data": {
            "text/plain": [
              "['Sammy', 'Frankie']"
            ]
          },
          "metadata": {
            "tags": []
          },
          "execution_count": 11
        }
      ]
    },
    {
      "cell_type": "markdown",
      "metadata": {
        "id": "3a0Rz1MUBzdb",
        "colab_type": "text"
      },
      "source": [
        "|**Pros and Cons of Dynamic Typing**| **Cons of Dynamic Typing**      |\n",
        "|-----------------------------------|---------------------------------|\n",
        "| Pros of Dynamic Typing            | may result in unexpected bugs!  |\n",
        "| very easy to work with            | you need to be aware of `type()`|\n",
        "| faster development time           |                                 |\n",
        "\n",
        "\n",
        "\n"
      ]
    },
    {
      "cell_type": "markdown",
      "metadata": {
        "id": "lT97pbnbBzdb",
        "colab_type": "text"
      },
      "source": [
        "**Assigning Variables**\n",
        "\n",
        "Variable assignment follows `name = object`, where a single equals sign `=` is an *assignment operator*"
      ]
    },
    {
      "cell_type": "code",
      "metadata": {
        "id": "n6Yl4i3CBzdc",
        "colab_type": "code",
        "outputId": "0aa61a46-ba47-4465-899f-ea9ae3c9bd52",
        "colab": {
          "base_uri": "https://localhost:8080/",
          "height": 34
        }
      },
      "source": [
        "y = 5\n",
        "print(y)"
      ],
      "execution_count": 0,
      "outputs": [
        {
          "output_type": "stream",
          "text": [
            "5\n"
          ],
          "name": "stdout"
        }
      ]
    },
    {
      "cell_type": "markdown",
      "metadata": {
        "id": "n8hHhDLjBzdm",
        "colab_type": "text"
      },
      "source": [
        "Here we assigned the integer object `5` to the variable name `y`.<br>Let's assign `y` to something else:"
      ]
    },
    {
      "cell_type": "markdown",
      "metadata": {
        "id": "NZ1wEPDmBzd2",
        "colab_type": "text"
      },
      "source": [
        "**Reassigning Variables**\n",
        "Python lets you reassign variables with a reference to the same object."
      ]
    },
    {
      "cell_type": "code",
      "metadata": {
        "id": "vkgrJ0TeBzd3",
        "colab_type": "code",
        "colab": {}
      },
      "source": [
        "a = a + 10"
      ],
      "execution_count": 0,
      "outputs": []
    },
    {
      "cell_type": "code",
      "metadata": {
        "id": "zcK9sjd3Bzd8",
        "colab_type": "code",
        "outputId": "a2e28189-0f2a-4138-849f-500d2e17477d",
        "colab": {
          "base_uri": "https://localhost:8080/",
          "height": 34
        }
      },
      "source": [
        "a"
      ],
      "execution_count": 0,
      "outputs": [
        {
          "output_type": "execute_result",
          "data": {
            "text/plain": [
              "13"
            ]
          },
          "metadata": {
            "tags": []
          },
          "execution_count": 14
        }
      ]
    },
    {
      "cell_type": "markdown",
      "metadata": {
        "id": "KqZZix28BzeA",
        "colab_type": "text"
      },
      "source": [
        "There's actually a shortcut for this. Python lets you add, subtract, multiply and divide numbers with reassignment using `+=`, `-=`, `*=`, and `/=`."
      ]
    },
    {
      "cell_type": "code",
      "metadata": {
        "id": "cGnWB0BrBzeB",
        "colab_type": "code",
        "outputId": "adc438ee-3cfc-4ff2-97c7-3648ea16fa5f",
        "colab": {
          "base_uri": "https://localhost:8080/",
          "height": 34
        }
      },
      "source": [
        "a += 10\n",
        "print(a)"
      ],
      "execution_count": 0,
      "outputs": [
        {
          "output_type": "stream",
          "text": [
            "23\n"
          ],
          "name": "stdout"
        }
      ]
    },
    {
      "cell_type": "code",
      "metadata": {
        "id": "wpnYbG4xBzeI",
        "colab_type": "code",
        "colab": {}
      },
      "source": [
        "a *= 2"
      ],
      "execution_count": 0,
      "outputs": []
    },
    {
      "cell_type": "code",
      "metadata": {
        "id": "B0RQaMnjBzeM",
        "colab_type": "code",
        "outputId": "1b642176-cb42-4c3e-ddce-83cd627dc6c1",
        "colab": {
          "base_uri": "https://localhost:8080/",
          "height": 34
        }
      },
      "source": [
        "a"
      ],
      "execution_count": 0,
      "outputs": [
        {
          "output_type": "execute_result",
          "data": {
            "text/plain": [
              "46"
            ]
          },
          "metadata": {
            "tags": []
          },
          "execution_count": 17
        }
      ]
    },
    {
      "cell_type": "markdown",
      "metadata": {
        "id": "VyYbRp2cBzeQ",
        "colab_type": "text"
      },
      "source": [
        "**Determining variable type** with `type()`\n",
        "You can check what type of object is assigned to a variable using Python's built-in `type()` function. \n",
        "\n",
        "Common data types include:\n",
        "\n",
        "\n",
        "* **int** (for integer)\n",
        "* **float**\n",
        "* **str** (for string)\n",
        "* **list**\n",
        "* **tuple**\n",
        "* **dict** (for dictionary)\n",
        "* **set**\n",
        "* **bool** (for Boolean True/False)"
      ]
    },
    {
      "cell_type": "code",
      "metadata": {
        "id": "4D8HKKrPBzeR",
        "colab_type": "code",
        "outputId": "bc10cfd6-68d8-40d3-8666-bc5d75b9f64a",
        "colab": {
          "base_uri": "https://localhost:8080/",
          "height": 34
        }
      },
      "source": [
        "type(a)"
      ],
      "execution_count": 0,
      "outputs": [
        {
          "output_type": "execute_result",
          "data": {
            "text/plain": [
              "int"
            ]
          },
          "metadata": {
            "tags": []
          },
          "execution_count": 18
        }
      ]
    },
    {
      "cell_type": "code",
      "metadata": {
        "id": "V7qqn04EBzeX",
        "colab_type": "code",
        "colab": {}
      },
      "source": [
        "a = (1,2)"
      ],
      "execution_count": 0,
      "outputs": []
    },
    {
      "cell_type": "code",
      "metadata": {
        "id": "IxK3h7_2Bzea",
        "colab_type": "code",
        "outputId": "756d1b7e-b4d4-4018-d101-01f34731e4f7",
        "colab": {
          "base_uri": "https://localhost:8080/",
          "height": 34
        }
      },
      "source": [
        "type(a)"
      ],
      "execution_count": 0,
      "outputs": [
        {
          "output_type": "execute_result",
          "data": {
            "text/plain": [
              "tuple"
            ]
          },
          "metadata": {
            "tags": []
          },
          "execution_count": 20
        }
      ]
    },
    {
      "cell_type": "markdown",
      "metadata": {
        "id": "rZdVj53AptGE",
        "colab_type": "text"
      },
      "source": [
        "# **String Format**\n"
      ]
    },
    {
      "cell_type": "markdown",
      "metadata": {
        "id": "upfkSGhczDXj",
        "colab_type": "text"
      },
      "source": [
        "**String**\n",
        "\n",
        "- A string is a sequence of charactes\n",
        "- It is immutable.\n",
        "- It is created by enclosing text with single/double/triple quotes"
      ]
    },
    {
      "cell_type": "code",
      "metadata": {
        "id": "o8_KH5xaa49j",
        "colab_type": "code",
        "outputId": "cccf5f09-a525-453f-f533-c396bd7058f6",
        "colab": {
          "base_uri": "https://localhost:8080/"
        }
      },
      "source": [
        "#Method-1\n",
        "\n",
        "age = 36\n",
        "txt = \"My name is John, and I am {}\"\n",
        "print(txt.format(age))"
      ],
      "execution_count": 0,
      "outputs": [
        {
          "output_type": "stream",
          "text": [
            "My name is John, and I am 36\n"
          ],
          "name": "stdout"
        }
      ]
    },
    {
      "cell_type": "code",
      "metadata": {
        "id": "ABKN-yGAp2sI",
        "colab_type": "code",
        "outputId": "7acc6628-b568-489e-c86f-91ba4c493ec1",
        "colab": {
          "base_uri": "https://localhost:8080/"
        }
      },
      "source": [
        "print('this is a string {}'.format('inserted'))"
      ],
      "execution_count": 0,
      "outputs": [
        {
          "output_type": "stream",
          "text": [
            "this is a string inserted\n"
          ],
          "name": "stdout"
        }
      ]
    },
    {
      "cell_type": "code",
      "metadata": {
        "id": "QqszugqOq0q9",
        "colab_type": "code",
        "outputId": "1ef619fe-6f02-49fa-e9b4-c6ca44d79c1e",
        "colab": {
          "base_uri": "https://localhost:8080/"
        }
      },
      "source": [
        "print(\"the {} {} {}\".format(\"big\", \"brown\", \"bear\"))"
      ],
      "execution_count": 0,
      "outputs": [
        {
          "output_type": "stream",
          "text": [
            "the big brown bear\n"
          ],
          "name": "stdout"
        }
      ]
    },
    {
      "cell_type": "code",
      "metadata": {
        "id": "ffC_7ZD8rb4T",
        "colab_type": "code",
        "outputId": "d5fe7d2a-46e9-43e6-aef0-186401d3a3a6",
        "colab": {
          "base_uri": "https://localhost:8080/"
        }
      },
      "source": [
        "print(\"the {1} {0} {2}\".format(\"big\", \"brown\", \"bear\"))"
      ],
      "execution_count": 0,
      "outputs": [
        {
          "output_type": "stream",
          "text": [
            "the brown big bear\n"
          ],
          "name": "stdout"
        }
      ]
    },
    {
      "cell_type": "code",
      "metadata": {
        "id": "_10DyDrsrq1Y",
        "colab_type": "code",
        "outputId": "df83c67f-bc80-4ee6-e524-cf8ff27d283f",
        "colab": {
          "base_uri": "https://localhost:8080/"
        }
      },
      "source": [
        "print(\"the {0} {0} {0}\".format(\"big\", \"brown\", \"bear\"))"
      ],
      "execution_count": 0,
      "outputs": [
        {
          "output_type": "stream",
          "text": [
            "the big big big\n"
          ],
          "name": "stdout"
        }
      ]
    },
    {
      "cell_type": "code",
      "metadata": {
        "id": "lQeYTdGpr6zc",
        "colab_type": "code",
        "outputId": "b9ae8681-4fe2-4269-d2df-7c31950b1763",
        "colab": {
          "base_uri": "https://localhost:8080/"
        }
      },
      "source": [
        "print(\"the {f} {s} {d}\".format(f=\"big\", s = \"brown\", d = \"bear\"))"
      ],
      "execution_count": 0,
      "outputs": [
        {
          "output_type": "stream",
          "text": [
            "the big brown bear\n"
          ],
          "name": "stdout"
        }
      ]
    },
    {
      "cell_type": "markdown",
      "metadata": {
        "id": "BkWY34D8AYg5",
        "colab_type": "text"
      },
      "source": [
        "# **Float formatting**\n"
      ]
    },
    {
      "cell_type": "markdown",
      "metadata": {
        "id": "4Um0fnpLdaWW",
        "colab_type": "text"
      },
      "source": [
        "**syntax**\n",
        "`{value:width.precison f}`\n"
      ]
    },
    {
      "cell_type": "code",
      "metadata": {
        "id": "FD_rLrw6_ilI",
        "colab_type": "code",
        "outputId": "dd78e1c1-c2f3-4512-af67-51ae9194f44b",
        "colab": {
          "base_uri": "https://localhost:8080/"
        }
      },
      "source": [
        "result = 22/7\n",
        "print(\"the result is {r}\".format(r = result))"
      ],
      "execution_count": 0,
      "outputs": [
        {
          "output_type": "stream",
          "text": [
            "the result is 3.142857142857143\n"
          ],
          "name": "stdout"
        }
      ]
    },
    {
      "cell_type": "code",
      "metadata": {
        "id": "VqcdXQAqAzOc",
        "colab_type": "code",
        "outputId": "791ad83f-a2bb-4831-d875-49c78a888a3e",
        "colab": {
          "base_uri": "https://localhost:8080/"
        }
      },
      "source": [
        "result = 22/7\n",
        "print(\"the result is {r:10.5f}\".format(r = result))"
      ],
      "execution_count": 0,
      "outputs": [
        {
          "output_type": "stream",
          "text": [
            "the result is    3.14286\n"
          ],
          "name": "stdout"
        }
      ]
    },
    {
      "cell_type": "code",
      "metadata": {
        "id": "Psszq0y6BaOt",
        "colab_type": "code",
        "outputId": "8e1a6505-34fd-460e-d88b-4583b913ee6e",
        "colab": {
          "base_uri": "https://localhost:8080/"
        }
      },
      "source": [
        "name = \"faizy\"\n",
        "print(\"hello my name is {}\".format(name))"
      ],
      "execution_count": 0,
      "outputs": [
        {
          "output_type": "stream",
          "text": [
            "hello my name is faizy\n"
          ],
          "name": "stdout"
        }
      ]
    },
    {
      "cell_type": "code",
      "metadata": {
        "colab_type": "code",
        "outputId": "5fa71c23-8b0e-4172-b744-c4e62a295509",
        "id": "89QCE2_7B_2k",
        "colab": {
          "base_uri": "https://localhost:8080/"
        }
      },
      "source": [
        "name = \"faizy\"\n",
        "print(f\"hello! my name is {name}\")"
      ],
      "execution_count": 0,
      "outputs": [
        {
          "output_type": "stream",
          "text": [
            "hello! my name is faizy\n"
          ],
          "name": "stdout"
        }
      ]
    },
    {
      "cell_type": "code",
      "metadata": {
        "id": "5bBVond-CTeR",
        "colab_type": "code",
        "outputId": "442c7e4a-6cf6-46cf-e82c-ab3e9386147c",
        "colab": {
          "base_uri": "https://localhost:8080/"
        }
      },
      "source": [
        "name = \"faizy\"\n",
        "collage = \"Jamia Millia Islamia\"\n",
        "print(f\"hello my name is {name} and i studied in {collage}\")\n"
      ],
      "execution_count": 0,
      "outputs": [
        {
          "output_type": "stream",
          "text": [
            "hello my name is faizy and i studied in Jamia Millia Islamia\n"
          ],
          "name": "stdout"
        }
      ]
    },
    {
      "cell_type": "markdown",
      "metadata": {
        "id": "VvsdWHLwPc9K",
        "colab_type": "text"
      },
      "source": [
        "# **Mutable vs Immutable**"
      ]
    },
    {
      "cell_type": "markdown",
      "metadata": {
        "id": "gL0rAhOEPMKO",
        "colab_type": "text"
      },
      "source": [
        "<img src = 'https://miro.medium.com/max/1400/1*oErPCXv1PFcuuizXqGEEbw.png'>\n",
        "\n"
      ]
    },
    {
      "cell_type": "markdown",
      "metadata": {
        "id": "mKjrzZ0CPaha",
        "colab_type": "text"
      },
      "source": [
        "<center><img src = 'https://miro.medium.com/max/1316/1*uFlTNY4W3czywyU18zxl8w.png'></center>\n"
      ]
    },
    {
      "cell_type": "markdown",
      "metadata": {
        "id": "rKm0-IteUNG-",
        "colab_type": "text"
      },
      "source": [
        "# **Strings** `'Hello Wolrd'` `im_mutable`\n",
        "\n",
        "[String w3schools](https://www.w3schools.com/python/python_strings.asp)\n"
      ]
    },
    {
      "cell_type": "markdown",
      "metadata": {
        "id": "4XVnMex2UXIG",
        "colab_type": "text"
      },
      "source": [
        "- Strings are the sequence of characters using the syntax of either single quotes or double.\n",
        "\n",
        "\n",
        "```\n",
        "\"hello World\"\n",
        "'hello'\n",
        "```\n",
        "\n",
        "- A string is a **sequence** of charactes.\n",
        "\n",
        "- It is **immutable**.\n",
        "\n",
        "- It is created by enclosing text with single/double/triple quotes"
      ]
    },
    {
      "cell_type": "markdown",
      "metadata": {
        "id": "z7bvZExqE2yN",
        "colab_type": "text"
      },
      "source": [
        "# **List** `[]` `mutable`, `ordered`, `Allows duplicate`\n",
        "\n",
        "[List w3schools](https://www.w3schools.com/python/python_lists.asp)\n",
        "\n",
        "\n"
      ]
    },
    {
      "cell_type": "markdown",
      "metadata": {
        "id": "mNFaq-OlODqS",
        "colab_type": "text"
      },
      "source": [
        "\n",
        "- List is an **ordered** collection of data.\n",
        "\n",
        "- It is **mutable** and **allow duplicates**.\n",
        "\n",
        "-It list is created by enclosing the data items with in **square brackets** delimited by \",\"\n",
        "\n"
      ]
    },
    {
      "cell_type": "code",
      "metadata": {
        "id": "bqAITq6UF6IF",
        "colab_type": "code",
        "outputId": "d5a25949-150b-40f7-91c4-de22dbd043ca",
        "colab": {
          "base_uri": "https://localhost:8080/"
        }
      },
      "source": [
        "my_list = ['string', 100, 23.4,6,'monkey',7,8,10]\n",
        "\n",
        "'''\n",
        "syntax[start:stop:step]\n",
        "\n",
        "'''\n",
        "print(type(my_list))\n",
        "print(len(my_list))\n",
        "print(my_list[0])\n",
        "print(my_list[2:])\n",
        "print(my_list[:2])\n",
        "print(my_list[0:6:2])\n",
        "print(my_list[0::2])\n",
        "print(my_list[0:6:])\n",
        "print(my_list[:6:2])"
      ],
      "execution_count": 0,
      "outputs": [
        {
          "output_type": "stream",
          "text": [
            "<class 'list'>\n",
            "8\n",
            "string\n",
            "[23.4, 6, 'monkey', 7, 8, 10]\n",
            "['string', 100]\n",
            "['string', 23.4, 'monkey']\n",
            "['string', 23.4, 'monkey', 8]\n",
            "['string', 100, 23.4, 6, 'monkey', 7]\n",
            "['string', 23.4, 'monkey']\n"
          ],
          "name": "stdout"
        }
      ]
    },
    {
      "cell_type": "code",
      "metadata": {
        "id": "Z_4T1_kXwlo3",
        "colab_type": "code",
        "outputId": "da63ba6f-1f84-45cf-f9ad-7355aacb9361",
        "colab": {
          "base_uri": "https://localhost:8080/"
        }
      },
      "source": [
        "#list Concatination\n",
        "my_list_1 = ['bear', 100, 23.4,6,'monkey',7,'cat',10]\n",
        "my_list_2 = ['home',78, 23.4,6,'key',7,'room',10]\n",
        "my_list_3 = my_list_1 + my_list_2\n",
        "print(my_list_3)"
      ],
      "execution_count": 0,
      "outputs": [
        {
          "output_type": "stream",
          "text": [
            "['bear', 100, 23.4, 6, 'monkey', 7, 'cat', 10, 'home', 78, 23.4, 6, 'key', 7, 'room', 10]\n"
          ],
          "name": "stdout"
        }
      ]
    },
    {
      "cell_type": "code",
      "metadata": {
        "id": "08d8rVKRyHcm",
        "colab_type": "code",
        "outputId": "42c7e6ac-574b-460c-8ecf-19bac7753793",
        "colab": {
          "base_uri": "https://localhost:8080/"
        }
      },
      "source": [
        "my_list_1"
      ],
      "execution_count": 0,
      "outputs": [
        {
          "output_type": "execute_result",
          "data": {
            "text/plain": [
              "['bear', 100, 23.4, 6, 'monkey', 7, 'cat', 10]"
            ]
          },
          "metadata": {
            "tags": []
          },
          "execution_count": 34
        }
      ]
    },
    {
      "cell_type": "code",
      "metadata": {
        "id": "EW8vTwIcytkF",
        "colab_type": "code",
        "outputId": "6e0a6c90-fbed-4c2b-afc9-f4dc4d154e0b",
        "colab": {
          "base_uri": "https://localhost:8080/"
        }
      },
      "source": [
        "#List are mutable\n",
        "my_list_1[0] = 'lion'\n",
        "print(my_list_1)"
      ],
      "execution_count": 0,
      "outputs": [
        {
          "output_type": "stream",
          "text": [
            "['lion', 100, 23.4, 6, 'monkey', 7, 'cat', 10]\n"
          ],
          "name": "stdout"
        }
      ]
    },
    {
      "cell_type": "code",
      "metadata": {
        "id": "aYtcHbMwz9x6",
        "colab_type": "code",
        "outputId": "95593c59-f4f0-45f9-bb09-a51ce8318893",
        "colab": {
          "base_uri": "https://localhost:8080/"
        }
      },
      "source": [
        "#adding item to the list\n",
        "my_list_1.append('tiger')\n",
        "print(my_list_1)"
      ],
      "execution_count": 0,
      "outputs": [
        {
          "output_type": "stream",
          "text": [
            "['lion', 100, 23.4, 6, 'monkey', 7, 'cat', 10, 'tiger']\n"
          ],
          "name": "stdout"
        }
      ]
    },
    {
      "cell_type": "markdown",
      "metadata": {
        "id": "3BZdpK1x1j_K",
        "colab_type": "text"
      },
      "source": [
        "**pop()** is an inbuilt function in Python that *removes and returns* **last value** from the list or the given **index value**\n",
        "\n",
        "- by default index location is [-1]\n"
      ]
    },
    {
      "cell_type": "code",
      "metadata": {
        "id": "iRs6zkMq0Xzj",
        "colab_type": "code",
        "outputId": "e0f957b1-605f-49cd-d442-9de85be8fefb",
        "colab": {
          "base_uri": "https://localhost:8080/"
        }
      },
      "source": [
        "#removing the item form the list\n",
        "my_list_1.pop()\n",
        "print(my_list_1)"
      ],
      "execution_count": 0,
      "outputs": [
        {
          "output_type": "stream",
          "text": [
            "['lion', 100, 23.4, 6, 'monkey', 7, 'cat', 10]\n"
          ],
          "name": "stdout"
        }
      ]
    },
    {
      "cell_type": "markdown",
      "metadata": {
        "id": "wyeUkcxY2cK8",
        "colab_type": "text"
      },
      "source": [
        "**Sorting the list**"
      ]
    },
    {
      "cell_type": "code",
      "metadata": {
        "id": "p4qFNT3w2jHJ",
        "colab_type": "code",
        "outputId": "5beb4081-3350-46f6-ba46-06f4d356dec8",
        "colab": {
          "base_uri": "https://localhost:8080/"
        }
      },
      "source": [
        "new_list_1 = ['b', 'd', 'f', 'a', 'c', 'e']\n",
        "new_list_2 = [2, 4, 6, 8, 1, 3, 5, 7, 9]\n",
        "\n",
        "new_list_1.sort()\n",
        "new_list_2.sort()\n",
        "\n",
        "print(new_list_1)\n",
        "print(new_list_2)"
      ],
      "execution_count": 0,
      "outputs": [
        {
          "output_type": "stream",
          "text": [
            "['a', 'b', 'c', 'd', 'e', 'f']\n",
            "[1, 2, 3, 4, 5, 6, 7, 8, 9]\n"
          ],
          "name": "stdout"
        }
      ]
    },
    {
      "cell_type": "markdown",
      "metadata": {
        "id": "19M0qXG63veW",
        "colab_type": "text"
      },
      "source": [
        "- In Python, **None** keyword is an object, and it is a **data type** of the class **NoneType**.\n",
        "\n",
        "- We can assign None to any variable, but you can not create other NoneType objects. \n",
        "\n",
        "- New instances of None are not created."
      ]
    },
    {
      "cell_type": "code",
      "metadata": {
        "id": "aIawg_0s4K4Y",
        "colab_type": "code",
        "outputId": "0695f193-8351-4b91-f415-cd2f8499cc5b",
        "colab": {
          "base_uri": "https://localhost:8080/"
        }
      },
      "source": [
        "new_list_3 = [1, 2, 3, 4, 5, 6, 7, 8, 9]\n",
        "new_list_3.reverse()\n",
        "print(new_list_3)"
      ],
      "execution_count": 0,
      "outputs": [
        {
          "output_type": "stream",
          "text": [
            "[9, 8, 7, 6, 5, 4, 3, 2, 1]\n"
          ],
          "name": "stdout"
        }
      ]
    },
    {
      "cell_type": "markdown",
      "metadata": {
        "id": "g426QH__LB8t",
        "colab_type": "text"
      },
      "source": [
        "__Loooping through a loop__"
      ]
    },
    {
      "cell_type": "code",
      "metadata": {
        "id": "Mq9CYS7H72ot",
        "colab_type": "code",
        "outputId": "1287525c-45e7-4a11-df5d-548b0205c5ae",
        "colab": {
          "base_uri": "https://localhost:8080/",
          "height": 70
        }
      },
      "source": [
        "thelist = ['apple', 'banana', 'ornage']\n",
        "for x in thelist:\n",
        "    print(x)"
      ],
      "execution_count": 0,
      "outputs": [
        {
          "output_type": "stream",
          "text": [
            "apple\n",
            "banana\n",
            "ornage\n"
          ],
          "name": "stdout"
        }
      ]
    },
    {
      "cell_type": "markdown",
      "metadata": {
        "id": "P8KckB-bK0Kf",
        "colab_type": "text"
      },
      "source": [
        "**Checking if the item exist in the list.**"
      ]
    },
    {
      "cell_type": "code",
      "metadata": {
        "id": "4IotMQPS8uUO",
        "colab_type": "code",
        "outputId": "43aa0558-edd7-4ae3-bf75-b9291d345a00",
        "colab": {
          "base_uri": "https://localhost:8080/",
          "height": 52
        }
      },
      "source": [
        "if 'apple' in thelist:\n",
        "    print('Yes')\n",
        "print(len(thelist))"
      ],
      "execution_count": 0,
      "outputs": [
        {
          "output_type": "stream",
          "text": [
            "Yes\n",
            "3\n"
          ],
          "name": "stdout"
        }
      ]
    },
    {
      "cell_type": "markdown",
      "metadata": {
        "id": "4wFIWJvrK6bW",
        "colab_type": "text"
      },
      "source": [
        "__Appending the item to the list__"
      ]
    },
    {
      "cell_type": "code",
      "metadata": {
        "id": "15LbXURC9Zv3",
        "colab_type": "code",
        "outputId": "72115635-3535-409c-ae5d-c814fb4268be",
        "colab": {
          "base_uri": "https://localhost:8080/",
          "height": 34
        }
      },
      "source": [
        "thelist = ['apple', 'banana', 'ornage']\n",
        "thelist.append('apricot')\n",
        "print(thelist)"
      ],
      "execution_count": 0,
      "outputs": [
        {
          "output_type": "stream",
          "text": [
            "['apple', 'banana', 'ornage', 'apricot']\n"
          ],
          "name": "stdout"
        }
      ]
    },
    {
      "cell_type": "markdown",
      "metadata": {
        "id": "9XMf-XYh9yiz",
        "colab_type": "text"
      },
      "source": [
        "**`insert()` method:**\n",
        "\n"
      ]
    },
    {
      "cell_type": "code",
      "metadata": {
        "id": "moA-eLuG9vUX",
        "colab_type": "code",
        "outputId": "a0c00f85-481c-47f2-d91a-d17d79e8de1e",
        "colab": {
          "base_uri": "https://localhost:8080/",
          "height": 34
        }
      },
      "source": [
        "thelist = ['apple', 'banana', 'ornage']\n",
        "thelist.insert(1, 'papaya')\n",
        "print(thelist)"
      ],
      "execution_count": 0,
      "outputs": [
        {
          "output_type": "stream",
          "text": [
            "['apple', 'papaya', 'banana', 'ornage']\n"
          ],
          "name": "stdout"
        }
      ]
    },
    {
      "cell_type": "code",
      "metadata": {
        "id": "RUV73-jo-VAO",
        "colab_type": "code",
        "outputId": "485fad66-78c3-4c45-c525-626fdd7fa48c",
        "colab": {
          "base_uri": "https://localhost:8080/",
          "height": 34
        }
      },
      "source": [
        "thelist = ['apple', 'papaya', 'banana', 'ornage']\n",
        "thelist.remove('papaya')\n",
        "print(thelist)"
      ],
      "execution_count": 0,
      "outputs": [
        {
          "output_type": "stream",
          "text": [
            "['apple', 'banana', 'ornage']\n"
          ],
          "name": "stdout"
        }
      ]
    },
    {
      "cell_type": "markdown",
      "metadata": {
        "id": "Pb08Fwub_pUT",
        "colab_type": "text"
      },
      "source": [
        "__`.pop()` method removes the specified index__"
      ]
    },
    {
      "cell_type": "code",
      "metadata": {
        "id": "-uZiPYMX_Wmm",
        "colab_type": "code",
        "outputId": "c83cffcd-b8f4-48f6-f564-e831795f0f09",
        "colab": {
          "base_uri": "https://localhost:8080/",
          "height": 34
        }
      },
      "source": [
        "thelist = ['apple', 'papaya', 'banana', 'ornage']\n",
        "thelist.pop()\n",
        "print(thelist)"
      ],
      "execution_count": 0,
      "outputs": [
        {
          "output_type": "stream",
          "text": [
            "['papaya', 'banana', 'ornage']\n"
          ],
          "name": "stdout"
        }
      ]
    },
    {
      "cell_type": "markdown",
      "metadata": {
        "id": "qYRcrRQOAbLR",
        "colab_type": "text"
      },
      "source": [
        "__The `del` keyword can also delete the list completely__"
      ]
    },
    {
      "cell_type": "code",
      "metadata": {
        "id": "S7m1Vi7_ACvs",
        "colab_type": "code",
        "colab": {}
      },
      "source": [
        "mylist1 = [\"apple\", \"banana\", \"cherry\"]\n",
        "del mylist1"
      ],
      "execution_count": 0,
      "outputs": []
    },
    {
      "cell_type": "markdown",
      "metadata": {
        "id": "c_Y6Kbi8Azt0",
        "colab_type": "text"
      },
      "source": [
        "__The clear() method empties the list__"
      ]
    },
    {
      "cell_type": "code",
      "metadata": {
        "id": "Mg3iJIbXAybc",
        "colab_type": "code",
        "outputId": "44fdcaff-8773-466a-bcd2-dd6d0bf907d9",
        "colab": {
          "base_uri": "https://localhost:8080/",
          "height": 34
        }
      },
      "source": [
        "mylist = [\"apple\", \"banana\", \"cherry\"]\n",
        "mylist.clear()\n",
        "print(mylist)"
      ],
      "execution_count": 0,
      "outputs": [
        {
          "output_type": "stream",
          "text": [
            "['cherry', 'banana', 'apple']\n"
          ],
          "name": "stdout"
        }
      ]
    },
    {
      "cell_type": "markdown",
      "metadata": {
        "id": "_huzPwrTJ8QM",
        "colab_type": "text"
      },
      "source": [
        "__Reversing the list__"
      ]
    },
    {
      "cell_type": "code",
      "metadata": {
        "id": "Lis14lpHIx-x",
        "colab_type": "code",
        "colab": {}
      },
      "source": [
        "mylist = [\"apple\", \"banana\", \"cherry\"]\n",
        "mylist.reverse()\n",
        "print(mylist)"
      ],
      "execution_count": 0,
      "outputs": []
    },
    {
      "cell_type": "markdown",
      "metadata": {
        "id": "zKF1vE3RCzOR",
        "colab_type": "text"
      },
      "source": [
        "**Copying the List**"
      ]
    },
    {
      "cell_type": "code",
      "metadata": {
        "id": "c7cbdAieBWcL",
        "colab_type": "code",
        "outputId": "515614e4-2dde-4d4e-9c5e-eb91cb0d5689",
        "colab": {
          "base_uri": "https://localhost:8080/",
          "height": 34
        }
      },
      "source": [
        "#Method_1\n",
        "list_1 = ['apple', 'papaya', 'banana', 'ornage']\n",
        "list_2 = list_1.copy()\n",
        "print(list_2)"
      ],
      "execution_count": 0,
      "outputs": [
        {
          "output_type": "stream",
          "text": [
            "['apple', 'papaya', 'banana', 'ornage']\n"
          ],
          "name": "stdout"
        }
      ]
    },
    {
      "cell_type": "code",
      "metadata": {
        "id": "_84t5xzSC6Px",
        "colab_type": "code",
        "outputId": "cb1cde2b-2cb3-42e8-c638-7f2bd49f941b",
        "colab": {
          "base_uri": "https://localhost:8080/",
          "height": 34
        }
      },
      "source": [
        "#Method_2\n",
        "list_1 = ['apple', 'papaya', 'banana', 'ornage']\n",
        "list_2 = list(list_1)\n",
        "print(list_2)"
      ],
      "execution_count": 0,
      "outputs": [
        {
          "output_type": "stream",
          "text": [
            "['apple', 'papaya', 'banana', 'ornage']\n"
          ],
          "name": "stdout"
        }
      ]
    },
    {
      "cell_type": "markdown",
      "metadata": {
        "id": "IlSswV52DQyu",
        "colab_type": "text"
      },
      "source": [
        "**Join Two Lists**"
      ]
    },
    {
      "cell_type": "code",
      "metadata": {
        "id": "wjFqxvTBDV5P",
        "colab_type": "code",
        "outputId": "dd01360f-5f7c-43aa-c44c-01f6f68fca3c",
        "colab": {
          "base_uri": "https://localhost:8080/",
          "height": 34
        }
      },
      "source": [
        "list1 = ['a', 'b', 'c']\n",
        "list2 = [1, 2, 3]\n",
        "list3 = list1 +list2\n",
        "print(list3)"
      ],
      "execution_count": 0,
      "outputs": [
        {
          "output_type": "stream",
          "text": [
            "['a', 'b', 'c', 1, 2, 3]\n"
          ],
          "name": "stdout"
        }
      ]
    },
    {
      "cell_type": "markdown",
      "metadata": {
        "id": "Gj3KWTCdE_ig",
        "colab_type": "text"
      },
      "source": [
        "**Append list2 into list1:**"
      ]
    },
    {
      "cell_type": "code",
      "metadata": {
        "id": "p71Fth_WE-Bm",
        "colab_type": "code",
        "outputId": "f60c3ab1-3c8c-4563-a083-bc09fce583dc",
        "colab": {
          "base_uri": "https://localhost:8080/",
          "height": 34
        }
      },
      "source": [
        "list1 = ['a', 'b', 'c']\n",
        "list2 = [1, 2, 3]\n",
        "for x in list2:\n",
        "    list1.append(x)\n",
        "print(list1)"
      ],
      "execution_count": 0,
      "outputs": [
        {
          "output_type": "stream",
          "text": [
            "['a', 'b', 'c', 1, 2, 3]\n"
          ],
          "name": "stdout"
        }
      ]
    },
    {
      "cell_type": "code",
      "metadata": {
        "id": "9MeJ2oILFy4M",
        "colab_type": "code",
        "outputId": "d763627b-5d85-4df0-9c87-e4332218124a",
        "colab": {
          "base_uri": "https://localhost:8080/",
          "height": 34
        }
      },
      "source": [
        "list1 = [\"a\", \"b\" , \"c\"]\n",
        "list2 = [1, 2, 3]\n",
        "\n",
        "list1.extend(list2)\n",
        "print(list1)\n"
      ],
      "execution_count": 0,
      "outputs": [
        {
          "output_type": "stream",
          "text": [
            "['a', 'b', 'c', 1, 2, 3]\n"
          ],
          "name": "stdout"
        }
      ]
    },
    {
      "cell_type": "markdown",
      "metadata": {
        "id": "yZB80h_6GE4s",
        "colab_type": "text"
      },
      "source": [
        "**The list() Constructor**"
      ]
    },
    {
      "cell_type": "code",
      "metadata": {
        "id": "nsXQFAAqGD7w",
        "colab_type": "code",
        "outputId": "d6d51503-93fd-45a4-ce41-26dd1f07e740",
        "colab": {
          "base_uri": "https://localhost:8080/",
          "height": 34
        }
      },
      "source": [
        "thelist = list((\"a\", \"b\" , \"c\"))\n",
        "print(thelist)"
      ],
      "execution_count": 0,
      "outputs": [
        {
          "output_type": "stream",
          "text": [
            "['a', 'b', 'c']\n"
          ],
          "name": "stdout"
        }
      ]
    },
    {
      "cell_type": "markdown",
      "metadata": {
        "id": "z-7qjmvR4w3C",
        "colab_type": "text"
      },
      "source": [
        "# **Dictionary** `{key:value}` `mutable`, `unordered`\n",
        "\n",
        "[Dictionary w3schools](https://www.w3schools.com/python/python_dictionaries.asp)\n",
        "\n"
      ]
    },
    {
      "cell_type": "markdown",
      "metadata": {
        "id": "xejmR-ct457J",
        "colab_type": "text"
      },
      "source": [
        "- **Dictionary** is an **unordered collection** of key-values pairs.\n",
        "\n",
        "- It is **mutable**.\n",
        "\n",
        "- It is created by enclosing the **key-value parirs (key:value)** with in **curly brackets** delimited by `\",\"`"
      ]
    },
    {
      "cell_type": "code",
      "metadata": {
        "id": "7uwHY9CZ4vTb",
        "colab_type": "code",
        "outputId": "206dc6d8-a038-44c0-85cf-33c0bf9b5d71",
        "colab": {
          "base_uri": "https://localhost:8080/"
        }
      },
      "source": [
        "price_lookup = {'apple':100, 'banana':40, 'milk':29}\n",
        "price_lookup['apple']"
      ],
      "execution_count": 0,
      "outputs": [
        {
          "output_type": "execute_result",
          "data": {
            "text/plain": [
              "100"
            ]
          },
          "metadata": {
            "tags": []
          },
          "execution_count": 40
        }
      ]
    },
    {
      "cell_type": "code",
      "metadata": {
        "id": "ixSZieUXABSv",
        "colab_type": "code",
        "outputId": "8db13e46-511f-4e5c-96fc-3ae2945160bc",
        "colab": {
          "base_uri": "https://localhost:8080/"
        }
      },
      "source": [
        "d = {'k1':123, 'k2':[0, 1, 2], 'k3':{'inside_key':100}, 'k4':['apple', 'ball', 'cat']}\n",
        "print(d['k1'])\n",
        "print(d['k2'])\n",
        "print(d['k2'][2])\n",
        "print(d['k3']['inside_key'])\n",
        "\n",
        "d2 = d['k4'][1]\n",
        "print(d2.upper())\n",
        "\n",
        "print(d['k4'][2].upper())"
      ],
      "execution_count": 0,
      "outputs": [
        {
          "output_type": "stream",
          "text": [
            "123\n",
            "[0, 1, 2]\n",
            "2\n",
            "100\n",
            "BALL\n",
            "CAT\n"
          ],
          "name": "stdout"
        }
      ]
    },
    {
      "cell_type": "markdown",
      "metadata": {
        "id": "Sp0Cqwb4LssU",
        "colab_type": "text"
      },
      "source": [
        "**Adding new key:value pairs**"
      ]
    },
    {
      "cell_type": "code",
      "metadata": {
        "id": "bu01fsPeGt1M",
        "colab_type": "code",
        "outputId": "687d690d-d940-4cbf-9416-e4047a021f9d",
        "colab": {
          "base_uri": "https://localhost:8080/"
        }
      },
      "source": [
        "my_dic = {'k1':100, 'k2':200, 'k3':300}\n",
        "my_dic['k4'] = 400\n",
        "print(my_dic)"
      ],
      "execution_count": 0,
      "outputs": [
        {
          "output_type": "stream",
          "text": [
            "{'k1': 100, 'k2': 200, 'k3': 300, 'k4': 400}\n"
          ],
          "name": "stdout"
        }
      ]
    },
    {
      "cell_type": "markdown",
      "metadata": {
        "id": "IaYu2uiRL3WN",
        "colab_type": "text"
      },
      "source": [
        "**Overwriting key:value pairs**"
      ]
    },
    {
      "cell_type": "code",
      "metadata": {
        "colab_type": "code",
        "outputId": "d191d313-6a7a-457d-8a16-6896b94b9f39",
        "id": "_yHE4LuBHp35",
        "colab": {
          "base_uri": "https://localhost:8080/"
        }
      },
      "source": [
        "my_dic = {'k1':100, 'k2':200, 'k3':300}\n",
        "my_dic['k2'] = 'New Value'\n",
        "print(my_dic)"
      ],
      "execution_count": 0,
      "outputs": [
        {
          "output_type": "stream",
          "text": [
            "{'k1': 100, 'k2': 'New Value', 'k3': 300}\n"
          ],
          "name": "stdout"
        }
      ]
    },
    {
      "cell_type": "code",
      "metadata": {
        "id": "LJeJ1R3lH-GT",
        "colab_type": "code",
        "outputId": "7b789a64-5e61-4f22-f8a3-c1f0779709d2",
        "colab": {
          "base_uri": "https://localhost:8080/"
        }
      },
      "source": [
        "my_dic = {'k1':100, 'k2':200, 'k3':300}\n",
        "my_dic.keys()"
      ],
      "execution_count": 0,
      "outputs": [
        {
          "output_type": "execute_result",
          "data": {
            "text/plain": [
              "dict_keys(['k1', 'k2', 'k3'])"
            ]
          },
          "metadata": {
            "tags": []
          },
          "execution_count": 44
        }
      ]
    },
    {
      "cell_type": "code",
      "metadata": {
        "id": "H72rN3dqILHM",
        "colab_type": "code",
        "outputId": "272583da-504b-45ef-ff82-ce14b5811591",
        "colab": {
          "base_uri": "https://localhost:8080/"
        }
      },
      "source": [
        "my_dic = {'k1':100, 'k2':200, 'k3':300}\n",
        "my_dic.values()"
      ],
      "execution_count": 0,
      "outputs": [
        {
          "output_type": "execute_result",
          "data": {
            "text/plain": [
              "dict_values([100, 200, 300])"
            ]
          },
          "metadata": {
            "tags": []
          },
          "execution_count": 45
        }
      ]
    },
    {
      "cell_type": "code",
      "metadata": {
        "id": "ocHfbvxKIno1",
        "colab_type": "code",
        "outputId": "173e49dd-8cbd-4c52-c425-464b5689d961",
        "colab": {
          "base_uri": "https://localhost:8080/"
        }
      },
      "source": [
        "'''\n",
        "return Tuple\n",
        "\n",
        "'''\n",
        "my_dic = {'k1':100, 'k2':200, 'k3':300}\n",
        "my_dic.items()"
      ],
      "execution_count": 0,
      "outputs": [
        {
          "output_type": "execute_result",
          "data": {
            "text/plain": [
              "dict_items([('k1', 100), ('k2', 200), ('k3', 300)])"
            ]
          },
          "metadata": {
            "tags": []
          },
          "execution_count": 46
        }
      ]
    },
    {
      "cell_type": "code",
      "metadata": {
        "id": "grJnVPZHBo9F",
        "colab_type": "code",
        "colab": {
          "base_uri": "https://localhost:8080/",
          "height": 70
        },
        "outputId": "a778dd2f-198c-4b9e-a3b1-0894cd44144d"
      },
      "source": [
        "thisdict = {\n",
        "  \"brand\": \"Ford\",\n",
        "  \"model\": \"Mustang\",\n",
        "  \"year\": 1964\n",
        "}\n",
        "\n",
        "x = thisdict[\"model\"]\n",
        "y = thisdict.get(\"model\") #Another Method -Same result\n",
        "\n",
        "print(x)\n",
        "print(y)\n",
        "\n",
        "#Changing the values\n",
        "thisdict[\"year\"] = 2018\n",
        "print(thisdict)"
      ],
      "execution_count": 43,
      "outputs": [
        {
          "output_type": "stream",
          "text": [
            "Mustang\n",
            "Mustang\n",
            "{'brand': 'Ford', 'model': 'Mustang', 'year': 2018}\n"
          ],
          "name": "stdout"
        }
      ]
    },
    {
      "cell_type": "code",
      "metadata": {
        "id": "N4XqKweuC4OM",
        "colab_type": "code",
        "colab": {
          "base_uri": "https://localhost:8080/",
          "height": 123
        },
        "outputId": "08ea3d18-1ebf-4014-df5e-b492af6d6e5d"
      },
      "source": [
        "thisdict = {\n",
        "  \"brand\": \"Ford\",\n",
        "  \"model\": \"Mustang\",\n",
        "  \"year\": 1964\n",
        "} \n",
        "\n",
        "# This will print all the keys\n",
        "for key in thisdict:\n",
        "    print(key)\n",
        "\n",
        "# This will print all the values\n",
        "for val in thisdict:\n",
        "    print(thisdict[val])\n",
        "    "
      ],
      "execution_count": 48,
      "outputs": [
        {
          "output_type": "stream",
          "text": [
            "brand\n",
            "model\n",
            "year\n",
            "Ford\n",
            "Mustang\n",
            "1964\n"
          ],
          "name": "stdout"
        }
      ]
    },
    {
      "cell_type": "code",
      "metadata": {
        "id": "V-n9rqBgEYq8",
        "colab_type": "code",
        "colab": {
          "base_uri": "https://localhost:8080/",
          "height": 123
        },
        "outputId": "6f0fde46-90f3-4961-ccfd-fe5d98c583f0"
      },
      "source": [
        "thisdict = {\n",
        "  \"brand\": \"Ford\",\n",
        "  \"model\": \"Mustang\",\n",
        "  \"year\": 1964\n",
        "}\n",
        "for vals in thisdict.values():\n",
        "    print(vals)\n",
        "\n",
        "for keys in thisdict.keys():\n",
        "    print(keys)"
      ],
      "execution_count": 52,
      "outputs": [
        {
          "output_type": "stream",
          "text": [
            "Ford\n",
            "Mustang\n",
            "1964\n",
            "brand\n",
            "model\n",
            "year\n"
          ],
          "name": "stdout"
        }
      ]
    },
    {
      "cell_type": "code",
      "metadata": {
        "id": "tLs3pmRtE7Vi",
        "colab_type": "code",
        "colab": {
          "base_uri": "https://localhost:8080/",
          "height": 70
        },
        "outputId": "a9414457-7041-4789-9fb5-ad7838ec80d3"
      },
      "source": [
        "# Looping through both key and values\n",
        "thisdict = {\n",
        "  \"brand\": \"Ford\",\n",
        "  \"model\": \"Mustang\",\n",
        "  \"year\": 1964\n",
        "}\n",
        "for x in thisdict.items():\n",
        "    print(x)\n",
        "    "
      ],
      "execution_count": 53,
      "outputs": [
        {
          "output_type": "stream",
          "text": [
            "('brand', 'Ford')\n",
            "('model', 'Mustang')\n",
            "('year', 1964)\n"
          ],
          "name": "stdout"
        }
      ]
    },
    {
      "cell_type": "markdown",
      "metadata": {
        "id": "63Eu7YA6Fk_u",
        "colab_type": "text"
      },
      "source": [
        "**Check if Key Exists**"
      ]
    },
    {
      "cell_type": "code",
      "metadata": {
        "id": "Y0obuFG7FkIy",
        "colab_type": "code",
        "colab": {
          "base_uri": "https://localhost:8080/",
          "height": 52
        },
        "outputId": "68ca52f9-6a57-46d9-dfe5-dce80dd6901e"
      },
      "source": [
        "thisdict = {\n",
        "  \"k1\": \"tensor\",\n",
        "  \"k2\": \"password\",\n",
        "  \"k3\": 1984\n",
        "}\n",
        "\n",
        "key = input()\n",
        "\n",
        "if key in thisdict:\n",
        "    print(\"this key exist\")\n",
        "else:\n",
        "    print(\"You have enter worng key\") "
      ],
      "execution_count": 5,
      "outputs": [
        {
          "output_type": "stream",
          "text": [
            "k1\n",
            "this key exist\n"
          ],
          "name": "stdout"
        }
      ]
    },
    {
      "cell_type": "code",
      "metadata": {
        "id": "SHf2GXeRJeJV",
        "colab_type": "code",
        "colab": {
          "base_uri": "https://localhost:8080/",
          "height": 70
        },
        "outputId": "df0ea613-e00d-4e4b-81f8-da7df2089162"
      },
      "source": [
        "thisdict = {\n",
        "  \"k1\": \"tensor\",\n",
        "  \"k2\": \"password\",\n",
        "  \"k3\": 1984\n",
        "}\n",
        "\n",
        "print('Enter the key:')\n",
        "key = input()\n",
        "\n",
        "if key in thisdict:\n",
        "    print(\"The value of this key is\", thisdict[key])\n",
        "else:\n",
        "    print(\"You have enter worng key\") \n"
      ],
      "execution_count": 11,
      "outputs": [
        {
          "output_type": "stream",
          "text": [
            "Enter the key:\n",
            "k1\n",
            "The value of this key is tensor\n"
          ],
          "name": "stdout"
        }
      ]
    },
    {
      "cell_type": "markdown",
      "metadata": {
        "id": "8U3QjrE8Ir0R",
        "colab_type": "text"
      },
      "source": [
        "**Python `input()` Function** "
      ]
    },
    {
      "cell_type": "code",
      "metadata": {
        "id": "TMFcJZMYHKwb",
        "colab_type": "code",
        "colab": {
          "base_uri": "https://localhost:8080/",
          "height": 70
        },
        "outputId": "531a0e6d-2077-46d9-aa90-bdf819b2ddbb"
      },
      "source": [
        "print('Enter your name:')\n",
        "x = input()\n",
        "print('Hello, ' + x)"
      ],
      "execution_count": 3,
      "outputs": [
        {
          "output_type": "stream",
          "text": [
            "Enter your name:\n",
            "faizy\n",
            "Hello, faizy\n"
          ],
          "name": "stdout"
        }
      ]
    },
    {
      "cell_type": "markdown",
      "metadata": {
        "id": "k5CMWes7Nyvk",
        "colab_type": "text"
      },
      "source": [
        "# **Tuples** `()`,`im_mutable`, `ordered`, `Duplicates allowed`\n",
        "\n",
        "[Tuples w3school](https://www.w3schools.com/python/python_tuples.asp)\n",
        "\n"
      ]
    },
    {
      "cell_type": "markdown",
      "metadata": {
        "id": "mJrvVBCPN5L9",
        "colab_type": "text"
      },
      "source": [
        "- They are very similar to the lists.key difference is **immutability**.\n",
        "\n",
        "- Once an element inside a tuple it cannot be reassigned to something else.\n",
        "\n",
        "- Tuples uses paranthesis:**(1, 2, 3)**\n",
        "\n",
        "- Tuple is an **ordered collection** of data.\n",
        "\n",
        "- It is **immutable** and **allow duplicates**.\n",
        "\n",
        "- It list is created by enclosing the data items with in round brackets delimited by \",\""
      ]
    },
    {
      "cell_type": "code",
      "metadata": {
        "id": "ZF1dHQJXb3Li",
        "colab_type": "code",
        "outputId": "8dd27573-41d9-4656-9cef-c97d4c345e1f",
        "colab": {
          "base_uri": "https://localhost:8080/",
          "height": 52
        }
      },
      "source": [
        "t = ('a','a', 'b', 'e', 'f', 'c', 'c', 'c')\n",
        "print(t.count('c'))\n",
        "print(t.index('c')) #this return the very first time 'c' appers \n"
      ],
      "execution_count": 0,
      "outputs": [
        {
          "output_type": "stream",
          "text": [
            "3\n",
            "5\n"
          ],
          "name": "stdout"
        }
      ]
    },
    {
      "cell_type": "code",
      "metadata": {
        "id": "2hppnTbXc-r7",
        "colab_type": "code",
        "outputId": "4966ff3c-0957-4063-8979-563975cff007",
        "colab": {
          "base_uri": "https://localhost:8080/",
          "height": 176
        }
      },
      "source": [
        "# simple Slicing Tuples\n",
        "\n",
        "t = (0, 1, 2, 3, 4, 5, 6, 7, 8, 9, 10, 11, 12, 13)\n",
        "print(type(t))\n",
        "print(len(t))\n",
        "\n",
        "print(t[0])\n",
        "print(t[2:])\n",
        "print(t[:2])\n",
        "print(t[0:6:2])\n",
        "print(t[0::2])\n",
        "print(t[0:6:])\n",
        "print(t[:6:2])"
      ],
      "execution_count": 0,
      "outputs": [
        {
          "output_type": "stream",
          "text": [
            "<class 'tuple'>\n",
            "14\n",
            "0\n",
            "(2, 3, 4, 5, 6, 7, 8, 9, 10, 11, 12, 13)\n",
            "(0, 1)\n",
            "(0, 2, 4)\n",
            "(0, 2, 4, 6, 8, 10, 12)\n",
            "(0, 1, 2, 3, 4, 5)\n",
            "(0, 2, 4)\n"
          ],
          "name": "stdout"
        }
      ]
    },
    {
      "cell_type": "code",
      "metadata": {
        "id": "0newOSpvQ3Oi",
        "colab_type": "code",
        "outputId": "7e175a40-d15d-4f1c-978d-ff739e0615c4",
        "colab": {
          "base_uri": "https://localhost:8080/",
          "height": 176
        }
      },
      "source": [
        "# Slicing Tuples\n",
        "\n",
        "t = (['a', 2, 'c', 4], {'k1': 100}, {'k2':['apple', 'ball', 'cat']})\n",
        "\n",
        "print(type(t))\n",
        "print(len(t))\n",
        "\n",
        "print(t[0])\n",
        "print(t[2:])\n",
        "print(t[:2])\n",
        "print(t[0:1:2])\n",
        "print(t[0::2])\n",
        "print(t[0:1:])\n",
        "print(t[:1:2])\n",
        "\n"
      ],
      "execution_count": 0,
      "outputs": [
        {
          "output_type": "stream",
          "text": [
            "<class 'tuple'>\n",
            "3\n",
            "['a', 2, 'c', 4]\n",
            "({'k2': ['apple', 'ball', 'cat']},)\n",
            "(['a', 2, 'c', 4], {'k1': 100})\n",
            "(['a', 2, 'c', 4],)\n",
            "(['a', 2, 'c', 4], {'k2': ['apple', 'ball', 'cat']})\n",
            "(['a', 2, 'c', 4],)\n",
            "(['a', 2, 'c', 4],)\n"
          ],
          "name": "stdout"
        }
      ]
    },
    {
      "cell_type": "code",
      "metadata": {
        "id": "GKFhBsZ7Zv3G",
        "colab_type": "code",
        "colab": {}
      },
      "source": [
        "t = (['a', 2, 'c', 4], {'k1': 100}, {'k2':['apple', 'ball', 'cat']})"
      ],
      "execution_count": 0,
      "outputs": []
    },
    {
      "cell_type": "markdown",
      "metadata": {
        "id": "USOEx0qgJnim",
        "colab_type": "text"
      },
      "source": [
        "Tuple provides us the convenient source of whats is known as **data integratity**\n",
        "\n",
        "- Main use of tuples is when we are passing the **objects** in our program, we need to make sure that theyacciedntly get changed\n",
        "\n",
        "```\n",
        "TypeError: 'tuple' object does not support item assignment\n",
        "```\n",
        "\n"
      ]
    },
    {
      "cell_type": "code",
      "metadata": {
        "id": "5YDCAdp_eICP",
        "colab_type": "code",
        "outputId": "5857a01a-88d7-47d1-edc0-244fe3969090",
        "colab": {
          "base_uri": "https://localhost:8080/",
          "height": 185
        }
      },
      "source": [
        "t = ('a', 1, 4, 'ONE', 'apple')\n",
        "t[0] = 'New'"
      ],
      "execution_count": 0,
      "outputs": [
        {
          "output_type": "error",
          "ename": "TypeError",
          "evalue": "ignored",
          "traceback": [
            "\u001b[0;31m---------------------------------------------------------------------------\u001b[0m",
            "\u001b[0;31mTypeError\u001b[0m                                 Traceback (most recent call last)",
            "\u001b[0;32m<ipython-input-51-5371bb59b9a0>\u001b[0m in \u001b[0;36m<module>\u001b[0;34m()\u001b[0m\n\u001b[1;32m      1\u001b[0m \u001b[0mt\u001b[0m \u001b[0;34m=\u001b[0m \u001b[0;34m(\u001b[0m\u001b[0;34m'a'\u001b[0m\u001b[0;34m,\u001b[0m \u001b[0;36m1\u001b[0m\u001b[0;34m,\u001b[0m \u001b[0;36m4\u001b[0m\u001b[0;34m,\u001b[0m \u001b[0;34m'ONE'\u001b[0m\u001b[0;34m,\u001b[0m \u001b[0;34m'apple'\u001b[0m\u001b[0;34m)\u001b[0m\u001b[0;34m\u001b[0m\u001b[0;34m\u001b[0m\u001b[0m\n\u001b[0;32m----> 2\u001b[0;31m \u001b[0mt\u001b[0m\u001b[0;34m[\u001b[0m\u001b[0;36m0\u001b[0m\u001b[0;34m]\u001b[0m \u001b[0;34m=\u001b[0m \u001b[0;34m'New'\u001b[0m\u001b[0;34m\u001b[0m\u001b[0;34m\u001b[0m\u001b[0m\n\u001b[0m",
            "\u001b[0;31mTypeError\u001b[0m: 'tuple' object does not support item assignment"
          ]
        }
      ]
    },
    {
      "cell_type": "markdown",
      "metadata": {
        "id": "V6d0EImNK-zZ",
        "colab_type": "text"
      },
      "source": [
        "- Tuples are faster than lists.\n",
        "\n",
        "- It makes your code safer if you “write-protect” data that does not need to be changed.\n",
        "\n",
        "- Some tuples can be used as **dictionary keys** (specifically, tuples that contain **immutable value**s like strings, numbers, and other tuples)."
      ]
    },
    {
      "cell_type": "markdown",
      "metadata": {
        "id": "R3_TWl4vMO9X",
        "colab_type": "text"
      },
      "source": [
        "**Change Tuple Values**\n",
        "\n",
        "- Once a tuple is created, you cannot change its values. Tuples are unchangeable, or immutable as it also is called.\n",
        "\n",
        "- But there is a workaround. You can convert the tuple into a list, change the list, and convert the list back into a tuple."
      ]
    },
    {
      "cell_type": "code",
      "metadata": {
        "id": "vuSe4upUMM0g",
        "colab_type": "code",
        "outputId": "8f4a3a95-95a5-48cb-a0f8-7c2fb63cbe43",
        "colab": {
          "base_uri": "https://localhost:8080/",
          "height": 34
        }
      },
      "source": [
        "tup1 = ('a', 'b', 'c', 1, 2, 3)\n",
        "lis1 = list(tup1)\n",
        "lis1[0] = 'apple'\n",
        "tup1 = tuple(lis1)\n",
        "print(tup1)"
      ],
      "execution_count": 0,
      "outputs": [
        {
          "output_type": "stream",
          "text": [
            "('apple', 'b', 'c', 1, 2, 3)\n"
          ],
          "name": "stdout"
        }
      ]
    },
    {
      "cell_type": "markdown",
      "metadata": {
        "id": "yqsEGZi1OtJp",
        "colab_type": "text"
      },
      "source": [
        "__Loop Through a Tuple__"
      ]
    },
    {
      "cell_type": "code",
      "metadata": {
        "id": "F_cACP3sOvoM",
        "colab_type": "code",
        "colab": {
          "base_uri": "https://localhost:8080/",
          "height": 70
        },
        "outputId": "c5773df5-ba29-42d0-f5ec-9400cc1e8ce6"
      },
      "source": [
        "mytup = ('apple', 'banana', 'orange')\n",
        "for x in mytup:\n",
        "    print(x)"
      ],
      "execution_count": 25,
      "outputs": [
        {
          "output_type": "stream",
          "text": [
            "apple\n",
            "banana\n",
            "orange\n"
          ],
          "name": "stdout"
        }
      ]
    },
    {
      "cell_type": "markdown",
      "metadata": {
        "id": "l6OzEtMoQFLp",
        "colab_type": "text"
      },
      "source": [
        "**Check if Item Exists**"
      ]
    },
    {
      "cell_type": "code",
      "metadata": {
        "id": "n-WaGUSeP-fJ",
        "colab_type": "code",
        "colab": {
          "base_uri": "https://localhost:8080/",
          "height": 52
        },
        "outputId": "a007395b-5498-4b80-c4d3-8429c536749f"
      },
      "source": [
        "thistuple = (\"apple\", \"banana\", \"cherry\")\n",
        "if \"apple\" in thistuple:\n",
        "  print(\"Yes, 'apple' is in the fruits tuple\")\n",
        "print(len(thistuple))"
      ],
      "execution_count": 26,
      "outputs": [
        {
          "output_type": "stream",
          "text": [
            "Yes, 'apple' is in the fruits tuple\n",
            "3\n"
          ],
          "name": "stdout"
        }
      ]
    },
    {
      "cell_type": "code",
      "metadata": {
        "id": "sXMwDxqnQVHX",
        "colab_type": "code",
        "colab": {}
      },
      "source": [
        "# You cannot add items to a tuple:\n",
        "thistuple = (\"apple\", \"banana\", \"cherry\")\n",
        "thistuple[3] = \"orange\" # This will raise an error\n",
        "print(thistuple)"
      ],
      "execution_count": 0,
      "outputs": []
    },
    {
      "cell_type": "markdown",
      "metadata": {
        "id": "sZ5T1X5pSOcx",
        "colab_type": "text"
      },
      "source": [
        "<strong><font size = 6 color ='red' >Note:<font><strong> \n",
        "\n",
        "**You cannot remove items in a tuple.**"
      ]
    },
    {
      "cell_type": "code",
      "metadata": {
        "id": "DwHorhJORzKc",
        "colab_type": "code",
        "colab": {}
      },
      "source": [
        "thistuple = (\"apple\", \"banana\", \"cherry\")\n",
        "del thistuple\n",
        "print(thistuple) #this will raise an error because the tuple no longer exists"
      ],
      "execution_count": 0,
      "outputs": []
    },
    {
      "cell_type": "code",
      "metadata": {
        "id": "Yp-gJmPcTIhx",
        "colab_type": "code",
        "colab": {}
      },
      "source": [
        "#joining Tuple\n",
        "\n",
        "tuple1 = (\"a\", \"b\" , \"c\")\n",
        "tuple2 = (1, 2, 3)\n",
        "\n",
        "tuple3 = tuple1 + tuple2\n",
        "print(tuple3)"
      ],
      "execution_count": 0,
      "outputs": []
    },
    {
      "cell_type": "markdown",
      "metadata": {
        "id": "CTcyeH4rTWMb",
        "colab_type": "text"
      },
      "source": [
        "**The tuple() Constructor**"
      ]
    },
    {
      "cell_type": "code",
      "metadata": {
        "id": "SQItFchyTT_p",
        "colab_type": "code",
        "colab": {
          "base_uri": "https://localhost:8080/",
          "height": 52
        },
        "outputId": "cd743682-bdec-4b3e-a778-3ef46d37ebf8"
      },
      "source": [
        "thistuple = tuple((\"apple\", \"banana\", \"cherry\")) \n",
        "print(thistuple)\n",
        "print(type(thistuple))"
      ],
      "execution_count": 30,
      "outputs": [
        {
          "output_type": "stream",
          "text": [
            "('apple', 'banana', 'cherry')\n",
            "<class 'tuple'>\n"
          ],
          "name": "stdout"
        }
      ]
    },
    {
      "cell_type": "markdown",
      "metadata": {
        "id": "LPkW_EZCNBnR",
        "colab_type": "text"
      },
      "source": [
        "# **Sets** {}, `mutable`, `unordered`, `No duplicate`\n",
        "[Sets w3schools](https://www.w3schools.com/python/python_sets.asp)"
      ]
    },
    {
      "cell_type": "markdown",
      "metadata": {
        "id": "xXw-x8OfNJ0-",
        "colab_type": "text"
      },
      "source": [
        "- Set is an **unordered** collection of data, e.g- we can have say 2 in the set **more then one time**.\n",
        "\n",
        "- It is mutable and **does not allow duplicates**.\n",
        "\n",
        "- It is created by enclosing the data items with in curly brackets delimited by \","
      ]
    },
    {
      "cell_type": "markdown",
      "metadata": {
        "id": "wxgxrO3Ei0bw",
        "colab_type": "text"
      },
      "source": [
        "**Access Items**"
      ]
    },
    {
      "cell_type": "code",
      "metadata": {
        "id": "dsHCxAu8itZt",
        "colab_type": "code",
        "colab": {
          "base_uri": "https://localhost:8080/",
          "height": 70
        },
        "outputId": "9811908d-2000-404f-ffaa-a448660551d9"
      },
      "source": [
        "thisset = {\"apple\", \"banana\", \"cherry\"}\n",
        "\n",
        "for x in thisset:\n",
        "  print(x)"
      ],
      "execution_count": 31,
      "outputs": [
        {
          "output_type": "stream",
          "text": [
            "cherry\n",
            "banana\n",
            "apple\n"
          ],
          "name": "stdout"
        }
      ]
    },
    {
      "cell_type": "code",
      "metadata": {
        "id": "bn3st0Tui66Z",
        "colab_type": "code",
        "colab": {
          "base_uri": "https://localhost:8080/",
          "height": 34
        },
        "outputId": "a81c5775-85cb-4bda-c89d-4a992b08468c"
      },
      "source": [
        "thisset = {\"apple\", \"banana\", \"cherry\"}\n",
        "\n",
        "print(\"banana\" in thisset)"
      ],
      "execution_count": 32,
      "outputs": [
        {
          "output_type": "stream",
          "text": [
            "True\n"
          ],
          "name": "stdout"
        }
      ]
    },
    {
      "cell_type": "markdown",
      "metadata": {
        "id": "6E_qoM51joA3",
        "colab_type": "text"
      },
      "source": [
        "**Add Items**"
      ]
    },
    {
      "cell_type": "code",
      "metadata": {
        "id": "Cnku8q6Ijwll",
        "colab_type": "code",
        "colab": {
          "base_uri": "https://localhost:8080/",
          "height": 34
        },
        "outputId": "424a74dc-07de-45ce-d245-fff6a848b22d"
      },
      "source": [
        "thisset = {\"apple\", \"banana\", \"cherry\"}\n",
        "thisset.add(\"orange\")\n",
        "print(thisset)"
      ],
      "execution_count": 33,
      "outputs": [
        {
          "output_type": "stream",
          "text": [
            "{'orange', 'cherry', 'banana', 'apple'}\n"
          ],
          "name": "stdout"
        }
      ]
    },
    {
      "cell_type": "markdown",
      "metadata": {
        "id": "-w3ClG37kBPU",
        "colab_type": "text"
      },
      "source": [
        "**Add multiple items to a set**"
      ]
    },
    {
      "cell_type": "code",
      "metadata": {
        "id": "5RbylWNLj5N-",
        "colab_type": "code",
        "colab": {
          "base_uri": "https://localhost:8080/",
          "height": 34
        },
        "outputId": "07d8e7f8-a216-490c-928c-f2146f050109"
      },
      "source": [
        "hisset = {\"apple\", \"banana\", \"cherry\"}\n",
        "thisset.update([\"orange\", \"mango\", \"grapes\"])\n",
        "print(thisset)"
      ],
      "execution_count": 34,
      "outputs": [
        {
          "output_type": "stream",
          "text": [
            "{'mango', 'grapes', 'cherry', 'orange', 'apple', 'banana'}\n"
          ],
          "name": "stdout"
        }
      ]
    },
    {
      "cell_type": "code",
      "metadata": {
        "id": "DBQKvdfJk8ma",
        "colab_type": "code",
        "colab": {
          "base_uri": "https://localhost:8080/",
          "height": 70
        },
        "outputId": "ccbe1a18-781d-4a57-e52b-6641f48c8221"
      },
      "source": [
        "thisset = {\"apple\", \"banana\", \"cherry\"}\n",
        "\n",
        "print(len(thisset))\n",
        "\n",
        "thisset.remove(\"banana\")\n",
        "\n",
        "print(thisset)\n",
        "print(len(thisset))"
      ],
      "execution_count": 36,
      "outputs": [
        {
          "output_type": "stream",
          "text": [
            "3\n",
            "{'cherry', 'apple'}\n",
            "2\n"
          ],
          "name": "stdout"
        }
      ]
    },
    {
      "cell_type": "markdown",
      "metadata": {
        "id": "lqzVUgmClnJ4",
        "colab_type": "text"
      },
      "source": [
        "**Remove the last item by using the` pop()` method:**"
      ]
    },
    {
      "cell_type": "code",
      "metadata": {
        "id": "zl1LL8kMlU0W",
        "colab_type": "code",
        "colab": {}
      },
      "source": [
        "thisset = {\"apple\", \"banana\", \"cherry\"}\n",
        "\n",
        "x = thisset.pop()\n",
        "\n",
        "print(x)\n",
        "\n",
        "print(thisset)"
      ],
      "execution_count": 0,
      "outputs": []
    },
    {
      "cell_type": "code",
      "metadata": {
        "id": "c9AJdnLkZzx9",
        "colab_type": "code",
        "colab": {}
      },
      "source": [
        "myset = set()\n",
        "\n",
        "myset.add(1)\n",
        "print(myset)\n",
        "\n",
        "myset.add(2)\n",
        "print(myset)\n",
        "\n",
        "\n",
        "myset.add(2)\n",
        "print(myset) #it has to be unique to get added to the set\n",
        "\n",
        "myset.add(5)\n",
        "print(myset)"
      ],
      "execution_count": 0,
      "outputs": []
    },
    {
      "cell_type": "code",
      "metadata": {
        "id": "rr_ArHBSbSfy",
        "colab_type": "code",
        "colab": {}
      },
      "source": [
        "mylist = [1, 1, 1, 1, 2, 2, 3, 3, 3, 4, 5, 6, 6, 6, 7, 7, 8, 8, 9, 9]\n",
        "print(set(mylist)) "
      ],
      "execution_count": 0,
      "outputs": []
    },
    {
      "cell_type": "code",
      "metadata": {
        "id": "d3Hob6lndtrj",
        "colab_type": "code",
        "colab": {}
      },
      "source": [
        "set('Mississippi')"
      ],
      "execution_count": 0,
      "outputs": []
    },
    {
      "cell_type": "markdown",
      "metadata": {
        "id": "WBAmOuILl09I",
        "colab_type": "text"
      },
      "source": [
        "`.Union()` Joining two sets"
      ]
    },
    {
      "cell_type": "code",
      "metadata": {
        "id": "8nUKXs35l0KF",
        "colab_type": "code",
        "colab": {}
      },
      "source": [
        "set1 = {\"a\", \"b\" , \"c\"}\n",
        "set2 = {1, 2, 3}\n",
        "\n",
        "set3 = set1.union(set2)\n",
        "print(set3)"
      ],
      "execution_count": 0,
      "outputs": []
    },
    {
      "cell_type": "markdown",
      "metadata": {
        "id": "4T3AFyJfmz50",
        "colab_type": "text"
      },
      "source": [
        "The update() method inserts the items in set2 into set1:"
      ]
    },
    {
      "cell_type": "code",
      "metadata": {
        "id": "hha1Uk-smoFz",
        "colab_type": "code",
        "colab": {
          "base_uri": "https://localhost:8080/",
          "height": 34
        },
        "outputId": "99a7e2d8-d875-4d30-dce2-e6f684ec2410"
      },
      "source": [
        "set1 = {\"a\", \"b\" , \"c\"}\n",
        "set2 = {1, 2, 3}\n",
        "\n",
        "set1.update(set2)\n",
        "print(set1)"
      ],
      "execution_count": 37,
      "outputs": [
        {
          "output_type": "stream",
          "text": [
            "{1, 2, 'c', 3, 'a', 'b'}\n"
          ],
          "name": "stdout"
        }
      ]
    },
    {
      "cell_type": "markdown",
      "metadata": {
        "id": "B9CaBrb6eAIh",
        "colab_type": "text"
      },
      "source": [
        "# **Booleans** **True/False**\n",
        "[Booleans w3schools](https://www.w3schools.com/python/python_booleans.asp)"
      ]
    },
    {
      "cell_type": "markdown",
      "metadata": {
        "id": "o-loBw5fgvOX",
        "colab_type": "text"
      },
      "source": [
        "- **Booleans** are the operaters that allow you to convey **True** or **false** statements.\n",
        "\n",
        "- These are important where we have to deal with control flow and logic!"
      ]
    },
    {
      "cell_type": "code",
      "metadata": {
        "id": "G7x2mhTlht6G",
        "colab_type": "code",
        "colab": {}
      },
      "source": [
        " print(type(True))\n",
        " print(type(False))"
      ],
      "execution_count": 0,
      "outputs": []
    },
    {
      "cell_type": "code",
      "metadata": {
        "id": "Tyouukrjh-Si",
        "colab_type": "code",
        "colab": {}
      },
      "source": [
        "1 > 2"
      ],
      "execution_count": 0,
      "outputs": []
    },
    {
      "cell_type": "code",
      "metadata": {
        "id": "mREtcBSNiN_u",
        "colab_type": "code",
        "colab": {}
      },
      "source": [
        "1 == 1"
      ],
      "execution_count": 0,
      "outputs": []
    },
    {
      "cell_type": "code",
      "metadata": {
        "id": "fvytpaShiVq3",
        "colab_type": "code",
        "colab": {}
      },
      "source": [
        "b = None #used as a placeholder\n",
        "print(b)"
      ],
      "execution_count": 0,
      "outputs": []
    },
    {
      "cell_type": "markdown",
      "metadata": {
        "id": "2uh8xHGqqXxj",
        "colab_type": "text"
      },
      "source": [
        "# **I/O with Basic Files in Python**"
      ]
    },
    {
      "cell_type": "code",
      "metadata": {
        "id": "Ip8ueqQ48r2t",
        "colab_type": "code",
        "colab": {}
      },
      "source": [
        "# writing my file\n",
        "\n",
        "%%writefile myfile.txt\n",
        "Hello my name is mohd faizy\n",
        "i have completed my masters form JMI\n",
        "& i am a Machine learning enthusiastic"
      ],
      "execution_count": 0,
      "outputs": []
    },
    {
      "cell_type": "code",
      "metadata": {
        "id": "WOB7s-JhAkjI",
        "colab_type": "code",
        "colab": {}
      },
      "source": [
        "ls"
      ],
      "execution_count": 0,
      "outputs": []
    },
    {
      "cell_type": "code",
      "metadata": {
        "id": "M6OgXYDoAnWB",
        "colab_type": "code",
        "colab": {}
      },
      "source": [
        "pwd"
      ],
      "execution_count": 0,
      "outputs": []
    },
    {
      "cell_type": "code",
      "metadata": {
        "id": "SiXvUxwu_8uz",
        "colab_type": "code",
        "colab": {}
      },
      "source": [
        "myfile = open('/content/myfile.txt')"
      ],
      "execution_count": 0,
      "outputs": []
    },
    {
      "cell_type": "code",
      "metadata": {
        "id": "qXBHwfvgHYBC",
        "colab_type": "code",
        "colab": {}
      },
      "source": [
        "#this will output everything as a single string\n",
        "myfile.read()"
      ],
      "execution_count": 0,
      "outputs": []
    },
    {
      "cell_type": "markdown",
      "metadata": {
        "id": "KT8PpY1cH5ID",
        "colab_type": "text"
      },
      "source": [
        "- if we run this again we recive an empty string this happen because there a cursor at the begining of a file and when you read it the cursor goes all the way to the end.\n",
        "        \n"
      ]
    },
    {
      "cell_type": "code",
      "metadata": {
        "id": "U7h07PZAHpc8",
        "colab_type": "code",
        "colab": {}
      },
      "source": [
        "myfile.read() "
      ],
      "execution_count": 0,
      "outputs": []
    },
    {
      "cell_type": "markdown",
      "metadata": {
        "id": "Bcs3vf27Ix7r",
        "colab_type": "text"
      },
      "source": [
        "- in order to read this file again we have to reset the cursor"
      ]
    },
    {
      "cell_type": "code",
      "metadata": {
        "id": "vxEHfaB_JAEr",
        "colab_type": "code",
        "colab": {}
      },
      "source": [
        "# reseting he cursor\n",
        "myfile.seek(0)"
      ],
      "execution_count": 0,
      "outputs": []
    },
    {
      "cell_type": "code",
      "metadata": {
        "id": "g3D97zHvJJMC",
        "colab_type": "code",
        "colab": {}
      },
      "source": [
        "myfile.read()"
      ],
      "execution_count": 0,
      "outputs": []
    },
    {
      "cell_type": "code",
      "metadata": {
        "id": "6oKwrumRRJdz",
        "colab_type": "code",
        "colab": {}
      },
      "source": [
        "myfile.seek(0)\n",
        "myfile.readlines()"
      ],
      "execution_count": 0,
      "outputs": []
    },
    {
      "cell_type": "code",
      "metadata": {
        "id": "BWMV_0n5Rgs1",
        "colab_type": "code",
        "colab": {}
      },
      "source": [
        "#closing the file\n",
        "myfile.close()"
      ],
      "execution_count": 0,
      "outputs": []
    },
    {
      "cell_type": "markdown",
      "metadata": {
        "id": "Lyna7NhXeq2a",
        "colab_type": "text"
      },
      "source": [
        "> __So any code within the indented code of block will use myfile as a varible of this text file$\\downarrow$__\n",
        "\n"
      ]
    },
    {
      "cell_type": "code",
      "metadata": {
        "id": "vpNFqK6jdSJl",
        "colab_type": "code",
        "colab": {}
      },
      "source": [
        "with open('/content/myfile.txt') as my_new_file:\n",
        "    content = my_new_file.read() \n",
        "print(content)                                          "
      ],
      "execution_count": 0,
      "outputs": []
    },
    {
      "cell_type": "code",
      "metadata": {
        "id": "JhRa6q8Gzhvb",
        "colab_type": "code",
        "colab": {}
      },
      "source": [
        "with open('/content/myfile.txt', mode = 'r') as myfile:\n",
        "    content = myfile.read()\n",
        "print(content)"
      ],
      "execution_count": 0,
      "outputs": []
    },
    {
      "cell_type": "code",
      "metadata": {
        "id": "gw3b2HKO0cXz",
        "colab_type": "code",
        "colab": {}
      },
      "source": [
        "with open('/content/myfile.txt', mode = 'w') as myfile:\n",
        "    content = myfile.read()\n",
        "print(content)"
      ],
      "execution_count": 0,
      "outputs": []
    },
    {
      "cell_type": "code",
      "metadata": {
        "id": "ekUZMMSo01fe",
        "colab_type": "code",
        "colab": {}
      },
      "source": [
        "#overwriting the files\n",
        "\n",
        "%%writefile myfile.txt\n",
        "One On first\n",
        "Two On second\n",
        "Three On Third"
      ],
      "execution_count": 0,
      "outputs": []
    },
    {
      "cell_type": "code",
      "metadata": {
        "id": "CYLeDowy1OFi",
        "colab_type": "code",
        "colab": {}
      },
      "source": [
        "with open('/content/myfile.txt', mode = 'r') as f:\n",
        "    print(f.read())"
      ],
      "execution_count": 0,
      "outputs": []
    },
    {
      "cell_type": "code",
      "metadata": {
        "id": "Il7hhHap2UEx",
        "colab_type": "code",
        "colab": {}
      },
      "source": [
        "# Adding the new line to this \n",
        "\n",
        "with open('/content/myfile', mode = 'a') as f:\n",
        "    f.write('\\nFour On Forth')\n"
      ],
      "execution_count": 0,
      "outputs": []
    },
    {
      "cell_type": "code",
      "metadata": {
        "id": "CnHcdh0q6OzB",
        "colab_type": "code",
        "colab": {}
      },
      "source": [
        "with open('/content/myfile.txt', mode = 'r') as f:\n",
        "    print(f.read())"
      ],
      "execution_count": 0,
      "outputs": []
    },
    {
      "cell_type": "code",
      "metadata": {
        "id": "u-XToBr-6s4T",
        "colab_type": "code",
        "colab": {}
      },
      "source": [
        "with open('/content/xyz.txt', mode = 'w') as f:\n",
        "    f.write('I created a new file')"
      ],
      "execution_count": 0,
      "outputs": []
    },
    {
      "cell_type": "code",
      "metadata": {
        "id": "SBXuLCCl7Qma",
        "colab_type": "code",
        "colab": {}
      },
      "source": [
        "with open('/content/xyz.txt', mode = 'r') as f:\n",
        "    print(f.read())"
      ],
      "execution_count": 0,
      "outputs": []
    },
    {
      "cell_type": "markdown",
      "metadata": {
        "id": "9MH3wrztyJFw",
        "colab_type": "text"
      },
      "source": [
        "# **Python Operater**"
      ]
    },
    {
      "cell_type": "markdown",
      "metadata": {
        "id": "8SqzLzzde0cB",
        "colab_type": "text"
      },
      "source": [
        "[Python Operators W3school](https://www.w3schools.com/python/python_operators.asp)"
      ]
    },
    {
      "cell_type": "markdown",
      "metadata": {
        "id": "hqLWgr7DgPkV",
        "colab_type": "text"
      },
      "source": [
        "1. Arithmetic operators\n",
        "2. Assignment operators\n",
        "3. Python Comparison Operators\n",
        "4. Python Logical Operators\n",
        "5. Python Identity Operators\n",
        "6. Python Membership Operators\n",
        "7. Python Bitwise Operators"
      ]
    },
    {
      "cell_type": "markdown",
      "metadata": {
        "id": "8egu6RqjhDad",
        "colab_type": "text"
      },
      "source": [
        "## **comparision Operater**"
      ]
    },
    {
      "cell_type": "code",
      "metadata": {
        "id": "Wk_ATpMFhrZ2",
        "colab_type": "code",
        "outputId": "950cb295-662f-4f7c-8be5-ba55f2520f21",
        "colab": {
          "base_uri": "https://localhost:8080/",
          "height": 34
        }
      },
      "source": [
        "# What Boolean will be the output of the following:\n",
        "\n",
        "2 < 3 > 10"
      ],
      "execution_count": 0,
      "outputs": [
        {
          "output_type": "execute_result",
          "data": {
            "text/plain": [
              "False"
            ]
          },
          "metadata": {
            "tags": []
          },
          "execution_count": 21
        }
      ]
    },
    {
      "cell_type": "code",
      "metadata": {
        "id": "p-bPE9iUhzGU",
        "colab_type": "code",
        "outputId": "e37e7aa9-9d56-456e-b0b3-887077373aab",
        "colab": {
          "base_uri": "https://localhost:8080/",
          "height": 34
        }
      },
      "source": [
        "# What Boolean will be the output of the following:\n",
        "\n",
        "2 <= 3 >= 1"
      ],
      "execution_count": 0,
      "outputs": [
        {
          "output_type": "execute_result",
          "data": {
            "text/plain": [
              "True"
            ]
          },
          "metadata": {
            "tags": []
          },
          "execution_count": 22
        }
      ]
    },
    {
      "cell_type": "code",
      "metadata": {
        "id": "ejH1lXOyV48T",
        "colab_type": "code",
        "outputId": "1462f81e-1ce8-4895-ee76-f01e0fbaf557",
        "colab": {
          "base_uri": "https://localhost:8080/",
          "height": 34
        }
      },
      "source": [
        "1 < 2 and 2 < 3"
      ],
      "execution_count": 0,
      "outputs": [
        {
          "output_type": "execute_result",
          "data": {
            "text/plain": [
              "True"
            ]
          },
          "metadata": {
            "tags": []
          },
          "execution_count": 12
        }
      ]
    },
    {
      "cell_type": "code",
      "metadata": {
        "id": "iA3_wimsdMvA",
        "colab_type": "code",
        "outputId": "a9503442-53e9-4bc7-c577-e7c2c8c2c88e",
        "colab": {
          "base_uri": "https://localhost:8080/",
          "height": 34
        }
      },
      "source": [
        "'h' == 'h' and 2 == 2"
      ],
      "execution_count": 0,
      "outputs": [
        {
          "output_type": "execute_result",
          "data": {
            "text/plain": [
              "True"
            ]
          },
          "metadata": {
            "tags": []
          },
          "execution_count": 14
        }
      ]
    },
    {
      "cell_type": "code",
      "metadata": {
        "id": "i3sJqJV1dp9n",
        "colab_type": "code",
        "outputId": "326977f4-6abb-4662-8b57-9d0b0aa45e56",
        "colab": {
          "base_uri": "https://localhost:8080/",
          "height": 34
        }
      },
      "source": [
        "100 == 200 or 2 == 2"
      ],
      "execution_count": 0,
      "outputs": [
        {
          "output_type": "execute_result",
          "data": {
            "text/plain": [
              "True"
            ]
          },
          "metadata": {
            "tags": []
          },
          "execution_count": 15
        }
      ]
    },
    {
      "cell_type": "code",
      "metadata": {
        "id": "dkPIgqhhdvhn",
        "colab_type": "code",
        "outputId": "4d57b139-ddf2-4bd9-eb8b-14839c4b8429",
        "colab": {
          "base_uri": "https://localhost:8080/",
          "height": 34
        }
      },
      "source": [
        "1 == 1"
      ],
      "execution_count": 0,
      "outputs": [
        {
          "output_type": "execute_result",
          "data": {
            "text/plain": [
              "True"
            ]
          },
          "metadata": {
            "tags": []
          },
          "execution_count": 16
        }
      ]
    },
    {
      "cell_type": "code",
      "metadata": {
        "id": "7XfbhQ52dxzr",
        "colab_type": "code",
        "outputId": "136e24f3-8a48-4836-8a9b-7f7cedcab665",
        "colab": {
          "base_uri": "https://localhost:8080/",
          "height": 34
        }
      },
      "source": [
        "1 != 1"
      ],
      "execution_count": 0,
      "outputs": [
        {
          "output_type": "execute_result",
          "data": {
            "text/plain": [
              "False"
            ]
          },
          "metadata": {
            "tags": []
          },
          "execution_count": 17
        }
      ]
    },
    {
      "cell_type": "code",
      "metadata": {
        "id": "4bdUM_0-d80H",
        "colab_type": "code",
        "outputId": "fe1d28ee-512f-4752-cb26-c60b64a1505a",
        "colab": {
          "base_uri": "https://localhost:8080/",
          "height": 34
        }
      },
      "source": [
        "not 1 == 1"
      ],
      "execution_count": 0,
      "outputs": [
        {
          "output_type": "execute_result",
          "data": {
            "text/plain": [
              "False"
            ]
          },
          "metadata": {
            "tags": []
          },
          "execution_count": 19
        }
      ]
    },
    {
      "cell_type": "code",
      "metadata": {
        "id": "CCSQavphhXVN",
        "colab_type": "code",
        "outputId": "92aa124b-84d8-4843-f9e3-4fedaf2bb254",
        "colab": {
          "base_uri": "https://localhost:8080/",
          "height": 34
        }
      },
      "source": [
        "not 400 > 3000"
      ],
      "execution_count": 0,
      "outputs": [
        {
          "output_type": "execute_result",
          "data": {
            "text/plain": [
              "True"
            ]
          },
          "metadata": {
            "tags": []
          },
          "execution_count": 20
        }
      ]
    },
    {
      "cell_type": "markdown",
      "metadata": {
        "id": "NG-X5G31mUoB",
        "colab_type": "text"
      },
      "source": [
        "# **Python Statements**"
      ]
    },
    {
      "cell_type": "code",
      "metadata": {
        "id": "OZDGi0FsmS7j",
        "colab_type": "code",
        "colab": {}
      },
      "source": [
        ""
      ],
      "execution_count": 0,
      "outputs": []
    },
    {
      "cell_type": "markdown",
      "metadata": {
        "id": "_QzwharE9aEc",
        "colab_type": "text"
      },
      "source": [
        "# __Resources for More Basic Practice__\n",
        "\n",
        "[1. Basic Practice](http://codingbat.com/python)\n",
        "\n",
        "[2. More Mathematical (and Harder) Practice](https://projecteuler.net/archives)\n",
        "\n",
        "\n",
        "\n",
        "[3. List of Practice Problems](http://www.codeabbey.com/index/task_list)\n",
        "\n",
        "[4. A SubReddit Devoted to Daily Practice Problems](https://www.reddit.com/r/dailyprogrammer)\n",
        "\n",
        "[5. A very tricky website with very few hints and touch problems (Not for beginners but still interesting)](http://www.pythonchallenge.com/)"
      ]
    },
    {
      "cell_type": "code",
      "metadata": {
        "id": "aHscESr6_qxd",
        "colab_type": "code",
        "colab": {}
      },
      "source": [
        "import random\n",
        "n = random.randint(0,22)\n",
        "print(n)"
      ],
      "execution_count": 0,
      "outputs": []
    },
    {
      "cell_type": "code",
      "metadata": {
        "id": "vYMTQmLB432L",
        "colab_type": "code",
        "outputId": "169db529-d4a3-4284-ca44-62689ec3f5fb",
        "colab": {
          "base_uri": "https://localhost:8080/",
          "height": 34
        }
      },
      "source": [
        "import random\n",
        "randomlist = []\n",
        "for i in range(0,5):\n",
        "    n = random.randint(0,100)\n",
        "    randomlist.append(n)\n",
        "print(randomlist)"
      ],
      "execution_count": 0,
      "outputs": [
        {
          "output_type": "stream",
          "text": [
            "[85, 58, 91, 41, 48]\n"
          ],
          "name": "stdout"
        }
      ]
    },
    {
      "cell_type": "markdown",
      "metadata": {
        "id": "7Z78Sx0f_v8e",
        "colab_type": "text"
      },
      "source": [
        "# Python Statement"
      ]
    },
    {
      "cell_type": "code",
      "metadata": {
        "id": "atbi8Jv7_vcK",
        "colab_type": "code",
        "colab": {}
      },
      "source": [
        ""
      ],
      "execution_count": 0,
      "outputs": []
    }
  ]
}