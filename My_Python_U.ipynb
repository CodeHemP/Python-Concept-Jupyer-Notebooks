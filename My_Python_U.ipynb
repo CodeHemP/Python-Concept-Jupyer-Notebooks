{
  "nbformat": 4,
  "nbformat_minor": 0,
  "metadata": {
    "colab": {
      "name": "My_Python_U.ipynb",
      "provenance": [],
      "collapsed_sections": [
        "rZdVj53AptGE",
        "BkWY34D8AYg5",
        "VvsdWHLwPc9K",
        "rKm0-IteUNG-",
        "z7bvZExqE2yN",
        "z-7qjmvR4w3C",
        "k5CMWes7Nyvk",
        "LPkW_EZCNBnR",
        "B9CaBrb6eAIh"
      ],
      "authorship_tag": "ABX9TyOSKmR2kmpERKNRUfrqWZns",
      "include_colab_link": true
    },
    "kernelspec": {
      "name": "python3",
      "display_name": "Python 3"
    }
  },
  "cells": [
    {
      "cell_type": "markdown",
      "metadata": {
        "id": "view-in-github",
        "colab_type": "text"
      },
      "source": [
        "<a href=\"https://colab.research.google.com/github/mohd-faizy/My_Python_Notebooks_Concept/blob/master/My_Python_U.ipynb\" target=\"_parent\"><img src=\"https://colab.research.google.com/assets/colab-badge.svg\" alt=\"Open In Colab\"/></a>"
      ]
    },
    {
      "cell_type": "markdown",
      "metadata": {
        "id": "6isT6AIzSFxn",
        "colab_type": "text"
      },
      "source": [
        "# <strong><font color='green'>Python Object and Data Structure Basics</font></strong>"
      ]
    },
    {
      "cell_type": "markdown",
      "metadata": {
        "id": "90st8bt9Tz-z",
        "colab_type": "text"
      },
      "source": [
        "<center><img src = 'https://d1jnx9ba8s6j9r.cloudfront.net/blog/wp-content/uploads/2019/10/TreeStructure-Data-Structures-in-Python-Edureka1.png'><center>"
      ]
    },
    {
      "cell_type": "markdown",
      "metadata": {
        "id": "2VSzQMfbAhbt",
        "colab_type": "text"
      },
      "source": [
        "# **Numbers in Python!**"
      ]
    },
    {
      "cell_type": "markdown",
      "metadata": {
        "id": "v0ySGcq__vnd",
        "colab_type": "text"
      },
      "source": [
        "### Basic Arithmetic"
      ]
    },
    {
      "cell_type": "code",
      "metadata": {
        "id": "RNGSy8Xa_vng",
        "colab_type": "code",
        "outputId": "2eed9ac4-4162-4e78-bcac-7a85b89bc6ca",
        "colab": {
          "base_uri": "https://localhost:8080/",
          "height": 105
        }
      },
      "source": [
        "a = 2+1  # Addition\n",
        "b = 2-1  # Subtraction\n",
        "c = 2*2  # Multiplication\n",
        "d = 3/2  # Division\n",
        "e = 7//4 # Floor Division\n",
        "\n",
        "print(a)\n",
        "print(b)\n",
        "print(c)\n",
        "print(d)\n",
        "print(e)"
      ],
      "execution_count": 49,
      "outputs": [
        {
          "output_type": "stream",
          "text": [
            "3\n",
            "1\n",
            "4\n",
            "1.5\n",
            "1\n"
          ],
          "name": "stdout"
        }
      ]
    },
    {
      "cell_type": "markdown",
      "metadata": {
        "id": "AMFWUtKh_voF",
        "colab_type": "text"
      },
      "source": [
        "**Whoa! What just happened? Last time I checked, 7 divided by 4 equals 1.75 not 1!**\n",
        "\n",
        "The reason we get this result is because we are using \"*floor*\" division. The // operator (two forward slashes) truncates the decimal without rounding, and returns an integer result."
      ]
    },
    {
      "cell_type": "markdown",
      "metadata": {
        "id": "Qk0CBTCY_voG",
        "colab_type": "text"
      },
      "source": [
        "**So what if we just want the remainder after division?**"
      ]
    },
    {
      "cell_type": "code",
      "metadata": {
        "id": "s8cTWwh__voH",
        "colab_type": "code",
        "outputId": "13d80f7c-89cd-467f-d146-7a2bf5d6c973",
        "colab": {}
      },
      "source": [
        "# Modulo\n",
        "7%4"
      ],
      "execution_count": 0,
      "outputs": [
        {
          "output_type": "execute_result",
          "data": {
            "text/plain": [
              "3"
            ]
          },
          "metadata": {
            "tags": []
          },
          "execution_count": 6
        }
      ]
    },
    {
      "cell_type": "markdown",
      "metadata": {
        "id": "3lJYOo6F_voQ",
        "colab_type": "text"
      },
      "source": [
        "4 goes into 7 once, with a remainder of 3. The % operator returns the remainder after division."
      ]
    },
    {
      "cell_type": "markdown",
      "metadata": {
        "id": "aqWvVv50_voR",
        "colab_type": "text"
      },
      "source": [
        "### Arithmetic continued"
      ]
    },
    {
      "cell_type": "code",
      "metadata": {
        "id": "m0N_zAeQ_voS",
        "colab_type": "code",
        "outputId": "d3a7a244-876b-4256-eca3-0b1b0f994ecc",
        "colab": {}
      },
      "source": [
        "# Powers\n",
        "2**3"
      ],
      "execution_count": 0,
      "outputs": [
        {
          "output_type": "execute_result",
          "data": {
            "text/plain": [
              "8"
            ]
          },
          "metadata": {
            "tags": []
          },
          "execution_count": 7
        }
      ]
    },
    {
      "cell_type": "code",
      "metadata": {
        "id": "c5R7pSTu_voY",
        "colab_type": "code",
        "outputId": "9b5cfc3e-a4f6-4714-d8f9-13f97589fd7c",
        "colab": {}
      },
      "source": [
        "# Can also do roots this way\n",
        "4**0.5"
      ],
      "execution_count": 0,
      "outputs": [
        {
          "output_type": "execute_result",
          "data": {
            "text/plain": [
              "2.0"
            ]
          },
          "metadata": {
            "tags": []
          },
          "execution_count": 8
        }
      ]
    },
    {
      "cell_type": "code",
      "metadata": {
        "id": "Be6vWSib_vof",
        "colab_type": "code",
        "outputId": "5efe2fd7-7a37-44f4-ae39-a43703e7ac89",
        "colab": {}
      },
      "source": [
        "# Order of Operations followed in Python\n",
        "2 + 10 * 10 + 3"
      ],
      "execution_count": 0,
      "outputs": [
        {
          "output_type": "execute_result",
          "data": {
            "text/plain": [
              "105"
            ]
          },
          "metadata": {
            "tags": []
          },
          "execution_count": 9
        }
      ]
    },
    {
      "cell_type": "code",
      "metadata": {
        "id": "Pq9gglBH_voj",
        "colab_type": "code",
        "outputId": "ae2ca7dc-b68c-4053-be1d-367cd64fe996",
        "colab": {}
      },
      "source": [
        "# Can use parentheses to specify orders\n",
        "(2+10) * (10+3)"
      ],
      "execution_count": 0,
      "outputs": [
        {
          "output_type": "execute_result",
          "data": {
            "text/plain": [
              "156"
            ]
          },
          "metadata": {
            "tags": []
          },
          "execution_count": 10
        }
      ]
    },
    {
      "cell_type": "markdown",
      "metadata": {
        "id": "1v76EYrFC0ur",
        "colab_type": "text"
      },
      "source": [
        "# **Varibles**"
      ]
    },
    {
      "cell_type": "markdown",
      "metadata": {
        "id": "XcLJStx__vom",
        "colab_type": "text"
      },
      "source": [
        "## Variable Assignments\n",
        "\n",
        "Now that we've seen how to use numbers in Python as a calculator let's see how we can assign names and create variables.\n",
        "\n",
        "We use a single equals sign to assign labels to variables. Let's see a few examples of how we can do this."
      ]
    },
    {
      "cell_type": "code",
      "metadata": {
        "id": "xfg7xPlR_von",
        "colab_type": "code",
        "colab": {}
      },
      "source": [
        "# Let's create an object called \"a\" and assign it the number 5\n",
        "a = 5"
      ],
      "execution_count": 0,
      "outputs": []
    },
    {
      "cell_type": "markdown",
      "metadata": {
        "id": "6OoHSArx_vor",
        "colab_type": "text"
      },
      "source": [
        "Now if I call *a* in my Python script, Python will treat it as the number 5."
      ]
    },
    {
      "cell_type": "code",
      "metadata": {
        "id": "9PbhM7hc_vor",
        "colab_type": "code",
        "outputId": "80c445cd-c348-4233-b611-7ecb11b84b81",
        "colab": {}
      },
      "source": [
        "# Adding the objects\n",
        "a+a"
      ],
      "execution_count": 0,
      "outputs": [
        {
          "output_type": "execute_result",
          "data": {
            "text/plain": [
              "10"
            ]
          },
          "metadata": {
            "tags": []
          },
          "execution_count": 12
        }
      ]
    },
    {
      "cell_type": "markdown",
      "metadata": {
        "id": "OMeFdzXw_voy",
        "colab_type": "text"
      },
      "source": [
        "What happens on reassignment? Will Python let us write it over?"
      ]
    },
    {
      "cell_type": "code",
      "metadata": {
        "id": "ZJd6Ybev_voz",
        "colab_type": "code",
        "colab": {}
      },
      "source": [
        "# Reassignment\n",
        "a = 10"
      ],
      "execution_count": 0,
      "outputs": []
    },
    {
      "cell_type": "code",
      "metadata": {
        "id": "gGf2pDeN_vo5",
        "colab_type": "code",
        "outputId": "18259ad3-5bd0-4166-f10b-cd0744ede26d",
        "colab": {}
      },
      "source": [
        "# Check\n",
        "a"
      ],
      "execution_count": 0,
      "outputs": [
        {
          "output_type": "execute_result",
          "data": {
            "text/plain": [
              "10"
            ]
          },
          "metadata": {
            "tags": []
          },
          "execution_count": 14
        }
      ]
    },
    {
      "cell_type": "markdown",
      "metadata": {
        "id": "kEEao7iS_vo_",
        "colab_type": "text"
      },
      "source": [
        "Yes! Python allows you to write over assigned variable names. We can also use the variables themselves when doing the reassignment. Here is an example of what I mean:"
      ]
    },
    {
      "cell_type": "code",
      "metadata": {
        "id": "GXlsG4wY_vpA",
        "colab_type": "code",
        "outputId": "8241e7ea-225e-4ad3-bf9f-81913cf26481",
        "colab": {}
      },
      "source": [
        "# Check\n",
        "a"
      ],
      "execution_count": 0,
      "outputs": [
        {
          "output_type": "execute_result",
          "data": {
            "text/plain": [
              "10"
            ]
          },
          "metadata": {
            "tags": []
          },
          "execution_count": 15
        }
      ]
    },
    {
      "cell_type": "code",
      "metadata": {
        "id": "I9P9zABQ_vpG",
        "colab_type": "code",
        "colab": {}
      },
      "source": [
        "# Use A to redefine A\n",
        "a = a + a"
      ],
      "execution_count": 0,
      "outputs": []
    },
    {
      "cell_type": "code",
      "metadata": {
        "id": "ALBfjUhK_vpL",
        "colab_type": "code",
        "outputId": "f012f0ef-c59c-4d93-f1d2-e089f2735646",
        "colab": {}
      },
      "source": [
        "# Check \n",
        "a"
      ],
      "execution_count": 0,
      "outputs": [
        {
          "output_type": "execute_result",
          "data": {
            "text/plain": [
              "20"
            ]
          },
          "metadata": {
            "tags": []
          },
          "execution_count": 17
        }
      ]
    },
    {
      "cell_type": "markdown",
      "metadata": {
        "id": "VneWcYLG_vpP",
        "colab_type": "text"
      },
      "source": [
        "The names you use when creating these labels need to follow a few rules:\n",
        "\n",
        "    1. Names can not start with a number.\n",
        "    2. There can be no spaces in the name, use _ instead.\n",
        "    3. Can't use any of these symbols :'\",<>/?|\\()!@#$%^&*~-+\n",
        "    4. It's considered best practice (PEP8) that names are lowercase.\n",
        "    5. Avoid using the characters 'l' (lowercase letter el), 'O' (uppercase letter oh), \n",
        "       or 'I' (uppercase letter eye) as single character variable names.\n",
        "    6. Avoid using words that have special meaning in Python like \"list\" and \"str\"\n",
        "\n",
        "\n",
        "Using variable names can be a very useful way to keep track of different variables in Python. For example:"
      ]
    },
    {
      "cell_type": "code",
      "metadata": {
        "id": "oJ-wTghr_vpQ",
        "colab_type": "code",
        "colab": {}
      },
      "source": [
        "# Use object names to keep better track of what's going on in your code!\n",
        "my_income = 100\n",
        "\n",
        "tax_rate = 0.1\n",
        "\n",
        "my_taxes = my_income*tax_rate"
      ],
      "execution_count": 0,
      "outputs": []
    },
    {
      "cell_type": "code",
      "metadata": {
        "id": "JL2kde7U_vpV",
        "colab_type": "code",
        "outputId": "30591b0b-954c-4b0c-ba33-dcb02109136c",
        "colab": {}
      },
      "source": [
        "# Show my taxes!\n",
        "my_taxes"
      ],
      "execution_count": 0,
      "outputs": [
        {
          "output_type": "execute_result",
          "data": {
            "text/plain": [
              "10.0"
            ]
          },
          "metadata": {
            "tags": []
          },
          "execution_count": 19
        }
      ]
    },
    {
      "cell_type": "markdown",
      "metadata": {
        "id": "FlbfHr68_vpZ",
        "colab_type": "text"
      },
      "source": [
        "So what have we learned? We learned some of the basics of numbers in Python. We also learned how to do arithmetic and use Python as a basic calculator. We then wrapped it up with learning about Variable Assignment in Python.\n",
        "\n",
        "Up next we'll learn about Strings!"
      ]
    },
    {
      "cell_type": "markdown",
      "metadata": {
        "id": "mr_9P-YuBzdC",
        "colab_type": "text"
      },
      "source": [
        "## Rules for variable names\n",
        "* names can not start with a number\n",
        "* names can not contain spaces, use _ intead\n",
        "* names can not contain any of these symbols:\n",
        "\n",
        "      :'\",<>/?|\\!@#%^&*~-+\n",
        "       \n",
        "* it's considered best practice ([PEP8](https://www.python.org/dev/peps/pep-0008/#function-and-variable-names)) that names are lowercase with underscores\n",
        "* avoid using Python built-in keywords like `list` and `str`\n",
        "* avoid using the single characters `l` (lowercase letter el), `O` (uppercase letter oh) and `I` (uppercase letter eye) as they can be confused with `1` and `0`"
      ]
    },
    {
      "cell_type": "markdown",
      "metadata": {
        "id": "saVdEf9mBzdD",
        "colab_type": "text"
      },
      "source": [
        "## Dynamic Typing\n",
        "\n",
        "Python uses *dynamic typing*, meaning you can reassign variables to different data types. This makes Python very flexible in assigning data types; it differs from other languages that are *statically typed*."
      ]
    },
    {
      "cell_type": "code",
      "metadata": {
        "id": "FWyFt8lsBzdF",
        "colab_type": "code",
        "colab": {}
      },
      "source": [
        "my_dogs = 2"
      ],
      "execution_count": 0,
      "outputs": []
    },
    {
      "cell_type": "code",
      "metadata": {
        "id": "svFApYWvBzdL",
        "colab_type": "code",
        "outputId": "915ef355-a366-4c79-c9dd-92ee51c66ead",
        "colab": {}
      },
      "source": [
        "my_dogs"
      ],
      "execution_count": 0,
      "outputs": [
        {
          "output_type": "execute_result",
          "data": {
            "text/plain": [
              "2"
            ]
          },
          "metadata": {
            "tags": []
          },
          "execution_count": 2
        }
      ]
    },
    {
      "cell_type": "code",
      "metadata": {
        "id": "DMk7vqZFBzdR",
        "colab_type": "code",
        "colab": {}
      },
      "source": [
        "my_dogs = ['Sammy', 'Frankie']"
      ],
      "execution_count": 0,
      "outputs": []
    },
    {
      "cell_type": "code",
      "metadata": {
        "id": "WuhWWO-fBzdV",
        "colab_type": "code",
        "outputId": "934c53fc-342b-427f-8c32-ba4c81e3744a",
        "colab": {}
      },
      "source": [
        "my_dogs"
      ],
      "execution_count": 0,
      "outputs": [
        {
          "output_type": "execute_result",
          "data": {
            "text/plain": [
              "['Sammy', 'Frankie']"
            ]
          },
          "metadata": {
            "tags": []
          },
          "execution_count": 4
        }
      ]
    },
    {
      "cell_type": "markdown",
      "metadata": {
        "id": "3a0Rz1MUBzdb",
        "colab_type": "text"
      },
      "source": [
        "### Pros and Cons of Dynamic Typing\n",
        "#### Pros of Dynamic Typing\n",
        "* very easy to work with\n",
        "* faster development time\n",
        "\n",
        "#### Cons of Dynamic Typing\n",
        "* may result in unexpected bugs!\n",
        "* you need to be aware of `type()`"
      ]
    },
    {
      "cell_type": "markdown",
      "metadata": {
        "id": "lT97pbnbBzdb",
        "colab_type": "text"
      },
      "source": [
        "## Assigning Variables\n",
        "Variable assignment follows `name = object`, where a single equals sign `=` is an *assignment operator*"
      ]
    },
    {
      "cell_type": "code",
      "metadata": {
        "id": "n6Yl4i3CBzdc",
        "colab_type": "code",
        "colab": {}
      },
      "source": [
        "a = 5"
      ],
      "execution_count": 0,
      "outputs": []
    },
    {
      "cell_type": "code",
      "metadata": {
        "id": "65Q1ujzxBzdh",
        "colab_type": "code",
        "outputId": "e472c2bf-831a-4838-e3fa-31b68b7cc90d",
        "colab": {}
      },
      "source": [
        "a"
      ],
      "execution_count": 0,
      "outputs": [
        {
          "output_type": "execute_result",
          "data": {
            "text/plain": [
              "5"
            ]
          },
          "metadata": {
            "tags": []
          },
          "execution_count": 6
        }
      ]
    },
    {
      "cell_type": "markdown",
      "metadata": {
        "id": "n8hHhDLjBzdm",
        "colab_type": "text"
      },
      "source": [
        "Here we assigned the integer object `5` to the variable name `a`.<br>Let's assign `a` to something else:"
      ]
    },
    {
      "cell_type": "code",
      "metadata": {
        "id": "uxLK18wtBzdn",
        "colab_type": "code",
        "colab": {}
      },
      "source": [
        "a = 10"
      ],
      "execution_count": 0,
      "outputs": []
    },
    {
      "cell_type": "code",
      "metadata": {
        "id": "qU3ZjVvPBzds",
        "colab_type": "code",
        "outputId": "171a03cf-d7d5-42fd-8755-ec9a2d8c926d",
        "colab": {}
      },
      "source": [
        "a"
      ],
      "execution_count": 0,
      "outputs": [
        {
          "output_type": "execute_result",
          "data": {
            "text/plain": [
              "10"
            ]
          },
          "metadata": {
            "tags": []
          },
          "execution_count": 8
        }
      ]
    },
    {
      "cell_type": "markdown",
      "metadata": {
        "id": "1zMaZEqfBzdy",
        "colab_type": "text"
      },
      "source": [
        "You can now use `a` in place of the number `10`:"
      ]
    },
    {
      "cell_type": "code",
      "metadata": {
        "id": "v21_edHzBzdy",
        "colab_type": "code",
        "outputId": "51d465ea-08f7-4280-96c4-4d4c9245e76c",
        "colab": {}
      },
      "source": [
        "a + a"
      ],
      "execution_count": 0,
      "outputs": [
        {
          "output_type": "execute_result",
          "data": {
            "text/plain": [
              "20"
            ]
          },
          "metadata": {
            "tags": []
          },
          "execution_count": 9
        }
      ]
    },
    {
      "cell_type": "markdown",
      "metadata": {
        "id": "NZ1wEPDmBzd2",
        "colab_type": "text"
      },
      "source": [
        "## Reassigning Variables\n",
        "Python lets you reassign variables with a reference to the same object."
      ]
    },
    {
      "cell_type": "code",
      "metadata": {
        "id": "vkgrJ0TeBzd3",
        "colab_type": "code",
        "colab": {}
      },
      "source": [
        "a = a + 10"
      ],
      "execution_count": 0,
      "outputs": []
    },
    {
      "cell_type": "code",
      "metadata": {
        "id": "zcK9sjd3Bzd8",
        "colab_type": "code",
        "outputId": "645867dc-5cd6-476a-b309-60259f567a06",
        "colab": {}
      },
      "source": [
        "a"
      ],
      "execution_count": 0,
      "outputs": [
        {
          "output_type": "execute_result",
          "data": {
            "text/plain": [
              "20"
            ]
          },
          "metadata": {
            "tags": []
          },
          "execution_count": 11
        }
      ]
    },
    {
      "cell_type": "markdown",
      "metadata": {
        "id": "KqZZix28BzeA",
        "colab_type": "text"
      },
      "source": [
        "There's actually a shortcut for this. Python lets you add, subtract, multiply and divide numbers with reassignment using `+=`, `-=`, `*=`, and `/=`."
      ]
    },
    {
      "cell_type": "code",
      "metadata": {
        "id": "cGnWB0BrBzeB",
        "colab_type": "code",
        "colab": {}
      },
      "source": [
        "a += 10"
      ],
      "execution_count": 0,
      "outputs": []
    },
    {
      "cell_type": "code",
      "metadata": {
        "id": "LdeEECzZBzeE",
        "colab_type": "code",
        "outputId": "0ade9b25-a429-4247-a3bf-ef7154f7870d",
        "colab": {}
      },
      "source": [
        "a"
      ],
      "execution_count": 0,
      "outputs": [
        {
          "output_type": "execute_result",
          "data": {
            "text/plain": [
              "30"
            ]
          },
          "metadata": {
            "tags": []
          },
          "execution_count": 13
        }
      ]
    },
    {
      "cell_type": "code",
      "metadata": {
        "id": "wpnYbG4xBzeI",
        "colab_type": "code",
        "colab": {}
      },
      "source": [
        "a *= 2"
      ],
      "execution_count": 0,
      "outputs": []
    },
    {
      "cell_type": "code",
      "metadata": {
        "id": "B0RQaMnjBzeM",
        "colab_type": "code",
        "outputId": "12562c43-e0ba-4abb-a7d7-40f3e9f3ff2d",
        "colab": {}
      },
      "source": [
        "a"
      ],
      "execution_count": 0,
      "outputs": [
        {
          "output_type": "execute_result",
          "data": {
            "text/plain": [
              "60"
            ]
          },
          "metadata": {
            "tags": []
          },
          "execution_count": 15
        }
      ]
    },
    {
      "cell_type": "markdown",
      "metadata": {
        "id": "VyYbRp2cBzeQ",
        "colab_type": "text"
      },
      "source": [
        "## Determining variable type with `type()`\n",
        "You can check what type of object is assigned to a variable using Python's built-in `type()` function. Common data types include:\n",
        "* **int** (for integer)\n",
        "* **float**\n",
        "* **str** (for string)\n",
        "* **list**\n",
        "* **tuple**\n",
        "* **dict** (for dictionary)\n",
        "* **set**\n",
        "* **bool** (for Boolean True/False)"
      ]
    },
    {
      "cell_type": "code",
      "metadata": {
        "id": "4D8HKKrPBzeR",
        "colab_type": "code",
        "outputId": "f770e57c-1872-404e-bd0f-6fd91b22b397",
        "colab": {}
      },
      "source": [
        "type(a)"
      ],
      "execution_count": 0,
      "outputs": [
        {
          "output_type": "execute_result",
          "data": {
            "text/plain": [
              "int"
            ]
          },
          "metadata": {
            "tags": []
          },
          "execution_count": 16
        }
      ]
    },
    {
      "cell_type": "code",
      "metadata": {
        "id": "V7qqn04EBzeX",
        "colab_type": "code",
        "colab": {}
      },
      "source": [
        "a = (1,2)"
      ],
      "execution_count": 0,
      "outputs": []
    },
    {
      "cell_type": "code",
      "metadata": {
        "id": "IxK3h7_2Bzea",
        "colab_type": "code",
        "outputId": "04c88ca0-000f-48fb-a498-08564ab092f3",
        "colab": {}
      },
      "source": [
        "type(a)"
      ],
      "execution_count": 0,
      "outputs": [
        {
          "output_type": "execute_result",
          "data": {
            "text/plain": [
              "tuple"
            ]
          },
          "metadata": {
            "tags": []
          },
          "execution_count": 18
        }
      ]
    },
    {
      "cell_type": "markdown",
      "metadata": {
        "id": "_wGf6dwpBzee",
        "colab_type": "text"
      },
      "source": [
        "## Simple Exercise\n",
        "This shows how variables make calculations more readable and easier to follow."
      ]
    },
    {
      "cell_type": "code",
      "metadata": {
        "id": "7vN9Ti6_Bzef",
        "colab_type": "code",
        "colab": {}
      },
      "source": [
        "my_income = 100\n",
        "tax_rate = 0.1\n",
        "my_taxes = my_income * tax_rate"
      ],
      "execution_count": 0,
      "outputs": []
    },
    {
      "cell_type": "code",
      "metadata": {
        "id": "EPwTWY4sBzei",
        "colab_type": "code",
        "outputId": "1ae2ef25-2865-4835-ba65-d87d09739dca",
        "colab": {}
      },
      "source": [
        "my_taxes"
      ],
      "execution_count": 0,
      "outputs": [
        {
          "output_type": "execute_result",
          "data": {
            "text/plain": [
              "10.0"
            ]
          },
          "metadata": {
            "tags": []
          },
          "execution_count": 20
        }
      ]
    },
    {
      "cell_type": "markdown",
      "metadata": {
        "id": "60dRmB8xBzel",
        "colab_type": "text"
      },
      "source": [
        "Great! You should now understand the basics of variable assignment and reassignment in Python.<br>Up next, we'll learn about strings!"
      ]
    },
    {
      "cell_type": "markdown",
      "metadata": {
        "id": "rZdVj53AptGE",
        "colab_type": "text"
      },
      "source": [
        "# **String Format**\n"
      ]
    },
    {
      "cell_type": "markdown",
      "metadata": {
        "id": "upfkSGhczDXj",
        "colab_type": "text"
      },
      "source": [
        "**String**\n",
        "\n",
        "- A string is a sequence of charactes\n",
        "- It is immutable.\n",
        "- It is created by enclosing text with single/double/triple quotes"
      ]
    },
    {
      "cell_type": "code",
      "metadata": {
        "id": "o8_KH5xaa49j",
        "colab_type": "code",
        "outputId": "445866fd-f3ef-4141-cad6-39b96af7ea4f",
        "colab": {
          "base_uri": "https://localhost:8080/",
          "height": 0
        }
      },
      "source": [
        "#Method-1\n",
        "\n",
        "age = 36\n",
        "txt = \"My name is John, and I am {}\"\n",
        "print(txt.format(age))"
      ],
      "execution_count": 1,
      "outputs": [
        {
          "output_type": "stream",
          "text": [
            "My name is John, and I am 36\n"
          ],
          "name": "stdout"
        }
      ]
    },
    {
      "cell_type": "code",
      "metadata": {
        "id": "ABKN-yGAp2sI",
        "colab_type": "code",
        "outputId": "3a050472-f666-4abf-a9c8-5ccff59bb20c",
        "colab": {
          "base_uri": "https://localhost:8080/",
          "height": 0
        }
      },
      "source": [
        "print('this is a string {}'.format('inserted'))"
      ],
      "execution_count": 2,
      "outputs": [
        {
          "output_type": "stream",
          "text": [
            "this is a string inserted\n"
          ],
          "name": "stdout"
        }
      ]
    },
    {
      "cell_type": "code",
      "metadata": {
        "id": "QqszugqOq0q9",
        "colab_type": "code",
        "outputId": "47123fc8-8053-4ff7-a8c5-ef55b3fe65ec",
        "colab": {
          "base_uri": "https://localhost:8080/",
          "height": 0
        }
      },
      "source": [
        "print(\"the {} {} {}\".format(\"big\", \"brown\", \"bear\"))"
      ],
      "execution_count": 3,
      "outputs": [
        {
          "output_type": "stream",
          "text": [
            "the big brown bear\n"
          ],
          "name": "stdout"
        }
      ]
    },
    {
      "cell_type": "code",
      "metadata": {
        "id": "ffC_7ZD8rb4T",
        "colab_type": "code",
        "outputId": "7f790bb9-7b87-4516-d28b-847380cfec4c",
        "colab": {
          "base_uri": "https://localhost:8080/",
          "height": 0
        }
      },
      "source": [
        "print(\"the {1} {0} {2}\".format(\"big\", \"brown\", \"bear\"))"
      ],
      "execution_count": 4,
      "outputs": [
        {
          "output_type": "stream",
          "text": [
            "the brown big bear\n"
          ],
          "name": "stdout"
        }
      ]
    },
    {
      "cell_type": "code",
      "metadata": {
        "id": "_10DyDrsrq1Y",
        "colab_type": "code",
        "outputId": "7fffcac9-2026-4612-89c0-7e1a35689c91",
        "colab": {
          "base_uri": "https://localhost:8080/",
          "height": 0
        }
      },
      "source": [
        "print(\"the {0} {0} {0}\".format(\"big\", \"brown\", \"bear\"))"
      ],
      "execution_count": 5,
      "outputs": [
        {
          "output_type": "stream",
          "text": [
            "the big big big\n"
          ],
          "name": "stdout"
        }
      ]
    },
    {
      "cell_type": "code",
      "metadata": {
        "id": "lQeYTdGpr6zc",
        "colab_type": "code",
        "outputId": "86d4bfc2-7f9a-4ee1-bbdc-2a543ad58374",
        "colab": {
          "base_uri": "https://localhost:8080/",
          "height": 0
        }
      },
      "source": [
        "print(\"the {f} {s} {d}\".format(f=\"big\", s = \"brown\", d = \"bear\"))"
      ],
      "execution_count": 6,
      "outputs": [
        {
          "output_type": "stream",
          "text": [
            "the big brown bear\n"
          ],
          "name": "stdout"
        }
      ]
    },
    {
      "cell_type": "markdown",
      "metadata": {
        "id": "BkWY34D8AYg5",
        "colab_type": "text"
      },
      "source": [
        "# **Float formatting**\n"
      ]
    },
    {
      "cell_type": "markdown",
      "metadata": {
        "id": "4Um0fnpLdaWW",
        "colab_type": "text"
      },
      "source": [
        "**syntax**\n",
        "`{value:width.precison f}`\n"
      ]
    },
    {
      "cell_type": "code",
      "metadata": {
        "id": "FD_rLrw6_ilI",
        "colab_type": "code",
        "outputId": "af91f376-9c1b-45d8-dd46-bd14dd6c743a",
        "colab": {
          "base_uri": "https://localhost:8080/",
          "height": 0
        }
      },
      "source": [
        "result = 22/7\n",
        "print(\"the result is {r}\".format(r = result))"
      ],
      "execution_count": 7,
      "outputs": [
        {
          "output_type": "stream",
          "text": [
            "the result is 3.142857142857143\n"
          ],
          "name": "stdout"
        }
      ]
    },
    {
      "cell_type": "code",
      "metadata": {
        "id": "VqcdXQAqAzOc",
        "colab_type": "code",
        "outputId": "b1070b1a-1391-42c1-a16e-4ddf932e21a9",
        "colab": {
          "base_uri": "https://localhost:8080/",
          "height": 0
        }
      },
      "source": [
        "result = 22/7\n",
        "print(\"the result is {r:10.5f}\".format(r = result))"
      ],
      "execution_count": 8,
      "outputs": [
        {
          "output_type": "stream",
          "text": [
            "the result is    3.14286\n"
          ],
          "name": "stdout"
        }
      ]
    },
    {
      "cell_type": "code",
      "metadata": {
        "id": "Psszq0y6BaOt",
        "colab_type": "code",
        "outputId": "12406140-f8e7-41bb-8ba5-baf0e34a73c5",
        "colab": {
          "base_uri": "https://localhost:8080/",
          "height": 0
        }
      },
      "source": [
        "name = \"faizy\"\n",
        "print(\"hello my name is {}\".format(name))"
      ],
      "execution_count": 9,
      "outputs": [
        {
          "output_type": "stream",
          "text": [
            "hello my name is faizy\n"
          ],
          "name": "stdout"
        }
      ]
    },
    {
      "cell_type": "code",
      "metadata": {
        "colab_type": "code",
        "outputId": "69776388-1ba1-4445-ac8c-2c6c716669af",
        "id": "89QCE2_7B_2k",
        "colab": {
          "base_uri": "https://localhost:8080/",
          "height": 0
        }
      },
      "source": [
        "name = \"faizy\"\n",
        "print(f\"hello! my name is {name}\")"
      ],
      "execution_count": 10,
      "outputs": [
        {
          "output_type": "stream",
          "text": [
            "hello! my name is faizy\n"
          ],
          "name": "stdout"
        }
      ]
    },
    {
      "cell_type": "code",
      "metadata": {
        "id": "5bBVond-CTeR",
        "colab_type": "code",
        "outputId": "90293060-729f-4189-9bf2-715ff6d1a529",
        "colab": {
          "base_uri": "https://localhost:8080/",
          "height": 0
        }
      },
      "source": [
        "name = \"faizy\"\n",
        "collage = \"Jamia Millia Islamia\"\n",
        "print(f\"hello my name is {name} and i studied in {collage}\")\n"
      ],
      "execution_count": 11,
      "outputs": [
        {
          "output_type": "stream",
          "text": [
            "hello my name is faizy and i studied in Jamia Millia Islamia\n"
          ],
          "name": "stdout"
        }
      ]
    },
    {
      "cell_type": "markdown",
      "metadata": {
        "id": "VvsdWHLwPc9K",
        "colab_type": "text"
      },
      "source": [
        "# **Mutable vs Immutable**"
      ]
    },
    {
      "cell_type": "markdown",
      "metadata": {
        "id": "gL0rAhOEPMKO",
        "colab_type": "text"
      },
      "source": [
        "<img src = 'https://miro.medium.com/max/1400/1*oErPCXv1PFcuuizXqGEEbw.png'>\n",
        "\n"
      ]
    },
    {
      "cell_type": "markdown",
      "metadata": {
        "id": "mKjrzZ0CPaha",
        "colab_type": "text"
      },
      "source": [
        "<center><img src = 'https://miro.medium.com/max/1316/1*uFlTNY4W3czywyU18zxl8w.png'></center>\n"
      ]
    },
    {
      "cell_type": "markdown",
      "metadata": {
        "id": "rKm0-IteUNG-",
        "colab_type": "text"
      },
      "source": [
        "# **Strings** `'Hello Wolrd'` `im_mutable`"
      ]
    },
    {
      "cell_type": "markdown",
      "metadata": {
        "id": "4XVnMex2UXIG",
        "colab_type": "text"
      },
      "source": [
        "- Strings are the sequence of characters using the syntax of either single quotes or double.\n",
        "\n",
        "\n",
        "```\n",
        "\"hello World\"\n",
        "'hello'\n",
        "```\n",
        "\n",
        "- A string is a **sequence** of charactes.\n",
        "\n",
        "- It is **immutable**.\n",
        "\n",
        "- It is created by enclosing text with single/double/triple quotes"
      ]
    },
    {
      "cell_type": "markdown",
      "metadata": {
        "id": "z7bvZExqE2yN",
        "colab_type": "text"
      },
      "source": [
        "# **List** `[]` `mutable`, `ordered`, `Duplicates allowd`\n",
        "\n"
      ]
    },
    {
      "cell_type": "markdown",
      "metadata": {
        "id": "mNFaq-OlODqS",
        "colab_type": "text"
      },
      "source": [
        "\n",
        "- List is an **ordered** collection of data.\n",
        "\n",
        "- It is **mutable** and **allow duplicates**.\n",
        "\n",
        "-It list is created by enclosing the data items with in **square brackets** delimited by \",\"\n",
        "\n"
      ]
    },
    {
      "cell_type": "code",
      "metadata": {
        "id": "bqAITq6UF6IF",
        "colab_type": "code",
        "outputId": "87cc592b-3f36-47ad-c043-79ca8c00f2be",
        "colab": {
          "base_uri": "https://localhost:8080/",
          "height": 0
        }
      },
      "source": [
        "my_list = ['string', 100, 23.4,6,'monkey',7,8,10]\n",
        "\n",
        "'''\n",
        "syntax[start:stop:step]\n",
        "\n",
        "'''\n",
        "print(type(my_list))\n",
        "print(len(my_list))\n",
        "print(my_list[0])\n",
        "print(my_list[2:])\n",
        "print(my_list[:2])\n",
        "print(my_list[0:6:2])\n",
        "print(my_list[0::2])\n",
        "print(my_list[0:6:])\n",
        "print(my_list[:6:2])"
      ],
      "execution_count": 12,
      "outputs": [
        {
          "output_type": "stream",
          "text": [
            "<class 'list'>\n",
            "8\n",
            "string\n",
            "[23.4, 6, 'monkey', 7, 8, 10]\n",
            "['string', 100]\n",
            "['string', 23.4, 'monkey']\n",
            "['string', 23.4, 'monkey', 8]\n",
            "['string', 100, 23.4, 6, 'monkey', 7]\n",
            "['string', 23.4, 'monkey']\n"
          ],
          "name": "stdout"
        }
      ]
    },
    {
      "cell_type": "code",
      "metadata": {
        "id": "Z_4T1_kXwlo3",
        "colab_type": "code",
        "outputId": "25f2e969-e462-43a0-d995-a82c24686ef6",
        "colab": {
          "base_uri": "https://localhost:8080/",
          "height": 0
        }
      },
      "source": [
        "#list Concatination\n",
        "my_list_1 = ['bear', 100, 23.4,6,'monkey',7,'cat',10]\n",
        "my_list_2 = ['home',78, 23.4,6,'key',7,'room',10]\n",
        "my_list_3 = my_list_1 + my_list_2\n",
        "print(my_list_3)"
      ],
      "execution_count": 13,
      "outputs": [
        {
          "output_type": "stream",
          "text": [
            "['bear', 100, 23.4, 6, 'monkey', 7, 'cat', 10, 'home', 78, 23.4, 6, 'key', 7, 'room', 10]\n"
          ],
          "name": "stdout"
        }
      ]
    },
    {
      "cell_type": "code",
      "metadata": {
        "id": "08d8rVKRyHcm",
        "colab_type": "code",
        "outputId": "bd614106-1da5-4105-ea28-eda2c06555ef",
        "colab": {
          "base_uri": "https://localhost:8080/",
          "height": 0
        }
      },
      "source": [
        "my_list_1"
      ],
      "execution_count": 14,
      "outputs": [
        {
          "output_type": "execute_result",
          "data": {
            "text/plain": [
              "['bear', 100, 23.4, 6, 'monkey', 7, 'cat', 10]"
            ]
          },
          "metadata": {
            "tags": []
          },
          "execution_count": 14
        }
      ]
    },
    {
      "cell_type": "markdown",
      "metadata": {
        "id": "RFyPKIn5yupC",
        "colab_type": "text"
      },
      "source": [
        "**List**\n",
        "\n",
        "- List is an ordered collection of data.\n",
        "- It is **mutable** and **allow duplicates**.\n",
        "- It list is created by enclosing the data items with in square brackets delimited by `\",\"`"
      ]
    },
    {
      "cell_type": "code",
      "metadata": {
        "id": "EW8vTwIcytkF",
        "colab_type": "code",
        "outputId": "d85b4b85-7619-43ac-ccef-fb4eb11e60d1",
        "colab": {
          "base_uri": "https://localhost:8080/",
          "height": 0
        }
      },
      "source": [
        "#List are mutable\n",
        "my_list_1[0] = 'lion'\n",
        "print(my_list_1)"
      ],
      "execution_count": 15,
      "outputs": [
        {
          "output_type": "stream",
          "text": [
            "['lion', 100, 23.4, 6, 'monkey', 7, 'cat', 10]\n"
          ],
          "name": "stdout"
        }
      ]
    },
    {
      "cell_type": "code",
      "metadata": {
        "id": "aYtcHbMwz9x6",
        "colab_type": "code",
        "outputId": "c545be24-b523-4652-a428-23a08c12468b",
        "colab": {
          "base_uri": "https://localhost:8080/",
          "height": 0
        }
      },
      "source": [
        "#adding item to the list\n",
        "my_list_1.append('tiger')\n",
        "print(my_list_1)"
      ],
      "execution_count": 16,
      "outputs": [
        {
          "output_type": "stream",
          "text": [
            "['lion', 100, 23.4, 6, 'monkey', 7, 'cat', 10, 'tiger']\n"
          ],
          "name": "stdout"
        }
      ]
    },
    {
      "cell_type": "markdown",
      "metadata": {
        "id": "3BZdpK1x1j_K",
        "colab_type": "text"
      },
      "source": [
        "**pop()** is an inbuilt function in Python that *removes and returns* **last value** from the list or the given **index value**\n",
        "\n",
        "- by default index location is [-1]\n"
      ]
    },
    {
      "cell_type": "code",
      "metadata": {
        "id": "iRs6zkMq0Xzj",
        "colab_type": "code",
        "outputId": "10f1dda4-244b-4023-8f1b-e2c771173839",
        "colab": {
          "base_uri": "https://localhost:8080/",
          "height": 0
        }
      },
      "source": [
        "#removing the item form the list\n",
        "my_list_1.pop()\n",
        "print(my_list_1)"
      ],
      "execution_count": 17,
      "outputs": [
        {
          "output_type": "stream",
          "text": [
            "['lion', 100, 23.4, 6, 'monkey', 7, 'cat', 10]\n"
          ],
          "name": "stdout"
        }
      ]
    },
    {
      "cell_type": "markdown",
      "metadata": {
        "id": "wyeUkcxY2cK8",
        "colab_type": "text"
      },
      "source": [
        "**Sorting the list**"
      ]
    },
    {
      "cell_type": "code",
      "metadata": {
        "id": "p4qFNT3w2jHJ",
        "colab_type": "code",
        "outputId": "1ce31fa0-6aa5-421c-8e60-259d56dc3a24",
        "colab": {
          "base_uri": "https://localhost:8080/",
          "height": 0
        }
      },
      "source": [
        "new_list_1 = ['b', 'd', 'f', 'a', 'c', 'e']\n",
        "new_list_2 = [2, 4, 6, 8, 1, 3, 5, 7, 9]\n",
        "\n",
        "new_list_1.sort()\n",
        "new_list_2.sort()\n",
        "\n",
        "print(new_list_1)\n",
        "print(new_list_2)"
      ],
      "execution_count": 18,
      "outputs": [
        {
          "output_type": "stream",
          "text": [
            "['a', 'b', 'c', 'd', 'e', 'f']\n",
            "[1, 2, 3, 4, 5, 6, 7, 8, 9]\n"
          ],
          "name": "stdout"
        }
      ]
    },
    {
      "cell_type": "markdown",
      "metadata": {
        "id": "19M0qXG63veW",
        "colab_type": "text"
      },
      "source": [
        "- In Python, **None** keyword is an object, and it is a **data type** of the class **NoneType**.\n",
        "\n",
        "- We can assign None to any variable, but you can not create other NoneType objects. \n",
        "\n",
        "- New instances of None are not created."
      ]
    },
    {
      "cell_type": "code",
      "metadata": {
        "id": "aIawg_0s4K4Y",
        "colab_type": "code",
        "outputId": "8b81efda-1ec6-4461-a0cb-ab80fa284900",
        "colab": {
          "base_uri": "https://localhost:8080/",
          "height": 0
        }
      },
      "source": [
        "new_list_3 = [1, 2, 3, 4, 5, 6, 7, 8, 9]\n",
        "new_list_3.reverse()\n",
        "print(new_list_3)"
      ],
      "execution_count": 19,
      "outputs": [
        {
          "output_type": "stream",
          "text": [
            "[9, 8, 7, 6, 5, 4, 3, 2, 1]\n"
          ],
          "name": "stdout"
        }
      ]
    },
    {
      "cell_type": "markdown",
      "metadata": {
        "id": "z-7qjmvR4w3C",
        "colab_type": "text"
      },
      "source": [
        "# **Dictionary** `{key:value}` `mutable`, `unordered`\n",
        "\n"
      ]
    },
    {
      "cell_type": "markdown",
      "metadata": {
        "id": "xejmR-ct457J",
        "colab_type": "text"
      },
      "source": [
        "- **Dictionary** is an **unordered collection** of key-values pairs.\n",
        "\n",
        "- It is **mutable**.\n",
        "\n",
        "- It is created by enclosing the **key-value parirs (key:value)** with in **curly brackets** delimited by `\",\"`"
      ]
    },
    {
      "cell_type": "code",
      "metadata": {
        "id": "7uwHY9CZ4vTb",
        "colab_type": "code",
        "outputId": "635b921a-752b-43de-84a6-4c966485d605",
        "colab": {
          "base_uri": "https://localhost:8080/",
          "height": 0
        }
      },
      "source": [
        "price_lookup = {'apple':100, 'banana':40, 'milk':29}\n",
        "price_lookup['apple']"
      ],
      "execution_count": 20,
      "outputs": [
        {
          "output_type": "execute_result",
          "data": {
            "text/plain": [
              "100"
            ]
          },
          "metadata": {
            "tags": []
          },
          "execution_count": 20
        }
      ]
    },
    {
      "cell_type": "code",
      "metadata": {
        "id": "ixSZieUXABSv",
        "colab_type": "code",
        "outputId": "ae261153-36ae-4379-a97e-50adf795b5a4",
        "colab": {
          "base_uri": "https://localhost:8080/",
          "height": 0
        }
      },
      "source": [
        "d = {'k1':123, 'k2':[0, 1, 2], 'k3':{'inside_key':100}, 'k4':['apple', 'ball', 'cat']}\n",
        "print(d['k1'])\n",
        "print(d['k2'])\n",
        "print(d['k2'][2])\n",
        "print(d['k3']['inside_key'])\n",
        "\n",
        "d2 = d['k4'][1]\n",
        "print(d2.upper())\n",
        "\n",
        "print(d['k4'][2].upper())"
      ],
      "execution_count": 21,
      "outputs": [
        {
          "output_type": "stream",
          "text": [
            "123\n",
            "[0, 1, 2]\n",
            "2\n",
            "100\n",
            "BALL\n",
            "CAT\n"
          ],
          "name": "stdout"
        }
      ]
    },
    {
      "cell_type": "code",
      "metadata": {
        "id": "bu01fsPeGt1M",
        "colab_type": "code",
        "outputId": "f254f624-a2df-469f-eba0-2a3ddf981cc9",
        "colab": {
          "base_uri": "https://localhost:8080/",
          "height": 0
        }
      },
      "source": [
        "#adding new key:value pairs\n",
        "my_dic = {'k1':100, 'k2':200, 'k3':300}\n",
        "my_dic['k4'] = 400\n",
        "print(my_dic)"
      ],
      "execution_count": 22,
      "outputs": [
        {
          "output_type": "stream",
          "text": [
            "{'k1': 100, 'k2': 200, 'k3': 300, 'k4': 400}\n"
          ],
          "name": "stdout"
        }
      ]
    },
    {
      "cell_type": "code",
      "metadata": {
        "colab_type": "code",
        "outputId": "eab40c0b-cd16-45bf-ae6c-ab4c74630702",
        "id": "_yHE4LuBHp35",
        "colab": {
          "base_uri": "https://localhost:8080/",
          "height": 0
        }
      },
      "source": [
        "#Overwriting key:value pairs\n",
        "my_dic = {'k1':100, 'k2':200, 'k3':300}\n",
        "my_dic['k2'] = 'New Value'\n",
        "print(my_dic)"
      ],
      "execution_count": 23,
      "outputs": [
        {
          "output_type": "stream",
          "text": [
            "{'k1': 100, 'k2': 'New Value', 'k3': 300}\n"
          ],
          "name": "stdout"
        }
      ]
    },
    {
      "cell_type": "code",
      "metadata": {
        "id": "LJeJ1R3lH-GT",
        "colab_type": "code",
        "outputId": "9817707c-f07e-4b07-8845-bb09e2a2992d",
        "colab": {
          "base_uri": "https://localhost:8080/",
          "height": 0
        }
      },
      "source": [
        "my_dic = {'k1':100, 'k2':200, 'k3':300}\n",
        "my_dic.keys()"
      ],
      "execution_count": 24,
      "outputs": [
        {
          "output_type": "execute_result",
          "data": {
            "text/plain": [
              "dict_keys(['k1', 'k2', 'k3'])"
            ]
          },
          "metadata": {
            "tags": []
          },
          "execution_count": 24
        }
      ]
    },
    {
      "cell_type": "code",
      "metadata": {
        "id": "H72rN3dqILHM",
        "colab_type": "code",
        "outputId": "0e05aa10-a2a4-483d-8114-b12f0cff500d",
        "colab": {
          "base_uri": "https://localhost:8080/",
          "height": 0
        }
      },
      "source": [
        "my_dic = {'k1':100, 'k2':200, 'k3':300}\n",
        "my_dic.values()"
      ],
      "execution_count": 25,
      "outputs": [
        {
          "output_type": "execute_result",
          "data": {
            "text/plain": [
              "dict_values([100, 200, 300])"
            ]
          },
          "metadata": {
            "tags": []
          },
          "execution_count": 25
        }
      ]
    },
    {
      "cell_type": "code",
      "metadata": {
        "id": "ocHfbvxKIno1",
        "colab_type": "code",
        "outputId": "8e4ab0ff-253c-408c-c0f4-59fb23ea8a94",
        "colab": {
          "base_uri": "https://localhost:8080/",
          "height": 0
        }
      },
      "source": [
        "'''\n",
        "return Tuple\n",
        "\n",
        "'''\n",
        "my_dic = {'k1':100, 'k2':200, 'k3':300}\n",
        "my_dic.items()"
      ],
      "execution_count": 26,
      "outputs": [
        {
          "output_type": "execute_result",
          "data": {
            "text/plain": [
              "dict_items([('k1', 100), ('k2', 200), ('k3', 300)])"
            ]
          },
          "metadata": {
            "tags": []
          },
          "execution_count": 26
        }
      ]
    },
    {
      "cell_type": "markdown",
      "metadata": {
        "id": "k5CMWes7Nyvk",
        "colab_type": "text"
      },
      "source": [
        "# **Tuples** `()`,`im_mutable`, `ordered`, `Duplicates allowed`\n",
        "\n"
      ]
    },
    {
      "cell_type": "markdown",
      "metadata": {
        "id": "mJrvVBCPN5L9",
        "colab_type": "text"
      },
      "source": [
        "- They are very similar to the lists.key difference is **immutability**.\n",
        "\n",
        "- Once an element inside a tuple it cannot be reassigned to something else.\n",
        "\n",
        "- Tuples uses paranthesis:**(1, 2, 3)**\n",
        "\n",
        "- Tuple is an **ordered collection** of data.\n",
        "\n",
        "- It is **immutable** and **allow duplicates**.\n",
        "\n",
        "- It list is created by enclosing the data items with in round brackets delimited by \",\""
      ]
    },
    {
      "cell_type": "code",
      "metadata": {
        "id": "ZF1dHQJXb3Li",
        "colab_type": "code",
        "outputId": "ff558b28-c0e1-4d45-ad69-2e725dc739b9",
        "colab": {
          "base_uri": "https://localhost:8080/",
          "height": 0
        }
      },
      "source": [
        "t = ('a','a', 'b', 'e', 'f', 'c', 'c', 'c')\n",
        "print(t.count('c'))\n",
        "print(t.index('c')) #this return the very first time 'c' appers \n"
      ],
      "execution_count": 27,
      "outputs": [
        {
          "output_type": "stream",
          "text": [
            "3\n",
            "5\n"
          ],
          "name": "stdout"
        }
      ]
    },
    {
      "cell_type": "code",
      "metadata": {
        "id": "2hppnTbXc-r7",
        "colab_type": "code",
        "outputId": "1b11fcb1-cf10-4c59-b27c-72aaaf3bd43e",
        "colab": {
          "base_uri": "https://localhost:8080/",
          "height": 0
        }
      },
      "source": [
        "# simple Slicing Tuples\n",
        "\n",
        "t = (0, 1, 2, 3, 4, 5, 6, 7, 8, 9, 10, 11, 12, 13)\n",
        "print(type(t))\n",
        "print(len(t))\n",
        "\n",
        "print(t[0])\n",
        "print(t[2:])\n",
        "print(t[:2])\n",
        "print(t[0:6:2])\n",
        "print(t[0::2])\n",
        "print(t[0:6:])\n",
        "print(t[:6:2])"
      ],
      "execution_count": 28,
      "outputs": [
        {
          "output_type": "stream",
          "text": [
            "<class 'tuple'>\n",
            "14\n",
            "0\n",
            "(2, 3, 4, 5, 6, 7, 8, 9, 10, 11, 12, 13)\n",
            "(0, 1)\n",
            "(0, 2, 4)\n",
            "(0, 2, 4, 6, 8, 10, 12)\n",
            "(0, 1, 2, 3, 4, 5)\n",
            "(0, 2, 4)\n"
          ],
          "name": "stdout"
        }
      ]
    },
    {
      "cell_type": "code",
      "metadata": {
        "id": "0newOSpvQ3Oi",
        "colab_type": "code",
        "outputId": "d9e9477c-f3b0-4102-ac25-e51d5e40bbd9",
        "colab": {
          "base_uri": "https://localhost:8080/",
          "height": 0
        }
      },
      "source": [
        "# Slicing Tuples\n",
        "\n",
        "t = (['a', 2, 'c', 4], {'k1': 100}, {'k2':['apple', 'ball', 'cat']})\n",
        "\n",
        "print(type(t))\n",
        "print(len(t))\n",
        "\n",
        "print(t[0])\n",
        "print(t[2:])\n",
        "print(t[:2])\n",
        "print(t[0:1:2])\n",
        "print(t[0::2])\n",
        "print(t[0:1:])\n",
        "print(t[:1:2])\n",
        "\n"
      ],
      "execution_count": 29,
      "outputs": [
        {
          "output_type": "stream",
          "text": [
            "<class 'tuple'>\n",
            "3\n",
            "['a', 2, 'c', 4]\n",
            "({'k2': ['apple', 'ball', 'cat']},)\n",
            "(['a', 2, 'c', 4], {'k1': 100})\n",
            "(['a', 2, 'c', 4],)\n",
            "(['a', 2, 'c', 4], {'k2': ['apple', 'ball', 'cat']})\n",
            "(['a', 2, 'c', 4],)\n",
            "(['a', 2, 'c', 4],)\n"
          ],
          "name": "stdout"
        }
      ]
    },
    {
      "cell_type": "code",
      "metadata": {
        "id": "GKFhBsZ7Zv3G",
        "colab_type": "code",
        "colab": {}
      },
      "source": [
        "t = (['a', 2, 'c', 4], {'k1': 100}, {'k2':['apple', 'ball', 'cat']})"
      ],
      "execution_count": 0,
      "outputs": []
    },
    {
      "cell_type": "markdown",
      "metadata": {
        "id": "USOEx0qgJnim",
        "colab_type": "text"
      },
      "source": [
        "Tuple provides us the convenient source of whats is known as **data integratity**\n",
        "\n",
        "- Main use of tuples is when we are passing the **objects** in our program, we need to make sure that theyacciedntly get changed\n",
        "\n",
        "```\n",
        "TypeError: 'tuple' object does not support item assignment\n",
        "```\n",
        "\n"
      ]
    },
    {
      "cell_type": "code",
      "metadata": {
        "id": "5YDCAdp_eICP",
        "colab_type": "code",
        "colab": {
          "base_uri": "https://localhost:8080/",
          "height": 0
        },
        "outputId": "72745cd2-6637-4072-d440-4204b8ba15a1"
      },
      "source": [
        "t = ('a', 1, 4, 'ONE', 'apple')\n",
        "t[0] = 'New'"
      ],
      "execution_count": 31,
      "outputs": [
        {
          "output_type": "error",
          "ename": "TypeError",
          "evalue": "ignored",
          "traceback": [
            "\u001b[0;31m---------------------------------------------------------------------------\u001b[0m",
            "\u001b[0;31mTypeError\u001b[0m                                 Traceback (most recent call last)",
            "\u001b[0;32m<ipython-input-31-5371bb59b9a0>\u001b[0m in \u001b[0;36m<module>\u001b[0;34m()\u001b[0m\n\u001b[1;32m      1\u001b[0m \u001b[0mt\u001b[0m \u001b[0;34m=\u001b[0m \u001b[0;34m(\u001b[0m\u001b[0;34m'a'\u001b[0m\u001b[0;34m,\u001b[0m \u001b[0;36m1\u001b[0m\u001b[0;34m,\u001b[0m \u001b[0;36m4\u001b[0m\u001b[0;34m,\u001b[0m \u001b[0;34m'ONE'\u001b[0m\u001b[0;34m,\u001b[0m \u001b[0;34m'apple'\u001b[0m\u001b[0;34m)\u001b[0m\u001b[0;34m\u001b[0m\u001b[0;34m\u001b[0m\u001b[0m\n\u001b[0;32m----> 2\u001b[0;31m \u001b[0mt\u001b[0m\u001b[0;34m[\u001b[0m\u001b[0;36m0\u001b[0m\u001b[0;34m]\u001b[0m \u001b[0;34m=\u001b[0m \u001b[0;34m'New'\u001b[0m\u001b[0;34m\u001b[0m\u001b[0;34m\u001b[0m\u001b[0m\n\u001b[0m",
            "\u001b[0;31mTypeError\u001b[0m: 'tuple' object does not support item assignment"
          ]
        }
      ]
    },
    {
      "cell_type": "markdown",
      "metadata": {
        "id": "V6d0EImNK-zZ",
        "colab_type": "text"
      },
      "source": [
        "- Tuples are faster than lists.\n",
        "\n",
        "- It makes your code safer if you “write-protect” data that does not need to be changed.\n",
        "\n",
        "- Some tuples can be used as **dictionary keys** (specifically, tuples that contain **immutable value**s like strings, numbers, and other tuples)."
      ]
    },
    {
      "cell_type": "markdown",
      "metadata": {
        "id": "LPkW_EZCNBnR",
        "colab_type": "text"
      },
      "source": [
        "# **Sets** {}, `mutable`, `unordered`, `No duplicates`"
      ]
    },
    {
      "cell_type": "markdown",
      "metadata": {
        "id": "xXw-x8OfNJ0-",
        "colab_type": "text"
      },
      "source": [
        "- Set is an **unordered** collection of data, e.g- we can have say 2 in the set **more then one time**.\n",
        "\n",
        "- It is mutable and **does not allow duplicates**.\n",
        "\n",
        "- It is created by enclosing the data items with in curly brackets delimited by \","
      ]
    },
    {
      "cell_type": "code",
      "metadata": {
        "id": "c9AJdnLkZzx9",
        "colab_type": "code",
        "colab": {}
      },
      "source": [
        "myset = set()\n",
        "\n",
        "myset.add(1)\n",
        "print(myset)\n",
        "\n",
        "myset.add(2)\n",
        "print(myset)\n",
        "\n",
        "\n",
        "myset.add(2)\n",
        "print(myset) #it has to be unique to get added to the set\n",
        "\n",
        "myset.add(5)\n",
        "print(myset)"
      ],
      "execution_count": 0,
      "outputs": []
    },
    {
      "cell_type": "code",
      "metadata": {
        "id": "rr_ArHBSbSfy",
        "colab_type": "code",
        "colab": {}
      },
      "source": [
        "mylist = [1, 1, 1, 1, 2, 2, 3, 3, 3, 4, 5, 6, 6, 6, 7, 7, 8, 8, 9, 9]\n",
        "print(set(mylist)) "
      ],
      "execution_count": 0,
      "outputs": []
    },
    {
      "cell_type": "code",
      "metadata": {
        "id": "d3Hob6lndtrj",
        "colab_type": "code",
        "colab": {}
      },
      "source": [
        "set('Mississippi')"
      ],
      "execution_count": 0,
      "outputs": []
    },
    {
      "cell_type": "markdown",
      "metadata": {
        "id": "B9CaBrb6eAIh",
        "colab_type": "text"
      },
      "source": [
        "# **Booleans**"
      ]
    },
    {
      "cell_type": "markdown",
      "metadata": {
        "id": "o-loBw5fgvOX",
        "colab_type": "text"
      },
      "source": [
        "- **Booleans** are the operaters that allow you to convey **True** or **false** statements.\n",
        "\n",
        "- These are important where we have to deal with control flow and logic!"
      ]
    },
    {
      "cell_type": "code",
      "metadata": {
        "id": "G7x2mhTlht6G",
        "colab_type": "code",
        "colab": {}
      },
      "source": [
        " print(type(True))\n",
        " print(type(False))"
      ],
      "execution_count": 0,
      "outputs": []
    },
    {
      "cell_type": "code",
      "metadata": {
        "id": "Tyouukrjh-Si",
        "colab_type": "code",
        "colab": {}
      },
      "source": [
        "1 > 2"
      ],
      "execution_count": 0,
      "outputs": []
    },
    {
      "cell_type": "code",
      "metadata": {
        "id": "mREtcBSNiN_u",
        "colab_type": "code",
        "colab": {}
      },
      "source": [
        "1 == 1"
      ],
      "execution_count": 0,
      "outputs": []
    },
    {
      "cell_type": "code",
      "metadata": {
        "id": "fvytpaShiVq3",
        "colab_type": "code",
        "colab": {}
      },
      "source": [
        "b = None #used as a placeholder\n",
        "print(b)"
      ],
      "execution_count": 0,
      "outputs": []
    },
    {
      "cell_type": "markdown",
      "metadata": {
        "id": "2uh8xHGqqXxj",
        "colab_type": "text"
      },
      "source": [
        "# **I/O with Basic Files in Python**"
      ]
    },
    {
      "cell_type": "code",
      "metadata": {
        "id": "Ip8ueqQ48r2t",
        "colab_type": "code",
        "colab": {}
      },
      "source": [
        "# writing my file\n",
        "\n",
        "%%writefile myfile.txt\n",
        "Hello my name is mohd faizy\n",
        "i have completed my masters form JMI\n",
        "& i am a Machine learning enthusiastic"
      ],
      "execution_count": 0,
      "outputs": []
    },
    {
      "cell_type": "code",
      "metadata": {
        "id": "WOB7s-JhAkjI",
        "colab_type": "code",
        "colab": {}
      },
      "source": [
        "ls"
      ],
      "execution_count": 0,
      "outputs": []
    },
    {
      "cell_type": "code",
      "metadata": {
        "id": "M6OgXYDoAnWB",
        "colab_type": "code",
        "colab": {}
      },
      "source": [
        "pwd"
      ],
      "execution_count": 0,
      "outputs": []
    },
    {
      "cell_type": "code",
      "metadata": {
        "id": "SiXvUxwu_8uz",
        "colab_type": "code",
        "colab": {}
      },
      "source": [
        "myfile = open('/content/myfile.txt')"
      ],
      "execution_count": 0,
      "outputs": []
    },
    {
      "cell_type": "code",
      "metadata": {
        "id": "qXBHwfvgHYBC",
        "colab_type": "code",
        "colab": {}
      },
      "source": [
        "#this will output everything as a single string\n",
        "myfile.read()"
      ],
      "execution_count": 0,
      "outputs": []
    },
    {
      "cell_type": "markdown",
      "metadata": {
        "id": "KT8PpY1cH5ID",
        "colab_type": "text"
      },
      "source": [
        "- if we run this again we recive an empty string this happen because there a cursor at the begining of a file and when you read it the cursor goes all the way to the end.\n",
        "        \n"
      ]
    },
    {
      "cell_type": "code",
      "metadata": {
        "id": "U7h07PZAHpc8",
        "colab_type": "code",
        "colab": {}
      },
      "source": [
        "myfile.read() "
      ],
      "execution_count": 0,
      "outputs": []
    },
    {
      "cell_type": "markdown",
      "metadata": {
        "id": "Bcs3vf27Ix7r",
        "colab_type": "text"
      },
      "source": [
        "- in order to read this file again we have to reset the cursor"
      ]
    },
    {
      "cell_type": "code",
      "metadata": {
        "id": "vxEHfaB_JAEr",
        "colab_type": "code",
        "colab": {}
      },
      "source": [
        "# reseting he cursor\n",
        "myfile.seek(0)"
      ],
      "execution_count": 0,
      "outputs": []
    },
    {
      "cell_type": "code",
      "metadata": {
        "id": "g3D97zHvJJMC",
        "colab_type": "code",
        "colab": {}
      },
      "source": [
        "myfile.read()"
      ],
      "execution_count": 0,
      "outputs": []
    },
    {
      "cell_type": "code",
      "metadata": {
        "id": "6oKwrumRRJdz",
        "colab_type": "code",
        "colab": {}
      },
      "source": [
        "myfile.seek(0)\n",
        "myfile.readlines()"
      ],
      "execution_count": 0,
      "outputs": []
    },
    {
      "cell_type": "code",
      "metadata": {
        "id": "BWMV_0n5Rgs1",
        "colab_type": "code",
        "colab": {}
      },
      "source": [
        "#closing the file\n",
        "myfile.close()"
      ],
      "execution_count": 0,
      "outputs": []
    },
    {
      "cell_type": "markdown",
      "metadata": {
        "id": "Lyna7NhXeq2a",
        "colab_type": "text"
      },
      "source": [
        "> __So any code within the indented code of block will use myfile as a varible of this text file$\\downarrow$__\n",
        "\n"
      ]
    },
    {
      "cell_type": "code",
      "metadata": {
        "id": "vpNFqK6jdSJl",
        "colab_type": "code",
        "colab": {}
      },
      "source": [
        "with open('/content/myfile.txt') as my_new_file:\n",
        "    content = my_new_file.read() \n",
        "print(content)                                          "
      ],
      "execution_count": 0,
      "outputs": []
    },
    {
      "cell_type": "code",
      "metadata": {
        "id": "JhRa6q8Gzhvb",
        "colab_type": "code",
        "colab": {}
      },
      "source": [
        "with open('/content/myfile.txt', mode = 'r') as myfile:\n",
        "    content = myfile.read()\n",
        "print(content)"
      ],
      "execution_count": 0,
      "outputs": []
    },
    {
      "cell_type": "code",
      "metadata": {
        "id": "gw3b2HKO0cXz",
        "colab_type": "code",
        "colab": {}
      },
      "source": [
        "with open('/content/myfile.txt', mode = 'w') as myfile:\n",
        "    content = myfile.read()\n",
        "print(content)"
      ],
      "execution_count": 0,
      "outputs": []
    },
    {
      "cell_type": "code",
      "metadata": {
        "id": "ekUZMMSo01fe",
        "colab_type": "code",
        "colab": {
          "base_uri": "https://localhost:8080/",
          "height": 0
        },
        "outputId": "aec816f0-b687-42c9-9af0-b5981e4ac391"
      },
      "source": [
        "#overwriting the files\n",
        "\n",
        "%%writefile myfile.txt\n",
        "One On first\n",
        "Two On second\n",
        "Three On Third"
      ],
      "execution_count": 38,
      "outputs": [
        {
          "output_type": "stream",
          "text": [
            "Writing myfile.txt\n"
          ],
          "name": "stdout"
        }
      ]
    },
    {
      "cell_type": "code",
      "metadata": {
        "id": "CYLeDowy1OFi",
        "colab_type": "code",
        "colab": {
          "base_uri": "https://localhost:8080/",
          "height": 0
        },
        "outputId": "488ca89d-dfa4-4fcf-b488-6df239e992f3"
      },
      "source": [
        "with open('/content/myfile.txt', mode = 'r') as f:\n",
        "    print(f.read())"
      ],
      "execution_count": 39,
      "outputs": [
        {
          "output_type": "stream",
          "text": [
            "One On first\n",
            "Two On second\n",
            "Three On Third\n"
          ],
          "name": "stdout"
        }
      ]
    },
    {
      "cell_type": "code",
      "metadata": {
        "id": "Il7hhHap2UEx",
        "colab_type": "code",
        "colab": {}
      },
      "source": [
        "# Adding the new line to this \n",
        "\n",
        "with open('/content/myfile', mode = 'a') as f:\n",
        "    f.write('\\nFour On Forth')\n"
      ],
      "execution_count": 0,
      "outputs": []
    },
    {
      "cell_type": "code",
      "metadata": {
        "id": "CnHcdh0q6OzB",
        "colab_type": "code",
        "colab": {
          "base_uri": "https://localhost:8080/",
          "height": 0
        },
        "outputId": "674d0299-e109-4d33-e414-6e9731aebf70"
      },
      "source": [
        "with open('/content/myfile.txt', mode = 'r') as f:\n",
        "    print(f.read())"
      ],
      "execution_count": 41,
      "outputs": [
        {
          "output_type": "stream",
          "text": [
            "One On first\n",
            "Two On second\n",
            "Three On Third\n"
          ],
          "name": "stdout"
        }
      ]
    },
    {
      "cell_type": "code",
      "metadata": {
        "id": "u-XToBr-6s4T",
        "colab_type": "code",
        "colab": {}
      },
      "source": [
        "with open('/content/xyz.txt', mode = 'w') as f:\n",
        "    f.write('I created a new file')"
      ],
      "execution_count": 0,
      "outputs": []
    },
    {
      "cell_type": "code",
      "metadata": {
        "id": "SBXuLCCl7Qma",
        "colab_type": "code",
        "colab": {
          "base_uri": "https://localhost:8080/",
          "height": 0
        },
        "outputId": "af596aae-90e5-41c3-e796-4b81dfbfd76f"
      },
      "source": [
        "with open('/content/xyz.txt', mode = 'r') as f:\n",
        "    print(f.read())"
      ],
      "execution_count": 45,
      "outputs": [
        {
          "output_type": "stream",
          "text": [
            "I created a new file\n"
          ],
          "name": "stdout"
        }
      ]
    },
    {
      "cell_type": "markdown",
      "metadata": {
        "id": "_QzwharE9aEc",
        "colab_type": "text"
      },
      "source": [
        "# __Resources for More Basic Practice__\n",
        "\n",
        "Before you begin your assessment, I wanted to point out some helpful links for practice (don't worry about being able to do these exercises, I just want you to be aware of the links so you can visit them later, since we still haven't discussed functions, you won't be able to utilize a lot of these resources yet!):\n",
        "\n",
        "__Basic Practice:__\n",
        "\n",
        "http://codingbat.com/python\n",
        "\n",
        "__More Mathematical (and Harder) Practice:__\n",
        "\n",
        "https://projecteuler.net/archives\n",
        "\n",
        "__List of Practice Problems:__\n",
        "\n",
        "http://www.codeabbey.com/index/task_list\n",
        "\n",
        "__A SubReddit Devoted to Daily Practice Problems:__\n",
        "\n",
        "https://www.reddit.com/r/dailyprogrammer\n",
        "\n",
        "__A very tricky website with very few hints and touch problems (Not for beginners but still interesting)__\n",
        "\n",
        "http://www.pythonchallenge.com/"
      ]
    }
  ]
}