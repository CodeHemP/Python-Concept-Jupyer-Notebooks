{
  "nbformat": 4,
  "nbformat_minor": 0,
  "metadata": {
    "colab": {
      "name": "Python_Bootcamp_U.ipynb",
      "provenance": [],
      "collapsed_sections": [
        "6isT6AIzSFxn",
        "rZdVj53AptGE",
        "BkWY34D8AYg5",
        "VvsdWHLwPc9K",
        "rKm0-IteUNG-",
        "z7bvZExqE2yN",
        "z-7qjmvR4w3C",
        "k5CMWes7Nyvk"
      ],
      "authorship_tag": "ABX9TyOA0AQXOLQmneK7hVDotO+t",
      "include_colab_link": true
    },
    "kernelspec": {
      "name": "python3",
      "display_name": "Python 3"
    }
  },
  "cells": [
    {
      "cell_type": "markdown",
      "metadata": {
        "id": "view-in-github",
        "colab_type": "text"
      },
      "source": [
        "<a href=\"https://colab.research.google.com/github/mohd-faizy/My_Python_Notebooks_Concept/blob/master/Python_Bootcamp_U.ipynb\" target=\"_parent\"><img src=\"https://colab.research.google.com/assets/colab-badge.svg\" alt=\"Open In Colab\"/></a>"
      ]
    },
    {
      "cell_type": "markdown",
      "metadata": {
        "id": "6isT6AIzSFxn",
        "colab_type": "text"
      },
      "source": [
        "# <center>**Python Object and Data Structure Basics**</center>"
      ]
    },
    {
      "cell_type": "markdown",
      "metadata": {
        "id": "90st8bt9Tz-z",
        "colab_type": "text"
      },
      "source": [
        "<center><img src = 'https://d1jnx9ba8s6j9r.cloudfront.net/blog/wp-content/uploads/2019/10/TreeStructure-Data-Structures-in-Python-Edureka1.png'><center>"
      ]
    },
    {
      "cell_type": "markdown",
      "metadata": {
        "id": "rZdVj53AptGE",
        "colab_type": "text"
      },
      "source": [
        "# **String Format**\n"
      ]
    },
    {
      "cell_type": "markdown",
      "metadata": {
        "id": "upfkSGhczDXj",
        "colab_type": "text"
      },
      "source": [
        "**String**\n",
        "\n",
        "- A string is a sequence of charactes\n",
        "- It is immutable.\n",
        "- It is created by enclosing text with single/double/triple quotes"
      ]
    },
    {
      "cell_type": "code",
      "metadata": {
        "id": "o8_KH5xaa49j",
        "colab_type": "code",
        "outputId": "39faa130-e876-4d28-8c71-ce068dc426e3",
        "colab": {
          "base_uri": "https://localhost:8080/"
        }
      },
      "source": [
        "#Method-1\n",
        "\n",
        "age = 36\n",
        "txt = \"My name is John, and I am {}\"\n",
        "print(txt.format(age))"
      ],
      "execution_count": 0,
      "outputs": [
        {
          "output_type": "stream",
          "text": [
            "My name is John, and I am 36\n"
          ],
          "name": "stdout"
        }
      ]
    },
    {
      "cell_type": "code",
      "metadata": {
        "id": "ABKN-yGAp2sI",
        "colab_type": "code",
        "outputId": "5a8720d7-2307-4d87-ea3a-95d11b3f9aa1",
        "colab": {
          "base_uri": "https://localhost:8080/"
        }
      },
      "source": [
        "print('this is a string {}'.format('inserted'))"
      ],
      "execution_count": 0,
      "outputs": [
        {
          "output_type": "stream",
          "text": [
            "this is a string inserted\n"
          ],
          "name": "stdout"
        }
      ]
    },
    {
      "cell_type": "code",
      "metadata": {
        "id": "QqszugqOq0q9",
        "colab_type": "code",
        "outputId": "02e5dfc3-ebb8-4e91-8938-9639816cdbcc",
        "colab": {
          "base_uri": "https://localhost:8080/"
        }
      },
      "source": [
        "print(\"the {} {} {}\".format(\"big\", \"brown\", \"bear\"))"
      ],
      "execution_count": 0,
      "outputs": [
        {
          "output_type": "stream",
          "text": [
            "the big brown bear\n"
          ],
          "name": "stdout"
        }
      ]
    },
    {
      "cell_type": "code",
      "metadata": {
        "id": "ffC_7ZD8rb4T",
        "colab_type": "code",
        "outputId": "468a601d-bd12-4965-ad02-0d20c5f68616",
        "colab": {
          "base_uri": "https://localhost:8080/"
        }
      },
      "source": [
        "print(\"the {1} {0} {2}\".format(\"big\", \"brown\", \"bear\"))"
      ],
      "execution_count": 0,
      "outputs": [
        {
          "output_type": "stream",
          "text": [
            "the brown big bear\n"
          ],
          "name": "stdout"
        }
      ]
    },
    {
      "cell_type": "code",
      "metadata": {
        "id": "_10DyDrsrq1Y",
        "colab_type": "code",
        "outputId": "90a31566-d1f3-4a5a-b8cb-c1003ad8a8f4",
        "colab": {
          "base_uri": "https://localhost:8080/"
        }
      },
      "source": [
        "print(\"the {0} {0} {0}\".format(\"big\", \"brown\", \"bear\"))"
      ],
      "execution_count": 0,
      "outputs": [
        {
          "output_type": "stream",
          "text": [
            "the big big big\n"
          ],
          "name": "stdout"
        }
      ]
    },
    {
      "cell_type": "code",
      "metadata": {
        "id": "lQeYTdGpr6zc",
        "colab_type": "code",
        "outputId": "19e45701-9772-4b52-95a0-1e4659fcd9d6",
        "colab": {
          "base_uri": "https://localhost:8080/"
        }
      },
      "source": [
        "print(\"the {f} {s} {d}\".format(f=\"big\", s = \"brown\", d = \"bear\"))"
      ],
      "execution_count": 0,
      "outputs": [
        {
          "output_type": "stream",
          "text": [
            "the big brown bear\n"
          ],
          "name": "stdout"
        }
      ]
    },
    {
      "cell_type": "markdown",
      "metadata": {
        "id": "BkWY34D8AYg5",
        "colab_type": "text"
      },
      "source": [
        "# **Float formatting**\n"
      ]
    },
    {
      "cell_type": "markdown",
      "metadata": {
        "id": "4Um0fnpLdaWW",
        "colab_type": "text"
      },
      "source": [
        "**syntax**\n",
        "`{value:width.precison f}`\n"
      ]
    },
    {
      "cell_type": "code",
      "metadata": {
        "id": "FD_rLrw6_ilI",
        "colab_type": "code",
        "outputId": "3ffaa334-e9db-4e87-fa8f-72fc102ae073",
        "colab": {
          "base_uri": "https://localhost:8080/",
          "height": 33
        }
      },
      "source": [
        "result = 22/7\n",
        "print(\"the result is {r}\".format(r = result))"
      ],
      "execution_count": 0,
      "outputs": [
        {
          "output_type": "stream",
          "text": [
            "the result is 3.142857142857143\n"
          ],
          "name": "stdout"
        }
      ]
    },
    {
      "cell_type": "code",
      "metadata": {
        "id": "VqcdXQAqAzOc",
        "colab_type": "code",
        "outputId": "dc52a9ac-b068-4128-c390-4e8bbd7e2d9e",
        "colab": {
          "base_uri": "https://localhost:8080/",
          "height": 33
        }
      },
      "source": [
        "result = 22/7\n",
        "print(\"the result is {r:10.5f}\".format(r = result))"
      ],
      "execution_count": 0,
      "outputs": [
        {
          "output_type": "stream",
          "text": [
            "the result is    3.14286\n"
          ],
          "name": "stdout"
        }
      ]
    },
    {
      "cell_type": "code",
      "metadata": {
        "id": "Psszq0y6BaOt",
        "colab_type": "code",
        "outputId": "0fa8a064-b6a4-4d2a-c2a1-b1319ed7e163",
        "colab": {
          "base_uri": "https://localhost:8080/",
          "height": 33
        }
      },
      "source": [
        "name = \"faizy\"\n",
        "print(\"hello my name is {}\".format(name))"
      ],
      "execution_count": 0,
      "outputs": [
        {
          "output_type": "stream",
          "text": [
            "hello my name is faizy\n"
          ],
          "name": "stdout"
        }
      ]
    },
    {
      "cell_type": "code",
      "metadata": {
        "colab_type": "code",
        "outputId": "ecb0568d-ada0-4b81-bd2a-c959a6527612",
        "id": "89QCE2_7B_2k",
        "colab": {
          "base_uri": "https://localhost:8080/",
          "height": 33
        }
      },
      "source": [
        "name = \"faizy\"\n",
        "print(f\"hello! my name is {name}\")"
      ],
      "execution_count": 0,
      "outputs": [
        {
          "output_type": "stream",
          "text": [
            "hello! my name is faizy\n"
          ],
          "name": "stdout"
        }
      ]
    },
    {
      "cell_type": "code",
      "metadata": {
        "id": "5bBVond-CTeR",
        "colab_type": "code",
        "outputId": "8108f3cb-6e6c-47b4-bb50-66b0538b3a5c",
        "colab": {
          "base_uri": "https://localhost:8080/",
          "height": 33
        }
      },
      "source": [
        "name = \"faizy\"\n",
        "collage = \"Jamia Millia Islamia\"\n",
        "print(f\"hello my name is {name} and i studied in {collage}\")\n"
      ],
      "execution_count": 0,
      "outputs": [
        {
          "output_type": "stream",
          "text": [
            "hello my name is faizy and i studied in Jamia Millia Islamia\n"
          ],
          "name": "stdout"
        }
      ]
    },
    {
      "cell_type": "markdown",
      "metadata": {
        "id": "VvsdWHLwPc9K",
        "colab_type": "text"
      },
      "source": [
        "# **Mutable vs Immutable**"
      ]
    },
    {
      "cell_type": "markdown",
      "metadata": {
        "id": "gL0rAhOEPMKO",
        "colab_type": "text"
      },
      "source": [
        "<img src = 'https://miro.medium.com/max/1400/1*oErPCXv1PFcuuizXqGEEbw.png'>\n",
        "\n"
      ]
    },
    {
      "cell_type": "markdown",
      "metadata": {
        "id": "mKjrzZ0CPaha",
        "colab_type": "text"
      },
      "source": [
        "<center><img src = 'https://miro.medium.com/max/1316/1*uFlTNY4W3czywyU18zxl8w.png'></center>\n"
      ]
    },
    {
      "cell_type": "markdown",
      "metadata": {
        "id": "rKm0-IteUNG-",
        "colab_type": "text"
      },
      "source": [
        "# **Strings** `'Hello Wolrd'` `im_mutable`"
      ]
    },
    {
      "cell_type": "markdown",
      "metadata": {
        "id": "4XVnMex2UXIG",
        "colab_type": "text"
      },
      "source": [
        "- Strings are the sequence of characters using the syntax of either single quotes or double.\n",
        "\n",
        "\n",
        "```\n",
        "\"hello World\"\n",
        "'hello'\n",
        "```\n",
        "\n",
        "- A string is a **sequence** of charactes.\n",
        "\n",
        "- It is **immutable**.\n",
        "\n",
        "- It is created by enclosing text with single/double/triple quotes"
      ]
    },
    {
      "cell_type": "code",
      "metadata": {
        "id": "FTIQ9WbKOdga",
        "colab_type": "code",
        "colab": {}
      },
      "source": [
        ""
      ],
      "execution_count": 0,
      "outputs": []
    },
    {
      "cell_type": "markdown",
      "metadata": {
        "id": "z7bvZExqE2yN",
        "colab_type": "text"
      },
      "source": [
        "# **List** `[]` `mutable`, `ordered`, `Duplicates allowd`\n",
        "\n"
      ]
    },
    {
      "cell_type": "markdown",
      "metadata": {
        "id": "mNFaq-OlODqS",
        "colab_type": "text"
      },
      "source": [
        "\n",
        "- List is an **ordered** collection of data.\n",
        "\n",
        "- It is **mutable** and **allow duplicates**.\n",
        "\n",
        "-It list is created by enclosing the data items with in **square brackets** delimited by \",\"\n",
        "\n"
      ]
    },
    {
      "cell_type": "code",
      "metadata": {
        "id": "bqAITq6UF6IF",
        "colab_type": "code",
        "outputId": "d105289d-f02a-43a4-a1b1-3c26b592146f",
        "colab": {
          "base_uri": "https://localhost:8080/",
          "height": 163
        }
      },
      "source": [
        "my_list = ['string', 100, 23.4,6,'monkey',7,8,10]\n",
        "\n",
        "'''\n",
        "syntax[start:stop:step]\n",
        "\n",
        "'''\n",
        "print(type(my_list))\n",
        "print(len(my_list))\n",
        "print(my_list[0])\n",
        "print(my_list[2:])\n",
        "print(my_list[:2])\n",
        "print(my_list[0:6:2])\n",
        "print(my_list[0::2])\n",
        "print(my_list[0:6:])\n",
        "print(my_list[:6:2])"
      ],
      "execution_count": 0,
      "outputs": [
        {
          "output_type": "stream",
          "text": [
            "<class 'list'>\n",
            "8\n",
            "string\n",
            "[23.4, 6, 'monkey', 7, 8, 10]\n",
            "['string', 100]\n",
            "['string', 23.4, 'monkey']\n",
            "['string', 23.4, 'monkey', 8]\n",
            "['string', 100, 23.4, 6, 'monkey', 7]\n",
            "['string', 23.4, 'monkey']\n"
          ],
          "name": "stdout"
        }
      ]
    },
    {
      "cell_type": "code",
      "metadata": {
        "id": "Z_4T1_kXwlo3",
        "colab_type": "code",
        "outputId": "54c8912c-e9f4-42b4-ecc7-b79b323bf29c",
        "colab": {
          "base_uri": "https://localhost:8080/",
          "height": 33
        }
      },
      "source": [
        "#list Concatination\n",
        "my_list_1 = ['bear', 100, 23.4,6,'monkey',7,'cat',10]\n",
        "my_list_2 = ['home',78, 23.4,6,'key',7,'room',10]\n",
        "my_list_3 = my_list_1 + my_list_2\n",
        "print(my_list_3)"
      ],
      "execution_count": 0,
      "outputs": [
        {
          "output_type": "stream",
          "text": [
            "['bear', 100, 23.4, 6, 'monkey', 7, 'cat', 10, 'home', 78, 23.4, 6, 'key', 7, 'room', 10]\n"
          ],
          "name": "stdout"
        }
      ]
    },
    {
      "cell_type": "code",
      "metadata": {
        "id": "08d8rVKRyHcm",
        "colab_type": "code",
        "outputId": "8277d4c1-912d-4689-9d76-f27c466bcb82",
        "colab": {
          "base_uri": "https://localhost:8080/",
          "height": 33
        }
      },
      "source": [
        "my_list_1"
      ],
      "execution_count": 0,
      "outputs": [
        {
          "output_type": "execute_result",
          "data": {
            "text/plain": [
              "['bear', 100, 23.4, 6, 'monkey', 7, 'cat', 10]"
            ]
          },
          "metadata": {
            "tags": []
          },
          "execution_count": 14
        }
      ]
    },
    {
      "cell_type": "markdown",
      "metadata": {
        "id": "RFyPKIn5yupC",
        "colab_type": "text"
      },
      "source": [
        "**List**\n",
        "\n",
        "- List is an ordered collection of data.\n",
        "- It is **mutable** and **allow duplicates**.\n",
        "- It list is created by enclosing the data items with in square brackets delimited by `\",\"`"
      ]
    },
    {
      "cell_type": "code",
      "metadata": {
        "id": "EW8vTwIcytkF",
        "colab_type": "code",
        "outputId": "f35ef90c-d8f4-40e4-d240-beaabf41c9db",
        "colab": {
          "base_uri": "https://localhost:8080/",
          "height": 33
        }
      },
      "source": [
        "#List are mutable\n",
        "my_list_1[0] = 'lion'\n",
        "print(my_list_1)"
      ],
      "execution_count": 0,
      "outputs": [
        {
          "output_type": "stream",
          "text": [
            "['lion', 100, 23.4, 6, 'monkey', 7, 'cat', 10]\n"
          ],
          "name": "stdout"
        }
      ]
    },
    {
      "cell_type": "code",
      "metadata": {
        "id": "aYtcHbMwz9x6",
        "colab_type": "code",
        "outputId": "f0d65f02-6330-4fc3-9808-ca92cc91a191",
        "colab": {
          "base_uri": "https://localhost:8080/",
          "height": 33
        }
      },
      "source": [
        "#adding item to the list\n",
        "my_list_1.append('tiger')\n",
        "print(my_list_1)"
      ],
      "execution_count": 0,
      "outputs": [
        {
          "output_type": "stream",
          "text": [
            "['lion', 100, 23.4, 6, 'monkey', 7, 'cat', 10, 'tiger']\n"
          ],
          "name": "stdout"
        }
      ]
    },
    {
      "cell_type": "markdown",
      "metadata": {
        "id": "3BZdpK1x1j_K",
        "colab_type": "text"
      },
      "source": [
        "**pop()** is an inbuilt function in Python that *removes and returns* **last value** from the list or the given **index value**\n",
        "\n",
        "- by default index location is [-1]\n"
      ]
    },
    {
      "cell_type": "code",
      "metadata": {
        "id": "iRs6zkMq0Xzj",
        "colab_type": "code",
        "outputId": "721ecc7f-3ae2-4259-beb8-c9f2e6d4cb2f",
        "colab": {
          "base_uri": "https://localhost:8080/",
          "height": 33
        }
      },
      "source": [
        "#removing the item form the list\n",
        "my_list_1.pop()\n",
        "print(my_list_1)"
      ],
      "execution_count": 0,
      "outputs": [
        {
          "output_type": "stream",
          "text": [
            "['lion', 100, 23.4, 6, 'monkey', 7, 'cat', 10]\n"
          ],
          "name": "stdout"
        }
      ]
    },
    {
      "cell_type": "markdown",
      "metadata": {
        "id": "wyeUkcxY2cK8",
        "colab_type": "text"
      },
      "source": [
        "**Sorting the list**"
      ]
    },
    {
      "cell_type": "code",
      "metadata": {
        "id": "p4qFNT3w2jHJ",
        "colab_type": "code",
        "outputId": "a021fb7f-9935-4321-b067-694f91cefcbf",
        "colab": {
          "base_uri": "https://localhost:8080/",
          "height": 50
        }
      },
      "source": [
        "new_list_1 = ['b', 'd', 'f', 'a', 'c', 'e']\n",
        "new_list_2 = [2, 4, 6, 8, 1, 3, 5, 7, 9]\n",
        "\n",
        "new_list_1.sort()\n",
        "new_list_2.sort()\n",
        "\n",
        "print(new_list_1)\n",
        "print(new_list_2)"
      ],
      "execution_count": 0,
      "outputs": [
        {
          "output_type": "stream",
          "text": [
            "['a', 'b', 'c', 'd', 'e', 'f']\n",
            "[1, 2, 3, 4, 5, 6, 7, 8, 9]\n"
          ],
          "name": "stdout"
        }
      ]
    },
    {
      "cell_type": "markdown",
      "metadata": {
        "id": "19M0qXG63veW",
        "colab_type": "text"
      },
      "source": [
        "- In Python, **None** keyword is an object, and it is a **data type** of the class **NoneType**.\n",
        "\n",
        "- We can assign None to any variable, but you can not create other NoneType objects. \n",
        "\n",
        "- New instances of None are not created."
      ]
    },
    {
      "cell_type": "code",
      "metadata": {
        "id": "aIawg_0s4K4Y",
        "colab_type": "code",
        "outputId": "16d2b850-a1b7-49d6-b5fa-20991202bf31",
        "colab": {
          "base_uri": "https://localhost:8080/",
          "height": 33
        }
      },
      "source": [
        "new_list_3 = [1, 2, 3, 4, 5, 6, 7, 8, 9]\n",
        "new_list_3.reverse()\n",
        "print(new_list_3)"
      ],
      "execution_count": 0,
      "outputs": [
        {
          "output_type": "stream",
          "text": [
            "[9, 8, 7, 6, 5, 4, 3, 2, 1]\n"
          ],
          "name": "stdout"
        }
      ]
    },
    {
      "cell_type": "markdown",
      "metadata": {
        "id": "z-7qjmvR4w3C",
        "colab_type": "text"
      },
      "source": [
        "# **Dictionary** `{key:value}` `mutable`, `unordered`\n",
        "\n"
      ]
    },
    {
      "cell_type": "markdown",
      "metadata": {
        "id": "xejmR-ct457J",
        "colab_type": "text"
      },
      "source": [
        "- **Dictionary** is an **unordered collection** of key-values pairs.\n",
        "\n",
        "- It is **mutable**.\n",
        "\n",
        "- It is created by enclosing the **key-value parirs (key:value)** with in **curly brackets** delimited by `\",\"`"
      ]
    },
    {
      "cell_type": "code",
      "metadata": {
        "id": "7uwHY9CZ4vTb",
        "colab_type": "code",
        "outputId": "8c8e3bf8-1f20-4f7c-d5e3-d0639b6108cd",
        "colab": {
          "base_uri": "https://localhost:8080/",
          "height": 33
        }
      },
      "source": [
        "price_lookup = {'apple':100, 'banana':40, 'milk':29}\n",
        "price_lookup['apple']"
      ],
      "execution_count": 0,
      "outputs": [
        {
          "output_type": "execute_result",
          "data": {
            "text/plain": [
              "100"
            ]
          },
          "metadata": {
            "tags": []
          },
          "execution_count": 22
        }
      ]
    },
    {
      "cell_type": "code",
      "metadata": {
        "id": "ixSZieUXABSv",
        "colab_type": "code",
        "outputId": "f49377f8-d564-46e4-cbf9-9b274dfc1a9e",
        "colab": {
          "base_uri": "https://localhost:8080/",
          "height": 115
        }
      },
      "source": [
        "d = {'k1':123, 'k2':[0, 1, 2], 'k3':{'inside_key':100}, 'k4':['apple', 'ball', 'cat']}\n",
        "print(d['k1'])\n",
        "print(d['k2'])\n",
        "print(d['k2'][2])\n",
        "print(d['k3']['inside_key'])\n",
        "\n",
        "d2 = d['k4'][1]\n",
        "print(d2.upper())\n",
        "\n",
        "print(d['k4'][2].upper())"
      ],
      "execution_count": 0,
      "outputs": [
        {
          "output_type": "stream",
          "text": [
            "123\n",
            "[0, 1, 2]\n",
            "2\n",
            "100\n",
            "BALL\n",
            "CAT\n"
          ],
          "name": "stdout"
        }
      ]
    },
    {
      "cell_type": "code",
      "metadata": {
        "id": "bu01fsPeGt1M",
        "colab_type": "code",
        "outputId": "a94654ae-efac-4056-bbc8-ae8777b40deb",
        "colab": {
          "base_uri": "https://localhost:8080/",
          "height": 33
        }
      },
      "source": [
        "#adding new key:value pairs\n",
        "my_dic = {'k1':100, 'k2':200, 'k3':300}\n",
        "my_dic['k4'] = 400\n",
        "print(my_dic)"
      ],
      "execution_count": 0,
      "outputs": [
        {
          "output_type": "stream",
          "text": [
            "{'k1': 100, 'k2': 200, 'k3': 300, 'k4': 400}\n"
          ],
          "name": "stdout"
        }
      ]
    },
    {
      "cell_type": "code",
      "metadata": {
        "colab_type": "code",
        "outputId": "031b4692-5cd6-47f3-88ab-e63dffba4364",
        "id": "_yHE4LuBHp35",
        "colab": {
          "base_uri": "https://localhost:8080/",
          "height": 33
        }
      },
      "source": [
        "#Overwriting key:value pairs\n",
        "my_dic = {'k1':100, 'k2':200, 'k3':300}\n",
        "my_dic['k2'] = 'New Value'\n",
        "print(my_dic)"
      ],
      "execution_count": 0,
      "outputs": [
        {
          "output_type": "stream",
          "text": [
            "{'k1': 100, 'k2': 'New Value', 'k3': 300}\n"
          ],
          "name": "stdout"
        }
      ]
    },
    {
      "cell_type": "code",
      "metadata": {
        "id": "LJeJ1R3lH-GT",
        "colab_type": "code",
        "outputId": "e7c493aa-29d4-43b2-9713-25199eb85b77",
        "colab": {
          "base_uri": "https://localhost:8080/",
          "height": 33
        }
      },
      "source": [
        "my_dic = {'k1':100, 'k2':200, 'k3':300}\n",
        "my_dic.keys()"
      ],
      "execution_count": 0,
      "outputs": [
        {
          "output_type": "execute_result",
          "data": {
            "text/plain": [
              "dict_keys(['k1', 'k2', 'k3'])"
            ]
          },
          "metadata": {
            "tags": []
          },
          "execution_count": 23
        }
      ]
    },
    {
      "cell_type": "code",
      "metadata": {
        "id": "H72rN3dqILHM",
        "colab_type": "code",
        "outputId": "f1c8cbfe-ed8f-406b-c8c0-670c7a613b7a",
        "colab": {
          "base_uri": "https://localhost:8080/",
          "height": 33
        }
      },
      "source": [
        "my_dic = {'k1':100, 'k2':200, 'k3':300}\n",
        "my_dic.values()"
      ],
      "execution_count": 0,
      "outputs": [
        {
          "output_type": "execute_result",
          "data": {
            "text/plain": [
              "dict_values([100, 200, 300])"
            ]
          },
          "metadata": {
            "tags": []
          },
          "execution_count": 24
        }
      ]
    },
    {
      "cell_type": "code",
      "metadata": {
        "id": "ocHfbvxKIno1",
        "colab_type": "code",
        "outputId": "d69c6f59-46e3-4817-852c-966ad30be69f",
        "colab": {
          "base_uri": "https://localhost:8080/",
          "height": 33
        }
      },
      "source": [
        "'''\n",
        "return Tuple\n",
        "\n",
        "'''\n",
        "my_dic = {'k1':100, 'k2':200, 'k3':300}\n",
        "my_dic.items()"
      ],
      "execution_count": 0,
      "outputs": [
        {
          "output_type": "execute_result",
          "data": {
            "text/plain": [
              "dict_items([('k1', 100), ('k2', 200), ('k3', 300)])"
            ]
          },
          "metadata": {
            "tags": []
          },
          "execution_count": 26
        }
      ]
    },
    {
      "cell_type": "markdown",
      "metadata": {
        "id": "k5CMWes7Nyvk",
        "colab_type": "text"
      },
      "source": [
        "# **Tuples** `()`,`im_mutable`, `ordered`, `Duplicates allowed`\n",
        "\n"
      ]
    },
    {
      "cell_type": "markdown",
      "metadata": {
        "id": "mJrvVBCPN5L9",
        "colab_type": "text"
      },
      "source": [
        "- They are very similar to the lists.key difference is **immutability**.\n",
        "\n",
        "- Once an element inside a tuple it cannot be reassigned to something else.\n",
        "\n",
        "- Tuples uses paranthesis:**(1, 2, 3)**\n",
        "\n",
        "- Tuple is an **ordered collection** of data.\n",
        "\n",
        "- It is **immutable** and **allow duplicates**.\n",
        "\n",
        "- It list is created by enclosing the data items with in round brackets delimited by \",\""
      ]
    },
    {
      "cell_type": "code",
      "metadata": {
        "id": "ZF1dHQJXb3Li",
        "colab_type": "code",
        "outputId": "58384e56-2334-4bb7-949b-e7f774b5f39a",
        "colab": {
          "base_uri": "https://localhost:8080/",
          "height": 50
        }
      },
      "source": [
        "t = ('a','a', 'b', 'e', 'f', 'c', 'c', 'c')\n",
        "print(t.count('c'))\n",
        "print(t.index('c')) #this return the very first time 'c' appers \n"
      ],
      "execution_count": 0,
      "outputs": [
        {
          "output_type": "stream",
          "text": [
            "3\n",
            "5\n"
          ],
          "name": "stdout"
        }
      ]
    },
    {
      "cell_type": "code",
      "metadata": {
        "id": "2hppnTbXc-r7",
        "colab_type": "code",
        "outputId": "c69266d7-b340-43a4-f09a-702f9d932ec9",
        "colab": {
          "base_uri": "https://localhost:8080/",
          "height": 163
        }
      },
      "source": [
        "# simple Slicing Tuples\n",
        "\n",
        "t = (0, 1, 2, 3, 4, 5, 6, 7, 8, 9, 10, 11, 12, 13)\n",
        "print(type(t))\n",
        "print(len(t))\n",
        "\n",
        "print(t[0])\n",
        "print(t[2:])\n",
        "print(t[:2])\n",
        "print(t[0:6:2])\n",
        "print(t[0::2])\n",
        "print(t[0:6:])\n",
        "print(t[:6:2])"
      ],
      "execution_count": 0,
      "outputs": [
        {
          "output_type": "stream",
          "text": [
            "<class 'tuple'>\n",
            "14\n",
            "0\n",
            "(2, 3, 4, 5, 6, 7, 8, 9, 10, 11, 12, 13)\n",
            "(0, 1)\n",
            "(0, 2, 4)\n",
            "(0, 2, 4, 6, 8, 10, 12)\n",
            "(0, 1, 2, 3, 4, 5)\n",
            "(0, 2, 4)\n"
          ],
          "name": "stdout"
        }
      ]
    },
    {
      "cell_type": "code",
      "metadata": {
        "id": "0newOSpvQ3Oi",
        "colab_type": "code",
        "outputId": "c51d39dd-24fb-4e68-9c77-575d16b39a41",
        "colab": {
          "base_uri": "https://localhost:8080/",
          "height": 163
        }
      },
      "source": [
        "# Slicing Tuples\n",
        "\n",
        "t = (['a', 2, 'c', 4], {'k1': 100}, {'k2':['apple', 'ball', 'cat']})\n",
        "\n",
        "print(type(t))\n",
        "print(len(t))\n",
        "\n",
        "print(t[0])\n",
        "print(t[2:])\n",
        "print(t[:2])\n",
        "print(t[0:1:2])\n",
        "print(t[0::2])\n",
        "print(t[0:1:])\n",
        "print(t[:1:2])\n",
        "\n"
      ],
      "execution_count": 0,
      "outputs": [
        {
          "output_type": "stream",
          "text": [
            "<class 'tuple'>\n",
            "3\n",
            "['a', 2, 'c', 4]\n",
            "({'k2': ['apple', 'ball', 'cat']},)\n",
            "(['a', 2, 'c', 4], {'k1': 100})\n",
            "(['a', 2, 'c', 4],)\n",
            "(['a', 2, 'c', 4], {'k2': ['apple', 'ball', 'cat']})\n",
            "(['a', 2, 'c', 4],)\n",
            "(['a', 2, 'c', 4],)\n"
          ],
          "name": "stdout"
        }
      ]
    },
    {
      "cell_type": "code",
      "metadata": {
        "id": "GKFhBsZ7Zv3G",
        "colab_type": "code",
        "outputId": "b76ad9cd-3127-47f9-b632-64d3b8210442",
        "colab": {
          "base_uri": "https://localhost:8080/",
          "height": 33
        }
      },
      "source": [
        "t = (['a', 2, 'c', 4], {'k1': 100}, {'k2':['apple', 'ball', 'cat']})"
      ],
      "execution_count": 0,
      "outputs": [
        {
          "output_type": "stream",
          "text": [
            "k2\n"
          ],
          "name": "stdout"
        }
      ]
    },
    {
      "cell_type": "markdown",
      "metadata": {
        "id": "USOEx0qgJnim",
        "colab_type": "text"
      },
      "source": [
        "Tuple provides us the convenient source of whats is known as **data integratity**\n",
        "\n",
        "- Main use of tuples is when we are passing the **objects** in our program, we need to make sure that theyacciedntly get changed\n",
        "\n",
        "```\n",
        "TypeError: 'tuple' object does not support item assignment\n",
        "```\n",
        "\n"
      ]
    },
    {
      "cell_type": "code",
      "metadata": {
        "id": "5YDCAdp_eICP",
        "colab_type": "code",
        "colab": {}
      },
      "source": [
        "t = ('a', 1, 4, 'ONE', 'apple')\n",
        "t[0] = 'New'"
      ],
      "execution_count": 0,
      "outputs": []
    },
    {
      "cell_type": "markdown",
      "metadata": {
        "id": "V6d0EImNK-zZ",
        "colab_type": "text"
      },
      "source": [
        "- Tuples are faster than lists.\n",
        "\n",
        "- It makes your code safer if you “write-protect” data that does not need to be changed.\n",
        "\n",
        "- Some tuples can be used as **dictionary keys** (specifically, tuples that contain **immutable value**s like strings, numbers, and other tuples)."
      ]
    },
    {
      "cell_type": "markdown",
      "metadata": {
        "id": "LPkW_EZCNBnR",
        "colab_type": "text"
      },
      "source": [
        "# **Sets** {}, `mutable`, `unordered`, `No duplicates`"
      ]
    },
    {
      "cell_type": "markdown",
      "metadata": {
        "id": "xXw-x8OfNJ0-",
        "colab_type": "text"
      },
      "source": [
        "- Set is an **unordered** collection of data, e.g- we can have say 2 in the set **more then one time**.\n",
        "\n",
        "- It is mutable and **does not allow duplicates**.\n",
        "\n",
        "- It is created by enclosing the data items with in curly brackets delimited by \","
      ]
    },
    {
      "cell_type": "code",
      "metadata": {
        "id": "c9AJdnLkZzx9",
        "colab_type": "code",
        "outputId": "dbe56a6e-b22f-4af9-8455-0cc514e034a2",
        "colab": {
          "base_uri": "https://localhost:8080/",
          "height": 82
        }
      },
      "source": [
        "myset = set()\n",
        "\n",
        "myset.add(1)\n",
        "print(myset)\n",
        "\n",
        "myset.add(2)\n",
        "print(myset)\n",
        "\n",
        "\n",
        "myset.add(2)\n",
        "print(myset) #it has to be unique to get added to the set\n",
        "\n",
        "myset.add(5)\n",
        "print(myset)"
      ],
      "execution_count": 0,
      "outputs": [
        {
          "output_type": "stream",
          "text": [
            "{1}\n",
            "{1, 2}\n",
            "{1, 2}\n",
            "{1, 2, 5}\n"
          ],
          "name": "stdout"
        }
      ]
    },
    {
      "cell_type": "code",
      "metadata": {
        "id": "rr_ArHBSbSfy",
        "colab_type": "code",
        "outputId": "3246c31e-0021-4ebe-bc25-a49a6cf22ad4",
        "colab": {
          "base_uri": "https://localhost:8080/",
          "height": 33
        }
      },
      "source": [
        "mylist = [1, 1, 1, 1, 2, 2, 3, 3, 3, 4, 5, 6, 6, 6, 7, 7, 8, 8, 9, 9]\n",
        "print(set(mylist)) "
      ],
      "execution_count": 0,
      "outputs": [
        {
          "output_type": "stream",
          "text": [
            "{1, 2, 3, 4, 5, 6, 7, 8, 9}\n"
          ],
          "name": "stdout"
        }
      ]
    },
    {
      "cell_type": "code",
      "metadata": {
        "id": "d3Hob6lndtrj",
        "colab_type": "code",
        "outputId": "ef176ffc-7f15-4d00-aa7c-aea5384af233",
        "colab": {
          "base_uri": "https://localhost:8080/",
          "height": 33
        }
      },
      "source": [
        "set('Mississippi')"
      ],
      "execution_count": 0,
      "outputs": [
        {
          "output_type": "execute_result",
          "data": {
            "text/plain": [
              "{'M', 'i', 'p', 's'}"
            ]
          },
          "metadata": {
            "tags": []
          },
          "execution_count": 81
        }
      ]
    },
    {
      "cell_type": "markdown",
      "metadata": {
        "id": "B9CaBrb6eAIh",
        "colab_type": "text"
      },
      "source": [
        "# **Booleans**"
      ]
    },
    {
      "cell_type": "markdown",
      "metadata": {
        "id": "o-loBw5fgvOX",
        "colab_type": "text"
      },
      "source": [
        "- **Booleans** are the operaters that allow you to convey **True** or **false** statements.\n",
        "\n",
        "- These are important where we have to deal with control flow and logic!"
      ]
    },
    {
      "cell_type": "code",
      "metadata": {
        "id": "G7x2mhTlht6G",
        "colab_type": "code",
        "outputId": "ffb7aaf8-a34e-41b2-df20-5adeed655cc5",
        "colab": {
          "base_uri": "https://localhost:8080/",
          "height": 50
        }
      },
      "source": [
        " print(type(True))\n",
        " print(type(False))"
      ],
      "execution_count": 0,
      "outputs": [
        {
          "output_type": "stream",
          "text": [
            "<class 'bool'>\n",
            "<class 'bool'>\n"
          ],
          "name": "stdout"
        }
      ]
    },
    {
      "cell_type": "code",
      "metadata": {
        "id": "Tyouukrjh-Si",
        "colab_type": "code",
        "outputId": "6405a6fa-fb79-45bb-fd1d-631e22fc0270",
        "colab": {
          "base_uri": "https://localhost:8080/",
          "height": 33
        }
      },
      "source": [
        "1 > 2"
      ],
      "execution_count": 0,
      "outputs": [
        {
          "output_type": "execute_result",
          "data": {
            "text/plain": [
              "False"
            ]
          },
          "metadata": {
            "tags": []
          },
          "execution_count": 83
        }
      ]
    },
    {
      "cell_type": "code",
      "metadata": {
        "id": "mREtcBSNiN_u",
        "colab_type": "code",
        "outputId": "78760f7f-94a8-4c81-a991-2d4f7b72ae1b",
        "colab": {
          "base_uri": "https://localhost:8080/",
          "height": 33
        }
      },
      "source": [
        "1 == 1"
      ],
      "execution_count": 0,
      "outputs": [
        {
          "output_type": "execute_result",
          "data": {
            "text/plain": [
              "True"
            ]
          },
          "metadata": {
            "tags": []
          },
          "execution_count": 84
        }
      ]
    },
    {
      "cell_type": "code",
      "metadata": {
        "id": "fvytpaShiVq3",
        "colab_type": "code",
        "outputId": "8105ec9f-1b7c-4a7d-85c7-be05a0c48336",
        "colab": {
          "base_uri": "https://localhost:8080/",
          "height": 33
        }
      },
      "source": [
        "b = None #used as a placeholder\n",
        "print(b)"
      ],
      "execution_count": 0,
      "outputs": [
        {
          "output_type": "stream",
          "text": [
            "None\n"
          ],
          "name": "stdout"
        }
      ]
    },
    {
      "cell_type": "markdown",
      "metadata": {
        "id": "2uh8xHGqqXxj",
        "colab_type": "text"
      },
      "source": [
        "# **I/O with Basic Files in Python**"
      ]
    }
  ]
}