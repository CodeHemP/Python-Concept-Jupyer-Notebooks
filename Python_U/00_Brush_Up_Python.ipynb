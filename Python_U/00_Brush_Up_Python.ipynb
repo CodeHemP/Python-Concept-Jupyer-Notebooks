{
  "nbformat": 4,
  "nbformat_minor": 0,
  "metadata": {
    "kernelspec": {
      "display_name": "Python 3",
      "language": "python",
      "name": "python3"
    },
    "language_info": {
      "codemirror_mode": {
        "name": "ipython",
        "version": 3
      },
      "file_extension": ".py",
      "mimetype": "text/x-python",
      "name": "python",
      "nbconvert_exporter": "python",
      "pygments_lexer": "ipython3",
      "version": "3.6.4"
    },
    "colab": {
      "name": "00_Brush_Up_Python.ipynb",
      "provenance": [],
      "collapsed_sections": [],
      "toc_visible": true,
      "include_colab_link": true
    }
  },
  "cells": [
    {
      "cell_type": "markdown",
      "metadata": {
        "id": "view-in-github",
        "colab_type": "text"
      },
      "source": [
        "<a href=\"https://colab.research.google.com/github/mohd-faizy/00_Python_Notebooks_Concept/blob/master/00_Brush_Up_Python.ipynb\" target=\"_parent\"><img src=\"https://colab.research.google.com/assets/colab-badge.svg\" alt=\"Open In Colab\"/></a>"
      ]
    },
    {
      "cell_type": "markdown",
      "metadata": {
        "id": "E6TTlvtY4yjX",
        "colab_type": "text"
      },
      "source": [
        "# <center>**Brush Up Python**</center>"
      ]
    },
    {
      "cell_type": "markdown",
      "metadata": {
        "id": "KNrWyywx4AZl",
        "colab_type": "text"
      },
      "source": [
        "## **1. Basics**"
      ]
    },
    {
      "cell_type": "code",
      "metadata": {
        "id": "5Aqwgx3v4AZo",
        "colab_type": "code",
        "colab": {
          "base_uri": "https://localhost:8080/",
          "height": 34
        },
        "outputId": "dff5ac38-599b-4f20-d31d-d4ca32073953"
      },
      "source": [
        "# printing any value\n",
        "print(\"Hello\")"
      ],
      "execution_count": 1,
      "outputs": [
        {
          "output_type": "stream",
          "text": [
            "Hello\n"
          ],
          "name": "stdout"
        }
      ]
    },
    {
      "cell_type": "markdown",
      "metadata": {
        "id": "yAxE3Brv4AZy",
        "colab_type": "text"
      },
      "source": [
        "## 2. Variable\n",
        "A variable is a reserved memory location to store values. A varaiable name must begin alphabet/underscore followed by alphabets/numbers/underscores"
      ]
    },
    {
      "cell_type": "code",
      "metadata": {
        "id": "U9TUN8dL4AZz",
        "colab_type": "code",
        "colab": {
          "base_uri": "https://localhost:8080/",
          "height": 85
        },
        "outputId": "65abffec-20cb-4c3a-ed98-4c600e9ee72d"
      },
      "source": [
        "# python data types\n",
        "number = 3\n",
        "float_number = 99.99\n",
        "character = 'a'\n",
        "string = \"Hello, World!\"\n",
        "\n",
        "print(number, type(number))\n",
        "print(float_number, type(float_number))\n",
        "print(character, type(character))\n",
        "print(string, type(string))"
      ],
      "execution_count": 2,
      "outputs": [
        {
          "output_type": "stream",
          "text": [
            "3 <class 'int'>\n",
            "99.99 <class 'float'>\n",
            "a <class 'str'>\n",
            "Hello, World! <class 'str'>\n"
          ],
          "name": "stdout"
        }
      ]
    },
    {
      "cell_type": "code",
      "metadata": {
        "id": "4BQa0Ihj4AZ4",
        "colab_type": "code",
        "colab": {
          "base_uri": "https://localhost:8080/",
          "height": 102
        },
        "outputId": "2f8887ae-2584-4ff1-b2ac-29d1b4ed86dc"
      },
      "source": [
        "# writing basic operations\n",
        "a = 6\n",
        "b = 2\n",
        "print(a+b)\n",
        "print(a-b)\n",
        "print(a*b)\n",
        "print(a/b)\n",
        "print(a%b)"
      ],
      "execution_count": 3,
      "outputs": [
        {
          "output_type": "stream",
          "text": [
            "8\n",
            "4\n",
            "12\n",
            "3.0\n",
            "0\n"
          ],
          "name": "stdout"
        }
      ]
    },
    {
      "cell_type": "code",
      "metadata": {
        "id": "PZcUeozh4AZ9",
        "colab_type": "code",
        "colab": {
          "base_uri": "https://localhost:8080/",
          "height": 71
        },
        "outputId": "9feff2b4-1e5a-42dc-d093-0ce27d457ac4"
      },
      "source": [
        "# getting input \n",
        "number = input(\"Enter a number: \")\n",
        "\n",
        "print(number, type(number))"
      ],
      "execution_count": 4,
      "outputs": [
        {
          "output_type": "stream",
          "text": [
            "Enter a number: 7\n",
            "7 <class 'str'>\n"
          ],
          "name": "stdout"
        }
      ]
    },
    {
      "cell_type": "code",
      "metadata": {
        "id": "zTfDQM0G4AaI",
        "colab_type": "code",
        "colab": {
          "base_uri": "https://localhost:8080/",
          "height": 88
        },
        "outputId": "29fcbeba-b0db-4d94-94a5-8e76a58b15f9"
      },
      "source": [
        "# casting string to integer\n",
        "number = int(input(\"Enter a number: \"))\n",
        "\n",
        "print(number, type(number))\n",
        "print(\"Square of the number:\", number**2)"
      ],
      "execution_count": 5,
      "outputs": [
        {
          "output_type": "stream",
          "text": [
            "Enter a number: 07\n",
            "7 <class 'int'>\n",
            "Square of the number: 49\n"
          ],
          "name": "stdout"
        }
      ]
    },
    {
      "cell_type": "markdown",
      "metadata": {
        "id": "rwr__v2S4AaO",
        "colab_type": "text"
      },
      "source": [
        "## 3. Python Built-in Data Structures"
      ]
    },
    {
      "cell_type": "markdown",
      "metadata": {
        "id": "8dTuWdMs4AaP",
        "colab_type": "text"
      },
      "source": [
        "### 3.1. List\n",
        "* List is an ordered collection of data. \n",
        "* It is mutable and allow duplicates. \n",
        "* It list is created by enclosing the data items with in square brackets delimited by \",\""
      ]
    },
    {
      "cell_type": "code",
      "metadata": {
        "id": "mzIvWCwN4AaQ",
        "colab_type": "code",
        "colab": {
          "base_uri": "https://localhost:8080/",
          "height": 34
        },
        "outputId": "a2f90f1f-cfb8-4cad-9794-950084bac36e"
      },
      "source": [
        "# Creating a list\n",
        "marks = [35, 68, 96, 80, 90]\n",
        "\n",
        "print(marks)"
      ],
      "execution_count": 6,
      "outputs": [
        {
          "output_type": "stream",
          "text": [
            "[35, 68, 96, 80, 90]\n"
          ],
          "name": "stdout"
        }
      ]
    },
    {
      "cell_type": "code",
      "metadata": {
        "id": "k1a5eCD34AaU",
        "colab_type": "code",
        "colab": {
          "base_uri": "https://localhost:8080/",
          "height": 68
        },
        "outputId": "da834436-42cd-42e5-f4f8-9147cd5e3753"
      },
      "source": [
        "# Indexing list elements\n",
        "print(\"marks[0] : %d\" % marks[0])\n",
        "print(\"marks[len(marks)-1] : %d\" % marks[len(marks)-1])\n",
        "print(\"marks[-1] : %d\" % marks[-1])"
      ],
      "execution_count": 7,
      "outputs": [
        {
          "output_type": "stream",
          "text": [
            "marks[0] : 35\n",
            "marks[len(marks)-1] : 90\n",
            "marks[-1] : 90\n"
          ],
          "name": "stdout"
        }
      ]
    },
    {
      "cell_type": "code",
      "metadata": {
        "id": "qw7cbvvp4AaY",
        "colab_type": "code",
        "colab": {
          "base_uri": "https://localhost:8080/",
          "height": 34
        },
        "outputId": "82913ef8-1802-4b6e-918b-e921de573bb2"
      },
      "source": [
        "# Modifying list elemets\n",
        "\n",
        "marks[0] = 38\n",
        "print(marks)"
      ],
      "execution_count": 8,
      "outputs": [
        {
          "output_type": "stream",
          "text": [
            "[38, 68, 96, 80, 90]\n"
          ],
          "name": "stdout"
        }
      ]
    },
    {
      "cell_type": "code",
      "metadata": {
        "id": "Fn8aHFJH4Aac",
        "colab_type": "code",
        "colab": {
          "base_uri": "https://localhost:8080/",
          "height": 102
        },
        "outputId": "8e6b426e-9a81-4e71-ba4a-41fb8547c400"
      },
      "source": [
        "# Slicing the list\n",
        "# Syntax: list[start:end(exclusive)]\n",
        "\n",
        "print(marks[0:len(marks)])\n",
        "print(marks[:len(marks)])\n",
        "print(marks[0:])\n",
        "print(marks[:])\n",
        "print(marks[2:4])"
      ],
      "execution_count": 9,
      "outputs": [
        {
          "output_type": "stream",
          "text": [
            "[38, 68, 96, 80, 90]\n",
            "[38, 68, 96, 80, 90]\n",
            "[38, 68, 96, 80, 90]\n",
            "[38, 68, 96, 80, 90]\n",
            "[96, 80]\n"
          ],
          "name": "stdout"
        }
      ]
    },
    {
      "cell_type": "code",
      "metadata": {
        "id": "DGmKPwPu4Aag",
        "colab_type": "code",
        "colab": {
          "base_uri": "https://localhost:8080/",
          "height": 68
        },
        "outputId": "0f94b64e-41e5-412e-b460-21526cd99467"
      },
      "source": [
        "# Adding and removing list elements\n",
        "\n",
        "marks.append(89)\n",
        "print(marks)\n",
        "\n",
        "marks.insert(1, 70)\n",
        "print(marks)\n",
        "\n",
        "marks.remove(70)\n",
        "print(marks)"
      ],
      "execution_count": 10,
      "outputs": [
        {
          "output_type": "stream",
          "text": [
            "[38, 68, 96, 80, 90, 89]\n",
            "[38, 70, 68, 96, 80, 90, 89]\n",
            "[38, 68, 96, 80, 90, 89]\n"
          ],
          "name": "stdout"
        }
      ]
    },
    {
      "cell_type": "code",
      "metadata": {
        "id": "DAjZazb94Aak",
        "colab_type": "code",
        "colab": {
          "base_uri": "https://localhost:8080/",
          "height": 51
        },
        "outputId": "e43e008c-74b0-411d-d3aa-8436db517a79"
      },
      "source": [
        "# sorting list elements\n",
        "print(sorted(marks))\n",
        "print(sorted(marks, reverse=True))"
      ],
      "execution_count": 11,
      "outputs": [
        {
          "output_type": "stream",
          "text": [
            "[38, 68, 80, 89, 90, 96]\n",
            "[96, 90, 89, 80, 68, 38]\n"
          ],
          "name": "stdout"
        }
      ]
    },
    {
      "cell_type": "code",
      "metadata": {
        "id": "-aXXMnqv4Aap",
        "colab_type": "code",
        "colab": {
          "base_uri": "https://localhost:8080/",
          "height": 34
        },
        "outputId": "fe66e662-f7f7-4135-86d0-a1539c70ce76"
      },
      "source": [
        "# List Comprehesion\n",
        "pass_mark = 50\n",
        "marks_new = [mark for mark in marks if mark > pass_mark]\n",
        "print(marks_new)"
      ],
      "execution_count": 12,
      "outputs": [
        {
          "output_type": "stream",
          "text": [
            "[68, 96, 80, 90, 89]\n"
          ],
          "name": "stdout"
        }
      ]
    },
    {
      "cell_type": "markdown",
      "metadata": {
        "id": "g45pDtTM4Aat",
        "colab_type": "text"
      },
      "source": [
        "### 3.2. Tuple\n",
        "* Tuple is an ordered collection of data. \n",
        "* It is immutable and allow duplicates. \n",
        "* It list is created by enclosing the data items with in round brackets delimited by \",\""
      ]
    },
    {
      "cell_type": "code",
      "metadata": {
        "id": "7kbQlvDo4Aat",
        "colab_type": "code",
        "colab": {
          "base_uri": "https://localhost:8080/",
          "height": 34
        },
        "outputId": "46517ad3-29de-4f41-fc63-a6952ffe0cf1"
      },
      "source": [
        "# Creating a tuple\n",
        "marks = (35, 68, 96, 80, 90)\n",
        "print(marks)"
      ],
      "execution_count": 13,
      "outputs": [
        {
          "output_type": "stream",
          "text": [
            "(35, 68, 96, 80, 90)\n"
          ],
          "name": "stdout"
        }
      ]
    },
    {
      "cell_type": "code",
      "metadata": {
        "id": "dKS2Lgw_4Aax",
        "colab_type": "code",
        "colab": {
          "base_uri": "https://localhost:8080/",
          "height": 68
        },
        "outputId": "d1051852-8e2a-4352-b5de-a92e85018cb7"
      },
      "source": [
        "# Indexing tuple elements\n",
        "print(\"marks[0] : %d\" % marks[0])\n",
        "print(\"marks[len(marks)-1] : %d\" % marks[len(marks)-1])\n",
        "print(\"marks[-1] : %d\" % marks[-1])"
      ],
      "execution_count": 14,
      "outputs": [
        {
          "output_type": "stream",
          "text": [
            "marks[0] : 35\n",
            "marks[len(marks)-1] : 90\n",
            "marks[-1] : 90\n"
          ],
          "name": "stdout"
        }
      ]
    },
    {
      "cell_type": "code",
      "metadata": {
        "id": "HeGYm-Rf4Aa2",
        "colab_type": "code",
        "colab": {
          "base_uri": "https://localhost:8080/",
          "height": 34
        },
        "outputId": "9bb57d6e-f66b-498f-a7e7-6f722132d41a"
      },
      "source": [
        "#  Note: We cannot modify the elemnts in a tuple\n",
        "#marks[0] = 38\n",
        "print(marks)"
      ],
      "execution_count": 15,
      "outputs": [
        {
          "output_type": "stream",
          "text": [
            "(35, 68, 96, 80, 90)\n"
          ],
          "name": "stdout"
        }
      ]
    },
    {
      "cell_type": "code",
      "metadata": {
        "id": "4cebrSMp4Aa6",
        "colab_type": "code",
        "colab": {
          "base_uri": "https://localhost:8080/",
          "height": 102
        },
        "outputId": "0ed326f7-c2f0-4a9c-84d7-c0551720c3d5"
      },
      "source": [
        "# Slicing the tuple\n",
        "# Syntax: tuple[start:end(exclusive)]\n",
        "print(marks[0:len(marks)])\n",
        "print(marks[:len(marks)])\n",
        "print(marks[0:])\n",
        "print(marks[:])\n",
        "\n",
        "print(marks[2:4])"
      ],
      "execution_count": 16,
      "outputs": [
        {
          "output_type": "stream",
          "text": [
            "(35, 68, 96, 80, 90)\n",
            "(35, 68, 96, 80, 90)\n",
            "(35, 68, 96, 80, 90)\n",
            "(35, 68, 96, 80, 90)\n",
            "(96, 80)\n"
          ],
          "name": "stdout"
        }
      ]
    },
    {
      "cell_type": "code",
      "metadata": {
        "id": "BAdUio0n4Aa-",
        "colab_type": "code",
        "colab": {
          "base_uri": "https://localhost:8080/",
          "height": 34
        },
        "outputId": "564c9a3f-6c9a-4a59-b0b1-64162c29ac0f"
      },
      "source": [
        "# tuple Comprehesion\n",
        "pass_mark = 50\n",
        "marks_new = tuple((mark for mark in marks if mark > pass_mark))\n",
        "print(marks_new)"
      ],
      "execution_count": 17,
      "outputs": [
        {
          "output_type": "stream",
          "text": [
            "(68, 96, 80, 90)\n"
          ],
          "name": "stdout"
        }
      ]
    },
    {
      "cell_type": "markdown",
      "metadata": {
        "id": "oE2GdE7D4AbD",
        "colab_type": "text"
      },
      "source": [
        "### 3.3. Set\n",
        "* Set is an unordered collection of data. \n",
        "* It is mutable and does not allow duplicates. \n",
        "* It is created by enclosing the data items with in curly brackets delimited by \",\""
      ]
    },
    {
      "cell_type": "code",
      "metadata": {
        "id": "A-Xv_uZd4AbD",
        "colab_type": "code",
        "colab": {
          "base_uri": "https://localhost:8080/",
          "height": 34
        },
        "outputId": "20885dab-8087-4d42-898a-5d9102cba66d"
      },
      "source": [
        "cities = {\"Madras\", \"Delhi\", \"Bombay\", \"Calcutta\", \"Madras\"}\n",
        "\n",
        "print(cities)"
      ],
      "execution_count": 18,
      "outputs": [
        {
          "output_type": "stream",
          "text": [
            "{'Madras', 'Bombay', 'Delhi', 'Calcutta'}\n"
          ],
          "name": "stdout"
        }
      ]
    },
    {
      "cell_type": "code",
      "metadata": {
        "id": "5HmWl31O4AbG",
        "colab_type": "code",
        "colab": {
          "base_uri": "https://localhost:8080/",
          "height": 85
        },
        "outputId": "1b7ef0b8-7971-4469-ff60-abdcb2292a96"
      },
      "source": [
        "# Set Operations\n",
        "a = {1, 2, 3, 4}\n",
        "b = {4, 5, 6}\n",
        "\n",
        "# Set Union\n",
        "print(a | b)\n",
        "\n",
        "# Set Intersection\n",
        "print(a & b)\n",
        "\n",
        "# Set Difference\n",
        "print(a - b)\n",
        "\n",
        "# Symmetric Difference\n",
        "print(a ^ b)"
      ],
      "execution_count": 19,
      "outputs": [
        {
          "output_type": "stream",
          "text": [
            "{1, 2, 3, 4, 5, 6}\n",
            "{4}\n",
            "{1, 2, 3}\n",
            "{1, 2, 3, 5, 6}\n"
          ],
          "name": "stdout"
        }
      ]
    },
    {
      "cell_type": "code",
      "metadata": {
        "id": "YMKW1MYZ4AbJ",
        "colab_type": "code",
        "colab": {
          "base_uri": "https://localhost:8080/",
          "height": 51
        },
        "outputId": "2f270f8f-51dd-44a6-cc92-07e996acdace"
      },
      "source": [
        "# Adding and removing set elements\n",
        "a.add(7)\n",
        "print(a)\n",
        "\n",
        "a.remove(7)\n",
        "print(a)"
      ],
      "execution_count": 20,
      "outputs": [
        {
          "output_type": "stream",
          "text": [
            "{1, 2, 3, 4, 7}\n",
            "{1, 2, 3, 4}\n"
          ],
          "name": "stdout"
        }
      ]
    },
    {
      "cell_type": "markdown",
      "metadata": {
        "id": "4arWxGwA4AbM",
        "colab_type": "text"
      },
      "source": [
        "### 3.4. Dictionary\n",
        "* Dictionary is an unordered collection of key-values pairs. \n",
        "* It is mutable. \n",
        "* It is created by enclosing the key-value parirs (key:value) with in curly brackets delimited by \",\""
      ]
    },
    {
      "cell_type": "code",
      "metadata": {
        "id": "4q9xZeDa4AbN",
        "colab_type": "code",
        "colab": {
          "base_uri": "https://localhost:8080/",
          "height": 34
        },
        "outputId": "95d9aef0-94ce-4625-f7f0-ac617a627716"
      },
      "source": [
        "student = {\"name\":\"Faizy\", \"reg_no\":\"16NJI6\", \"course\":\"M.Tech\"}\n",
        "\n",
        "print(student)"
      ],
      "execution_count": 21,
      "outputs": [
        {
          "output_type": "stream",
          "text": [
            "{'name': 'Faizy', 'reg_no': '16NJI6', 'course': 'M.Tech'}\n"
          ],
          "name": "stdout"
        }
      ]
    },
    {
      "cell_type": "code",
      "metadata": {
        "id": "sgNdtURm4AbR",
        "colab_type": "code",
        "colab": {
          "base_uri": "https://localhost:8080/",
          "height": 85
        },
        "outputId": "377bf7ad-d891-44ee-b4dc-ae2c353eb6a8"
      },
      "source": [
        "# Accessing elements\n",
        "print(student[\"course\"])\n",
        "\n",
        "for key, value in student.items():\n",
        "    print(\"Key: %s ; Value: %s\" % (key, value))"
      ],
      "execution_count": 22,
      "outputs": [
        {
          "output_type": "stream",
          "text": [
            "M.Tech\n",
            "Key: name ; Value: Faizy\n",
            "Key: reg_no ; Value: 16NJI6\n",
            "Key: course ; Value: M.Tech\n"
          ],
          "name": "stdout"
        }
      ]
    },
    {
      "cell_type": "markdown",
      "metadata": {
        "id": "JkLWI_g24AbU",
        "colab_type": "text"
      },
      "source": [
        "### 3.5. String\n",
        "* A string is a sequence of charactes\n",
        "* It is immutable. \n",
        "* It is created by enclosing text with single/double/triple quotes"
      ]
    },
    {
      "cell_type": "code",
      "metadata": {
        "id": "8fcBSeW-4AbV",
        "colab_type": "code",
        "colab": {
          "base_uri": "https://localhost:8080/",
          "height": 34
        },
        "outputId": "84661cd6-17dc-457d-e558-bc5e39a8a7ee"
      },
      "source": [
        "word = \"Malayalam\"\n",
        "print(word)"
      ],
      "execution_count": 23,
      "outputs": [
        {
          "output_type": "stream",
          "text": [
            "Malayalam\n"
          ],
          "name": "stdout"
        }
      ]
    },
    {
      "cell_type": "code",
      "metadata": {
        "id": "k6B77vE54AbY",
        "colab_type": "code",
        "colab": {
          "base_uri": "https://localhost:8080/",
          "height": 102
        },
        "outputId": "33930f98-16f4-492b-e534-eba71401e300"
      },
      "source": [
        "# String operations\n",
        "\n",
        "print(word.lower())\n",
        "print(word.upper())\n",
        "print(len(word))\n",
        "print(word.startswith(\"A\"))\n",
        "print(word.endswith(\"m\"))"
      ],
      "execution_count": 24,
      "outputs": [
        {
          "output_type": "stream",
          "text": [
            "malayalam\n",
            "MALAYALAM\n",
            "9\n",
            "False\n",
            "True\n"
          ],
          "name": "stdout"
        }
      ]
    },
    {
      "cell_type": "code",
      "metadata": {
        "id": "PjmnRsLj4Abe",
        "colab_type": "code",
        "colab": {
          "base_uri": "https://localhost:8080/",
          "height": 34
        },
        "outputId": "383d2365-596d-4f63-9516-a45fb83e3037"
      },
      "source": [
        "# Slicing the string\n",
        "print(word[0:5])"
      ],
      "execution_count": 25,
      "outputs": [
        {
          "output_type": "stream",
          "text": [
            "Malay\n"
          ],
          "name": "stdout"
        }
      ]
    },
    {
      "cell_type": "code",
      "metadata": {
        "id": "5kvZI2O54Abi",
        "colab_type": "code",
        "colab": {
          "base_uri": "https://localhost:8080/",
          "height": 34
        },
        "outputId": "79899f35-e65e-4eea-ca18-0cffdd2d901c"
      },
      "source": [
        "# Coverting string to a list of characters\n",
        "print(list(word))"
      ],
      "execution_count": 26,
      "outputs": [
        {
          "output_type": "stream",
          "text": [
            "['M', 'a', 'l', 'a', 'y', 'a', 'l', 'a', 'm']\n"
          ],
          "name": "stdout"
        }
      ]
    },
    {
      "cell_type": "code",
      "metadata": {
        "id": "buxflZi84Abl",
        "colab_type": "code",
        "colab": {
          "base_uri": "https://localhost:8080/",
          "height": 34
        },
        "outputId": "f96c89ac-dbd9-448e-c361-c9db7842ed49"
      },
      "source": [
        "# splitting the text\n",
        "sentence = \"I love Machine Learning\"\n",
        "words = sentence.split(\" \")\n",
        "print(words)"
      ],
      "execution_count": 27,
      "outputs": [
        {
          "output_type": "stream",
          "text": [
            "['I', 'love', 'Machine', 'Learning']\n"
          ],
          "name": "stdout"
        }
      ]
    },
    {
      "cell_type": "code",
      "metadata": {
        "id": "QTBTzN_A4Abo",
        "colab_type": "code",
        "colab": {
          "base_uri": "https://localhost:8080/",
          "height": 34
        },
        "outputId": "9994c2e3-1ecc-4821-b7e9-64f1cddec97d"
      },
      "source": [
        "# finding length of a list\n",
        "print(len(words))"
      ],
      "execution_count": 28,
      "outputs": [
        {
          "output_type": "stream",
          "text": [
            "4\n"
          ],
          "name": "stdout"
        }
      ]
    },
    {
      "cell_type": "markdown",
      "metadata": {
        "id": "gkvHJljk4Abr",
        "colab_type": "text"
      },
      "source": [
        "## 4. Control Structures\n",
        "\n",
        "<b>'if...else' syntax:</b>\n",
        "    \n",
        "    if CONDITION:\n",
        "        code block 1\n",
        "    elif CONDITION:\n",
        "        code block 2\n",
        "    ...\n",
        "    else:\n",
        "        code block n"
      ]
    },
    {
      "cell_type": "code",
      "metadata": {
        "id": "sphwK0u84Abs",
        "colab_type": "code",
        "colab": {}
      },
      "source": [
        "a = 3\n",
        "b = 5\n",
        "\n",
        "if a > b:\n",
        "    print(\"a is greater than b\")"
      ],
      "execution_count": 29,
      "outputs": []
    },
    {
      "cell_type": "code",
      "metadata": {
        "id": "16VoK1iK4Aby",
        "colab_type": "code",
        "colab": {
          "base_uri": "https://localhost:8080/",
          "height": 34
        },
        "outputId": "783670ea-1087-4fab-9369-57a407ba2651"
      },
      "source": [
        "if a > b:\n",
        "    print(\"a is greater than b\")\n",
        "else:\n",
        "    print(\"b is greater than a\")"
      ],
      "execution_count": 30,
      "outputs": [
        {
          "output_type": "stream",
          "text": [
            "b is greater than a\n"
          ],
          "name": "stdout"
        }
      ]
    },
    {
      "cell_type": "code",
      "metadata": {
        "id": "HORIibnf4Ab4",
        "colab_type": "code",
        "colab": {
          "base_uri": "https://localhost:8080/",
          "height": 34
        },
        "outputId": "b980b311-b293-466a-8a93-ada40c1cafc0"
      },
      "source": [
        "score = 80\n",
        "grade = None\n",
        "\n",
        "if score > 90:\n",
        "    grade = \"A\"\n",
        "elif score > 80:    \n",
        "    grade = \"B\"\n",
        "elif score > 70:    \n",
        "    grade = \"C\"\n",
        "elif score > 60:    \n",
        "    grade = \"D\"\n",
        "elif score > 50:    \n",
        "    grade = \"E\"\n",
        "else:\n",
        "    grade = \"F\"\n",
        "    \n",
        "print(\"Grade: \" + grade)"
      ],
      "execution_count": 31,
      "outputs": [
        {
          "output_type": "stream",
          "text": [
            "Grade: C\n"
          ],
          "name": "stdout"
        }
      ]
    },
    {
      "cell_type": "markdown",
      "metadata": {
        "id": "6sa-3LQn4Ab8",
        "colab_type": "text"
      },
      "source": [
        "<b>'for' syntax:</b>\n",
        "    \n",
        "    for ELEMENT in SEQUENCE:\n",
        "        code block"
      ]
    },
    {
      "cell_type": "code",
      "metadata": {
        "id": "mJa5Dtnt4Ab9",
        "colab_type": "code",
        "colab": {
          "base_uri": "https://localhost:8080/",
          "height": 119
        },
        "outputId": "842fcdfa-ead5-44a6-a57b-0ecc8b328127"
      },
      "source": [
        "my_team = [\"Ayush\", \"subash\", \"ashoke\", \"faziy\", \"prem\", \"ajay\"]\n",
        "for person in my_team:\n",
        "    mail = person + \"@gmail.com\"\n",
        "    print(mail)"
      ],
      "execution_count": 32,
      "outputs": [
        {
          "output_type": "stream",
          "text": [
            "Ayush@gmail.com\n",
            "subash@gmail.com\n",
            "ashoke@gmail.com\n",
            "faziy@gmail.com\n",
            "prem@gmail.com\n",
            "ajay@gmail.com\n"
          ],
          "name": "stdout"
        }
      ]
    },
    {
      "cell_type": "code",
      "metadata": {
        "id": "OS4jPecz4AcA",
        "colab_type": "code",
        "colab": {
          "base_uri": "https://localhost:8080/",
          "height": 119
        },
        "outputId": "e6a72dc9-d4a3-4ddf-86cb-7cfb70c53a88"
      },
      "source": [
        "for i in range(len(my_team)):\n",
        "    mail = my_team[i] + \"@gmail.com\"\n",
        "    print(mail)"
      ],
      "execution_count": 33,
      "outputs": [
        {
          "output_type": "stream",
          "text": [
            "Ayush@gmail.com\n",
            "subash@gmail.com\n",
            "ashoke@gmail.com\n",
            "faziy@gmail.com\n",
            "prem@gmail.com\n",
            "ajay@gmail.com\n"
          ],
          "name": "stdout"
        }
      ]
    },
    {
      "cell_type": "markdown",
      "metadata": {
        "id": "QeNksfbF4AcF",
        "colab_type": "text"
      },
      "source": [
        "<b>'while' syntax:</b>\n",
        "    \n",
        "    while CONDITION:\n",
        "        code block"
      ]
    },
    {
      "cell_type": "code",
      "metadata": {
        "id": "L6obCb3D4AcG",
        "colab_type": "code",
        "colab": {
          "base_uri": "https://localhost:8080/",
          "height": 71
        },
        "outputId": "fa3da4c4-91d8-4e1a-ecfd-56599970b83c"
      },
      "source": [
        "n = int(input(\"Enter a number: \"))\n",
        "\n",
        "n_factorial = 1\n",
        "x = 2\n",
        "while x <= n:\n",
        "    n_factorial = n_factorial * x\n",
        "    x = x+1\n",
        "    \n",
        "print(\"%d! = %d\" % (n, n_factorial))"
      ],
      "execution_count": 34,
      "outputs": [
        {
          "output_type": "stream",
          "text": [
            "Enter a number: 5\n",
            "5! = 120\n"
          ],
          "name": "stdout"
        }
      ]
    },
    {
      "cell_type": "markdown",
      "metadata": {
        "id": "mG22HYcu4AcJ",
        "colab_type": "text"
      },
      "source": [
        "## 5. Functions\n",
        "* A function is a block of code that can be reused. \n",
        "* It is defined using the 'def' keyword in python."
      ]
    },
    {
      "cell_type": "markdown",
      "metadata": {
        "id": "Xoj8A6ES4AcK",
        "colab_type": "text"
      },
      "source": [
        "<b>Function syntax:</b>\n",
        "\n",
        "    def function_name(parameters):\n",
        "        code...\n",
        "        return value"
      ]
    },
    {
      "cell_type": "code",
      "metadata": {
        "id": "pq2C_ono4AcL",
        "colab_type": "code",
        "colab": {}
      },
      "source": [
        "# Defining the function\n",
        "def area_of_square(length, breadth):\n",
        "    area = length*breadth\n",
        "    return area"
      ],
      "execution_count": 35,
      "outputs": []
    },
    {
      "cell_type": "code",
      "metadata": {
        "id": "wsztH0rY4AcP",
        "colab_type": "code",
        "colab": {
          "base_uri": "https://localhost:8080/",
          "height": 34
        },
        "outputId": "ffa69a0f-0ccf-4620-a888-b2c1f3d3fed4"
      },
      "source": [
        "# Calling the function\n",
        "area_of_square(2, 3)"
      ],
      "execution_count": 36,
      "outputs": [
        {
          "output_type": "execute_result",
          "data": {
            "text/plain": [
              "6"
            ]
          },
          "metadata": {
            "tags": []
          },
          "execution_count": 36
        }
      ]
    },
    {
      "cell_type": "code",
      "metadata": {
        "id": "ygai5LLj4AcS",
        "colab_type": "code",
        "colab": {
          "base_uri": "https://localhost:8080/",
          "height": 51
        },
        "outputId": "86688a7c-34b7-4835-b227-25e66f1f9e18"
      },
      "source": [
        "# Function with default arguments\n",
        "def greet(name=\"\"):\n",
        "    print(\"Hello \" + name)\n",
        "\n",
        "greet(\"Faizy\")\n",
        "greet()"
      ],
      "execution_count": 37,
      "outputs": [
        {
          "output_type": "stream",
          "text": [
            "Hello Faizy\n",
            "Hello \n"
          ],
          "name": "stdout"
        }
      ]
    }
  ]
}