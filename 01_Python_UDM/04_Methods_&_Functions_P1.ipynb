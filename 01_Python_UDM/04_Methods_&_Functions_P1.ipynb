{
  "nbformat": 4,
  "nbformat_minor": 0,
  "metadata": {
    "colab": {
      "name": "03_Methods_&_Functions_P1 .ipynb",
      "provenance": [],
      "toc_visible": true,
      "authorship_tag": "ABX9TyOv2s6kUbRJTpKEnc+Gp6kz",
      "include_colab_link": true
    },
    "kernelspec": {
      "name": "python3",
      "display_name": "Python 3"
    }
  },
  "cells": [
    {
      "cell_type": "markdown",
      "metadata": {
        "id": "view-in-github",
        "colab_type": "text"
      },
      "source": [
        "<a href=\"https://colab.research.google.com/github/mohd-faizy/Python_Notebooks_Concept/blob/master/03_Methods_%26_Functions_P1_.ipynb\" target=\"_parent\"><img src=\"https://colab.research.google.com/assets/colab-badge.svg\" alt=\"Open In Colab\"/></a>"
      ]
    },
    {
      "cell_type": "markdown",
      "metadata": {
        "id": "sfFeGlFxAAho"
      },
      "source": [
        "<strong  align='center'>\n",
        "    <h1>Methods & Functions</h1>\n",
        "</strong>\n",
        "\n",
        "\n"
      ]
    },
    {
      "cell_type": "markdown",
      "metadata": {
        "id": "maCFb9Cz-cBq"
      },
      "source": [
        "We've already seen a few example of methods when learning about Object and Data Structure Types in Python. Methods are essentially functions built into objects. Later on in the course we will learn about how to create our own objects and methods using Object Oriented Programming (OOP) and classes.\n",
        "\n",
        "Methods perform specific actions on an object and can also take arguments, just like a function. This lecture will serve as just a brief introduction to methods and get you thinking about overall design methods that we will touch back upon when we reach OOP in the course.\n",
        "\n",
        "Methods are in the form:\n",
        "\n",
        "    object.method(arg1,arg2,etc...)\n",
        "    \n",
        "You'll later see that we can think of methods as having an argument 'self' referring to the object itself. You can't see this argument but we will be using it later on in the course during the OOP lectures.\n",
        "\n",
        "Let's take a quick look at what an example of the various methods a list has:"
      ]
    },
    {
      "cell_type": "code",
      "metadata": {
        "id": "gLarrWhq-cBs"
      },
      "source": [
        "# Create a simple list\n",
        "lst = [1,2,3,4,5]"
      ],
      "execution_count": 37,
      "outputs": []
    },
    {
      "cell_type": "markdown",
      "metadata": {
        "id": "zjcQYawW-cBx"
      },
      "source": [
        "Fortunately, with iPython and the Jupyter Notebook we can quickly see all the possible methods using the tab key. The methods for a list are:\n",
        "\n",
        "* append\n",
        "* count\n",
        "* extend\n",
        "* insert\n",
        "* pop\n",
        "* remove\n",
        "* reverse\n",
        "* sort\n",
        "\n",
        "Let's try out a few of them:"
      ]
    },
    {
      "cell_type": "markdown",
      "metadata": {
        "id": "Hc4iXyPX-cBy"
      },
      "source": [
        "`append()` allows us to add elements to the end of a list:"
      ]
    },
    {
      "cell_type": "code",
      "metadata": {
        "id": "wbhwOWOx-cBz"
      },
      "source": [
        "lst.append(6)"
      ],
      "execution_count": 38,
      "outputs": []
    },
    {
      "cell_type": "code",
      "metadata": {
        "id": "4yXlHpGA-cB3",
        "colab": {
          "base_uri": "https://localhost:8080/"
        },
        "outputId": "96de2ccb-68b1-40ed-d5aa-6a7c5911cc00"
      },
      "source": [
        "lst"
      ],
      "execution_count": 39,
      "outputs": [
        {
          "output_type": "execute_result",
          "data": {
            "text/plain": [
              "[1, 2, 3, 4, 5, 6]"
            ]
          },
          "metadata": {
            "tags": []
          },
          "execution_count": 39
        }
      ]
    },
    {
      "cell_type": "markdown",
      "metadata": {
        "id": "OCV0ImGf-cB9"
      },
      "source": [
        "Great! Now how about count()? The count() method will count the number of occurrences of an element in a list."
      ]
    },
    {
      "cell_type": "code",
      "metadata": {
        "id": "paZvld0Z-cB-",
        "colab": {
          "base_uri": "https://localhost:8080/"
        },
        "outputId": "e283f6aa-b569-47bf-837b-d3503e8e4f64"
      },
      "source": [
        "# Check how many times 2 shows up in the list\n",
        "lst.count(2)"
      ],
      "execution_count": 40,
      "outputs": [
        {
          "output_type": "execute_result",
          "data": {
            "text/plain": [
              "1"
            ]
          },
          "metadata": {
            "tags": []
          },
          "execution_count": 40
        }
      ]
    },
    {
      "cell_type": "markdown",
      "metadata": {
        "id": "YV8vXBTl-cCC"
      },
      "source": [
        "You can always use Shift+Tab in the Jupyter Notebook to get more help about the method. In general Python you can use the help() function: "
      ]
    },
    {
      "cell_type": "code",
      "metadata": {
        "id": "kyzAxmQ9-cCD",
        "colab": {
          "base_uri": "https://localhost:8080/"
        },
        "outputId": "d185adad-9da6-40c6-8306-d7512ad24424"
      },
      "source": [
        "help(lst.count)"
      ],
      "execution_count": 41,
      "outputs": [
        {
          "output_type": "stream",
          "text": [
            "Help on built-in function count:\n",
            "\n",
            "count(...) method of builtins.list instance\n",
            "    L.count(value) -> integer -- return number of occurrences of value\n",
            "\n"
          ],
          "name": "stdout"
        }
      ]
    },
    {
      "cell_type": "markdown",
      "metadata": {
        "id": "nu_F3uTI_72U"
      },
      "source": [
        "### __functions__"
      ]
    },
    {
      "cell_type": "markdown",
      "metadata": {
        "id": "qJmLy3ft1LQm"
      },
      "source": [
        "functions allows us to create blocks of codes that can be easily executed many times, without needing to constantly rewrite the entire block of code.\n",
        "\n",
        "- You can pass data, known as __parameters__, into a function.\n",
        "\n",
        "- A function can __return__ data as a __result__."
      ]
    },
    {
      "cell_type": "markdown",
      "metadata": {
        "id": "kz4DftEp0hQ7"
      },
      "source": [
        "**Arguments**\n",
        "\n",
        "- Information can be passed into functions as **arguments**.\n",
        "\n",
        "- Arguments are specified after the function name, inside the parentheses. we can add as many arguments as you want, just separate them with a comma."
      ]
    },
    {
      "cell_type": "markdown",
      "metadata": {
        "id": "gS98u4oO2cno"
      },
      "source": [
        "__`return`__ keyword:\n",
        "\n",
        "- typically we use the __`return`__ keyword to send back the result of the function, insted of just printing it out.\n",
        "\n",
        "- __`return`__ allows us to assign the output of a function to new varible,\n"
      ]
    },
    {
      "cell_type": "code",
      "metadata": {
        "id": "WaLWmvKL2cEm"
      },
      "source": [
        "def name_function():\n",
        "    '''\n",
        "    DOCSTRING: Infomation about the function\n",
        "    INPUT: \n",
        "    OUTPUT:\n",
        "    '''\n",
        "    print('Hello')"
      ],
      "execution_count": 42,
      "outputs": []
    },
    {
      "cell_type": "code",
      "metadata": {
        "id": "Bgsm_k0QMISk",
        "colab": {
          "base_uri": "https://localhost:8080/"
        },
        "outputId": "b6bbd635-aec3-470c-b686-cdb21b1fd215"
      },
      "source": [
        "help(name_function)"
      ],
      "execution_count": 43,
      "outputs": [
        {
          "output_type": "stream",
          "text": [
            "Help on function name_function in module __main__:\n",
            "\n",
            "name_function()\n",
            "    DOCSTRING: Infomation about the function\n",
            "    INPUT: \n",
            "    OUTPUT:\n",
            "\n"
          ],
          "name": "stdout"
        }
      ]
    },
    {
      "cell_type": "code",
      "metadata": {
        "id": "A-NptYx2Mb4D",
        "colab": {
          "base_uri": "https://localhost:8080/",
          "height": 35
        },
        "outputId": "6eb76568-cb95-45b0-d976-559da62b14b4"
      },
      "source": [
        "def say_hello(name):\n",
        "    #print('hello ' + name)\n",
        "    return 'hello ' + name\n",
        "\n",
        "result = say_hello('faizy')\n",
        "result # We do not get any thing for the result"
      ],
      "execution_count": 44,
      "outputs": [
        {
          "output_type": "execute_result",
          "data": {
            "application/vnd.google.colaboratory.intrinsic+json": {
              "type": "string"
            },
            "text/plain": [
              "'hello faizy'"
            ]
          },
          "metadata": {
            "tags": []
          },
          "execution_count": 44
        }
      ]
    },
    {
      "cell_type": "markdown",
      "metadata": {
        "id": "Mo1pFMzoUO0_"
      },
      "source": [
        "when we uses the __print__ function insted of __return__ then the type it return is  __NoneType__ because the function isn't  returning something\n",
        "hence we need to use the __return__ keyword is used."
      ]
    },
    {
      "cell_type": "code",
      "metadata": {
        "id": "FZ-WYS30N2jc",
        "colab": {
          "base_uri": "https://localhost:8080/"
        },
        "outputId": "4d89972d-500b-4af5-e780-da549f97b40e"
      },
      "source": [
        "type(result)"
      ],
      "execution_count": 45,
      "outputs": [
        {
          "output_type": "execute_result",
          "data": {
            "text/plain": [
              "str"
            ]
          },
          "metadata": {
            "tags": []
          },
          "execution_count": 45
        }
      ]
    },
    {
      "cell_type": "code",
      "metadata": {
        "id": "-eFwY7qNVCHP",
        "colab": {
          "base_uri": "https://localhost:8080/"
        },
        "outputId": "17dc0b87-db9d-4d6d-e378-4adca6f7fc16"
      },
      "source": [
        "# Add Function \n",
        "def add(n1,n2):\n",
        "    return n1+n2\n",
        "\n",
        "result = add(50,60)\n",
        "print(result)"
      ],
      "execution_count": 46,
      "outputs": [
        {
          "output_type": "stream",
          "text": [
            "110\n"
          ],
          "name": "stdout"
        }
      ]
    },
    {
      "cell_type": "markdown",
      "metadata": {
        "id": "G84nCcoJVy8b"
      },
      "source": [
        "Typically when using the function we have to use the __return__ keyword as we can assign the result to a varible and can use it later."
      ]
    },
    {
      "cell_type": "markdown",
      "metadata": {
        "id": "b9cymFrtaywm"
      },
      "source": [
        "> __find out if the word dog is in the string__"
      ]
    },
    {
      "cell_type": "code",
      "metadata": {
        "id": "8k2Q8g-QbDpz"
      },
      "source": [
        "# beginner approch\n",
        "\n",
        "def dog_check(mystring):\n",
        "    if 'dog' in mystring.lower():\n",
        "    # No needs if statement as the statement is iteslf a boolean \n",
        "        return True\n",
        "    else:\n",
        "        return False"
      ],
      "execution_count": 47,
      "outputs": []
    },
    {
      "cell_type": "code",
      "metadata": {
        "id": "yUqzNhFSbxPD",
        "colab": {
          "base_uri": "https://localhost:8080/"
        },
        "outputId": "5be3133c-2789-44d9-af17-1dd50cbb6ed4"
      },
      "source": [
        "dog_check('My dog ran away')"
      ],
      "execution_count": 48,
      "outputs": [
        {
          "output_type": "execute_result",
          "data": {
            "text/plain": [
              "True"
            ]
          },
          "metadata": {
            "tags": []
          },
          "execution_count": 48
        }
      ]
    },
    {
      "cell_type": "code",
      "metadata": {
        "id": "u2eGSDYUddvZ"
      },
      "source": [
        "# Pro Approch\n",
        "\n",
        "def dog_check(mystring):\n",
        "    return 'dog' in mystring.lower()"
      ],
      "execution_count": 49,
      "outputs": []
    },
    {
      "cell_type": "code",
      "metadata": {
        "id": "GN91XRUQd4BI",
        "colab": {
          "base_uri": "https://localhost:8080/"
        },
        "outputId": "efe14416-0f22-4aa6-8a71-122ef15b9ce0"
      },
      "source": [
        "dog_check('My dog ran away')"
      ],
      "execution_count": 50,
      "outputs": [
        {
          "output_type": "execute_result",
          "data": {
            "text/plain": [
              "True"
            ]
          },
          "metadata": {
            "tags": []
          },
          "execution_count": 50
        }
      ]
    },
    {
      "cell_type": "code",
      "metadata": {
        "id": "urXjkHF8Zfv0",
        "colab": {
          "base_uri": "https://localhost:8080/"
        },
        "outputId": "c4e14104-0d1c-40f2-b3df-8a7674002fcf"
      },
      "source": [
        "fruits = [\"apple\", \"banana\", \"cherry\"]\n",
        "\n",
        "def my_function(food):\n",
        "  for x in food:\n",
        "    print(x)\n",
        "\n",
        "my_function(fruits)"
      ],
      "execution_count": 51,
      "outputs": [
        {
          "output_type": "stream",
          "text": [
            "apple\n",
            "banana\n",
            "cherry\n"
          ],
          "name": "stdout"
        }
      ]
    },
    {
      "cell_type": "markdown",
      "metadata": {
        "id": "PeFvqrzjdd_H"
      },
      "source": [
        "#### __Recursion__"
      ]
    },
    {
      "cell_type": "markdown",
      "metadata": {
        "id": "WedY9OgwdYbh"
      },
      "source": [
        "Python also accepts function **recursion**, which means a defined function can call itself.\n",
        "\n",
        "**Recursion** is a common mathematical and programming concept. It means that a **function calls itself**. This has the benefit of meaning that you can loop through data to reach a result.\n",
        "\n",
        "The developer should be very careful with **recursion** as it can be quite easy to slip into writing a function which never terminates, or one that uses excess amounts of memory or processor power. However, when written correctly recursion can be a very efficient and mathematically-elegant approach to programming."
      ]
    },
    {
      "cell_type": "code",
      "metadata": {
        "id": "GLIy0z-jeyt-"
      },
      "source": [
        "def tri_recursion(k):\n",
        "  if k > 0:\n",
        "    result = k + tri_recursion(k - 1)\n",
        "    print(result)\n",
        "  else:\n",
        "    result = 0\n",
        "  return result"
      ],
      "execution_count": 52,
      "outputs": []
    },
    {
      "cell_type": "markdown",
      "metadata": {
        "id": "P8eyJbaggZCM"
      },
      "source": [
        "In this example, `tri_recursion()` is a function that we have defined to call itself (\"recurse\"). We use the `k` variable as the data, which decrements (`-1`) every time we recurse. The recursion ends when the condition is not greater than 0 (i.e. when it is 0)."
      ]
    },
    {
      "cell_type": "code",
      "metadata": {
        "id": "mdRa8cfzgVQM",
        "colab": {
          "base_uri": "https://localhost:8080/"
        },
        "outputId": "9110b8a1-10af-4a88-c544-8093361ab484"
      },
      "source": [
        "#print(\"\\n\\nRecursion Example Results\")\n",
        "tri_recursion(6)"
      ],
      "execution_count": 53,
      "outputs": [
        {
          "output_type": "stream",
          "text": [
            "1\n",
            "3\n",
            "6\n",
            "10\n",
            "15\n",
            "21\n"
          ],
          "name": "stdout"
        },
        {
          "output_type": "execute_result",
          "data": {
            "text/plain": [
              "21"
            ]
          },
          "metadata": {
            "tags": []
          },
          "execution_count": 53
        }
      ]
    },
    {
      "cell_type": "markdown",
      "metadata": {
        "id": "Cvt1FtdFxrkz"
      },
      "source": [
        "#### __PIG LATIN Translater__ \n",
        "\n",
        "- if word start with a vowel, add 'ay' to end.\n",
        "- if word does not start with a vowel, put first letter at the end,then add 'ay'\n",
        "- word --> ordway\n",
        "- apple --> appleay"
      ]
    },
    {
      "cell_type": "code",
      "metadata": {
        "id": "Ap9nophNy1uy"
      },
      "source": [
        "def pig_latin(word):\n",
        "    first_letter = word[0]\n",
        "    # check if vowel\n",
        "    if first_letter in 'aieou':\n",
        "        pig_word = word + 'ay'\n",
        "    else:\n",
        "        pig_word = word[1:] + first_letter + 'ay'\n",
        "    return pig_word"
      ],
      "execution_count": 54,
      "outputs": []
    },
    {
      "cell_type": "code",
      "metadata": {
        "id": "1yEUiJ0R9xXt",
        "colab": {
          "base_uri": "https://localhost:8080/",
          "height": 35
        },
        "outputId": "c3fc2b05-1a68-4a08-ef37-456e0bf3740b"
      },
      "source": [
        "pig_latin('apple')"
      ],
      "execution_count": 55,
      "outputs": [
        {
          "output_type": "execute_result",
          "data": {
            "application/vnd.google.colaboratory.intrinsic+json": {
              "type": "string"
            },
            "text/plain": [
              "'appleay'"
            ]
          },
          "metadata": {
            "tags": []
          },
          "execution_count": 55
        }
      ]
    },
    {
      "cell_type": "code",
      "metadata": {
        "id": "UkEYAKXE97ES",
        "colab": {
          "base_uri": "https://localhost:8080/",
          "height": 35
        },
        "outputId": "b9811d12-30b7-45ea-f857-a2240170ce69"
      },
      "source": [
        "pig_latin('word')"
      ],
      "execution_count": 56,
      "outputs": [
        {
          "output_type": "execute_result",
          "data": {
            "application/vnd.google.colaboratory.intrinsic+json": {
              "type": "string"
            },
            "text/plain": [
              "'ordway'"
            ]
          },
          "metadata": {
            "tags": []
          },
          "execution_count": 56
        }
      ]
    },
    {
      "cell_type": "markdown",
      "metadata": {
        "id": "Y2D0MwAodikS"
      },
      "source": [
        "### `*args` & `**kwargs` [arguments & Keywords arguments]"
      ]
    },
    {
      "cell_type": "markdown",
      "metadata": {
        "id": "yz5V9eXWmeMH"
      },
      "source": [
        "In Python, we can pass a variable number of arguments to a function using special symbols. There are two special symbols:\n",
        "\n",
        "- __*args__ (Non Keyword Arguments)\n",
        "- __**kwargs__ (Keyword Arguments)"
      ]
    },
    {
      "cell_type": "code",
      "metadata": {
        "id": "Zc8uN_mydw6A"
      },
      "source": [
        "# Return the 5% sum of a and b\n",
        "\n",
        "def myfunc(a,b):                # a, b are the example of positional arguments\n",
        "    return sum((a,b)) * 0.05    # passing the arguments as a tuple() or list[]"
      ],
      "execution_count": 57,
      "outputs": []
    },
    {
      "cell_type": "markdown",
      "metadata": {
        "id": "5w12YJCGg1P6"
      },
      "source": [
        "While working with multiple positional arguments. In the sum functional we have to pass them as a __tuple()__ or __list[  ]__"
      ]
    },
    {
      "cell_type": "code",
      "metadata": {
        "id": "92DvlkoXfK5P",
        "colab": {
          "base_uri": "https://localhost:8080/"
        },
        "outputId": "9b37076c-6972-4428-8bce-aa589998c86a"
      },
      "source": [
        "myfunc(40,60)"
      ],
      "execution_count": 58,
      "outputs": [
        {
          "output_type": "execute_result",
          "data": {
            "text/plain": [
              "5.0"
            ]
          },
          "metadata": {
            "tags": []
          },
          "execution_count": 58
        }
      ]
    },
    {
      "cell_type": "markdown",
      "metadata": {
        "id": "48827om_iex8"
      },
      "source": [
        "__Working with the multiple arguments:__\n"
      ]
    },
    {
      "cell_type": "code",
      "metadata": {
        "id": "0VicuXU9isK1"
      },
      "source": [
        "def myfunc(a,b,c=0,d=0,e=0):\n",
        "    return sum((a,b,c,d,e)) * 0.05"
      ],
      "execution_count": 59,
      "outputs": []
    },
    {
      "cell_type": "code",
      "metadata": {
        "id": "F2IVZcyYjBo_",
        "colab": {
          "base_uri": "https://localhost:8080/"
        },
        "outputId": "795bc981-432e-40e7-f55b-60ae195c1dd8"
      },
      "source": [
        "myfunc(40,60,70,30,100)"
      ],
      "execution_count": 60,
      "outputs": [
        {
          "output_type": "execute_result",
          "data": {
            "text/plain": [
              "15.0"
            ]
          },
          "metadata": {
            "tags": []
          },
          "execution_count": 60
        }
      ]
    },
    {
      "cell_type": "markdown",
      "metadata": {
        "id": "ZxwqA2HXzMZJ"
      },
      "source": [
        "#### `*args`"
      ]
    },
    {
      "cell_type": "markdown",
      "metadata": {
        "id": "36Yx4Dbg1NMt"
      },
      "source": [
        "If the number of arguments is **unknown**, add a * before the parameter name:"
      ]
    },
    {
      "cell_type": "markdown",
      "metadata": {
        "id": "z-3cMjVKovlb"
      },
      "source": [
        "Python has __*args__ which allow us to pass the variable number of non keyword arguments to function.\n",
        "\n",
        "In the function, we should use an asterisk * before the parameter name to pass variable length arguments.The arguments are passed as a __tuple__ "
      ]
    },
    {
      "cell_type": "code",
      "metadata": {
        "id": "JZYxiPoamzOV"
      },
      "source": [
        "def myfunc_1(*args): \n",
        "# This allow us treat this as a tuple of the arguments that are comming in\n",
        "    return sum(args) * 0.05"
      ],
      "execution_count": 61,
      "outputs": []
    },
    {
      "cell_type": "code",
      "metadata": {
        "id": "YOaHd-tKn9tu",
        "colab": {
          "base_uri": "https://localhost:8080/"
        },
        "outputId": "be852ec8-ae67-4347-e6ec-7687606e59b5"
      },
      "source": [
        "myfunc_1(40,60,70,30,100,500,100)"
      ],
      "execution_count": 62,
      "outputs": [
        {
          "output_type": "execute_result",
          "data": {
            "text/plain": [
              "45.0"
            ]
          },
          "metadata": {
            "tags": []
          },
          "execution_count": 62
        }
      ]
    },
    {
      "cell_type": "code",
      "metadata": {
        "id": "RDy4bTcho5ld"
      },
      "source": [
        "def myfunc_2(*args):\n",
        "    print(args)     # its just a tuple\n",
        "    for items in args:\n",
        "        print(items)"
      ],
      "execution_count": 63,
      "outputs": []
    },
    {
      "cell_type": "code",
      "metadata": {
        "id": "5Lju21pCpI_q",
        "colab": {
          "base_uri": "https://localhost:8080/"
        },
        "outputId": "9db8b93d-fbc1-4e04-e240-4ad5c02f1126"
      },
      "source": [
        "myfunc_2(40,60,70,30,100)"
      ],
      "execution_count": 64,
      "outputs": [
        {
          "output_type": "stream",
          "text": [
            "(40, 60, 70, 30, 100)\n",
            "40\n",
            "60\n",
            "70\n",
            "30\n",
            "100\n"
          ],
          "name": "stdout"
        }
      ]
    },
    {
      "cell_type": "code",
      "metadata": {
        "id": "cbHHAae2Pwsi",
        "colab": {
          "base_uri": "https://localhost:8080/"
        },
        "outputId": "b8abe05e-027a-44ca-ed3b-92f7dabfa8c6"
      },
      "source": [
        "def my_function(*args):\n",
        "  print(\"The youngest child is \" + args[2])\n",
        "\n",
        "my_function(\"Emlie\",\"Tobias\" ,\"Linus\")"
      ],
      "execution_count": 65,
      "outputs": [
        {
          "output_type": "stream",
          "text": [
            "The youngest child is Linus\n"
          ],
          "name": "stdout"
        }
      ]
    },
    {
      "cell_type": "markdown",
      "metadata": {
        "id": "LYPiHZ-UzWbJ"
      },
      "source": [
        "#### `**kwargs`"
      ]
    },
    {
      "cell_type": "markdown",
      "metadata": {
        "id": "SiyK5u0Jpp3V"
      },
      "source": [
        "__**kwargs__ allows us to pass the variable length of keyword arguments to the function.\n",
        "\n",
        "In the function, we use the double asterisk ** before the parameter name to denote this type of argument. The arguments are passed as a **dictionary** "
      ]
    },
    {
      "cell_type": "code",
      "metadata": {
        "id": "gV1dbh11Qh01",
        "colab": {
          "base_uri": "https://localhost:8080/"
        },
        "outputId": "c1b3af7b-8670-4b8a-d411-8808f8c6f04b"
      },
      "source": [
        "def my_function(child3, child2, child1):\n",
        "  print(\"The youngest child is \" + child3)\n",
        "\n",
        "my_function(child1 = \"Emil\", child2 = \"Tobias\", child3 = \"Linus\")"
      ],
      "execution_count": 66,
      "outputs": [
        {
          "output_type": "stream",
          "text": [
            "The youngest child is Linus\n"
          ],
          "name": "stdout"
        }
      ]
    },
    {
      "cell_type": "code",
      "metadata": {
        "id": "g8UEPSioWWwe",
        "colab": {
          "base_uri": "https://localhost:8080/"
        },
        "outputId": "1928f7b3-077c-472a-f963-acadfc7289e7"
      },
      "source": [
        "def my_function(**kwargs):\n",
        "  print(\"His last name is \" + kwargs[\"lname\"])\n",
        "\n",
        "my_function(fname = \"Mohd\", lname = \"Faizy\")"
      ],
      "execution_count": 67,
      "outputs": [
        {
          "output_type": "stream",
          "text": [
            "His last name is Faizy\n"
          ],
          "name": "stdout"
        }
      ]
    },
    {
      "cell_type": "code",
      "metadata": {
        "id": "EI_qIhyjptvB"
      },
      "source": [
        "def myfunc_3(**kwargs):\n",
        "    print(kwargs)      # its just a dictionay\n",
        "    if 'fruit' in kwargs:\n",
        "        print('My fruit of choice is {}'.format(kwargs['fruit']))\n",
        "    else:\n",
        "        print('I did not find any fruit here')"
      ],
      "execution_count": 68,
      "outputs": []
    },
    {
      "cell_type": "code",
      "metadata": {
        "id": "tQ1tj75esLny",
        "colab": {
          "base_uri": "https://localhost:8080/"
        },
        "outputId": "bb45db76-5387-48b6-fbce-f7f5fbcd74be"
      },
      "source": [
        "myfunc_3(fruit = 'apple', veggie = 'lattuce')"
      ],
      "execution_count": 69,
      "outputs": [
        {
          "output_type": "stream",
          "text": [
            "{'fruit': 'apple', 'veggie': 'lattuce'}\n",
            "My fruit of choice is apple\n"
          ],
          "name": "stdout"
        }
      ]
    },
    {
      "cell_type": "code",
      "metadata": {
        "id": "Vfk20XNOwfmR"
      },
      "source": [
        "def myfunc_4(*args, **kwargs):\n",
        "    print(args)\n",
        "    print(kwargs)\n",
        "    print('I would to have {} {}'.format(args[1], kwargs['food']))"
      ],
      "execution_count": 70,
      "outputs": []
    },
    {
      "cell_type": "markdown",
      "metadata": {
        "id": "xR8z3Y25zLqB"
      },
      "source": [
        "In the __myfunc_4__ the positional argument is follwed by the keyword arguments.\n",
        "\n",
        "if we use the reverse order to genrate the output, this will produce the syntaz error."
      ]
    },
    {
      "cell_type": "code",
      "metadata": {
        "id": "KLqvpVwXxmii",
        "colab": {
          "base_uri": "https://localhost:8080/"
        },
        "outputId": "0b416323-439d-4d0c-f18d-c224784cb7c0"
      },
      "source": [
        "myfunc_4(5,10,15, fruit = 'orange', food = 'eggs' , animal = 'goat')"
      ],
      "execution_count": 71,
      "outputs": [
        {
          "output_type": "stream",
          "text": [
            "(5, 10, 15)\n",
            "{'fruit': 'orange', 'food': 'eggs', 'animal': 'goat'}\n",
            "I would to have 10 eggs\n"
          ],
          "name": "stdout"
        }
      ]
    },
    {
      "cell_type": "markdown",
      "metadata": {
        "id": "55ndXc3jyVV_"
      },
      "source": [
        "**Things to Remember:**\n",
        "\n",
        "- __*args__ and __*kwargs__ are special keyword which allows function to take variable length argument.\n",
        "\n",
        "- __*args__ passes variable number of non-keyworded arguments list and on which operation of the list can be performed.\n",
        "\n",
        "- __**kwargs__ passes variable number of keyword arguments dictionary to function on which operation of a dictionary can be performed.\n",
        "\n",
        "- __*args__ and __**kwargs__ make the function *flexible*."
      ]
    },
    {
      "cell_type": "markdown",
      "metadata": {
        "id": "z-RmSu86Biv-"
      },
      "source": [
        "__Que__ -- Define a function called __myfunc__ that takes in arbitary number of arguments, and returns a __list__ containing only those arguments that are even."
      ]
    },
    {
      "cell_type": "code",
      "metadata": {
        "id": "WbWOAjnNAmf8"
      },
      "source": [
        "list=[]\n",
        "def myfunc(*args):\n",
        "    for num in args:\n",
        "        if num% 2== 0:\n",
        "            list.append(num)\n",
        "    return list"
      ],
      "execution_count": 72,
      "outputs": []
    },
    {
      "cell_type": "code",
      "metadata": {
        "id": "GR3I49Y9A1oA",
        "colab": {
          "base_uri": "https://localhost:8080/"
        },
        "outputId": "560d4881-0b4d-447f-ff69-208c7bdf9412"
      },
      "source": [
        "myfunc(1,2,3,4,5,6,7,8,9,10)"
      ],
      "execution_count": 73,
      "outputs": [
        {
          "output_type": "execute_result",
          "data": {
            "text/plain": [
              "[2, 4, 6, 8, 10]"
            ]
          },
          "metadata": {
            "tags": []
          },
          "execution_count": 73
        }
      ]
    },
    {
      "cell_type": "markdown",
      "metadata": {
        "id": "7kJLaKTSCZBL"
      },
      "source": [
        "__Que__ -- Define a function called __myfunc__ that takes in a string, and returns a matching string where every even letter is uppercase and every odd letter is lowercase."
      ]
    },
    {
      "cell_type": "code",
      "metadata": {
        "id": "7eP4d6daELNC"
      },
      "source": [
        "def my_func(st):\n",
        "\n",
        "    res = []\n",
        "    #Iterate over the character\n",
        "    for index in range(len(st)):\n",
        "        if index % 2 == 0:\n",
        "            #Refer to each character via index and append modified character to list\n",
        "            res.append(st[index].lower())\n",
        "        else:\n",
        "            res.append(st[index].upper())\n",
        "\n",
        "    #Join the list into a string and return\n",
        "    return ''.join(res)"
      ],
      "execution_count": 74,
      "outputs": []
    },
    {
      "cell_type": "code",
      "metadata": {
        "id": "yzi05Ie3OgS3",
        "colab": {
          "base_uri": "https://localhost:8080/",
          "height": 35
        },
        "outputId": "99c7252c-7b6e-4620-c8d6-7a632c4db0f0"
      },
      "source": [
        "my_func('abcdefghi')"
      ],
      "execution_count": 75,
      "outputs": [
        {
          "output_type": "execute_result",
          "data": {
            "application/vnd.google.colaboratory.intrinsic+json": {
              "type": "string"
            },
            "text/plain": [
              "'aBcDeFgHi'"
            ]
          },
          "metadata": {
            "tags": []
          },
          "execution_count": 75
        }
      ]
    },
    {
      "cell_type": "code",
      "metadata": {
        "id": "oSnFUOfxi9n-"
      },
      "source": [
        "def myfunc(x):\n",
        "    out = []\n",
        "    for i in range(len(x)):\n",
        "        if i%2==0:\n",
        "            out.append(x[i].lower())\n",
        "        else:\n",
        "            out.append(x[i].upper())\n",
        "    return ''.join(out)"
      ],
      "execution_count": 76,
      "outputs": []
    },
    {
      "cell_type": "code",
      "metadata": {
        "id": "TPnVsFsHjHNx",
        "colab": {
          "base_uri": "https://localhost:8080/",
          "height": 35
        },
        "outputId": "77c54573-a489-45d5-f110-55c9884b4682"
      },
      "source": [
        "my_func('abcdefghi')"
      ],
      "execution_count": 77,
      "outputs": [
        {
          "output_type": "execute_result",
          "data": {
            "application/vnd.google.colaboratory.intrinsic+json": {
              "type": "string"
            },
            "text/plain": [
              "'aBcDeFgHi'"
            ]
          },
          "metadata": {
            "tags": []
          },
          "execution_count": 77
        }
      ]
    },
    {
      "cell_type": "code",
      "metadata": {
        "id": "3EaCh7eRkAw_",
        "colab": {
          "base_uri": "https://localhost:8080/"
        },
        "outputId": "06853a1e-d8a8-4bb6-e8fb-b500c0a34040"
      },
      "source": [
        "def my_func(st):\n",
        "\n",
        "    res = []\n",
        "    #Iterate over the characters\n",
        "    for index, c in enumerate(st):\n",
        "        if index % 2 == 0:\n",
        "            #Refer to each character via index and append modified character to list\n",
        "            res.append(c.lower())\n",
        "        else:\n",
        "            res.append(c.upper())\n",
        "\n",
        "    #Join the list into a string and return\n",
        "    return ''.join(res)\n",
        "print(my_func('helloworld'))"
      ],
      "execution_count": 78,
      "outputs": [
        {
          "output_type": "stream",
          "text": [
            "hElLoWoRlD\n"
          ],
          "name": "stdout"
        }
      ]
    },
    {
      "cell_type": "markdown",
      "metadata": {
        "id": "4E9KJPAD_nTq"
      },
      "source": [
        "### __Lambda Expressions, Map, and Filter Functions__"
      ]
    },
    {
      "cell_type": "markdown",
      "metadata": {
        "id": "mtyktcIEUyIU"
      },
      "source": [
        "#### __map__ function\n",
        "\n",
        "`map()` function returns a map object(which is an **iterator**) of the results after applying the given function to **each item** of a given iterable (**list**, **tuple** etc.)\n",
        "\n",
        "```\n",
        "Syntax :\n",
        "\n",
        "map(func, iter)\n",
        "```\n",
        "\n",
        "`func` : It is a function to which map passes each element of given iterable.\n",
        "\n",
        "`iter` : It is a iterable which is to be mapped\n"
      ]
    },
    {
      "cell_type": "code",
      "metadata": {
        "id": "SPwxX0c-506s",
        "colab": {
          "base_uri": "https://localhost:8080/"
        },
        "outputId": "bf6345de-6a4b-4f55-98d7-f2358d5ce5c8"
      },
      "source": [
        "def square(num):      # func\n",
        "    return num**2\n",
        "    \n",
        "my_nums = [1,2,3,4,5] # iter\n",
        "\n",
        "map(square, my_nums)  # map function\n",
        "\n",
        "# To get the results, either iterate through map() \n",
        "# Or just cast to a list\n",
        "result = list(map(square, my_nums))\n",
        "print(result)"
      ],
      "execution_count": 1,
      "outputs": [
        {
          "output_type": "stream",
          "text": [
            "[1, 4, 9, 16, 25]\n"
          ],
          "name": "stdout"
        }
      ]
    },
    {
      "cell_type": "code",
      "metadata": {
        "colab": {
          "base_uri": "https://localhost:8080/"
        },
        "id": "3ZEY-iuGuKXM",
        "outputId": "cd9d4421-00d3-4e87-dfbf-032b34c447b0"
      },
      "source": [
        "def addition(n): \n",
        "    return n + n \n",
        " \n",
        "numbers = (1, 2, 3, 4) \n",
        "result = map(addition, numbers)\n",
        " \n",
        "print(list(result)) "
      ],
      "execution_count": 2,
      "outputs": [
        {
          "output_type": "stream",
          "text": [
            "[2, 4, 6, 8]\n"
          ],
          "name": "stdout"
        }
      ]
    },
    {
      "cell_type": "code",
      "metadata": {
        "colab": {
          "base_uri": "https://localhost:8080/"
        },
        "id": "586TUkriuRij",
        "outputId": "627dfdff-2929-410c-b92f-5570af5bccbc"
      },
      "source": [
        "# Double all numbers using map and lambda \n",
        "  \n",
        "numbers = (1, 2, 3, 4) \n",
        "result = map(lambda x: x + x, numbers)\n",
        "\n",
        "'''\n",
        "func: lambda x: x + x\n",
        "iter: numbers = (1, 2, 3, 4) \n",
        "'''\n",
        "print(list(result))"
      ],
      "execution_count": 4,
      "outputs": [
        {
          "output_type": "stream",
          "text": [
            "[2, 4, 6, 8]\n"
          ],
          "name": "stdout"
        }
      ]
    },
    {
      "cell_type": "code",
      "metadata": {
        "colab": {
          "base_uri": "https://localhost:8080/"
        },
        "id": "V2z0glxZue89",
        "outputId": "a93f314c-7c7c-4474-a63a-f0e305cf488b"
      },
      "source": [
        "# Add two lists using map and lambda \n",
        "  \n",
        "numbers1 = [1, 2, 3] \n",
        "numbers2 = [4, 5, 6] \n",
        "  \n",
        "result = map(lambda x, y: x + y, numbers1, numbers2) \n",
        "print(list(result)) "
      ],
      "execution_count": 5,
      "outputs": [
        {
          "output_type": "stream",
          "text": [
            "[5, 7, 9]\n"
          ],
          "name": "stdout"
        }
      ]
    },
    {
      "cell_type": "code",
      "metadata": {
        "colab": {
          "base_uri": "https://localhost:8080/"
        },
        "id": "LhYwc-wFvIsC",
        "outputId": "aed14bde-d668-4bb8-b19d-d557038d7fc5"
      },
      "source": [
        "# List of strings \n",
        "l = ['sat', 'bat', 'cat', 'mat'] \n",
        "  \n",
        "# map() can listify the list of strings individually \n",
        "test = list(map(list, l)) \n",
        "print(test) "
      ],
      "execution_count": 6,
      "outputs": [
        {
          "output_type": "stream",
          "text": [
            "[['s', 'a', 't'], ['b', 'a', 't'], ['c', 'a', 't'], ['m', 'a', 't']]\n"
          ],
          "name": "stdout"
        }
      ]
    },
    {
      "cell_type": "code",
      "metadata": {
        "id": "F506Occh506-",
        "colab": {
          "base_uri": "https://localhost:8080/"
        },
        "outputId": "e0a9097d-38d6-43b3-e2f5-03cb394bca18"
      },
      "source": [
        "# mapping the complex function to an iterator\n",
        "\n",
        "def splicer(mystring):\n",
        "    if len(mystring) % 2 == 0:\n",
        "        return 'even'\n",
        "    else:\n",
        "        return mystring[0]\n",
        "\n",
        "mynames = ['John','Cindy','Sarah','Kelly','Mike']\n",
        "\n",
        "list(map(splicer, mynames))"
      ],
      "execution_count": 7,
      "outputs": [
        {
          "output_type": "execute_result",
          "data": {
            "text/plain": [
              "['even', 'C', 'S', 'K', 'even']"
            ]
          },
          "metadata": {
            "tags": []
          },
          "execution_count": 7
        }
      ]
    },
    {
      "cell_type": "markdown",
      "metadata": {
        "id": "ZD8UbRbHd9wj"
      },
      "source": [
        "__Note__: \n",
        "\n",
        "- *we* are not using the open and close pranthesis in the function __square__ and __splicer__ because __map__ itself latter execute them.so inside an __map__ function we are passing our function as an argument."
      ]
    },
    {
      "cell_type": "markdown",
      "metadata": {
        "id": "FK7va-dSkEpc"
      },
      "source": [
        "#### __Filter__ function"
      ]
    },
    {
      "cell_type": "markdown",
      "metadata": {
        "id": "aUjDpDYnnbK-"
      },
      "source": [
        "The `filter()` method filters the given sequence with the help of a function that tests each element in the sequence to be true or not.\n",
        "\n",
        "__syntax:__\n",
        "```\n",
        "filter(function, sequence)\n",
        "```\n",
        "__Parameters:__\n",
        "\n",
        "- `function:` function that tests if each element of a sequence true or not.\n",
        "\n",
        "- `sequence:` sequence which needs to be filtered, it can be sets, lists, tuples, or containers of any iterators.\n",
        "\n",
        "__Returns:__\n",
        "\n",
        "returns an iterator that is already filtered."
      ]
    },
    {
      "cell_type": "code",
      "metadata": {
        "id": "uYIEoWMkkTfl",
        "colab": {
          "base_uri": "https://localhost:8080/"
        },
        "outputId": "ca4107c7-3039-4750-ef08-53b98cf1cd05"
      },
      "source": [
        "def check_even(num):\n",
        "    return num%2 == 0\n",
        "\n",
        "num_list = [1,2,3,4,5,6,7,8,9,10]\n",
        "\n",
        "# filtering the even number from this list\n",
        "list(filter(check_even, num_list))"
      ],
      "execution_count": 8,
      "outputs": [
        {
          "output_type": "execute_result",
          "data": {
            "text/plain": [
              "[2, 4, 6, 8, 10]"
            ]
          },
          "metadata": {
            "tags": []
          },
          "execution_count": 8
        }
      ]
    },
    {
      "cell_type": "code",
      "metadata": {
        "id": "PwlX1GePpGd8",
        "colab": {
          "base_uri": "https://localhost:8080/"
        },
        "outputId": "107da4ec-64e2-47bd-b39d-f991e5de9b80"
      },
      "source": [
        "for n in filter(check_even, num_list):\n",
        "    print(n, end= ' ')"
      ],
      "execution_count": 9,
      "outputs": [
        {
          "output_type": "stream",
          "text": [
            "2 4 6 8 10 "
          ],
          "name": "stdout"
        }
      ]
    },
    {
      "cell_type": "code",
      "metadata": {
        "colab": {
          "base_uri": "https://localhost:8080/"
        },
        "id": "56webHe9AhUO",
        "outputId": "352c9e91-7502-41f2-eaed-6c5995d2b25d"
      },
      "source": [
        "# function that filters vowels \n",
        "def fun(variable): \n",
        "\tletters = ['a', 'e', 'i', 'o', 'u'] \n",
        "\tif (variable in letters): \n",
        "\t\treturn True\n",
        "\telse: \n",
        "\t\treturn False\n",
        "\n",
        "\n",
        "# sequence \n",
        "sequence = ['g', 'e', 'j', 'k', 's', 'p', 'r', 'a', 'i'] \n",
        "\n",
        "# using filter function \n",
        "filtered = filter(fun, sequence) \n",
        "\n",
        "print('The filtered letters are:') \n",
        "for s in filtered: \n",
        "\tprint(s) "
      ],
      "execution_count": 10,
      "outputs": [
        {
          "output_type": "stream",
          "text": [
            "The filtered letters are:\n",
            "e\n",
            "a\n",
            "i\n"
          ],
          "name": "stdout"
        }
      ]
    },
    {
      "cell_type": "code",
      "metadata": {
        "colab": {
          "base_uri": "https://localhost:8080/"
        },
        "id": "tTr2UUNBHTSO",
        "outputId": "b000123d-2f6c-4548-de7e-b8f94c611490"
      },
      "source": [
        "# a list contains both even and odd numbers. \n",
        "seq = [0, 1, 2, 3, 5, 8, 13] \n",
        "\n",
        "# result contains odd numbers of the list \n",
        "result = filter(lambda x: x % 2 != 0, seq) \n",
        "print(list(result)) \n",
        "\n",
        "# result contains even numbers of the list \n",
        "result = filter(lambda x: x % 2 == 0, seq) \n",
        "print(list(result)) \n"
      ],
      "execution_count": 11,
      "outputs": [
        {
          "output_type": "stream",
          "text": [
            "[1, 3, 5, 13]\n",
            "[0, 2, 8]\n"
          ],
          "name": "stdout"
        }
      ]
    },
    {
      "cell_type": "markdown",
      "metadata": {
        "id": "RI0NDd91kUOz"
      },
      "source": [
        "#### __Lamda__ Function "
      ]
    },
    {
      "cell_type": "markdown",
      "metadata": {
        "id": "VjC0FV0rTtoj"
      },
      "source": [
        "- Lamda function can be used to creat what is known as **anonymous function**.\n",
        "\n",
        "- This is a **one time function** that doesn't requre the naming like other function\n",
        "\n",
        "- we use them one time in our program and never refernce them again.\n",
        "\n",
        "- A lambda function can take any number of arguments, but can only have one expression.\n",
        "\n",
        "\n",
        "__Syntax__\n",
        "```\n",
        "lambda arguments : expression\n",
        "```\n",
        "\n"
      ]
    },
    {
      "cell_type": "markdown",
      "metadata": {
        "id": "gvkCe2BEtoGp"
      },
      "source": [
        "- since lamda is a one time function so it doesn't requre the naming.\n"
      ]
    },
    {
      "cell_type": "code",
      "metadata": {
        "id": "km4Be9VMt9Ou",
        "colab": {
          "base_uri": "https://localhost:8080/"
        },
        "outputId": "0522c9c1-28eb-4df5-bf5b-133d8cecd309"
      },
      "source": [
        "square_l = lambda num:num**2 # lambda arguments : expression\n",
        "square_l(25)"
      ],
      "execution_count": 12,
      "outputs": [
        {
          "output_type": "execute_result",
          "data": {
            "text/plain": [
              "625"
            ]
          },
          "metadata": {
            "tags": []
          },
          "execution_count": 12
        }
      ]
    },
    {
      "cell_type": "markdown",
      "metadata": {
        "id": "XAmUs6IkuxWp"
      },
      "source": [
        "Lambda function is used in conjection with the other function.\n",
        "\n",
        "- Earlier when we are using the **map** function we are  defining the square function seprately--> thats using some extra space in the memory  hence to avoide this what we could do is to call the lambda function insted.\n"
      ]
    },
    {
      "cell_type": "code",
      "metadata": {
        "id": "GnbvrnHfwJVT",
        "colab": {
          "base_uri": "https://localhost:8080/"
        },
        "outputId": "59aab90c-1915-4381-8acd-bf505c9276d8"
      },
      "source": [
        "num_lis = [1,2,3,4,5,6,7,8,9,10]\n",
        "'''\n",
        "here we are genrating the square list by mapping\n",
        "the lambda expression to the num_lis\n",
        "'''\n",
        "list(map(lambda num:num**2, num_lis))"
      ],
      "execution_count": 13,
      "outputs": [
        {
          "output_type": "execute_result",
          "data": {
            "text/plain": [
              "[1, 4, 9, 16, 25, 36, 49, 64, 81, 100]"
            ]
          },
          "metadata": {
            "tags": []
          },
          "execution_count": 13
        }
      ]
    },
    {
      "cell_type": "code",
      "metadata": {
        "colab": {
          "base_uri": "https://localhost:8080/"
        },
        "id": "-QYMTkKGJjFN",
        "outputId": "805a80a7-1e7e-49cc-de8e-72afd513a63b"
      },
      "source": [
        "# Python code to illustrate cube of a number \n",
        "# showing difference between def() and lambda(). \n",
        "def cube(y): \n",
        "\treturn y*y*y \n",
        "\n",
        "lambda_cube = lambda y: y*y*y \n",
        "\n",
        "# using the normally \n",
        "# defined function \n",
        "print(cube(5)) \n",
        "\n",
        "# using the lamda function \n",
        "print(lambda_cube(5)) "
      ],
      "execution_count": 14,
      "outputs": [
        {
          "output_type": "stream",
          "text": [
            "125\n",
            "125\n"
          ],
          "name": "stdout"
        }
      ]
    },
    {
      "cell_type": "code",
      "metadata": {
        "colab": {
          "base_uri": "https://localhost:8080/"
        },
        "id": "_9D0C-nVJi-l",
        "outputId": "efe3b416-1bd9-4220-d7b5-f74ba76c1b99"
      },
      "source": [
        "# map() with lambda()\n",
        " \n",
        "# to get double of a list. \n",
        "li = [5, 7, 22, 97, 54, 62, 77, 23, 73, 61] \n",
        "final_list = list(map(lambda x: x*2, li)) \n",
        "print(final_list) \n",
        "\n",
        "# Grabing the first letter of the name\n",
        "name_list_2 = ['Captin', 'Aston', 'Timberlake']\n",
        "result_2 = list(map(lambda name:name[0], name_list_2))\n",
        "print(result_2)\n",
        "\n",
        "# printing the reverse of the name\n",
        "result_3 = list(map(lambda name:name[::-1], name_list_2))\n",
        "print(result_3)"
      ],
      "execution_count": 15,
      "outputs": [
        {
          "output_type": "stream",
          "text": [
            "[10, 14, 44, 194, 108, 124, 154, 46, 146, 122]\n",
            "['C', 'A', 'T']\n",
            "['nitpaC', 'notsA', 'ekalrebmiT']\n"
          ],
          "name": "stdout"
        }
      ]
    },
    {
      "cell_type": "code",
      "metadata": {
        "id": "nVVXsFDc9A0J",
        "colab": {
          "base_uri": "https://localhost:8080/"
        },
        "outputId": "cc9038e0-6ada-4267-bf6d-1ddb750ebd0e"
      },
      "source": [
        "# Using lambda function with filter\n",
        "\n",
        "# Grabing the even number from the list of number\n",
        "num_list_1 = [1,2,3,4,5,6,7,8,9,10]\n",
        "result_1 = list(filter(lambda num:num%2 == 0, num_list_1))\n",
        "print(result_1)\n",
        "\n",
        "# filter() with lambda() \n",
        "li = [5, 7, 22, 97, 54, 62, 77, 23, 73, 61] \n",
        "final_list = list(filter(lambda x: (x%2 != 0) , li)) \n",
        "print(final_list) \n",
        "\n",
        "# Python 3 code to people above 18 yrs \n",
        "ages = [13, 90, 17, 59, 21, 60, 5] \n",
        "adults = list(filter(lambda age: age>18, ages))   \n",
        "print(adults)"
      ],
      "execution_count": 16,
      "outputs": [
        {
          "output_type": "stream",
          "text": [
            "[2, 4, 6, 8, 10]\n",
            "[5, 7, 97, 77, 23, 73, 61]\n",
            "[90, 59, 21, 60]\n"
          ],
          "name": "stdout"
        }
      ]
    },
    {
      "cell_type": "markdown",
      "metadata": {
        "id": "LW-8vv42CYQR"
      },
      "source": [
        "###  __Nested Statements and Scope__"
      ]
    },
    {
      "cell_type": "markdown",
      "metadata": {
        "id": "UNGtI6gUCYMl"
      },
      "source": [
        "Now that we have gone over writing our own functions, it's important to understand how Python deals with the variable names you assign. When you create a variable name in Python the name is stored in a *name-space*. Variable names also have a *scope*, the scope determines the visibility of that variable name to other parts of your code.\n",
        "\n",
        "Let's start with a quick thought experiment; imagine the following code:"
      ]
    },
    {
      "cell_type": "code",
      "metadata": {
        "id": "PZ0FzWpgLD01"
      },
      "source": [
        "x = 25\n",
        "\n",
        "def printer():\n",
        "    x = 50\n",
        "    return x"
      ],
      "execution_count": 17,
      "outputs": []
    },
    {
      "cell_type": "markdown",
      "metadata": {
        "id": "smgxjabdKzn6"
      },
      "source": [
        "What do you imagine the output of printer() is? 25 or 50? What is the output of print x? 25 or 50?"
      ]
    },
    {
      "cell_type": "code",
      "metadata": {
        "id": "FaKKn9sQKzn9",
        "colab": {
          "base_uri": "https://localhost:8080/"
        },
        "outputId": "c8f0d56f-7569-4937-975e-118f0fd1de0b"
      },
      "source": [
        "print(x) # Printing the Global"
      ],
      "execution_count": 18,
      "outputs": [
        {
          "output_type": "stream",
          "text": [
            "25\n"
          ],
          "name": "stdout"
        }
      ]
    },
    {
      "cell_type": "code",
      "metadata": {
        "id": "t-70qJE0KzoW",
        "colab": {
          "base_uri": "https://localhost:8080/"
        },
        "outputId": "65e5bc74-8d53-4ff0-9995-6d124a09d802"
      },
      "source": [
        "print(printer()) # Printing the Local"
      ],
      "execution_count": 19,
      "outputs": [
        {
          "output_type": "stream",
          "text": [
            "50\n"
          ],
          "name": "stdout"
        }
      ]
    },
    {
      "cell_type": "markdown",
      "metadata": {
        "id": "WLhpBe_XKzou"
      },
      "source": [
        "Interesting! But how does Python know which **x** you're referring to in your code? This is where the idea of **scope** comes in.\n",
        "\n",
        "Python has a set of rules it follows to decide what variables (such as **x** in this case) you are referencing in your code. Lets break down the rules:"
      ]
    },
    {
      "cell_type": "markdown",
      "metadata": {
        "collapsed": true,
        "id": "ipdewaDHKzov"
      },
      "source": [
        "This idea of scope in your code is very important to understand in order to properly assign and **call variable names**. \n",
        "\n",
        "In simple terms, the idea of scope can be described by **3 general rules**:\n",
        "\n",
        "1. Name assignments will create or change local names by default.\n",
        "2. Name references search (at most) four scopes, these are:\n",
        "    * local\n",
        "    * enclosing functions\n",
        "    * global\n",
        "    * built-in\n",
        "3. Names declared in global and nonlocal statements map assigned names to enclosing module and function scopes.\n",
        "\n",
        "\n",
        "The statement in #2 above can be defined by the __LEGB rule__.\n",
        "\n",
        "**LEGB Rule:**\n",
        "\n",
        "- __L: Local__ — Names assigned in any way within a function (def or lambda), and not declared global in that function.\n",
        "\n",
        "- __E: Enclosing function locals__ — Names in the local scope of any and all enclosing functions (def or lambda), from inner to outer.\n",
        "\n",
        "- __G: Global (module)__ — Names assigned at the top-level of a module file, or declared global in a def within the file.\n",
        "\n",
        "- __B: Built-in (Python)__ — Names preassigned in the built-in names module : open, range, SyntaxError,..."
      ]
    },
    {
      "cell_type": "markdown",
      "metadata": {
        "id": "kEXBOg-DKzo2"
      },
      "source": [
        "### __Quick examples of LEGB__\n",
        "\n"
      ]
    },
    {
      "cell_type": "markdown",
      "metadata": {
        "id": "LM9ehcsBhVlm"
      },
      "source": [
        "#### _Local_"
      ]
    },
    {
      "cell_type": "code",
      "metadata": {
        "id": "moNMtZ4vKzo8"
      },
      "source": [
        "# x is local here:\n",
        "f = lambda x:x**2"
      ],
      "execution_count": 20,
      "outputs": []
    },
    {
      "cell_type": "markdown",
      "metadata": {
        "id": "-zKVSR3GKzpM"
      },
      "source": [
        "#### _Enclosing_ function locals\n",
        "\n",
        "\n",
        "This occurs when we have a function inside a function (nested functions)\n"
      ]
    },
    {
      "cell_type": "code",
      "metadata": {
        "id": "bykCYs2PZEvE"
      },
      "source": [
        "'''LEGB Rule:'''\n",
        "\n",
        "# Global\n",
        "name = 'This is a global name' # This has qa Global Scope\n",
        "\n",
        "def greet():\n",
        "    # Enclosing function\n",
        "    name = 'This is Enclosing'\n",
        "    \n",
        "    def hello():\n",
        "        # local\n",
        "        name ='This is local'  # This has the SCOPE local to this function.\n",
        "        print('Hello '+name)\n",
        "    hello()"
      ],
      "execution_count": 21,
      "outputs": []
    },
    {
      "cell_type": "markdown",
      "metadata": {
        "id": "Key4a8Qecc50"
      },
      "source": [
        "__Note__: when we execute `hello()` this will immeditaly execute the function below $\\downarrow$\n",
        "\n",
        "\n",
        "```\n",
        "def hello():\n",
        "        # local\n",
        "        name ='This is local'\n",
        "        print('Hello '+name)\n",
        "```\n",
        "which ask the python to figure out $\\Rightarrow$ what dose this name varible assigned to?\n",
        "\n",
        "This will immediately finds this in local.\n",
        "\n",
        "$\\Rightarrow$ if we comment that out this will then look for the name space in the Enclosing function.\n",
        "\n",
        "$\\Rightarrow$ and if trha also commented out that also then it will look for the name space in the Global. \n",
        "\n",
        "\n",
        "\n",
        "\n",
        "\n",
        "\n",
        "\n"
      ]
    },
    {
      "cell_type": "code",
      "metadata": {
        "id": "O863tH1Ob47A",
        "colab": {
          "base_uri": "https://localhost:8080/"
        },
        "outputId": "a4a0fe89-5fba-455a-a31e-408e873c66db"
      },
      "source": [
        "greet()"
      ],
      "execution_count": 22,
      "outputs": [
        {
          "output_type": "stream",
          "text": [
            "Hello This is local\n"
          ],
          "name": "stdout"
        }
      ]
    },
    {
      "cell_type": "markdown",
      "metadata": {
        "id": "b16JnvKTKzpn"
      },
      "source": [
        "Note how Sammy was used, because the hello() function was enclosed inside of the greet function!"
      ]
    },
    {
      "cell_type": "markdown",
      "metadata": {
        "id": "QqHmBUWgKzpo"
      },
      "source": [
        "#### _Global_\n",
        "\n",
        "Luckily in Jupyter a quick way to test for global variables is to see if another cell recognizes the variable!"
      ]
    },
    {
      "cell_type": "code",
      "metadata": {
        "id": "wvdF0lTYKzpv",
        "colab": {
          "base_uri": "https://localhost:8080/"
        },
        "outputId": "c6380c7f-402b-4a8a-c37f-65ef0346c8ff"
      },
      "source": [
        "print(name)"
      ],
      "execution_count": 23,
      "outputs": [
        {
          "output_type": "stream",
          "text": [
            "This is a global name\n"
          ],
          "name": "stdout"
        }
      ]
    },
    {
      "cell_type": "markdown",
      "metadata": {
        "id": "cYEFnIPyKzqJ"
      },
      "source": [
        "#### _Built-in_\n",
        "\n",
        "These are the built-in function names in Python (don't overwrite these!)"
      ]
    },
    {
      "cell_type": "code",
      "metadata": {
        "id": "sL4reC6YKzqK",
        "colab": {
          "base_uri": "https://localhost:8080/"
        },
        "outputId": "964a2b76-c933-4268-aff2-b293968242b3"
      },
      "source": [
        "len"
      ],
      "execution_count": 24,
      "outputs": [
        {
          "output_type": "execute_result",
          "data": {
            "text/plain": [
              "<function len>"
            ]
          },
          "metadata": {
            "tags": []
          },
          "execution_count": 24
        }
      ]
    },
    {
      "cell_type": "markdown",
      "metadata": {
        "id": "TKc1_YodKzqf"
      },
      "source": [
        "### __Local Variables__\n",
        "\n",
        "When you declare variables inside a function definition, they are not related in any way to other variables with the same names used outside the function - i.e. variable names are local to the function. This is called the **scope** of the variable.\n",
        "\n",
        "All variables have the scope of the block they are declared in starting from the point of definition of the name.\n",
        "\n",
        "__Example:__"
      ]
    },
    {
      "cell_type": "code",
      "metadata": {
        "id": "codlcVadKzqh",
        "colab": {
          "base_uri": "https://localhost:8080/"
        },
        "outputId": "51127438-db22-45fc-f238-9148bdcc3b17"
      },
      "source": [
        "x = 50         # This has a Global Scope \n",
        "\n",
        "def func(x):\n",
        "    print('x is', x)\n",
        "    x = 2      # This has a local scope\n",
        "    print('Changed local x to', x)\n",
        "\n",
        "func(x)\n",
        "print('x is still', x)"
      ],
      "execution_count": 25,
      "outputs": [
        {
          "output_type": "stream",
          "text": [
            "x is 50\n",
            "Changed local x to 2\n",
            "x is still 50\n"
          ],
          "name": "stdout"
        }
      ]
    },
    {
      "cell_type": "markdown",
      "metadata": {
        "id": "JfwB-a41Kzq4"
      },
      "source": [
        "The first time that we print the value of the name **x** with the first line in the function’s body, Python uses the value of the parameter declared in the main block, above the function definition.\n",
        "\n",
        "Next, we assign the value 2 to **x**. The name **x** is local to our function. So, when we change the value of **x** in the function, the **x** defined in the main block remains unaffected.\n",
        "\n",
        "With the last print statement, we display the value of **x** as defined in the main block, thereby confirming that it is actually unaffected by the local assignment within the previously called function.\n",
        "\n"
      ]
    },
    {
      "cell_type": "markdown",
      "metadata": {
        "id": "FqBlsvuk5CPO"
      },
      "source": [
        "### The <code>global</code> statement\n",
        "If you want to assign a value to a name defined at the top level of the program (i.e. not inside any kind of scope such as functions or classes), then you have to tell Python that the name is not local, but it is global. We do this using the <code>global</code> statement. It is impossible to assign a value to a variable defined outside a function without the global statement.\n",
        "\n",
        "You can use the values of such variables defined outside the function (assuming there is no variable with the same name within the function). However, this is not encouraged and should be avoided since it becomes unclear to the reader of the program as to where that variable’s definition is. Using the <code>global</code> statement makes it amply clear that the variable is defined in an outermost block.\n",
        "\n",
        "Example:"
      ]
    },
    {
      "cell_type": "code",
      "metadata": {
        "id": "x0oeRs-MKzq5",
        "colab": {
          "base_uri": "https://localhost:8080/"
        },
        "outputId": "3de95278-4aba-4717-e05c-3d01c97cbfcd"
      },
      "source": [
        "x = 50\n",
        "\n",
        "def func():\n",
        "    global x\n",
        "    print('This function is now using the global x!')\n",
        "    print('Because of global x is: ', x)\n",
        "    x = 2\n",
        "    print('Ran func(), changed global x to', x)\n",
        "\n",
        "print('Before calling func(), x is: ', x)\n",
        "func()\n",
        "print('Value of x (outside of func()) is: ', x)"
      ],
      "execution_count": 26,
      "outputs": [
        {
          "output_type": "stream",
          "text": [
            "Before calling func(), x is:  50\n",
            "This function is now using the global x!\n",
            "Because of global x is:  50\n",
            "Ran func(), changed global x to 2\n",
            "Value of x (outside of func()) is:  2\n"
          ],
          "name": "stdout"
        }
      ]
    },
    {
      "cell_type": "markdown",
      "metadata": {
        "collapsed": true,
        "id": "fykmt-z2KzrJ"
      },
      "source": [
        "The <code>global</code> statement is used to declare that **x** is a global variable - hence, when we assign a value to **x** inside the function, that change is reflected when we use the value of **x** in the main block.\n",
        "\n",
        "You can specify more than one global variable using the same global statement e.g. <code>global x, y, z</code>."
      ]
    },
    {
      "cell_type": "code",
      "metadata": {
        "id": "y66cVylrunNK"
      },
      "source": [
        "'''This is the much genral path  to  take  rather  then  using  the \n",
        "GLOBAL  VARIBLE   because  with  the  larger  scripts  there  is  a\n",
        "possibility that you may write the GLOBAL keyword inside a function\n",
        "without ever knowing it, & this will make the debugging of the code \n",
        "much harder '''\n",
        "\n",
        "x = 50\n",
        "\n",
        "def func(x):\n",
        "    print(f'X is {x}')\n",
        "\n",
        "    # LOCAL REASSIGNMENT ON A GLOBAL VARIBLE!!!\n",
        "    x = 'NEW VALUE'\n",
        "    print(f'I JUST LOCALLY CHANGED GLOBAL X TO {x}')\n",
        "    return x"
      ],
      "execution_count": 27,
      "outputs": []
    },
    {
      "cell_type": "code",
      "metadata": {
        "id": "nvGGQkWmv9Nw",
        "colab": {
          "base_uri": "https://localhost:8080/"
        },
        "outputId": "7b495e85-184f-4072-fd37-87fa4db9c0f3"
      },
      "source": [
        "print(x)"
      ],
      "execution_count": 28,
      "outputs": [
        {
          "output_type": "stream",
          "text": [
            "50\n"
          ],
          "name": "stdout"
        }
      ]
    },
    {
      "cell_type": "code",
      "metadata": {
        "id": "hSVMQD3RwCB-",
        "colab": {
          "base_uri": "https://localhost:8080/"
        },
        "outputId": "fb8ab7fd-d177-4d55-ed22-64e1be8ed432"
      },
      "source": [
        "# This is much easier to debug because clear re-assignment is happening here\n",
        "x = func(x)"
      ],
      "execution_count": 29,
      "outputs": [
        {
          "output_type": "stream",
          "text": [
            "X is 50\n",
            "I JUST LOCALLY CHANGED GLOBAL X TO NEW VALUE\n"
          ],
          "name": "stdout"
        }
      ]
    },
    {
      "cell_type": "code",
      "metadata": {
        "id": "tpzgaSNpxnaa",
        "colab": {
          "base_uri": "https://localhost:8080/"
        },
        "outputId": "7abcc9db-d6f6-40c7-824d-5417efcd6e52"
      },
      "source": [
        "print(x)"
      ],
      "execution_count": 30,
      "outputs": [
        {
          "output_type": "stream",
          "text": [
            "NEW VALUE\n"
          ],
          "name": "stdout"
        }
      ]
    },
    {
      "cell_type": "markdown",
      "metadata": {
        "collapsed": true,
        "id": "VQKGFrhgKzrP"
      },
      "source": [
        "#### __Conclusion__\n",
        "You should now have a good understanding of Scope (you may have already intuitively felt right about Scope which is great!) One last mention is that you can use the **globals()** and **locals()** functions to check what are your current local and global variables.\n",
        "\n",
        "Another thing to keep in mind is that everything in Python is an object! I can assign variables to functions just like I can with numbers! We will go over this again in the decorator section of the course!"
      ]
    },
    {
      "cell_type": "markdown",
      "metadata": {
        "id": "7xqHuQ9WcSlk"
      },
      "source": [
        "### __Array__"
      ]
    },
    {
      "cell_type": "markdown",
      "metadata": {
        "id": "zyz_KoqI5sM-"
      },
      "source": [
        "An **array** is a collection of items stored at **contiguous**(Sharing a common border, touching) memory locations.\n",
        "\n",
        "The idea is to **store multiple items of the same type together**. This makes it easier to calculate the position of each element by simply adding an offset to a base value, i.e., the memory location of the first element of the array (generally denoted by the name of the array).\n",
        "\n",
        "\n",
        "However, user **cannot** constraint(limitation or restriction.) the type of elements stored in a list. If you create arrays using the `array module`, a**ll elements of the array must be of the same type**.\n"
      ]
    },
    {
      "cell_type": "code",
      "metadata": {
        "id": "B_X8o1XVcpkN"
      },
      "source": [
        "# Create an array containing car names:\n",
        "cars = [\"Ford\", \"Volvo\", \"BMW\"]"
      ],
      "execution_count": 31,
      "outputs": []
    },
    {
      "cell_type": "markdown",
      "metadata": {
        "id": "rYwAfVFlcyHW"
      },
      "source": [
        " > $\\color{red}{\\textbf{NOTE}}$: __Python does not have built-in support for Arrays, but Python Lists can be used instead.__"
      ]
    },
    {
      "cell_type": "code",
      "metadata": {
        "id": "cVaFzoiqcxEQ",
        "colab": {
          "base_uri": "https://localhost:8080/"
        },
        "outputId": "772e489d-94b7-4f2c-d939-efe789cfceed"
      },
      "source": [
        "# Looping Array Elements\n",
        "\n",
        "for x in cars:\n",
        "  print(x)"
      ],
      "execution_count": 32,
      "outputs": [
        {
          "output_type": "stream",
          "text": [
            "Ford\n",
            "Volvo\n",
            "BMW\n"
          ],
          "name": "stdout"
        }
      ]
    },
    {
      "cell_type": "markdown",
      "metadata": {
        "id": "nz0-SwaUfusi"
      },
      "source": [
        "__Python has a set of built-in methods that you can use on lists/arrays.__\n",
        "\n",
        "<center><img src = 'https://www.engineeringbigdata.com/wp-content/uploads/python-array-methods.jpg'></center>"
      ]
    },
    {
      "cell_type": "code",
      "metadata": {
        "colab": {
          "base_uri": "https://localhost:8080/"
        },
        "id": "zLxN0vXc6jMy",
        "outputId": "58c7b179-8788-4796-8d23-ee1fa2ab6b5c"
      },
      "source": [
        "# Python program to demonstrate \n",
        "# Creation of Array \n",
        "\n",
        "# importing \"array\" for array creations \n",
        "import array as arr \n",
        "\n",
        "# creating an array with integer type \n",
        "a = arr.array('i', [1, 2, 3]) \n",
        "\n",
        "# printing original array \n",
        "print (\"The new created array is : \", end =\" \") \n",
        "for i in range (0, 3): \n",
        "\tprint (a[i], end =\" \") \n",
        "print() \n",
        "\n",
        "# creating an array with float type \n",
        "b = arr.array('d', [2.5, 3.2, 3.3]) \n",
        "\n",
        "# printing original array \n",
        "print (\"The new created array is : \", end =\" \") \n",
        "for i in range (0, 3): \n",
        "\tprint (b[i], end =\" \") "
      ],
      "execution_count": 33,
      "outputs": [
        {
          "output_type": "stream",
          "text": [
            "The new created array is :  1 2 3 \n",
            "The new created array is :  2.5 3.2 3.3 "
          ],
          "name": "stdout"
        }
      ]
    },
    {
      "cell_type": "code",
      "metadata": {
        "colab": {
          "base_uri": "https://localhost:8080/"
        },
        "id": "Eu2k8S_Y6phx",
        "outputId": "a618b37f-3de6-4f79-d098-8bb5b0a9ed6a"
      },
      "source": [
        "# Python program to demonstrate \n",
        "# Adding Elements to a Array \n",
        "\n",
        "# importing \"array\" for array creations \n",
        "import array as arr \n",
        "\n",
        "# array with int type \n",
        "a = arr.array('i', [1, 2, 3]) \n",
        "\n",
        "\n",
        "print (\"Array before insertion : \", end =\" \") \n",
        "for i in range (0, 3): \n",
        "\tprint (a[i], end =\" \") \n",
        "print() \n",
        "\n",
        "# inserting array using \n",
        "# insert() function \n",
        "a.insert(1, 4) \n",
        "\n",
        "print (\"Array after insertion : \", end =\" \") \n",
        "for i in (a): \n",
        "\tprint (i, end =\" \") \n",
        "print() \n",
        "\n",
        "# array with float type \n",
        "b = arr.array('d', [2.5, 3.2, 3.3]) \n",
        "\n",
        "print (\"Array before insertion : \", end =\" \") \n",
        "for i in range (0, 3): \n",
        "\tprint (b[i], end =\" \") \n",
        "print() \n",
        "\n",
        "# adding an element using append() \n",
        "b.append(4.4) \n",
        "\n",
        "print (\"Array after insertion : \", end =\" \") \n",
        "for i in (b): \n",
        "\tprint (i, end =\" \") \n",
        "print() "
      ],
      "execution_count": 34,
      "outputs": [
        {
          "output_type": "stream",
          "text": [
            "Array before insertion :  1 2 3 \n",
            "Array after insertion :  1 4 2 3 \n",
            "Array before insertion :  2.5 3.2 3.3 \n",
            "Array after insertion :  2.5 3.2 3.3 4.4 \n"
          ],
          "name": "stdout"
        }
      ]
    },
    {
      "cell_type": "code",
      "metadata": {
        "colab": {
          "base_uri": "https://localhost:8080/"
        },
        "id": "PjI4HHWw6wmA",
        "outputId": "7e4f768e-0ca8-4750-e6fd-9a5ec7d45945"
      },
      "source": [
        "# Python program to demonstrate \n",
        "# accessing of element from list \n",
        "\n",
        "# importing array module \n",
        "import array as arr \n",
        "\n",
        "# array with int type \n",
        "a = arr.array('i', [1, 2, 3, 4, 5, 6]) \n",
        "\n",
        "# accessing element of array \n",
        "print(\"Access element is: \", a[0]) \n",
        "\n",
        "# accessing element of array \n",
        "print(\"Access element is: \", a[3]) \n",
        "\n",
        "# array with float type \n",
        "b = arr.array('d', [2.5, 3.2, 3.3]) \n",
        "\n",
        "# accessing element of array \n",
        "print(\"Access element is: \", b[1]) \n",
        "\n",
        "# accessing element of array \n",
        "print(\"Access element is: \", b[2]) \n"
      ],
      "execution_count": 35,
      "outputs": [
        {
          "output_type": "stream",
          "text": [
            "Access element is:  1\n",
            "Access element is:  4\n",
            "Access element is:  3.2\n",
            "Access element is:  3.3\n"
          ],
          "name": "stdout"
        }
      ]
    },
    {
      "cell_type": "code",
      "metadata": {
        "colab": {
          "base_uri": "https://localhost:8080/"
        },
        "id": "0kBHl2JM6zd_",
        "outputId": "c3662867-067c-444a-cf5f-7841cd9f71ca"
      },
      "source": [
        "# Python program to demonstrate \n",
        "# Removal of elements in a Array \n",
        "\n",
        "# importing \"array\" for array operations \n",
        "import array \n",
        "\n",
        "# initializing array with array values \n",
        "# initializes array with signed integers \n",
        "arr = array.array('i', [1, 2, 3, 1, 5]) \n",
        "\n",
        "# printing original array \n",
        "print (\"The new created array is : \", end =\"\") \n",
        "for i in range (0, 5): \n",
        "\tprint (arr[i], end =\" \") \n",
        "\n",
        "print (\"\\r\") \n",
        "\n",
        "# using pop() to remove element at 2nd position \n",
        "print (\"The popped element is : \", end =\"\") \n",
        "print (arr.pop(2)) \n",
        "\n",
        "# printing array after popping \n",
        "print (\"The array after popping is : \", end =\"\") \n",
        "for i in range (0, 4): \n",
        "\tprint (arr[i], end =\" \") \n",
        "\n",
        "print(\"\\r\") \n",
        "\n",
        "# using remove() to remove 1st occurrence of 1 \n",
        "arr.remove(1) \n",
        "\n",
        "# printing array after removing \n",
        "print (\"The array after removing is : \", end =\"\") \n",
        "for i in range (0, 3): \n",
        "\tprint (arr[i], end =\" \") \n"
      ],
      "execution_count": 36,
      "outputs": [
        {
          "output_type": "stream",
          "text": [
            "The new created array is : 1 2 3 1 5 \r\n",
            "The popped element is : 3\n",
            "The array after popping is : 1 2 1 5 \r\n",
            "The array after removing is : 2 1 5 "
          ],
          "name": "stdout"
        }
      ]
    }
  ]
}