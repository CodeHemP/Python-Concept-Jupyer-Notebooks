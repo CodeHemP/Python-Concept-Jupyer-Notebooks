{
  "nbformat": 4,
  "nbformat_minor": 0,
  "metadata": {
    "kernelspec": {
      "display_name": "Python 3",
      "language": "python",
      "name": "python3"
    },
    "language_info": {
      "codemirror_mode": {
        "name": "ipython",
        "version": 3
      },
      "file_extension": ".py",
      "mimetype": "text/x-python",
      "name": "python",
      "nbconvert_exporter": "python",
      "pygments_lexer": "ipython3",
      "version": "3.6.2"
    },
    "colab": {
      "name": "2_ATU.ipynb",
      "provenance": [],
      "collapsed_sections": [],
      "include_colab_link": true
    }
  },
  "cells": [
    {
      "cell_type": "markdown",
      "metadata": {
        "id": "view-in-github",
        "colab_type": "text"
      },
      "source": [
        "<a href=\"https://colab.research.google.com/github/mohd-faizy/My_Python_Notebooks_Concept/blob/master/2_ATU.ipynb\" target=\"_parent\"><img src=\"https://colab.research.google.com/assets/colab-badge.svg\" alt=\"Open In Colab\"/></a>"
      ]
    },
    {
      "cell_type": "markdown",
      "metadata": {
        "collapsed": true,
        "id": "P5cQN5WQFB7S",
        "colab_type": "text"
      },
      "source": [
        "# Statements Assessment Test\n",
        "Let's test your knowledge!"
      ]
    },
    {
      "cell_type": "markdown",
      "metadata": {
        "id": "fiRcmIPxFB7V",
        "colab_type": "text"
      },
      "source": [
        "_____\n",
        "**Use <code>for</code>, .split(), and <code>if</code> to create a Statement that will print out words that start with 's':**"
      ]
    },
    {
      "cell_type": "code",
      "metadata": {
        "id": "o1FIsnF4RRm4",
        "colab_type": "code",
        "outputId": "927cbe0e-eb07-4a17-b965-7a240cc7e4b2",
        "colab": {
          "base_uri": "https://localhost:8080/",
          "height": 70
        }
      },
      "source": [
        "st = 'Print only the words that start with s in this sentence'\n",
        "\n",
        "for word in st.split():\n",
        "    if word[0] ==  's':\n",
        "        print(word)"
      ],
      "execution_count": 0,
      "outputs": [
        {
          "output_type": "stream",
          "text": [
            "start\n",
            "s\n",
            "sentence\n"
          ],
          "name": "stdout"
        }
      ]
    },
    {
      "cell_type": "code",
      "metadata": {
        "id": "qh0ExjgJFB7X",
        "colab_type": "code",
        "outputId": "b24ad5e8-8660-4318-fc93-302bddc804c8",
        "colab": {
          "base_uri": "https://localhost:8080/",
          "height": 105
        }
      },
      "source": [
        "# printing all the letter that has the letter 's' in it\n",
        "\n",
        "st = 'Print only the words that start with s in this sentence'\n",
        "\n",
        "# Converting the string into list\n",
        "x = st.split()\n",
        "\n",
        "for words in x:\n",
        "    if 's' in words:\n",
        "        print(words)"
      ],
      "execution_count": 0,
      "outputs": [
        {
          "output_type": "stream",
          "text": [
            "words\n",
            "start\n",
            "s\n",
            "this\n",
            "sentence\n"
          ],
          "name": "stdout"
        }
      ]
    },
    {
      "cell_type": "code",
      "metadata": {
        "id": "tNZGDbfASfgB",
        "colab_type": "code",
        "colab": {}
      },
      "source": [
        "st_1 = 'Sam Print only the words that start with s in this sentence'\n",
        "\n",
        "for word in st_1.split():\n",
        "    if word[0].lower ==  's':\n",
        "        print(word)"
      ],
      "execution_count": 0,
      "outputs": []
    },
    {
      "cell_type": "markdown",
      "metadata": {
        "id": "_dDdblI5FB7m",
        "colab_type": "text"
      },
      "source": [
        "______\n",
        "**Use range() to print all the even numbers from 0 to 10.**"
      ]
    },
    {
      "cell_type": "code",
      "metadata": {
        "id": "OiG0Ap_PFB7n",
        "colab_type": "code",
        "outputId": "24a3f0b9-f92f-4deb-d7c8-3f7d41762193",
        "colab": {
          "base_uri": "https://localhost:8080/",
          "height": 34
        }
      },
      "source": [
        "for num in range(0,10,2):\n",
        "    print(num, end = ' ')"
      ],
      "execution_count": 0,
      "outputs": [
        {
          "output_type": "stream",
          "text": [
            "0 2 4 6 8 "
          ],
          "name": "stdout"
        }
      ]
    },
    {
      "cell_type": "code",
      "metadata": {
        "id": "Osp6mQGkSZIm",
        "colab_type": "code",
        "outputId": "e65d407d-9632-4541-ed98-4dfd7e8c53a6",
        "colab": {
          "base_uri": "https://localhost:8080/",
          "height": 34
        }
      },
      "source": [
        "for num in range(0,10):\n",
        "    if num%2 == 0:\n",
        "        print(num, end = ' ')"
      ],
      "execution_count": 0,
      "outputs": [
        {
          "output_type": "stream",
          "text": [
            "0 2 4 6 8 "
          ],
          "name": "stdout"
        }
      ]
    },
    {
      "cell_type": "markdown",
      "metadata": {
        "id": "fIWJx6kSFB7r",
        "colab_type": "text"
      },
      "source": [
        "___\n",
        "**Use a List Comprehension to create a list of all numbers between 1 and 50 that are divisible by 3.**"
      ]
    },
    {
      "cell_type": "code",
      "metadata": {
        "id": "v80fOf15FB7s",
        "colab_type": "code",
        "outputId": "d0cc396a-2bbf-4273-a3ca-4bd2ae0a11e8",
        "colab": {
          "base_uri": "https://localhost:8080/",
          "height": 34
        }
      },
      "source": [
        "mylist = [num for num in range(1,50) if num%3 == 0]\n",
        "print(mylist)"
      ],
      "execution_count": 0,
      "outputs": [
        {
          "output_type": "stream",
          "text": [
            "[3, 6, 9, 12, 15, 18, 21, 24, 27, 30, 33, 36, 39, 42, 45, 48]\n"
          ],
          "name": "stdout"
        }
      ]
    },
    {
      "cell_type": "markdown",
      "metadata": {
        "id": "-qf1LPzIFB7w",
        "colab_type": "text"
      },
      "source": [
        "_____\n",
        "**Go through the string below and if the length of a word is even print \"even!\"**"
      ]
    },
    {
      "cell_type": "code",
      "metadata": {
        "id": "Roi4tD37Uj-r",
        "colab_type": "code",
        "outputId": "a68d0c8a-f314-49e0-b678-f92702e844bd",
        "colab": {
          "base_uri": "https://localhost:8080/",
          "height": 176
        }
      },
      "source": [
        "st = 'Print every word in this sentence that has an even number of letters'\n",
        "for word in st.split():\n",
        "    if len(word) % 2 == 0:\n",
        "        print(word + ' is even') "
      ],
      "execution_count": 0,
      "outputs": [
        {
          "output_type": "stream",
          "text": [
            "word is even\n",
            "in is even\n",
            "this is even\n",
            "sentence is even\n",
            "that is even\n",
            "an is even\n",
            "even is even\n",
            "number is even\n",
            "of is even\n"
          ],
          "name": "stdout"
        }
      ]
    },
    {
      "cell_type": "code",
      "metadata": {
        "id": "UyyGNxMAFB7x",
        "colab_type": "code",
        "outputId": "34b42953-a5fa-47d8-de5c-ca49495abae0",
        "colab": {
          "base_uri": "https://localhost:8080/",
          "height": 52
        }
      },
      "source": [
        "st = 'Print every word in this sentence that has an even number of letters'\n",
        "\n",
        "x = st.split()\n",
        "\n",
        "if len(x) %2 == 0:\n",
        "    print('Even')\n",
        "else:\n",
        "    print('odd')\n",
        "\n",
        "print(len(x))"
      ],
      "execution_count": 0,
      "outputs": [
        {
          "output_type": "stream",
          "text": [
            "odd\n",
            "13\n"
          ],
          "name": "stdout"
        }
      ]
    },
    {
      "cell_type": "markdown",
      "metadata": {
        "id": "uEFJ2Qc2FB8F",
        "colab_type": "text"
      },
      "source": [
        "____\n",
        "**Write a program that prints the integers from 1 to 100. But for multiples of three print \"Fizz\" instead of the number, and for the multiples of five print \"Buzz\". For numbers which are multiples of both three and five print \"FizzBuzz\".**"
      ]
    },
    {
      "cell_type": "code",
      "metadata": {
        "id": "ijj50P3WXBLp",
        "colab_type": "code",
        "outputId": "488167d2-b68e-4172-de4c-c4ce9035e5c1",
        "colab": {
          "base_uri": "https://localhost:8080/",
          "height": 1000
        }
      },
      "source": [
        "for num in range(1,101):\n",
        "    if num%3 == 0 and num%5 == 0:\n",
        "        print('FizzBuzz')\n",
        "    elif num%3 == 0:\n",
        "        print('Fizz')\n",
        "    elif num%5 == 0:\n",
        "        print('Buzz')\n",
        "    else:\n",
        "        print(num)"
      ],
      "execution_count": 0,
      "outputs": [
        {
          "output_type": "stream",
          "text": [
            "1\n",
            "2\n",
            "Fizz\n",
            "4\n",
            "Buzz\n",
            "Fizz\n",
            "7\n",
            "8\n",
            "Fizz\n",
            "Buzz\n",
            "11\n",
            "Fizz\n",
            "13\n",
            "14\n",
            "FizzBuzz\n",
            "16\n",
            "17\n",
            "Fizz\n",
            "19\n",
            "Buzz\n",
            "Fizz\n",
            "22\n",
            "23\n",
            "Fizz\n",
            "Buzz\n",
            "26\n",
            "Fizz\n",
            "28\n",
            "29\n",
            "FizzBuzz\n",
            "31\n",
            "32\n",
            "Fizz\n",
            "34\n",
            "Buzz\n",
            "Fizz\n",
            "37\n",
            "38\n",
            "Fizz\n",
            "Buzz\n",
            "41\n",
            "Fizz\n",
            "43\n",
            "44\n",
            "FizzBuzz\n",
            "46\n",
            "47\n",
            "Fizz\n",
            "49\n",
            "Buzz\n",
            "Fizz\n",
            "52\n",
            "53\n",
            "Fizz\n",
            "Buzz\n",
            "56\n",
            "Fizz\n",
            "58\n",
            "59\n",
            "FizzBuzz\n",
            "61\n",
            "62\n",
            "Fizz\n",
            "64\n",
            "Buzz\n",
            "Fizz\n",
            "67\n",
            "68\n",
            "Fizz\n",
            "Buzz\n",
            "71\n",
            "Fizz\n",
            "73\n",
            "74\n",
            "FizzBuzz\n",
            "76\n",
            "77\n",
            "Fizz\n",
            "79\n",
            "Buzz\n",
            "Fizz\n",
            "82\n",
            "83\n",
            "Fizz\n",
            "Buzz\n",
            "86\n",
            "Fizz\n",
            "88\n",
            "89\n",
            "FizzBuzz\n",
            "91\n",
            "92\n",
            "Fizz\n",
            "94\n",
            "Buzz\n",
            "Fizz\n",
            "97\n",
            "98\n",
            "Fizz\n",
            "Buzz\n"
          ],
          "name": "stdout"
        }
      ]
    },
    {
      "cell_type": "code",
      "metadata": {
        "id": "DWQfJCa4FB8H",
        "colab_type": "code",
        "outputId": "2deb79c4-db82-439e-bdac-fadea1d5d2e0",
        "colab": {
          "base_uri": "https://localhost:8080/",
          "height": 1000
        }
      },
      "source": [
        "for num in range(1,100):\n",
        "    # LCM of (3,5) is 15\n",
        "    if num%15 == 0:            \n",
        "        print('At index {} the letter is \"FizzBuzz\"'.format(num))\n",
        "\n",
        "    elif num%3 == 0:\n",
        "        print('At index {} the letter is \"Fizz\"'.format(num))\n",
        "         \n",
        "    elif num%5 == 0:\n",
        "        print('At index {} the letter is \"Buzz\"'.format(num))\n",
        "\n",
        "    else:\n",
        "        print(num)"
      ],
      "execution_count": 0,
      "outputs": [
        {
          "output_type": "stream",
          "text": [
            "1\n",
            "2\n",
            "At index 3 the letter is \"Fizz\"\n",
            "4\n",
            "At index 5 the letter is \"Buzz\"\n",
            "At index 6 the letter is \"Fizz\"\n",
            "7\n",
            "8\n",
            "At index 9 the letter is \"Fizz\"\n",
            "At index 10 the letter is \"Buzz\"\n",
            "11\n",
            "At index 12 the letter is \"Fizz\"\n",
            "13\n",
            "14\n",
            "At index 15 the letter is \"FizzBuzz\"\n",
            "16\n",
            "17\n",
            "At index 18 the letter is \"Fizz\"\n",
            "19\n",
            "At index 20 the letter is \"Buzz\"\n",
            "At index 21 the letter is \"Fizz\"\n",
            "22\n",
            "23\n",
            "At index 24 the letter is \"Fizz\"\n",
            "At index 25 the letter is \"Buzz\"\n",
            "26\n",
            "At index 27 the letter is \"Fizz\"\n",
            "28\n",
            "29\n",
            "At index 30 the letter is \"FizzBuzz\"\n",
            "31\n",
            "32\n",
            "At index 33 the letter is \"Fizz\"\n",
            "34\n",
            "At index 35 the letter is \"Buzz\"\n",
            "At index 36 the letter is \"Fizz\"\n",
            "37\n",
            "38\n",
            "At index 39 the letter is \"Fizz\"\n",
            "At index 40 the letter is \"Buzz\"\n",
            "41\n",
            "At index 42 the letter is \"Fizz\"\n",
            "43\n",
            "44\n",
            "At index 45 the letter is \"FizzBuzz\"\n",
            "46\n",
            "47\n",
            "At index 48 the letter is \"Fizz\"\n",
            "49\n",
            "At index 50 the letter is \"Buzz\"\n",
            "At index 51 the letter is \"Fizz\"\n",
            "52\n",
            "53\n",
            "At index 54 the letter is \"Fizz\"\n",
            "At index 55 the letter is \"Buzz\"\n",
            "56\n",
            "At index 57 the letter is \"Fizz\"\n",
            "58\n",
            "59\n",
            "At index 60 the letter is \"FizzBuzz\"\n",
            "61\n",
            "62\n",
            "At index 63 the letter is \"Fizz\"\n",
            "64\n",
            "At index 65 the letter is \"Buzz\"\n",
            "At index 66 the letter is \"Fizz\"\n",
            "67\n",
            "68\n",
            "At index 69 the letter is \"Fizz\"\n",
            "At index 70 the letter is \"Buzz\"\n",
            "71\n",
            "At index 72 the letter is \"Fizz\"\n",
            "73\n",
            "74\n",
            "At index 75 the letter is \"FizzBuzz\"\n",
            "76\n",
            "77\n",
            "At index 78 the letter is \"Fizz\"\n",
            "79\n",
            "At index 80 the letter is \"Buzz\"\n",
            "At index 81 the letter is \"Fizz\"\n",
            "82\n",
            "83\n",
            "At index 84 the letter is \"Fizz\"\n",
            "At index 85 the letter is \"Buzz\"\n",
            "86\n",
            "At index 87 the letter is \"Fizz\"\n",
            "88\n",
            "89\n",
            "At index 90 the letter is \"FizzBuzz\"\n",
            "91\n",
            "92\n",
            "At index 93 the letter is \"Fizz\"\n",
            "94\n",
            "At index 95 the letter is \"Buzz\"\n",
            "At index 96 the letter is \"Fizz\"\n",
            "97\n",
            "98\n",
            "At index 99 the letter is \"Fizz\"\n"
          ],
          "name": "stdout"
        }
      ]
    },
    {
      "cell_type": "markdown",
      "metadata": {
        "id": "6iG8KyWVFB8M",
        "colab_type": "text"
      },
      "source": [
        "____\n",
        "**Use List Comprehension to create a list of the first letters of every word in the string below:**"
      ]
    },
    {
      "cell_type": "code",
      "metadata": {
        "id": "GYix9ZIraDGM",
        "colab_type": "code",
        "outputId": "0de61c52-ee3c-4c10-ecd2-1f34ba11e527",
        "colab": {
          "base_uri": "https://localhost:8080/",
          "height": 34
        }
      },
      "source": [
        "st = 'Create a list of the first letters of every word in this string'\n",
        "[word[0] for word in st.split()]"
      ],
      "execution_count": 0,
      "outputs": [
        {
          "output_type": "execute_result",
          "data": {
            "text/plain": [
              "['C', 'a', 'l', 'o', 't', 'f', 'l', 'o', 'e', 'w', 'i', 't', 's']"
            ]
          },
          "metadata": {
            "tags": []
          },
          "execution_count": 25
        }
      ]
    },
    {
      "cell_type": "code",
      "metadata": {
        "id": "Iv2VpDbJFB8N",
        "colab_type": "code",
        "outputId": "24730b17-6177-4939-fa73-d94dbabddf85",
        "colab": {
          "base_uri": "https://localhost:8080/",
          "height": 34
        }
      },
      "source": [
        "st = 'Create a list of the first letters of every word in this string'\n",
        "\n",
        "x = st.split()\n",
        "\n",
        "mylist = [letter[0] for letter in  x ]\n",
        "print(mylist)"
      ],
      "execution_count": 0,
      "outputs": [
        {
          "output_type": "stream",
          "text": [
            "['C', 'a', 'l', 'o', 't', 'f', 'l', 'o', 'e', 'w', 'i', 't', 's']\n"
          ],
          "name": "stdout"
        }
      ]
    },
    {
      "cell_type": "code",
      "metadata": {
        "id": "oFlMrfUsOA3w",
        "colab_type": "code",
        "outputId": "b93d5ee0-dafb-455f-edd0-f77d7e7604ac",
        "colab": {
          "base_uri": "https://localhost:8080/",
          "height": 34
        }
      },
      "source": [
        "st = 'Create a list of the first letters of every word in this string'\n",
        "\n",
        "x = st.split()\n",
        "\n",
        "mylist = []\n",
        "\n",
        "for letter in x:\n",
        "    mylist.append(letter[0])\n",
        "print(mylist)"
      ],
      "execution_count": 0,
      "outputs": [
        {
          "output_type": "stream",
          "text": [
            "['C', 'a', 'l', 'o', 't', 'f', 'l', 'o', 'e', 'w', 'i', 't', 's']\n"
          ],
          "name": "stdout"
        }
      ]
    }
  ]
}