{
  "nbformat": 4,
  "nbformat_minor": 0,
  "metadata": {
    "colab": {
      "name": "4_Object_Oriented_Programming.ipynb",
      "provenance": [],
      "collapsed_sections": [],
      "authorship_tag": "ABX9TyPQHySE+JVK9DuzjPFgNCXw",
      "include_colab_link": true
    },
    "kernelspec": {
      "name": "python3",
      "display_name": "Python 3"
    }
  },
  "cells": [
    {
      "cell_type": "markdown",
      "metadata": {
        "id": "view-in-github",
        "colab_type": "text"
      },
      "source": [
        "<a href=\"https://colab.research.google.com/github/mohd-faizy/My_Python_Notebooks_Concept/blob/master/4_Object_Oriented_Programming.ipynb\" target=\"_parent\"><img src=\"https://colab.research.google.com/assets/colab-badge.svg\" alt=\"Open In Colab\"/></a>"
      ]
    },
    {
      "cell_type": "markdown",
      "metadata": {
        "id": "7lf_rPHtwiE1",
        "colab_type": "text"
      },
      "source": [
        "# $\\color{green}{\\textbf{Object Oriented Programming}}$ :\n",
        "\n"
      ]
    },
    {
      "cell_type": "markdown",
      "metadata": {
        "id": "68ubUaDwhOzO",
        "colab_type": "text"
      },
      "source": [
        "\n",
        "- It allows the programmer to create their own __Objects__ that have __Methods__ and __Attributs__.\n",
        "\n",
        "\n",
        "- __OOP's__ combine __data__ and __functionality__ and wrap it inside something called an **object**.\n",
        "\n",
        "- Objects can store data using ordinary variables that belong to the object.\n",
        "\n",
        "\n",
        "- An **object** has two characteristics:\n",
        "\n",
        " - **Attributes**\n",
        " - **Behavior**\n",
        "\n",
        " > *A parrot is can be an __object__,as it has the following properties:*\n",
        " - name, age, color as **attributes**\n",
        " - singing, dancing as **behavior**\n",
        "\n",
        "- These __method__ acts as __functions__ that uses information about the object.\n",
        "\n",
        "- OPPs allows us to write a code that is repetable and organised.\n",
        "\n",
        "- For __larger scripts__ of python code, __functions__ by themselves aren't enough for oragnization and repeatability.\n",
        "\n",
        "- Commonly repeated tasks and objects can be defined with OOP's to create code that is more usable.\n",
        "\n"
      ]
    },
    {
      "cell_type": "markdown",
      "metadata": {
        "id": "NQIypks0Nvgk",
        "colab_type": "text"
      },
      "source": [
        "# $\\color{green}{\\textbf{class}}$ :"
      ]
    },
    {
      "cell_type": "markdown",
      "metadata": {
        "id": "pwJkN30LNzi9",
        "colab_type": "text"
      },
      "source": [
        "- Classes are used to create new **user-defined data structures** called __Object__ that contain arbitrary information about something.\n",
        "\n",
        "> We can think of class as a sketch of a parrot with labels. It contains all the details about the **name, colors, size** etc. Based on these descriptions, we can study about the parrot. Here, a parrot is an object.\n",
        "\n"
      ]
    },
    {
      "cell_type": "markdown",
      "metadata": {
        "id": "AwYt56NSPGWB",
        "colab_type": "text"
      },
      "source": [
        "```\n",
        "class Parrot:\n",
        "    pass\n",
        "```\n",
        "Here, we use the `class `keyword to define an empty `class` Parrot. From `class`, we construct **instances**.\n",
        "\n",
        "\n",
        "__INSTANCE__\n",
        "\n",
        "> An **instance** is a specific object created from a particular `class.`\n",
        "\n",
        "- Instance is an **individual object** of a certain class. An object obj that belongs to a class.\n",
        "\n",
        "\n"
      ]
    },
    {
      "cell_type": "markdown",
      "metadata": {
        "id": "Y3X-UbWASjJb",
        "colab_type": "text"
      },
      "source": [
        "$\\color{red}{\\textbf{NOTE}}$ : By Convention: classes follows the camel Casing.\n",
        "\n"
      ]
    },
    {
      "cell_type": "code",
      "metadata": {
        "id": "fayUAiKaeQk1",
        "colab_type": "code",
        "colab": {}
      },
      "source": [
        "class Dog():\n",
        "\n",
        "    def __init__(self, mybreed):\n",
        "\n",
        "        # Attributes\n",
        "        # We take in the arguments\n",
        "        # Assign it using self.attribute_name\n",
        "\n",
        "        self.my_attribute = mybreed\n"
      ],
      "execution_count": 7,
      "outputs": []
    },
    {
      "cell_type": "code",
      "metadata": {
        "id": "8mi47QdBoTTI",
        "colab_type": "code",
        "colab": {}
      },
      "source": [
        "my_dog = Dog(mybreed = 'Huskie')"
      ],
      "execution_count": 9,
      "outputs": []
    },
    {
      "cell_type": "code",
      "metadata": {
        "id": "tRaY49n5o0Ie",
        "colab_type": "code",
        "colab": {
          "base_uri": "https://localhost:8080/",
          "height": 34
        },
        "outputId": "9b51d01b-7f17-46d7-abf5-b8abee3eac7d"
      },
      "source": [
        "type(my_dog)"
      ],
      "execution_count": 10,
      "outputs": [
        {
          "output_type": "execute_result",
          "data": {
            "text/plain": [
              "__main__.Dog"
            ]
          },
          "metadata": {
            "tags": []
          },
          "execution_count": 10
        }
      ]
    },
    {
      "cell_type": "code",
      "metadata": {
        "id": "bHrA1wsko5oW",
        "colab_type": "code",
        "colab": {
          "base_uri": "https://localhost:8080/",
          "height": 34
        },
        "outputId": "1dd08501-dba6-41ce-9151-c53acbbb088a"
      },
      "source": [
        "# Calling the attribute\n",
        "my_dog.my_attribute"
      ],
      "execution_count": 11,
      "outputs": [
        {
          "output_type": "execute_result",
          "data": {
            "text/plain": [
              "'Huskie'"
            ]
          },
          "metadata": {
            "tags": []
          },
          "execution_count": 11
        }
      ]
    },
    {
      "cell_type": "code",
      "metadata": {
        "id": "gR-YiFGwpTcs",
        "colab_type": "code",
        "colab": {
          "base_uri": "https://localhost:8080/",
          "height": 34
        },
        "outputId": "af25fd50-69b1-4a08-8e6b-20d9985a0443"
      },
      "source": [
        "# Cleaner code\n",
        "\n",
        "class Dog():\n",
        "\n",
        "    def __init__(self, breed, name, spots):\n",
        "        \n",
        "        # Here both breed & name is String\n",
        "        # But spots is boolean\n",
        "        self.breed = breed\n",
        "        self.name  = name\n",
        "\n",
        "        # Expect the Boolean True/False\n",
        "        self.spots = spots\n",
        "\n",
        "my_dog = Dog(breed = 'Labra')\n",
        "my_dog.breed\n"
      ],
      "execution_count": 12,
      "outputs": [
        {
          "output_type": "execute_result",
          "data": {
            "text/plain": [
              "'Huskie'"
            ]
          },
          "metadata": {
            "tags": []
          },
          "execution_count": 12
        }
      ]
    },
    {
      "cell_type": "markdown",
      "metadata": {
        "id": "oxnx17K_fxJv",
        "colab_type": "text"
      },
      "source": [
        "$\\color{green}{\\textbf{Instance Attributes}}$ :\n",
        "\n",
        "- **Attributes** are defined inside the `__init__` method of the `class`. It is the **initializer method** that is *first run* as soon as the **object** is created.\n",
        "\n",
        "- All classes create **objects**, and all **objects** contain characteristics called **attributes** \n",
        "\n",
        "- it uses the `__init__()` **method** to initialize (e.g. specify) an object’s initial attributes by giving them their default value (or state).\n",
        "\n",
        "- This **method** must have at least one argument as well as the `self` variable, which refers to the object itself (e.g., Dog).\n",
        "\n",
        "\n",
        "\n"
      ]
    },
    {
      "cell_type": "markdown",
      "metadata": {
        "id": "HjZfRZy8sKHW",
        "colab_type": "text"
      },
      "source": [
        "The difference between a class and an object.\n",
        "\n",
        "-  `__init__` doesn't initialize a class, *it initializes an **instance** of a class or an object*.\n",
        "\n",
        " - Each dog has colour, but dogs as a class don't.\n",
        " \n",
        " - Each dog has four or fewer feet, but the class of dogs doesn't.\n"
      ]
    },
    {
      "cell_type": "markdown",
      "metadata": {
        "id": "UnFKsMGis9p5",
        "colab_type": "text"
      },
      "source": [
        "[Why do we use __init__ in Python classes?](https://stackoverflow.com/questions/8609153/why-do-we-use-init-in-python-classes)\n",
        "\n",
        "\n",
        "\n",
        "```\n",
        "class Dog:\n",
        "    def __init__(self, legs, colour):\n",
        "        self.legs = legs\n",
        "        self.colour = colour\n",
        "\n",
        "fido = Dog(4, \"brown\")\n",
        "spot = Dog(3, \"mostly yellow\")\n",
        "```\n",
        "\n",
        "\n",
        "- The `__init__` function is called a $\\color{red}{\\textbf{constructor}}$, or $\\color{green}{\\textbf{initializer}}$ , and is automatically called when you create a new **instance** of a class.\n",
        "\n",
        "- Within that function, the newly created object is assigned to the parameter `self`.\n",
        "\n",
        " - The notation `self.legs` is an attribute called legs of the object in the variable self. \n",
        " - Attributes are kind of like variables, but they describe the state of an object, or particular actions (functions) available to the object"
      ]
    },
    {
      "cell_type": "markdown",
      "metadata": {
        "id": "5F5MnUiHhb-v",
        "colab_type": "text"
      },
      "source": [
        "*$\\color{green}{\\textbf{self}}$ :*\n",
        "\n"
      ]
    }
  ]
}