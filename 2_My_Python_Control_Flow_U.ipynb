{
  "nbformat": 4,
  "nbformat_minor": 0,
  "metadata": {
    "colab": {
      "name": "2_My_Python_Control_Flow_U.ipynb",
      "provenance": [],
      "collapsed_sections": [
        "EzWKi_PpwGSn",
        "j24R_yC6p1fJ"
      ],
      "toc_visible": true,
      "authorship_tag": "ABX9TyM+NIm4tA9ts2VH2FNjvGK1",
      "include_colab_link": true
    },
    "kernelspec": {
      "name": "python3",
      "display_name": "Python 3"
    }
  },
  "cells": [
    {
      "cell_type": "markdown",
      "metadata": {
        "id": "view-in-github",
        "colab_type": "text"
      },
      "source": [
        "<a href=\"https://colab.research.google.com/github/mohd-faizy/My_Python_Notebooks_Concept/blob/master/2_My_Python_Control_Flow_U.ipynb\" target=\"_parent\"><img src=\"https://colab.research.google.com/assets/colab-badge.svg\" alt=\"Open In Colab\"/></a>"
      ]
    },
    {
      "cell_type": "markdown",
      "metadata": {
        "id": "r2_x6WHnwfmi",
        "colab_type": "text"
      },
      "source": [
        "# **Control Flow - Python Statement** "
      ]
    },
    {
      "cell_type": "markdown",
      "metadata": {
        "id": "EzWKi_PpwGSn",
        "colab_type": "text"
      },
      "source": [
        "## **`if elif` & `else`**\n"
      ]
    },
    {
      "cell_type": "code",
      "metadata": {
        "id": "aukRatazeP8r",
        "colab_type": "code",
        "outputId": "efded88f-c99d-4ba9-a534-7f3b8ec3967f",
        "colab": {
          "base_uri": "https://localhost:8080/",
          "height": 34
        }
      },
      "source": [
        "hungry = True \n",
        "\n",
        "if hungry:\n",
        "    print('Feed Me!')\n",
        "else:\n",
        "    print('I m not hungry')"
      ],
      "execution_count": 0,
      "outputs": [
        {
          "output_type": "stream",
          "text": [
            "Feed Me!\n"
          ],
          "name": "stdout"
        }
      ]
    },
    {
      "cell_type": "code",
      "metadata": {
        "id": "FnXmMawinvcg",
        "colab_type": "code",
        "outputId": "5d3341da-7aa3-4d34-e7e7-04923ffc4cbb",
        "colab": {
          "base_uri": "https://localhost:8080/",
          "height": 34
        }
      },
      "source": [
        "loc = 'Auto shop'\n",
        "\n",
        "if loc == 'Auto shop':\n",
        "    print('Cars are cool!')\n",
        "elif loc == 'Bank':\n",
        "    print('Monry is cool!')\n",
        "elif loc == 'Store':\n",
        "    print('Welcome to the Store!')\n",
        "else:\n",
        "    print('I do not know the much')"
      ],
      "execution_count": 0,
      "outputs": [
        {
          "output_type": "stream",
          "text": [
            "Cars are cool!\n"
          ],
          "name": "stdout"
        }
      ]
    },
    {
      "cell_type": "markdown",
      "metadata": {
        "id": "j24R_yC6p1fJ",
        "colab_type": "text"
      },
      "source": [
        "## **`for` Loop**"
      ]
    },
    {
      "cell_type": "code",
      "metadata": {
        "id": "Yhf2y96NpfqO",
        "colab_type": "code",
        "outputId": "8bfe03c9-ca29-4389-a89c-e80afc153f99",
        "colab": {
          "base_uri": "https://localhost:8080/",
          "height": 34
        }
      },
      "source": [
        "# Iterating through the list\n",
        "mylist = [1,2,3,4,5]\n",
        "\n",
        "for num in mylist:\n",
        "    print(num, end='  ')"
      ],
      "execution_count": 0,
      "outputs": [
        {
          "output_type": "stream",
          "text": [
            "1  2  3  4  5  "
          ],
          "name": "stdout"
        }
      ]
    },
    {
      "cell_type": "code",
      "metadata": {
        "id": "yZZ__UzjsF6U",
        "colab_type": "code",
        "outputId": "f416926e-d8e4-4f3c-ca19-013abf1ff93c",
        "colab": {
          "base_uri": "https://localhost:8080/",
          "height": 105
        }
      },
      "source": [
        "mylist = [1,2,3,4,5]\n",
        "\n",
        "for num in mylist:\n",
        "    print('Hello!')"
      ],
      "execution_count": 0,
      "outputs": [
        {
          "output_type": "stream",
          "text": [
            "Hello!\n",
            "Hello!\n",
            "Hello!\n",
            "Hello!\n",
            "Hello!\n"
          ],
          "name": "stdout"
        }
      ]
    },
    {
      "cell_type": "code",
      "metadata": {
        "id": "IHdVdUGZsYP8",
        "colab_type": "code",
        "outputId": "780493a2-b177-49ab-d1f8-ae5cdcaea30e",
        "colab": {
          "base_uri": "https://localhost:8080/",
          "height": 194
        }
      },
      "source": [
        "# Printing odd and even number of a list\n",
        "\n",
        "my_list = [1,2,3,4,5,6,7,8,9,10]\n",
        "\n",
        "for num in my_list:\n",
        "    if num % 2 == 0:\n",
        "        print(f'even Number:{num}')\n",
        "    else:\n",
        "        print(f'odd Number: {num}')"
      ],
      "execution_count": 0,
      "outputs": [
        {
          "output_type": "stream",
          "text": [
            "odd Number: 1\n",
            "even Number:2\n",
            "odd Number: 3\n",
            "even Number:4\n",
            "odd Number: 5\n",
            "even Number:6\n",
            "odd Number: 7\n",
            "even Number:8\n",
            "odd Number: 9\n",
            "even Number:10\n"
          ],
          "name": "stdout"
        }
      ]
    },
    {
      "cell_type": "code",
      "metadata": {
        "id": "TxUAhX13-wFB",
        "colab_type": "code",
        "outputId": "89fbc9e0-9256-403d-d043-9ef11132da8a",
        "colab": {
          "base_uri": "https://localhost:8080/",
          "height": 34
        }
      },
      "source": [
        "list_sum = 0\n",
        "\n",
        "for num in my_list:\n",
        "    list_sum = list_sum + num\n",
        "    print(list_sum, end = ', ')\n"
      ],
      "execution_count": 0,
      "outputs": [
        {
          "output_type": "stream",
          "text": [
            "1, 3, 6, 10, 15, 21, 28, 36, 45, 55, "
          ],
          "name": "stdout"
        }
      ]
    },
    {
      "cell_type": "markdown",
      "metadata": {
        "id": "HKQcWm_6BiUk",
        "colab_type": "text"
      },
      "source": [
        "[**How to remove last comma from print(string, end=“, ” ?**](https://stackoverflow.com/questions/52230513/python-how-to-remove-last-comma-from-printstring-end)"
      ]
    },
    {
      "cell_type": "code",
      "metadata": {
        "id": "D0E0cAuNC_2X",
        "colab_type": "code",
        "outputId": "935f1ff6-7706-413a-cde9-fc1e26f627b7",
        "colab": {
          "base_uri": "https://localhost:8080/",
          "height": 105
        }
      },
      "source": [
        "# Iterating through the string\n",
        "\n",
        "mystring = 'FAIZY'\n",
        "for letter in mystring:\n",
        "     print(letter)"
      ],
      "execution_count": 0,
      "outputs": [
        {
          "output_type": "stream",
          "text": [
            "F\n",
            "A\n",
            "I\n",
            "Z\n",
            "Y\n"
          ],
          "name": "stdout"
        }
      ]
    },
    {
      "cell_type": "code",
      "metadata": {
        "id": "VKO-9T_iDe2p",
        "colab_type": "code",
        "outputId": "e00a68a5-ca65-48ea-f83d-f93b9c9b6f6a",
        "colab": {
          "base_uri": "https://localhost:8080/",
          "height": 70
        }
      },
      "source": [
        "for _ in 'ICE':\n",
        "    print('Cool!')"
      ],
      "execution_count": 0,
      "outputs": [
        {
          "output_type": "stream",
          "text": [
            "Cool!\n",
            "Cool!\n",
            "Cool!\n"
          ],
          "name": "stdout"
        }
      ]
    },
    {
      "cell_type": "code",
      "metadata": {
        "id": "raFSgj4pE2cM",
        "colab_type": "code",
        "outputId": "415ade7f-4ea1-4638-fabd-d699d52cbc17",
        "colab": {
          "base_uri": "https://localhost:8080/",
          "height": 70
        }
      },
      "source": [
        "# iteration through Tuple\n",
        "\n",
        "tup = (1,2,3)\n",
        "for item in tup:\n",
        "    print(item)"
      ],
      "execution_count": 0,
      "outputs": [
        {
          "output_type": "stream",
          "text": [
            "1\n",
            "2\n",
            "3\n"
          ],
          "name": "stdout"
        }
      ]
    },
    {
      "cell_type": "code",
      "metadata": {
        "id": "F3k-QqclFUxd",
        "colab_type": "code",
        "outputId": "42c4cdd4-2c64-482b-ece4-ec5ca84928fe",
        "colab": {
          "base_uri": "https://localhost:8080/",
          "height": 87
        }
      },
      "source": [
        "# Tuple Un-packing\n",
        "\n",
        "mylist_1 = [(1,2), (3,4), (5,6), (7,8)]\n",
        "\n",
        "for (a,b) in mylist_1:\n",
        "    print(a)\n",
        "    \n"
      ],
      "execution_count": 0,
      "outputs": [
        {
          "output_type": "stream",
          "text": [
            "1\n",
            "3\n",
            "5\n",
            "7\n"
          ],
          "name": "stdout"
        }
      ]
    },
    {
      "cell_type": "code",
      "metadata": {
        "id": "I4PUYNtOJ6JN",
        "colab_type": "code",
        "outputId": "def6497f-5e01-4851-bdcf-37d38a4bf5e6",
        "colab": {
          "base_uri": "https://localhost:8080/",
          "height": 70
        }
      },
      "source": [
        "my_list_1 = [(1,2,3), (4,5,6), (7,8,9)]\n",
        "\n",
        "for (a,b,c) in my_list_1:\n",
        "    print(b)"
      ],
      "execution_count": 0,
      "outputs": [
        {
          "output_type": "stream",
          "text": [
            "2\n",
            "5\n",
            "8\n"
          ],
          "name": "stdout"
        }
      ]
    },
    {
      "cell_type": "code",
      "metadata": {
        "id": "hkCQk0xCKXEZ",
        "colab_type": "code",
        "outputId": "789d09e9-62bb-41c5-c98a-91ac7cf1cc87",
        "colab": {
          "base_uri": "https://localhost:8080/",
          "height": 70
        }
      },
      "source": [
        "# Iteration through a dictionary\n",
        "# By default we iterate through Keys\n",
        "\n",
        "dict_1 = {'k1': 1, 'k2': 2, 'k3': 3}\n",
        "\n",
        "for (key, value) in dict_1.items():\n",
        "    print(value)"
      ],
      "execution_count": 0,
      "outputs": [
        {
          "output_type": "stream",
          "text": [
            "1\n",
            "2\n",
            "3\n"
          ],
          "name": "stdout"
        }
      ]
    },
    {
      "cell_type": "markdown",
      "metadata": {
        "id": "ubPvHVApBr5W",
        "colab_type": "text"
      },
      "source": [
        "## **`while` loop**"
      ]
    },
    {
      "cell_type": "code",
      "metadata": {
        "id": "6A1BVs60CPZ_",
        "colab_type": "code",
        "outputId": "2c7d05ac-b913-47f6-87cc-aec5af97b456",
        "colab": {
          "base_uri": "https://localhost:8080/"
        }
      },
      "source": [
        "x = 0\n",
        "\n",
        "while x < 5:\n",
        "    print(f'The current value of x is {x} ')\n",
        "    x += 1\n",
        "else:\n",
        "    print('x is Not less then 5')"
      ],
      "execution_count": 0,
      "outputs": [
        {
          "output_type": "stream",
          "text": [
            "The current value of x is 0 \n",
            "The current value of x is 1 \n",
            "The current value of x is 2 \n",
            "The current value of x is 3 \n",
            "The current value of x is 4 \n",
            "x is Not less then 5\n"
          ],
          "name": "stdout"
        }
      ]
    },
    {
      "cell_type": "markdown",
      "metadata": {
        "id": "DEqlGaMZVWKj",
        "colab_type": "text"
      },
      "source": [
        "## **`break, continue, pass`**\n",
        "\n"
      ]
    },
    {
      "cell_type": "markdown",
      "metadata": {
        "id": "orUORl2HWmdP",
        "colab_type": "text"
      },
      "source": [
        "__`pass`__-- Do nothing at all.\n",
        "\n",
        "\n",
        "Programer sometimes keep it as a placeholder to avoide errors to fill it later when working on the larger codes.\n"
      ]
    },
    {
      "cell_type": "code",
      "metadata": {
        "id": "9t4i68LlVVCw",
        "colab_type": "code",
        "colab": {}
      },
      "source": [
        "x = [1,2,3]\n",
        " \n",
        "for items in x:\n",
        "    pass"
      ],
      "execution_count": 0,
      "outputs": []
    },
    {
      "cell_type": "markdown",
      "metadata": {
        "id": "Is9gU9BYYQu-",
        "colab_type": "text"
      },
      "source": [
        "__`continue`__"
      ]
    },
    {
      "cell_type": "code",
      "metadata": {
        "id": "GU1tgpf0Xs3l",
        "colab_type": "code",
        "outputId": "9b32ddd3-6a9e-4fea-8c5d-d58f5ead0035",
        "colab": {
          "base_uri": "https://localhost:8080/"
        }
      },
      "source": [
        "mystring = 'faizy'\n",
        "for letter in mystring:\n",
        "    if letter == 'a':\n",
        "        continue\n",
        "    print(letter)"
      ],
      "execution_count": 0,
      "outputs": [
        {
          "output_type": "stream",
          "text": [
            "f\n",
            "i\n",
            "z\n",
            "y\n"
          ],
          "name": "stdout"
        }
      ]
    },
    {
      "cell_type": "markdown",
      "metadata": {
        "id": "oYjp5MaFqfOW",
        "colab_type": "text"
      },
      "source": [
        "**`break`**"
      ]
    },
    {
      "cell_type": "code",
      "metadata": {
        "id": "NEYu-gdAqt-7",
        "colab_type": "code",
        "outputId": "5b10aa71-ef8c-4c69-9340-539808d1346b",
        "colab": {
          "base_uri": "https://localhost:8080/"
        }
      },
      "source": [
        "x = 0\n",
        "while x < 5:\n",
        "    if x == 3:\n",
        "        break\n",
        "    print(x)\n",
        "    x += 1 "
      ],
      "execution_count": 0,
      "outputs": [
        {
          "output_type": "stream",
          "text": [
            "0\n",
            "1\n",
            "2\n"
          ],
          "name": "stdout"
        }
      ]
    },
    {
      "cell_type": "markdown",
      "metadata": {
        "id": "1FJzpEwKxra2",
        "colab_type": "text"
      },
      "source": [
        "## **Useful Operators in Python**"
      ]
    },
    {
      "cell_type": "markdown",
      "metadata": {
        "id": "xoJ4cN7A8VZx",
        "colab_type": "text"
      },
      "source": [
        "**`range`** **operater**"
      ]
    },
    {
      "cell_type": "code",
      "metadata": {
        "id": "g-KtN3rgx0f-",
        "colab_type": "code",
        "outputId": "964a49c1-6efd-45e5-bc02-82552546309e",
        "colab": {
          "base_uri": "https://localhost:8080/",
          "height": 105
        }
      },
      "source": [
        "for num in range(0,10,2):\n",
        "    print(num)"
      ],
      "execution_count": 0,
      "outputs": [
        {
          "output_type": "stream",
          "text": [
            "0\n",
            "2\n",
            "4\n",
            "6\n",
            "8\n"
          ],
          "name": "stdout"
        }
      ]
    },
    {
      "cell_type": "markdown",
      "metadata": {
        "id": "yOdD2i8c97yu",
        "colab_type": "text"
      },
      "source": [
        "**Genrating the list of number**"
      ]
    },
    {
      "cell_type": "code",
      "metadata": {
        "id": "yYsBr7GV9S6s",
        "colab_type": "code",
        "outputId": "5c182e65-e401-4d6d-949f-55cb89b9c5c7",
        "colab": {
          "base_uri": "https://localhost:8080/",
          "height": 34
        }
      },
      "source": [
        "list(range(0,20,3))"
      ],
      "execution_count": 0,
      "outputs": [
        {
          "output_type": "execute_result",
          "data": {
            "text/plain": [
              "[0, 3, 6, 9, 12, 15, 18]"
            ]
          },
          "metadata": {
            "tags": []
          },
          "execution_count": 12
        }
      ]
    },
    {
      "cell_type": "markdown",
      "metadata": {
        "id": "QzJnQJKj93zF",
        "colab_type": "text"
      },
      "source": [
        "**Enumertate**\n"
      ]
    },
    {
      "cell_type": "code",
      "metadata": {
        "id": "Z6DYFxMW927E",
        "colab_type": "code",
        "outputId": "674dc13f-5ec8-473d-f3c3-5e637a90c7f7",
        "colab": {
          "base_uri": "https://localhost:8080/",
          "height": 105
        }
      },
      "source": [
        "index_count = 0\n",
        "\n",
        "for letter in 'abcde':\n",
        "    print('At index {} the letter is {}'.format(index_count, letter))\n",
        "    index_count += 1"
      ],
      "execution_count": 0,
      "outputs": [
        {
          "output_type": "stream",
          "text": [
            "At index 0 the letter is a\n",
            "At index 1 the letter is b\n",
            "At index 2 the letter is c\n",
            "At index 3 the letter is d\n",
            "At index 4 the letter is e\n"
          ],
          "name": "stdout"
        }
      ]
    },
    {
      "cell_type": "code",
      "metadata": {
        "id": "76fr_0UwHYPy",
        "colab_type": "code",
        "outputId": "fbb2bd3e-6d98-4d0c-9b2c-f6b39af0a001",
        "colab": {
          "base_uri": "https://localhost:8080/",
          "height": 105
        }
      },
      "source": [
        "index_counts = 0\n",
        "word = 'abcde'\n",
        "\n",
        "for letter in word:\n",
        "\n",
        "    print(word[index_counts])\n",
        "    index_counts += 1"
      ],
      "execution_count": 0,
      "outputs": [
        {
          "output_type": "stream",
          "text": [
            "a\n",
            "b\n",
            "c\n",
            "d\n",
            "e\n"
          ],
          "name": "stdout"
        }
      ]
    },
    {
      "cell_type": "markdown",
      "metadata": {
        "id": "OFUwbIpvKj6M",
        "colab_type": "text"
      },
      "source": [
        "**Enumerate function** will the **index counter** and the **function itself**."
      ]
    },
    {
      "cell_type": "code",
      "metadata": {
        "id": "ZXqJv7YWJW-v",
        "colab_type": "code",
        "outputId": "beaf9838-fad9-4b04-e49e-b3a451b0024c",
        "colab": {
          "base_uri": "https://localhost:8080/",
          "height": 105
        }
      },
      "source": [
        "word = 'abcde'\n",
        "for items in enumerate(word):\n",
        "    print(items)             # Return the tuples              "
      ],
      "execution_count": 0,
      "outputs": [
        {
          "output_type": "stream",
          "text": [
            "(0, 'a')\n",
            "(1, 'b')\n",
            "(2, 'c')\n",
            "(3, 'd')\n",
            "(4, 'e')\n"
          ],
          "name": "stdout"
        }
      ]
    },
    {
      "cell_type": "code",
      "metadata": {
        "id": "-llKUdbUIkhD",
        "colab_type": "code",
        "outputId": "514ff4bd-d2b5-4f57-f18f-83f15dbd17c8",
        "colab": {
          "base_uri": "https://localhost:8080/",
          "height": 176
        }
      },
      "source": [
        "word = 'CAT'\n",
        "for (index,letter) in enumerate(word):\n",
        "    print(index)\n",
        "    print(letter)\n",
        "    print('\\n')"
      ],
      "execution_count": 0,
      "outputs": [
        {
          "output_type": "stream",
          "text": [
            "0\n",
            "C\n",
            "\n",
            "1\n",
            "A\n",
            "\n",
            "2\n",
            "T\n",
            "\n"
          ],
          "name": "stdout"
        }
      ]
    },
    {
      "cell_type": "markdown",
      "metadata": {
        "id": "-nFI6UGGLNdR",
        "colab_type": "text"
      },
      "source": [
        "**Zip function** - zips the two list together"
      ]
    },
    {
      "cell_type": "code",
      "metadata": {
        "id": "HW3gACwrLMig",
        "colab_type": "code",
        "outputId": "5e48a255-5fe6-4ac6-edcd-1d20118d2e55",
        "colab": {
          "base_uri": "https://localhost:8080/",
          "height": 70
        }
      },
      "source": [
        "mylist1 = [1,2,3,4]       \n",
        "mylist2 = ['a', 'b', 'c']\n",
        "\n",
        "for items in zip(mylist1, mylist2):\n",
        "\n",
        "#the output will ignore everything that is extra & zip the shortest\n",
        "    print(items)                   \n"
      ],
      "execution_count": 0,
      "outputs": [
        {
          "output_type": "stream",
          "text": [
            "(1, 'a')\n",
            "(2, 'b')\n",
            "(3, 'c')\n"
          ],
          "name": "stdout"
        }
      ]
    },
    {
      "cell_type": "code",
      "metadata": {
        "id": "jcqsoC5Bk9-Y",
        "colab_type": "code",
        "outputId": "d8556245-541a-4af5-eff0-b43953fae9ab",
        "colab": {
          "base_uri": "https://localhost:8080/",
          "height": 34
        }
      },
      "source": [
        "# To check wether the object is presrnt in the list/dict\n",
        "\n",
        "'a' in ['a', 'b', 'c']\n",
        "'k1' in {\"k1\":11, 'k2':22, 'k3':33} "
      ],
      "execution_count": 0,
      "outputs": [
        {
          "output_type": "execute_result",
          "data": {
            "text/plain": [
              "True"
            ]
          },
          "metadata": {
            "tags": []
          },
          "execution_count": 8
        }
      ]
    },
    {
      "cell_type": "code",
      "metadata": {
        "id": "9ZkFjHW0ltdi",
        "colab_type": "code",
        "outputId": "140493a5-c662-4860-fcf9-48023cb13cac",
        "colab": {
          "base_uri": "https://localhost:8080/",
          "height": 34
        }
      },
      "source": [
        "d = {\"k1\":11, 'k2':22, 'k3':33}\n",
        "11 in d.values()"
      ],
      "execution_count": 0,
      "outputs": [
        {
          "output_type": "execute_result",
          "data": {
            "text/plain": [
              "True"
            ]
          },
          "metadata": {
            "tags": []
          },
          "execution_count": 9
        }
      ]
    },
    {
      "cell_type": "code",
      "metadata": {
        "id": "5ccEf69Gl47-",
        "colab_type": "code",
        "outputId": "db584310-77a5-44f8-9202-11e37f5f247d",
        "colab": {
          "base_uri": "https://localhost:8080/",
          "height": 52
        }
      },
      "source": [
        "list_x = [10,20,30,40,50,100,101]\n",
        "print(min(list_x))\n",
        "print(max(list_x))"
      ],
      "execution_count": 0,
      "outputs": [
        {
          "output_type": "stream",
          "text": [
            "10\n",
            "101\n"
          ],
          "name": "stdout"
        }
      ]
    },
    {
      "cell_type": "markdown",
      "metadata": {
        "id": "EbYMRNGPmhPO",
        "colab_type": "text"
      },
      "source": [
        "__`Random`__ library"
      ]
    },
    {
      "cell_type": "code",
      "metadata": {
        "id": "UykQMktcm2HM",
        "colab_type": "code",
        "outputId": "01f4bc83-0741-43f0-e130-e5039736b904",
        "colab": {
          "base_uri": "https://localhost:8080/",
          "height": 34
        }
      },
      "source": [
        "from random import shuffle\n",
        "mylist_x = [1,2,3,4,5,6,7,8,9,10]\n",
        "shuffle(mylist_x)\n",
        "print(mylist_x)"
      ],
      "execution_count": 0,
      "outputs": [
        {
          "output_type": "stream",
          "text": [
            "[8, 6, 1, 4, 3, 5, 2, 7, 10, 9]\n"
          ],
          "name": "stdout"
        }
      ]
    },
    {
      "cell_type": "code",
      "metadata": {
        "id": "O6csP_FJns4L",
        "colab_type": "code",
        "outputId": "81469dca-61e6-44fb-cb0b-a45a0f189b29",
        "colab": {
          "base_uri": "https://localhost:8080/",
          "height": 34
        }
      },
      "source": [
        "from random import randint\n",
        "\n",
        "mynum = randint(0,100)\n",
        "print(mynum)"
      ],
      "execution_count": 0,
      "outputs": [
        {
          "output_type": "stream",
          "text": [
            "50\n"
          ],
          "name": "stdout"
        }
      ]
    },
    {
      "cell_type": "code",
      "metadata": {
        "id": "t0_O1IuEoxd-",
        "colab_type": "code",
        "outputId": "837a95e5-50d9-4451-8415-3a7c06aee417",
        "colab": {
          "base_uri": "https://localhost:8080/",
          "height": 90
        }
      },
      "source": [
        "# input function \n",
        "result = input('Favorite Number:')\n",
        "type(result)\n",
        "print(int(result))"
      ],
      "execution_count": 0,
      "outputs": [
        {
          "output_type": "stream",
          "text": [
            "Favorite Number:32\n",
            "32.0\n",
            "32\n"
          ],
          "name": "stdout"
        }
      ]
    },
    {
      "cell_type": "markdown",
      "metadata": {
        "id": "pdWoUqtvuV1M",
        "colab_type": "text"
      },
      "source": [
        "## **List Comprehensions**"
      ]
    },
    {
      "cell_type": "code",
      "metadata": {
        "id": "oN819GIC3h4D",
        "colab_type": "code",
        "outputId": "2c00970b-62f3-4c81-d968-b256bfb5400f",
        "colab": {
          "base_uri": "https://localhost:8080/",
          "height": 34
        }
      },
      "source": [
        "# Appending the item to the list\n",
        "  \n",
        "mystring = 'Hello'\n",
        "mylist = []\n",
        "\n",
        "for letter in mystring:\n",
        "    mylist.append(letter)\n",
        "print(mylist)"
      ],
      "execution_count": 0,
      "outputs": [
        {
          "output_type": "stream",
          "text": [
            "['H', 'e', 'l', 'l', 'o']\n"
          ],
          "name": "stdout"
        }
      ]
    },
    {
      "cell_type": "code",
      "metadata": {
        "id": "BMqECtZ022DM",
        "colab_type": "code",
        "outputId": "d059cef6-429d-4cdd-cee6-fd7079afa149",
        "colab": {
          "base_uri": "https://localhost:8080/",
          "height": 34
        }
      },
      "source": [
        "# List Comprehensions -- flatning the for loop \n",
        "string_n ='FAIZY'\n",
        "mylist_n = [letter for letter in string_n]\n",
        "print(mylist_n)"
      ],
      "execution_count": 0,
      "outputs": [
        {
          "output_type": "stream",
          "text": [
            "['F', 'A', 'I', 'Z', 'Y']\n"
          ],
          "name": "stdout"
        }
      ]
    },
    {
      "cell_type": "code",
      "metadata": {
        "id": "xa11iT-D3pjx",
        "colab_type": "code",
        "outputId": "d3e72f7e-efa1-424c-eef6-59a35dc65a9b",
        "colab": {
          "base_uri": "https://localhost:8080/",
          "height": 34
        }
      },
      "source": [
        "list_n = [x for x in 'word']\n",
        "print(list_n)"
      ],
      "execution_count": 0,
      "outputs": [
        {
          "output_type": "stream",
          "text": [
            "['w', 'o', 'r', 'd']\n"
          ],
          "name": "stdout"
        }
      ]
    },
    {
      "cell_type": "code",
      "metadata": {
        "id": "Jg23xccD4EgI",
        "colab_type": "code",
        "outputId": "7ec4e48a-48a9-4f30-d3e1-981b92745e0a",
        "colab": {
          "base_uri": "https://localhost:8080/",
          "height": 34
        }
      },
      "source": [
        "mylist = [num**2 for num in range(0,11)]\n",
        "print(mylist)"
      ],
      "execution_count": 0,
      "outputs": [
        {
          "output_type": "stream",
          "text": [
            "[0, 1, 4, 9, 16, 25, 36, 49, 64, 81, 100]\n"
          ],
          "name": "stdout"
        }
      ]
    },
    {
      "cell_type": "code",
      "metadata": {
        "id": "Y5EwMQy34uhV",
        "colab_type": "code",
        "outputId": "4b7742d4-172d-493e-b987-b5c2489f35f8",
        "colab": {
          "base_uri": "https://localhost:8080/",
          "height": 34
        }
      },
      "source": [
        "# printing the even number in the flaten for loop\n",
        "\n",
        "mylist = [x**2 for x in range(0,11) if x%2 == 0]\n",
        "print(mylist)"
      ],
      "execution_count": 0,
      "outputs": [
        {
          "output_type": "stream",
          "text": [
            "[0, 4, 16, 36, 64, 100]\n"
          ],
          "name": "stdout"
        }
      ]
    },
    {
      "cell_type": "code",
      "metadata": {
        "id": "wypWKuBv5RIQ",
        "colab_type": "code",
        "outputId": "b67fedb2-535a-469f-b610-08608b4408b0",
        "colab": {
          "base_uri": "https://localhost:8080/",
          "height": 34
        }
      },
      "source": [
        "# fahrenheit to celcius\n",
        "celcius = [0, 10, 20, 34.5, 100]\n",
        "fahrenheit = [((9/5)*temp +32) for temp in celcius]\n",
        "print(fahrenheit)"
      ],
      "execution_count": 0,
      "outputs": [
        {
          "output_type": "stream",
          "text": [
            "[32.0, 50.0, 68.0, 94.1, 212.0]\n"
          ],
          "name": "stdout"
        }
      ]
    },
    {
      "cell_type": "code",
      "metadata": {
        "id": "gmU8-3UI63pp",
        "colab_type": "code",
        "outputId": "67e2968a-fa81-462b-9cbe-e9488f0712cd",
        "colab": {
          "base_uri": "https://localhost:8080/",
          "height": 34
        }
      },
      "source": [
        "celcius = [0, 10, 20, 34.5, 100]\n",
        "fahrenheit = []\n",
        "\n",
        "for temp in celcius:\n",
        "    fahrenheit.append((9/5)*temp +32)\n",
        "print(fahrenheit)"
      ],
      "execution_count": 0,
      "outputs": [
        {
          "output_type": "stream",
          "text": [
            "[32.0, 50.0, 68.0, 94.1, 212.0]\n"
          ],
          "name": "stdout"
        }
      ]
    },
    {
      "cell_type": "code",
      "metadata": {
        "id": "2GJGTUIT8KE0",
        "colab_type": "code",
        "outputId": "22e5ca5c-7d7d-4911-b29f-73a4340b716a",
        "colab": {
          "base_uri": "https://localhost:8080/",
          "height": 34
        }
      },
      "source": [
        "mylist = []\n",
        "\n",
        "for x in [1, 2, 3]:\n",
        "    for y in [2, 3, 4]:\n",
        "        mylist.append(x**y)\n",
        "print(mylist)"
      ],
      "execution_count": 0,
      "outputs": [
        {
          "output_type": "stream",
          "text": [
            "[1, 1, 1, 4, 8, 16, 9, 27, 81]\n"
          ],
          "name": "stdout"
        }
      ]
    }
  ]
}